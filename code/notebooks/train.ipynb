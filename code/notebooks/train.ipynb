{
  "cells": [
    {
      "cell_type": "markdown",
      "metadata": {
        "id": "view-in-github",
        "colab_type": "text"
      },
      "source": [
        "<a href=\"https://colab.research.google.com/github/juan-villa02/medical_vqa_vlm/blob/main/code/notebooks/train.ipynb\" target=\"_parent\"><img src=\"https://colab.research.google.com/assets/colab-badge.svg\" alt=\"Open In Colab\"/></a>"
      ]
    },
    {
      "cell_type": "markdown",
      "metadata": {
        "id": "9gIbSRmC_Q8o"
      },
      "source": [
        "# VQA Model - BERT + ResNet18"
      ]
    },
    {
      "cell_type": "markdown",
      "metadata": {
        "id": "nnubYJEE_g7f"
      },
      "source": [
        "## Libraries/Dependencies"
      ]
    },
    {
      "cell_type": "code",
      "execution_count": null,
      "metadata": {
        "id": "JOxuYqd1_aMO"
      },
      "outputs": [],
      "source": [
        "# PyTorch framework\n",
        "import torch\n",
        "import torch.nn as nn\n",
        "import torch.nn.functional as F\n",
        "from torch.nn.utils.rnn import pad_sequence\n",
        "from torch.utils.data import DataLoader, Dataset\n",
        "import torchvision.transforms as transforms\n",
        "import torchvision.models as models\n",
        "import torchvision.utils as utils\n",
        "# Image and mask handling\n",
        "from PIL import Image\n",
        "from skimage import transform\n",
        "import scipy.io as sio\n",
        "# Transformers (Hugginface)\n",
        "from transformers import AutoTokenizer, BertForQuestionAnswering, VisualBertModel, VisualBertForQuestionAnswering, VisualBertConfig\n",
        "# Attention visualization\n",
        "from bertviz import head_view\n",
        "import seaborn as sns\n",
        "# Matplotlib\n",
        "import matplotlib.pyplot as plt\n",
        "# Numpy\n",
        "import numpy as np\n",
        "# Extra dependencies\n",
        "import json\n",
        "import os\n",
        "from tqdm import tqdm\n",
        "import zipfile"
      ]
    },
    {
      "cell_type": "code",
      "execution_count": null,
      "metadata": {
        "id": "d29Ogg0EBJgx",
        "outputId": "3e229c77-9821-4a81-9668-e258fc534a8c",
        "colab": {
          "base_uri": "https://localhost:8080/"
        }
      },
      "outputs": [
        {
          "output_type": "stream",
          "name": "stdout",
          "text": [
            "cuda:0\n"
          ]
        }
      ],
      "source": [
        "# Set training device to GPU if available\n",
        "device = torch.device(\"cuda:0\" if torch.cuda.is_available() else \"cpu\")\n",
        "print(device)"
      ]
    },
    {
      "cell_type": "markdown",
      "metadata": {
        "id": "-5MQ2XccBctw"
      },
      "source": [
        "## Paths & Data Extraction"
      ]
    },
    {
      "cell_type": "code",
      "execution_count": null,
      "metadata": {
        "id": "4bhmZStTCxv4",
        "outputId": "de5dc262-95e5-40a9-c0fe-81e93fd7cd88",
        "colab": {
          "base_uri": "https://localhost:8080/"
        }
      },
      "outputs": [
        {
          "output_type": "stream",
          "name": "stdout",
          "text": [
            "Mounted at /content/drive\n"
          ]
        }
      ],
      "source": [
        "from google.colab import drive\n",
        "drive.mount('/content/drive')"
      ]
    },
    {
      "cell_type": "code",
      "execution_count": null,
      "metadata": {
        "id": "Lhz88OSQBaIZ"
      },
      "outputs": [],
      "source": [
        "path_dir = '.'\n",
        "path_dir = '/content/drive/MyDrive/TFG Juan Villanueva/databases_qa.zip'"
      ]
    },
    {
      "cell_type": "code",
      "execution_count": null,
      "metadata": {
        "id": "MB-bgRNCoPqN"
      },
      "outputs": [],
      "source": [
        "# Data folder\n",
        "data_folder = './data/'"
      ]
    },
    {
      "cell_type": "code",
      "execution_count": null,
      "metadata": {
        "id": "-Nuib-S0pXlU"
      },
      "outputs": [],
      "source": [
        "# ISIC_2016 database\n",
        "train_ISIC_path = 'databases_qa/ISIC_2016'"
      ]
    },
    {
      "cell_type": "code",
      "source": [
        "# def filter_json(json_file, images_dir, output_file):\n",
        "#    filtered_data = []\n",
        "\n",
        "#    with open(json_file, 'r') as f:\n",
        "#        data = json.load(f)\n",
        "\n",
        "#        for item in data:\n",
        "#            image_id = item['image_id'] + '.jpg'\n",
        "#            image_path = os.path.join(images_dir, image_id)\n",
        "\n",
        "#            # Check if the image file exists\n",
        "#            if os.path.exists(image_path):\n",
        "#                filtered_data.append(item)\n",
        "\n",
        "#    # Write the filtered data to the output JSON file\n",
        "#    with open(output_file, 'w') as f:\n",
        "#        json.dump(filtered_data, f, indent=4)\n",
        "\n",
        "#    return"
      ],
      "metadata": {
        "id": "OdoT841ba95x"
      },
      "execution_count": null,
      "outputs": []
    },
    {
      "cell_type": "code",
      "source": [
        "# json_file = '/content/data/databases_qa/ISIC_2016/qa_ISIC.json'\n",
        "# images_dir = '/content/data/databases_qa/ISIC_2016/images/ISBI2016_ISIC_Part1_Test_Data_orig'\n",
        "# output_file = 'qa_filtered_ISIC.json'\n",
        "# filter_json(json_file, images_dir, output_file)"
      ],
      "metadata": {
        "id": "shV8YZa3bA5u"
      },
      "execution_count": null,
      "outputs": []
    },
    {
      "cell_type": "code",
      "source": [
        "# ISIC_2016 database (images and masks)\n",
        "train_extra_ISIC_path = 'ISBI2016_ISIC_Part3_Training_Data_orig'"
      ],
      "metadata": {
        "id": "ZHU5hHJY-pDw"
      },
      "execution_count": null,
      "outputs": []
    },
    {
      "cell_type": "code",
      "execution_count": null,
      "metadata": {
        "id": "gMjnxi-_p38f"
      },
      "outputs": [],
      "source": [
        "# Pizarro database (images)\n",
        "pizarro_path = 'databases_qa/pizarro'"
      ]
    },
    {
      "cell_type": "code",
      "execution_count": null,
      "metadata": {
        "id": "vcY75F9to4XA"
      },
      "outputs": [],
      "source": [
        "# Function to extract databases from the main zip file\n",
        "def extract_databases(zip_path, extract_path):\n",
        "    with zipfile.ZipFile(zip_path, 'r') as zip_ref:\n",
        "        zip_ref.extractall(extract_path)"
      ]
    },
    {
      "cell_type": "code",
      "execution_count": null,
      "metadata": {
        "id": "XecsY9GIlCDx"
      },
      "outputs": [],
      "source": [
        "# Extract all databases from the main zip file\n",
        "if path_dir != '.':\n",
        "  extract_databases(path_dir, data_folder)"
      ]
    },
    {
      "cell_type": "code",
      "execution_count": null,
      "metadata": {
        "id": "IenAqE-1rKgD"
      },
      "outputs": [],
      "source": [
        "# ISIC_2016 images\n",
        "database1_path = os.path.join(data_folder, train_ISIC_path)"
      ]
    },
    {
      "cell_type": "code",
      "execution_count": null,
      "metadata": {
        "id": "Bfi5boA0s727"
      },
      "outputs": [],
      "source": [
        "# Pizarro images\n",
        "# 500 imágenes; Las 46 primeras son más complejas, en cuanto a diagnóstico. (Entrega 1) El resto están más equilibradas (Entrega 2-5)\n",
        "database2_path = os.path.join(data_folder, pizarro_path)"
      ]
    },
    {
      "cell_type": "markdown",
      "metadata": {
        "id": "SedFsMzrAegB"
      },
      "source": [
        "## VQA Dataset - Images, Masks, & QA"
      ]
    },
    {
      "cell_type": "code",
      "execution_count": null,
      "metadata": {
        "id": "_AUIrbp_w4CS"
      },
      "outputs": [],
      "source": [
        "# Dataset class to load images and questions\n",
        "class VQADataset(Dataset):\n",
        "    def __init__(self, data_dir, json_file, tokenizer=None, transform=None, extraPath=None):\n",
        "        self.data_dir = data_dir\n",
        "        self.images_dir = os.path.join(self.data_dir, 'images')\n",
        "        self.masks_dir = os.path.join(self.data_dir, 'masks')\n",
        "\n",
        "        # Handle special ISIC data folder\n",
        "        self.extraPath = extraPath\n",
        "        if self.extraPath is not None:\n",
        "            self.images_dir = os.path.join(self.images_dir, self.extraPath)\n",
        "            self.masks_dir = os.path.join(self.masks_dir, self.extraPath)\n",
        "\n",
        "        self.transform = transform\n",
        "        self.tokenizer = tokenizer\n",
        "\n",
        "        with open(json_file, 'r') as f:\n",
        "            self.data = json.load(f)\n",
        "\n",
        "    def __len__(self):\n",
        "        return len(self.data)\n",
        "\n",
        "    def __getitem__(self, idx):\n",
        "\n",
        "        item = self.data[idx]\n",
        "        image_path = os.path.join(self.images_dir, item['image_id'])\n",
        "\n",
        "        # Ensure the image ID ends with \".jpg\"\n",
        "        if not image_path.endswith(\".jpg\"):\n",
        "            image_path += \".jpg\"\n",
        "\n",
        "        # Check if the image is available\n",
        "        try:\n",
        "          image = Image.open(image_path).convert('RGB')\n",
        "\n",
        "          # Case 1: Pizarro dataset\n",
        "          if self.extraPath is None:\n",
        "            mask_id = item['image_id'].split('.')[0]\n",
        "            mask_name = 'L' + mask_id + '.pgm'\n",
        "            mask_path = os.path.join(self.masks_dir, mask_name)\n",
        "            mask = Image.open(mask_path)\n",
        "\n",
        "          # Case 2: ISIC dataset\n",
        "          else:\n",
        "            mask_path = os.path.join(self.masks_dir, item['image_id']) + '_Segmentation.png'\n",
        "            mask = Image.open(mask_path)\n",
        "\n",
        "          if self.transform:\n",
        "              image, mask = self.transform((image, mask))\n",
        "\n",
        "          # Store questions and answers in two different arrays\n",
        "          qa_pairs = item['qa_pairs']\n",
        "          questions = [qa['question'] for qa in qa_pairs]\n",
        "          answers = [qa['answer'] for qa in qa_pairs]\n",
        "\n",
        "        except FileNotFoundError as e:\n",
        "\n",
        "          image = None\n",
        "          mask = None\n",
        "          questions = None\n",
        "          answers = None\n",
        "\n",
        "        return image, mask, questions, answers"
      ]
    },
    {
      "cell_type": "markdown",
      "metadata": {
        "id": "---H6oXn4860"
      },
      "source": [
        "## Load pre-trained ResNet18"
      ]
    },
    {
      "cell_type": "code",
      "execution_count": null,
      "metadata": {
        "id": "cXzT4ZfT5BTU"
      },
      "outputs": [],
      "source": [
        "# Load ResNet-18 model from .pth file\n",
        "def load_resnet(path, optimizer=None, scheduler=None):\n",
        "    resnet = models.resnet18()\n",
        "    # Remove final fully connected layer and avg pooling (we do not want the model to return labels but features with dimension)\n",
        "    resnet.fc = nn.Identity()\n",
        "    resnet.avgpool = nn.Identity()\n",
        "\n",
        "    # Load the weights\n",
        "    state_dict = torch.load(path, map_location=device)['state_dict']\n",
        "\n",
        "    # Remove unexpected keys if they exist\n",
        "    unexpected_keys = ['fc.weight', 'fc.bias']\n",
        "    for key in unexpected_keys:\n",
        "        if key in state_dict:\n",
        "            del state_dict[key]\n",
        "\n",
        "    # Load the weights\n",
        "    resnet.load_state_dict(state_dict)\n",
        "    resnet.eval()\n",
        "\n",
        "    if optimizer is not None:\n",
        "        optimizer.load_state_dict(torch.load(path)['optimizer'])\n",
        "    if scheduler is not None:\n",
        "        scheduler.load_state_dict(torch.load(path)['scheduler'])\n",
        "\n",
        "    resnet.to(device)\n",
        "\n",
        "    return resnet, optimizer, scheduler"
      ]
    },
    {
      "cell_type": "code",
      "execution_count": null,
      "metadata": {
        "id": "5rGRJcyj5LKz"
      },
      "outputs": [],
      "source": [
        "model_source_path = '/content/drive/MyDrive/TFG Juan Villanueva/codigo diagnostico/bestdiagNet.pth'"
      ]
    },
    {
      "cell_type": "code",
      "execution_count": null,
      "metadata": {
        "id": "hm9XDY285UOB"
      },
      "outputs": [],
      "source": [
        "resnet, optimizer, scheduler = load_resnet(model_source_path)"
      ]
    },
    {
      "cell_type": "code",
      "execution_count": null,
      "metadata": {
        "id": "yCtvmxrn9m2u",
        "outputId": "241cd792-676e-4dba-a147-408eb89509b8",
        "colab": {
          "base_uri": "https://localhost:8080/"
        }
      },
      "outputs": [
        {
          "output_type": "execute_result",
          "data": {
            "text/plain": [
              "ResNet(\n",
              "  (conv1): Conv2d(3, 64, kernel_size=(7, 7), stride=(2, 2), padding=(3, 3), bias=False)\n",
              "  (bn1): BatchNorm2d(64, eps=1e-05, momentum=0.1, affine=True, track_running_stats=True)\n",
              "  (relu): ReLU(inplace=True)\n",
              "  (maxpool): MaxPool2d(kernel_size=3, stride=2, padding=1, dilation=1, ceil_mode=False)\n",
              "  (layer1): Sequential(\n",
              "    (0): BasicBlock(\n",
              "      (conv1): Conv2d(64, 64, kernel_size=(3, 3), stride=(1, 1), padding=(1, 1), bias=False)\n",
              "      (bn1): BatchNorm2d(64, eps=1e-05, momentum=0.1, affine=True, track_running_stats=True)\n",
              "      (relu): ReLU(inplace=True)\n",
              "      (conv2): Conv2d(64, 64, kernel_size=(3, 3), stride=(1, 1), padding=(1, 1), bias=False)\n",
              "      (bn2): BatchNorm2d(64, eps=1e-05, momentum=0.1, affine=True, track_running_stats=True)\n",
              "    )\n",
              "    (1): BasicBlock(\n",
              "      (conv1): Conv2d(64, 64, kernel_size=(3, 3), stride=(1, 1), padding=(1, 1), bias=False)\n",
              "      (bn1): BatchNorm2d(64, eps=1e-05, momentum=0.1, affine=True, track_running_stats=True)\n",
              "      (relu): ReLU(inplace=True)\n",
              "      (conv2): Conv2d(64, 64, kernel_size=(3, 3), stride=(1, 1), padding=(1, 1), bias=False)\n",
              "      (bn2): BatchNorm2d(64, eps=1e-05, momentum=0.1, affine=True, track_running_stats=True)\n",
              "    )\n",
              "  )\n",
              "  (layer2): Sequential(\n",
              "    (0): BasicBlock(\n",
              "      (conv1): Conv2d(64, 128, kernel_size=(3, 3), stride=(2, 2), padding=(1, 1), bias=False)\n",
              "      (bn1): BatchNorm2d(128, eps=1e-05, momentum=0.1, affine=True, track_running_stats=True)\n",
              "      (relu): ReLU(inplace=True)\n",
              "      (conv2): Conv2d(128, 128, kernel_size=(3, 3), stride=(1, 1), padding=(1, 1), bias=False)\n",
              "      (bn2): BatchNorm2d(128, eps=1e-05, momentum=0.1, affine=True, track_running_stats=True)\n",
              "      (downsample): Sequential(\n",
              "        (0): Conv2d(64, 128, kernel_size=(1, 1), stride=(2, 2), bias=False)\n",
              "        (1): BatchNorm2d(128, eps=1e-05, momentum=0.1, affine=True, track_running_stats=True)\n",
              "      )\n",
              "    )\n",
              "    (1): BasicBlock(\n",
              "      (conv1): Conv2d(128, 128, kernel_size=(3, 3), stride=(1, 1), padding=(1, 1), bias=False)\n",
              "      (bn1): BatchNorm2d(128, eps=1e-05, momentum=0.1, affine=True, track_running_stats=True)\n",
              "      (relu): ReLU(inplace=True)\n",
              "      (conv2): Conv2d(128, 128, kernel_size=(3, 3), stride=(1, 1), padding=(1, 1), bias=False)\n",
              "      (bn2): BatchNorm2d(128, eps=1e-05, momentum=0.1, affine=True, track_running_stats=True)\n",
              "    )\n",
              "  )\n",
              "  (layer3): Sequential(\n",
              "    (0): BasicBlock(\n",
              "      (conv1): Conv2d(128, 256, kernel_size=(3, 3), stride=(2, 2), padding=(1, 1), bias=False)\n",
              "      (bn1): BatchNorm2d(256, eps=1e-05, momentum=0.1, affine=True, track_running_stats=True)\n",
              "      (relu): ReLU(inplace=True)\n",
              "      (conv2): Conv2d(256, 256, kernel_size=(3, 3), stride=(1, 1), padding=(1, 1), bias=False)\n",
              "      (bn2): BatchNorm2d(256, eps=1e-05, momentum=0.1, affine=True, track_running_stats=True)\n",
              "      (downsample): Sequential(\n",
              "        (0): Conv2d(128, 256, kernel_size=(1, 1), stride=(2, 2), bias=False)\n",
              "        (1): BatchNorm2d(256, eps=1e-05, momentum=0.1, affine=True, track_running_stats=True)\n",
              "      )\n",
              "    )\n",
              "    (1): BasicBlock(\n",
              "      (conv1): Conv2d(256, 256, kernel_size=(3, 3), stride=(1, 1), padding=(1, 1), bias=False)\n",
              "      (bn1): BatchNorm2d(256, eps=1e-05, momentum=0.1, affine=True, track_running_stats=True)\n",
              "      (relu): ReLU(inplace=True)\n",
              "      (conv2): Conv2d(256, 256, kernel_size=(3, 3), stride=(1, 1), padding=(1, 1), bias=False)\n",
              "      (bn2): BatchNorm2d(256, eps=1e-05, momentum=0.1, affine=True, track_running_stats=True)\n",
              "    )\n",
              "  )\n",
              "  (layer4): Sequential(\n",
              "    (0): BasicBlock(\n",
              "      (conv1): Conv2d(256, 512, kernel_size=(3, 3), stride=(2, 2), padding=(1, 1), bias=False)\n",
              "      (bn1): BatchNorm2d(512, eps=1e-05, momentum=0.1, affine=True, track_running_stats=True)\n",
              "      (relu): ReLU(inplace=True)\n",
              "      (conv2): Conv2d(512, 512, kernel_size=(3, 3), stride=(1, 1), padding=(1, 1), bias=False)\n",
              "      (bn2): BatchNorm2d(512, eps=1e-05, momentum=0.1, affine=True, track_running_stats=True)\n",
              "      (downsample): Sequential(\n",
              "        (0): Conv2d(256, 512, kernel_size=(1, 1), stride=(2, 2), bias=False)\n",
              "        (1): BatchNorm2d(512, eps=1e-05, momentum=0.1, affine=True, track_running_stats=True)\n",
              "      )\n",
              "    )\n",
              "    (1): BasicBlock(\n",
              "      (conv1): Conv2d(512, 512, kernel_size=(3, 3), stride=(1, 1), padding=(1, 1), bias=False)\n",
              "      (bn1): BatchNorm2d(512, eps=1e-05, momentum=0.1, affine=True, track_running_stats=True)\n",
              "      (relu): ReLU(inplace=True)\n",
              "      (conv2): Conv2d(512, 512, kernel_size=(3, 3), stride=(1, 1), padding=(1, 1), bias=False)\n",
              "      (bn2): BatchNorm2d(512, eps=1e-05, momentum=0.1, affine=True, track_running_stats=True)\n",
              "    )\n",
              "  )\n",
              "  (avgpool): Identity()\n",
              "  (fc): Identity()\n",
              ")"
            ]
          },
          "metadata": {},
          "execution_count": 19
        }
      ],
      "source": [
        "resnet"
      ]
    },
    {
      "cell_type": "markdown",
      "metadata": {
        "id": "esJtbykJp-f4"
      },
      "source": [
        "## Image Transformations"
      ]
    },
    {
      "cell_type": "code",
      "source": [
        "class CropByMask(object):\n",
        "    \"\"\"Recortamos la imagen usando la máscara de la lesión.\n",
        "\n",
        "    Args:\n",
        "        border (tupla o int): El borde de recorte alrededor de la máscara. Es sabido que el análisis del borde\n",
        "        de la lesión con la piel circudante es importante para los dermatólogos, por lo que puede ser interesante\n",
        "        dejar una guarda.\n",
        "        Si es una tupla, entonces es (bordery,borderx)\n",
        "    \"\"\"\n",
        "\n",
        "    def __init__(self, border):\n",
        "        assert isinstance(border, (int, tuple))\n",
        "        if isinstance(border, int):\n",
        "            self.border = (border,border)\n",
        "        else:\n",
        "            self.border = border\n",
        "\n",
        "    def __call__(self, sample):\n",
        "\n",
        "        image, mask = np.array(sample[0]), np.array(sample[1])\n",
        "\n",
        "        h, w = image.shape[:2]\n",
        "        #Calculamos los índices del bounding box para hacer el cropping\n",
        "        sidx=np.nonzero(mask)\n",
        "        minx=np.maximum(sidx[1].min()-self.border[1],0)\n",
        "        maxx=np.minimum(sidx[1].max()+1+self.border[1],w)\n",
        "        miny=np.maximum(sidx[0].min()-self.border[0],0)\n",
        "        maxy=np.minimum(sidx[0].max()+1+self.border[1],h)\n",
        "        #Recortamos la imagen\n",
        "        image=image[miny:maxy,minx:maxx,...]\n",
        "        mask=mask[miny:maxy,minx:maxx]\n",
        "\n",
        "        return image, mask"
      ],
      "metadata": {
        "id": "h70nisvTKXU3"
      },
      "execution_count": null,
      "outputs": []
    },
    {
      "cell_type": "code",
      "source": [
        "class Rescale(object):\n",
        "    \"\"\"Rescales the image to a desired size.\n",
        "\n",
        "    Args:\n",
        "        output_size (tuple or int): Desired output size. If tuple, output is the output_size.\n",
        "            If int, the smaller of the image edges is matched to output_size keeping aspect ratio the same.\n",
        "    \"\"\"\n",
        "\n",
        "    def __init__(self, output_size):\n",
        "        assert isinstance(output_size, (int, tuple))\n",
        "        self.output_size = output_size\n",
        "\n",
        "    def __call__(self, sample):\n",
        "\n",
        "        image_np, mask_np = sample[0], sample[1]\n",
        "\n",
        "        # Get the height and width of the image\n",
        "        h, w = image_np.shape[:2]\n",
        "\n",
        "        if isinstance(self.output_size, int):\n",
        "            if h > w:\n",
        "                new_h, new_w = self.output_size * h / w, self.output_size\n",
        "            else:\n",
        "                new_h, new_w = self.output_size, self.output_size * w / h\n",
        "        else:\n",
        "            new_h, new_w = self.output_size\n",
        "\n",
        "        new_h, new_w = int(new_h), int(new_w)\n",
        "\n",
        "        # Resize the image using scikit-image's resize function\n",
        "        resized_image = transform.resize(image_np, (new_h, new_w))\n",
        "        resized_mask = transform.resize(mask_np, (new_h, new_w))\n",
        "\n",
        "        # Convert the resized NumPy array back to a PIL image\n",
        "        resized_image_pil = Image.fromarray((resized_image * 255).astype(np.uint8))\n",
        "        resized_mask_pil = Image.fromarray((resized_mask * 255).astype(np.uint8))\n",
        "\n",
        "        #return resized_image_pil, resized_mask_pil\n",
        "        return resized_image, resized_mask"
      ],
      "metadata": {
        "id": "IaT2mBMRKbkN"
      },
      "execution_count": null,
      "outputs": []
    },
    {
      "cell_type": "code",
      "source": [
        "class CenterCrop(object):\n",
        "    \"\"\"Crop the central area of the image\n",
        "\n",
        "    Args:\n",
        "        output_size (tupla or int): Crop size. If int, square crop\n",
        "\n",
        "    \"\"\"\n",
        "\n",
        "    def __init__(self, output_size):\n",
        "        assert isinstance(output_size, (int, tuple))\n",
        "        if isinstance(output_size, int):\n",
        "            self.output_size = (output_size, output_size)\n",
        "        else:\n",
        "            assert len(output_size) == 2\n",
        "            self.output_size = output_size\n",
        "\n",
        "    def __call__(self, sample):\n",
        "\n",
        "        image, mask = sample[0], sample[1]\n",
        "\n",
        "        h, w = image.shape[:2]\n",
        "        new_h, new_w = self.output_size\n",
        "        rem_h = h - new_h\n",
        "        rem_w = w - new_w\n",
        "\n",
        "        if h>new_h:\n",
        "            top = int(rem_h/2)\n",
        "        else:\n",
        "            top=0\n",
        "\n",
        "        if w>new_w:\n",
        "            left = int(rem_w/2)\n",
        "        else:\n",
        "            left = 0\n",
        "\n",
        "        image = image[top: top + new_h,\n",
        "                     left: left + new_w]\n",
        "\n",
        "        mask = mask[top: top + new_h,\n",
        "                      left: left + new_w]\n",
        "\n",
        "\n",
        "        return image, mask"
      ],
      "metadata": {
        "id": "ruyaJGNsKgLX"
      },
      "execution_count": null,
      "outputs": []
    },
    {
      "cell_type": "code",
      "execution_count": null,
      "metadata": {
        "id": "Km6vWZvXqqBh"
      },
      "outputs": [],
      "source": [
        "class ToTensor(object):\n",
        "    \"\"\"Converts the image ndarray to a tensor.\"\"\"\n",
        "\n",
        "    def __call__(self, sample):\n",
        "\n",
        "        image, mask = sample[0], sample[1]\n",
        "        # Change the axes\n",
        "        # numpy image: H x W x C\n",
        "        # torch image: C x H x W\n",
        "        # image = np.array(image)\n",
        "        image = image.transpose((2, 0, 1))\n",
        "        image = torch.from_numpy(image)\n",
        "\n",
        "        mask = torch.from_numpy(mask)\n",
        "        mask = mask.unsqueeze(0)\n",
        "\n",
        "        return image, mask\n"
      ]
    },
    {
      "cell_type": "code",
      "execution_count": null,
      "metadata": {
        "id": "KbPIvTG8p9rw"
      },
      "outputs": [],
      "source": [
        "class Normalize(object):\n",
        "    \"\"\"Normalizes the image by subtracting the mean and dividing by the standard deviations.\n",
        "\n",
        "    Args:\n",
        "        mean: The vector containing the means.\n",
        "        std: The vector containing the standard deviations.\n",
        "    \"\"\"\n",
        "\n",
        "    def __init__(self, mean, std):\n",
        "        assert len(mean) == len(std), 'Length of mean and std vectors is not the same'\n",
        "        self.mean = np.array(mean)\n",
        "        self.std = np.array(std)\n",
        "\n",
        "    def __call__(self, sample):\n",
        "\n",
        "        image, mask = sample[0], sample[1]\n",
        "\n",
        "        # c, h, w = image.shape\n",
        "        # assert c==len(self.mean), 'Length of mean and image is not the same'\n",
        "\n",
        "        dtype = image.dtype\n",
        "        mean = torch.as_tensor(self.mean, dtype=dtype, device=image.device)\n",
        "        std = torch.as_tensor(self.std, dtype=dtype, device=image.device)\n",
        "        # Normalize the image\n",
        "        # image = (image - mean[:, None, None]) / std[:, None, None]\n",
        "        image.sub_(mean[:, None, None]).div_(std[:, None, None])\n",
        "\n",
        "        return image, mask"
      ]
    },
    {
      "cell_type": "code",
      "execution_count": null,
      "metadata": {
        "id": "Lnu68fiWr7Hd"
      },
      "outputs": [],
      "source": [
        "# Train ISIC Dataset------------------------------------------------------------\n",
        "train_dataset_isic = VQADataset(data_dir=database1_path,\n",
        "                           json_file='/content/data/databases_qa/ISIC_2016/qa_filtered_ISIC.json',\n",
        "                           tokenizer=None,\n",
        "                           transform=transforms.Compose([\n",
        "                            CropByMask(15),\n",
        "                            Rescale(224),\n",
        "                            CenterCrop(224),\n",
        "                            ToTensor(),\n",
        "                            Normalize(mean=[0.485, 0.456, 0.406], std=[0.229, 0.224, 0.225])\n",
        "                            ]),\n",
        "                            extraPath=train_extra_ISIC_path)\n",
        "# # Test ISIC Dataset--------------------------------------------------------------\n",
        "# test_dataset_isic = VQADataset(data_dir=database1_test_path,\n",
        "#                            json_file='/content/data/databases_qa/ISIC_2016/qa_ISIC.json',\n",
        "#                            tokenizer=None,\n",
        "#                            transform=transforms.Compose([\n",
        "#                             Rescale((224,224)),\n",
        "#                             ToTensor(),\n",
        "#                             Normalize(mean=[0.485, 0.456, 0.406], std=[0.229, 0.224, 0.225])\n",
        "#                             ]))"
      ]
    },
    {
      "cell_type": "code",
      "execution_count": null,
      "metadata": {
        "id": "3BQq_UYpfjyg"
      },
      "outputs": [],
      "source": [
        "# Train Pizarro Dataset------------------------------------------------------------\n",
        "train_dataset_pizarro = VQADataset(data_dir=database2_path,\n",
        "                           json_file='/content/data/databases_qa/pizarro/qa_pizarro.json',\n",
        "                           tokenizer=None,\n",
        "                           transform=transforms.Compose([\n",
        "                            CropByMask(15),\n",
        "                            Rescale(224),\n",
        "                            CenterCrop(224),\n",
        "                            ToTensor(),\n",
        "                            Normalize(mean=[0.485, 0.456, 0.406], std=[0.229, 0.224, 0.225])\n",
        "                            ]))"
      ]
    },
    {
      "cell_type": "markdown",
      "source": [
        "## Define the all the possible answers within both datasets"
      ],
      "metadata": {
        "id": "SBodYMxwROs0"
      }
    },
    {
      "cell_type": "code",
      "source": [
        "# Extract all answers from the dataset\n",
        "all_answers = [answer for _, _, _, answers in train_dataset_pizarro for answer in answers]\n",
        "# Obtain unique answer values\n",
        "unique_answers = list(set(all_answers))"
      ],
      "metadata": {
        "id": "MtaTJ0v3RJ0W"
      },
      "execution_count": null,
      "outputs": []
    },
    {
      "cell_type": "code",
      "source": [
        "unique_answers"
      ],
      "metadata": {
        "id": "fZOPrVjkTVVA",
        "outputId": "a309cb91-c5be-4996-fd3c-6ac9f81a1f59",
        "colab": {
          "base_uri": "https://localhost:8080/"
        }
      },
      "execution_count": null,
      "outputs": [
        {
          "output_type": "execute_result",
          "data": {
            "text/plain": [
              "['Yes, subtle whitish blue veil is observed.',\n",
              " 'The global pattern of the lesion is globular.',\n",
              " 'The peripheral globular pattern is irregular conventional.',\n",
              " 'No white regression is observed.',\n",
              " 'The global pattern of the lesion is diffuse reticular.',\n",
              " 'Yes, clear pigmented reticulum is observed.',\n",
              " 'Yes, clear and dominant peripheral globules are observed.',\n",
              " 'The diagnostic impression is exclude melanoma.',\n",
              " 'Yes, subtle homogeneous area with vessels is observed.',\n",
              " 'The global pattern of the lesion is mixed (mix of two of the above).',\n",
              " 'Yes, clear chrysalis is observed.',\n",
              " 'The lesion has been follow-up with previous dermoscopy, due to symptoms.',\n",
              " 'No homogeneous area with vessels is observed.',\n",
              " 'The diagnostic impression is atypical mole.',\n",
              " 'The histology diagnostic indicates junctional melanocytic nevus (jmn).',\n",
              " 'The lesion is asymmetric on one axis.',\n",
              " 'Yes, clear undefined area is observed.',\n",
              " 'The peripheral globular pattern is irregular bursting.',\n",
              " 'Yes, clear and dominant pigmented reticulum is observed.',\n",
              " 'The global pattern of the lesion is multicomponent (mix of 3 or more above).',\n",
              " 'No whitish blue veil is observed.',\n",
              " 'The presence of dysplasia is not available.',\n",
              " 'Yes, subtle peripheral globules are observed.',\n",
              " 'The lesion is symmetric.',\n",
              " 'Yes, subtle gray regression is observed.',\n",
              " 'The histology diagnostic indicates non-atypical stable mole (m).',\n",
              " 'Yes, subtle large globules/cobblestone are observed.',\n",
              " 'The general silhouette of the lesion is flat.',\n",
              " 'The histology diagnostic indicates intradermal melanocytic nevus (imn).',\n",
              " 'The lesion has been not excised.',\n",
              " 'The diagnostic difficulty level is high.',\n",
              " 'The histology diagnostic indicates superficial spreading melanoma (ssm).',\n",
              " 'Yes, clear and dominant undefined area is observed.',\n",
              " 'No negative reticulum is observed.',\n",
              " 'Yes, clear homogeneous area with vessels is observed.',\n",
              " 'Yes, subtle negative reticulum is observed.',\n",
              " 'The lesion has been first consultation.',\n",
              " 'No chrysalis is observed.',\n",
              " 'The diagnostic impression is melanoma.',\n",
              " 'The peripheral globular pattern is .',\n",
              " ' chrysalis is observed.',\n",
              " 'No pigmented reticulum is observed.',\n",
              " 'The histology diagnostic indicates dysplastic melanocytic nevus (dmn).',\n",
              " 'Yes, clear homogeneous area without vessels is observed.',\n",
              " 'Yes, clear and dominant peripheral projections are present.',\n",
              " 'The general silhouette of the lesion is exophytic.',\n",
              " 'The lesion is .',\n",
              " 'The peripheral globular pattern is regular conventional.',\n",
              " 'The general silhouette of the lesion is flattened elevated.',\n",
              " 'No undefined area is observed.',\n",
              " 'The histology diagnostic indicates compound melanocytic nevus (cmn).',\n",
              " 'The peripheral globular pattern is regular bursting.',\n",
              " 'The global pattern of the lesion is patchy reticular.',\n",
              " 'No gray regression is observed.',\n",
              " ' peripheral globules are observed.',\n",
              " 'The diagnostic difficulty level is medium.',\n",
              " 'The histology diagnostic indicates congenital melanocytic nevus (cmn).',\n",
              " 'No homogeneous area without vessels is observed.',\n",
              " 'The peripheral globular pattern is focal bursting.',\n",
              " 'The lesion has been follow-up, without previous dermoscopy.',\n",
              " 'The peripheral globular pattern is absent.',\n",
              " 'The presence of dysplasia is not applicable.',\n",
              " 'Yes, subtle homogeneous area without vessels is observed.',\n",
              " 'The peripheral globular pattern is focal conventional.',\n",
              " 'Yes, clear and dominant homogeneous area without vessels is observed.',\n",
              " 'The diagnostic impression is spitz/reed nevus.',\n",
              " 'The lesion is asymmetric on two axes.',\n",
              " 'The presence of dysplasia is .',\n",
              " 'The global pattern of the lesion is homogeneous.',\n",
              " 'Yes, subtle small dots/globules are present.',\n",
              " 'No peripheral projections are present.',\n",
              " 'Yes, subtle peripheral projections are present.',\n",
              " 'Yes, subtle undefined area is observed.',\n",
              " 'No small dots/globules are present.',\n",
              " 'Yes, subtle white regression is observed.',\n",
              " 'The presence of dysplasia is severe.',\n",
              " 'Yes, clear large globules/cobblestone are observed.',\n",
              " 'Yes, clear and dominant small dots/globules are present.',\n",
              " 'Yes, clear gray regression is observed.',\n",
              " 'Yes, clear peripheral projections are present.',\n",
              " 'Yes, clear and dominant negative reticulum is observed.',\n",
              " 'The lesion has been follow-up with previous dermoscopy, due to changes.',\n",
              " 'Yes, clear and dominant large globules/cobblestone are observed.',\n",
              " 'The diagnostic difficulty level is low.',\n",
              " 'Yes, clear white regression is observed.',\n",
              " 'Yes, clear and dominant homogeneous area with vessels is observed.',\n",
              " 'Yes, subtle pigmented reticulum is observed.',\n",
              " 'The global pattern of the lesion is cobblestone.',\n",
              " 'Yes, clear whitish blue veil is observed.',\n",
              " 'The diagnostic impression is non-atypical mole.',\n",
              " 'Yes, subtle chrysalis is observed.',\n",
              " 'No peripheral globules are observed.',\n",
              " 'The global pattern of the lesion is undefined.',\n",
              " ' large globules/cobblestone are observed.',\n",
              " 'The histology diagnostic indicates reed nevus (nr).',\n",
              " 'Yes, clear peripheral globules are observed.',\n",
              " 'Yes, clear negative reticulum is observed.',\n",
              " 'The histology diagnostic indicates spitz nevus (sn).',\n",
              " 'The histology diagnostic indicates lentiginous melanocytic nevus (lmn).',\n",
              " 'Yes, clear small dots/globules are present.',\n",
              " 'No large globules/cobblestone are observed.',\n",
              " 'The histology diagnostic indicates melanoma in situ (mis).']"
            ]
          },
          "metadata": {},
          "execution_count": 28
        }
      ]
    },
    {
      "cell_type": "code",
      "source": [
        "# Create dictionaries id2label and label2id\n",
        "id2label = {i: label for i, label in enumerate(unique_answers)}\n",
        "label2id = {label: i for i, label in enumerate(unique_answers)}"
      ],
      "metadata": {
        "id": "zB_NjxmSSA2I"
      },
      "execution_count": null,
      "outputs": []
    },
    {
      "cell_type": "code",
      "source": [
        "id2label"
      ],
      "metadata": {
        "id": "8nTUep5tUe07",
        "outputId": "968788e1-31dd-431f-d5fc-fb4da082a1bf",
        "colab": {
          "base_uri": "https://localhost:8080/"
        }
      },
      "execution_count": null,
      "outputs": [
        {
          "output_type": "execute_result",
          "data": {
            "text/plain": [
              "{0: 'Yes, subtle whitish blue veil is observed.',\n",
              " 1: 'The global pattern of the lesion is globular.',\n",
              " 2: 'The peripheral globular pattern is irregular conventional.',\n",
              " 3: 'No white regression is observed.',\n",
              " 4: 'The global pattern of the lesion is diffuse reticular.',\n",
              " 5: 'Yes, clear pigmented reticulum is observed.',\n",
              " 6: 'Yes, clear and dominant peripheral globules are observed.',\n",
              " 7: 'The diagnostic impression is exclude melanoma.',\n",
              " 8: 'Yes, subtle homogeneous area with vessels is observed.',\n",
              " 9: 'The global pattern of the lesion is mixed (mix of two of the above).',\n",
              " 10: 'Yes, clear chrysalis is observed.',\n",
              " 11: 'The lesion has been follow-up with previous dermoscopy, due to symptoms.',\n",
              " 12: 'No homogeneous area with vessels is observed.',\n",
              " 13: 'The diagnostic impression is atypical mole.',\n",
              " 14: 'The histology diagnostic indicates junctional melanocytic nevus (jmn).',\n",
              " 15: 'The lesion is asymmetric on one axis.',\n",
              " 16: 'Yes, clear undefined area is observed.',\n",
              " 17: 'The peripheral globular pattern is irregular bursting.',\n",
              " 18: 'Yes, clear and dominant pigmented reticulum is observed.',\n",
              " 19: 'The global pattern of the lesion is multicomponent (mix of 3 or more above).',\n",
              " 20: 'No whitish blue veil is observed.',\n",
              " 21: 'The presence of dysplasia is not available.',\n",
              " 22: 'Yes, subtle peripheral globules are observed.',\n",
              " 23: 'The lesion is symmetric.',\n",
              " 24: 'Yes, subtle gray regression is observed.',\n",
              " 25: 'The histology diagnostic indicates non-atypical stable mole (m).',\n",
              " 26: 'Yes, subtle large globules/cobblestone are observed.',\n",
              " 27: 'The general silhouette of the lesion is flat.',\n",
              " 28: 'The histology diagnostic indicates intradermal melanocytic nevus (imn).',\n",
              " 29: 'The lesion has been not excised.',\n",
              " 30: 'The diagnostic difficulty level is high.',\n",
              " 31: 'The histology diagnostic indicates superficial spreading melanoma (ssm).',\n",
              " 32: 'Yes, clear and dominant undefined area is observed.',\n",
              " 33: 'No negative reticulum is observed.',\n",
              " 34: 'Yes, clear homogeneous area with vessels is observed.',\n",
              " 35: 'Yes, subtle negative reticulum is observed.',\n",
              " 36: 'The lesion has been first consultation.',\n",
              " 37: 'No chrysalis is observed.',\n",
              " 38: 'The diagnostic impression is melanoma.',\n",
              " 39: 'The peripheral globular pattern is .',\n",
              " 40: ' chrysalis is observed.',\n",
              " 41: 'No pigmented reticulum is observed.',\n",
              " 42: 'The histology diagnostic indicates dysplastic melanocytic nevus (dmn).',\n",
              " 43: 'Yes, clear homogeneous area without vessels is observed.',\n",
              " 44: 'Yes, clear and dominant peripheral projections are present.',\n",
              " 45: 'The general silhouette of the lesion is exophytic.',\n",
              " 46: 'The lesion is .',\n",
              " 47: 'The peripheral globular pattern is regular conventional.',\n",
              " 48: 'The general silhouette of the lesion is flattened elevated.',\n",
              " 49: 'No undefined area is observed.',\n",
              " 50: 'The histology diagnostic indicates compound melanocytic nevus (cmn).',\n",
              " 51: 'The peripheral globular pattern is regular bursting.',\n",
              " 52: 'The global pattern of the lesion is patchy reticular.',\n",
              " 53: 'No gray regression is observed.',\n",
              " 54: ' peripheral globules are observed.',\n",
              " 55: 'The diagnostic difficulty level is medium.',\n",
              " 56: 'The histology diagnostic indicates congenital melanocytic nevus (cmn).',\n",
              " 57: 'No homogeneous area without vessels is observed.',\n",
              " 58: 'The peripheral globular pattern is focal bursting.',\n",
              " 59: 'The lesion has been follow-up, without previous dermoscopy.',\n",
              " 60: 'The peripheral globular pattern is absent.',\n",
              " 61: 'The presence of dysplasia is not applicable.',\n",
              " 62: 'Yes, subtle homogeneous area without vessels is observed.',\n",
              " 63: 'The peripheral globular pattern is focal conventional.',\n",
              " 64: 'Yes, clear and dominant homogeneous area without vessels is observed.',\n",
              " 65: 'The diagnostic impression is spitz/reed nevus.',\n",
              " 66: 'The lesion is asymmetric on two axes.',\n",
              " 67: 'The presence of dysplasia is .',\n",
              " 68: 'The global pattern of the lesion is homogeneous.',\n",
              " 69: 'Yes, subtle small dots/globules are present.',\n",
              " 70: 'No peripheral projections are present.',\n",
              " 71: 'Yes, subtle peripheral projections are present.',\n",
              " 72: 'Yes, subtle undefined area is observed.',\n",
              " 73: 'No small dots/globules are present.',\n",
              " 74: 'Yes, subtle white regression is observed.',\n",
              " 75: 'The presence of dysplasia is severe.',\n",
              " 76: 'Yes, clear large globules/cobblestone are observed.',\n",
              " 77: 'Yes, clear and dominant small dots/globules are present.',\n",
              " 78: 'Yes, clear gray regression is observed.',\n",
              " 79: 'Yes, clear peripheral projections are present.',\n",
              " 80: 'Yes, clear and dominant negative reticulum is observed.',\n",
              " 81: 'The lesion has been follow-up with previous dermoscopy, due to changes.',\n",
              " 82: 'Yes, clear and dominant large globules/cobblestone are observed.',\n",
              " 83: 'The diagnostic difficulty level is low.',\n",
              " 84: 'Yes, clear white regression is observed.',\n",
              " 85: 'Yes, clear and dominant homogeneous area with vessels is observed.',\n",
              " 86: 'Yes, subtle pigmented reticulum is observed.',\n",
              " 87: 'The global pattern of the lesion is cobblestone.',\n",
              " 88: 'Yes, clear whitish blue veil is observed.',\n",
              " 89: 'The diagnostic impression is non-atypical mole.',\n",
              " 90: 'Yes, subtle chrysalis is observed.',\n",
              " 91: 'No peripheral globules are observed.',\n",
              " 92: 'The global pattern of the lesion is undefined.',\n",
              " 93: ' large globules/cobblestone are observed.',\n",
              " 94: 'The histology diagnostic indicates reed nevus (nr).',\n",
              " 95: 'Yes, clear peripheral globules are observed.',\n",
              " 96: 'Yes, clear negative reticulum is observed.',\n",
              " 97: 'The histology diagnostic indicates spitz nevus (sn).',\n",
              " 98: 'The histology diagnostic indicates lentiginous melanocytic nevus (lmn).',\n",
              " 99: 'Yes, clear small dots/globules are present.',\n",
              " 100: 'No large globules/cobblestone are observed.',\n",
              " 101: 'The histology diagnostic indicates melanoma in situ (mis).'}"
            ]
          },
          "metadata": {},
          "execution_count": 30
        }
      ]
    },
    {
      "cell_type": "code",
      "source": [
        "# Required tensor with the label IDs\n",
        "answers_ids_tensor = torch.arange(len(id2label), dtype=torch.float, device=device)\n",
        "answers_ids_tensor"
      ],
      "metadata": {
        "id": "zIE8BzfqUmmf",
        "outputId": "1e961bc3-6381-49bd-c249-e3fbf6374d9a",
        "colab": {
          "base_uri": "https://localhost:8080/"
        }
      },
      "execution_count": null,
      "outputs": [
        {
          "output_type": "execute_result",
          "data": {
            "text/plain": [
              "tensor([  0.,   1.,   2.,   3.,   4.,   5.,   6.,   7.,   8.,   9.,  10.,  11.,\n",
              "         12.,  13.,  14.,  15.,  16.,  17.,  18.,  19.,  20.,  21.,  22.,  23.,\n",
              "         24.,  25.,  26.,  27.,  28.,  29.,  30.,  31.,  32.,  33.,  34.,  35.,\n",
              "         36.,  37.,  38.,  39.,  40.,  41.,  42.,  43.,  44.,  45.,  46.,  47.,\n",
              "         48.,  49.,  50.,  51.,  52.,  53.,  54.,  55.,  56.,  57.,  58.,  59.,\n",
              "         60.,  61.,  62.,  63.,  64.,  65.,  66.,  67.,  68.,  69.,  70.,  71.,\n",
              "         72.,  73.,  74.,  75.,  76.,  77.,  78.,  79.,  80.,  81.,  82.,  83.,\n",
              "         84.,  85.,  86.,  87.,  88.,  89.,  90.,  91.,  92.,  93.,  94.,  95.,\n",
              "         96.,  97.,  98.,  99., 100., 101.], device='cuda:0')"
            ]
          },
          "metadata": {},
          "execution_count": 31
        }
      ]
    },
    {
      "cell_type": "code",
      "execution_count": null,
      "metadata": {
        "id": "UrNZdQCPl7qt"
      },
      "outputs": [],
      "source": [
        "# Pizarro dataset\n",
        "pizarro_dataloader = DataLoader(train_dataset_pizarro, batch_size=5, shuffle=True)\n",
        "train_isic_dataloader = DataLoader(train_dataset_isic, batch_size=5, shuffle=True)"
      ]
    },
    {
      "cell_type": "code",
      "execution_count": null,
      "metadata": {
        "id": "2jZsoFg5aoCM"
      },
      "outputs": [],
      "source": [
        "# Auxiliary function to visualize a batch\n",
        "def show_batch(sample_batched):\n",
        "    \"\"\"Show a batch of images.\"\"\"\n",
        "\n",
        "    # Store images, questions and answers\n",
        "    images_batch, masks_batch, questions_batch, answers_batch = \\\n",
        "            sample_batched[0], sample_batched[1], sample_batched[2], sample_batched[3]\n",
        "\n",
        "    # Identify the batch size to define the grid\n",
        "    batch_size = len(images_batch)\n",
        "    im_size = images_batch.size(2)\n",
        "    grid_border_size = 2\n",
        "\n",
        "    # Generate the grid\n",
        "    grid = utils.make_grid(images_batch)\n",
        "\n",
        "    # Convert to numpy and denormalize\n",
        "    grid = grid.numpy().transpose((1, 2, 0))\n",
        "    mean = np.array([0.485, 0.456, 0.406])\n",
        "    std = np.array([0.229, 0.224, 0.225])\n",
        "    grid = std * grid + mean\n",
        "    grid = np.clip(grid, 0, 1)\n",
        "    plt.imshow(grid)\n",
        "    plt.title('Batch from dataloader')\n",
        "    plt.axis('off')\n",
        "    plt.show()"
      ]
    },
    {
      "cell_type": "code",
      "execution_count": null,
      "metadata": {
        "id": "cV5odxMqlhbb",
        "outputId": "9272c05d-0e43-4ad7-e23f-37fa662bdb6a",
        "colab": {
          "base_uri": "https://localhost:8080/",
          "height": 355
        }
      },
      "outputs": [
        {
          "output_type": "stream",
          "name": "stdout",
          "text": [
            "0 [('How is the global pattern?', 'How is the global pattern?', 'How is the global pattern?', 'How is the global pattern?', 'How is the global pattern?'), ('Can you describe the overall pattern?', 'Can you describe the overall pattern?', 'Can you describe the overall pattern?', 'Can you describe the overall pattern?', 'Can you describe the overall pattern?'), ('Describe the pattern observed globally.', 'Describe the pattern observed globally.', 'Describe the pattern observed globally.', 'Describe the pattern observed globally.', 'Describe the pattern observed globally.'), ('What is the pattern like throughout the lesion?', 'What is the pattern like throughout the lesion?', 'What is the pattern like throughout the lesion?', 'What is the pattern like throughout the lesion?', 'What is the pattern like throughout the lesion?'), ('What patterns are present in the entire lesion?', 'What patterns are present in the entire lesion?', 'What patterns are present in the entire lesion?', 'What patterns are present in the entire lesion?', 'What patterns are present in the entire lesion?'), ('Can you identify any pigmented reticulum?', 'Can you identify any pigmented reticulum?', 'Can you identify any pigmented reticulum?', 'Can you identify any pigmented reticulum?', 'Can you identify any pigmented reticulum?'), ('Do you observe pigmented reticulum?', 'Do you observe pigmented reticulum?', 'Do you observe pigmented reticulum?', 'Do you observe pigmented reticulum?', 'Do you observe pigmented reticulum?'), ('Describe the presence of pigmented reticulum.', 'Describe the presence of pigmented reticulum.', 'Describe the presence of pigmented reticulum.', 'Describe the presence of pigmented reticulum.', 'Describe the presence of pigmented reticulum.'), ('Are there any signs of pigmented reticulum?', 'Are there any signs of pigmented reticulum?', 'Are there any signs of pigmented reticulum?', 'Are there any signs of pigmented reticulum?', 'Are there any signs of pigmented reticulum?'), ('What about pigmented reticulum in the lesion?', 'What about pigmented reticulum in the lesion?', 'What about pigmented reticulum in the lesion?', 'What about pigmented reticulum in the lesion?', 'What about pigmented reticulum in the lesion?'), ('Can you identify any negative reticulum?', 'Can you identify any negative reticulum?', 'Can you identify any negative reticulum?', 'Can you identify any negative reticulum?', 'Can you identify any negative reticulum?'), ('Do you observe negative reticulum?', 'Do you observe negative reticulum?', 'Do you observe negative reticulum?', 'Do you observe negative reticulum?', 'Do you observe negative reticulum?'), ('Describe the presence of negative reticulum.', 'Describe the presence of negative reticulum.', 'Describe the presence of negative reticulum.', 'Describe the presence of negative reticulum.', 'Describe the presence of negative reticulum.'), ('Are there any signs of negative reticulum?', 'Are there any signs of negative reticulum?', 'Are there any signs of negative reticulum?', 'Are there any signs of negative reticulum?', 'Are there any signs of negative reticulum?'), ('What about negative reticulum in the lesion?', 'What about negative reticulum in the lesion?', 'What about negative reticulum in the lesion?', 'What about negative reticulum in the lesion?', 'What about negative reticulum in the lesion?'), ('Can you identify any small dots/globules?', 'Can you identify any small dots/globules?', 'Can you identify any small dots/globules?', 'Can you identify any small dots/globules?', 'Can you identify any small dots/globules?'), ('Do you see any small dots/globules?', 'Do you see any small dots/globules?', 'Do you see any small dots/globules?', 'Do you see any small dots/globules?', 'Do you see any small dots/globules?'), ('Describe the presence of small dots/globules.', 'Describe the presence of small dots/globules.', 'Describe the presence of small dots/globules.', 'Describe the presence of small dots/globules.', 'Describe the presence of small dots/globules.'), ('Are there any signs of small dots/globules?', 'Are there any signs of small dots/globules?', 'Are there any signs of small dots/globules?', 'Are there any signs of small dots/globules?', 'Are there any signs of small dots/globules?'), ('What about small dots/globules in the lesion?', 'What about small dots/globules in the lesion?', 'What about small dots/globules in the lesion?', 'What about small dots/globules in the lesion?', 'What about small dots/globules in the lesion?'), ('Can you identify any large globules/cobblestone?', 'Can you identify any large globules/cobblestone?', 'Can you identify any large globules/cobblestone?', 'Can you identify any large globules/cobblestone?', 'Can you identify any large globules/cobblestone?'), ('Do you observe large globules/cobblestone?', 'Do you observe large globules/cobblestone?', 'Do you observe large globules/cobblestone?', 'Do you observe large globules/cobblestone?', 'Do you observe large globules/cobblestone?'), ('Describe the presence of large globules/cobblestone.', 'Describe the presence of large globules/cobblestone.', 'Describe the presence of large globules/cobblestone.', 'Describe the presence of large globules/cobblestone.', 'Describe the presence of large globules/cobblestone.'), ('Are there any signs of large globules/cobblestone?', 'Are there any signs of large globules/cobblestone?', 'Are there any signs of large globules/cobblestone?', 'Are there any signs of large globules/cobblestone?', 'Are there any signs of large globules/cobblestone?'), ('What about large globules/cobblestone in the lesion?', 'What about large globules/cobblestone in the lesion?', 'What about large globules/cobblestone in the lesion?', 'What about large globules/cobblestone in the lesion?', 'What about large globules/cobblestone in the lesion?'), ('Can you identify any peripheral globules?', 'Can you identify any peripheral globules?', 'Can you identify any peripheral globules?', 'Can you identify any peripheral globules?', 'Can you identify any peripheral globules?'), ('Do you observe peripheral globules?', 'Do you observe peripheral globules?', 'Do you observe peripheral globules?', 'Do you observe peripheral globules?', 'Do you observe peripheral globules?'), ('Describe the presence of peripheral globules.', 'Describe the presence of peripheral globules.', 'Describe the presence of peripheral globules.', 'Describe the presence of peripheral globules.', 'Describe the presence of peripheral globules.'), ('Are there any signs of peripheral globules?', 'Are there any signs of peripheral globules?', 'Are there any signs of peripheral globules?', 'Are there any signs of peripheral globules?', 'Are there any signs of peripheral globules?'), ('What about peripheral globules in the lesion?', 'What about peripheral globules in the lesion?', 'What about peripheral globules in the lesion?', 'What about peripheral globules in the lesion?', 'What about peripheral globules in the lesion?'), ('Can you identify any peripheral projections?', 'Can you identify any peripheral projections?', 'Can you identify any peripheral projections?', 'Can you identify any peripheral projections?', 'Can you identify any peripheral projections?'), ('Do you observe peripheral projections?', 'Do you observe peripheral projections?', 'Do you observe peripheral projections?', 'Do you observe peripheral projections?', 'Do you observe peripheral projections?'), ('Describe the presence of peripheral projections.', 'Describe the presence of peripheral projections.', 'Describe the presence of peripheral projections.', 'Describe the presence of peripheral projections.', 'Describe the presence of peripheral projections.'), ('Are there any signs of peripheral projections?', 'Are there any signs of peripheral projections?', 'Are there any signs of peripheral projections?', 'Are there any signs of peripheral projections?', 'Are there any signs of peripheral projections?'), ('What about peripheral projections in the lesion?', 'What about peripheral projections in the lesion?', 'What about peripheral projections in the lesion?', 'What about peripheral projections in the lesion?', 'What about peripheral projections in the lesion?'), ('Can you identify any homogeneous area without vessels?', 'Can you identify any homogeneous area without vessels?', 'Can you identify any homogeneous area without vessels?', 'Can you identify any homogeneous area without vessels?', 'Can you identify any homogeneous area without vessels?'), ('Do you observe homogeneous area without vessels?', 'Do you observe homogeneous area without vessels?', 'Do you observe homogeneous area without vessels?', 'Do you observe homogeneous area without vessels?', 'Do you observe homogeneous area without vessels?'), ('Describe the presence of homogeneous area without vessels.', 'Describe the presence of homogeneous area without vessels.', 'Describe the presence of homogeneous area without vessels.', 'Describe the presence of homogeneous area without vessels.', 'Describe the presence of homogeneous area without vessels.'), ('Are there any signs of homogeneous area without vessels?', 'Are there any signs of homogeneous area without vessels?', 'Are there any signs of homogeneous area without vessels?', 'Are there any signs of homogeneous area without vessels?', 'Are there any signs of homogeneous area without vessels?'), ('What about homogeneous area without vessels in the lesion?', 'What about homogeneous area without vessels in the lesion?', 'What about homogeneous area without vessels in the lesion?', 'What about homogeneous area without vessels in the lesion?', 'What about homogeneous area without vessels in the lesion?'), ('Can you identify any homogeneous area with vessels?', 'Can you identify any homogeneous area with vessels?', 'Can you identify any homogeneous area with vessels?', 'Can you identify any homogeneous area with vessels?', 'Can you identify any homogeneous area with vessels?'), ('Do you observe homogeneous area with vessels?', 'Do you observe homogeneous area with vessels?', 'Do you observe homogeneous area with vessels?', 'Do you observe homogeneous area with vessels?', 'Do you observe homogeneous area with vessels?'), ('Describe the presence of homogeneous area with vessels.', 'Describe the presence of homogeneous area with vessels.', 'Describe the presence of homogeneous area with vessels.', 'Describe the presence of homogeneous area with vessels.', 'Describe the presence of homogeneous area with vessels.'), ('Are there any signs of homogeneous area with vessels?', 'Are there any signs of homogeneous area with vessels?', 'Are there any signs of homogeneous area with vessels?', 'Are there any signs of homogeneous area with vessels?', 'Are there any signs of homogeneous area with vessels?'), ('What about homogeneous area with vessels in the lesion?', 'What about homogeneous area with vessels in the lesion?', 'What about homogeneous area with vessels in the lesion?', 'What about homogeneous area with vessels in the lesion?', 'What about homogeneous area with vessels in the lesion?'), ('Can you identify any undefined area?', 'Can you identify any undefined area?', 'Can you identify any undefined area?', 'Can you identify any undefined area?', 'Can you identify any undefined area?'), ('Do you observe undefined area?', 'Do you observe undefined area?', 'Do you observe undefined area?', 'Do you observe undefined area?', 'Do you observe undefined area?'), ('Describe the presence of undefined area.', 'Describe the presence of undefined area.', 'Describe the presence of undefined area.', 'Describe the presence of undefined area.', 'Describe the presence of undefined area.'), ('Are there any signs of undefined area?', 'Are there any signs of undefined area?', 'Are there any signs of undefined area?', 'Are there any signs of undefined area?', 'Are there any signs of undefined area?'), ('What about undefined area in the lesion?', 'What about undefined area in the lesion?', 'What about undefined area in the lesion?', 'What about undefined area in the lesion?', 'What about undefined area in the lesion?'), ('Can you identify any gray regression?', 'Can you identify any gray regression?', 'Can you identify any gray regression?', 'Can you identify any gray regression?', 'Can you identify any gray regression?'), ('Do you observe gray regression?', 'Do you observe gray regression?', 'Do you observe gray regression?', 'Do you observe gray regression?', 'Do you observe gray regression?'), ('Describe the presence of gray regression.', 'Describe the presence of gray regression.', 'Describe the presence of gray regression.', 'Describe the presence of gray regression.', 'Describe the presence of gray regression.'), ('Are there any signs of gray regression?', 'Are there any signs of gray regression?', 'Are there any signs of gray regression?', 'Are there any signs of gray regression?', 'Are there any signs of gray regression?'), ('What about gray regression in the lesion?', 'What about gray regression in the lesion?', 'What about gray regression in the lesion?', 'What about gray regression in the lesion?', 'What about gray regression in the lesion?'), ('Can you identify any white regression?', 'Can you identify any white regression?', 'Can you identify any white regression?', 'Can you identify any white regression?', 'Can you identify any white regression?'), ('Do you observe white regression?', 'Do you observe white regression?', 'Do you observe white regression?', 'Do you observe white regression?', 'Do you observe white regression?'), ('Describe the presence of white regression.', 'Describe the presence of white regression.', 'Describe the presence of white regression.', 'Describe the presence of white regression.', 'Describe the presence of white regression.'), ('Are there any signs of white regression?', 'Are there any signs of white regression?', 'Are there any signs of white regression?', 'Are there any signs of white regression?', 'Are there any signs of white regression?'), ('What about white regression in the lesion?', 'What about white regression in the lesion?', 'What about white regression in the lesion?', 'What about white regression in the lesion?', 'What about white regression in the lesion?'), ('Can you identify any whitish blue veil?', 'Can you identify any whitish blue veil?', 'Can you identify any whitish blue veil?', 'Can you identify any whitish blue veil?', 'Can you identify any whitish blue veil?'), ('Do you observe whitish blue veil?', 'Do you observe whitish blue veil?', 'Do you observe whitish blue veil?', 'Do you observe whitish blue veil?', 'Do you observe whitish blue veil?'), ('Describe the presence of whitish blue veil.', 'Describe the presence of whitish blue veil.', 'Describe the presence of whitish blue veil.', 'Describe the presence of whitish blue veil.', 'Describe the presence of whitish blue veil.'), ('Are there any signs of whitish blue veil?', 'Are there any signs of whitish blue veil?', 'Are there any signs of whitish blue veil?', 'Are there any signs of whitish blue veil?', 'Are there any signs of whitish blue veil?'), ('What about whitish blue veil in the lesion?', 'What about whitish blue veil in the lesion?', 'What about whitish blue veil in the lesion?', 'What about whitish blue veil in the lesion?', 'What about whitish blue veil in the lesion?'), ('Can you identify any chrysalis?', 'Can you identify any chrysalis?', 'Can you identify any chrysalis?', 'Can you identify any chrysalis?', 'Can you identify any chrysalis?'), ('Do you observe chrysalis?', 'Do you observe chrysalis?', 'Do you observe chrysalis?', 'Do you observe chrysalis?', 'Do you observe chrysalis?'), ('Describe the presence of chrysalis.', 'Describe the presence of chrysalis.', 'Describe the presence of chrysalis.', 'Describe the presence of chrysalis.', 'Describe the presence of chrysalis.'), ('Are there any signs of chrysalis?', 'Are there any signs of chrysalis?', 'Are there any signs of chrysalis?', 'Are there any signs of chrysalis?', 'Are there any signs of chrysalis?'), ('What about chrysalis in the lesion?', 'What about chrysalis in the lesion?', 'What about chrysalis in the lesion?', 'What about chrysalis in the lesion?', 'What about chrysalis in the lesion?'), ('Is the lesion malignant?', 'Is the lesion malignant?', 'Is the lesion malignant?', 'Is the lesion malignant?', 'Is the lesion malignant?'), ('Do you classify the lesion as malignant?', 'Do you classify the lesion as malignant?', 'Do you classify the lesion as malignant?', 'Do you classify the lesion as malignant?', 'Do you classify the lesion as malignant?'), ('What is the classification of the lesion?', 'What is the classification of the lesion?', 'What is the classification of the lesion?', 'What is the classification of the lesion?', 'What is the classification of the lesion?'), ('Is the lesion benign or malignant?', 'Is the lesion benign or malignant?', 'Is the lesion benign or malignant?', 'Is the lesion benign or malignant?', 'Is the lesion benign or malignant?'), ('Can you determine if the lesion is malignant?', 'Can you determine if the lesion is malignant?', 'Can you determine if the lesion is malignant?', 'Can you determine if the lesion is malignant?', 'Can you determine if the lesion is malignant?')]\n"
          ]
        },
        {
          "output_type": "display_data",
          "data": {
            "text/plain": [
              "<Figure size 640x480 with 1 Axes>"
            ],
            "image/png": "[encoded data removed]"
          },
          "metadata": {}
        },
        {
          "output_type": "stream",
          "name": "stdout",
          "text": [
            "1 [('How is the global pattern?', 'How is the global pattern?', 'How is the global pattern?', 'How is the global pattern?', 'How is the global pattern?'), ('Can you describe the overall pattern?', 'Can you describe the overall pattern?', 'Can you describe the overall pattern?', 'Can you describe the overall pattern?', 'Can you describe the overall pattern?'), ('Describe the pattern observed globally.', 'Describe the pattern observed globally.', 'Describe the pattern observed globally.', 'Describe the pattern observed globally.', 'Describe the pattern observed globally.'), ('What is the pattern like throughout the lesion?', 'What is the pattern like throughout the lesion?', 'What is the pattern like throughout the lesion?', 'What is the pattern like throughout the lesion?', 'What is the pattern like throughout the lesion?'), ('What patterns are present in the entire lesion?', 'What patterns are present in the entire lesion?', 'What patterns are present in the entire lesion?', 'What patterns are present in the entire lesion?', 'What patterns are present in the entire lesion?'), ('Can you identify any pigmented reticulum?', 'Can you identify any pigmented reticulum?', 'Can you identify any pigmented reticulum?', 'Can you identify any pigmented reticulum?', 'Can you identify any pigmented reticulum?'), ('Do you observe pigmented reticulum?', 'Do you observe pigmented reticulum?', 'Do you observe pigmented reticulum?', 'Do you observe pigmented reticulum?', 'Do you observe pigmented reticulum?'), ('Describe the presence of pigmented reticulum.', 'Describe the presence of pigmented reticulum.', 'Describe the presence of pigmented reticulum.', 'Describe the presence of pigmented reticulum.', 'Describe the presence of pigmented reticulum.'), ('Are there any signs of pigmented reticulum?', 'Are there any signs of pigmented reticulum?', 'Are there any signs of pigmented reticulum?', 'Are there any signs of pigmented reticulum?', 'Are there any signs of pigmented reticulum?'), ('What about pigmented reticulum in the lesion?', 'What about pigmented reticulum in the lesion?', 'What about pigmented reticulum in the lesion?', 'What about pigmented reticulum in the lesion?', 'What about pigmented reticulum in the lesion?'), ('Can you identify any negative reticulum?', 'Can you identify any negative reticulum?', 'Can you identify any negative reticulum?', 'Can you identify any negative reticulum?', 'Can you identify any negative reticulum?'), ('Do you observe negative reticulum?', 'Do you observe negative reticulum?', 'Do you observe negative reticulum?', 'Do you observe negative reticulum?', 'Do you observe negative reticulum?'), ('Describe the presence of negative reticulum.', 'Describe the presence of negative reticulum.', 'Describe the presence of negative reticulum.', 'Describe the presence of negative reticulum.', 'Describe the presence of negative reticulum.'), ('Are there any signs of negative reticulum?', 'Are there any signs of negative reticulum?', 'Are there any signs of negative reticulum?', 'Are there any signs of negative reticulum?', 'Are there any signs of negative reticulum?'), ('What about negative reticulum in the lesion?', 'What about negative reticulum in the lesion?', 'What about negative reticulum in the lesion?', 'What about negative reticulum in the lesion?', 'What about negative reticulum in the lesion?'), ('Can you identify any small dots/globules?', 'Can you identify any small dots/globules?', 'Can you identify any small dots/globules?', 'Can you identify any small dots/globules?', 'Can you identify any small dots/globules?'), ('Do you see any small dots/globules?', 'Do you see any small dots/globules?', 'Do you see any small dots/globules?', 'Do you see any small dots/globules?', 'Do you see any small dots/globules?'), ('Describe the presence of small dots/globules.', 'Describe the presence of small dots/globules.', 'Describe the presence of small dots/globules.', 'Describe the presence of small dots/globules.', 'Describe the presence of small dots/globules.'), ('Are there any signs of small dots/globules?', 'Are there any signs of small dots/globules?', 'Are there any signs of small dots/globules?', 'Are there any signs of small dots/globules?', 'Are there any signs of small dots/globules?'), ('What about small dots/globules in the lesion?', 'What about small dots/globules in the lesion?', 'What about small dots/globules in the lesion?', 'What about small dots/globules in the lesion?', 'What about small dots/globules in the lesion?'), ('Can you identify any large globules/cobblestone?', 'Can you identify any large globules/cobblestone?', 'Can you identify any large globules/cobblestone?', 'Can you identify any large globules/cobblestone?', 'Can you identify any large globules/cobblestone?'), ('Do you observe large globules/cobblestone?', 'Do you observe large globules/cobblestone?', 'Do you observe large globules/cobblestone?', 'Do you observe large globules/cobblestone?', 'Do you observe large globules/cobblestone?'), ('Describe the presence of large globules/cobblestone.', 'Describe the presence of large globules/cobblestone.', 'Describe the presence of large globules/cobblestone.', 'Describe the presence of large globules/cobblestone.', 'Describe the presence of large globules/cobblestone.'), ('Are there any signs of large globules/cobblestone?', 'Are there any signs of large globules/cobblestone?', 'Are there any signs of large globules/cobblestone?', 'Are there any signs of large globules/cobblestone?', 'Are there any signs of large globules/cobblestone?'), ('What about large globules/cobblestone in the lesion?', 'What about large globules/cobblestone in the lesion?', 'What about large globules/cobblestone in the lesion?', 'What about large globules/cobblestone in the lesion?', 'What about large globules/cobblestone in the lesion?'), ('Can you identify any peripheral globules?', 'Can you identify any peripheral globules?', 'Can you identify any peripheral globules?', 'Can you identify any peripheral globules?', 'Can you identify any peripheral globules?'), ('Do you observe peripheral globules?', 'Do you observe peripheral globules?', 'Do you observe peripheral globules?', 'Do you observe peripheral globules?', 'Do you observe peripheral globules?'), ('Describe the presence of peripheral globules.', 'Describe the presence of peripheral globules.', 'Describe the presence of peripheral globules.', 'Describe the presence of peripheral globules.', 'Describe the presence of peripheral globules.'), ('Are there any signs of peripheral globules?', 'Are there any signs of peripheral globules?', 'Are there any signs of peripheral globules?', 'Are there any signs of peripheral globules?', 'Are there any signs of peripheral globules?'), ('What about peripheral globules in the lesion?', 'What about peripheral globules in the lesion?', 'What about peripheral globules in the lesion?', 'What about peripheral globules in the lesion?', 'What about peripheral globules in the lesion?'), ('Can you identify any peripheral projections?', 'Can you identify any peripheral projections?', 'Can you identify any peripheral projections?', 'Can you identify any peripheral projections?', 'Can you identify any peripheral projections?'), ('Do you observe peripheral projections?', 'Do you observe peripheral projections?', 'Do you observe peripheral projections?', 'Do you observe peripheral projections?', 'Do you observe peripheral projections?'), ('Describe the presence of peripheral projections.', 'Describe the presence of peripheral projections.', 'Describe the presence of peripheral projections.', 'Describe the presence of peripheral projections.', 'Describe the presence of peripheral projections.'), ('Are there any signs of peripheral projections?', 'Are there any signs of peripheral projections?', 'Are there any signs of peripheral projections?', 'Are there any signs of peripheral projections?', 'Are there any signs of peripheral projections?'), ('What about peripheral projections in the lesion?', 'What about peripheral projections in the lesion?', 'What about peripheral projections in the lesion?', 'What about peripheral projections in the lesion?', 'What about peripheral projections in the lesion?'), ('Can you identify any homogeneous area without vessels?', 'Can you identify any homogeneous area without vessels?', 'Can you identify any homogeneous area without vessels?', 'Can you identify any homogeneous area without vessels?', 'Can you identify any homogeneous area without vessels?'), ('Do you observe homogeneous area without vessels?', 'Do you observe homogeneous area without vessels?', 'Do you observe homogeneous area without vessels?', 'Do you observe homogeneous area without vessels?', 'Do you observe homogeneous area without vessels?'), ('Describe the presence of homogeneous area without vessels.', 'Describe the presence of homogeneous area without vessels.', 'Describe the presence of homogeneous area without vessels.', 'Describe the presence of homogeneous area without vessels.', 'Describe the presence of homogeneous area without vessels.'), ('Are there any signs of homogeneous area without vessels?', 'Are there any signs of homogeneous area without vessels?', 'Are there any signs of homogeneous area without vessels?', 'Are there any signs of homogeneous area without vessels?', 'Are there any signs of homogeneous area without vessels?'), ('What about homogeneous area without vessels in the lesion?', 'What about homogeneous area without vessels in the lesion?', 'What about homogeneous area without vessels in the lesion?', 'What about homogeneous area without vessels in the lesion?', 'What about homogeneous area without vessels in the lesion?'), ('Can you identify any homogeneous area with vessels?', 'Can you identify any homogeneous area with vessels?', 'Can you identify any homogeneous area with vessels?', 'Can you identify any homogeneous area with vessels?', 'Can you identify any homogeneous area with vessels?'), ('Do you observe homogeneous area with vessels?', 'Do you observe homogeneous area with vessels?', 'Do you observe homogeneous area with vessels?', 'Do you observe homogeneous area with vessels?', 'Do you observe homogeneous area with vessels?'), ('Describe the presence of homogeneous area with vessels.', 'Describe the presence of homogeneous area with vessels.', 'Describe the presence of homogeneous area with vessels.', 'Describe the presence of homogeneous area with vessels.', 'Describe the presence of homogeneous area with vessels.'), ('Are there any signs of homogeneous area with vessels?', 'Are there any signs of homogeneous area with vessels?', 'Are there any signs of homogeneous area with vessels?', 'Are there any signs of homogeneous area with vessels?', 'Are there any signs of homogeneous area with vessels?'), ('What about homogeneous area with vessels in the lesion?', 'What about homogeneous area with vessels in the lesion?', 'What about homogeneous area with vessels in the lesion?', 'What about homogeneous area with vessels in the lesion?', 'What about homogeneous area with vessels in the lesion?'), ('Can you identify any undefined area?', 'Can you identify any undefined area?', 'Can you identify any undefined area?', 'Can you identify any undefined area?', 'Can you identify any undefined area?'), ('Do you observe undefined area?', 'Do you observe undefined area?', 'Do you observe undefined area?', 'Do you observe undefined area?', 'Do you observe undefined area?'), ('Describe the presence of undefined area.', 'Describe the presence of undefined area.', 'Describe the presence of undefined area.', 'Describe the presence of undefined area.', 'Describe the presence of undefined area.'), ('Are there any signs of undefined area?', 'Are there any signs of undefined area?', 'Are there any signs of undefined area?', 'Are there any signs of undefined area?', 'Are there any signs of undefined area?'), ('What about undefined area in the lesion?', 'What about undefined area in the lesion?', 'What about undefined area in the lesion?', 'What about undefined area in the lesion?', 'What about undefined area in the lesion?'), ('Can you identify any gray regression?', 'Can you identify any gray regression?', 'Can you identify any gray regression?', 'Can you identify any gray regression?', 'Can you identify any gray regression?'), ('Do you observe gray regression?', 'Do you observe gray regression?', 'Do you observe gray regression?', 'Do you observe gray regression?', 'Do you observe gray regression?'), ('Describe the presence of gray regression.', 'Describe the presence of gray regression.', 'Describe the presence of gray regression.', 'Describe the presence of gray regression.', 'Describe the presence of gray regression.'), ('Are there any signs of gray regression?', 'Are there any signs of gray regression?', 'Are there any signs of gray regression?', 'Are there any signs of gray regression?', 'Are there any signs of gray regression?'), ('What about gray regression in the lesion?', 'What about gray regression in the lesion?', 'What about gray regression in the lesion?', 'What about gray regression in the lesion?', 'What about gray regression in the lesion?'), ('Can you identify any white regression?', 'Can you identify any white regression?', 'Can you identify any white regression?', 'Can you identify any white regression?', 'Can you identify any white regression?'), ('Do you observe white regression?', 'Do you observe white regression?', 'Do you observe white regression?', 'Do you observe white regression?', 'Do you observe white regression?'), ('Describe the presence of white regression.', 'Describe the presence of white regression.', 'Describe the presence of white regression.', 'Describe the presence of white regression.', 'Describe the presence of white regression.'), ('Are there any signs of white regression?', 'Are there any signs of white regression?', 'Are there any signs of white regression?', 'Are there any signs of white regression?', 'Are there any signs of white regression?'), ('What about white regression in the lesion?', 'What about white regression in the lesion?', 'What about white regression in the lesion?', 'What about white regression in the lesion?', 'What about white regression in the lesion?'), ('Can you identify any whitish blue veil?', 'Can you identify any whitish blue veil?', 'Can you identify any whitish blue veil?', 'Can you identify any whitish blue veil?', 'Can you identify any whitish blue veil?'), ('Do you observe whitish blue veil?', 'Do you observe whitish blue veil?', 'Do you observe whitish blue veil?', 'Do you observe whitish blue veil?', 'Do you observe whitish blue veil?'), ('Describe the presence of whitish blue veil.', 'Describe the presence of whitish blue veil.', 'Describe the presence of whitish blue veil.', 'Describe the presence of whitish blue veil.', 'Describe the presence of whitish blue veil.'), ('Are there any signs of whitish blue veil?', 'Are there any signs of whitish blue veil?', 'Are there any signs of whitish blue veil?', 'Are there any signs of whitish blue veil?', 'Are there any signs of whitish blue veil?'), ('What about whitish blue veil in the lesion?', 'What about whitish blue veil in the lesion?', 'What about whitish blue veil in the lesion?', 'What about whitish blue veil in the lesion?', 'What about whitish blue veil in the lesion?'), ('Can you identify any chrysalis?', 'Can you identify any chrysalis?', 'Can you identify any chrysalis?', 'Can you identify any chrysalis?', 'Can you identify any chrysalis?'), ('Do you observe chrysalis?', 'Do you observe chrysalis?', 'Do you observe chrysalis?', 'Do you observe chrysalis?', 'Do you observe chrysalis?'), ('Describe the presence of chrysalis.', 'Describe the presence of chrysalis.', 'Describe the presence of chrysalis.', 'Describe the presence of chrysalis.', 'Describe the presence of chrysalis.'), ('Are there any signs of chrysalis?', 'Are there any signs of chrysalis?', 'Are there any signs of chrysalis?', 'Are there any signs of chrysalis?', 'Are there any signs of chrysalis?'), ('What about chrysalis in the lesion?', 'What about chrysalis in the lesion?', 'What about chrysalis in the lesion?', 'What about chrysalis in the lesion?', 'What about chrysalis in the lesion?'), ('Is the lesion malignant?', 'Is the lesion malignant?', 'Is the lesion malignant?', 'Is the lesion malignant?', 'Is the lesion malignant?'), ('Do you classify the lesion as malignant?', 'Do you classify the lesion as malignant?', 'Do you classify the lesion as malignant?', 'Do you classify the lesion as malignant?', 'Do you classify the lesion as malignant?'), ('What is the classification of the lesion?', 'What is the classification of the lesion?', 'What is the classification of the lesion?', 'What is the classification of the lesion?', 'What is the classification of the lesion?'), ('Is the lesion benign or malignant?', 'Is the lesion benign or malignant?', 'Is the lesion benign or malignant?', 'Is the lesion benign or malignant?', 'Is the lesion benign or malignant?'), ('Can you determine if the lesion is malignant?', 'Can you determine if the lesion is malignant?', 'Can you determine if the lesion is malignant?', 'Can you determine if the lesion is malignant?', 'Can you determine if the lesion is malignant?')]\n"
          ]
        },
        {
          "output_type": "display_data",
          "data": {
            "text/plain": [
              "<Figure size 640x480 with 1 Axes>"
            ],
            "image/png": "[encoded data removed]"
          },
          "metadata": {}
        }
      ],
      "source": [
        "# Iterate over the dataloader and visualize batches\n",
        "for i_batch, sample_batched in enumerate(train_isic_dataloader):\n",
        "    print(i_batch, sample_batched[2])\n",
        "    show_batch(sample_batched)\n",
        "\n",
        "    # Show only the data of the 3rd batch and stop.\n",
        "    if i_batch == 1:\n",
        "        break"
      ]
    },
    {
      "cell_type": "markdown",
      "metadata": {
        "id": "uZQYNuFsKI3k"
      },
      "source": [
        "## Image Feature Extraction"
      ]
    },
    {
      "cell_type": "code",
      "source": [
        "for images, masks, questions, answers in pizarro_dataloader:\n",
        "  print(images.size())\n",
        "  break"
      ],
      "metadata": {
        "id": "i-D2ipfKaOL9",
        "outputId": "d96b11e2-63bc-411c-dae9-1ce5b58dc2e1",
        "colab": {
          "base_uri": "https://localhost:8080/"
        }
      },
      "execution_count": null,
      "outputs": [
        {
          "output_type": "stream",
          "name": "stdout",
          "text": [
            "torch.Size([5, 3, 224, 224])\n"
          ]
        }
      ]
    },
    {
      "cell_type": "code",
      "execution_count": null,
      "metadata": {
        "id": "XL6ILzWtlPEV"
      },
      "outputs": [],
      "source": [
        "def extract_image_features(model, dataloader):\n",
        "    model.eval()  # Set the model to evaluation mode\n",
        "    num_samples = len(dataloader.dataset)\n",
        "\n",
        "    output_shape = (7,7,512) # Keep dimensionality of outputs (layer 4)\n",
        "\n",
        "    # Calculate the total number of features\n",
        "    num_features = np.prod(output_shape)\n",
        "\n",
        "    features = np.zeros((num_samples, *output_shape), dtype=np.float32)\n",
        "    sample_idx = 0\n",
        "\n",
        "    with torch.no_grad():\n",
        "        for sample in dataloader:\n",
        "            # Get images\n",
        "            inputs = sample[0].to(device).float()\n",
        "\n",
        "            # Forward pass\n",
        "            outputs = model(inputs)\n",
        "\n",
        "            outputs_reshaped = outputs.reshape(outputs.size(0), *output_shape)\n",
        "\n",
        "            # Store features\n",
        "            batch_size = inputs.size(0)\n",
        "            # features[sample_idx:sample_idx + batch_size, :] = outputs_flat.cpu().numpy()\n",
        "            features[sample_idx:sample_idx + batch_size, :] = outputs_reshaped.cpu().numpy()\n",
        "            sample_idx += batch_size\n",
        "\n",
        "    return torch.tensor(features, device=device)"
      ]
    },
    {
      "cell_type": "code",
      "execution_count": null,
      "metadata": {
        "id": "F9gqOoAOdYQ_"
      },
      "outputs": [],
      "source": [
        "features_pizarro = extract_image_features(resnet, pizarro_dataloader)"
      ]
    },
    {
      "cell_type": "code",
      "execution_count": null,
      "metadata": {
        "id": "Ey1rr3KGiNYm",
        "outputId": "54dd0d10-9843-4c02-ae23-4c903d13236e",
        "colab": {
          "base_uri": "https://localhost:8080/"
        }
      },
      "outputs": [
        {
          "output_type": "execute_result",
          "data": {
            "text/plain": [
              "torch.Size([500, 7, 7, 512])"
            ]
          },
          "metadata": {},
          "execution_count": 38
        }
      ],
      "source": [
        "features_pizarro.size()"
      ]
    },
    {
      "cell_type": "code",
      "source": [
        "# Function to print GPU memory usage\n",
        "def print_gpu_memory():\n",
        "    print(f\"Memory allocated: {torch.cuda.memory_allocated() / 1024**2:.2f} MB\")\n",
        "    print(f\"Memory reserved: {torch.cuda.memory_reserved() / 1024**2:.2f} MB\")"
      ],
      "metadata": {
        "id": "6EeNiyfjCzIi"
      },
      "execution_count": null,
      "outputs": []
    },
    {
      "cell_type": "markdown",
      "metadata": {
        "id": "w4HfihfzJ3a6"
      },
      "source": [
        "## VQA Model Creation"
      ]
    },
    {
      "cell_type": "code",
      "source": [
        "class VQAModel(nn.Module):\n",
        "    def __init__(self, resnet, vlm, tokenizer):\n",
        "        super(VQAModel, self).__init__()\n",
        "\n",
        "        # Pre-trained ResNet model\n",
        "        self.resnet = resnet\n",
        "        # Vision Language Model\n",
        "        self.vlm = vlm\n",
        "        # Tokenizer\n",
        "        self.tokenizer = tokenizer\n",
        "        # Freeze parameters of the ResNet model\n",
        "        for param in self.resnet.parameters():\n",
        "            param.requires_grad = False\n",
        "\n",
        "    def forward(self, image_features, question, labels_idxs=None, training=False):\n",
        "\n",
        "        # image_features -> array with visual features for the specific image (7x7x512)\n",
        "        # question -> individual question within the image batch\n",
        "        # labels_idx -> tensor with shape (0, ..., num_labels-1)\n",
        "        # training; boolean to determine the mode (train/evaluation)\n",
        "\n",
        "        # Prepare image inputs -> (batch_size, visual_seq_length, visual_embedding_dim)\n",
        "        flattened_embedding = image_features.view(-1, 512) # (49x512)\n",
        "        visual_embeds = flattened_embedding.unsqueeze(0) # (1x49x512)\n",
        "\n",
        "        # Token type and attention masks -> (batch_size, visual_seq_length)\n",
        "        visual_token_type_ids = torch.ones(visual_embeds.shape[:-1], dtype=torch.long, device=device)\n",
        "        visual_attention_mask = torch.ones(visual_embeds.shape[:-1], dtype=torch.float, device=device)\n",
        "\n",
        "        # Tokenize question\n",
        "        tokenized_question = self.tokenizer(question,\n",
        "                                            return_token_type_ids=True,\n",
        "                                            return_attention_mask=True,\n",
        "                                            add_special_tokens=True,\n",
        "                                            return_tensors='pt')\n",
        "\n",
        "        # Input for the VLM model (refer to VisualBert to understand the shapes)\n",
        "        input_dict = {\n",
        "            \"visual_embeds\": visual_embeds,\n",
        "            \"visual_token_type_ids\": visual_token_type_ids,\n",
        "            \"visual_attention_mask\": visual_attention_mask,\n",
        "            \"input_ids\": tokenized_question['input_ids'].to(device),\n",
        "            \"token_type_ids\": tokenized_question['token_type_ids'].to(device),\n",
        "            \"attention_mask\": tokenized_question['attention_mask'].to(device),\n",
        "        }\n",
        "\n",
        "        # Training mode: track gradients\n",
        "        if training:\n",
        "\n",
        "            output = self.vlm(**input_dict, labels=labels_idxs)\n",
        "            logits = output.logits\n",
        "            loss = output.loss\n",
        "            #attentions = output.attentions\n",
        "\n",
        "            del output\n",
        "\n",
        "        # Evaluation mode: no gradients\n",
        "        else:\n",
        "            with torch.no_grad():\n",
        "                output = self.vlm(**input_dict, labels=labels_idxs)\n",
        "                logits = output.logits\n",
        "                loss = output.loss\n",
        "                attentions = output.attentions\n",
        "\n",
        "        # # Check for memory usage\n",
        "        # print_gpu_memory()\n",
        "\n",
        "        return logits, loss, attentions"
      ],
      "metadata": {
        "id": "prExKkef7FWm"
      },
      "execution_count": null,
      "outputs": []
    },
    {
      "cell_type": "markdown",
      "metadata": {
        "id": "Y-E0LJNJRyTG"
      },
      "source": [
        "### Define LLM & Tokenizer"
      ]
    },
    {
      "cell_type": "code",
      "execution_count": null,
      "metadata": {
        "id": "mNvUgKd7R44i",
        "outputId": "15ee334b-adb3-43b8-f25a-c53227d33db9",
        "colab": {
          "base_uri": "https://localhost:8080/",
          "height": 299,
          "referenced_widgets": [
            "009a504fc4544702afb310fd1b22499e",
            "2b71f63301624f0f83a6584cff9b7dbf",
            "0be1e29ae0784ddcbb630810986e7c24",
            "d807560efe974a3395b241f35a55b272",
            "048f6f8dd4ed42e98a71d174ba0511a7",
            "378308402df64ed3aae26578602754bd",
            "1c93b14bc0b84603b0fef48d42aef617",
            "0d0a97d38fa849ce88a64dc216009195",
            "6f929b1dd1204eb98a7b9d8a91e6794b",
            "ef286149193e4123aacb8778f2ba8b86",
            "cff991bdccdb40bc92ef61edcf63fc64",
            "653ad5026e7a4375a1d1b4429b6d5307",
            "dc8705f7c6c048b692098574958eefae",
            "aa13406f13044a85b25e2fd23de421ef",
            "341ff48195d14ff69396bf8e84abaca1",
            "d6257ee5d11e40cc847fb71dccc40586",
            "6e28933891b8416b85d9ecb7168e103e",
            "75452179d1ed4809b7f22fc49be0e0d7",
            "73da9e5f03c444a99883078f8cdc6537",
            "45b50bc40bb1421d9e46c8c7ac6b3816",
            "3e5034a2dfa54b938ba086805f952b62",
            "ebc231bc755744abbe52fb281d926360",
            "979da11551ea4abcaa49660c99f0a7e5",
            "3830c883c691407aa63f998222f80694",
            "eab25fd47c7d46cca141af53ea02b6da",
            "cd4ec73966e94efaaedf2e3a2dcd7022",
            "eb0273261985491dac402cfb8e942b47",
            "4aaa2b8b667f4f71b8f153ba80c0d4cd",
            "a83b5a095fcd435aa914b98ff8a67aeb",
            "33478dbfc84d4059bc27d39087dd00dd",
            "dae67bd3b35a469fbf60a47428defbed",
            "4d0009e463f04ad880bbdebc3442e0fb",
            "8016233b9eaa459aa8a6431ac6336db7",
            "19283dce09874717bbf309804c51bcfc",
            "869e764072ba422997b19c9af47074ce",
            "e47e9c9a284a48ea9ae3dc32c973cd0a",
            "913a1387621b41c2acdf17f432b94eda",
            "239b2f7b1f6e46b38d14a560c90c457b",
            "b815d705f01641bf97de3d48c4ec1934",
            "ce1a611f57a04080acb6e930e3a9ddf1",
            "2d3e85ea094c4f03ae86a21ae401256d",
            "5a470610935e4c93b76128a0b0e36d3a",
            "6b053efbac864d688d3cae41c8daeb3d",
            "4e9e61bd789e4aa59827dfcd5a74661b",
            "3ca764e828554e57b3cfd477913c4975",
            "252a9c4ecaa54e259558f74f6eed32fc",
            "a58ec3604c51463cb1041d9e211c6c33",
            "ea1cb97065d5491f949f28cf5c1221b1",
            "b13247f386da40debec5e7eaea5b1bfa",
            "ce3a168ea32b43e5a86ec070e37be5e8",
            "744fcf1c7fef4d638d29ca84a7875141",
            "f8f70f99cbd4424288b0c985f915aad2",
            "a2ed37dac8754269b56b7b264623a753",
            "1d18c9d2a22f404ea7bedf74b2fd04dd",
            "35b01f38b76d4045b5ef45a0a3ba1917"
          ]
        }
      },
      "outputs": [
        {
          "output_type": "stream",
          "name": "stderr",
          "text": [
            "/usr/local/lib/python3.10/dist-packages/huggingface_hub/utils/_token.py:88: UserWarning: \n",
            "The secret `HF_TOKEN` does not exist in your Colab secrets.\n",
            "To authenticate with the Hugging Face Hub, create a token in your settings tab (https://huggingface.co/settings/tokens), set it as secret in your Google Colab and restart your session.\n",
            "You will be able to reuse this secret in all of your notebooks.\n",
            "Please note that authentication is recommended but still optional to access public models or datasets.\n",
            "  warnings.warn(\n"
          ]
        },
        {
          "output_type": "display_data",
          "data": {
            "text/plain": [
              "tokenizer_config.json:   0%|          | 0.00/48.0 [00:00<?, ?B/s]"
            ],
            "application/vnd.jupyter.widget-view+json": {
              "version_major": 2,
              "version_minor": 0,
              "model_id": "009a504fc4544702afb310fd1b22499e"
            }
          },
          "metadata": {}
        },
        {
          "output_type": "display_data",
          "data": {
            "text/plain": [
              "config.json:   0%|          | 0.00/570 [00:00<?, ?B/s]"
            ],
            "application/vnd.jupyter.widget-view+json": {
              "version_major": 2,
              "version_minor": 0,
              "model_id": "653ad5026e7a4375a1d1b4429b6d5307"
            }
          },
          "metadata": {}
        },
        {
          "output_type": "display_data",
          "data": {
            "text/plain": [
              "vocab.txt:   0%|          | 0.00/232k [00:00<?, ?B/s]"
            ],
            "application/vnd.jupyter.widget-view+json": {
              "version_major": 2,
              "version_minor": 0,
              "model_id": "979da11551ea4abcaa49660c99f0a7e5"
            }
          },
          "metadata": {}
        },
        {
          "output_type": "display_data",
          "data": {
            "text/plain": [
              "tokenizer.json:   0%|          | 0.00/466k [00:00<?, ?B/s]"
            ],
            "application/vnd.jupyter.widget-view+json": {
              "version_major": 2,
              "version_minor": 0,
              "model_id": "19283dce09874717bbf309804c51bcfc"
            }
          },
          "metadata": {}
        },
        {
          "output_type": "display_data",
          "data": {
            "text/plain": [
              "config.json:   0%|          | 0.00/153k [00:00<?, ?B/s]"
            ],
            "application/vnd.jupyter.widget-view+json": {
              "version_major": 2,
              "version_minor": 0,
              "model_id": "3ca764e828554e57b3cfd477913c4975"
            }
          },
          "metadata": {}
        }
      ],
      "source": [
        "# Pre-trained base case for VQA provided in documentation\n",
        "# tokenizer = AutoTokenizer.from_pretrained(\"deepset/bert-base-cased-squad2\")\n",
        "# bertModel = BertForQuestionAnswering.from_pretrained(\"deepset/bert-base-cased-squad2\")\n",
        "tokenizer = AutoTokenizer.from_pretrained(\"google-bert/bert-base-uncased\")\n",
        "# Modify the visual embedding config so that size of the features matches\n",
        "configuration = VisualBertConfig.from_pretrained(\"uclanlp/visualbert-vqa\",\n",
        "                                                 visual_embedding_dim=512,\n",
        "                                                 num_labels=answers_ids_tensor.shape[0],\n",
        "                                                 output_attentions=True)\n",
        "visualBert = VisualBertForQuestionAnswering(configuration)"
      ]
    },
    {
      "cell_type": "markdown",
      "metadata": {
        "id": "uzfYKLV5RrVi"
      },
      "source": [
        "## Training Loop"
      ]
    },
    {
      "cell_type": "code",
      "execution_count": null,
      "metadata": {
        "id": "npW_X4I3c8dI"
      },
      "outputs": [],
      "source": [
        "# Create the VQA Model and pass it to the GPU\n",
        "vqa_model = VQAModel(resnet, visualBert, tokenizer)"
      ]
    },
    {
      "cell_type": "code",
      "execution_count": null,
      "metadata": {
        "id": "NVeBMAK4dQuQ",
        "outputId": "51782a47-f24a-459d-d162-402fcfc22b71",
        "colab": {
          "base_uri": "https://localhost:8080/"
        }
      },
      "outputs": [
        {
          "output_type": "execute_result",
          "data": {
            "text/plain": [
              "VQAModel(\n",
              "  (resnet): ResNet(\n",
              "    (conv1): Conv2d(3, 64, kernel_size=(7, 7), stride=(2, 2), padding=(3, 3), bias=False)\n",
              "    (bn1): BatchNorm2d(64, eps=1e-05, momentum=0.1, affine=True, track_running_stats=True)\n",
              "    (relu): ReLU(inplace=True)\n",
              "    (maxpool): MaxPool2d(kernel_size=3, stride=2, padding=1, dilation=1, ceil_mode=False)\n",
              "    (layer1): Sequential(\n",
              "      (0): BasicBlock(\n",
              "        (conv1): Conv2d(64, 64, kernel_size=(3, 3), stride=(1, 1), padding=(1, 1), bias=False)\n",
              "        (bn1): BatchNorm2d(64, eps=1e-05, momentum=0.1, affine=True, track_running_stats=True)\n",
              "        (relu): ReLU(inplace=True)\n",
              "        (conv2): Conv2d(64, 64, kernel_size=(3, 3), stride=(1, 1), padding=(1, 1), bias=False)\n",
              "        (bn2): BatchNorm2d(64, eps=1e-05, momentum=0.1, affine=True, track_running_stats=True)\n",
              "      )\n",
              "      (1): BasicBlock(\n",
              "        (conv1): Conv2d(64, 64, kernel_size=(3, 3), stride=(1, 1), padding=(1, 1), bias=False)\n",
              "        (bn1): BatchNorm2d(64, eps=1e-05, momentum=0.1, affine=True, track_running_stats=True)\n",
              "        (relu): ReLU(inplace=True)\n",
              "        (conv2): Conv2d(64, 64, kernel_size=(3, 3), stride=(1, 1), padding=(1, 1), bias=False)\n",
              "        (bn2): BatchNorm2d(64, eps=1e-05, momentum=0.1, affine=True, track_running_stats=True)\n",
              "      )\n",
              "    )\n",
              "    (layer2): Sequential(\n",
              "      (0): BasicBlock(\n",
              "        (conv1): Conv2d(64, 128, kernel_size=(3, 3), stride=(2, 2), padding=(1, 1), bias=False)\n",
              "        (bn1): BatchNorm2d(128, eps=1e-05, momentum=0.1, affine=True, track_running_stats=True)\n",
              "        (relu): ReLU(inplace=True)\n",
              "        (conv2): Conv2d(128, 128, kernel_size=(3, 3), stride=(1, 1), padding=(1, 1), bias=False)\n",
              "        (bn2): BatchNorm2d(128, eps=1e-05, momentum=0.1, affine=True, track_running_stats=True)\n",
              "        (downsample): Sequential(\n",
              "          (0): Conv2d(64, 128, kernel_size=(1, 1), stride=(2, 2), bias=False)\n",
              "          (1): BatchNorm2d(128, eps=1e-05, momentum=0.1, affine=True, track_running_stats=True)\n",
              "        )\n",
              "      )\n",
              "      (1): BasicBlock(\n",
              "        (conv1): Conv2d(128, 128, kernel_size=(3, 3), stride=(1, 1), padding=(1, 1), bias=False)\n",
              "        (bn1): BatchNorm2d(128, eps=1e-05, momentum=0.1, affine=True, track_running_stats=True)\n",
              "        (relu): ReLU(inplace=True)\n",
              "        (conv2): Conv2d(128, 128, kernel_size=(3, 3), stride=(1, 1), padding=(1, 1), bias=False)\n",
              "        (bn2): BatchNorm2d(128, eps=1e-05, momentum=0.1, affine=True, track_running_stats=True)\n",
              "      )\n",
              "    )\n",
              "    (layer3): Sequential(\n",
              "      (0): BasicBlock(\n",
              "        (conv1): Conv2d(128, 256, kernel_size=(3, 3), stride=(2, 2), padding=(1, 1), bias=False)\n",
              "        (bn1): BatchNorm2d(256, eps=1e-05, momentum=0.1, affine=True, track_running_stats=True)\n",
              "        (relu): ReLU(inplace=True)\n",
              "        (conv2): Conv2d(256, 256, kernel_size=(3, 3), stride=(1, 1), padding=(1, 1), bias=False)\n",
              "        (bn2): BatchNorm2d(256, eps=1e-05, momentum=0.1, affine=True, track_running_stats=True)\n",
              "        (downsample): Sequential(\n",
              "          (0): Conv2d(128, 256, kernel_size=(1, 1), stride=(2, 2), bias=False)\n",
              "          (1): BatchNorm2d(256, eps=1e-05, momentum=0.1, affine=True, track_running_stats=True)\n",
              "        )\n",
              "      )\n",
              "      (1): BasicBlock(\n",
              "        (conv1): Conv2d(256, 256, kernel_size=(3, 3), stride=(1, 1), padding=(1, 1), bias=False)\n",
              "        (bn1): BatchNorm2d(256, eps=1e-05, momentum=0.1, affine=True, track_running_stats=True)\n",
              "        (relu): ReLU(inplace=True)\n",
              "        (conv2): Conv2d(256, 256, kernel_size=(3, 3), stride=(1, 1), padding=(1, 1), bias=False)\n",
              "        (bn2): BatchNorm2d(256, eps=1e-05, momentum=0.1, affine=True, track_running_stats=True)\n",
              "      )\n",
              "    )\n",
              "    (layer4): Sequential(\n",
              "      (0): BasicBlock(\n",
              "        (conv1): Conv2d(256, 512, kernel_size=(3, 3), stride=(2, 2), padding=(1, 1), bias=False)\n",
              "        (bn1): BatchNorm2d(512, eps=1e-05, momentum=0.1, affine=True, track_running_stats=True)\n",
              "        (relu): ReLU(inplace=True)\n",
              "        (conv2): Conv2d(512, 512, kernel_size=(3, 3), stride=(1, 1), padding=(1, 1), bias=False)\n",
              "        (bn2): BatchNorm2d(512, eps=1e-05, momentum=0.1, affine=True, track_running_stats=True)\n",
              "        (downsample): Sequential(\n",
              "          (0): Conv2d(256, 512, kernel_size=(1, 1), stride=(2, 2), bias=False)\n",
              "          (1): BatchNorm2d(512, eps=1e-05, momentum=0.1, affine=True, track_running_stats=True)\n",
              "        )\n",
              "      )\n",
              "      (1): BasicBlock(\n",
              "        (conv1): Conv2d(512, 512, kernel_size=(3, 3), stride=(1, 1), padding=(1, 1), bias=False)\n",
              "        (bn1): BatchNorm2d(512, eps=1e-05, momentum=0.1, affine=True, track_running_stats=True)\n",
              "        (relu): ReLU(inplace=True)\n",
              "        (conv2): Conv2d(512, 512, kernel_size=(3, 3), stride=(1, 1), padding=(1, 1), bias=False)\n",
              "        (bn2): BatchNorm2d(512, eps=1e-05, momentum=0.1, affine=True, track_running_stats=True)\n",
              "      )\n",
              "    )\n",
              "    (avgpool): Identity()\n",
              "    (fc): Identity()\n",
              "  )\n",
              "  (vlm): VisualBertForQuestionAnswering(\n",
              "    (visual_bert): VisualBertModel(\n",
              "      (embeddings): VisualBertEmbeddings(\n",
              "        (word_embeddings): Embedding(30522, 768, padding_idx=1)\n",
              "        (position_embeddings): Embedding(512, 768)\n",
              "        (token_type_embeddings): Embedding(2, 768)\n",
              "        (LayerNorm): LayerNorm((768,), eps=1e-12, elementwise_affine=True)\n",
              "        (dropout): Dropout(p=0.1, inplace=False)\n",
              "        (visual_token_type_embeddings): Embedding(2, 768)\n",
              "        (visual_position_embeddings): Embedding(512, 768)\n",
              "        (visual_projection): Linear(in_features=512, out_features=768, bias=True)\n",
              "      )\n",
              "      (encoder): VisualBertEncoder(\n",
              "        (layer): ModuleList(\n",
              "          (0-11): 12 x VisualBertLayer(\n",
              "            (attention): VisualBertAttention(\n",
              "              (self): VisualBertSelfAttention(\n",
              "                (query): Linear(in_features=768, out_features=768, bias=True)\n",
              "                (key): Linear(in_features=768, out_features=768, bias=True)\n",
              "                (value): Linear(in_features=768, out_features=768, bias=True)\n",
              "                (dropout): Dropout(p=0.1, inplace=False)\n",
              "              )\n",
              "              (output): VisualBertSelfOutput(\n",
              "                (dense): Linear(in_features=768, out_features=768, bias=True)\n",
              "                (LayerNorm): LayerNorm((768,), eps=1e-12, elementwise_affine=True)\n",
              "                (dropout): Dropout(p=0.1, inplace=False)\n",
              "              )\n",
              "            )\n",
              "            (intermediate): VisualBertIntermediate(\n",
              "              (dense): Linear(in_features=768, out_features=3072, bias=True)\n",
              "              (intermediate_act_fn): GELUActivation()\n",
              "            )\n",
              "            (output): VisualBertOutput(\n",
              "              (dense): Linear(in_features=3072, out_features=768, bias=True)\n",
              "              (LayerNorm): LayerNorm((768,), eps=1e-12, elementwise_affine=True)\n",
              "              (dropout): Dropout(p=0.1, inplace=False)\n",
              "            )\n",
              "          )\n",
              "        )\n",
              "      )\n",
              "      (pooler): VisualBertPooler(\n",
              "        (dense): Linear(in_features=768, out_features=768, bias=True)\n",
              "        (activation): Tanh()\n",
              "      )\n",
              "    )\n",
              "    (dropout): Dropout(p=0.1, inplace=False)\n",
              "    (cls): Linear(in_features=768, out_features=102, bias=True)\n",
              "  )\n",
              ")"
            ]
          },
          "metadata": {},
          "execution_count": 43
        }
      ],
      "source": [
        "device = torch.device(\"cuda\" if torch.cuda.is_available() else \"cpu\")\n",
        "vqa_model.to(device)"
      ]
    },
    {
      "cell_type": "code",
      "execution_count": null,
      "metadata": {
        "id": "rBFSlcm-dQiS"
      },
      "outputs": [],
      "source": [
        "# Define hyperparameters\n",
        "learning_rate = 5e-5\n",
        "num_epochs = 4"
      ]
    },
    {
      "cell_type": "code",
      "execution_count": null,
      "metadata": {
        "id": "xrFgqLKddlJk"
      },
      "outputs": [],
      "source": [
        "# Define optimizer\n",
        "optimizer = torch.optim.AdamW(filter(lambda p: p.requires_grad, vqa_model.parameters()), lr=learning_rate)"
      ]
    },
    {
      "cell_type": "code",
      "source": [
        "# Extract all image features for the dataloader\n",
        "with torch.no_grad():\n",
        "    image_features = extract_image_features(vqa_model.resnet, pizarro_dataloader)"
      ],
      "metadata": {
        "id": "Gz8cJxSB9NYq"
      },
      "execution_count": null,
      "outputs": []
    },
    {
      "cell_type": "code",
      "source": [
        "image_features.size()"
      ],
      "metadata": {
        "id": "Dq7tFNabFWxC",
        "outputId": "93c3a21e-af93-4d26-e05d-28bf5442c871",
        "colab": {
          "base_uri": "https://localhost:8080/"
        }
      },
      "execution_count": null,
      "outputs": [
        {
          "output_type": "execute_result",
          "data": {
            "text/plain": [
              "torch.Size([500, 7, 7, 512])"
            ]
          },
          "metadata": {},
          "execution_count": 47
        }
      ]
    },
    {
      "cell_type": "code",
      "source": [
        "# Set the model in training mode\n",
        "vqa_model.train()\n",
        "# Training loop\n",
        "for epoch in range(num_epochs):\n",
        "    total_loss = 0.0\n",
        "    num_batches = 0\n",
        "    text_results = []\n",
        "    for images, masks, questions, answers in tqdm(pizarro_dataloader, desc=f'Epoch {epoch+1}/{num_epochs}', unit='batch'):\n",
        "\n",
        "        # Track batch loss\n",
        "        batch_loss = 0.0\n",
        "\n",
        "        # Transpose questions and answers\n",
        "        questions = np.transpose(questions)\n",
        "        answers = np.transpose(answers)\n",
        "        # Store shape for iteration\n",
        "        num_images, num_questions_per_image = np.shape(questions)\n",
        "\n",
        "        # Iterate over all questions for each image\n",
        "        for image_idx in range(num_images):\n",
        "          for question_idx in range(num_questions_per_image):\n",
        "\n",
        "            # Avoid using previous gradients\n",
        "            optimizer.zero_grad()\n",
        "\n",
        "            #Forward pass\n",
        "            outputs, loss, attentions = vqa_model(image_features[image_idx], questions[image_idx,question_idx], answers_ids_tensor, training=False)\n",
        "\n",
        "            break\n",
        "\n",
        "            # Backpropagation\n",
        "            loss.backward()\n",
        "            optimizer.step()\n",
        "\n",
        "            batch_loss += loss.item() / (num_images * num_questions_per_image)\n",
        "\n",
        "            # Store the text predicted answers, the ground truth and corresponding question\n",
        "            probabilities = torch.softmax(outputs, dim=-1)\n",
        "            pred_idx = torch.argmax(probabilities, dim=-1)\n",
        "            pred_answer = id2label[pred_idx.item()]\n",
        "\n",
        "            text_results.append({\n",
        "                  \"Image ID\": image_idx,\n",
        "                  \"Question\": questions[image_idx,question_idx],\n",
        "                  \"Ground Truth\": answers[image_idx, question_idx],\n",
        "                  \"Prediction\": pred_answer\n",
        "                  })\n",
        "\n",
        "            # Remove unnecessary tensors from memory\n",
        "            del loss\n",
        "            del outputs\n",
        "\n",
        "          break\n",
        "\n",
        "        # Print batch loss\n",
        "        print(f\"Batch Loss: {batch_loss}\")\n",
        "\n",
        "        break\n",
        "\n",
        "        # Accumulate the total loss and num of batches\n",
        "        total_loss += batch_loss\n",
        "        num_batches += 1\n",
        "\n",
        "    # Aaverage training loss for the epoch\n",
        "    avg_loss = total_loss / num_batches\n",
        "    print(f\"Epoch {epoch + 1}, Average Loss: {avg_loss}\")\n",
        "\n",
        "    # Save trained model after each epoch\n",
        "    torch.save(vqa_model.state_dict(), f'trained_vqa_model_epoch{epoch+1}.pth')"
      ],
      "metadata": {
        "id": "HeOUYMA052Cs"
      },
      "execution_count": null,
      "outputs": []
    },
    {
      "cell_type": "code",
      "source": [
        "attentions[0].size()"
      ],
      "metadata": {
        "colab": {
          "base_uri": "https://localhost:8080/"
        },
        "id": "V398WsJTh_JH",
        "outputId": "769a7b79-a4de-4923-f7b5-32d7cce3be57"
      },
      "execution_count": null,
      "outputs": [
        {
          "output_type": "execute_result",
          "data": {
            "text/plain": [
              "torch.Size([1, 12, 58, 58])"
            ]
          },
          "metadata": {},
          "execution_count": 81
        }
      ]
    },
    {
      "cell_type": "code",
      "source": [
        "inputs = tokenizer.encode(questions[image_idx,question_idx],\n",
        "                          return_token_type_ids=True,\n",
        "                          return_tensors='pt')\n",
        "inputs"
      ],
      "metadata": {
        "id": "dAY5oyLBeUq4",
        "outputId": "a3dc2d76-980c-4b4e-a8c9-11fba54c9a59",
        "colab": {
          "base_uri": "https://localhost:8080/"
        }
      },
      "execution_count": null,
      "outputs": [
        {
          "output_type": "execute_result",
          "data": {
            "text/plain": [
              "tensor([[  101,  2064,  2017,  6235,  1996,  2236, 21776,  1029,   102]])"
            ]
          },
          "metadata": {},
          "execution_count": 72
        }
      ]
    },
    {
      "cell_type": "code",
      "source": [
        "tokens = tokenizer.convert_ids_to_tokens(inputs[0])\n",
        "tokens"
      ],
      "metadata": {
        "id": "S8J2gTzphFGo",
        "outputId": "d0ed9362-ec9d-492a-e534-8a7acc5d18ad",
        "colab": {
          "base_uri": "https://localhost:8080/"
        }
      },
      "execution_count": null,
      "outputs": [
        {
          "output_type": "execute_result",
          "data": {
            "text/plain": [
              "['[CLS]',\n",
              " 'can',\n",
              " 'you',\n",
              " 'describe',\n",
              " 'the',\n",
              " 'general',\n",
              " 'silhouette',\n",
              " '?',\n",
              " '[SEP]']"
            ]
          },
          "metadata": {},
          "execution_count": 73
        }
      ]
    },
    {
      "cell_type": "code",
      "source": [
        "# Tokenize image features\n",
        "tokenized_features = []\n",
        "for i in range(7):\n",
        "    for j in range(7):\n",
        "        # Convert indices to token format\n",
        "        token = f'Feature {i+1}x{j+1}'\n",
        "        tokenized_features.append(token)"
      ],
      "metadata": {
        "id": "I8AekiwYikhM"
      },
      "execution_count": null,
      "outputs": []
    },
    {
      "cell_type": "code",
      "source": [
        "tokens_concatenated = tokens + tokenized_features\n",
        "len(tokens_concatenated)"
      ],
      "metadata": {
        "id": "53UNK1PDiu-u",
        "outputId": "12faef9c-d1c0-46f6-cf5a-764b8faf9392",
        "colab": {
          "base_uri": "https://localhost:8080/"
        }
      },
      "execution_count": null,
      "outputs": [
        {
          "output_type": "execute_result",
          "data": {
            "text/plain": [
              "58"
            ]
          },
          "metadata": {},
          "execution_count": 78
        }
      ]
    },
    {
      "cell_type": "code",
      "source": [
        "tokens_concatenated"
      ],
      "metadata": {
        "id": "EAo3qaqYlTBM"
      },
      "execution_count": null,
      "outputs": []
    },
    {
      "cell_type": "code",
      "source": [
        "head_view(attentions, tokens_concatenated)"
      ],
      "metadata": {
        "id": "9FZmEPa8gYH3"
      },
      "execution_count": null,
      "outputs": []
    },
    {
      "cell_type": "code",
      "source": [
        "# Reshape attentions tensor to [12, 58, 58] to iterate over each attention head\n",
        "attentions = attentions[0].squeeze(0)\n",
        "\n",
        "# Plot heatmap for each attention head\n",
        "for head_index in range(attentions.size(0)):\n",
        "    # Get attention values for the current head\n",
        "    attention_values = attentions[head_index].cpu().numpy()\n",
        "\n",
        "    # Plot heatmap\n",
        "    plt.figure(figsize=(8, 6))\n",
        "    plt.imshow(attention_values, cmap='viridis', interpolation='nearest')\n",
        "    plt.colorbar()\n",
        "    plt.title(f'Attention Heatmap - Head {head_index + 1}')\n",
        "    plt.xlabel('Tokens')\n",
        "    plt.ylabel('Tokens')\n",
        "    plt.show()"
      ],
      "metadata": {
        "id": "QCW90iWbkxOc"
      },
      "execution_count": null,
      "outputs": []
    },
    {
      "cell_type": "code",
      "source": [
        "# Extract attention values between sentence tokens and image feature placeholders\n",
        "token_attentions = attentions[:, :, :9, 9:]\n",
        "\n",
        "# Plot heatmap for each attention head\n",
        "num_heads = token_attentions.size(1)\n",
        "plt.figure(figsize=(15, 10))\n",
        "for head_index in range(num_heads):\n",
        "    plt.subplot(3, 4, head_index + 1)\n",
        "    sns.heatmap(token_attentions[0, head_index].T.cpu().numpy(), cmap='viridis', annot=True,\n",
        "                xticklabels=tokens,\n",
        "                yticklabels= tokenized_features)\n",
        "    plt.title(f'Attention Head {head_index + 1}')\n",
        "    plt.xlabel('Sentence Tokens')\n",
        "    plt.ylabel('Image Features')\n",
        "plt.tight_layout()\n",
        "plt.show()"
      ],
      "metadata": {
        "id": "f2UmcjsDraQV"
      },
      "execution_count": null,
      "outputs": []
    },
    {
      "cell_type": "code",
      "source": [
        "# predictions = []\n",
        "# for image_idx in range(len(outputs)):\n",
        "#   image_answers = []\n",
        "#   for output in outputs[image_idx]:\n",
        "#       logits = output.logits\n",
        "#       probabilities = torch.softmax(logits, dim=-1)  # Apply softmax along the last dimension\n",
        "#       pred_index = torch.argmax(probabilities, dim=-1)  # Get the index of the maximum probability\n",
        "#       pred_label = id2label[pred_index.item()]\n",
        "#       image_answers.append(pred_label)\n",
        "#   predictions.append(image_answers)\n",
        "# predictions"
      ],
      "metadata": {
        "id": "yT4abmfGZWT2"
      },
      "execution_count": null,
      "outputs": []
    },
    {
      "cell_type": "code",
      "source": [
        "# for param in vqa_model.parameters():\n",
        "#       print(param.grad)"
      ],
      "metadata": {
        "id": "n7HOlCbka4uD"
      },
      "execution_count": null,
      "outputs": []
    }
  ],
  "metadata": {
    "accelerator": "GPU",
    "colab": {
      "gpuType": "T4",
      "provenance": [],
      "include_colab_link": true
    },
    "kernelspec": {
      "display_name": "Python 3",
      "name": "python3"
    },
    "language_info": {
      "name": "python"
    },
    "widgets": {
      "application/vnd.jupyter.widget-state+json": {
        "009a504fc4544702afb310fd1b22499e": {
          "model_module": "@jupyter-widgets/controls",
          "model_name": "HBoxModel",
          "model_module_version": "1.5.0",
          "state": {
            "_dom_classes": [],
            "_model_module": "@jupyter-widgets/controls",
            "_model_module_version": "1.5.0",
            "_model_name": "HBoxModel",
            "_view_count": null,
            "_view_module": "@jupyter-widgets/controls",
            "_view_module_version": "1.5.0",
            "_view_name": "HBoxView",
            "box_style": "",
            "children": [
              "IPY_MODEL_2b71f63301624f0f83a6584cff9b7dbf",
              "IPY_MODEL_0be1e29ae0784ddcbb630810986e7c24",
              "IPY_MODEL_d807560efe974a3395b241f35a55b272"
            ],
            "layout": "IPY_MODEL_048f6f8dd4ed42e98a71d174ba0511a7"
          }
        },
        "2b71f63301624f0f83a6584cff9b7dbf": {
          "model_module": "@jupyter-widgets/controls",
          "model_name": "HTMLModel",
          "model_module_version": "1.5.0",
          "state": {
            "_dom_classes": [],
            "_model_module": "@jupyter-widgets/controls",
            "_model_module_version": "1.5.0",
            "_model_name": "HTMLModel",
            "_view_count": null,
            "_view_module": "@jupyter-widgets/controls",
            "_view_module_version": "1.5.0",
            "_view_name": "HTMLView",
            "description": "",
            "description_tooltip": null,
            "layout": "IPY_MODEL_378308402df64ed3aae26578602754bd",
            "placeholder": "​",
            "style": "IPY_MODEL_1c93b14bc0b84603b0fef48d42aef617",
            "value": "tokenizer_config.json: 100%"
          }
        },
        "0be1e29ae0784ddcbb630810986e7c24": {
          "model_module": "@jupyter-widgets/controls",
          "model_name": "FloatProgressModel",
          "model_module_version": "1.5.0",
          "state": {
            "_dom_classes": [],
            "_model_module": "@jupyter-widgets/controls",
            "_model_module_version": "1.5.0",
            "_model_name": "FloatProgressModel",
            "_view_count": null,
            "_view_module": "@jupyter-widgets/controls",
            "_view_module_version": "1.5.0",
            "_view_name": "ProgressView",
            "bar_style": "success",
            "description": "",
            "description_tooltip": null,
            "layout": "IPY_MODEL_0d0a97d38fa849ce88a64dc216009195",
            "max": 48,
            "min": 0,
            "orientation": "horizontal",
            "style": "IPY_MODEL_6f929b1dd1204eb98a7b9d8a91e6794b",
            "value": 48
          }
        },
        "d807560efe974a3395b241f35a55b272": {
          "model_module": "@jupyter-widgets/controls",
          "model_name": "HTMLModel",
          "model_module_version": "1.5.0",
          "state": {
            "_dom_classes": [],
            "_model_module": "@jupyter-widgets/controls",
            "_model_module_version": "1.5.0",
            "_model_name": "HTMLModel",
            "_view_count": null,
            "_view_module": "@jupyter-widgets/controls",
            "_view_module_version": "1.5.0",
            "_view_name": "HTMLView",
            "description": "",
            "description_tooltip": null,
            "layout": "IPY_MODEL_ef286149193e4123aacb8778f2ba8b86",
            "placeholder": "​",
            "style": "IPY_MODEL_cff991bdccdb40bc92ef61edcf63fc64",
            "value": " 48.0/48.0 [00:00&lt;00:00, 3.54kB/s]"
          }
        },
        "048f6f8dd4ed42e98a71d174ba0511a7": {
          "model_module": "@jupyter-widgets/base",
          "model_name": "LayoutModel",
          "model_module_version": "1.2.0",
          "state": {
            "_model_module": "@jupyter-widgets/base",
            "_model_module_version": "1.2.0",
            "_model_name": "LayoutModel",
            "_view_count": null,
            "_view_module": "@jupyter-widgets/base",
            "_view_module_version": "1.2.0",
            "_view_name": "LayoutView",
            "align_content": null,
            "align_items": null,
            "align_self": null,
            "border": null,
            "bottom": null,
            "display": null,
            "flex": null,
            "flex_flow": null,
            "grid_area": null,
            "grid_auto_columns": null,
            "grid_auto_flow": null,
            "grid_auto_rows": null,
            "grid_column": null,
            "grid_gap": null,
            "grid_row": null,
            "grid_template_areas": null,
            "grid_template_columns": null,
            "grid_template_rows": null,
            "height": null,
            "justify_content": null,
            "justify_items": null,
            "left": null,
            "margin": null,
            "max_height": null,
            "max_width": null,
            "min_height": null,
            "min_width": null,
            "object_fit": null,
            "object_position": null,
            "order": null,
            "overflow": null,
            "overflow_x": null,
            "overflow_y": null,
            "padding": null,
            "right": null,
            "top": null,
            "visibility": null,
            "width": null
          }
        },
        "378308402df64ed3aae26578602754bd": {
          "model_module": "@jupyter-widgets/base",
          "model_name": "LayoutModel",
          "model_module_version": "1.2.0",
          "state": {
            "_model_module": "@jupyter-widgets/base",
            "_model_module_version": "1.2.0",
            "_model_name": "LayoutModel",
            "_view_count": null,
            "_view_module": "@jupyter-widgets/base",
            "_view_module_version": "1.2.0",
            "_view_name": "LayoutView",
            "align_content": null,
            "align_items": null,
            "align_self": null,
            "border": null,
            "bottom": null,
            "display": null,
            "flex": null,
            "flex_flow": null,
            "grid_area": null,
            "grid_auto_columns": null,
            "grid_auto_flow": null,
            "grid_auto_rows": null,
            "grid_column": null,
            "grid_gap": null,
            "grid_row": null,
            "grid_template_areas": null,
            "grid_template_columns": null,
            "grid_template_rows": null,
            "height": null,
            "justify_content": null,
            "justify_items": null,
            "left": null,
            "margin": null,
            "max_height": null,
            "max_width": null,
            "min_height": null,
            "min_width": null,
            "object_fit": null,
            "object_position": null,
            "order": null,
            "overflow": null,
            "overflow_x": null,
            "overflow_y": null,
            "padding": null,
            "right": null,
            "top": null,
            "visibility": null,
            "width": null
          }
        },
        "1c93b14bc0b84603b0fef48d42aef617": {
          "model_module": "@jupyter-widgets/controls",
          "model_name": "DescriptionStyleModel",
          "model_module_version": "1.5.0",
          "state": {
            "_model_module": "@jupyter-widgets/controls",
            "_model_module_version": "1.5.0",
            "_model_name": "DescriptionStyleModel",
            "_view_count": null,
            "_view_module": "@jupyter-widgets/base",
            "_view_module_version": "1.2.0",
            "_view_name": "StyleView",
            "description_width": ""
          }
        },
        "0d0a97d38fa849ce88a64dc216009195": {
          "model_module": "@jupyter-widgets/base",
          "model_name": "LayoutModel",
          "model_module_version": "1.2.0",
          "state": {
            "_model_module": "@jupyter-widgets/base",
            "_model_module_version": "1.2.0",
            "_model_name": "LayoutModel",
            "_view_count": null,
            "_view_module": "@jupyter-widgets/base",
            "_view_module_version": "1.2.0",
            "_view_name": "LayoutView",
            "align_content": null,
            "align_items": null,
            "align_self": null,
            "border": null,
            "bottom": null,
            "display": null,
            "flex": null,
            "flex_flow": null,
            "grid_area": null,
            "grid_auto_columns": null,
            "grid_auto_flow": null,
            "grid_auto_rows": null,
            "grid_column": null,
            "grid_gap": null,
            "grid_row": null,
            "grid_template_areas": null,
            "grid_template_columns": null,
            "grid_template_rows": null,
            "height": null,
            "justify_content": null,
            "justify_items": null,
            "left": null,
            "margin": null,
            "max_height": null,
            "max_width": null,
            "min_height": null,
            "min_width": null,
            "object_fit": null,
            "object_position": null,
            "order": null,
            "overflow": null,
            "overflow_x": null,
            "overflow_y": null,
            "padding": null,
            "right": null,
            "top": null,
            "visibility": null,
            "width": null
          }
        },
        "6f929b1dd1204eb98a7b9d8a91e6794b": {
          "model_module": "@jupyter-widgets/controls",
          "model_name": "ProgressStyleModel",
          "model_module_version": "1.5.0",
          "state": {
            "_model_module": "@jupyter-widgets/controls",
            "_model_module_version": "1.5.0",
            "_model_name": "ProgressStyleModel",
            "_view_count": null,
            "_view_module": "@jupyter-widgets/base",
            "_view_module_version": "1.2.0",
            "_view_name": "StyleView",
            "bar_color": null,
            "description_width": ""
          }
        },
        "ef286149193e4123aacb8778f2ba8b86": {
          "model_module": "@jupyter-widgets/base",
          "model_name": "LayoutModel",
          "model_module_version": "1.2.0",
          "state": {
            "_model_module": "@jupyter-widgets/base",
            "_model_module_version": "1.2.0",
            "_model_name": "LayoutModel",
            "_view_count": null,
            "_view_module": "@jupyter-widgets/base",
            "_view_module_version": "1.2.0",
            "_view_name": "LayoutView",
            "align_content": null,
            "align_items": null,
            "align_self": null,
            "border": null,
            "bottom": null,
            "display": null,
            "flex": null,
            "flex_flow": null,
            "grid_area": null,
            "grid_auto_columns": null,
            "grid_auto_flow": null,
            "grid_auto_rows": null,
            "grid_column": null,
            "grid_gap": null,
            "grid_row": null,
            "grid_template_areas": null,
            "grid_template_columns": null,
            "grid_template_rows": null,
            "height": null,
            "justify_content": null,
            "justify_items": null,
            "left": null,
            "margin": null,
            "max_height": null,
            "max_width": null,
            "min_height": null,
            "min_width": null,
            "object_fit": null,
            "object_position": null,
            "order": null,
            "overflow": null,
            "overflow_x": null,
            "overflow_y": null,
            "padding": null,
            "right": null,
            "top": null,
            "visibility": null,
            "width": null
          }
        },
        "cff991bdccdb40bc92ef61edcf63fc64": {
          "model_module": "@jupyter-widgets/controls",
          "model_name": "DescriptionStyleModel",
          "model_module_version": "1.5.0",
          "state": {
            "_model_module": "@jupyter-widgets/controls",
            "_model_module_version": "1.5.0",
            "_model_name": "DescriptionStyleModel",
            "_view_count": null,
            "_view_module": "@jupyter-widgets/base",
            "_view_module_version": "1.2.0",
            "_view_name": "StyleView",
            "description_width": ""
          }
        },
        "653ad5026e7a4375a1d1b4429b6d5307": {
          "model_module": "@jupyter-widgets/controls",
          "model_name": "HBoxModel",
          "model_module_version": "1.5.0",
          "state": {
            "_dom_classes": [],
            "_model_module": "@jupyter-widgets/controls",
            "_model_module_version": "1.5.0",
            "_model_name": "HBoxModel",
            "_view_count": null,
            "_view_module": "@jupyter-widgets/controls",
            "_view_module_version": "1.5.0",
            "_view_name": "HBoxView",
            "box_style": "",
            "children": [
              "IPY_MODEL_dc8705f7c6c048b692098574958eefae",
              "IPY_MODEL_aa13406f13044a85b25e2fd23de421ef",
              "IPY_MODEL_341ff48195d14ff69396bf8e84abaca1"
            ],
            "layout": "IPY_MODEL_d6257ee5d11e40cc847fb71dccc40586"
          }
        },
        "dc8705f7c6c048b692098574958eefae": {
          "model_module": "@jupyter-widgets/controls",
          "model_name": "HTMLModel",
          "model_module_version": "1.5.0",
          "state": {
            "_dom_classes": [],
            "_model_module": "@jupyter-widgets/controls",
            "_model_module_version": "1.5.0",
            "_model_name": "HTMLModel",
            "_view_count": null,
            "_view_module": "@jupyter-widgets/controls",
            "_view_module_version": "1.5.0",
            "_view_name": "HTMLView",
            "description": "",
            "description_tooltip": null,
            "layout": "IPY_MODEL_6e28933891b8416b85d9ecb7168e103e",
            "placeholder": "​",
            "style": "IPY_MODEL_75452179d1ed4809b7f22fc49be0e0d7",
            "value": "config.json: 100%"
          }
        },
        "aa13406f13044a85b25e2fd23de421ef": {
          "model_module": "@jupyter-widgets/controls",
          "model_name": "FloatProgressModel",
          "model_module_version": "1.5.0",
          "state": {
            "_dom_classes": [],
            "_model_module": "@jupyter-widgets/controls",
            "_model_module_version": "1.5.0",
            "_model_name": "FloatProgressModel",
            "_view_count": null,
            "_view_module": "@jupyter-widgets/controls",
            "_view_module_version": "1.5.0",
            "_view_name": "ProgressView",
            "bar_style": "success",
            "description": "",
            "description_tooltip": null,
            "layout": "IPY_MODEL_73da9e5f03c444a99883078f8cdc6537",
            "max": 570,
            "min": 0,
            "orientation": "horizontal",
            "style": "IPY_MODEL_45b50bc40bb1421d9e46c8c7ac6b3816",
            "value": 570
          }
        },
        "341ff48195d14ff69396bf8e84abaca1": {
          "model_module": "@jupyter-widgets/controls",
          "model_name": "HTMLModel",
          "model_module_version": "1.5.0",
          "state": {
            "_dom_classes": [],
            "_model_module": "@jupyter-widgets/controls",
            "_model_module_version": "1.5.0",
            "_model_name": "HTMLModel",
            "_view_count": null,
            "_view_module": "@jupyter-widgets/controls",
            "_view_module_version": "1.5.0",
            "_view_name": "HTMLView",
            "description": "",
            "description_tooltip": null,
            "layout": "IPY_MODEL_3e5034a2dfa54b938ba086805f952b62",
            "placeholder": "​",
            "style": "IPY_MODEL_ebc231bc755744abbe52fb281d926360",
            "value": " 570/570 [00:00&lt;00:00, 44.1kB/s]"
          }
        },
        "d6257ee5d11e40cc847fb71dccc40586": {
          "model_module": "@jupyter-widgets/base",
          "model_name": "LayoutModel",
          "model_module_version": "1.2.0",
          "state": {
            "_model_module": "@jupyter-widgets/base",
            "_model_module_version": "1.2.0",
            "_model_name": "LayoutModel",
            "_view_count": null,
            "_view_module": "@jupyter-widgets/base",
            "_view_module_version": "1.2.0",
            "_view_name": "LayoutView",
            "align_content": null,
            "align_items": null,
            "align_self": null,
            "border": null,
            "bottom": null,
            "display": null,
            "flex": null,
            "flex_flow": null,
            "grid_area": null,
            "grid_auto_columns": null,
            "grid_auto_flow": null,
            "grid_auto_rows": null,
            "grid_column": null,
            "grid_gap": null,
            "grid_row": null,
            "grid_template_areas": null,
            "grid_template_columns": null,
            "grid_template_rows": null,
            "height": null,
            "justify_content": null,
            "justify_items": null,
            "left": null,
            "margin": null,
            "max_height": null,
            "max_width": null,
            "min_height": null,
            "min_width": null,
            "object_fit": null,
            "object_position": null,
            "order": null,
            "overflow": null,
            "overflow_x": null,
            "overflow_y": null,
            "padding": null,
            "right": null,
            "top": null,
            "visibility": null,
            "width": null
          }
        },
        "6e28933891b8416b85d9ecb7168e103e": {
          "model_module": "@jupyter-widgets/base",
          "model_name": "LayoutModel",
          "model_module_version": "1.2.0",
          "state": {
            "_model_module": "@jupyter-widgets/base",
            "_model_module_version": "1.2.0",
            "_model_name": "LayoutModel",
            "_view_count": null,
            "_view_module": "@jupyter-widgets/base",
            "_view_module_version": "1.2.0",
            "_view_name": "LayoutView",
            "align_content": null,
            "align_items": null,
            "align_self": null,
            "border": null,
            "bottom": null,
            "display": null,
            "flex": null,
            "flex_flow": null,
            "grid_area": null,
            "grid_auto_columns": null,
            "grid_auto_flow": null,
            "grid_auto_rows": null,
            "grid_column": null,
            "grid_gap": null,
            "grid_row": null,
            "grid_template_areas": null,
            "grid_template_columns": null,
            "grid_template_rows": null,
            "height": null,
            "justify_content": null,
            "justify_items": null,
            "left": null,
            "margin": null,
            "max_height": null,
            "max_width": null,
            "min_height": null,
            "min_width": null,
            "object_fit": null,
            "object_position": null,
            "order": null,
            "overflow": null,
            "overflow_x": null,
            "overflow_y": null,
            "padding": null,
            "right": null,
            "top": null,
            "visibility": null,
            "width": null
          }
        },
        "75452179d1ed4809b7f22fc49be0e0d7": {
          "model_module": "@jupyter-widgets/controls",
          "model_name": "DescriptionStyleModel",
          "model_module_version": "1.5.0",
          "state": {
            "_model_module": "@jupyter-widgets/controls",
            "_model_module_version": "1.5.0",
            "_model_name": "DescriptionStyleModel",
            "_view_count": null,
            "_view_module": "@jupyter-widgets/base",
            "_view_module_version": "1.2.0",
            "_view_name": "StyleView",
            "description_width": ""
          }
        },
        "73da9e5f03c444a99883078f8cdc6537": {
          "model_module": "@jupyter-widgets/base",
          "model_name": "LayoutModel",
          "model_module_version": "1.2.0",
          "state": {
            "_model_module": "@jupyter-widgets/base",
            "_model_module_version": "1.2.0",
            "_model_name": "LayoutModel",
            "_view_count": null,
            "_view_module": "@jupyter-widgets/base",
            "_view_module_version": "1.2.0",
            "_view_name": "LayoutView",
            "align_content": null,
            "align_items": null,
            "align_self": null,
            "border": null,
            "bottom": null,
            "display": null,
            "flex": null,
            "flex_flow": null,
            "grid_area": null,
            "grid_auto_columns": null,
            "grid_auto_flow": null,
            "grid_auto_rows": null,
            "grid_column": null,
            "grid_gap": null,
            "grid_row": null,
            "grid_template_areas": null,
            "grid_template_columns": null,
            "grid_template_rows": null,
            "height": null,
            "justify_content": null,
            "justify_items": null,
            "left": null,
            "margin": null,
            "max_height": null,
            "max_width": null,
            "min_height": null,
            "min_width": null,
            "object_fit": null,
            "object_position": null,
            "order": null,
            "overflow": null,
            "overflow_x": null,
            "overflow_y": null,
            "padding": null,
            "right": null,
            "top": null,
            "visibility": null,
            "width": null
          }
        },
        "45b50bc40bb1421d9e46c8c7ac6b3816": {
          "model_module": "@jupyter-widgets/controls",
          "model_name": "ProgressStyleModel",
          "model_module_version": "1.5.0",
          "state": {
            "_model_module": "@jupyter-widgets/controls",
            "_model_module_version": "1.5.0",
            "_model_name": "ProgressStyleModel",
            "_view_count": null,
            "_view_module": "@jupyter-widgets/base",
            "_view_module_version": "1.2.0",
            "_view_name": "StyleView",
            "bar_color": null,
            "description_width": ""
          }
        },
        "3e5034a2dfa54b938ba086805f952b62": {
          "model_module": "@jupyter-widgets/base",
          "model_name": "LayoutModel",
          "model_module_version": "1.2.0",
          "state": {
            "_model_module": "@jupyter-widgets/base",
            "_model_module_version": "1.2.0",
            "_model_name": "LayoutModel",
            "_view_count": null,
            "_view_module": "@jupyter-widgets/base",
            "_view_module_version": "1.2.0",
            "_view_name": "LayoutView",
            "align_content": null,
            "align_items": null,
            "align_self": null,
            "border": null,
            "bottom": null,
            "display": null,
            "flex": null,
            "flex_flow": null,
            "grid_area": null,
            "grid_auto_columns": null,
            "grid_auto_flow": null,
            "grid_auto_rows": null,
            "grid_column": null,
            "grid_gap": null,
            "grid_row": null,
            "grid_template_areas": null,
            "grid_template_columns": null,
            "grid_template_rows": null,
            "height": null,
            "justify_content": null,
            "justify_items": null,
            "left": null,
            "margin": null,
            "max_height": null,
            "max_width": null,
            "min_height": null,
            "min_width": null,
            "object_fit": null,
            "object_position": null,
            "order": null,
            "overflow": null,
            "overflow_x": null,
            "overflow_y": null,
            "padding": null,
            "right": null,
            "top": null,
            "visibility": null,
            "width": null
          }
        },
        "ebc231bc755744abbe52fb281d926360": {
          "model_module": "@jupyter-widgets/controls",
          "model_name": "DescriptionStyleModel",
          "model_module_version": "1.5.0",
          "state": {
            "_model_module": "@jupyter-widgets/controls",
            "_model_module_version": "1.5.0",
            "_model_name": "DescriptionStyleModel",
            "_view_count": null,
            "_view_module": "@jupyter-widgets/base",
            "_view_module_version": "1.2.0",
            "_view_name": "StyleView",
            "description_width": ""
          }
        },
        "979da11551ea4abcaa49660c99f0a7e5": {
          "model_module": "@jupyter-widgets/controls",
          "model_name": "HBoxModel",
          "model_module_version": "1.5.0",
          "state": {
            "_dom_classes": [],
            "_model_module": "@jupyter-widgets/controls",
            "_model_module_version": "1.5.0",
            "_model_name": "HBoxModel",
            "_view_count": null,
            "_view_module": "@jupyter-widgets/controls",
            "_view_module_version": "1.5.0",
            "_view_name": "HBoxView",
            "box_style": "",
            "children": [
              "IPY_MODEL_3830c883c691407aa63f998222f80694",
              "IPY_MODEL_eab25fd47c7d46cca141af53ea02b6da",
              "IPY_MODEL_cd4ec73966e94efaaedf2e3a2dcd7022"
            ],
            "layout": "IPY_MODEL_eb0273261985491dac402cfb8e942b47"
          }
        },
        "3830c883c691407aa63f998222f80694": {
          "model_module": "@jupyter-widgets/controls",
          "model_name": "HTMLModel",
          "model_module_version": "1.5.0",
          "state": {
            "_dom_classes": [],
            "_model_module": "@jupyter-widgets/controls",
            "_model_module_version": "1.5.0",
            "_model_name": "HTMLModel",
            "_view_count": null,
            "_view_module": "@jupyter-widgets/controls",
            "_view_module_version": "1.5.0",
            "_view_name": "HTMLView",
            "description": "",
            "description_tooltip": null,
            "layout": "IPY_MODEL_4aaa2b8b667f4f71b8f153ba80c0d4cd",
            "placeholder": "​",
            "style": "IPY_MODEL_a83b5a095fcd435aa914b98ff8a67aeb",
            "value": "vocab.txt: 100%"
          }
        },
        "eab25fd47c7d46cca141af53ea02b6da": {
          "model_module": "@jupyter-widgets/controls",
          "model_name": "FloatProgressModel",
          "model_module_version": "1.5.0",
          "state": {
            "_dom_classes": [],
            "_model_module": "@jupyter-widgets/controls",
            "_model_module_version": "1.5.0",
            "_model_name": "FloatProgressModel",
            "_view_count": null,
            "_view_module": "@jupyter-widgets/controls",
            "_view_module_version": "1.5.0",
            "_view_name": "ProgressView",
            "bar_style": "success",
            "description": "",
            "description_tooltip": null,
            "layout": "IPY_MODEL_33478dbfc84d4059bc27d39087dd00dd",
            "max": 231508,
            "min": 0,
            "orientation": "horizontal",
            "style": "IPY_MODEL_dae67bd3b35a469fbf60a47428defbed",
            "value": 231508
          }
        },
        "cd4ec73966e94efaaedf2e3a2dcd7022": {
          "model_module": "@jupyter-widgets/controls",
          "model_name": "HTMLModel",
          "model_module_version": "1.5.0",
          "state": {
            "_dom_classes": [],
            "_model_module": "@jupyter-widgets/controls",
            "_model_module_version": "1.5.0",
            "_model_name": "HTMLModel",
            "_view_count": null,
            "_view_module": "@jupyter-widgets/controls",
            "_view_module_version": "1.5.0",
            "_view_name": "HTMLView",
            "description": "",
            "description_tooltip": null,
            "layout": "IPY_MODEL_4d0009e463f04ad880bbdebc3442e0fb",
            "placeholder": "​",
            "style": "IPY_MODEL_8016233b9eaa459aa8a6431ac6336db7",
            "value": " 232k/232k [00:00&lt;00:00, 4.98MB/s]"
          }
        },
        "eb0273261985491dac402cfb8e942b47": {
          "model_module": "@jupyter-widgets/base",
          "model_name": "LayoutModel",
          "model_module_version": "1.2.0",
          "state": {
            "_model_module": "@jupyter-widgets/base",
            "_model_module_version": "1.2.0",
            "_model_name": "LayoutModel",
            "_view_count": null,
            "_view_module": "@jupyter-widgets/base",
            "_view_module_version": "1.2.0",
            "_view_name": "LayoutView",
            "align_content": null,
            "align_items": null,
            "align_self": null,
            "border": null,
            "bottom": null,
            "display": null,
            "flex": null,
            "flex_flow": null,
            "grid_area": null,
            "grid_auto_columns": null,
            "grid_auto_flow": null,
            "grid_auto_rows": null,
            "grid_column": null,
            "grid_gap": null,
            "grid_row": null,
            "grid_template_areas": null,
            "grid_template_columns": null,
            "grid_template_rows": null,
            "height": null,
            "justify_content": null,
            "justify_items": null,
            "left": null,
            "margin": null,
            "max_height": null,
            "max_width": null,
            "min_height": null,
            "min_width": null,
            "object_fit": null,
            "object_position": null,
            "order": null,
            "overflow": null,
            "overflow_x": null,
            "overflow_y": null,
            "padding": null,
            "right": null,
            "top": null,
            "visibility": null,
            "width": null
          }
        },
        "4aaa2b8b667f4f71b8f153ba80c0d4cd": {
          "model_module": "@jupyter-widgets/base",
          "model_name": "LayoutModel",
          "model_module_version": "1.2.0",
          "state": {
            "_model_module": "@jupyter-widgets/base",
            "_model_module_version": "1.2.0",
            "_model_name": "LayoutModel",
            "_view_count": null,
            "_view_module": "@jupyter-widgets/base",
            "_view_module_version": "1.2.0",
            "_view_name": "LayoutView",
            "align_content": null,
            "align_items": null,
            "align_self": null,
            "border": null,
            "bottom": null,
            "display": null,
            "flex": null,
            "flex_flow": null,
            "grid_area": null,
            "grid_auto_columns": null,
            "grid_auto_flow": null,
            "grid_auto_rows": null,
            "grid_column": null,
            "grid_gap": null,
            "grid_row": null,
            "grid_template_areas": null,
            "grid_template_columns": null,
            "grid_template_rows": null,
            "height": null,
            "justify_content": null,
            "justify_items": null,
            "left": null,
            "margin": null,
            "max_height": null,
            "max_width": null,
            "min_height": null,
            "min_width": null,
            "object_fit": null,
            "object_position": null,
            "order": null,
            "overflow": null,
            "overflow_x": null,
            "overflow_y": null,
            "padding": null,
            "right": null,
            "top": null,
            "visibility": null,
            "width": null
          }
        },
        "a83b5a095fcd435aa914b98ff8a67aeb": {
          "model_module": "@jupyter-widgets/controls",
          "model_name": "DescriptionStyleModel",
          "model_module_version": "1.5.0",
          "state": {
            "_model_module": "@jupyter-widgets/controls",
            "_model_module_version": "1.5.0",
            "_model_name": "DescriptionStyleModel",
            "_view_count": null,
            "_view_module": "@jupyter-widgets/base",
            "_view_module_version": "1.2.0",
            "_view_name": "StyleView",
            "description_width": ""
          }
        },
        "33478dbfc84d4059bc27d39087dd00dd": {
          "model_module": "@jupyter-widgets/base",
          "model_name": "LayoutModel",
          "model_module_version": "1.2.0",
          "state": {
            "_model_module": "@jupyter-widgets/base",
            "_model_module_version": "1.2.0",
            "_model_name": "LayoutModel",
            "_view_count": null,
            "_view_module": "@jupyter-widgets/base",
            "_view_module_version": "1.2.0",
            "_view_name": "LayoutView",
            "align_content": null,
            "align_items": null,
            "align_self": null,
            "border": null,
            "bottom": null,
            "display": null,
            "flex": null,
            "flex_flow": null,
            "grid_area": null,
            "grid_auto_columns": null,
            "grid_auto_flow": null,
            "grid_auto_rows": null,
            "grid_column": null,
            "grid_gap": null,
            "grid_row": null,
            "grid_template_areas": null,
            "grid_template_columns": null,
            "grid_template_rows": null,
            "height": null,
            "justify_content": null,
            "justify_items": null,
            "left": null,
            "margin": null,
            "max_height": null,
            "max_width": null,
            "min_height": null,
            "min_width": null,
            "object_fit": null,
            "object_position": null,
            "order": null,
            "overflow": null,
            "overflow_x": null,
            "overflow_y": null,
            "padding": null,
            "right": null,
            "top": null,
            "visibility": null,
            "width": null
          }
        },
        "dae67bd3b35a469fbf60a47428defbed": {
          "model_module": "@jupyter-widgets/controls",
          "model_name": "ProgressStyleModel",
          "model_module_version": "1.5.0",
          "state": {
            "_model_module": "@jupyter-widgets/controls",
            "_model_module_version": "1.5.0",
            "_model_name": "ProgressStyleModel",
            "_view_count": null,
            "_view_module": "@jupyter-widgets/base",
            "_view_module_version": "1.2.0",
            "_view_name": "StyleView",
            "bar_color": null,
            "description_width": ""
          }
        },
        "4d0009e463f04ad880bbdebc3442e0fb": {
          "model_module": "@jupyter-widgets/base",
          "model_name": "LayoutModel",
          "model_module_version": "1.2.0",
          "state": {
            "_model_module": "@jupyter-widgets/base",
            "_model_module_version": "1.2.0",
            "_model_name": "LayoutModel",
            "_view_count": null,
            "_view_module": "@jupyter-widgets/base",
            "_view_module_version": "1.2.0",
            "_view_name": "LayoutView",
            "align_content": null,
            "align_items": null,
            "align_self": null,
            "border": null,
            "bottom": null,
            "display": null,
            "flex": null,
            "flex_flow": null,
            "grid_area": null,
            "grid_auto_columns": null,
            "grid_auto_flow": null,
            "grid_auto_rows": null,
            "grid_column": null,
            "grid_gap": null,
            "grid_row": null,
            "grid_template_areas": null,
            "grid_template_columns": null,
            "grid_template_rows": null,
            "height": null,
            "justify_content": null,
            "justify_items": null,
            "left": null,
            "margin": null,
            "max_height": null,
            "max_width": null,
            "min_height": null,
            "min_width": null,
            "object_fit": null,
            "object_position": null,
            "order": null,
            "overflow": null,
            "overflow_x": null,
            "overflow_y": null,
            "padding": null,
            "right": null,
            "top": null,
            "visibility": null,
            "width": null
          }
        },
        "8016233b9eaa459aa8a6431ac6336db7": {
          "model_module": "@jupyter-widgets/controls",
          "model_name": "DescriptionStyleModel",
          "model_module_version": "1.5.0",
          "state": {
            "_model_module": "@jupyter-widgets/controls",
            "_model_module_version": "1.5.0",
            "_model_name": "DescriptionStyleModel",
            "_view_count": null,
            "_view_module": "@jupyter-widgets/base",
            "_view_module_version": "1.2.0",
            "_view_name": "StyleView",
            "description_width": ""
          }
        },
        "19283dce09874717bbf309804c51bcfc": {
          "model_module": "@jupyter-widgets/controls",
          "model_name": "HBoxModel",
          "model_module_version": "1.5.0",
          "state": {
            "_dom_classes": [],
            "_model_module": "@jupyter-widgets/controls",
            "_model_module_version": "1.5.0",
            "_model_name": "HBoxModel",
            "_view_count": null,
            "_view_module": "@jupyter-widgets/controls",
            "_view_module_version": "1.5.0",
            "_view_name": "HBoxView",
            "box_style": "",
            "children": [
              "IPY_MODEL_869e764072ba422997b19c9af47074ce",
              "IPY_MODEL_e47e9c9a284a48ea9ae3dc32c973cd0a",
              "IPY_MODEL_913a1387621b41c2acdf17f432b94eda"
            ],
            "layout": "IPY_MODEL_239b2f7b1f6e46b38d14a560c90c457b"
          }
        },
        "869e764072ba422997b19c9af47074ce": {
          "model_module": "@jupyter-widgets/controls",
          "model_name": "HTMLModel",
          "model_module_version": "1.5.0",
          "state": {
            "_dom_classes": [],
            "_model_module": "@jupyter-widgets/controls",
            "_model_module_version": "1.5.0",
            "_model_name": "HTMLModel",
            "_view_count": null,
            "_view_module": "@jupyter-widgets/controls",
            "_view_module_version": "1.5.0",
            "_view_name": "HTMLView",
            "description": "",
            "description_tooltip": null,
            "layout": "IPY_MODEL_b815d705f01641bf97de3d48c4ec1934",
            "placeholder": "​",
            "style": "IPY_MODEL_ce1a611f57a04080acb6e930e3a9ddf1",
            "value": "tokenizer.json: 100%"
          }
        },
        "e47e9c9a284a48ea9ae3dc32c973cd0a": {
          "model_module": "@jupyter-widgets/controls",
          "model_name": "FloatProgressModel",
          "model_module_version": "1.5.0",
          "state": {
            "_dom_classes": [],
            "_model_module": "@jupyter-widgets/controls",
            "_model_module_version": "1.5.0",
            "_model_name": "FloatProgressModel",
            "_view_count": null,
            "_view_module": "@jupyter-widgets/controls",
            "_view_module_version": "1.5.0",
            "_view_name": "ProgressView",
            "bar_style": "success",
            "description": "",
            "description_tooltip": null,
            "layout": "IPY_MODEL_2d3e85ea094c4f03ae86a21ae401256d",
            "max": 466062,
            "min": 0,
            "orientation": "horizontal",
            "style": "IPY_MODEL_5a470610935e4c93b76128a0b0e36d3a",
            "value": 466062
          }
        },
        "913a1387621b41c2acdf17f432b94eda": {
          "model_module": "@jupyter-widgets/controls",
          "model_name": "HTMLModel",
          "model_module_version": "1.5.0",
          "state": {
            "_dom_classes": [],
            "_model_module": "@jupyter-widgets/controls",
            "_model_module_version": "1.5.0",
            "_model_name": "HTMLModel",
            "_view_count": null,
            "_view_module": "@jupyter-widgets/controls",
            "_view_module_version": "1.5.0",
            "_view_name": "HTMLView",
            "description": "",
            "description_tooltip": null,
            "layout": "IPY_MODEL_6b053efbac864d688d3cae41c8daeb3d",
            "placeholder": "​",
            "style": "IPY_MODEL_4e9e61bd789e4aa59827dfcd5a74661b",
            "value": " 466k/466k [00:00&lt;00:00, 21.6MB/s]"
          }
        },
        "239b2f7b1f6e46b38d14a560c90c457b": {
          "model_module": "@jupyter-widgets/base",
          "model_name": "LayoutModel",
          "model_module_version": "1.2.0",
          "state": {
            "_model_module": "@jupyter-widgets/base",
            "_model_module_version": "1.2.0",
            "_model_name": "LayoutModel",
            "_view_count": null,
            "_view_module": "@jupyter-widgets/base",
            "_view_module_version": "1.2.0",
            "_view_name": "LayoutView",
            "align_content": null,
            "align_items": null,
            "align_self": null,
            "border": null,
            "bottom": null,
            "display": null,
            "flex": null,
            "flex_flow": null,
            "grid_area": null,
            "grid_auto_columns": null,
            "grid_auto_flow": null,
            "grid_auto_rows": null,
            "grid_column": null,
            "grid_gap": null,
            "grid_row": null,
            "grid_template_areas": null,
            "grid_template_columns": null,
            "grid_template_rows": null,
            "height": null,
            "justify_content": null,
            "justify_items": null,
            "left": null,
            "margin": null,
            "max_height": null,
            "max_width": null,
            "min_height": null,
            "min_width": null,
            "object_fit": null,
            "object_position": null,
            "order": null,
            "overflow": null,
            "overflow_x": null,
            "overflow_y": null,
            "padding": null,
            "right": null,
            "top": null,
            "visibility": null,
            "width": null
          }
        },
        "b815d705f01641bf97de3d48c4ec1934": {
          "model_module": "@jupyter-widgets/base",
          "model_name": "LayoutModel",
          "model_module_version": "1.2.0",
          "state": {
            "_model_module": "@jupyter-widgets/base",
            "_model_module_version": "1.2.0",
            "_model_name": "LayoutModel",
            "_view_count": null,
            "_view_module": "@jupyter-widgets/base",
            "_view_module_version": "1.2.0",
            "_view_name": "LayoutView",
            "align_content": null,
            "align_items": null,
            "align_self": null,
            "border": null,
            "bottom": null,
            "display": null,
            "flex": null,
            "flex_flow": null,
            "grid_area": null,
            "grid_auto_columns": null,
            "grid_auto_flow": null,
            "grid_auto_rows": null,
            "grid_column": null,
            "grid_gap": null,
            "grid_row": null,
            "grid_template_areas": null,
            "grid_template_columns": null,
            "grid_template_rows": null,
            "height": null,
            "justify_content": null,
            "justify_items": null,
            "left": null,
            "margin": null,
            "max_height": null,
            "max_width": null,
            "min_height": null,
            "min_width": null,
            "object_fit": null,
            "object_position": null,
            "order": null,
            "overflow": null,
            "overflow_x": null,
            "overflow_y": null,
            "padding": null,
            "right": null,
            "top": null,
            "visibility": null,
            "width": null
          }
        },
        "ce1a611f57a04080acb6e930e3a9ddf1": {
          "model_module": "@jupyter-widgets/controls",
          "model_name": "DescriptionStyleModel",
          "model_module_version": "1.5.0",
          "state": {
            "_model_module": "@jupyter-widgets/controls",
            "_model_module_version": "1.5.0",
            "_model_name": "DescriptionStyleModel",
            "_view_count": null,
            "_view_module": "@jupyter-widgets/base",
            "_view_module_version": "1.2.0",
            "_view_name": "StyleView",
            "description_width": ""
          }
        },
        "2d3e85ea094c4f03ae86a21ae401256d": {
          "model_module": "@jupyter-widgets/base",
          "model_name": "LayoutModel",
          "model_module_version": "1.2.0",
          "state": {
            "_model_module": "@jupyter-widgets/base",
            "_model_module_version": "1.2.0",
            "_model_name": "LayoutModel",
            "_view_count": null,
            "_view_module": "@jupyter-widgets/base",
            "_view_module_version": "1.2.0",
            "_view_name": "LayoutView",
            "align_content": null,
            "align_items": null,
            "align_self": null,
            "border": null,
            "bottom": null,
            "display": null,
            "flex": null,
            "flex_flow": null,
            "grid_area": null,
            "grid_auto_columns": null,
            "grid_auto_flow": null,
            "grid_auto_rows": null,
            "grid_column": null,
            "grid_gap": null,
            "grid_row": null,
            "grid_template_areas": null,
            "grid_template_columns": null,
            "grid_template_rows": null,
            "height": null,
            "justify_content": null,
            "justify_items": null,
            "left": null,
            "margin": null,
            "max_height": null,
            "max_width": null,
            "min_height": null,
            "min_width": null,
            "object_fit": null,
            "object_position": null,
            "order": null,
            "overflow": null,
            "overflow_x": null,
            "overflow_y": null,
            "padding": null,
            "right": null,
            "top": null,
            "visibility": null,
            "width": null
          }
        },
        "5a470610935e4c93b76128a0b0e36d3a": {
          "model_module": "@jupyter-widgets/controls",
          "model_name": "ProgressStyleModel",
          "model_module_version": "1.5.0",
          "state": {
            "_model_module": "@jupyter-widgets/controls",
            "_model_module_version": "1.5.0",
            "_model_name": "ProgressStyleModel",
            "_view_count": null,
            "_view_module": "@jupyter-widgets/base",
            "_view_module_version": "1.2.0",
            "_view_name": "StyleView",
            "bar_color": null,
            "description_width": ""
          }
        },
        "6b053efbac864d688d3cae41c8daeb3d": {
          "model_module": "@jupyter-widgets/base",
          "model_name": "LayoutModel",
          "model_module_version": "1.2.0",
          "state": {
            "_model_module": "@jupyter-widgets/base",
            "_model_module_version": "1.2.0",
            "_model_name": "LayoutModel",
            "_view_count": null,
            "_view_module": "@jupyter-widgets/base",
            "_view_module_version": "1.2.0",
            "_view_name": "LayoutView",
            "align_content": null,
            "align_items": null,
            "align_self": null,
            "border": null,
            "bottom": null,
            "display": null,
            "flex": null,
            "flex_flow": null,
            "grid_area": null,
            "grid_auto_columns": null,
            "grid_auto_flow": null,
            "grid_auto_rows": null,
            "grid_column": null,
            "grid_gap": null,
            "grid_row": null,
            "grid_template_areas": null,
            "grid_template_columns": null,
            "grid_template_rows": null,
            "height": null,
            "justify_content": null,
            "justify_items": null,
            "left": null,
            "margin": null,
            "max_height": null,
            "max_width": null,
            "min_height": null,
            "min_width": null,
            "object_fit": null,
            "object_position": null,
            "order": null,
            "overflow": null,
            "overflow_x": null,
            "overflow_y": null,
            "padding": null,
            "right": null,
            "top": null,
            "visibility": null,
            "width": null
          }
        },
        "4e9e61bd789e4aa59827dfcd5a74661b": {
          "model_module": "@jupyter-widgets/controls",
          "model_name": "DescriptionStyleModel",
          "model_module_version": "1.5.0",
          "state": {
            "_model_module": "@jupyter-widgets/controls",
            "_model_module_version": "1.5.0",
            "_model_name": "DescriptionStyleModel",
            "_view_count": null,
            "_view_module": "@jupyter-widgets/base",
            "_view_module_version": "1.2.0",
            "_view_name": "StyleView",
            "description_width": ""
          }
        },
        "3ca764e828554e57b3cfd477913c4975": {
          "model_module": "@jupyter-widgets/controls",
          "model_name": "HBoxModel",
          "model_module_version": "1.5.0",
          "state": {
            "_dom_classes": [],
            "_model_module": "@jupyter-widgets/controls",
            "_model_module_version": "1.5.0",
            "_model_name": "HBoxModel",
            "_view_count": null,
            "_view_module": "@jupyter-widgets/controls",
            "_view_module_version": "1.5.0",
            "_view_name": "HBoxView",
            "box_style": "",
            "children": [
              "IPY_MODEL_252a9c4ecaa54e259558f74f6eed32fc",
              "IPY_MODEL_a58ec3604c51463cb1041d9e211c6c33",
              "IPY_MODEL_ea1cb97065d5491f949f28cf5c1221b1"
            ],
            "layout": "IPY_MODEL_b13247f386da40debec5e7eaea5b1bfa"
          }
        },
        "252a9c4ecaa54e259558f74f6eed32fc": {
          "model_module": "@jupyter-widgets/controls",
          "model_name": "HTMLModel",
          "model_module_version": "1.5.0",
          "state": {
            "_dom_classes": [],
            "_model_module": "@jupyter-widgets/controls",
            "_model_module_version": "1.5.0",
            "_model_name": "HTMLModel",
            "_view_count": null,
            "_view_module": "@jupyter-widgets/controls",
            "_view_module_version": "1.5.0",
            "_view_name": "HTMLView",
            "description": "",
            "description_tooltip": null,
            "layout": "IPY_MODEL_ce3a168ea32b43e5a86ec070e37be5e8",
            "placeholder": "​",
            "style": "IPY_MODEL_744fcf1c7fef4d638d29ca84a7875141",
            "value": "config.json: 100%"
          }
        },
        "a58ec3604c51463cb1041d9e211c6c33": {
          "model_module": "@jupyter-widgets/controls",
          "model_name": "FloatProgressModel",
          "model_module_version": "1.5.0",
          "state": {
            "_dom_classes": [],
            "_model_module": "@jupyter-widgets/controls",
            "_model_module_version": "1.5.0",
            "_model_name": "FloatProgressModel",
            "_view_count": null,
            "_view_module": "@jupyter-widgets/controls",
            "_view_module_version": "1.5.0",
            "_view_name": "ProgressView",
            "bar_style": "success",
            "description": "",
            "description_tooltip": null,
            "layout": "IPY_MODEL_f8f70f99cbd4424288b0c985f915aad2",
            "max": 152687,
            "min": 0,
            "orientation": "horizontal",
            "style": "IPY_MODEL_a2ed37dac8754269b56b7b264623a753",
            "value": 152687
          }
        },
        "ea1cb97065d5491f949f28cf5c1221b1": {
          "model_module": "@jupyter-widgets/controls",
          "model_name": "HTMLModel",
          "model_module_version": "1.5.0",
          "state": {
            "_dom_classes": [],
            "_model_module": "@jupyter-widgets/controls",
            "_model_module_version": "1.5.0",
            "_model_name": "HTMLModel",
            "_view_count": null,
            "_view_module": "@jupyter-widgets/controls",
            "_view_module_version": "1.5.0",
            "_view_name": "HTMLView",
            "description": "",
            "description_tooltip": null,
            "layout": "IPY_MODEL_1d18c9d2a22f404ea7bedf74b2fd04dd",
            "placeholder": "​",
            "style": "IPY_MODEL_35b01f38b76d4045b5ef45a0a3ba1917",
            "value": " 153k/153k [00:00&lt;00:00, 9.93MB/s]"
          }
        },
        "b13247f386da40debec5e7eaea5b1bfa": {
          "model_module": "@jupyter-widgets/base",
          "model_name": "LayoutModel",
          "model_module_version": "1.2.0",
          "state": {
            "_model_module": "@jupyter-widgets/base",
            "_model_module_version": "1.2.0",
            "_model_name": "LayoutModel",
            "_view_count": null,
            "_view_module": "@jupyter-widgets/base",
            "_view_module_version": "1.2.0",
            "_view_name": "LayoutView",
            "align_content": null,
            "align_items": null,
            "align_self": null,
            "border": null,
            "bottom": null,
            "display": null,
            "flex": null,
            "flex_flow": null,
            "grid_area": null,
            "grid_auto_columns": null,
            "grid_auto_flow": null,
            "grid_auto_rows": null,
            "grid_column": null,
            "grid_gap": null,
            "grid_row": null,
            "grid_template_areas": null,
            "grid_template_columns": null,
            "grid_template_rows": null,
            "height": null,
            "justify_content": null,
            "justify_items": null,
            "left": null,
            "margin": null,
            "max_height": null,
            "max_width": null,
            "min_height": null,
            "min_width": null,
            "object_fit": null,
            "object_position": null,
            "order": null,
            "overflow": null,
            "overflow_x": null,
            "overflow_y": null,
            "padding": null,
            "right": null,
            "top": null,
            "visibility": null,
            "width": null
          }
        },
        "ce3a168ea32b43e5a86ec070e37be5e8": {
          "model_module": "@jupyter-widgets/base",
          "model_name": "LayoutModel",
          "model_module_version": "1.2.0",
          "state": {
            "_model_module": "@jupyter-widgets/base",
            "_model_module_version": "1.2.0",
            "_model_name": "LayoutModel",
            "_view_count": null,
            "_view_module": "@jupyter-widgets/base",
            "_view_module_version": "1.2.0",
            "_view_name": "LayoutView",
            "align_content": null,
            "align_items": null,
            "align_self": null,
            "border": null,
            "bottom": null,
            "display": null,
            "flex": null,
            "flex_flow": null,
            "grid_area": null,
            "grid_auto_columns": null,
            "grid_auto_flow": null,
            "grid_auto_rows": null,
            "grid_column": null,
            "grid_gap": null,
            "grid_row": null,
            "grid_template_areas": null,
            "grid_template_columns": null,
            "grid_template_rows": null,
            "height": null,
            "justify_content": null,
            "justify_items": null,
            "left": null,
            "margin": null,
            "max_height": null,
            "max_width": null,
            "min_height": null,
            "min_width": null,
            "object_fit": null,
            "object_position": null,
            "order": null,
            "overflow": null,
            "overflow_x": null,
            "overflow_y": null,
            "padding": null,
            "right": null,
            "top": null,
            "visibility": null,
            "width": null
          }
        },
        "744fcf1c7fef4d638d29ca84a7875141": {
          "model_module": "@jupyter-widgets/controls",
          "model_name": "DescriptionStyleModel",
          "model_module_version": "1.5.0",
          "state": {
            "_model_module": "@jupyter-widgets/controls",
            "_model_module_version": "1.5.0",
            "_model_name": "DescriptionStyleModel",
            "_view_count": null,
            "_view_module": "@jupyter-widgets/base",
            "_view_module_version": "1.2.0",
            "_view_name": "StyleView",
            "description_width": ""
          }
        },
        "f8f70f99cbd4424288b0c985f915aad2": {
          "model_module": "@jupyter-widgets/base",
          "model_name": "LayoutModel",
          "model_module_version": "1.2.0",
          "state": {
            "_model_module": "@jupyter-widgets/base",
            "_model_module_version": "1.2.0",
            "_model_name": "LayoutModel",
            "_view_count": null,
            "_view_module": "@jupyter-widgets/base",
            "_view_module_version": "1.2.0",
            "_view_name": "LayoutView",
            "align_content": null,
            "align_items": null,
            "align_self": null,
            "border": null,
            "bottom": null,
            "display": null,
            "flex": null,
            "flex_flow": null,
            "grid_area": null,
            "grid_auto_columns": null,
            "grid_auto_flow": null,
            "grid_auto_rows": null,
            "grid_column": null,
            "grid_gap": null,
            "grid_row": null,
            "grid_template_areas": null,
            "grid_template_columns": null,
            "grid_template_rows": null,
            "height": null,
            "justify_content": null,
            "justify_items": null,
            "left": null,
            "margin": null,
            "max_height": null,
            "max_width": null,
            "min_height": null,
            "min_width": null,
            "object_fit": null,
            "object_position": null,
            "order": null,
            "overflow": null,
            "overflow_x": null,
            "overflow_y": null,
            "padding": null,
            "right": null,
            "top": null,
            "visibility": null,
            "width": null
          }
        },
        "a2ed37dac8754269b56b7b264623a753": {
          "model_module": "@jupyter-widgets/controls",
          "model_name": "ProgressStyleModel",
          "model_module_version": "1.5.0",
          "state": {
            "_model_module": "@jupyter-widgets/controls",
            "_model_module_version": "1.5.0",
            "_model_name": "ProgressStyleModel",
            "_view_count": null,
            "_view_module": "@jupyter-widgets/base",
            "_view_module_version": "1.2.0",
            "_view_name": "StyleView",
            "bar_color": null,
            "description_width": ""
          }
        },
        "1d18c9d2a22f404ea7bedf74b2fd04dd": {
          "model_module": "@jupyter-widgets/base",
          "model_name": "LayoutModel",
          "model_module_version": "1.2.0",
          "state": {
            "_model_module": "@jupyter-widgets/base",
            "_model_module_version": "1.2.0",
            "_model_name": "LayoutModel",
            "_view_count": null,
            "_view_module": "@jupyter-widgets/base",
            "_view_module_version": "1.2.0",
            "_view_name": "LayoutView",
            "align_content": null,
            "align_items": null,
            "align_self": null,
            "border": null,
            "bottom": null,
            "display": null,
            "flex": null,
            "flex_flow": null,
            "grid_area": null,
            "grid_auto_columns": null,
            "grid_auto_flow": null,
            "grid_auto_rows": null,
            "grid_column": null,
            "grid_gap": null,
            "grid_row": null,
            "grid_template_areas": null,
            "grid_template_columns": null,
            "grid_template_rows": null,
            "height": null,
            "justify_content": null,
            "justify_items": null,
            "left": null,
            "margin": null,
            "max_height": null,
            "max_width": null,
            "min_height": null,
            "min_width": null,
            "object_fit": null,
            "object_position": null,
            "order": null,
            "overflow": null,
            "overflow_x": null,
            "overflow_y": null,
            "padding": null,
            "right": null,
            "top": null,
            "visibility": null,
            "width": null
          }
        },
        "35b01f38b76d4045b5ef45a0a3ba1917": {
          "model_module": "@jupyter-widgets/controls",
          "model_name": "DescriptionStyleModel",
          "model_module_version": "1.5.0",
          "state": {
            "_model_module": "@jupyter-widgets/controls",
            "_model_module_version": "1.5.0",
            "_model_name": "DescriptionStyleModel",
            "_view_count": null,
            "_view_module": "@jupyter-widgets/base",
            "_view_module_version": "1.2.0",
            "_view_name": "StyleView",
            "description_width": ""
          }
        }
      }
    }
  },
  "nbformat": 4,
  "nbformat_minor": 0
}