{
  "nbformat": 4,
  "nbformat_minor": 0,
  "metadata": {
    "colab": {
      "provenance": [],
      "mount_file_id": "https://github.com/juan-villa02/medical_vqa_vlm/blob/main/code/notebooks/train.ipynb",
      "authorship_tag": "ABX9TyN3ozCD8rh+8XOh3AHhsgs9",
      "include_colab_link": true
    },
    "kernelspec": {
      "name": "python3",
      "display_name": "Python 3"
    },
    "language_info": {
      "name": "python"
    }
  },
  "cells": [
    {
      "cell_type": "markdown",
      "metadata": {
        "id": "view-in-github",
        "colab_type": "text"
      },
      "source": [
        "<a href=\"https://colab.research.google.com/github/juan-villa02/medical_vqa_vlm/blob/main/code/notebooks/train.ipynb\" target=\"_parent\"><img src=\"https://colab.research.google.com/assets/colab-badge.svg\" alt=\"Open In Colab\"/></a>"
      ]
    },
    {
      "cell_type": "markdown",
      "source": [
        "# VQA Model - BERT + ResNet18"
      ],
      "metadata": {
        "id": "9gIbSRmC_Q8o"
      }
    },
    {
      "cell_type": "markdown",
      "source": [
        "## Libraries/Dependencies"
      ],
      "metadata": {
        "id": "nnubYJEE_g7f"
      }
    },
    {
      "cell_type": "code",
      "source": [
        "# PyTorch framework\n",
        "import torch\n",
        "import torch.nn as nn\n",
        "import torch.nn.functional as F\n",
        "from torch.utils.data import DataLoader, Dataset\n",
        "import torchvision.transforms as transforms\n",
        "import torchvision.models as models\n",
        "# Pillow (image handling)\n",
        "from PIL import Image\n",
        "# Transformers (Hugginface)\n",
        "from transformers import BertModel, BertTokenizer\n",
        "# Matplotlib\n",
        "import matplotlib.pyplot as plt\n",
        "# Numpy\n",
        "import numpy as np\n",
        "# Extra dependencies\n",
        "import json\n",
        "import os\n",
        "from tqdm import tqdm\n",
        "import zipfile"
      ],
      "metadata": {
        "id": "JOxuYqd1_aMO"
      },
      "execution_count": 10,
      "outputs": []
    },
    {
      "cell_type": "code",
      "source": [
        "# Set training device to GPU if available\n",
        "device = torch.device(\"cuda:0\" if torch.cuda.is_available() else \"cpu\")\n",
        "print(device)"
      ],
      "metadata": {
        "id": "d29Ogg0EBJgx",
        "outputId": "c182eb71-1517-45c1-f67a-022616a84bb5",
        "colab": {
          "base_uri": "https://localhost:8080/"
        }
      },
      "execution_count": 11,
      "outputs": [
        {
          "output_type": "stream",
          "name": "stdout",
          "text": [
            "cpu\n"
          ]
        }
      ]
    },
    {
      "cell_type": "markdown",
      "source": [
        "## Paths & Data Extraction"
      ],
      "metadata": {
        "id": "-5MQ2XccBctw"
      }
    },
    {
      "cell_type": "code",
      "source": [
        "#from google.colab import drive\n",
        "#drive.mount('/content/drive')"
      ],
      "metadata": {
        "id": "4bhmZStTCxv4"
      },
      "execution_count": 1,
      "outputs": []
    },
    {
      "cell_type": "code",
      "source": [
        "path_dir = '.' #path to drive folder '/content/drive/MyDrive/TFG-VQA/data/bases de datos.zip'\n",
        "# path_dir = '/content/drive/MyDrive/TFG-VQA/data/bases de datos.zip'"
      ],
      "metadata": {
        "id": "Lhz88OSQBaIZ"
      },
      "execution_count": 12,
      "outputs": []
    },
    {
      "cell_type": "code",
      "source": [
        "# Data folder\n",
        "data_folder = './data/'"
      ],
      "metadata": {
        "id": "MB-bgRNCoPqN"
      },
      "execution_count": 13,
      "outputs": []
    },
    {
      "cell_type": "code",
      "source": [
        "# ISIC_2016 database (images)\n",
        "train_ISIC_path = 'bases de datos/ISIC_2016/images/ISBI2016_ISIC_Part3_Training_Data_orig'\n",
        "test_ISIC_path = 'bases de datos/ISIC_2016/images/ISBI2016_ISIC_Part1_Test_Data_orig'"
      ],
      "metadata": {
        "id": "-Nuib-S0pXlU"
      },
      "execution_count": 14,
      "outputs": []
    },
    {
      "cell_type": "code",
      "source": [
        "# Pizarro database (images)\n",
        "pizarro_path = 'bases de datos/pizarro/images/Entrega1'"
      ],
      "metadata": {
        "id": "gMjnxi-_p38f"
      },
      "execution_count": 24,
      "outputs": []
    },
    {
      "cell_type": "code",
      "source": [
        "# Function to extract databases from the main zip file\n",
        "def extract_databases(zip_path, extract_path):\n",
        "    with zipfile.ZipFile(zip_path, 'r') as zip_ref:\n",
        "        zip_ref.extractall(extract_path)"
      ],
      "metadata": {
        "id": "vcY75F9to4XA"
      },
      "execution_count": 16,
      "outputs": []
    },
    {
      "cell_type": "markdown",
      "source": [
        "ISIC (Fusion)\n",
        "\n",
        "Images path: drive/content/TFG Juan Villanueva/bases de datos/ISIC_2016/images\n",
        "\n",
        "Test -> ISBI2016_ISIC_Part1_Test_Data_orig\n",
        "Train -> ISBI2016_ISIC_Part3_Training_Data_orig\n",
        "\n",
        "\n",
        "Pizarro (Melanoma)\n",
        "\n",
        "Images path: drive/content/bases de datos/pizarro/images\n",
        "\n",
        "500 imágenes\n",
        "\n",
        "Las 46 primeras son más complejas, en cuanto a diagnóstico. (Entrega 1)\n",
        "\n",
        "El resto están más equilibradas (Entrega 2-5)\n"
      ],
      "metadata": {
        "id": "dnQdmrZQEObv"
      }
    },
    {
      "cell_type": "code",
      "source": [
        "# Extract all databases from the main zip file\n",
        "if path_dir != '.':\n",
        "  extract_databases(path_dir, data_folder)"
      ],
      "metadata": {
        "id": "XecsY9GIlCDx"
      },
      "execution_count": 17,
      "outputs": []
    },
    {
      "cell_type": "code",
      "source": [
        "# ISIC_2016 images\n",
        "database1_train_path = os.path.join(data_folder, train_ISIC_path)\n",
        "database1_test_path = os.path.join(data_folder, test_ISIC_path)"
      ],
      "metadata": {
        "id": "IenAqE-1rKgD"
      },
      "execution_count": 18,
      "outputs": []
    },
    {
      "cell_type": "code",
      "source": [
        "# Pizarro images\n",
        "database2_path = os.path.join(data_folder, pizarro_path)"
      ],
      "metadata": {
        "id": "Bfi5boA0s727"
      },
      "execution_count": 25,
      "outputs": []
    },
    {
      "cell_type": "markdown",
      "source": [
        "## VQA Dataset - Images & QA"
      ],
      "metadata": {
        "id": "SedFsMzrAegB"
      }
    },
    {
      "cell_type": "code",
      "execution_count": 43,
      "metadata": {
        "id": "_AUIrbp_w4CS"
      },
      "outputs": [],
      "source": [
        "# Dataset class to load images and questions\n",
        "class VQADataset(Dataset):\n",
        "    def __init__(self, data_dir, json_file, tokenizer=None, transform=None):\n",
        "        self.data_dir = data_dir\n",
        "        self.transform = transform\n",
        "        self.tokenizer = tokenizer\n",
        "\n",
        "        with open(json_file, 'r') as f:\n",
        "            self.data = json.load(f)\n",
        "\n",
        "    def __len__(self):\n",
        "        return len(self.data)\n",
        "\n",
        "    def __getitem__(self, idx):\n",
        "        item = self.data[idx]\n",
        "        image_path = os.path.join(self.data_dir, item['image_id'])\n",
        "        image = Image.open(image_path).convert('RGB')\n",
        "\n",
        "        if self.transform:\n",
        "            image = self.transform(image)\n",
        "\n",
        "        # question = item['question']\n",
        "        #tokenized_question = self.tokenizer(question, return_tensors='pt', padding=True, truncation=True)\n",
        "        question = item['qa_pairs'][5]['question']\n",
        "\n",
        "        return image, question, item['qa_pairs'][5]['answer']"
      ]
    },
    {
      "cell_type": "code",
      "source": [
        "pizarroDataset = VQADataset(database2_path,'./data/bases de datos/pizarro/df_melanoma_qa2.json')"
      ],
      "metadata": {
        "id": "eV9ivOizwN-r"
      },
      "execution_count": 44,
      "outputs": []
    },
    {
      "cell_type": "code",
      "source": [
        "pizarroDataset.__getitem__(10)"
      ],
      "metadata": {
        "id": "7b45i5PCxoA5",
        "outputId": "3238da97-b1f0-4b27-b921-f79c1fa16db8",
        "colab": {
          "base_uri": "https://localhost:8080/"
        }
      },
      "execution_count": 46,
      "outputs": [
        {
          "output_type": "execute_result",
          "data": {
            "text/plain": [
              "(<PIL.Image.Image image mode=RGB size=640x480>,\n",
              " 'What is the histology diagnostic?',\n",
              " 'The histology diagnostic indicates non-atypical stable mole (m).')"
            ]
          },
          "metadata": {},
          "execution_count": 46
        }
      ]
    }
  ]
}