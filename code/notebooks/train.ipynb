{
  "nbformat": 4,
  "nbformat_minor": 0,
  "metadata": {
    "colab": {
      "provenance": [],
      "mount_file_id": "https://github.com/juan-villa02/medical_vqa_vlm/blob/main/code/notebooks/train.ipynb",
      "authorship_tag": "ABX9TyPkP+T7EjI4X7JhoKPkc8Ve",
      "include_colab_link": true
    },
    "kernelspec": {
      "name": "python3",
      "display_name": "Python 3"
    },
    "language_info": {
      "name": "python"
    }
  },
  "cells": [
    {
      "cell_type": "markdown",
      "metadata": {
        "id": "view-in-github",
        "colab_type": "text"
      },
      "source": [
        "<a href=\"https://colab.research.google.com/github/juan-villa02/medical_vqa_vlm/blob/main/code/notebooks/train.ipynb\" target=\"_parent\"><img src=\"https://colab.research.google.com/assets/colab-badge.svg\" alt=\"Open In Colab\"/></a>"
      ]
    },
    {
      "cell_type": "markdown",
      "source": [
        "# VQA Model - BERT + ResNet18"
      ],
      "metadata": {
        "id": "9gIbSRmC_Q8o"
      }
    },
    {
      "cell_type": "markdown",
      "source": [
        "## Libraries/Dependencies"
      ],
      "metadata": {
        "id": "nnubYJEE_g7f"
      }
    },
    {
      "cell_type": "code",
      "source": [
        "# PyTorch framework\n",
        "import torch\n",
        "import torch.nn as nn\n",
        "import torch.nn.functional as F\n",
        "from torch.utils.data import DataLoader, Dataset\n",
        "import torchvision.transforms as transforms\n",
        "import torchvision.models as models\n",
        "# Pillow (image handling)\n",
        "from PIL import Image\n",
        "# Transformers (Hugginface)\n",
        "from transformers import BertModel, BertTokenizer\n",
        "# Matplotlib\n",
        "import matplotlib.pyplot as plt\n",
        "# Numpy\n",
        "import numpy as np\n",
        "# Extra dependencies\n",
        "import json\n",
        "import os\n",
        "from tqdm import tqdm"
      ],
      "metadata": {
        "id": "JOxuYqd1_aMO"
      },
      "execution_count": 1,
      "outputs": []
    },
    {
      "cell_type": "code",
      "source": [
        "# Set training device to GPU if available\n",
        "device = torch.device(\"cuda:0\" if torch.cuda.is_available() else \"cpu\")\n",
        "print(device)"
      ],
      "metadata": {
        "id": "d29Ogg0EBJgx",
        "outputId": "14d94798-5ceb-4a06-ca80-977b9d227ef0",
        "colab": {
          "base_uri": "https://localhost:8080/"
        }
      },
      "execution_count": 2,
      "outputs": [
        {
          "output_type": "stream",
          "name": "stdout",
          "text": [
            "cpu\n"
          ]
        }
      ]
    },
    {
      "cell_type": "markdown",
      "source": [
        "## Paths"
      ],
      "metadata": {
        "id": "-5MQ2XccBctw"
      }
    },
    {
      "cell_type": "code",
      "source": [
        "#from google.colab import drive\n",
        "#from shutil import copyfile\n",
        "#drive.mount('/content/drive')"
      ],
      "metadata": {
        "id": "4bhmZStTCxv4"
      },
      "execution_count": null,
      "outputs": []
    },
    {
      "cell_type": "code",
      "source": [
        "path_dir = '.' #path to drive folder '/content/drive/MyDrive/TFG-VQA/data/bases de datos.zip'"
      ],
      "metadata": {
        "id": "Lhz88OSQBaIZ"
      },
      "execution_count": null,
      "outputs": []
    },
    {
      "cell_type": "markdown",
      "source": [
        "ISIC (Fusion)\n",
        "\n",
        "Images path: drive/content/TFG Juan Villanueva/bases de datos/ISIC_2016/images\n",
        "\n",
        "Test -> ISBI2016_ISIC_Part1_Test_Data_orig\n",
        "Train -> ISBI2016_ISIC_Part3_Training_Data_orig\n",
        "\n",
        "\n",
        "Pizarro (Melanoma)\n",
        "\n",
        "Images path: drive/content/bases de datos/pizarro/images\n",
        "\n",
        "500 imágenes\n",
        "\n",
        "Las 46 primeras son más complejas, en cuanto a diagnóstico. (Entrega 1)\n",
        "\n",
        "El resto están más equilibradas (Entrega 2-5)\n"
      ],
      "metadata": {
        "id": "dnQdmrZQEObv"
      }
    },
    {
      "cell_type": "markdown",
      "source": [
        "## VQA Dataset - Images & QA"
      ],
      "metadata": {
        "id": "SedFsMzrAegB"
      }
    },
    {
      "cell_type": "code",
      "execution_count": null,
      "metadata": {
        "id": "_AUIrbp_w4CS"
      },
      "outputs": [],
      "source": [
        "# Dataset class to load images and questions\n",
        "class VQADataset(Dataset):\n",
        "    def __init__(self, data_dir, json_file, tokenizer, transform=None):\n",
        "        self.data_dir = data_dir\n",
        "        self.transform = transform\n",
        "        self.tokenizer = tokenizer\n",
        "\n",
        "        with open(json_file, 'r') as f:\n",
        "            self.data = json.load(f)\n",
        "\n",
        "    def __len__(self):\n",
        "        return len(self.data)\n",
        "\n",
        "    def __getitem__(self, idx):\n",
        "        item = self.data[idx]\n",
        "        image_path = os.path.join(self.data_dir, item['image_id'])\n",
        "        image = Image.open(image_path).convert('RGB')\n",
        "\n",
        "        if self.transform:\n",
        "            image = self.transform(image)\n",
        "\n",
        "        question = item['question']\n",
        "        tokenized_question = self.tokenizer(question, return_tensors='pt', padding=True, truncation=True)\n",
        "\n",
        "        return image, tokenized_question, item['qa_pairs'][0]['answer']"
      ]
    }
  ]
}