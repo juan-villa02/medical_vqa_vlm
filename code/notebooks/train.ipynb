{
  "cells": [
    {
      "cell_type": "markdown",
      "metadata": {
        "id": "view-in-github",
        "colab_type": "text"
      },
      "source": [
        "<a href=\"https://colab.research.google.com/github/juan-villa02/medical_vqa_vlm/blob/main/code/notebooks/train.ipynb\" target=\"_parent\"><img src=\"https://colab.research.google.com/assets/colab-badge.svg\" alt=\"Open In Colab\"/></a>"
      ]
    },
    {
      "cell_type": "markdown",
      "metadata": {
        "id": "9gIbSRmC_Q8o"
      },
      "source": [
        "# VQA Model - BERT + ResNet18"
      ]
    },
    {
      "cell_type": "markdown",
      "metadata": {
        "id": "nnubYJEE_g7f"
      },
      "source": [
        "## Libraries/Dependencies"
      ]
    },
    {
      "cell_type": "code",
      "execution_count": 1,
      "metadata": {
        "id": "JOxuYqd1_aMO"
      },
      "outputs": [],
      "source": [
        "# PyTorch framework\n",
        "import torch\n",
        "import torch.nn as nn\n",
        "import torch.nn.functional as F\n",
        "from torch.nn.utils.rnn import pad_sequence\n",
        "from torch.utils.data import DataLoader, Dataset\n",
        "import torchvision.transforms as transforms\n",
        "import torchvision.models as models\n",
        "import torchvision.utils as utils\n",
        "# Image handling\n",
        "from PIL import Image\n",
        "from skimage import transform\n",
        "# Transformers (Hugginface)\n",
        "from transformers import AutoTokenizer, BertForQuestionAnswering, VisualBertModel\n",
        "# Matplotlib\n",
        "import matplotlib.pyplot as plt\n",
        "# Numpy\n",
        "import numpy as np\n",
        "# Extra dependencies\n",
        "import json\n",
        "import os\n",
        "from tqdm import tqdm\n",
        "import zipfile"
      ]
    },
    {
      "cell_type": "code",
      "execution_count": 2,
      "metadata": {
        "colab": {
          "base_uri": "https://localhost:8080/"
        },
        "id": "d29Ogg0EBJgx",
        "outputId": "c651c114-b0e6-4249-918d-cecf8c63dd2f"
      },
      "outputs": [
        {
          "output_type": "stream",
          "name": "stdout",
          "text": [
            "cuda:0\n"
          ]
        }
      ],
      "source": [
        "# Set training device to GPU if available\n",
        "device = torch.device(\"cuda:0\" if torch.cuda.is_available() else \"cpu\")\n",
        "print(device)"
      ]
    },
    {
      "cell_type": "markdown",
      "metadata": {
        "id": "-5MQ2XccBctw"
      },
      "source": [
        "## Paths & Data Extraction"
      ]
    },
    {
      "cell_type": "code",
      "execution_count": null,
      "metadata": {
        "colab": {
          "base_uri": "https://localhost:8080/"
        },
        "id": "4bhmZStTCxv4",
        "outputId": "b4f60873-7f96-4269-edf3-01dd7516f160"
      },
      "outputs": [
        {
          "name": "stdout",
          "output_type": "stream",
          "text": [
            "Mounted at /content/drive\n"
          ]
        }
      ],
      "source": [
        "from google.colab import drive\n",
        "drive.mount('/content/drive')"
      ]
    },
    {
      "cell_type": "code",
      "execution_count": null,
      "metadata": {
        "id": "Lhz88OSQBaIZ"
      },
      "outputs": [],
      "source": [
        "path_dir = '.'\n",
        "path_dir = '/content/drive/MyDrive/TFG Juan Villanueva/databases_qa.zip'"
      ]
    },
    {
      "cell_type": "code",
      "execution_count": null,
      "metadata": {
        "id": "MB-bgRNCoPqN"
      },
      "outputs": [],
      "source": [
        "# Data folder\n",
        "data_folder = './data/'"
      ]
    },
    {
      "cell_type": "code",
      "execution_count": null,
      "metadata": {
        "id": "-Nuib-S0pXlU"
      },
      "outputs": [],
      "source": [
        "# ISIC_2016 database (images)\n",
        "train_ISIC_path = 'databases_qa/ISIC_2016/images/ISBI2016_ISIC_Part3_Training_Data_orig'\n",
        "test_ISIC_path = 'bases de datos/ISIC_2016/images/ISBI2016_ISIC_Part1_Test_Data_orig'"
      ]
    },
    {
      "cell_type": "code",
      "execution_count": null,
      "metadata": {
        "id": "gMjnxi-_p38f"
      },
      "outputs": [],
      "source": [
        "# Pizarro database (images)\n",
        "pizarro_path = 'databases_qa/pizarro/images'"
      ]
    },
    {
      "cell_type": "code",
      "execution_count": null,
      "metadata": {
        "id": "vcY75F9to4XA"
      },
      "outputs": [],
      "source": [
        "# Function to extract databases from the main zip file\n",
        "def extract_databases(zip_path, extract_path):\n",
        "    with zipfile.ZipFile(zip_path, 'r') as zip_ref:\n",
        "        zip_ref.extractall(extract_path)"
      ]
    },
    {
      "cell_type": "code",
      "execution_count": null,
      "metadata": {
        "id": "XecsY9GIlCDx"
      },
      "outputs": [],
      "source": [
        "# Extract all databases from the main zip file\n",
        "if path_dir != '.':\n",
        "  extract_databases(path_dir, data_folder)"
      ]
    },
    {
      "cell_type": "code",
      "execution_count": null,
      "metadata": {
        "id": "IenAqE-1rKgD"
      },
      "outputs": [],
      "source": [
        "# ISIC_2016 images\n",
        "database1_train_path = os.path.join(data_folder, train_ISIC_path)\n",
        "database1_test_path = os.path.join(data_folder, test_ISIC_path)"
      ]
    },
    {
      "cell_type": "code",
      "execution_count": null,
      "metadata": {
        "id": "Bfi5boA0s727"
      },
      "outputs": [],
      "source": [
        "# Pizarro images\n",
        "# 500 imágenes; Las 46 primeras son más complejas, en cuanto a diagnóstico. (Entrega 1) El resto están más equilibradas (Entrega 2-5)\n",
        "database2_path = os.path.join(data_folder, pizarro_path)"
      ]
    },
    {
      "cell_type": "markdown",
      "metadata": {
        "id": "SedFsMzrAegB"
      },
      "source": [
        "## VQA Dataset - Images & QA"
      ]
    },
    {
      "cell_type": "code",
      "execution_count": null,
      "metadata": {
        "id": "_AUIrbp_w4CS"
      },
      "outputs": [],
      "source": [
        "# Dataset class to load images and questions\n",
        "class VQADataset(Dataset):\n",
        "    def __init__(self, data_dir, json_file, tokenizer=None, transform=None):\n",
        "        self.data_dir = data_dir\n",
        "        self.transform = transform\n",
        "        self.tokenizer = tokenizer\n",
        "\n",
        "        with open(json_file, 'r') as f:\n",
        "            self.data = json.load(f)\n",
        "\n",
        "    def __len__(self):\n",
        "        return len(self.data)\n",
        "\n",
        "    def __getitem__(self, idx):\n",
        "        item = self.data[idx]\n",
        "        image_path = os.path.join(self.data_dir, item['image_id'])\n",
        "\n",
        "        # Ensure the image ID ends with \".jpg\"\n",
        "        if not image_path.endswith(\".jpg\"):\n",
        "            image_path += \".jpg\"\n",
        "\n",
        "        image = Image.open(image_path).convert('RGB')\n",
        "\n",
        "        if self.transform:\n",
        "            image = self.transform(image)\n",
        "\n",
        "        # Store questions and answers in two different arrays\n",
        "        qa_pairs = item['qa_pairs']\n",
        "        questions = [qa['question'] for qa in qa_pairs]\n",
        "        answers = [qa['answer'] for qa in qa_pairs]\n",
        "\n",
        "        return image, questions, answers"
      ]
    },
    {
      "cell_type": "code",
      "execution_count": null,
      "metadata": {
        "id": "eV9ivOizwN-r"
      },
      "outputs": [],
      "source": [
        "pizarroDataset = VQADataset(database2_path,'/content/data/databases_qa/pizarro/qa_pizarro.json')"
      ]
    },
    {
      "cell_type": "code",
      "execution_count": null,
      "metadata": {
        "colab": {
          "base_uri": "https://localhost:8080/"
        },
        "id": "7b45i5PCxoA5",
        "outputId": "396ade25-7e8a-4e0d-c2c9-01760a7ca32b"
      },
      "outputs": [
        {
          "data": {
            "text/plain": [
              "(<PIL.Image.Image image mode=RGB size=640x480>,\n",
              " ['Can you describe the general silhouette?',\n",
              "  'How would you characterize the overall silhouette?',\n",
              "  'What is the overall shape of the lesion?',\n",
              "  'Describe the silhouette of the lesion.',\n",
              "  'What does the silhouette of the lesion look like?',\n",
              "  'What is the histology diagnostic?',\n",
              "  'Could you provide the histological diagnosis?',\n",
              "  'What does the histology indicate?',\n",
              "  'Describe the histological diagnosis.',\n",
              "  'Based on histology, what is the diagnosis?',\n",
              "  'Can you see any dysplasia?',\n",
              "  'Is there any evidence of dysplasia?',\n",
              "  'Do you observe signs of dysplasia?',\n",
              "  'Describe the presence of dysplasia.',\n",
              "  'Is dysplasia present in the lesion?',\n",
              "  'What is the diagnostic impression?',\n",
              "  'Could you provide your impression of the diagnosis?',\n",
              "  'What impression do you have regarding the diagnosis?',\n",
              "  'Describe your overall diagnosis impression.',\n",
              "  'What are your thoughts on the diagnosis?',\n",
              "  'What is the diagnostic difficulty?',\n",
              "  'How challenging is the diagnosis?',\n",
              "  'Can you assess the difficulty of the diagnosis?',\n",
              "  'Describe the level of difficulty in the diagnosis.',\n",
              "  'How difficult is it to make the diagnosis?',\n",
              "  'Is there any excision?',\n",
              "  'Has the lesion been excised?',\n",
              "  'Was excision performed on the lesion?',\n",
              "  'Describe any excision performed.',\n",
              "  'Was the lesion removed by excision?',\n",
              "  'How is the global pattern?',\n",
              "  'Can you describe the overall pattern?',\n",
              "  'Describe the pattern observed globally.',\n",
              "  'What is the pattern like throughout the lesion?',\n",
              "  'What patterns are present in the entire lesion?',\n",
              "  'How is the peripheral globular pattern?',\n",
              "  'Describe the presence of peripheral globular pattern.',\n",
              "  'Is there any peripheral globular pattern observed?',\n",
              "  'What is the pattern like at the periphery?',\n",
              "  'Are there globular patterns around the edges?',\n",
              "  'Is there any symmetry pattern?',\n",
              "  'How would you describe the symmetry?',\n",
              "  'Describe the symmetry of the lesion.',\n",
              "  'Is the lesion symmetric or asymmetric?',\n",
              "  'Can you assess the symmetry of the lesion?',\n",
              "  'Can you identify any pigmented reticulum?',\n",
              "  'Do you observe pigmented reticulum?',\n",
              "  'Describe the presence of pigmented reticulum.',\n",
              "  'Are there any signs of pigmented reticulum?',\n",
              "  'What about pigmented reticulum in the lesion?',\n",
              "  'Can you identify any negative reticulum?',\n",
              "  'Do you observe negative reticulum?',\n",
              "  'Describe the presence of negative reticulum.',\n",
              "  'Are there any signs of negative reticulum?',\n",
              "  'What about negative reticulum in the lesion?',\n",
              "  'Can you identify any small dots/globules?',\n",
              "  'Do you see any small dots/globules?',\n",
              "  'Describe the presence of small dots/globules.',\n",
              "  'Are there any signs of small dots/globules?',\n",
              "  'What about small dots/globules in the lesion?',\n",
              "  'Can you identify any large globules/cobblestone?',\n",
              "  'Do you observe large globules/cobblestone?',\n",
              "  'Describe the presence of large globules/cobblestone.',\n",
              "  'Are there any signs of large globules/cobblestone?',\n",
              "  'What about large globules/cobblestone in the lesion?',\n",
              "  'Can you identify any peripheral globules?',\n",
              "  'Do you observe peripheral globules?',\n",
              "  'Describe the presence of peripheral globules.',\n",
              "  'Are there any signs of peripheral globules?',\n",
              "  'What about peripheral globules in the lesion?',\n",
              "  'Can you identify any peripheral projections?',\n",
              "  'Do you observe peripheral projections?',\n",
              "  'Describe the presence of peripheral projections.',\n",
              "  'Are there any signs of peripheral projections?',\n",
              "  'What about peripheral projections in the lesion?',\n",
              "  'Can you identify any homogeneous area without vessels?',\n",
              "  'Do you observe homogeneous area without vessels?',\n",
              "  'Describe the presence of homogeneous area without vessels.',\n",
              "  'Are there any signs of homogeneous area without vessels?',\n",
              "  'What about homogeneous area without vessels in the lesion?',\n",
              "  'Can you identify any homogeneous area with vessels?',\n",
              "  'Do you observe homogeneous area with vessels?',\n",
              "  'Describe the presence of homogeneous area with vessels.',\n",
              "  'Are there any signs of homogeneous area with vessels?',\n",
              "  'What about homogeneous area with vessels in the lesion?',\n",
              "  'Can you identify any undefined area?',\n",
              "  'Do you observe undefined area?',\n",
              "  'Describe the presence of undefined area.',\n",
              "  'Are there any signs of undefined area?',\n",
              "  'What about undefined area in the lesion?',\n",
              "  'Can you identify any gray regression?',\n",
              "  'Do you observe gray regression?',\n",
              "  'Describe the presence of gray regression.',\n",
              "  'Are there any signs of gray regression?',\n",
              "  'What about gray regression in the lesion?',\n",
              "  'Can you identify any white regression?',\n",
              "  'Do you observe white regression?',\n",
              "  'Describe the presence of white regression.',\n",
              "  'Are there any signs of white regression?',\n",
              "  'What about white regression in the lesion?',\n",
              "  'Can you identify any whitish blue veil?',\n",
              "  'Do you observe whitish blue veil?',\n",
              "  'Describe the presence of whitish blue veil.',\n",
              "  'Are there any signs of whitish blue veil?',\n",
              "  'What about whitish blue veil in the lesion?',\n",
              "  'Can you identify any chrysalis?',\n",
              "  'Do you observe chrysalis?',\n",
              "  'Describe the presence of chrysalis.',\n",
              "  'Are there any signs of chrysalis?',\n",
              "  'What about chrysalis in the lesion?'],\n",
              " ['The general silhouette of the lesion is flattened elevated.',\n",
              "  'The general silhouette of the lesion is flattened elevated.',\n",
              "  'The general silhouette of the lesion is flattened elevated.',\n",
              "  'The general silhouette of the lesion is flattened elevated.',\n",
              "  'The general silhouette of the lesion is flattened elevated.',\n",
              "  'The histology diagnostic indicates non-atypical stable mole (m).',\n",
              "  'The histology diagnostic indicates non-atypical stable mole (m).',\n",
              "  'The histology diagnostic indicates non-atypical stable mole (m).',\n",
              "  'The histology diagnostic indicates non-atypical stable mole (m).',\n",
              "  'The histology diagnostic indicates non-atypical stable mole (m).',\n",
              "  'The presence of dysplasia is not applicable.',\n",
              "  'The presence of dysplasia is not applicable.',\n",
              "  'The presence of dysplasia is not applicable.',\n",
              "  'The presence of dysplasia is not applicable.',\n",
              "  'The presence of dysplasia is not applicable.',\n",
              "  'The diagnostic impression is atypical mole.',\n",
              "  'The diagnostic impression is atypical mole.',\n",
              "  'The diagnostic impression is atypical mole.',\n",
              "  'The diagnostic impression is atypical mole.',\n",
              "  'The diagnostic impression is atypical mole.',\n",
              "  'The diagnostic difficulty level is low.',\n",
              "  'The diagnostic difficulty level is low.',\n",
              "  'The diagnostic difficulty level is low.',\n",
              "  'The diagnostic difficulty level is low.',\n",
              "  'The diagnostic difficulty level is low.',\n",
              "  'The lesion has been not excised.',\n",
              "  'The lesion has been not excised.',\n",
              "  'The lesion has been not excised.',\n",
              "  'The lesion has been not excised.',\n",
              "  'The lesion has been not excised.',\n",
              "  'The global pattern of the lesion is mixed (mix of two of the above).',\n",
              "  'The global pattern of the lesion is mixed (mix of two of the above).',\n",
              "  'The global pattern of the lesion is mixed (mix of two of the above).',\n",
              "  'The global pattern of the lesion is mixed (mix of two of the above).',\n",
              "  'The global pattern of the lesion is mixed (mix of two of the above).',\n",
              "  'The peripheral globular pattern is absent.',\n",
              "  'The peripheral globular pattern is absent.',\n",
              "  'The peripheral globular pattern is absent.',\n",
              "  'The peripheral globular pattern is absent.',\n",
              "  'The peripheral globular pattern is absent.',\n",
              "  'The lesion is asymmetric on one axis.',\n",
              "  'The lesion is asymmetric on one axis.',\n",
              "  'The lesion is asymmetric on one axis.',\n",
              "  'The lesion is asymmetric on one axis.',\n",
              "  'The lesion is asymmetric on one axis.',\n",
              "  'Yes, clear and dominant pigmented reticulum is observed.',\n",
              "  'Yes, clear and dominant pigmented reticulum is observed.',\n",
              "  'Yes, clear and dominant pigmented reticulum is observed.',\n",
              "  'Yes, clear and dominant pigmented reticulum is observed.',\n",
              "  'Yes, clear and dominant pigmented reticulum is observed.',\n",
              "  'No negative reticulum is observed.',\n",
              "  'No negative reticulum is observed.',\n",
              "  'No negative reticulum is observed.',\n",
              "  'No negative reticulum is observed.',\n",
              "  'No negative reticulum is observed.',\n",
              "  'No small dots/globules are present.',\n",
              "  'No small dots/globules are present.',\n",
              "  'No small dots/globules are present.',\n",
              "  'No small dots/globules are present.',\n",
              "  'No small dots/globules are present.',\n",
              "  'Yes, clear large globules/cobblestone are observed.',\n",
              "  'Yes, clear large globules/cobblestone are observed.',\n",
              "  'Yes, clear large globules/cobblestone are observed.',\n",
              "  'Yes, clear large globules/cobblestone are observed.',\n",
              "  'Yes, clear large globules/cobblestone are observed.',\n",
              "  'Yes, subtle peripheral globules are observed.',\n",
              "  'Yes, subtle peripheral globules are observed.',\n",
              "  'Yes, subtle peripheral globules are observed.',\n",
              "  'Yes, subtle peripheral globules are observed.',\n",
              "  'Yes, subtle peripheral globules are observed.',\n",
              "  'No peripheral projections are present.',\n",
              "  'No peripheral projections are present.',\n",
              "  'No peripheral projections are present.',\n",
              "  'No peripheral projections are present.',\n",
              "  'No peripheral projections are present.',\n",
              "  'No homogeneous area without vessels is observed.',\n",
              "  'No homogeneous area without vessels is observed.',\n",
              "  'No homogeneous area without vessels is observed.',\n",
              "  'No homogeneous area without vessels is observed.',\n",
              "  'No homogeneous area without vessels is observed.',\n",
              "  'No homogeneous area with vessels is observed.',\n",
              "  'No homogeneous area with vessels is observed.',\n",
              "  'No homogeneous area with vessels is observed.',\n",
              "  'No homogeneous area with vessels is observed.',\n",
              "  'No homogeneous area with vessels is observed.',\n",
              "  'No undefined area is observed.',\n",
              "  'No undefined area is observed.',\n",
              "  'No undefined area is observed.',\n",
              "  'No undefined area is observed.',\n",
              "  'No undefined area is observed.',\n",
              "  'No gray regression is observed.',\n",
              "  'No gray regression is observed.',\n",
              "  'No gray regression is observed.',\n",
              "  'No gray regression is observed.',\n",
              "  'No gray regression is observed.',\n",
              "  'No white regression is observed.',\n",
              "  'No white regression is observed.',\n",
              "  'No white regression is observed.',\n",
              "  'No white regression is observed.',\n",
              "  'No white regression is observed.',\n",
              "  'No whitish blue veil is observed.',\n",
              "  'No whitish blue veil is observed.',\n",
              "  'No whitish blue veil is observed.',\n",
              "  'No whitish blue veil is observed.',\n",
              "  'No whitish blue veil is observed.',\n",
              "  'No chrysalis is observed.',\n",
              "  'No chrysalis is observed.',\n",
              "  'No chrysalis is observed.',\n",
              "  'No chrysalis is observed.',\n",
              "  'No chrysalis is observed.'])"
            ]
          },
          "execution_count": 14,
          "metadata": {},
          "output_type": "execute_result"
        }
      ],
      "source": [
        "pizarroDataset[10]"
      ]
    },
    {
      "cell_type": "markdown",
      "metadata": {
        "id": "---H6oXn4860"
      },
      "source": [
        "## Load pre-trained ResNet18"
      ]
    },
    {
      "cell_type": "code",
      "execution_count": null,
      "metadata": {
        "id": "cXzT4ZfT5BTU"
      },
      "outputs": [],
      "source": [
        "# Load ResNet-18 model from .pth file\n",
        "def load_resnet(path, optimizer=None, scheduler=None):\n",
        "    resnet = models.resnet18()\n",
        "    # Remove final fully connected layer (we do not want the model to return labels but features)\n",
        "    resnet.fc = nn.Identity()\n",
        "\n",
        "    # Load the weights\n",
        "    state_dict = torch.load(path, map_location=device)['state_dict']\n",
        "\n",
        "    # Remove unexpected keys if they exist\n",
        "    unexpected_keys = ['fc.weight', 'fc.bias']\n",
        "    for key in unexpected_keys:\n",
        "        if key in state_dict:\n",
        "            del state_dict[key]\n",
        "\n",
        "    # Load the weights\n",
        "    resnet.load_state_dict(state_dict)\n",
        "    resnet.eval()\n",
        "\n",
        "    if optimizer is not None:\n",
        "        optimizer.load_state_dict(torch.load(path)['optimizer'])\n",
        "    if scheduler is not None:\n",
        "        scheduler.load_state_dict(torch.load(path)['scheduler'])\n",
        "\n",
        "    resnet.to(device)\n",
        "\n",
        "    return resnet, optimizer, scheduler"
      ]
    },
    {
      "cell_type": "code",
      "execution_count": null,
      "metadata": {
        "id": "5rGRJcyj5LKz"
      },
      "outputs": [],
      "source": [
        "model_source_path = '/content/drive/MyDrive/TFG Juan Villanueva/codigo diagnostico/bestdiagNet.pth'"
      ]
    },
    {
      "cell_type": "code",
      "execution_count": null,
      "metadata": {
        "id": "hm9XDY285UOB"
      },
      "outputs": [],
      "source": [
        "resnet, optimizer, scheduler = load_resnet(model_source_path)"
      ]
    },
    {
      "cell_type": "code",
      "execution_count": null,
      "metadata": {
        "colab": {
          "base_uri": "https://localhost:8080/"
        },
        "id": "yCtvmxrn9m2u",
        "outputId": "ff93e4fc-819b-4241-8034-033fce046990"
      },
      "outputs": [
        {
          "data": {
            "text/plain": [
              "ResNet(\n",
              "  (conv1): Conv2d(3, 64, kernel_size=(7, 7), stride=(2, 2), padding=(3, 3), bias=False)\n",
              "  (bn1): BatchNorm2d(64, eps=1e-05, momentum=0.1, affine=True, track_running_stats=True)\n",
              "  (relu): ReLU(inplace=True)\n",
              "  (maxpool): MaxPool2d(kernel_size=3, stride=2, padding=1, dilation=1, ceil_mode=False)\n",
              "  (layer1): Sequential(\n",
              "    (0): BasicBlock(\n",
              "      (conv1): Conv2d(64, 64, kernel_size=(3, 3), stride=(1, 1), padding=(1, 1), bias=False)\n",
              "      (bn1): BatchNorm2d(64, eps=1e-05, momentum=0.1, affine=True, track_running_stats=True)\n",
              "      (relu): ReLU(inplace=True)\n",
              "      (conv2): Conv2d(64, 64, kernel_size=(3, 3), stride=(1, 1), padding=(1, 1), bias=False)\n",
              "      (bn2): BatchNorm2d(64, eps=1e-05, momentum=0.1, affine=True, track_running_stats=True)\n",
              "    )\n",
              "    (1): BasicBlock(\n",
              "      (conv1): Conv2d(64, 64, kernel_size=(3, 3), stride=(1, 1), padding=(1, 1), bias=False)\n",
              "      (bn1): BatchNorm2d(64, eps=1e-05, momentum=0.1, affine=True, track_running_stats=True)\n",
              "      (relu): ReLU(inplace=True)\n",
              "      (conv2): Conv2d(64, 64, kernel_size=(3, 3), stride=(1, 1), padding=(1, 1), bias=False)\n",
              "      (bn2): BatchNorm2d(64, eps=1e-05, momentum=0.1, affine=True, track_running_stats=True)\n",
              "    )\n",
              "  )\n",
              "  (layer2): Sequential(\n",
              "    (0): BasicBlock(\n",
              "      (conv1): Conv2d(64, 128, kernel_size=(3, 3), stride=(2, 2), padding=(1, 1), bias=False)\n",
              "      (bn1): BatchNorm2d(128, eps=1e-05, momentum=0.1, affine=True, track_running_stats=True)\n",
              "      (relu): ReLU(inplace=True)\n",
              "      (conv2): Conv2d(128, 128, kernel_size=(3, 3), stride=(1, 1), padding=(1, 1), bias=False)\n",
              "      (bn2): BatchNorm2d(128, eps=1e-05, momentum=0.1, affine=True, track_running_stats=True)\n",
              "      (downsample): Sequential(\n",
              "        (0): Conv2d(64, 128, kernel_size=(1, 1), stride=(2, 2), bias=False)\n",
              "        (1): BatchNorm2d(128, eps=1e-05, momentum=0.1, affine=True, track_running_stats=True)\n",
              "      )\n",
              "    )\n",
              "    (1): BasicBlock(\n",
              "      (conv1): Conv2d(128, 128, kernel_size=(3, 3), stride=(1, 1), padding=(1, 1), bias=False)\n",
              "      (bn1): BatchNorm2d(128, eps=1e-05, momentum=0.1, affine=True, track_running_stats=True)\n",
              "      (relu): ReLU(inplace=True)\n",
              "      (conv2): Conv2d(128, 128, kernel_size=(3, 3), stride=(1, 1), padding=(1, 1), bias=False)\n",
              "      (bn2): BatchNorm2d(128, eps=1e-05, momentum=0.1, affine=True, track_running_stats=True)\n",
              "    )\n",
              "  )\n",
              "  (layer3): Sequential(\n",
              "    (0): BasicBlock(\n",
              "      (conv1): Conv2d(128, 256, kernel_size=(3, 3), stride=(2, 2), padding=(1, 1), bias=False)\n",
              "      (bn1): BatchNorm2d(256, eps=1e-05, momentum=0.1, affine=True, track_running_stats=True)\n",
              "      (relu): ReLU(inplace=True)\n",
              "      (conv2): Conv2d(256, 256, kernel_size=(3, 3), stride=(1, 1), padding=(1, 1), bias=False)\n",
              "      (bn2): BatchNorm2d(256, eps=1e-05, momentum=0.1, affine=True, track_running_stats=True)\n",
              "      (downsample): Sequential(\n",
              "        (0): Conv2d(128, 256, kernel_size=(1, 1), stride=(2, 2), bias=False)\n",
              "        (1): BatchNorm2d(256, eps=1e-05, momentum=0.1, affine=True, track_running_stats=True)\n",
              "      )\n",
              "    )\n",
              "    (1): BasicBlock(\n",
              "      (conv1): Conv2d(256, 256, kernel_size=(3, 3), stride=(1, 1), padding=(1, 1), bias=False)\n",
              "      (bn1): BatchNorm2d(256, eps=1e-05, momentum=0.1, affine=True, track_running_stats=True)\n",
              "      (relu): ReLU(inplace=True)\n",
              "      (conv2): Conv2d(256, 256, kernel_size=(3, 3), stride=(1, 1), padding=(1, 1), bias=False)\n",
              "      (bn2): BatchNorm2d(256, eps=1e-05, momentum=0.1, affine=True, track_running_stats=True)\n",
              "    )\n",
              "  )\n",
              "  (layer4): Sequential(\n",
              "    (0): BasicBlock(\n",
              "      (conv1): Conv2d(256, 512, kernel_size=(3, 3), stride=(2, 2), padding=(1, 1), bias=False)\n",
              "      (bn1): BatchNorm2d(512, eps=1e-05, momentum=0.1, affine=True, track_running_stats=True)\n",
              "      (relu): ReLU(inplace=True)\n",
              "      (conv2): Conv2d(512, 512, kernel_size=(3, 3), stride=(1, 1), padding=(1, 1), bias=False)\n",
              "      (bn2): BatchNorm2d(512, eps=1e-05, momentum=0.1, affine=True, track_running_stats=True)\n",
              "      (downsample): Sequential(\n",
              "        (0): Conv2d(256, 512, kernel_size=(1, 1), stride=(2, 2), bias=False)\n",
              "        (1): BatchNorm2d(512, eps=1e-05, momentum=0.1, affine=True, track_running_stats=True)\n",
              "      )\n",
              "    )\n",
              "    (1): BasicBlock(\n",
              "      (conv1): Conv2d(512, 512, kernel_size=(3, 3), stride=(1, 1), padding=(1, 1), bias=False)\n",
              "      (bn1): BatchNorm2d(512, eps=1e-05, momentum=0.1, affine=True, track_running_stats=True)\n",
              "      (relu): ReLU(inplace=True)\n",
              "      (conv2): Conv2d(512, 512, kernel_size=(3, 3), stride=(1, 1), padding=(1, 1), bias=False)\n",
              "      (bn2): BatchNorm2d(512, eps=1e-05, momentum=0.1, affine=True, track_running_stats=True)\n",
              "    )\n",
              "  )\n",
              "  (avgpool): AdaptiveAvgPool2d(output_size=(1, 1))\n",
              "  (fc): Identity()\n",
              ")"
            ]
          },
          "execution_count": 18,
          "metadata": {},
          "output_type": "execute_result"
        }
      ],
      "source": [
        "resnet"
      ]
    },
    {
      "cell_type": "markdown",
      "metadata": {
        "id": "esJtbykJp-f4"
      },
      "source": [
        "## Image Transformations"
      ]
    },
    {
      "cell_type": "code",
      "execution_count": null,
      "metadata": {
        "id": "KbPIvTG8p9rw"
      },
      "outputs": [],
      "source": [
        "class Normalize(object):\n",
        "    \"\"\"Normalizes the image by subtracting the mean and dividing by the standard deviations.\n",
        "\n",
        "    Args:\n",
        "        mean: The vector containing the means.\n",
        "        std: The vector containing the standard deviations.\n",
        "    \"\"\"\n",
        "\n",
        "    def __init__(self, mean, std):\n",
        "        assert len(mean) == len(std), 'Length of mean and std vectors is not the same'\n",
        "        self.mean = np.array(mean)\n",
        "        self.std = np.array(std)\n",
        "\n",
        "    def __call__(self, image):\n",
        "\n",
        "        image = image.float()  # Convert to float tensor\n",
        "        image = image / 255.0  # Scale pixel values to the range [0, 1]\n",
        "\n",
        "        dtype = image.dtype\n",
        "        mean = torch.as_tensor(self.mean, dtype=dtype, device=image.device)\n",
        "        std = torch.as_tensor(self.std, dtype=dtype, device=image.device)\n",
        "        # Avoid division by nearly zero\n",
        "        std[std < 1e-5] = 1.0\n",
        "        # Normalize the image\n",
        "        image = (image - mean[:, None, None]) / std[:, None, None]\n",
        "\n",
        "        return image"
      ]
    },
    {
      "cell_type": "code",
      "execution_count": null,
      "metadata": {
        "id": "Km6vWZvXqqBh"
      },
      "outputs": [],
      "source": [
        "class ToTensor(object):\n",
        "    \"\"\"Converts the image ndarray to a tensor.\"\"\"\n",
        "\n",
        "    def __call__(self, image):\n",
        "        # Change the axes\n",
        "        # numpy image: H x W x C\n",
        "        # torch image: C x H x W\n",
        "        image = np.array(image)\n",
        "        image = image.transpose((2, 0, 1))\n",
        "        image = torch.from_numpy(image)\n",
        "\n",
        "        return image\n"
      ]
    },
    {
      "cell_type": "code",
      "execution_count": null,
      "metadata": {
        "id": "Wutbk8yiqsiR"
      },
      "outputs": [],
      "source": [
        "class Rescale(object):\n",
        "    \"\"\"Rescales the image to a desired size.\n",
        "\n",
        "    Args:\n",
        "        output_size (tuple or int): Desired output size. If tuple, output is the output_size.\n",
        "            If int, the smaller of the image edges is matched to output_size keeping aspect ratio the same.\n",
        "    \"\"\"\n",
        "\n",
        "    def __init__(self, output_size):\n",
        "        assert isinstance(output_size, (int, tuple))\n",
        "        self.output_size = output_size\n",
        "\n",
        "    def __call__(self, image):\n",
        "        # Convert the PIL image to a NumPy array\n",
        "        image_np = np.array(image)\n",
        "\n",
        "        # Get the height and width of the image\n",
        "        h, w = image_np.shape[:2]\n",
        "\n",
        "        if isinstance(self.output_size, int):\n",
        "            if h > w:\n",
        "                new_h, new_w = self.output_size * h / w, self.output_size\n",
        "            else:\n",
        "                new_h, new_w = self.output_size, self.output_size * w / h\n",
        "        else:\n",
        "            new_h, new_w = self.output_size\n",
        "\n",
        "        new_h, new_w = int(new_h), int(new_w)\n",
        "\n",
        "        # Resize the image using scikit-image's resize function\n",
        "        resized_image = transform.resize(image_np, (new_h, new_w))\n",
        "\n",
        "        # Convert the resized NumPy array back to a PIL image\n",
        "        resized_image_pil = Image.fromarray((resized_image * 255).astype(np.uint8))\n",
        "\n",
        "        return resized_image_pil"
      ]
    },
    {
      "cell_type": "markdown",
      "metadata": {
        "id": "jtRQDxjhr7th"
      },
      "source": [
        "## Datasets and Dataloaders"
      ]
    },
    {
      "cell_type": "code",
      "execution_count": null,
      "metadata": {
        "id": "Lnu68fiWr7Hd"
      },
      "outputs": [],
      "source": [
        "# Train ISIC Dataset------------------------------------------------------------\n",
        "train_dataset_isic = VQADataset(data_dir=database1_train_path,\n",
        "                           json_file='/content/data/databases_qa/ISIC_2016/qa_ISIC.json',\n",
        "                           tokenizer=None,\n",
        "                           transform=transforms.Compose([\n",
        "                            Rescale((224,224)),\n",
        "                            ToTensor(),\n",
        "                            Normalize(mean=[0.485, 0.456, 0.406], std=[0.229, 0.224, 0.225])\n",
        "                            ]))\n",
        "# Test ISIC Dataset--------------------------------------------------------------\n",
        "test_dataset_isic = VQADataset(data_dir=database1_test_path,\n",
        "                           json_file='/content/data/databases_qa/ISIC_2016/qa_ISIC.json',\n",
        "                           tokenizer=None,\n",
        "                           transform=transforms.Compose([\n",
        "                            Rescale((224,224)),\n",
        "                            ToTensor(),\n",
        "                            Normalize(mean=[0.485, 0.456, 0.406], std=[0.229, 0.224, 0.225])\n",
        "                            ]))"
      ]
    },
    {
      "cell_type": "code",
      "execution_count": null,
      "metadata": {
        "id": "3BQq_UYpfjyg"
      },
      "outputs": [],
      "source": [
        "# Train Pizarro Dataset------------------------------------------------------------\n",
        "train_dataset_pizarro = VQADataset(data_dir=database2_path,\n",
        "                           json_file='/content/data/databases_qa/pizarro/qa_pizarro.json',\n",
        "                           tokenizer=None,\n",
        "                           transform=transforms.Compose([\n",
        "                            Rescale((224,380)),\n",
        "                            ToTensor(),\n",
        "                            Normalize(mean=[0.485, 0.456, 0.406], std=[0.229, 0.224, 0.225])\n",
        "                            ]))"
      ]
    },
    {
      "cell_type": "code",
      "execution_count": null,
      "metadata": {
        "id": "2CyjQIB9tUCs"
      },
      "outputs": [],
      "source": [
        "#train_dataset_pizarro[102]"
      ]
    },
    {
      "cell_type": "code",
      "execution_count": null,
      "metadata": {
        "id": "UrNZdQCPl7qt"
      },
      "outputs": [],
      "source": [
        "# Pizarro dataset\n",
        "pizarro_dataloader = DataLoader(train_dataset_pizarro, batch_size=20, shuffle=True)"
      ]
    },
    {
      "cell_type": "code",
      "execution_count": null,
      "metadata": {
        "id": "2jZsoFg5aoCM"
      },
      "outputs": [],
      "source": [
        "# Auxiliary function to visualize a batch\n",
        "def show_batch(sample_batched):\n",
        "    \"\"\"Show a batch of images.\"\"\"\n",
        "\n",
        "    # Store images, questions and answers\n",
        "    images_batch, questions_batch, answers_batch = \\\n",
        "            sample_batched[0], sample_batched[1], sample_batched[2]\n",
        "\n",
        "    # Identify the batch size to define the grid\n",
        "    batch_size = len(images_batch)\n",
        "    im_size = images_batch.size(2)\n",
        "    grid_border_size = 2\n",
        "\n",
        "    # Generate the grid\n",
        "    grid = utils.make_grid(images_batch)\n",
        "\n",
        "    # Convert to numpy and denormalize\n",
        "    grid = grid.numpy().transpose((1, 2, 0))\n",
        "    mean = np.array([0.485, 0.456, 0.406])\n",
        "    std = np.array([0.229, 0.224, 0.225])\n",
        "    grid = std * grid + mean\n",
        "    grid = np.clip(grid, 0, 1)\n",
        "    plt.imshow(grid)\n",
        "    plt.title('Batch from dataloader')\n",
        "    plt.axis('off')\n",
        "    plt.show()"
      ]
    },
    {
      "cell_type": "code",
      "execution_count": null,
      "metadata": {
        "colab": {
          "base_uri": "https://localhost:8080/",
          "height": 375
        },
        "id": "cV5odxMqlhbb",
        "outputId": "71530004-1d74-4fe3-ce0e-8c81c8cf5ac9"
      },
      "outputs": [
        {
          "name": "stdout",
          "output_type": "stream",
          "text": [
            "0 [('The general silhouette of the lesion is flat.', 'The general silhouette of the lesion is flat.', 'The general silhouette of the lesion is flat.', 'The general silhouette of the lesion is flat.', 'The general silhouette of the lesion is flat.', 'The general silhouette of the lesion is flat.', 'The general silhouette of the lesion is flat.', 'The general silhouette of the lesion is flattened elevated.', 'The general silhouette of the lesion is flat.', 'The general silhouette of the lesion is flat.', 'The general silhouette of the lesion is flat.', 'The general silhouette of the lesion is flattened elevated.', 'The general silhouette of the lesion is flattened elevated.', 'The general silhouette of the lesion is flat.', 'The general silhouette of the lesion is flat.', 'The general silhouette of the lesion is flat.', 'The general silhouette of the lesion is flat.', 'The general silhouette of the lesion is flat.', 'The general silhouette of the lesion is flattened elevated.', 'The general silhouette of the lesion is flat.'), ('The general silhouette of the lesion is flat.', 'The general silhouette of the lesion is flat.', 'The general silhouette of the lesion is flat.', 'The general silhouette of the lesion is flat.', 'The general silhouette of the lesion is flat.', 'The general silhouette of the lesion is flat.', 'The general silhouette of the lesion is flat.', 'The general silhouette of the lesion is flattened elevated.', 'The general silhouette of the lesion is flat.', 'The general silhouette of the lesion is flat.', 'The general silhouette of the lesion is flat.', 'The general silhouette of the lesion is flattened elevated.', 'The general silhouette of the lesion is flattened elevated.', 'The general silhouette of the lesion is flat.', 'The general silhouette of the lesion is flat.', 'The general silhouette of the lesion is flat.', 'The general silhouette of the lesion is flat.', 'The general silhouette of the lesion is flat.', 'The general silhouette of the lesion is flattened elevated.', 'The general silhouette of the lesion is flat.'), ('The general silhouette of the lesion is flat.', 'The general silhouette of the lesion is flat.', 'The general silhouette of the lesion is flat.', 'The general silhouette of the lesion is flat.', 'The general silhouette of the lesion is flat.', 'The general silhouette of the lesion is flat.', 'The general silhouette of the lesion is flat.', 'The general silhouette of the lesion is flattened elevated.', 'The general silhouette of the lesion is flat.', 'The general silhouette of the lesion is flat.', 'The general silhouette of the lesion is flat.', 'The general silhouette of the lesion is flattened elevated.', 'The general silhouette of the lesion is flattened elevated.', 'The general silhouette of the lesion is flat.', 'The general silhouette of the lesion is flat.', 'The general silhouette of the lesion is flat.', 'The general silhouette of the lesion is flat.', 'The general silhouette of the lesion is flat.', 'The general silhouette of the lesion is flattened elevated.', 'The general silhouette of the lesion is flat.'), ('The general silhouette of the lesion is flat.', 'The general silhouette of the lesion is flat.', 'The general silhouette of the lesion is flat.', 'The general silhouette of the lesion is flat.', 'The general silhouette of the lesion is flat.', 'The general silhouette of the lesion is flat.', 'The general silhouette of the lesion is flat.', 'The general silhouette of the lesion is flattened elevated.', 'The general silhouette of the lesion is flat.', 'The general silhouette of the lesion is flat.', 'The general silhouette of the lesion is flat.', 'The general silhouette of the lesion is flattened elevated.', 'The general silhouette of the lesion is flattened elevated.', 'The general silhouette of the lesion is flat.', 'The general silhouette of the lesion is flat.', 'The general silhouette of the lesion is flat.', 'The general silhouette of the lesion is flat.', 'The general silhouette of the lesion is flat.', 'The general silhouette of the lesion is flattened elevated.', 'The general silhouette of the lesion is flat.'), ('The general silhouette of the lesion is flat.', 'The general silhouette of the lesion is flat.', 'The general silhouette of the lesion is flat.', 'The general silhouette of the lesion is flat.', 'The general silhouette of the lesion is flat.', 'The general silhouette of the lesion is flat.', 'The general silhouette of the lesion is flat.', 'The general silhouette of the lesion is flattened elevated.', 'The general silhouette of the lesion is flat.', 'The general silhouette of the lesion is flat.', 'The general silhouette of the lesion is flat.', 'The general silhouette of the lesion is flattened elevated.', 'The general silhouette of the lesion is flattened elevated.', 'The general silhouette of the lesion is flat.', 'The general silhouette of the lesion is flat.', 'The general silhouette of the lesion is flat.', 'The general silhouette of the lesion is flat.', 'The general silhouette of the lesion is flat.', 'The general silhouette of the lesion is flattened elevated.', 'The general silhouette of the lesion is flat.'), ('The histology diagnostic indicates melanoma in situ (mis).', 'The histology diagnostic indicates non-atypical stable mole (m).', 'The histology diagnostic indicates non-atypical stable mole (m).', 'The histology diagnostic indicates non-atypical stable mole (m).', 'The histology diagnostic indicates non-atypical stable mole (m).', 'The histology diagnostic indicates non-atypical stable mole (m).', 'The histology diagnostic indicates non-atypical stable mole (m).', 'The histology diagnostic indicates superficial spreading melanoma (ssm).', 'The histology diagnostic indicates junctional melanocytic nevus (jmn).', 'The histology diagnostic indicates compound melanocytic nevus (cmn).', 'The histology diagnostic indicates dysplastic melanocytic nevus (dmn).', 'The histology diagnostic indicates dysplastic melanocytic nevus (dmn).', 'The histology diagnostic indicates dysplastic melanocytic nevus (dmn).', 'The histology diagnostic indicates dysplastic melanocytic nevus (dmn).', 'The histology diagnostic indicates non-atypical stable mole (m).', 'The histology diagnostic indicates dysplastic melanocytic nevus (dmn).', 'The histology diagnostic indicates junctional melanocytic nevus (jmn).', 'The histology diagnostic indicates dysplastic melanocytic nevus (dmn).', 'The histology diagnostic indicates spitz nevus (sn).', 'The histology diagnostic indicates lentiginous melanocytic nevus (lmn).'), ('The histology diagnostic indicates melanoma in situ (mis).', 'The histology diagnostic indicates non-atypical stable mole (m).', 'The histology diagnostic indicates non-atypical stable mole (m).', 'The histology diagnostic indicates non-atypical stable mole (m).', 'The histology diagnostic indicates non-atypical stable mole (m).', 'The histology diagnostic indicates non-atypical stable mole (m).', 'The histology diagnostic indicates non-atypical stable mole (m).', 'The histology diagnostic indicates superficial spreading melanoma (ssm).', 'The histology diagnostic indicates junctional melanocytic nevus (jmn).', 'The histology diagnostic indicates compound melanocytic nevus (cmn).', 'The histology diagnostic indicates dysplastic melanocytic nevus (dmn).', 'The histology diagnostic indicates dysplastic melanocytic nevus (dmn).', 'The histology diagnostic indicates dysplastic melanocytic nevus (dmn).', 'The histology diagnostic indicates dysplastic melanocytic nevus (dmn).', 'The histology diagnostic indicates non-atypical stable mole (m).', 'The histology diagnostic indicates dysplastic melanocytic nevus (dmn).', 'The histology diagnostic indicates junctional melanocytic nevus (jmn).', 'The histology diagnostic indicates dysplastic melanocytic nevus (dmn).', 'The histology diagnostic indicates spitz nevus (sn).', 'The histology diagnostic indicates lentiginous melanocytic nevus (lmn).'), ('The histology diagnostic indicates melanoma in situ (mis).', 'The histology diagnostic indicates non-atypical stable mole (m).', 'The histology diagnostic indicates non-atypical stable mole (m).', 'The histology diagnostic indicates non-atypical stable mole (m).', 'The histology diagnostic indicates non-atypical stable mole (m).', 'The histology diagnostic indicates non-atypical stable mole (m).', 'The histology diagnostic indicates non-atypical stable mole (m).', 'The histology diagnostic indicates superficial spreading melanoma (ssm).', 'The histology diagnostic indicates junctional melanocytic nevus (jmn).', 'The histology diagnostic indicates compound melanocytic nevus (cmn).', 'The histology diagnostic indicates dysplastic melanocytic nevus (dmn).', 'The histology diagnostic indicates dysplastic melanocytic nevus (dmn).', 'The histology diagnostic indicates dysplastic melanocytic nevus (dmn).', 'The histology diagnostic indicates dysplastic melanocytic nevus (dmn).', 'The histology diagnostic indicates non-atypical stable mole (m).', 'The histology diagnostic indicates dysplastic melanocytic nevus (dmn).', 'The histology diagnostic indicates junctional melanocytic nevus (jmn).', 'The histology diagnostic indicates dysplastic melanocytic nevus (dmn).', 'The histology diagnostic indicates spitz nevus (sn).', 'The histology diagnostic indicates lentiginous melanocytic nevus (lmn).'), ('The histology diagnostic indicates melanoma in situ (mis).', 'The histology diagnostic indicates non-atypical stable mole (m).', 'The histology diagnostic indicates non-atypical stable mole (m).', 'The histology diagnostic indicates non-atypical stable mole (m).', 'The histology diagnostic indicates non-atypical stable mole (m).', 'The histology diagnostic indicates non-atypical stable mole (m).', 'The histology diagnostic indicates non-atypical stable mole (m).', 'The histology diagnostic indicates superficial spreading melanoma (ssm).', 'The histology diagnostic indicates junctional melanocytic nevus (jmn).', 'The histology diagnostic indicates compound melanocytic nevus (cmn).', 'The histology diagnostic indicates dysplastic melanocytic nevus (dmn).', 'The histology diagnostic indicates dysplastic melanocytic nevus (dmn).', 'The histology diagnostic indicates dysplastic melanocytic nevus (dmn).', 'The histology diagnostic indicates dysplastic melanocytic nevus (dmn).', 'The histology diagnostic indicates non-atypical stable mole (m).', 'The histology diagnostic indicates dysplastic melanocytic nevus (dmn).', 'The histology diagnostic indicates junctional melanocytic nevus (jmn).', 'The histology diagnostic indicates dysplastic melanocytic nevus (dmn).', 'The histology diagnostic indicates spitz nevus (sn).', 'The histology diagnostic indicates lentiginous melanocytic nevus (lmn).'), ('The histology diagnostic indicates melanoma in situ (mis).', 'The histology diagnostic indicates non-atypical stable mole (m).', 'The histology diagnostic indicates non-atypical stable mole (m).', 'The histology diagnostic indicates non-atypical stable mole (m).', 'The histology diagnostic indicates non-atypical stable mole (m).', 'The histology diagnostic indicates non-atypical stable mole (m).', 'The histology diagnostic indicates non-atypical stable mole (m).', 'The histology diagnostic indicates superficial spreading melanoma (ssm).', 'The histology diagnostic indicates junctional melanocytic nevus (jmn).', 'The histology diagnostic indicates compound melanocytic nevus (cmn).', 'The histology diagnostic indicates dysplastic melanocytic nevus (dmn).', 'The histology diagnostic indicates dysplastic melanocytic nevus (dmn).', 'The histology diagnostic indicates dysplastic melanocytic nevus (dmn).', 'The histology diagnostic indicates dysplastic melanocytic nevus (dmn).', 'The histology diagnostic indicates non-atypical stable mole (m).', 'The histology diagnostic indicates dysplastic melanocytic nevus (dmn).', 'The histology diagnostic indicates junctional melanocytic nevus (jmn).', 'The histology diagnostic indicates dysplastic melanocytic nevus (dmn).', 'The histology diagnostic indicates spitz nevus (sn).', 'The histology diagnostic indicates lentiginous melanocytic nevus (lmn).'), ('The presence of dysplasia is not applicable.', 'The presence of dysplasia is not applicable.', 'The presence of dysplasia is not applicable.', 'The presence of dysplasia is not applicable.', 'The presence of dysplasia is not applicable.', 'The presence of dysplasia is not applicable.', 'The presence of dysplasia is not applicable.', 'The presence of dysplasia is not applicable.', 'The presence of dysplasia is not applicable.', 'The presence of dysplasia is not applicable.', 'The presence of dysplasia is not available.', 'The presence of dysplasia is not available.', 'The presence of dysplasia is not available.', 'The presence of dysplasia is not available.', 'The presence of dysplasia is not applicable.', 'The presence of dysplasia is not available.', 'The presence of dysplasia is not applicable.', 'The presence of dysplasia is severe.', 'The presence of dysplasia is not applicable.', 'The presence of dysplasia is not applicable.'), ('The presence of dysplasia is not applicable.', 'The presence of dysplasia is not applicable.', 'The presence of dysplasia is not applicable.', 'The presence of dysplasia is not applicable.', 'The presence of dysplasia is not applicable.', 'The presence of dysplasia is not applicable.', 'The presence of dysplasia is not applicable.', 'The presence of dysplasia is not applicable.', 'The presence of dysplasia is not applicable.', 'The presence of dysplasia is not applicable.', 'The presence of dysplasia is not available.', 'The presence of dysplasia is not available.', 'The presence of dysplasia is not available.', 'The presence of dysplasia is not available.', 'The presence of dysplasia is not applicable.', 'The presence of dysplasia is not available.', 'The presence of dysplasia is not applicable.', 'The presence of dysplasia is severe.', 'The presence of dysplasia is not applicable.', 'The presence of dysplasia is not applicable.'), ('The presence of dysplasia is not applicable.', 'The presence of dysplasia is not applicable.', 'The presence of dysplasia is not applicable.', 'The presence of dysplasia is not applicable.', 'The presence of dysplasia is not applicable.', 'The presence of dysplasia is not applicable.', 'The presence of dysplasia is not applicable.', 'The presence of dysplasia is not applicable.', 'The presence of dysplasia is not applicable.', 'The presence of dysplasia is not applicable.', 'The presence of dysplasia is not available.', 'The presence of dysplasia is not available.', 'The presence of dysplasia is not available.', 'The presence of dysplasia is not available.', 'The presence of dysplasia is not applicable.', 'The presence of dysplasia is not available.', 'The presence of dysplasia is not applicable.', 'The presence of dysplasia is severe.', 'The presence of dysplasia is not applicable.', 'The presence of dysplasia is not applicable.'), ('The presence of dysplasia is not applicable.', 'The presence of dysplasia is not applicable.', 'The presence of dysplasia is not applicable.', 'The presence of dysplasia is not applicable.', 'The presence of dysplasia is not applicable.', 'The presence of dysplasia is not applicable.', 'The presence of dysplasia is not applicable.', 'The presence of dysplasia is not applicable.', 'The presence of dysplasia is not applicable.', 'The presence of dysplasia is not applicable.', 'The presence of dysplasia is not available.', 'The presence of dysplasia is not available.', 'The presence of dysplasia is not available.', 'The presence of dysplasia is not available.', 'The presence of dysplasia is not applicable.', 'The presence of dysplasia is not available.', 'The presence of dysplasia is not applicable.', 'The presence of dysplasia is severe.', 'The presence of dysplasia is not applicable.', 'The presence of dysplasia is not applicable.'), ('The presence of dysplasia is not applicable.', 'The presence of dysplasia is not applicable.', 'The presence of dysplasia is not applicable.', 'The presence of dysplasia is not applicable.', 'The presence of dysplasia is not applicable.', 'The presence of dysplasia is not applicable.', 'The presence of dysplasia is not applicable.', 'The presence of dysplasia is not applicable.', 'The presence of dysplasia is not applicable.', 'The presence of dysplasia is not applicable.', 'The presence of dysplasia is not available.', 'The presence of dysplasia is not available.', 'The presence of dysplasia is not available.', 'The presence of dysplasia is not available.', 'The presence of dysplasia is not applicable.', 'The presence of dysplasia is not available.', 'The presence of dysplasia is not applicable.', 'The presence of dysplasia is severe.', 'The presence of dysplasia is not applicable.', 'The presence of dysplasia is not applicable.'), ('The diagnostic impression is exclude melanoma.', 'The diagnostic impression is non-atypical mole.', 'The diagnostic impression is atypical mole.', 'The diagnostic impression is non-atypical mole.', 'The diagnostic impression is atypical mole.', 'The diagnostic impression is non-atypical mole.', 'The diagnostic impression is non-atypical mole.', 'The diagnostic impression is melanoma.', 'The diagnostic impression is exclude melanoma.', 'The diagnostic impression is exclude melanoma.', 'The diagnostic impression is exclude melanoma.', 'The diagnostic impression is atypical mole.', 'The diagnostic impression is melanoma.', 'The diagnostic impression is atypical mole.', 'The diagnostic impression is non-atypical mole.', 'The diagnostic impression is atypical mole.', 'The diagnostic impression is atypical mole.', 'The diagnostic impression is melanoma.', 'The diagnostic impression is exclude melanoma.', 'The diagnostic impression is atypical mole.'), ('The diagnostic impression is exclude melanoma.', 'The diagnostic impression is non-atypical mole.', 'The diagnostic impression is atypical mole.', 'The diagnostic impression is non-atypical mole.', 'The diagnostic impression is atypical mole.', 'The diagnostic impression is non-atypical mole.', 'The diagnostic impression is non-atypical mole.', 'The diagnostic impression is melanoma.', 'The diagnostic impression is exclude melanoma.', 'The diagnostic impression is exclude melanoma.', 'The diagnostic impression is exclude melanoma.', 'The diagnostic impression is atypical mole.', 'The diagnostic impression is melanoma.', 'The diagnostic impression is atypical mole.', 'The diagnostic impression is non-atypical mole.', 'The diagnostic impression is atypical mole.', 'The diagnostic impression is atypical mole.', 'The diagnostic impression is melanoma.', 'The diagnostic impression is exclude melanoma.', 'The diagnostic impression is atypical mole.'), ('The diagnostic impression is exclude melanoma.', 'The diagnostic impression is non-atypical mole.', 'The diagnostic impression is atypical mole.', 'The diagnostic impression is non-atypical mole.', 'The diagnostic impression is atypical mole.', 'The diagnostic impression is non-atypical mole.', 'The diagnostic impression is non-atypical mole.', 'The diagnostic impression is melanoma.', 'The diagnostic impression is exclude melanoma.', 'The diagnostic impression is exclude melanoma.', 'The diagnostic impression is exclude melanoma.', 'The diagnostic impression is atypical mole.', 'The diagnostic impression is melanoma.', 'The diagnostic impression is atypical mole.', 'The diagnostic impression is non-atypical mole.', 'The diagnostic impression is atypical mole.', 'The diagnostic impression is atypical mole.', 'The diagnostic impression is melanoma.', 'The diagnostic impression is exclude melanoma.', 'The diagnostic impression is atypical mole.'), ('The diagnostic impression is exclude melanoma.', 'The diagnostic impression is non-atypical mole.', 'The diagnostic impression is atypical mole.', 'The diagnostic impression is non-atypical mole.', 'The diagnostic impression is atypical mole.', 'The diagnostic impression is non-atypical mole.', 'The diagnostic impression is non-atypical mole.', 'The diagnostic impression is melanoma.', 'The diagnostic impression is exclude melanoma.', 'The diagnostic impression is exclude melanoma.', 'The diagnostic impression is exclude melanoma.', 'The diagnostic impression is atypical mole.', 'The diagnostic impression is melanoma.', 'The diagnostic impression is atypical mole.', 'The diagnostic impression is non-atypical mole.', 'The diagnostic impression is atypical mole.', 'The diagnostic impression is atypical mole.', 'The diagnostic impression is melanoma.', 'The diagnostic impression is exclude melanoma.', 'The diagnostic impression is atypical mole.'), ('The diagnostic impression is exclude melanoma.', 'The diagnostic impression is non-atypical mole.', 'The diagnostic impression is atypical mole.', 'The diagnostic impression is non-atypical mole.', 'The diagnostic impression is atypical mole.', 'The diagnostic impression is non-atypical mole.', 'The diagnostic impression is non-atypical mole.', 'The diagnostic impression is melanoma.', 'The diagnostic impression is exclude melanoma.', 'The diagnostic impression is exclude melanoma.', 'The diagnostic impression is exclude melanoma.', 'The diagnostic impression is atypical mole.', 'The diagnostic impression is melanoma.', 'The diagnostic impression is atypical mole.', 'The diagnostic impression is non-atypical mole.', 'The diagnostic impression is atypical mole.', 'The diagnostic impression is atypical mole.', 'The diagnostic impression is melanoma.', 'The diagnostic impression is exclude melanoma.', 'The diagnostic impression is atypical mole.'), ('The diagnostic difficulty level is medium.', 'The diagnostic difficulty level is low.', 'The diagnostic difficulty level is low.', 'The diagnostic difficulty level is low.', 'The diagnostic difficulty level is low.', 'The diagnostic difficulty level is low.', 'The diagnostic difficulty level is low.', 'The diagnostic difficulty level is low.', 'The diagnostic difficulty level is high.', 'The diagnostic difficulty level is high.', 'The diagnostic difficulty level is medium.', 'The diagnostic difficulty level is medium.', 'The diagnostic difficulty level is medium.', 'The diagnostic difficulty level is medium.', 'The diagnostic difficulty level is low.', 'The diagnostic difficulty level is medium.', 'The diagnostic difficulty level is low.', 'The diagnostic difficulty level is low.', 'The diagnostic difficulty level is medium.', 'The diagnostic difficulty level is medium.'), ('The diagnostic difficulty level is medium.', 'The diagnostic difficulty level is low.', 'The diagnostic difficulty level is low.', 'The diagnostic difficulty level is low.', 'The diagnostic difficulty level is low.', 'The diagnostic difficulty level is low.', 'The diagnostic difficulty level is low.', 'The diagnostic difficulty level is low.', 'The diagnostic difficulty level is high.', 'The diagnostic difficulty level is high.', 'The diagnostic difficulty level is medium.', 'The diagnostic difficulty level is medium.', 'The diagnostic difficulty level is medium.', 'The diagnostic difficulty level is medium.', 'The diagnostic difficulty level is low.', 'The diagnostic difficulty level is medium.', 'The diagnostic difficulty level is low.', 'The diagnostic difficulty level is low.', 'The diagnostic difficulty level is medium.', 'The diagnostic difficulty level is medium.'), ('The diagnostic difficulty level is medium.', 'The diagnostic difficulty level is low.', 'The diagnostic difficulty level is low.', 'The diagnostic difficulty level is low.', 'The diagnostic difficulty level is low.', 'The diagnostic difficulty level is low.', 'The diagnostic difficulty level is low.', 'The diagnostic difficulty level is low.', 'The diagnostic difficulty level is high.', 'The diagnostic difficulty level is high.', 'The diagnostic difficulty level is medium.', 'The diagnostic difficulty level is medium.', 'The diagnostic difficulty level is medium.', 'The diagnostic difficulty level is medium.', 'The diagnostic difficulty level is low.', 'The diagnostic difficulty level is medium.', 'The diagnostic difficulty level is low.', 'The diagnostic difficulty level is low.', 'The diagnostic difficulty level is medium.', 'The diagnostic difficulty level is medium.'), ('The diagnostic difficulty level is medium.', 'The diagnostic difficulty level is low.', 'The diagnostic difficulty level is low.', 'The diagnostic difficulty level is low.', 'The diagnostic difficulty level is low.', 'The diagnostic difficulty level is low.', 'The diagnostic difficulty level is low.', 'The diagnostic difficulty level is low.', 'The diagnostic difficulty level is high.', 'The diagnostic difficulty level is high.', 'The diagnostic difficulty level is medium.', 'The diagnostic difficulty level is medium.', 'The diagnostic difficulty level is medium.', 'The diagnostic difficulty level is medium.', 'The diagnostic difficulty level is low.', 'The diagnostic difficulty level is medium.', 'The diagnostic difficulty level is low.', 'The diagnostic difficulty level is low.', 'The diagnostic difficulty level is medium.', 'The diagnostic difficulty level is medium.'), ('The diagnostic difficulty level is medium.', 'The diagnostic difficulty level is low.', 'The diagnostic difficulty level is low.', 'The diagnostic difficulty level is low.', 'The diagnostic difficulty level is low.', 'The diagnostic difficulty level is low.', 'The diagnostic difficulty level is low.', 'The diagnostic difficulty level is low.', 'The diagnostic difficulty level is high.', 'The diagnostic difficulty level is high.', 'The diagnostic difficulty level is medium.', 'The diagnostic difficulty level is medium.', 'The diagnostic difficulty level is medium.', 'The diagnostic difficulty level is medium.', 'The diagnostic difficulty level is low.', 'The diagnostic difficulty level is medium.', 'The diagnostic difficulty level is low.', 'The diagnostic difficulty level is low.', 'The diagnostic difficulty level is medium.', 'The diagnostic difficulty level is medium.'), ('The lesion has been follow-up with previous dermoscopy, due to changes.', 'The lesion has been not excised.', 'The lesion has been not excised.', 'The lesion has been not excised.', 'The lesion has been not excised.', 'The lesion has been not excised.', 'The lesion has been not excised.', 'The lesion has been first consultation.', 'The lesion has been first consultation.', 'The lesion has been first consultation.', 'The lesion has been first consultation.', 'The lesion has been first consultation.', 'The lesion has been first consultation.', 'The lesion has been follow-up with previous dermoscopy, due to changes.', 'The lesion has been not excised.', 'The lesion has been first consultation.', 'The lesion has been first consultation.', 'The lesion has been first consultation.', 'The lesion has been first consultation.', 'The lesion has been follow-up with previous dermoscopy, due to changes.'), ('The lesion has been follow-up with previous dermoscopy, due to changes.', 'The lesion has been not excised.', 'The lesion has been not excised.', 'The lesion has been not excised.', 'The lesion has been not excised.', 'The lesion has been not excised.', 'The lesion has been not excised.', 'The lesion has been first consultation.', 'The lesion has been first consultation.', 'The lesion has been first consultation.', 'The lesion has been first consultation.', 'The lesion has been first consultation.', 'The lesion has been first consultation.', 'The lesion has been follow-up with previous dermoscopy, due to changes.', 'The lesion has been not excised.', 'The lesion has been first consultation.', 'The lesion has been first consultation.', 'The lesion has been first consultation.', 'The lesion has been first consultation.', 'The lesion has been follow-up with previous dermoscopy, due to changes.'), ('The lesion has been follow-up with previous dermoscopy, due to changes.', 'The lesion has been not excised.', 'The lesion has been not excised.', 'The lesion has been not excised.', 'The lesion has been not excised.', 'The lesion has been not excised.', 'The lesion has been not excised.', 'The lesion has been first consultation.', 'The lesion has been first consultation.', 'The lesion has been first consultation.', 'The lesion has been first consultation.', 'The lesion has been first consultation.', 'The lesion has been first consultation.', 'The lesion has been follow-up with previous dermoscopy, due to changes.', 'The lesion has been not excised.', 'The lesion has been first consultation.', 'The lesion has been first consultation.', 'The lesion has been first consultation.', 'The lesion has been first consultation.', 'The lesion has been follow-up with previous dermoscopy, due to changes.'), ('The lesion has been follow-up with previous dermoscopy, due to changes.', 'The lesion has been not excised.', 'The lesion has been not excised.', 'The lesion has been not excised.', 'The lesion has been not excised.', 'The lesion has been not excised.', 'The lesion has been not excised.', 'The lesion has been first consultation.', 'The lesion has been first consultation.', 'The lesion has been first consultation.', 'The lesion has been first consultation.', 'The lesion has been first consultation.', 'The lesion has been first consultation.', 'The lesion has been follow-up with previous dermoscopy, due to changes.', 'The lesion has been not excised.', 'The lesion has been first consultation.', 'The lesion has been first consultation.', 'The lesion has been first consultation.', 'The lesion has been first consultation.', 'The lesion has been follow-up with previous dermoscopy, due to changes.'), ('The lesion has been follow-up with previous dermoscopy, due to changes.', 'The lesion has been not excised.', 'The lesion has been not excised.', 'The lesion has been not excised.', 'The lesion has been not excised.', 'The lesion has been not excised.', 'The lesion has been not excised.', 'The lesion has been first consultation.', 'The lesion has been first consultation.', 'The lesion has been first consultation.', 'The lesion has been first consultation.', 'The lesion has been first consultation.', 'The lesion has been first consultation.', 'The lesion has been follow-up with previous dermoscopy, due to changes.', 'The lesion has been not excised.', 'The lesion has been first consultation.', 'The lesion has been first consultation.', 'The lesion has been first consultation.', 'The lesion has been first consultation.', 'The lesion has been follow-up with previous dermoscopy, due to changes.'), ('The global pattern of the lesion is diffuse reticular.', 'The global pattern of the lesion is diffuse reticular.', 'The global pattern of the lesion is diffuse reticular.', 'The global pattern of the lesion is diffuse reticular.', 'The global pattern of the lesion is mixed (mix of two of the above).', 'The global pattern of the lesion is diffuse reticular.', 'The global pattern of the lesion is diffuse reticular.', 'The global pattern of the lesion is mixed (mix of two of the above).', 'The global pattern of the lesion is mixed (mix of two of the above).', 'The global pattern of the lesion is undefined.', 'The global pattern of the lesion is mixed (mix of two of the above).', 'The global pattern of the lesion is globular.', 'The global pattern of the lesion is multicomponent (mix of 3 or more above).', 'The global pattern of the lesion is undefined.', 'The global pattern of the lesion is homogeneous.', 'The global pattern of the lesion is multicomponent (mix of 3 or more above).', 'The global pattern of the lesion is diffuse reticular.', 'The global pattern of the lesion is undefined.', 'The global pattern of the lesion is undefined.', 'The global pattern of the lesion is mixed (mix of two of the above).'), ('The global pattern of the lesion is diffuse reticular.', 'The global pattern of the lesion is diffuse reticular.', 'The global pattern of the lesion is diffuse reticular.', 'The global pattern of the lesion is diffuse reticular.', 'The global pattern of the lesion is mixed (mix of two of the above).', 'The global pattern of the lesion is diffuse reticular.', 'The global pattern of the lesion is diffuse reticular.', 'The global pattern of the lesion is mixed (mix of two of the above).', 'The global pattern of the lesion is mixed (mix of two of the above).', 'The global pattern of the lesion is undefined.', 'The global pattern of the lesion is mixed (mix of two of the above).', 'The global pattern of the lesion is globular.', 'The global pattern of the lesion is multicomponent (mix of 3 or more above).', 'The global pattern of the lesion is undefined.', 'The global pattern of the lesion is homogeneous.', 'The global pattern of the lesion is multicomponent (mix of 3 or more above).', 'The global pattern of the lesion is diffuse reticular.', 'The global pattern of the lesion is undefined.', 'The global pattern of the lesion is undefined.', 'The global pattern of the lesion is mixed (mix of two of the above).'), ('The global pattern of the lesion is diffuse reticular.', 'The global pattern of the lesion is diffuse reticular.', 'The global pattern of the lesion is diffuse reticular.', 'The global pattern of the lesion is diffuse reticular.', 'The global pattern of the lesion is mixed (mix of two of the above).', 'The global pattern of the lesion is diffuse reticular.', 'The global pattern of the lesion is diffuse reticular.', 'The global pattern of the lesion is mixed (mix of two of the above).', 'The global pattern of the lesion is mixed (mix of two of the above).', 'The global pattern of the lesion is undefined.', 'The global pattern of the lesion is mixed (mix of two of the above).', 'The global pattern of the lesion is globular.', 'The global pattern of the lesion is multicomponent (mix of 3 or more above).', 'The global pattern of the lesion is undefined.', 'The global pattern of the lesion is homogeneous.', 'The global pattern of the lesion is multicomponent (mix of 3 or more above).', 'The global pattern of the lesion is diffuse reticular.', 'The global pattern of the lesion is undefined.', 'The global pattern of the lesion is undefined.', 'The global pattern of the lesion is mixed (mix of two of the above).'), ('The global pattern of the lesion is diffuse reticular.', 'The global pattern of the lesion is diffuse reticular.', 'The global pattern of the lesion is diffuse reticular.', 'The global pattern of the lesion is diffuse reticular.', 'The global pattern of the lesion is mixed (mix of two of the above).', 'The global pattern of the lesion is diffuse reticular.', 'The global pattern of the lesion is diffuse reticular.', 'The global pattern of the lesion is mixed (mix of two of the above).', 'The global pattern of the lesion is mixed (mix of two of the above).', 'The global pattern of the lesion is undefined.', 'The global pattern of the lesion is mixed (mix of two of the above).', 'The global pattern of the lesion is globular.', 'The global pattern of the lesion is multicomponent (mix of 3 or more above).', 'The global pattern of the lesion is undefined.', 'The global pattern of the lesion is homogeneous.', 'The global pattern of the lesion is multicomponent (mix of 3 or more above).', 'The global pattern of the lesion is diffuse reticular.', 'The global pattern of the lesion is undefined.', 'The global pattern of the lesion is undefined.', 'The global pattern of the lesion is mixed (mix of two of the above).'), ('The global pattern of the lesion is diffuse reticular.', 'The global pattern of the lesion is diffuse reticular.', 'The global pattern of the lesion is diffuse reticular.', 'The global pattern of the lesion is diffuse reticular.', 'The global pattern of the lesion is mixed (mix of two of the above).', 'The global pattern of the lesion is diffuse reticular.', 'The global pattern of the lesion is diffuse reticular.', 'The global pattern of the lesion is mixed (mix of two of the above).', 'The global pattern of the lesion is mixed (mix of two of the above).', 'The global pattern of the lesion is undefined.', 'The global pattern of the lesion is mixed (mix of two of the above).', 'The global pattern of the lesion is globular.', 'The global pattern of the lesion is multicomponent (mix of 3 or more above).', 'The global pattern of the lesion is undefined.', 'The global pattern of the lesion is homogeneous.', 'The global pattern of the lesion is multicomponent (mix of 3 or more above).', 'The global pattern of the lesion is diffuse reticular.', 'The global pattern of the lesion is undefined.', 'The global pattern of the lesion is undefined.', 'The global pattern of the lesion is mixed (mix of two of the above).'), ('The peripheral globular pattern is absent.', 'The peripheral globular pattern is absent.', 'The peripheral globular pattern is regular conventional.', 'The peripheral globular pattern is absent.', 'The peripheral globular pattern is absent.', 'The peripheral globular pattern is absent.', 'The peripheral globular pattern is absent.', 'The peripheral globular pattern is absent.', 'The peripheral globular pattern is absent.', 'The peripheral globular pattern is absent.', 'The peripheral globular pattern is absent.', 'The peripheral globular pattern is irregular conventional.', 'The peripheral globular pattern is irregular conventional.', 'The peripheral globular pattern is irregular conventional.', 'The peripheral globular pattern is regular conventional.', 'The peripheral globular pattern is absent.', 'The peripheral globular pattern is absent.', 'The peripheral globular pattern is irregular bursting.', 'The peripheral globular pattern is irregular bursting.', 'The peripheral globular pattern is absent.'), ('The peripheral globular pattern is absent.', 'The peripheral globular pattern is absent.', 'The peripheral globular pattern is regular conventional.', 'The peripheral globular pattern is absent.', 'The peripheral globular pattern is absent.', 'The peripheral globular pattern is absent.', 'The peripheral globular pattern is absent.', 'The peripheral globular pattern is absent.', 'The peripheral globular pattern is absent.', 'The peripheral globular pattern is absent.', 'The peripheral globular pattern is absent.', 'The peripheral globular pattern is irregular conventional.', 'The peripheral globular pattern is irregular conventional.', 'The peripheral globular pattern is irregular conventional.', 'The peripheral globular pattern is regular conventional.', 'The peripheral globular pattern is absent.', 'The peripheral globular pattern is absent.', 'The peripheral globular pattern is irregular bursting.', 'The peripheral globular pattern is irregular bursting.', 'The peripheral globular pattern is absent.'), ('The peripheral globular pattern is absent.', 'The peripheral globular pattern is absent.', 'The peripheral globular pattern is regular conventional.', 'The peripheral globular pattern is absent.', 'The peripheral globular pattern is absent.', 'The peripheral globular pattern is absent.', 'The peripheral globular pattern is absent.', 'The peripheral globular pattern is absent.', 'The peripheral globular pattern is absent.', 'The peripheral globular pattern is absent.', 'The peripheral globular pattern is absent.', 'The peripheral globular pattern is irregular conventional.', 'The peripheral globular pattern is irregular conventional.', 'The peripheral globular pattern is irregular conventional.', 'The peripheral globular pattern is regular conventional.', 'The peripheral globular pattern is absent.', 'The peripheral globular pattern is absent.', 'The peripheral globular pattern is irregular bursting.', 'The peripheral globular pattern is irregular bursting.', 'The peripheral globular pattern is absent.'), ('The peripheral globular pattern is absent.', 'The peripheral globular pattern is absent.', 'The peripheral globular pattern is regular conventional.', 'The peripheral globular pattern is absent.', 'The peripheral globular pattern is absent.', 'The peripheral globular pattern is absent.', 'The peripheral globular pattern is absent.', 'The peripheral globular pattern is absent.', 'The peripheral globular pattern is absent.', 'The peripheral globular pattern is absent.', 'The peripheral globular pattern is absent.', 'The peripheral globular pattern is irregular conventional.', 'The peripheral globular pattern is irregular conventional.', 'The peripheral globular pattern is irregular conventional.', 'The peripheral globular pattern is regular conventional.', 'The peripheral globular pattern is absent.', 'The peripheral globular pattern is absent.', 'The peripheral globular pattern is irregular bursting.', 'The peripheral globular pattern is irregular bursting.', 'The peripheral globular pattern is absent.'), ('The peripheral globular pattern is absent.', 'The peripheral globular pattern is absent.', 'The peripheral globular pattern is regular conventional.', 'The peripheral globular pattern is absent.', 'The peripheral globular pattern is absent.', 'The peripheral globular pattern is absent.', 'The peripheral globular pattern is absent.', 'The peripheral globular pattern is absent.', 'The peripheral globular pattern is absent.', 'The peripheral globular pattern is absent.', 'The peripheral globular pattern is absent.', 'The peripheral globular pattern is irregular conventional.', 'The peripheral globular pattern is irregular conventional.', 'The peripheral globular pattern is irregular conventional.', 'The peripheral globular pattern is regular conventional.', 'The peripheral globular pattern is absent.', 'The peripheral globular pattern is absent.', 'The peripheral globular pattern is irregular bursting.', 'The peripheral globular pattern is irregular bursting.', 'The peripheral globular pattern is absent.'), ('The lesion is asymmetric on one axis.', 'The lesion is symmetric.', 'The lesion is symmetric.', 'The lesion is .', 'The lesion is .', 'The lesion is symmetric.', 'The lesion is asymmetric on one axis.', 'The lesion is symmetric.', 'The lesion is asymmetric on two axes.', 'The lesion is asymmetric on one axis.', 'The lesion is asymmetric on two axes.', 'The lesion is asymmetric on two axes.', 'The lesion is asymmetric on two axes.', 'The lesion is asymmetric on two axes.', 'The lesion is symmetric.', 'The lesion is asymmetric on one axis.', 'The lesion is symmetric.', 'The lesion is asymmetric on two axes.', 'The lesion is asymmetric on two axes.', 'The lesion is asymmetric on two axes.'), ('The lesion is asymmetric on one axis.', 'The lesion is symmetric.', 'The lesion is symmetric.', 'The lesion is .', 'The lesion is .', 'The lesion is symmetric.', 'The lesion is asymmetric on one axis.', 'The lesion is symmetric.', 'The lesion is asymmetric on two axes.', 'The lesion is asymmetric on one axis.', 'The lesion is asymmetric on two axes.', 'The lesion is asymmetric on two axes.', 'The lesion is asymmetric on two axes.', 'The lesion is asymmetric on two axes.', 'The lesion is symmetric.', 'The lesion is asymmetric on one axis.', 'The lesion is symmetric.', 'The lesion is asymmetric on two axes.', 'The lesion is asymmetric on two axes.', 'The lesion is asymmetric on two axes.'), ('The lesion is asymmetric on one axis.', 'The lesion is symmetric.', 'The lesion is symmetric.', 'The lesion is .', 'The lesion is .', 'The lesion is symmetric.', 'The lesion is asymmetric on one axis.', 'The lesion is symmetric.', 'The lesion is asymmetric on two axes.', 'The lesion is asymmetric on one axis.', 'The lesion is asymmetric on two axes.', 'The lesion is asymmetric on two axes.', 'The lesion is asymmetric on two axes.', 'The lesion is asymmetric on two axes.', 'The lesion is symmetric.', 'The lesion is asymmetric on one axis.', 'The lesion is symmetric.', 'The lesion is asymmetric on two axes.', 'The lesion is asymmetric on two axes.', 'The lesion is asymmetric on two axes.'), ('The lesion is asymmetric on one axis.', 'The lesion is symmetric.', 'The lesion is symmetric.', 'The lesion is .', 'The lesion is .', 'The lesion is symmetric.', 'The lesion is asymmetric on one axis.', 'The lesion is symmetric.', 'The lesion is asymmetric on two axes.', 'The lesion is asymmetric on one axis.', 'The lesion is asymmetric on two axes.', 'The lesion is asymmetric on two axes.', 'The lesion is asymmetric on two axes.', 'The lesion is asymmetric on two axes.', 'The lesion is symmetric.', 'The lesion is asymmetric on one axis.', 'The lesion is symmetric.', 'The lesion is asymmetric on two axes.', 'The lesion is asymmetric on two axes.', 'The lesion is asymmetric on two axes.'), ('The lesion is asymmetric on one axis.', 'The lesion is symmetric.', 'The lesion is symmetric.', 'The lesion is .', 'The lesion is .', 'The lesion is symmetric.', 'The lesion is asymmetric on one axis.', 'The lesion is symmetric.', 'The lesion is asymmetric on two axes.', 'The lesion is asymmetric on one axis.', 'The lesion is asymmetric on two axes.', 'The lesion is asymmetric on two axes.', 'The lesion is asymmetric on two axes.', 'The lesion is asymmetric on two axes.', 'The lesion is symmetric.', 'The lesion is asymmetric on one axis.', 'The lesion is symmetric.', 'The lesion is asymmetric on two axes.', 'The lesion is asymmetric on two axes.', 'The lesion is asymmetric on two axes.'), ('Yes, clear and dominant pigmented reticulum is observed.', 'Yes, clear and dominant pigmented reticulum is observed.', 'Yes, clear and dominant pigmented reticulum is observed.', 'Yes, clear and dominant pigmented reticulum is observed.', 'Yes, clear and dominant pigmented reticulum is observed.', 'Yes, clear and dominant pigmented reticulum is observed.', 'Yes, clear and dominant pigmented reticulum is observed.', 'Yes, clear and dominant pigmented reticulum is observed.', 'Yes, clear and dominant pigmented reticulum is observed.', 'Yes, subtle pigmented reticulum is observed.', 'Yes, clear and dominant pigmented reticulum is observed.', 'No pigmented reticulum is observed.', 'Yes, clear pigmented reticulum is observed.', 'No pigmented reticulum is observed.', 'No pigmented reticulum is observed.', 'Yes, clear and dominant pigmented reticulum is observed.', 'Yes, clear and dominant pigmented reticulum is observed.', 'No pigmented reticulum is observed.', 'Yes, subtle pigmented reticulum is observed.', 'Yes, clear and dominant pigmented reticulum is observed.'), ('Yes, clear and dominant pigmented reticulum is observed.', 'Yes, clear and dominant pigmented reticulum is observed.', 'Yes, clear and dominant pigmented reticulum is observed.', 'Yes, clear and dominant pigmented reticulum is observed.', 'Yes, clear and dominant pigmented reticulum is observed.', 'Yes, clear and dominant pigmented reticulum is observed.', 'Yes, clear and dominant pigmented reticulum is observed.', 'Yes, clear and dominant pigmented reticulum is observed.', 'Yes, clear and dominant pigmented reticulum is observed.', 'Yes, subtle pigmented reticulum is observed.', 'Yes, clear and dominant pigmented reticulum is observed.', 'No pigmented reticulum is observed.', 'Yes, clear pigmented reticulum is observed.', 'No pigmented reticulum is observed.', 'No pigmented reticulum is observed.', 'Yes, clear and dominant pigmented reticulum is observed.', 'Yes, clear and dominant pigmented reticulum is observed.', 'No pigmented reticulum is observed.', 'Yes, subtle pigmented reticulum is observed.', 'Yes, clear and dominant pigmented reticulum is observed.'), ('Yes, clear and dominant pigmented reticulum is observed.', 'Yes, clear and dominant pigmented reticulum is observed.', 'Yes, clear and dominant pigmented reticulum is observed.', 'Yes, clear and dominant pigmented reticulum is observed.', 'Yes, clear and dominant pigmented reticulum is observed.', 'Yes, clear and dominant pigmented reticulum is observed.', 'Yes, clear and dominant pigmented reticulum is observed.', 'Yes, clear and dominant pigmented reticulum is observed.', 'Yes, clear and dominant pigmented reticulum is observed.', 'Yes, subtle pigmented reticulum is observed.', 'Yes, clear and dominant pigmented reticulum is observed.', 'No pigmented reticulum is observed.', 'Yes, clear pigmented reticulum is observed.', 'No pigmented reticulum is observed.', 'No pigmented reticulum is observed.', 'Yes, clear and dominant pigmented reticulum is observed.', 'Yes, clear and dominant pigmented reticulum is observed.', 'No pigmented reticulum is observed.', 'Yes, subtle pigmented reticulum is observed.', 'Yes, clear and dominant pigmented reticulum is observed.'), ('Yes, clear and dominant pigmented reticulum is observed.', 'Yes, clear and dominant pigmented reticulum is observed.', 'Yes, clear and dominant pigmented reticulum is observed.', 'Yes, clear and dominant pigmented reticulum is observed.', 'Yes, clear and dominant pigmented reticulum is observed.', 'Yes, clear and dominant pigmented reticulum is observed.', 'Yes, clear and dominant pigmented reticulum is observed.', 'Yes, clear and dominant pigmented reticulum is observed.', 'Yes, clear and dominant pigmented reticulum is observed.', 'Yes, subtle pigmented reticulum is observed.', 'Yes, clear and dominant pigmented reticulum is observed.', 'No pigmented reticulum is observed.', 'Yes, clear pigmented reticulum is observed.', 'No pigmented reticulum is observed.', 'No pigmented reticulum is observed.', 'Yes, clear and dominant pigmented reticulum is observed.', 'Yes, clear and dominant pigmented reticulum is observed.', 'No pigmented reticulum is observed.', 'Yes, subtle pigmented reticulum is observed.', 'Yes, clear and dominant pigmented reticulum is observed.'), ('Yes, clear and dominant pigmented reticulum is observed.', 'Yes, clear and dominant pigmented reticulum is observed.', 'Yes, clear and dominant pigmented reticulum is observed.', 'Yes, clear and dominant pigmented reticulum is observed.', 'Yes, clear and dominant pigmented reticulum is observed.', 'Yes, clear and dominant pigmented reticulum is observed.', 'Yes, clear and dominant pigmented reticulum is observed.', 'Yes, clear and dominant pigmented reticulum is observed.', 'Yes, clear and dominant pigmented reticulum is observed.', 'Yes, subtle pigmented reticulum is observed.', 'Yes, clear and dominant pigmented reticulum is observed.', 'No pigmented reticulum is observed.', 'Yes, clear pigmented reticulum is observed.', 'No pigmented reticulum is observed.', 'No pigmented reticulum is observed.', 'Yes, clear and dominant pigmented reticulum is observed.', 'Yes, clear and dominant pigmented reticulum is observed.', 'No pigmented reticulum is observed.', 'Yes, subtle pigmented reticulum is observed.', 'Yes, clear and dominant pigmented reticulum is observed.'), ('No negative reticulum is observed.', 'No negative reticulum is observed.', 'No negative reticulum is observed.', 'No negative reticulum is observed.', 'No negative reticulum is observed.', 'No negative reticulum is observed.', 'No negative reticulum is observed.', 'Yes, subtle negative reticulum is observed.', 'No negative reticulum is observed.', 'No negative reticulum is observed.', 'No negative reticulum is observed.', 'Yes, subtle negative reticulum is observed.', 'No negative reticulum is observed.', 'No negative reticulum is observed.', 'No negative reticulum is observed.', 'No negative reticulum is observed.', 'No negative reticulum is observed.', 'No negative reticulum is observed.', 'No negative reticulum is observed.', 'No negative reticulum is observed.'), ('No negative reticulum is observed.', 'No negative reticulum is observed.', 'No negative reticulum is observed.', 'No negative reticulum is observed.', 'No negative reticulum is observed.', 'No negative reticulum is observed.', 'No negative reticulum is observed.', 'Yes, subtle negative reticulum is observed.', 'No negative reticulum is observed.', 'No negative reticulum is observed.', 'No negative reticulum is observed.', 'Yes, subtle negative reticulum is observed.', 'No negative reticulum is observed.', 'No negative reticulum is observed.', 'No negative reticulum is observed.', 'No negative reticulum is observed.', 'No negative reticulum is observed.', 'No negative reticulum is observed.', 'No negative reticulum is observed.', 'No negative reticulum is observed.'), ('No negative reticulum is observed.', 'No negative reticulum is observed.', 'No negative reticulum is observed.', 'No negative reticulum is observed.', 'No negative reticulum is observed.', 'No negative reticulum is observed.', 'No negative reticulum is observed.', 'Yes, subtle negative reticulum is observed.', 'No negative reticulum is observed.', 'No negative reticulum is observed.', 'No negative reticulum is observed.', 'Yes, subtle negative reticulum is observed.', 'No negative reticulum is observed.', 'No negative reticulum is observed.', 'No negative reticulum is observed.', 'No negative reticulum is observed.', 'No negative reticulum is observed.', 'No negative reticulum is observed.', 'No negative reticulum is observed.', 'No negative reticulum is observed.'), ('No negative reticulum is observed.', 'No negative reticulum is observed.', 'No negative reticulum is observed.', 'No negative reticulum is observed.', 'No negative reticulum is observed.', 'No negative reticulum is observed.', 'No negative reticulum is observed.', 'Yes, subtle negative reticulum is observed.', 'No negative reticulum is observed.', 'No negative reticulum is observed.', 'No negative reticulum is observed.', 'Yes, subtle negative reticulum is observed.', 'No negative reticulum is observed.', 'No negative reticulum is observed.', 'No negative reticulum is observed.', 'No negative reticulum is observed.', 'No negative reticulum is observed.', 'No negative reticulum is observed.', 'No negative reticulum is observed.', 'No negative reticulum is observed.'), ('No negative reticulum is observed.', 'No negative reticulum is observed.', 'No negative reticulum is observed.', 'No negative reticulum is observed.', 'No negative reticulum is observed.', 'No negative reticulum is observed.', 'No negative reticulum is observed.', 'Yes, subtle negative reticulum is observed.', 'No negative reticulum is observed.', 'No negative reticulum is observed.', 'No negative reticulum is observed.', 'Yes, subtle negative reticulum is observed.', 'No negative reticulum is observed.', 'No negative reticulum is observed.', 'No negative reticulum is observed.', 'No negative reticulum is observed.', 'No negative reticulum is observed.', 'No negative reticulum is observed.', 'No negative reticulum is observed.', 'No negative reticulum is observed.'), ('No small dots/globules are present.', 'Yes, subtle small dots/globules are present.', 'Yes, subtle small dots/globules are present.', 'No small dots/globules are present.', 'No small dots/globules are present.', 'No small dots/globules are present.', 'No small dots/globules are present.', 'No small dots/globules are present.', 'Yes, subtle small dots/globules are present.', 'No small dots/globules are present.', 'Yes, subtle small dots/globules are present.', 'Yes, subtle small dots/globules are present.', 'Yes, subtle small dots/globules are present.', 'Yes, subtle small dots/globules are present.', 'Yes, subtle small dots/globules are present.', 'Yes, clear small dots/globules are present.', 'No small dots/globules are present.', 'Yes, subtle small dots/globules are present.', 'No small dots/globules are present.', 'No small dots/globules are present.'), ('No small dots/globules are present.', 'Yes, subtle small dots/globules are present.', 'Yes, subtle small dots/globules are present.', 'No small dots/globules are present.', 'No small dots/globules are present.', 'No small dots/globules are present.', 'No small dots/globules are present.', 'No small dots/globules are present.', 'Yes, subtle small dots/globules are present.', 'No small dots/globules are present.', 'Yes, subtle small dots/globules are present.', 'Yes, subtle small dots/globules are present.', 'Yes, subtle small dots/globules are present.', 'Yes, subtle small dots/globules are present.', 'Yes, subtle small dots/globules are present.', 'Yes, clear small dots/globules are present.', 'No small dots/globules are present.', 'Yes, subtle small dots/globules are present.', 'No small dots/globules are present.', 'No small dots/globules are present.'), ('No small dots/globules are present.', 'Yes, subtle small dots/globules are present.', 'Yes, subtle small dots/globules are present.', 'No small dots/globules are present.', 'No small dots/globules are present.', 'No small dots/globules are present.', 'No small dots/globules are present.', 'No small dots/globules are present.', 'Yes, subtle small dots/globules are present.', 'No small dots/globules are present.', 'Yes, subtle small dots/globules are present.', 'Yes, subtle small dots/globules are present.', 'Yes, subtle small dots/globules are present.', 'Yes, subtle small dots/globules are present.', 'Yes, subtle small dots/globules are present.', 'Yes, clear small dots/globules are present.', 'No small dots/globules are present.', 'Yes, subtle small dots/globules are present.', 'No small dots/globules are present.', 'No small dots/globules are present.'), ('No small dots/globules are present.', 'Yes, subtle small dots/globules are present.', 'Yes, subtle small dots/globules are present.', 'No small dots/globules are present.', 'No small dots/globules are present.', 'No small dots/globules are present.', 'No small dots/globules are present.', 'No small dots/globules are present.', 'Yes, subtle small dots/globules are present.', 'No small dots/globules are present.', 'Yes, subtle small dots/globules are present.', 'Yes, subtle small dots/globules are present.', 'Yes, subtle small dots/globules are present.', 'Yes, subtle small dots/globules are present.', 'Yes, subtle small dots/globules are present.', 'Yes, clear small dots/globules are present.', 'No small dots/globules are present.', 'Yes, subtle small dots/globules are present.', 'No small dots/globules are present.', 'No small dots/globules are present.'), ('No small dots/globules are present.', 'Yes, subtle small dots/globules are present.', 'Yes, subtle small dots/globules are present.', 'No small dots/globules are present.', 'No small dots/globules are present.', 'No small dots/globules are present.', 'No small dots/globules are present.', 'No small dots/globules are present.', 'Yes, subtle small dots/globules are present.', 'No small dots/globules are present.', 'Yes, subtle small dots/globules are present.', 'Yes, subtle small dots/globules are present.', 'Yes, subtle small dots/globules are present.', 'Yes, subtle small dots/globules are present.', 'Yes, subtle small dots/globules are present.', 'Yes, clear small dots/globules are present.', 'No small dots/globules are present.', 'Yes, subtle small dots/globules are present.', 'No small dots/globules are present.', 'No small dots/globules are present.'), ('No large globules/cobblestone are observed.', 'No large globules/cobblestone are observed.', 'No large globules/cobblestone are observed.', 'No large globules/cobblestone are observed.', 'No large globules/cobblestone are observed.', 'No large globules/cobblestone are observed.', 'No large globules/cobblestone are observed.', 'No large globules/cobblestone are observed.', 'No large globules/cobblestone are observed.', 'No large globules/cobblestone are observed.', 'No large globules/cobblestone are observed.', 'Yes, clear and dominant large globules/cobblestone are observed.', 'No large globules/cobblestone are observed.', 'No large globules/cobblestone are observed.', 'No large globules/cobblestone are observed.', 'No large globules/cobblestone are observed.', 'No large globules/cobblestone are observed.', 'No large globules/cobblestone are observed.', 'No large globules/cobblestone are observed.', 'No large globules/cobblestone are observed.'), ('No large globules/cobblestone are observed.', 'No large globules/cobblestone are observed.', 'No large globules/cobblestone are observed.', 'No large globules/cobblestone are observed.', 'No large globules/cobblestone are observed.', 'No large globules/cobblestone are observed.', 'No large globules/cobblestone are observed.', 'No large globules/cobblestone are observed.', 'No large globules/cobblestone are observed.', 'No large globules/cobblestone are observed.', 'No large globules/cobblestone are observed.', 'Yes, clear and dominant large globules/cobblestone are observed.', 'No large globules/cobblestone are observed.', 'No large globules/cobblestone are observed.', 'No large globules/cobblestone are observed.', 'No large globules/cobblestone are observed.', 'No large globules/cobblestone are observed.', 'No large globules/cobblestone are observed.', 'No large globules/cobblestone are observed.', 'No large globules/cobblestone are observed.'), ('No large globules/cobblestone are observed.', 'No large globules/cobblestone are observed.', 'No large globules/cobblestone are observed.', 'No large globules/cobblestone are observed.', 'No large globules/cobblestone are observed.', 'No large globules/cobblestone are observed.', 'No large globules/cobblestone are observed.', 'No large globules/cobblestone are observed.', 'No large globules/cobblestone are observed.', 'No large globules/cobblestone are observed.', 'No large globules/cobblestone are observed.', 'Yes, clear and dominant large globules/cobblestone are observed.', 'No large globules/cobblestone are observed.', 'No large globules/cobblestone are observed.', 'No large globules/cobblestone are observed.', 'No large globules/cobblestone are observed.', 'No large globules/cobblestone are observed.', 'No large globules/cobblestone are observed.', 'No large globules/cobblestone are observed.', 'No large globules/cobblestone are observed.'), ('No large globules/cobblestone are observed.', 'No large globules/cobblestone are observed.', 'No large globules/cobblestone are observed.', 'No large globules/cobblestone are observed.', 'No large globules/cobblestone are observed.', 'No large globules/cobblestone are observed.', 'No large globules/cobblestone are observed.', 'No large globules/cobblestone are observed.', 'No large globules/cobblestone are observed.', 'No large globules/cobblestone are observed.', 'No large globules/cobblestone are observed.', 'Yes, clear and dominant large globules/cobblestone are observed.', 'No large globules/cobblestone are observed.', 'No large globules/cobblestone are observed.', 'No large globules/cobblestone are observed.', 'No large globules/cobblestone are observed.', 'No large globules/cobblestone are observed.', 'No large globules/cobblestone are observed.', 'No large globules/cobblestone are observed.', 'No large globules/cobblestone are observed.'), ('No large globules/cobblestone are observed.', 'No large globules/cobblestone are observed.', 'No large globules/cobblestone are observed.', 'No large globules/cobblestone are observed.', 'No large globules/cobblestone are observed.', 'No large globules/cobblestone are observed.', 'No large globules/cobblestone are observed.', 'No large globules/cobblestone are observed.', 'No large globules/cobblestone are observed.', 'No large globules/cobblestone are observed.', 'No large globules/cobblestone are observed.', 'Yes, clear and dominant large globules/cobblestone are observed.', 'No large globules/cobblestone are observed.', 'No large globules/cobblestone are observed.', 'No large globules/cobblestone are observed.', 'No large globules/cobblestone are observed.', 'No large globules/cobblestone are observed.', 'No large globules/cobblestone are observed.', 'No large globules/cobblestone are observed.', 'No large globules/cobblestone are observed.'), ('No peripheral globules are observed.', 'Yes, subtle peripheral globules are observed.', 'Yes, clear peripheral globules are observed.', 'No peripheral globules are observed.', 'No peripheral globules are observed.', 'No peripheral globules are observed.', 'No peripheral globules are observed.', 'No peripheral globules are observed.', 'No peripheral globules are observed.', 'No peripheral globules are observed.', 'No peripheral globules are observed.', 'Yes, clear peripheral globules are observed.', 'Yes, clear peripheral globules are observed.', 'Yes, clear peripheral globules are observed.', 'Yes, clear peripheral globules are observed.', 'No peripheral globules are observed.', 'No peripheral globules are observed.', 'Yes, clear peripheral globules are observed.', 'No peripheral globules are observed.', 'No peripheral globules are observed.'), ('No peripheral globules are observed.', 'Yes, subtle peripheral globules are observed.', 'Yes, clear peripheral globules are observed.', 'No peripheral globules are observed.', 'No peripheral globules are observed.', 'No peripheral globules are observed.', 'No peripheral globules are observed.', 'No peripheral globules are observed.', 'No peripheral globules are observed.', 'No peripheral globules are observed.', 'No peripheral globules are observed.', 'Yes, clear peripheral globules are observed.', 'Yes, clear peripheral globules are observed.', 'Yes, clear peripheral globules are observed.', 'Yes, clear peripheral globules are observed.', 'No peripheral globules are observed.', 'No peripheral globules are observed.', 'Yes, clear peripheral globules are observed.', 'No peripheral globules are observed.', 'No peripheral globules are observed.'), ('No peripheral globules are observed.', 'Yes, subtle peripheral globules are observed.', 'Yes, clear peripheral globules are observed.', 'No peripheral globules are observed.', 'No peripheral globules are observed.', 'No peripheral globules are observed.', 'No peripheral globules are observed.', 'No peripheral globules are observed.', 'No peripheral globules are observed.', 'No peripheral globules are observed.', 'No peripheral globules are observed.', 'Yes, clear peripheral globules are observed.', 'Yes, clear peripheral globules are observed.', 'Yes, clear peripheral globules are observed.', 'Yes, clear peripheral globules are observed.', 'No peripheral globules are observed.', 'No peripheral globules are observed.', 'Yes, clear peripheral globules are observed.', 'No peripheral globules are observed.', 'No peripheral globules are observed.'), ('No peripheral globules are observed.', 'Yes, subtle peripheral globules are observed.', 'Yes, clear peripheral globules are observed.', 'No peripheral globules are observed.', 'No peripheral globules are observed.', 'No peripheral globules are observed.', 'No peripheral globules are observed.', 'No peripheral globules are observed.', 'No peripheral globules are observed.', 'No peripheral globules are observed.', 'No peripheral globules are observed.', 'Yes, clear peripheral globules are observed.', 'Yes, clear peripheral globules are observed.', 'Yes, clear peripheral globules are observed.', 'Yes, clear peripheral globules are observed.', 'No peripheral globules are observed.', 'No peripheral globules are observed.', 'Yes, clear peripheral globules are observed.', 'No peripheral globules are observed.', 'No peripheral globules are observed.'), ('No peripheral globules are observed.', 'Yes, subtle peripheral globules are observed.', 'Yes, clear peripheral globules are observed.', 'No peripheral globules are observed.', 'No peripheral globules are observed.', 'No peripheral globules are observed.', 'No peripheral globules are observed.', 'No peripheral globules are observed.', 'No peripheral globules are observed.', 'No peripheral globules are observed.', 'No peripheral globules are observed.', 'Yes, clear peripheral globules are observed.', 'Yes, clear peripheral globules are observed.', 'Yes, clear peripheral globules are observed.', 'Yes, clear peripheral globules are observed.', 'No peripheral globules are observed.', 'No peripheral globules are observed.', 'Yes, clear peripheral globules are observed.', 'No peripheral globules are observed.', 'No peripheral globules are observed.'), ('No peripheral projections are present.', 'No peripheral projections are present.', 'Yes, subtle peripheral projections are present.', 'No peripheral projections are present.', 'No peripheral projections are present.', 'No peripheral projections are present.', 'No peripheral projections are present.', 'No peripheral projections are present.', 'No peripheral projections are present.', 'No peripheral projections are present.', 'No peripheral projections are present.', 'No peripheral projections are present.', 'No peripheral projections are present.', 'No peripheral projections are present.', 'No peripheral projections are present.', 'No peripheral projections are present.', 'No peripheral projections are present.', 'Yes, clear peripheral projections are present.', 'Yes, clear peripheral projections are present.', 'No peripheral projections are present.'), ('No peripheral projections are present.', 'No peripheral projections are present.', 'Yes, subtle peripheral projections are present.', 'No peripheral projections are present.', 'No peripheral projections are present.', 'No peripheral projections are present.', 'No peripheral projections are present.', 'No peripheral projections are present.', 'No peripheral projections are present.', 'No peripheral projections are present.', 'No peripheral projections are present.', 'No peripheral projections are present.', 'No peripheral projections are present.', 'No peripheral projections are present.', 'No peripheral projections are present.', 'No peripheral projections are present.', 'No peripheral projections are present.', 'Yes, clear peripheral projections are present.', 'Yes, clear peripheral projections are present.', 'No peripheral projections are present.'), ('No peripheral projections are present.', 'No peripheral projections are present.', 'Yes, subtle peripheral projections are present.', 'No peripheral projections are present.', 'No peripheral projections are present.', 'No peripheral projections are present.', 'No peripheral projections are present.', 'No peripheral projections are present.', 'No peripheral projections are present.', 'No peripheral projections are present.', 'No peripheral projections are present.', 'No peripheral projections are present.', 'No peripheral projections are present.', 'No peripheral projections are present.', 'No peripheral projections are present.', 'No peripheral projections are present.', 'No peripheral projections are present.', 'Yes, clear peripheral projections are present.', 'Yes, clear peripheral projections are present.', 'No peripheral projections are present.'), ('No peripheral projections are present.', 'No peripheral projections are present.', 'Yes, subtle peripheral projections are present.', 'No peripheral projections are present.', 'No peripheral projections are present.', 'No peripheral projections are present.', 'No peripheral projections are present.', 'No peripheral projections are present.', 'No peripheral projections are present.', 'No peripheral projections are present.', 'No peripheral projections are present.', 'No peripheral projections are present.', 'No peripheral projections are present.', 'No peripheral projections are present.', 'No peripheral projections are present.', 'No peripheral projections are present.', 'No peripheral projections are present.', 'Yes, clear peripheral projections are present.', 'Yes, clear peripheral projections are present.', 'No peripheral projections are present.'), ('No peripheral projections are present.', 'No peripheral projections are present.', 'Yes, subtle peripheral projections are present.', 'No peripheral projections are present.', 'No peripheral projections are present.', 'No peripheral projections are present.', 'No peripheral projections are present.', 'No peripheral projections are present.', 'No peripheral projections are present.', 'No peripheral projections are present.', 'No peripheral projections are present.', 'No peripheral projections are present.', 'No peripheral projections are present.', 'No peripheral projections are present.', 'No peripheral projections are present.', 'No peripheral projections are present.', 'No peripheral projections are present.', 'Yes, clear peripheral projections are present.', 'Yes, clear peripheral projections are present.', 'No peripheral projections are present.'), ('No homogeneous area without vessels is observed.', 'Yes, subtle homogeneous area without vessels is observed.', 'No homogeneous area without vessels is observed.', 'No homogeneous area without vessels is observed.', 'Yes, subtle homogeneous area without vessels is observed.', 'No homogeneous area without vessels is observed.', 'Yes, subtle homogeneous area without vessels is observed.', 'No homogeneous area without vessels is observed.', 'Yes, clear homogeneous area without vessels is observed.', 'Yes, subtle homogeneous area without vessels is observed.', 'Yes, clear homogeneous area without vessels is observed.', 'No homogeneous area without vessels is observed.', 'Yes, subtle homogeneous area without vessels is observed.', 'Yes, subtle homogeneous area without vessels is observed.', 'Yes, clear and dominant homogeneous area without vessels is observed.', 'No homogeneous area without vessels is observed.', 'No homogeneous area without vessels is observed.', 'No homogeneous area without vessels is observed.', 'Yes, clear homogeneous area without vessels is observed.', 'Yes, clear homogeneous area without vessels is observed.'), ('No homogeneous area without vessels is observed.', 'Yes, subtle homogeneous area without vessels is observed.', 'No homogeneous area without vessels is observed.', 'No homogeneous area without vessels is observed.', 'Yes, subtle homogeneous area without vessels is observed.', 'No homogeneous area without vessels is observed.', 'Yes, subtle homogeneous area without vessels is observed.', 'No homogeneous area without vessels is observed.', 'Yes, clear homogeneous area without vessels is observed.', 'Yes, subtle homogeneous area without vessels is observed.', 'Yes, clear homogeneous area without vessels is observed.', 'No homogeneous area without vessels is observed.', 'Yes, subtle homogeneous area without vessels is observed.', 'Yes, subtle homogeneous area without vessels is observed.', 'Yes, clear and dominant homogeneous area without vessels is observed.', 'No homogeneous area without vessels is observed.', 'No homogeneous area without vessels is observed.', 'No homogeneous area without vessels is observed.', 'Yes, clear homogeneous area without vessels is observed.', 'Yes, clear homogeneous area without vessels is observed.'), ('No homogeneous area without vessels is observed.', 'Yes, subtle homogeneous area without vessels is observed.', 'No homogeneous area without vessels is observed.', 'No homogeneous area without vessels is observed.', 'Yes, subtle homogeneous area without vessels is observed.', 'No homogeneous area without vessels is observed.', 'Yes, subtle homogeneous area without vessels is observed.', 'No homogeneous area without vessels is observed.', 'Yes, clear homogeneous area without vessels is observed.', 'Yes, subtle homogeneous area without vessels is observed.', 'Yes, clear homogeneous area without vessels is observed.', 'No homogeneous area without vessels is observed.', 'Yes, subtle homogeneous area without vessels is observed.', 'Yes, subtle homogeneous area without vessels is observed.', 'Yes, clear and dominant homogeneous area without vessels is observed.', 'No homogeneous area without vessels is observed.', 'No homogeneous area without vessels is observed.', 'No homogeneous area without vessels is observed.', 'Yes, clear homogeneous area without vessels is observed.', 'Yes, clear homogeneous area without vessels is observed.'), ('No homogeneous area without vessels is observed.', 'Yes, subtle homogeneous area without vessels is observed.', 'No homogeneous area without vessels is observed.', 'No homogeneous area without vessels is observed.', 'Yes, subtle homogeneous area without vessels is observed.', 'No homogeneous area without vessels is observed.', 'Yes, subtle homogeneous area without vessels is observed.', 'No homogeneous area without vessels is observed.', 'Yes, clear homogeneous area without vessels is observed.', 'Yes, subtle homogeneous area without vessels is observed.', 'Yes, clear homogeneous area without vessels is observed.', 'No homogeneous area without vessels is observed.', 'Yes, subtle homogeneous area without vessels is observed.', 'Yes, subtle homogeneous area without vessels is observed.', 'Yes, clear and dominant homogeneous area without vessels is observed.', 'No homogeneous area without vessels is observed.', 'No homogeneous area without vessels is observed.', 'No homogeneous area without vessels is observed.', 'Yes, clear homogeneous area without vessels is observed.', 'Yes, clear homogeneous area without vessels is observed.'), ('No homogeneous area without vessels is observed.', 'Yes, subtle homogeneous area without vessels is observed.', 'No homogeneous area without vessels is observed.', 'No homogeneous area without vessels is observed.', 'Yes, subtle homogeneous area without vessels is observed.', 'No homogeneous area without vessels is observed.', 'Yes, subtle homogeneous area without vessels is observed.', 'No homogeneous area without vessels is observed.', 'Yes, clear homogeneous area without vessels is observed.', 'Yes, subtle homogeneous area without vessels is observed.', 'Yes, clear homogeneous area without vessels is observed.', 'No homogeneous area without vessels is observed.', 'Yes, subtle homogeneous area without vessels is observed.', 'Yes, subtle homogeneous area without vessels is observed.', 'Yes, clear and dominant homogeneous area without vessels is observed.', 'No homogeneous area without vessels is observed.', 'No homogeneous area without vessels is observed.', 'No homogeneous area without vessels is observed.', 'Yes, clear homogeneous area without vessels is observed.', 'Yes, clear homogeneous area without vessels is observed.'), ('No homogeneous area with vessels is observed.', 'No homogeneous area with vessels is observed.', 'No homogeneous area with vessels is observed.', 'No homogeneous area with vessels is observed.', 'No homogeneous area with vessels is observed.', 'No homogeneous area with vessels is observed.', 'No homogeneous area with vessels is observed.', 'No homogeneous area with vessels is observed.', 'No homogeneous area with vessels is observed.', 'No homogeneous area with vessels is observed.', 'No homogeneous area with vessels is observed.', 'No homogeneous area with vessels is observed.', 'No homogeneous area with vessels is observed.', 'No homogeneous area with vessels is observed.', 'No homogeneous area with vessels is observed.', 'No homogeneous area with vessels is observed.', 'No homogeneous area with vessels is observed.', 'Yes, subtle homogeneous area with vessels is observed.', 'No homogeneous area with vessels is observed.', 'No homogeneous area with vessels is observed.'), ('No homogeneous area with vessels is observed.', 'No homogeneous area with vessels is observed.', 'No homogeneous area with vessels is observed.', 'No homogeneous area with vessels is observed.', 'No homogeneous area with vessels is observed.', 'No homogeneous area with vessels is observed.', 'No homogeneous area with vessels is observed.', 'No homogeneous area with vessels is observed.', 'No homogeneous area with vessels is observed.', 'No homogeneous area with vessels is observed.', 'No homogeneous area with vessels is observed.', 'No homogeneous area with vessels is observed.', 'No homogeneous area with vessels is observed.', 'No homogeneous area with vessels is observed.', 'No homogeneous area with vessels is observed.', 'No homogeneous area with vessels is observed.', 'No homogeneous area with vessels is observed.', 'Yes, subtle homogeneous area with vessels is observed.', 'No homogeneous area with vessels is observed.', 'No homogeneous area with vessels is observed.'), ('No homogeneous area with vessels is observed.', 'No homogeneous area with vessels is observed.', 'No homogeneous area with vessels is observed.', 'No homogeneous area with vessels is observed.', 'No homogeneous area with vessels is observed.', 'No homogeneous area with vessels is observed.', 'No homogeneous area with vessels is observed.', 'No homogeneous area with vessels is observed.', 'No homogeneous area with vessels is observed.', 'No homogeneous area with vessels is observed.', 'No homogeneous area with vessels is observed.', 'No homogeneous area with vessels is observed.', 'No homogeneous area with vessels is observed.', 'No homogeneous area with vessels is observed.', 'No homogeneous area with vessels is observed.', 'No homogeneous area with vessels is observed.', 'No homogeneous area with vessels is observed.', 'Yes, subtle homogeneous area with vessels is observed.', 'No homogeneous area with vessels is observed.', 'No homogeneous area with vessels is observed.'), ('No homogeneous area with vessels is observed.', 'No homogeneous area with vessels is observed.', 'No homogeneous area with vessels is observed.', 'No homogeneous area with vessels is observed.', 'No homogeneous area with vessels is observed.', 'No homogeneous area with vessels is observed.', 'No homogeneous area with vessels is observed.', 'No homogeneous area with vessels is observed.', 'No homogeneous area with vessels is observed.', 'No homogeneous area with vessels is observed.', 'No homogeneous area with vessels is observed.', 'No homogeneous area with vessels is observed.', 'No homogeneous area with vessels is observed.', 'No homogeneous area with vessels is observed.', 'No homogeneous area with vessels is observed.', 'No homogeneous area with vessels is observed.', 'No homogeneous area with vessels is observed.', 'Yes, subtle homogeneous area with vessels is observed.', 'No homogeneous area with vessels is observed.', 'No homogeneous area with vessels is observed.'), ('No homogeneous area with vessels is observed.', 'No homogeneous area with vessels is observed.', 'No homogeneous area with vessels is observed.', 'No homogeneous area with vessels is observed.', 'No homogeneous area with vessels is observed.', 'No homogeneous area with vessels is observed.', 'No homogeneous area with vessels is observed.', 'No homogeneous area with vessels is observed.', 'No homogeneous area with vessels is observed.', 'No homogeneous area with vessels is observed.', 'No homogeneous area with vessels is observed.', 'No homogeneous area with vessels is observed.', 'No homogeneous area with vessels is observed.', 'No homogeneous area with vessels is observed.', 'No homogeneous area with vessels is observed.', 'No homogeneous area with vessels is observed.', 'No homogeneous area with vessels is observed.', 'Yes, subtle homogeneous area with vessels is observed.', 'No homogeneous area with vessels is observed.', 'No homogeneous area with vessels is observed.'), ('Yes, subtle undefined area is observed.', 'No undefined area is observed.', 'No undefined area is observed.', 'No undefined area is observed.', 'Yes, clear undefined area is observed.', 'No undefined area is observed.', 'No undefined area is observed.', 'Yes, clear undefined area is observed.', 'No undefined area is observed.', 'Yes, clear and dominant undefined area is observed.', 'Yes, subtle undefined area is observed.', 'Yes, subtle undefined area is observed.', 'Yes, clear and dominant undefined area is observed.', 'Yes, clear and dominant undefined area is observed.', 'No undefined area is observed.', 'Yes, clear undefined area is observed.', 'No undefined area is observed.', 'Yes, clear and dominant undefined area is observed.', 'Yes, clear and dominant undefined area is observed.', 'Yes, subtle undefined area is observed.'), ('Yes, subtle undefined area is observed.', 'No undefined area is observed.', 'No undefined area is observed.', 'No undefined area is observed.', 'Yes, clear undefined area is observed.', 'No undefined area is observed.', 'No undefined area is observed.', 'Yes, clear undefined area is observed.', 'No undefined area is observed.', 'Yes, clear and dominant undefined area is observed.', 'Yes, subtle undefined area is observed.', 'Yes, subtle undefined area is observed.', 'Yes, clear and dominant undefined area is observed.', 'Yes, clear and dominant undefined area is observed.', 'No undefined area is observed.', 'Yes, clear undefined area is observed.', 'No undefined area is observed.', 'Yes, clear and dominant undefined area is observed.', 'Yes, clear and dominant undefined area is observed.', 'Yes, subtle undefined area is observed.'), ('Yes, subtle undefined area is observed.', 'No undefined area is observed.', 'No undefined area is observed.', 'No undefined area is observed.', 'Yes, clear undefined area is observed.', 'No undefined area is observed.', 'No undefined area is observed.', 'Yes, clear undefined area is observed.', 'No undefined area is observed.', 'Yes, clear and dominant undefined area is observed.', 'Yes, subtle undefined area is observed.', 'Yes, subtle undefined area is observed.', 'Yes, clear and dominant undefined area is observed.', 'Yes, clear and dominant undefined area is observed.', 'No undefined area is observed.', 'Yes, clear undefined area is observed.', 'No undefined area is observed.', 'Yes, clear and dominant undefined area is observed.', 'Yes, clear and dominant undefined area is observed.', 'Yes, subtle undefined area is observed.'), ('Yes, subtle undefined area is observed.', 'No undefined area is observed.', 'No undefined area is observed.', 'No undefined area is observed.', 'Yes, clear undefined area is observed.', 'No undefined area is observed.', 'No undefined area is observed.', 'Yes, clear undefined area is observed.', 'No undefined area is observed.', 'Yes, clear and dominant undefined area is observed.', 'Yes, subtle undefined area is observed.', 'Yes, subtle undefined area is observed.', 'Yes, clear and dominant undefined area is observed.', 'Yes, clear and dominant undefined area is observed.', 'No undefined area is observed.', 'Yes, clear undefined area is observed.', 'No undefined area is observed.', 'Yes, clear and dominant undefined area is observed.', 'Yes, clear and dominant undefined area is observed.', 'Yes, subtle undefined area is observed.'), ('Yes, subtle undefined area is observed.', 'No undefined area is observed.', 'No undefined area is observed.', 'No undefined area is observed.', 'Yes, clear undefined area is observed.', 'No undefined area is observed.', 'No undefined area is observed.', 'Yes, clear undefined area is observed.', 'No undefined area is observed.', 'Yes, clear and dominant undefined area is observed.', 'Yes, subtle undefined area is observed.', 'Yes, subtle undefined area is observed.', 'Yes, clear and dominant undefined area is observed.', 'Yes, clear and dominant undefined area is observed.', 'No undefined area is observed.', 'Yes, clear undefined area is observed.', 'No undefined area is observed.', 'Yes, clear and dominant undefined area is observed.', 'Yes, clear and dominant undefined area is observed.', 'Yes, subtle undefined area is observed.'), ('No gray regression is observed.', 'No gray regression is observed.', 'No gray regression is observed.', 'No gray regression is observed.', 'No gray regression is observed.', 'No gray regression is observed.', 'No gray regression is observed.', 'No gray regression is observed.', 'No gray regression is observed.', 'Yes, clear gray regression is observed.', 'No gray regression is observed.', 'Yes, subtle gray regression is observed.', 'Yes, subtle gray regression is observed.', 'Yes, subtle gray regression is observed.', 'No gray regression is observed.', 'Yes, subtle gray regression is observed.', 'No gray regression is observed.', 'No gray regression is observed.', 'No gray regression is observed.', 'No gray regression is observed.'), ('No gray regression is observed.', 'No gray regression is observed.', 'No gray regression is observed.', 'No gray regression is observed.', 'No gray regression is observed.', 'No gray regression is observed.', 'No gray regression is observed.', 'No gray regression is observed.', 'No gray regression is observed.', 'Yes, clear gray regression is observed.', 'No gray regression is observed.', 'Yes, subtle gray regression is observed.', 'Yes, subtle gray regression is observed.', 'Yes, subtle gray regression is observed.', 'No gray regression is observed.', 'Yes, subtle gray regression is observed.', 'No gray regression is observed.', 'No gray regression is observed.', 'No gray regression is observed.', 'No gray regression is observed.'), ('No gray regression is observed.', 'No gray regression is observed.', 'No gray regression is observed.', 'No gray regression is observed.', 'No gray regression is observed.', 'No gray regression is observed.', 'No gray regression is observed.', 'No gray regression is observed.', 'No gray regression is observed.', 'Yes, clear gray regression is observed.', 'No gray regression is observed.', 'Yes, subtle gray regression is observed.', 'Yes, subtle gray regression is observed.', 'Yes, subtle gray regression is observed.', 'No gray regression is observed.', 'Yes, subtle gray regression is observed.', 'No gray regression is observed.', 'No gray regression is observed.', 'No gray regression is observed.', 'No gray regression is observed.'), ('No gray regression is observed.', 'No gray regression is observed.', 'No gray regression is observed.', 'No gray regression is observed.', 'No gray regression is observed.', 'No gray regression is observed.', 'No gray regression is observed.', 'No gray regression is observed.', 'No gray regression is observed.', 'Yes, clear gray regression is observed.', 'No gray regression is observed.', 'Yes, subtle gray regression is observed.', 'Yes, subtle gray regression is observed.', 'Yes, subtle gray regression is observed.', 'No gray regression is observed.', 'Yes, subtle gray regression is observed.', 'No gray regression is observed.', 'No gray regression is observed.', 'No gray regression is observed.', 'No gray regression is observed.'), ('No gray regression is observed.', 'No gray regression is observed.', 'No gray regression is observed.', 'No gray regression is observed.', 'No gray regression is observed.', 'No gray regression is observed.', 'No gray regression is observed.', 'No gray regression is observed.', 'No gray regression is observed.', 'Yes, clear gray regression is observed.', 'No gray regression is observed.', 'Yes, subtle gray regression is observed.', 'Yes, subtle gray regression is observed.', 'Yes, subtle gray regression is observed.', 'No gray regression is observed.', 'Yes, subtle gray regression is observed.', 'No gray regression is observed.', 'No gray regression is observed.', 'No gray regression is observed.', 'No gray regression is observed.'), ('No white regression is observed.', 'No white regression is observed.', 'No white regression is observed.', 'No white regression is observed.', 'No white regression is observed.', 'No white regression is observed.', 'No white regression is observed.', 'No white regression is observed.', 'No white regression is observed.', 'No white regression is observed.', 'No white regression is observed.', 'No white regression is observed.', 'No white regression is observed.', 'No white regression is observed.', 'No white regression is observed.', 'No white regression is observed.', 'No white regression is observed.', 'No white regression is observed.', 'No white regression is observed.', 'No white regression is observed.'), ('No white regression is observed.', 'No white regression is observed.', 'No white regression is observed.', 'No white regression is observed.', 'No white regression is observed.', 'No white regression is observed.', 'No white regression is observed.', 'No white regression is observed.', 'No white regression is observed.', 'No white regression is observed.', 'No white regression is observed.', 'No white regression is observed.', 'No white regression is observed.', 'No white regression is observed.', 'No white regression is observed.', 'No white regression is observed.', 'No white regression is observed.', 'No white regression is observed.', 'No white regression is observed.', 'No white regression is observed.'), ('No white regression is observed.', 'No white regression is observed.', 'No white regression is observed.', 'No white regression is observed.', 'No white regression is observed.', 'No white regression is observed.', 'No white regression is observed.', 'No white regression is observed.', 'No white regression is observed.', 'No white regression is observed.', 'No white regression is observed.', 'No white regression is observed.', 'No white regression is observed.', 'No white regression is observed.', 'No white regression is observed.', 'No white regression is observed.', 'No white regression is observed.', 'No white regression is observed.', 'No white regression is observed.', 'No white regression is observed.'), ('No white regression is observed.', 'No white regression is observed.', 'No white regression is observed.', 'No white regression is observed.', 'No white regression is observed.', 'No white regression is observed.', 'No white regression is observed.', 'No white regression is observed.', 'No white regression is observed.', 'No white regression is observed.', 'No white regression is observed.', 'No white regression is observed.', 'No white regression is observed.', 'No white regression is observed.', 'No white regression is observed.', 'No white regression is observed.', 'No white regression is observed.', 'No white regression is observed.', 'No white regression is observed.', 'No white regression is observed.'), ('No white regression is observed.', 'No white regression is observed.', 'No white regression is observed.', 'No white regression is observed.', 'No white regression is observed.', 'No white regression is observed.', 'No white regression is observed.', 'No white regression is observed.', 'No white regression is observed.', 'No white regression is observed.', 'No white regression is observed.', 'No white regression is observed.', 'No white regression is observed.', 'No white regression is observed.', 'No white regression is observed.', 'No white regression is observed.', 'No white regression is observed.', 'No white regression is observed.', 'No white regression is observed.', 'No white regression is observed.'), ('No whitish blue veil is observed.', 'No whitish blue veil is observed.', 'No whitish blue veil is observed.', 'No whitish blue veil is observed.', 'No whitish blue veil is observed.', 'No whitish blue veil is observed.', 'No whitish blue veil is observed.', 'No whitish blue veil is observed.', 'Yes, subtle whitish blue veil is observed.', 'No whitish blue veil is observed.', 'No whitish blue veil is observed.', 'No whitish blue veil is observed.', 'Yes, subtle whitish blue veil is observed.', 'No whitish blue veil is observed.', 'No whitish blue veil is observed.', 'No whitish blue veil is observed.', 'No whitish blue veil is observed.', 'Yes, subtle whitish blue veil is observed.', 'Yes, subtle whitish blue veil is observed.', 'No whitish blue veil is observed.'), ('No whitish blue veil is observed.', 'No whitish blue veil is observed.', 'No whitish blue veil is observed.', 'No whitish blue veil is observed.', 'No whitish blue veil is observed.', 'No whitish blue veil is observed.', 'No whitish blue veil is observed.', 'No whitish blue veil is observed.', 'Yes, subtle whitish blue veil is observed.', 'No whitish blue veil is observed.', 'No whitish blue veil is observed.', 'No whitish blue veil is observed.', 'Yes, subtle whitish blue veil is observed.', 'No whitish blue veil is observed.', 'No whitish blue veil is observed.', 'No whitish blue veil is observed.', 'No whitish blue veil is observed.', 'Yes, subtle whitish blue veil is observed.', 'Yes, subtle whitish blue veil is observed.', 'No whitish blue veil is observed.'), ('No whitish blue veil is observed.', 'No whitish blue veil is observed.', 'No whitish blue veil is observed.', 'No whitish blue veil is observed.', 'No whitish blue veil is observed.', 'No whitish blue veil is observed.', 'No whitish blue veil is observed.', 'No whitish blue veil is observed.', 'Yes, subtle whitish blue veil is observed.', 'No whitish blue veil is observed.', 'No whitish blue veil is observed.', 'No whitish blue veil is observed.', 'Yes, subtle whitish blue veil is observed.', 'No whitish blue veil is observed.', 'No whitish blue veil is observed.', 'No whitish blue veil is observed.', 'No whitish blue veil is observed.', 'Yes, subtle whitish blue veil is observed.', 'Yes, subtle whitish blue veil is observed.', 'No whitish blue veil is observed.'), ('No whitish blue veil is observed.', 'No whitish blue veil is observed.', 'No whitish blue veil is observed.', 'No whitish blue veil is observed.', 'No whitish blue veil is observed.', 'No whitish blue veil is observed.', 'No whitish blue veil is observed.', 'No whitish blue veil is observed.', 'Yes, subtle whitish blue veil is observed.', 'No whitish blue veil is observed.', 'No whitish blue veil is observed.', 'No whitish blue veil is observed.', 'Yes, subtle whitish blue veil is observed.', 'No whitish blue veil is observed.', 'No whitish blue veil is observed.', 'No whitish blue veil is observed.', 'No whitish blue veil is observed.', 'Yes, subtle whitish blue veil is observed.', 'Yes, subtle whitish blue veil is observed.', 'No whitish blue veil is observed.'), ('No whitish blue veil is observed.', 'No whitish blue veil is observed.', 'No whitish blue veil is observed.', 'No whitish blue veil is observed.', 'No whitish blue veil is observed.', 'No whitish blue veil is observed.', 'No whitish blue veil is observed.', 'No whitish blue veil is observed.', 'Yes, subtle whitish blue veil is observed.', 'No whitish blue veil is observed.', 'No whitish blue veil is observed.', 'No whitish blue veil is observed.', 'Yes, subtle whitish blue veil is observed.', 'No whitish blue veil is observed.', 'No whitish blue veil is observed.', 'No whitish blue veil is observed.', 'No whitish blue veil is observed.', 'Yes, subtle whitish blue veil is observed.', 'Yes, subtle whitish blue veil is observed.', 'No whitish blue veil is observed.'), ('No chrysalis is observed.', 'No chrysalis is observed.', 'No chrysalis is observed.', 'No chrysalis is observed.', 'No chrysalis is observed.', 'No chrysalis is observed.', 'No chrysalis is observed.', 'Yes, subtle chrysalis is observed.', 'No chrysalis is observed.', 'No chrysalis is observed.', 'No chrysalis is observed.', 'No chrysalis is observed.', 'No chrysalis is observed.', 'No chrysalis is observed.', 'No chrysalis is observed.', 'No chrysalis is observed.', 'No chrysalis is observed.', 'Yes, subtle chrysalis is observed.', 'Yes, subtle chrysalis is observed.', 'No chrysalis is observed.'), ('No chrysalis is observed.', 'No chrysalis is observed.', 'No chrysalis is observed.', 'No chrysalis is observed.', 'No chrysalis is observed.', 'No chrysalis is observed.', 'No chrysalis is observed.', 'Yes, subtle chrysalis is observed.', 'No chrysalis is observed.', 'No chrysalis is observed.', 'No chrysalis is observed.', 'No chrysalis is observed.', 'No chrysalis is observed.', 'No chrysalis is observed.', 'No chrysalis is observed.', 'No chrysalis is observed.', 'No chrysalis is observed.', 'Yes, subtle chrysalis is observed.', 'Yes, subtle chrysalis is observed.', 'No chrysalis is observed.'), ('No chrysalis is observed.', 'No chrysalis is observed.', 'No chrysalis is observed.', 'No chrysalis is observed.', 'No chrysalis is observed.', 'No chrysalis is observed.', 'No chrysalis is observed.', 'Yes, subtle chrysalis is observed.', 'No chrysalis is observed.', 'No chrysalis is observed.', 'No chrysalis is observed.', 'No chrysalis is observed.', 'No chrysalis is observed.', 'No chrysalis is observed.', 'No chrysalis is observed.', 'No chrysalis is observed.', 'No chrysalis is observed.', 'Yes, subtle chrysalis is observed.', 'Yes, subtle chrysalis is observed.', 'No chrysalis is observed.'), ('No chrysalis is observed.', 'No chrysalis is observed.', 'No chrysalis is observed.', 'No chrysalis is observed.', 'No chrysalis is observed.', 'No chrysalis is observed.', 'No chrysalis is observed.', 'Yes, subtle chrysalis is observed.', 'No chrysalis is observed.', 'No chrysalis is observed.', 'No chrysalis is observed.', 'No chrysalis is observed.', 'No chrysalis is observed.', 'No chrysalis is observed.', 'No chrysalis is observed.', 'No chrysalis is observed.', 'No chrysalis is observed.', 'Yes, subtle chrysalis is observed.', 'Yes, subtle chrysalis is observed.', 'No chrysalis is observed.'), ('No chrysalis is observed.', 'No chrysalis is observed.', 'No chrysalis is observed.', 'No chrysalis is observed.', 'No chrysalis is observed.', 'No chrysalis is observed.', 'No chrysalis is observed.', 'Yes, subtle chrysalis is observed.', 'No chrysalis is observed.', 'No chrysalis is observed.', 'No chrysalis is observed.', 'No chrysalis is observed.', 'No chrysalis is observed.', 'No chrysalis is observed.', 'No chrysalis is observed.', 'No chrysalis is observed.', 'No chrysalis is observed.', 'Yes, subtle chrysalis is observed.', 'Yes, subtle chrysalis is observed.', 'No chrysalis is observed.')]\n"
          ]
        },
        {
          "data": {
            "image/png": "[encoded data removed]",
            "text/plain": [
              "<Figure size 640x480 with 1 Axes>"
            ]
          },
          "metadata": {},
          "output_type": "display_data"
        },
        {
          "name": "stdout",
          "output_type": "stream",
          "text": [
            "1 [('The general silhouette of the lesion is flat.', 'The general silhouette of the lesion is flat.', 'The general silhouette of the lesion is flat.', 'The general silhouette of the lesion is flat.', 'The general silhouette of the lesion is flattened elevated.', 'The general silhouette of the lesion is flat.', 'The general silhouette of the lesion is exophytic.', 'The general silhouette of the lesion is flat.', 'The general silhouette of the lesion is flattened elevated.', 'The general silhouette of the lesion is flat.', 'The general silhouette of the lesion is flattened elevated.', 'The general silhouette of the lesion is exophytic.', 'The general silhouette of the lesion is flat.', 'The general silhouette of the lesion is exophytic.', 'The general silhouette of the lesion is flattened elevated.', 'The general silhouette of the lesion is flattened elevated.', 'The general silhouette of the lesion is exophytic.', 'The general silhouette of the lesion is flat.', 'The general silhouette of the lesion is flat.', 'The general silhouette of the lesion is flat.'), ('The general silhouette of the lesion is flat.', 'The general silhouette of the lesion is flat.', 'The general silhouette of the lesion is flat.', 'The general silhouette of the lesion is flat.', 'The general silhouette of the lesion is flattened elevated.', 'The general silhouette of the lesion is flat.', 'The general silhouette of the lesion is exophytic.', 'The general silhouette of the lesion is flat.', 'The general silhouette of the lesion is flattened elevated.', 'The general silhouette of the lesion is flat.', 'The general silhouette of the lesion is flattened elevated.', 'The general silhouette of the lesion is exophytic.', 'The general silhouette of the lesion is flat.', 'The general silhouette of the lesion is exophytic.', 'The general silhouette of the lesion is flattened elevated.', 'The general silhouette of the lesion is flattened elevated.', 'The general silhouette of the lesion is exophytic.', 'The general silhouette of the lesion is flat.', 'The general silhouette of the lesion is flat.', 'The general silhouette of the lesion is flat.'), ('The general silhouette of the lesion is flat.', 'The general silhouette of the lesion is flat.', 'The general silhouette of the lesion is flat.', 'The general silhouette of the lesion is flat.', 'The general silhouette of the lesion is flattened elevated.', 'The general silhouette of the lesion is flat.', 'The general silhouette of the lesion is exophytic.', 'The general silhouette of the lesion is flat.', 'The general silhouette of the lesion is flattened elevated.', 'The general silhouette of the lesion is flat.', 'The general silhouette of the lesion is flattened elevated.', 'The general silhouette of the lesion is exophytic.', 'The general silhouette of the lesion is flat.', 'The general silhouette of the lesion is exophytic.', 'The general silhouette of the lesion is flattened elevated.', 'The general silhouette of the lesion is flattened elevated.', 'The general silhouette of the lesion is exophytic.', 'The general silhouette of the lesion is flat.', 'The general silhouette of the lesion is flat.', 'The general silhouette of the lesion is flat.'), ('The general silhouette of the lesion is flat.', 'The general silhouette of the lesion is flat.', 'The general silhouette of the lesion is flat.', 'The general silhouette of the lesion is flat.', 'The general silhouette of the lesion is flattened elevated.', 'The general silhouette of the lesion is flat.', 'The general silhouette of the lesion is exophytic.', 'The general silhouette of the lesion is flat.', 'The general silhouette of the lesion is flattened elevated.', 'The general silhouette of the lesion is flat.', 'The general silhouette of the lesion is flattened elevated.', 'The general silhouette of the lesion is exophytic.', 'The general silhouette of the lesion is flat.', 'The general silhouette of the lesion is exophytic.', 'The general silhouette of the lesion is flattened elevated.', 'The general silhouette of the lesion is flattened elevated.', 'The general silhouette of the lesion is exophytic.', 'The general silhouette of the lesion is flat.', 'The general silhouette of the lesion is flat.', 'The general silhouette of the lesion is flat.'), ('The general silhouette of the lesion is flat.', 'The general silhouette of the lesion is flat.', 'The general silhouette of the lesion is flat.', 'The general silhouette of the lesion is flat.', 'The general silhouette of the lesion is flattened elevated.', 'The general silhouette of the lesion is flat.', 'The general silhouette of the lesion is exophytic.', 'The general silhouette of the lesion is flat.', 'The general silhouette of the lesion is flattened elevated.', 'The general silhouette of the lesion is flat.', 'The general silhouette of the lesion is flattened elevated.', 'The general silhouette of the lesion is exophytic.', 'The general silhouette of the lesion is flat.', 'The general silhouette of the lesion is exophytic.', 'The general silhouette of the lesion is flattened elevated.', 'The general silhouette of the lesion is flattened elevated.', 'The general silhouette of the lesion is exophytic.', 'The general silhouette of the lesion is flat.', 'The general silhouette of the lesion is flat.', 'The general silhouette of the lesion is flat.'), ('The histology diagnostic indicates non-atypical stable mole (m).', 'The histology diagnostic indicates dysplastic melanocytic nevus (dmn).', 'The histology diagnostic indicates dysplastic melanocytic nevus (dmn).', 'The histology diagnostic indicates melanoma in situ (mis).', 'The histology diagnostic indicates intradermal melanocytic nevus (imn).', 'The histology diagnostic indicates compound melanocytic nevus (cmn).', 'The histology diagnostic indicates non-atypical stable mole (m).', 'The histology diagnostic indicates junctional melanocytic nevus (jmn).', 'The histology diagnostic indicates congenital melanocytic nevus (cmn).', 'The histology diagnostic indicates non-atypical stable mole (m).', 'The histology diagnostic indicates superficial spreading melanoma (ssm).', 'The histology diagnostic indicates dysplastic melanocytic nevus (dmn).', 'The histology diagnostic indicates lentiginous melanocytic nevus (lmn).', 'The histology diagnostic indicates non-atypical stable mole (m).', 'The histology diagnostic indicates dysplastic melanocytic nevus (dmn).', 'The histology diagnostic indicates congenital melanocytic nevus (cmn).', 'The histology diagnostic indicates congenital melanocytic nevus (cmn).', 'The histology diagnostic indicates melanoma in situ (mis).', 'The histology diagnostic indicates non-atypical stable mole (m).', 'The histology diagnostic indicates spitz nevus (sn).'), ('The histology diagnostic indicates non-atypical stable mole (m).', 'The histology diagnostic indicates dysplastic melanocytic nevus (dmn).', 'The histology diagnostic indicates dysplastic melanocytic nevus (dmn).', 'The histology diagnostic indicates melanoma in situ (mis).', 'The histology diagnostic indicates intradermal melanocytic nevus (imn).', 'The histology diagnostic indicates compound melanocytic nevus (cmn).', 'The histology diagnostic indicates non-atypical stable mole (m).', 'The histology diagnostic indicates junctional melanocytic nevus (jmn).', 'The histology diagnostic indicates congenital melanocytic nevus (cmn).', 'The histology diagnostic indicates non-atypical stable mole (m).', 'The histology diagnostic indicates superficial spreading melanoma (ssm).', 'The histology diagnostic indicates dysplastic melanocytic nevus (dmn).', 'The histology diagnostic indicates lentiginous melanocytic nevus (lmn).', 'The histology diagnostic indicates non-atypical stable mole (m).', 'The histology diagnostic indicates dysplastic melanocytic nevus (dmn).', 'The histology diagnostic indicates congenital melanocytic nevus (cmn).', 'The histology diagnostic indicates congenital melanocytic nevus (cmn).', 'The histology diagnostic indicates melanoma in situ (mis).', 'The histology diagnostic indicates non-atypical stable mole (m).', 'The histology diagnostic indicates spitz nevus (sn).'), ('The histology diagnostic indicates non-atypical stable mole (m).', 'The histology diagnostic indicates dysplastic melanocytic nevus (dmn).', 'The histology diagnostic indicates dysplastic melanocytic nevus (dmn).', 'The histology diagnostic indicates melanoma in situ (mis).', 'The histology diagnostic indicates intradermal melanocytic nevus (imn).', 'The histology diagnostic indicates compound melanocytic nevus (cmn).', 'The histology diagnostic indicates non-atypical stable mole (m).', 'The histology diagnostic indicates junctional melanocytic nevus (jmn).', 'The histology diagnostic indicates congenital melanocytic nevus (cmn).', 'The histology diagnostic indicates non-atypical stable mole (m).', 'The histology diagnostic indicates superficial spreading melanoma (ssm).', 'The histology diagnostic indicates dysplastic melanocytic nevus (dmn).', 'The histology diagnostic indicates lentiginous melanocytic nevus (lmn).', 'The histology diagnostic indicates non-atypical stable mole (m).', 'The histology diagnostic indicates dysplastic melanocytic nevus (dmn).', 'The histology diagnostic indicates congenital melanocytic nevus (cmn).', 'The histology diagnostic indicates congenital melanocytic nevus (cmn).', 'The histology diagnostic indicates melanoma in situ (mis).', 'The histology diagnostic indicates non-atypical stable mole (m).', 'The histology diagnostic indicates spitz nevus (sn).'), ('The histology diagnostic indicates non-atypical stable mole (m).', 'The histology diagnostic indicates dysplastic melanocytic nevus (dmn).', 'The histology diagnostic indicates dysplastic melanocytic nevus (dmn).', 'The histology diagnostic indicates melanoma in situ (mis).', 'The histology diagnostic indicates intradermal melanocytic nevus (imn).', 'The histology diagnostic indicates compound melanocytic nevus (cmn).', 'The histology diagnostic indicates non-atypical stable mole (m).', 'The histology diagnostic indicates junctional melanocytic nevus (jmn).', 'The histology diagnostic indicates congenital melanocytic nevus (cmn).', 'The histology diagnostic indicates non-atypical stable mole (m).', 'The histology diagnostic indicates superficial spreading melanoma (ssm).', 'The histology diagnostic indicates dysplastic melanocytic nevus (dmn).', 'The histology diagnostic indicates lentiginous melanocytic nevus (lmn).', 'The histology diagnostic indicates non-atypical stable mole (m).', 'The histology diagnostic indicates dysplastic melanocytic nevus (dmn).', 'The histology diagnostic indicates congenital melanocytic nevus (cmn).', 'The histology diagnostic indicates congenital melanocytic nevus (cmn).', 'The histology diagnostic indicates melanoma in situ (mis).', 'The histology diagnostic indicates non-atypical stable mole (m).', 'The histology diagnostic indicates spitz nevus (sn).'), ('The histology diagnostic indicates non-atypical stable mole (m).', 'The histology diagnostic indicates dysplastic melanocytic nevus (dmn).', 'The histology diagnostic indicates dysplastic melanocytic nevus (dmn).', 'The histology diagnostic indicates melanoma in situ (mis).', 'The histology diagnostic indicates intradermal melanocytic nevus (imn).', 'The histology diagnostic indicates compound melanocytic nevus (cmn).', 'The histology diagnostic indicates non-atypical stable mole (m).', 'The histology diagnostic indicates junctional melanocytic nevus (jmn).', 'The histology diagnostic indicates congenital melanocytic nevus (cmn).', 'The histology diagnostic indicates non-atypical stable mole (m).', 'The histology diagnostic indicates superficial spreading melanoma (ssm).', 'The histology diagnostic indicates dysplastic melanocytic nevus (dmn).', 'The histology diagnostic indicates lentiginous melanocytic nevus (lmn).', 'The histology diagnostic indicates non-atypical stable mole (m).', 'The histology diagnostic indicates dysplastic melanocytic nevus (dmn).', 'The histology diagnostic indicates congenital melanocytic nevus (cmn).', 'The histology diagnostic indicates congenital melanocytic nevus (cmn).', 'The histology diagnostic indicates melanoma in situ (mis).', 'The histology diagnostic indicates non-atypical stable mole (m).', 'The histology diagnostic indicates spitz nevus (sn).'), ('The presence of dysplasia is not applicable.', 'The presence of dysplasia is not available.', 'The presence of dysplasia is not available.', 'The presence of dysplasia is not applicable.', 'The presence of dysplasia is not applicable.', 'The presence of dysplasia is not applicable.', 'The presence of dysplasia is not applicable.', 'The presence of dysplasia is not applicable.', 'The presence of dysplasia is not applicable.', 'The presence of dysplasia is not applicable.', 'The presence of dysplasia is .', 'The presence of dysplasia is not available.', 'The presence of dysplasia is not applicable.', 'The presence of dysplasia is not applicable.', 'The presence of dysplasia is severe.', 'The presence of dysplasia is not applicable.', 'The presence of dysplasia is not applicable.', 'The presence of dysplasia is not applicable.', 'The presence of dysplasia is not applicable.', 'The presence of dysplasia is not applicable.'), ('The presence of dysplasia is not applicable.', 'The presence of dysplasia is not available.', 'The presence of dysplasia is not available.', 'The presence of dysplasia is not applicable.', 'The presence of dysplasia is not applicable.', 'The presence of dysplasia is not applicable.', 'The presence of dysplasia is not applicable.', 'The presence of dysplasia is not applicable.', 'The presence of dysplasia is not applicable.', 'The presence of dysplasia is not applicable.', 'The presence of dysplasia is .', 'The presence of dysplasia is not available.', 'The presence of dysplasia is not applicable.', 'The presence of dysplasia is not applicable.', 'The presence of dysplasia is severe.', 'The presence of dysplasia is not applicable.', 'The presence of dysplasia is not applicable.', 'The presence of dysplasia is not applicable.', 'The presence of dysplasia is not applicable.', 'The presence of dysplasia is not applicable.'), ('The presence of dysplasia is not applicable.', 'The presence of dysplasia is not available.', 'The presence of dysplasia is not available.', 'The presence of dysplasia is not applicable.', 'The presence of dysplasia is not applicable.', 'The presence of dysplasia is not applicable.', 'The presence of dysplasia is not applicable.', 'The presence of dysplasia is not applicable.', 'The presence of dysplasia is not applicable.', 'The presence of dysplasia is not applicable.', 'The presence of dysplasia is .', 'The presence of dysplasia is not available.', 'The presence of dysplasia is not applicable.', 'The presence of dysplasia is not applicable.', 'The presence of dysplasia is severe.', 'The presence of dysplasia is not applicable.', 'The presence of dysplasia is not applicable.', 'The presence of dysplasia is not applicable.', 'The presence of dysplasia is not applicable.', 'The presence of dysplasia is not applicable.'), ('The presence of dysplasia is not applicable.', 'The presence of dysplasia is not available.', 'The presence of dysplasia is not available.', 'The presence of dysplasia is not applicable.', 'The presence of dysplasia is not applicable.', 'The presence of dysplasia is not applicable.', 'The presence of dysplasia is not applicable.', 'The presence of dysplasia is not applicable.', 'The presence of dysplasia is not applicable.', 'The presence of dysplasia is not applicable.', 'The presence of dysplasia is .', 'The presence of dysplasia is not available.', 'The presence of dysplasia is not applicable.', 'The presence of dysplasia is not applicable.', 'The presence of dysplasia is severe.', 'The presence of dysplasia is not applicable.', 'The presence of dysplasia is not applicable.', 'The presence of dysplasia is not applicable.', 'The presence of dysplasia is not applicable.', 'The presence of dysplasia is not applicable.'), ('The presence of dysplasia is not applicable.', 'The presence of dysplasia is not available.', 'The presence of dysplasia is not available.', 'The presence of dysplasia is not applicable.', 'The presence of dysplasia is not applicable.', 'The presence of dysplasia is not applicable.', 'The presence of dysplasia is not applicable.', 'The presence of dysplasia is not applicable.', 'The presence of dysplasia is not applicable.', 'The presence of dysplasia is not applicable.', 'The presence of dysplasia is .', 'The presence of dysplasia is not available.', 'The presence of dysplasia is not applicable.', 'The presence of dysplasia is not applicable.', 'The presence of dysplasia is severe.', 'The presence of dysplasia is not applicable.', 'The presence of dysplasia is not applicable.', 'The presence of dysplasia is not applicable.', 'The presence of dysplasia is not applicable.', 'The presence of dysplasia is not applicable.'), ('The diagnostic impression is atypical mole.', 'The diagnostic impression is atypical mole.', 'The diagnostic impression is atypical mole.', 'The diagnostic impression is exclude melanoma.', 'The diagnostic impression is atypical mole.', 'The diagnostic impression is atypical mole.', 'The diagnostic impression is atypical mole.', 'The diagnostic impression is atypical mole.', 'The diagnostic impression is melanoma.', 'The diagnostic impression is atypical mole.', 'The diagnostic impression is melanoma.', 'The diagnostic impression is atypical mole.', 'The diagnostic impression is atypical mole.', 'The diagnostic impression is non-atypical mole.', 'The diagnostic impression is atypical mole.', 'The diagnostic impression is atypical mole.', 'The diagnostic impression is atypical mole.', 'The diagnostic impression is non-atypical mole.', 'The diagnostic impression is non-atypical mole.', 'The diagnostic impression is spitz/reed nevus.'), ('The diagnostic impression is atypical mole.', 'The diagnostic impression is atypical mole.', 'The diagnostic impression is atypical mole.', 'The diagnostic impression is exclude melanoma.', 'The diagnostic impression is atypical mole.', 'The diagnostic impression is atypical mole.', 'The diagnostic impression is atypical mole.', 'The diagnostic impression is atypical mole.', 'The diagnostic impression is melanoma.', 'The diagnostic impression is atypical mole.', 'The diagnostic impression is melanoma.', 'The diagnostic impression is atypical mole.', 'The diagnostic impression is atypical mole.', 'The diagnostic impression is non-atypical mole.', 'The diagnostic impression is atypical mole.', 'The diagnostic impression is atypical mole.', 'The diagnostic impression is atypical mole.', 'The diagnostic impression is non-atypical mole.', 'The diagnostic impression is non-atypical mole.', 'The diagnostic impression is spitz/reed nevus.'), ('The diagnostic impression is atypical mole.', 'The diagnostic impression is atypical mole.', 'The diagnostic impression is atypical mole.', 'The diagnostic impression is exclude melanoma.', 'The diagnostic impression is atypical mole.', 'The diagnostic impression is atypical mole.', 'The diagnostic impression is atypical mole.', 'The diagnostic impression is atypical mole.', 'The diagnostic impression is melanoma.', 'The diagnostic impression is atypical mole.', 'The diagnostic impression is melanoma.', 'The diagnostic impression is atypical mole.', 'The diagnostic impression is atypical mole.', 'The diagnostic impression is non-atypical mole.', 'The diagnostic impression is atypical mole.', 'The diagnostic impression is atypical mole.', 'The diagnostic impression is atypical mole.', 'The diagnostic impression is non-atypical mole.', 'The diagnostic impression is non-atypical mole.', 'The diagnostic impression is spitz/reed nevus.'), ('The diagnostic impression is atypical mole.', 'The diagnostic impression is atypical mole.', 'The diagnostic impression is atypical mole.', 'The diagnostic impression is exclude melanoma.', 'The diagnostic impression is atypical mole.', 'The diagnostic impression is atypical mole.', 'The diagnostic impression is atypical mole.', 'The diagnostic impression is atypical mole.', 'The diagnostic impression is melanoma.', 'The diagnostic impression is atypical mole.', 'The diagnostic impression is melanoma.', 'The diagnostic impression is atypical mole.', 'The diagnostic impression is atypical mole.', 'The diagnostic impression is non-atypical mole.', 'The diagnostic impression is atypical mole.', 'The diagnostic impression is atypical mole.', 'The diagnostic impression is atypical mole.', 'The diagnostic impression is non-atypical mole.', 'The diagnostic impression is non-atypical mole.', 'The diagnostic impression is spitz/reed nevus.'), ('The diagnostic impression is atypical mole.', 'The diagnostic impression is atypical mole.', 'The diagnostic impression is atypical mole.', 'The diagnostic impression is exclude melanoma.', 'The diagnostic impression is atypical mole.', 'The diagnostic impression is atypical mole.', 'The diagnostic impression is atypical mole.', 'The diagnostic impression is atypical mole.', 'The diagnostic impression is melanoma.', 'The diagnostic impression is atypical mole.', 'The diagnostic impression is melanoma.', 'The diagnostic impression is atypical mole.', 'The diagnostic impression is atypical mole.', 'The diagnostic impression is non-atypical mole.', 'The diagnostic impression is atypical mole.', 'The diagnostic impression is atypical mole.', 'The diagnostic impression is atypical mole.', 'The diagnostic impression is non-atypical mole.', 'The diagnostic impression is non-atypical mole.', 'The diagnostic impression is spitz/reed nevus.'), ('The diagnostic difficulty level is low.', 'The diagnostic difficulty level is medium.', 'The diagnostic difficulty level is medium.', 'The diagnostic difficulty level is medium.', 'The diagnostic difficulty level is medium.', 'The diagnostic difficulty level is medium.', 'The diagnostic difficulty level is low.', 'The diagnostic difficulty level is medium.', 'The diagnostic difficulty level is high.', 'The diagnostic difficulty level is low.', 'The diagnostic difficulty level is low.', 'The diagnostic difficulty level is medium.', 'The diagnostic difficulty level is medium.', 'The diagnostic difficulty level is low.', 'The diagnostic difficulty level is low.', 'The diagnostic difficulty level is medium.', 'The diagnostic difficulty level is low.', 'The diagnostic difficulty level is high.', 'The diagnostic difficulty level is low.', 'The diagnostic difficulty level is medium.'), ('The diagnostic difficulty level is low.', 'The diagnostic difficulty level is medium.', 'The diagnostic difficulty level is medium.', 'The diagnostic difficulty level is medium.', 'The diagnostic difficulty level is medium.', 'The diagnostic difficulty level is medium.', 'The diagnostic difficulty level is low.', 'The diagnostic difficulty level is medium.', 'The diagnostic difficulty level is high.', 'The diagnostic difficulty level is low.', 'The diagnostic difficulty level is low.', 'The diagnostic difficulty level is medium.', 'The diagnostic difficulty level is medium.', 'The diagnostic difficulty level is low.', 'The diagnostic difficulty level is low.', 'The diagnostic difficulty level is medium.', 'The diagnostic difficulty level is low.', 'The diagnostic difficulty level is high.', 'The diagnostic difficulty level is low.', 'The diagnostic difficulty level is medium.'), ('The diagnostic difficulty level is low.', 'The diagnostic difficulty level is medium.', 'The diagnostic difficulty level is medium.', 'The diagnostic difficulty level is medium.', 'The diagnostic difficulty level is medium.', 'The diagnostic difficulty level is medium.', 'The diagnostic difficulty level is low.', 'The diagnostic difficulty level is medium.', 'The diagnostic difficulty level is high.', 'The diagnostic difficulty level is low.', 'The diagnostic difficulty level is low.', 'The diagnostic difficulty level is medium.', 'The diagnostic difficulty level is medium.', 'The diagnostic difficulty level is low.', 'The diagnostic difficulty level is low.', 'The diagnostic difficulty level is medium.', 'The diagnostic difficulty level is low.', 'The diagnostic difficulty level is high.', 'The diagnostic difficulty level is low.', 'The diagnostic difficulty level is medium.'), ('The diagnostic difficulty level is low.', 'The diagnostic difficulty level is medium.', 'The diagnostic difficulty level is medium.', 'The diagnostic difficulty level is medium.', 'The diagnostic difficulty level is medium.', 'The diagnostic difficulty level is medium.', 'The diagnostic difficulty level is low.', 'The diagnostic difficulty level is medium.', 'The diagnostic difficulty level is high.', 'The diagnostic difficulty level is low.', 'The diagnostic difficulty level is low.', 'The diagnostic difficulty level is medium.', 'The diagnostic difficulty level is medium.', 'The diagnostic difficulty level is low.', 'The diagnostic difficulty level is low.', 'The diagnostic difficulty level is medium.', 'The diagnostic difficulty level is low.', 'The diagnostic difficulty level is high.', 'The diagnostic difficulty level is low.', 'The diagnostic difficulty level is medium.'), ('The diagnostic difficulty level is low.', 'The diagnostic difficulty level is medium.', 'The diagnostic difficulty level is medium.', 'The diagnostic difficulty level is medium.', 'The diagnostic difficulty level is medium.', 'The diagnostic difficulty level is medium.', 'The diagnostic difficulty level is low.', 'The diagnostic difficulty level is medium.', 'The diagnostic difficulty level is high.', 'The diagnostic difficulty level is low.', 'The diagnostic difficulty level is low.', 'The diagnostic difficulty level is medium.', 'The diagnostic difficulty level is medium.', 'The diagnostic difficulty level is low.', 'The diagnostic difficulty level is low.', 'The diagnostic difficulty level is medium.', 'The diagnostic difficulty level is low.', 'The diagnostic difficulty level is high.', 'The diagnostic difficulty level is low.', 'The diagnostic difficulty level is medium.'), ('The lesion has been not excised.', 'The lesion has been follow-up with previous dermoscopy, due to changes.', 'The lesion has been first consultation.', 'The lesion has been first consultation.', 'The lesion has been first consultation.', 'The lesion has been first consultation.', 'The lesion has been not excised.', 'The lesion has been follow-up with previous dermoscopy, due to changes.', 'The lesion has been first consultation.', 'The lesion has been not excised.', 'The lesion has been first consultation.', 'The lesion has been first consultation.', 'The lesion has been first consultation.', 'The lesion has been not excised.', 'The lesion has been first consultation.', 'The lesion has been first consultation.', 'The lesion has been follow-up with previous dermoscopy, due to changes.', 'The lesion has been follow-up with previous dermoscopy, due to changes.', 'The lesion has been not excised.', 'The lesion has been first consultation.'), ('The lesion has been not excised.', 'The lesion has been follow-up with previous dermoscopy, due to changes.', 'The lesion has been first consultation.', 'The lesion has been first consultation.', 'The lesion has been first consultation.', 'The lesion has been first consultation.', 'The lesion has been not excised.', 'The lesion has been follow-up with previous dermoscopy, due to changes.', 'The lesion has been first consultation.', 'The lesion has been not excised.', 'The lesion has been first consultation.', 'The lesion has been first consultation.', 'The lesion has been first consultation.', 'The lesion has been not excised.', 'The lesion has been first consultation.', 'The lesion has been first consultation.', 'The lesion has been follow-up with previous dermoscopy, due to changes.', 'The lesion has been follow-up with previous dermoscopy, due to changes.', 'The lesion has been not excised.', 'The lesion has been first consultation.'), ('The lesion has been not excised.', 'The lesion has been follow-up with previous dermoscopy, due to changes.', 'The lesion has been first consultation.', 'The lesion has been first consultation.', 'The lesion has been first consultation.', 'The lesion has been first consultation.', 'The lesion has been not excised.', 'The lesion has been follow-up with previous dermoscopy, due to changes.', 'The lesion has been first consultation.', 'The lesion has been not excised.', 'The lesion has been first consultation.', 'The lesion has been first consultation.', 'The lesion has been first consultation.', 'The lesion has been not excised.', 'The lesion has been first consultation.', 'The lesion has been first consultation.', 'The lesion has been follow-up with previous dermoscopy, due to changes.', 'The lesion has been follow-up with previous dermoscopy, due to changes.', 'The lesion has been not excised.', 'The lesion has been first consultation.'), ('The lesion has been not excised.', 'The lesion has been follow-up with previous dermoscopy, due to changes.', 'The lesion has been first consultation.', 'The lesion has been first consultation.', 'The lesion has been first consultation.', 'The lesion has been first consultation.', 'The lesion has been not excised.', 'The lesion has been follow-up with previous dermoscopy, due to changes.', 'The lesion has been first consultation.', 'The lesion has been not excised.', 'The lesion has been first consultation.', 'The lesion has been first consultation.', 'The lesion has been first consultation.', 'The lesion has been not excised.', 'The lesion has been first consultation.', 'The lesion has been first consultation.', 'The lesion has been follow-up with previous dermoscopy, due to changes.', 'The lesion has been follow-up with previous dermoscopy, due to changes.', 'The lesion has been not excised.', 'The lesion has been first consultation.'), ('The lesion has been not excised.', 'The lesion has been follow-up with previous dermoscopy, due to changes.', 'The lesion has been first consultation.', 'The lesion has been first consultation.', 'The lesion has been first consultation.', 'The lesion has been first consultation.', 'The lesion has been not excised.', 'The lesion has been follow-up with previous dermoscopy, due to changes.', 'The lesion has been first consultation.', 'The lesion has been not excised.', 'The lesion has been first consultation.', 'The lesion has been first consultation.', 'The lesion has been first consultation.', 'The lesion has been not excised.', 'The lesion has been first consultation.', 'The lesion has been first consultation.', 'The lesion has been follow-up with previous dermoscopy, due to changes.', 'The lesion has been follow-up with previous dermoscopy, due to changes.', 'The lesion has been not excised.', 'The lesion has been first consultation.'), ('The global pattern of the lesion is mixed (mix of two of the above).', 'The global pattern of the lesion is diffuse reticular.', 'The global pattern of the lesion is mixed (mix of two of the above).', 'The global pattern of the lesion is mixed (mix of two of the above).', 'The global pattern of the lesion is diffuse reticular.', 'The global pattern of the lesion is multicomponent (mix of 3 or more above).', 'The global pattern of the lesion is mixed (mix of two of the above).', 'The global pattern of the lesion is homogeneous.', 'The global pattern of the lesion is multicomponent (mix of 3 or more above).', 'The global pattern of the lesion is mixed (mix of two of the above).', 'The global pattern of the lesion is multicomponent (mix of 3 or more above).', 'The global pattern of the lesion is mixed (mix of two of the above).', 'The global pattern of the lesion is mixed (mix of two of the above).', 'The global pattern of the lesion is cobblestone.', 'The global pattern of the lesion is undefined.', 'The global pattern of the lesion is mixed (mix of two of the above).', 'The global pattern of the lesion is multicomponent (mix of 3 or more above).', 'The global pattern of the lesion is homogeneous.', 'The global pattern of the lesion is mixed (mix of two of the above).', 'The global pattern of the lesion is mixed (mix of two of the above).'), ('The global pattern of the lesion is mixed (mix of two of the above).', 'The global pattern of the lesion is diffuse reticular.', 'The global pattern of the lesion is mixed (mix of two of the above).', 'The global pattern of the lesion is mixed (mix of two of the above).', 'The global pattern of the lesion is diffuse reticular.', 'The global pattern of the lesion is multicomponent (mix of 3 or more above).', 'The global pattern of the lesion is mixed (mix of two of the above).', 'The global pattern of the lesion is homogeneous.', 'The global pattern of the lesion is multicomponent (mix of 3 or more above).', 'The global pattern of the lesion is mixed (mix of two of the above).', 'The global pattern of the lesion is multicomponent (mix of 3 or more above).', 'The global pattern of the lesion is mixed (mix of two of the above).', 'The global pattern of the lesion is mixed (mix of two of the above).', 'The global pattern of the lesion is cobblestone.', 'The global pattern of the lesion is undefined.', 'The global pattern of the lesion is mixed (mix of two of the above).', 'The global pattern of the lesion is multicomponent (mix of 3 or more above).', 'The global pattern of the lesion is homogeneous.', 'The global pattern of the lesion is mixed (mix of two of the above).', 'The global pattern of the lesion is mixed (mix of two of the above).'), ('The global pattern of the lesion is mixed (mix of two of the above).', 'The global pattern of the lesion is diffuse reticular.', 'The global pattern of the lesion is mixed (mix of two of the above).', 'The global pattern of the lesion is mixed (mix of two of the above).', 'The global pattern of the lesion is diffuse reticular.', 'The global pattern of the lesion is multicomponent (mix of 3 or more above).', 'The global pattern of the lesion is mixed (mix of two of the above).', 'The global pattern of the lesion is homogeneous.', 'The global pattern of the lesion is multicomponent (mix of 3 or more above).', 'The global pattern of the lesion is mixed (mix of two of the above).', 'The global pattern of the lesion is multicomponent (mix of 3 or more above).', 'The global pattern of the lesion is mixed (mix of two of the above).', 'The global pattern of the lesion is mixed (mix of two of the above).', 'The global pattern of the lesion is cobblestone.', 'The global pattern of the lesion is undefined.', 'The global pattern of the lesion is mixed (mix of two of the above).', 'The global pattern of the lesion is multicomponent (mix of 3 or more above).', 'The global pattern of the lesion is homogeneous.', 'The global pattern of the lesion is mixed (mix of two of the above).', 'The global pattern of the lesion is mixed (mix of two of the above).'), ('The global pattern of the lesion is mixed (mix of two of the above).', 'The global pattern of the lesion is diffuse reticular.', 'The global pattern of the lesion is mixed (mix of two of the above).', 'The global pattern of the lesion is mixed (mix of two of the above).', 'The global pattern of the lesion is diffuse reticular.', 'The global pattern of the lesion is multicomponent (mix of 3 or more above).', 'The global pattern of the lesion is mixed (mix of two of the above).', 'The global pattern of the lesion is homogeneous.', 'The global pattern of the lesion is multicomponent (mix of 3 or more above).', 'The global pattern of the lesion is mixed (mix of two of the above).', 'The global pattern of the lesion is multicomponent (mix of 3 or more above).', 'The global pattern of the lesion is mixed (mix of two of the above).', 'The global pattern of the lesion is mixed (mix of two of the above).', 'The global pattern of the lesion is cobblestone.', 'The global pattern of the lesion is undefined.', 'The global pattern of the lesion is mixed (mix of two of the above).', 'The global pattern of the lesion is multicomponent (mix of 3 or more above).', 'The global pattern of the lesion is homogeneous.', 'The global pattern of the lesion is mixed (mix of two of the above).', 'The global pattern of the lesion is mixed (mix of two of the above).'), ('The global pattern of the lesion is mixed (mix of two of the above).', 'The global pattern of the lesion is diffuse reticular.', 'The global pattern of the lesion is mixed (mix of two of the above).', 'The global pattern of the lesion is mixed (mix of two of the above).', 'The global pattern of the lesion is diffuse reticular.', 'The global pattern of the lesion is multicomponent (mix of 3 or more above).', 'The global pattern of the lesion is mixed (mix of two of the above).', 'The global pattern of the lesion is homogeneous.', 'The global pattern of the lesion is multicomponent (mix of 3 or more above).', 'The global pattern of the lesion is mixed (mix of two of the above).', 'The global pattern of the lesion is multicomponent (mix of 3 or more above).', 'The global pattern of the lesion is mixed (mix of two of the above).', 'The global pattern of the lesion is mixed (mix of two of the above).', 'The global pattern of the lesion is cobblestone.', 'The global pattern of the lesion is undefined.', 'The global pattern of the lesion is mixed (mix of two of the above).', 'The global pattern of the lesion is multicomponent (mix of 3 or more above).', 'The global pattern of the lesion is homogeneous.', 'The global pattern of the lesion is mixed (mix of two of the above).', 'The global pattern of the lesion is mixed (mix of two of the above).'), ('The peripheral globular pattern is absent.', 'The peripheral globular pattern is regular conventional.', 'The peripheral globular pattern is absent.', 'The peripheral globular pattern is absent.', 'The peripheral globular pattern is absent.', 'The peripheral globular pattern is absent.', 'The peripheral globular pattern is absent.', 'The peripheral globular pattern is irregular conventional.', 'The peripheral globular pattern is absent.', 'The peripheral globular pattern is absent.', 'The peripheral globular pattern is focal conventional.', 'The peripheral globular pattern is absent.', 'The peripheral globular pattern is absent.', 'The peripheral globular pattern is absent.', 'The peripheral globular pattern is absent.', 'The peripheral globular pattern is absent.', 'The peripheral globular pattern is absent.', 'The peripheral globular pattern is absent.', 'The peripheral globular pattern is .', 'The peripheral globular pattern is absent.'), ('The peripheral globular pattern is absent.', 'The peripheral globular pattern is regular conventional.', 'The peripheral globular pattern is absent.', 'The peripheral globular pattern is absent.', 'The peripheral globular pattern is absent.', 'The peripheral globular pattern is absent.', 'The peripheral globular pattern is absent.', 'The peripheral globular pattern is irregular conventional.', 'The peripheral globular pattern is absent.', 'The peripheral globular pattern is absent.', 'The peripheral globular pattern is focal conventional.', 'The peripheral globular pattern is absent.', 'The peripheral globular pattern is absent.', 'The peripheral globular pattern is absent.', 'The peripheral globular pattern is absent.', 'The peripheral globular pattern is absent.', 'The peripheral globular pattern is absent.', 'The peripheral globular pattern is absent.', 'The peripheral globular pattern is .', 'The peripheral globular pattern is absent.'), ('The peripheral globular pattern is absent.', 'The peripheral globular pattern is regular conventional.', 'The peripheral globular pattern is absent.', 'The peripheral globular pattern is absent.', 'The peripheral globular pattern is absent.', 'The peripheral globular pattern is absent.', 'The peripheral globular pattern is absent.', 'The peripheral globular pattern is irregular conventional.', 'The peripheral globular pattern is absent.', 'The peripheral globular pattern is absent.', 'The peripheral globular pattern is focal conventional.', 'The peripheral globular pattern is absent.', 'The peripheral globular pattern is absent.', 'The peripheral globular pattern is absent.', 'The peripheral globular pattern is absent.', 'The peripheral globular pattern is absent.', 'The peripheral globular pattern is absent.', 'The peripheral globular pattern is absent.', 'The peripheral globular pattern is .', 'The peripheral globular pattern is absent.'), ('The peripheral globular pattern is absent.', 'The peripheral globular pattern is regular conventional.', 'The peripheral globular pattern is absent.', 'The peripheral globular pattern is absent.', 'The peripheral globular pattern is absent.', 'The peripheral globular pattern is absent.', 'The peripheral globular pattern is absent.', 'The peripheral globular pattern is irregular conventional.', 'The peripheral globular pattern is absent.', 'The peripheral globular pattern is absent.', 'The peripheral globular pattern is focal conventional.', 'The peripheral globular pattern is absent.', 'The peripheral globular pattern is absent.', 'The peripheral globular pattern is absent.', 'The peripheral globular pattern is absent.', 'The peripheral globular pattern is absent.', 'The peripheral globular pattern is absent.', 'The peripheral globular pattern is absent.', 'The peripheral globular pattern is .', 'The peripheral globular pattern is absent.'), ('The peripheral globular pattern is absent.', 'The peripheral globular pattern is regular conventional.', 'The peripheral globular pattern is absent.', 'The peripheral globular pattern is absent.', 'The peripheral globular pattern is absent.', 'The peripheral globular pattern is absent.', 'The peripheral globular pattern is absent.', 'The peripheral globular pattern is irregular conventional.', 'The peripheral globular pattern is absent.', 'The peripheral globular pattern is absent.', 'The peripheral globular pattern is focal conventional.', 'The peripheral globular pattern is absent.', 'The peripheral globular pattern is absent.', 'The peripheral globular pattern is absent.', 'The peripheral globular pattern is absent.', 'The peripheral globular pattern is absent.', 'The peripheral globular pattern is absent.', 'The peripheral globular pattern is absent.', 'The peripheral globular pattern is .', 'The peripheral globular pattern is absent.'), ('The lesion is asymmetric on one axis.', 'The lesion is symmetric.', 'The lesion is asymmetric on two axes.', 'The lesion is asymmetric on two axes.', 'The lesion is asymmetric on two axes.', 'The lesion is asymmetric on two axes.', 'The lesion is asymmetric on two axes.', 'The lesion is asymmetric on one axis.', 'The lesion is asymmetric on two axes.', 'The lesion is asymmetric on one axis.', 'The lesion is asymmetric on two axes.', 'The lesion is symmetric.', 'The lesion is asymmetric on two axes.', 'The lesion is asymmetric on one axis.', 'The lesion is asymmetric on two axes.', 'The lesion is asymmetric on two axes.', 'The lesion is asymmetric on two axes.', 'The lesion is symmetric.', 'The lesion is symmetric.', 'The lesion is asymmetric on two axes.'), ('The lesion is asymmetric on one axis.', 'The lesion is symmetric.', 'The lesion is asymmetric on two axes.', 'The lesion is asymmetric on two axes.', 'The lesion is asymmetric on two axes.', 'The lesion is asymmetric on two axes.', 'The lesion is asymmetric on two axes.', 'The lesion is asymmetric on one axis.', 'The lesion is asymmetric on two axes.', 'The lesion is asymmetric on one axis.', 'The lesion is asymmetric on two axes.', 'The lesion is symmetric.', 'The lesion is asymmetric on two axes.', 'The lesion is asymmetric on one axis.', 'The lesion is asymmetric on two axes.', 'The lesion is asymmetric on two axes.', 'The lesion is asymmetric on two axes.', 'The lesion is symmetric.', 'The lesion is symmetric.', 'The lesion is asymmetric on two axes.'), ('The lesion is asymmetric on one axis.', 'The lesion is symmetric.', 'The lesion is asymmetric on two axes.', 'The lesion is asymmetric on two axes.', 'The lesion is asymmetric on two axes.', 'The lesion is asymmetric on two axes.', 'The lesion is asymmetric on two axes.', 'The lesion is asymmetric on one axis.', 'The lesion is asymmetric on two axes.', 'The lesion is asymmetric on one axis.', 'The lesion is asymmetric on two axes.', 'The lesion is symmetric.', 'The lesion is asymmetric on two axes.', 'The lesion is asymmetric on one axis.', 'The lesion is asymmetric on two axes.', 'The lesion is asymmetric on two axes.', 'The lesion is asymmetric on two axes.', 'The lesion is symmetric.', 'The lesion is symmetric.', 'The lesion is asymmetric on two axes.'), ('The lesion is asymmetric on one axis.', 'The lesion is symmetric.', 'The lesion is asymmetric on two axes.', 'The lesion is asymmetric on two axes.', 'The lesion is asymmetric on two axes.', 'The lesion is asymmetric on two axes.', 'The lesion is asymmetric on two axes.', 'The lesion is asymmetric on one axis.', 'The lesion is asymmetric on two axes.', 'The lesion is asymmetric on one axis.', 'The lesion is asymmetric on two axes.', 'The lesion is symmetric.', 'The lesion is asymmetric on two axes.', 'The lesion is asymmetric on one axis.', 'The lesion is asymmetric on two axes.', 'The lesion is asymmetric on two axes.', 'The lesion is asymmetric on two axes.', 'The lesion is symmetric.', 'The lesion is symmetric.', 'The lesion is asymmetric on two axes.'), ('The lesion is asymmetric on one axis.', 'The lesion is symmetric.', 'The lesion is asymmetric on two axes.', 'The lesion is asymmetric on two axes.', 'The lesion is asymmetric on two axes.', 'The lesion is asymmetric on two axes.', 'The lesion is asymmetric on two axes.', 'The lesion is asymmetric on one axis.', 'The lesion is asymmetric on two axes.', 'The lesion is asymmetric on one axis.', 'The lesion is asymmetric on two axes.', 'The lesion is symmetric.', 'The lesion is asymmetric on two axes.', 'The lesion is asymmetric on one axis.', 'The lesion is asymmetric on two axes.', 'The lesion is asymmetric on two axes.', 'The lesion is asymmetric on two axes.', 'The lesion is symmetric.', 'The lesion is symmetric.', 'The lesion is asymmetric on two axes.'), ('Yes, clear pigmented reticulum is observed.', 'Yes, clear and dominant pigmented reticulum is observed.', 'Yes, clear and dominant pigmented reticulum is observed.', 'Yes, clear pigmented reticulum is observed.', 'Yes, clear and dominant pigmented reticulum is observed.', 'Yes, clear and dominant pigmented reticulum is observed.', 'Yes, clear and dominant pigmented reticulum is observed.', 'Yes, subtle pigmented reticulum is observed.', 'No pigmented reticulum is observed.', 'Yes, clear and dominant pigmented reticulum is observed.', 'Yes, subtle pigmented reticulum is observed.', 'No pigmented reticulum is observed.', 'Yes, clear and dominant pigmented reticulum is observed.', 'No pigmented reticulum is observed.', 'Yes, subtle pigmented reticulum is observed.', 'Yes, clear pigmented reticulum is observed.', 'Yes, subtle pigmented reticulum is observed.', 'No pigmented reticulum is observed.', 'Yes, clear and dominant pigmented reticulum is observed.', 'Yes, clear pigmented reticulum is observed.'), ('Yes, clear pigmented reticulum is observed.', 'Yes, clear and dominant pigmented reticulum is observed.', 'Yes, clear and dominant pigmented reticulum is observed.', 'Yes, clear pigmented reticulum is observed.', 'Yes, clear and dominant pigmented reticulum is observed.', 'Yes, clear and dominant pigmented reticulum is observed.', 'Yes, clear and dominant pigmented reticulum is observed.', 'Yes, subtle pigmented reticulum is observed.', 'No pigmented reticulum is observed.', 'Yes, clear and dominant pigmented reticulum is observed.', 'Yes, subtle pigmented reticulum is observed.', 'No pigmented reticulum is observed.', 'Yes, clear and dominant pigmented reticulum is observed.', 'No pigmented reticulum is observed.', 'Yes, subtle pigmented reticulum is observed.', 'Yes, clear pigmented reticulum is observed.', 'Yes, subtle pigmented reticulum is observed.', 'No pigmented reticulum is observed.', 'Yes, clear and dominant pigmented reticulum is observed.', 'Yes, clear pigmented reticulum is observed.'), ('Yes, clear pigmented reticulum is observed.', 'Yes, clear and dominant pigmented reticulum is observed.', 'Yes, clear and dominant pigmented reticulum is observed.', 'Yes, clear pigmented reticulum is observed.', 'Yes, clear and dominant pigmented reticulum is observed.', 'Yes, clear and dominant pigmented reticulum is observed.', 'Yes, clear and dominant pigmented reticulum is observed.', 'Yes, subtle pigmented reticulum is observed.', 'No pigmented reticulum is observed.', 'Yes, clear and dominant pigmented reticulum is observed.', 'Yes, subtle pigmented reticulum is observed.', 'No pigmented reticulum is observed.', 'Yes, clear and dominant pigmented reticulum is observed.', 'No pigmented reticulum is observed.', 'Yes, subtle pigmented reticulum is observed.', 'Yes, clear pigmented reticulum is observed.', 'Yes, subtle pigmented reticulum is observed.', 'No pigmented reticulum is observed.', 'Yes, clear and dominant pigmented reticulum is observed.', 'Yes, clear pigmented reticulum is observed.'), ('Yes, clear pigmented reticulum is observed.', 'Yes, clear and dominant pigmented reticulum is observed.', 'Yes, clear and dominant pigmented reticulum is observed.', 'Yes, clear pigmented reticulum is observed.', 'Yes, clear and dominant pigmented reticulum is observed.', 'Yes, clear and dominant pigmented reticulum is observed.', 'Yes, clear and dominant pigmented reticulum is observed.', 'Yes, subtle pigmented reticulum is observed.', 'No pigmented reticulum is observed.', 'Yes, clear and dominant pigmented reticulum is observed.', 'Yes, subtle pigmented reticulum is observed.', 'No pigmented reticulum is observed.', 'Yes, clear and dominant pigmented reticulum is observed.', 'No pigmented reticulum is observed.', 'Yes, subtle pigmented reticulum is observed.', 'Yes, clear pigmented reticulum is observed.', 'Yes, subtle pigmented reticulum is observed.', 'No pigmented reticulum is observed.', 'Yes, clear and dominant pigmented reticulum is observed.', 'Yes, clear pigmented reticulum is observed.'), ('Yes, clear pigmented reticulum is observed.', 'Yes, clear and dominant pigmented reticulum is observed.', 'Yes, clear and dominant pigmented reticulum is observed.', 'Yes, clear pigmented reticulum is observed.', 'Yes, clear and dominant pigmented reticulum is observed.', 'Yes, clear and dominant pigmented reticulum is observed.', 'Yes, clear and dominant pigmented reticulum is observed.', 'Yes, subtle pigmented reticulum is observed.', 'No pigmented reticulum is observed.', 'Yes, clear and dominant pigmented reticulum is observed.', 'Yes, subtle pigmented reticulum is observed.', 'No pigmented reticulum is observed.', 'Yes, clear and dominant pigmented reticulum is observed.', 'No pigmented reticulum is observed.', 'Yes, subtle pigmented reticulum is observed.', 'Yes, clear pigmented reticulum is observed.', 'Yes, subtle pigmented reticulum is observed.', 'No pigmented reticulum is observed.', 'Yes, clear and dominant pigmented reticulum is observed.', 'Yes, clear pigmented reticulum is observed.'), ('No negative reticulum is observed.', 'No negative reticulum is observed.', 'No negative reticulum is observed.', 'No negative reticulum is observed.', 'No negative reticulum is observed.', 'No negative reticulum is observed.', 'No negative reticulum is observed.', 'No negative reticulum is observed.', 'Yes, clear negative reticulum is observed.', 'No negative reticulum is observed.', 'No negative reticulum is observed.', 'No negative reticulum is observed.', 'No negative reticulum is observed.', 'No negative reticulum is observed.', 'No negative reticulum is observed.', 'No negative reticulum is observed.', 'No negative reticulum is observed.', 'No negative reticulum is observed.', 'No negative reticulum is observed.', 'No negative reticulum is observed.'), ('No negative reticulum is observed.', 'No negative reticulum is observed.', 'No negative reticulum is observed.', 'No negative reticulum is observed.', 'No negative reticulum is observed.', 'No negative reticulum is observed.', 'No negative reticulum is observed.', 'No negative reticulum is observed.', 'Yes, clear negative reticulum is observed.', 'No negative reticulum is observed.', 'No negative reticulum is observed.', 'No negative reticulum is observed.', 'No negative reticulum is observed.', 'No negative reticulum is observed.', 'No negative reticulum is observed.', 'No negative reticulum is observed.', 'No negative reticulum is observed.', 'No negative reticulum is observed.', 'No negative reticulum is observed.', 'No negative reticulum is observed.'), ('No negative reticulum is observed.', 'No negative reticulum is observed.', 'No negative reticulum is observed.', 'No negative reticulum is observed.', 'No negative reticulum is observed.', 'No negative reticulum is observed.', 'No negative reticulum is observed.', 'No negative reticulum is observed.', 'Yes, clear negative reticulum is observed.', 'No negative reticulum is observed.', 'No negative reticulum is observed.', 'No negative reticulum is observed.', 'No negative reticulum is observed.', 'No negative reticulum is observed.', 'No negative reticulum is observed.', 'No negative reticulum is observed.', 'No negative reticulum is observed.', 'No negative reticulum is observed.', 'No negative reticulum is observed.', 'No negative reticulum is observed.'), ('No negative reticulum is observed.', 'No negative reticulum is observed.', 'No negative reticulum is observed.', 'No negative reticulum is observed.', 'No negative reticulum is observed.', 'No negative reticulum is observed.', 'No negative reticulum is observed.', 'No negative reticulum is observed.', 'Yes, clear negative reticulum is observed.', 'No negative reticulum is observed.', 'No negative reticulum is observed.', 'No negative reticulum is observed.', 'No negative reticulum is observed.', 'No negative reticulum is observed.', 'No negative reticulum is observed.', 'No negative reticulum is observed.', 'No negative reticulum is observed.', 'No negative reticulum is observed.', 'No negative reticulum is observed.', 'No negative reticulum is observed.'), ('No negative reticulum is observed.', 'No negative reticulum is observed.', 'No negative reticulum is observed.', 'No negative reticulum is observed.', 'No negative reticulum is observed.', 'No negative reticulum is observed.', 'No negative reticulum is observed.', 'No negative reticulum is observed.', 'Yes, clear negative reticulum is observed.', 'No negative reticulum is observed.', 'No negative reticulum is observed.', 'No negative reticulum is observed.', 'No negative reticulum is observed.', 'No negative reticulum is observed.', 'No negative reticulum is observed.', 'No negative reticulum is observed.', 'No negative reticulum is observed.', 'No negative reticulum is observed.', 'No negative reticulum is observed.', 'No negative reticulum is observed.'), ('No small dots/globules are present.', 'No small dots/globules are present.', 'No small dots/globules are present.', 'Yes, subtle small dots/globules are present.', 'Yes, subtle small dots/globules are present.', 'Yes, clear small dots/globules are present.', 'Yes, subtle small dots/globules are present.', 'No small dots/globules are present.', 'Yes, clear small dots/globules are present.', 'No small dots/globules are present.', 'Yes, subtle small dots/globules are present.', 'Yes, subtle small dots/globules are present.', 'Yes, subtle small dots/globules are present.', 'Yes, subtle small dots/globules are present.', 'Yes, subtle small dots/globules are present.', 'Yes, clear and dominant small dots/globules are present.', 'Yes, clear and dominant small dots/globules are present.', 'Yes, subtle small dots/globules are present.', 'No small dots/globules are present.', 'Yes, subtle small dots/globules are present.'), ('No small dots/globules are present.', 'No small dots/globules are present.', 'No small dots/globules are present.', 'Yes, subtle small dots/globules are present.', 'Yes, subtle small dots/globules are present.', 'Yes, clear small dots/globules are present.', 'Yes, subtle small dots/globules are present.', 'No small dots/globules are present.', 'Yes, clear small dots/globules are present.', 'No small dots/globules are present.', 'Yes, subtle small dots/globules are present.', 'Yes, subtle small dots/globules are present.', 'Yes, subtle small dots/globules are present.', 'Yes, subtle small dots/globules are present.', 'Yes, subtle small dots/globules are present.', 'Yes, clear and dominant small dots/globules are present.', 'Yes, clear and dominant small dots/globules are present.', 'Yes, subtle small dots/globules are present.', 'No small dots/globules are present.', 'Yes, subtle small dots/globules are present.'), ('No small dots/globules are present.', 'No small dots/globules are present.', 'No small dots/globules are present.', 'Yes, subtle small dots/globules are present.', 'Yes, subtle small dots/globules are present.', 'Yes, clear small dots/globules are present.', 'Yes, subtle small dots/globules are present.', 'No small dots/globules are present.', 'Yes, clear small dots/globules are present.', 'No small dots/globules are present.', 'Yes, subtle small dots/globules are present.', 'Yes, subtle small dots/globules are present.', 'Yes, subtle small dots/globules are present.', 'Yes, subtle small dots/globules are present.', 'Yes, subtle small dots/globules are present.', 'Yes, clear and dominant small dots/globules are present.', 'Yes, clear and dominant small dots/globules are present.', 'Yes, subtle small dots/globules are present.', 'No small dots/globules are present.', 'Yes, subtle small dots/globules are present.'), ('No small dots/globules are present.', 'No small dots/globules are present.', 'No small dots/globules are present.', 'Yes, subtle small dots/globules are present.', 'Yes, subtle small dots/globules are present.', 'Yes, clear small dots/globules are present.', 'Yes, subtle small dots/globules are present.', 'No small dots/globules are present.', 'Yes, clear small dots/globules are present.', 'No small dots/globules are present.', 'Yes, subtle small dots/globules are present.', 'Yes, subtle small dots/globules are present.', 'Yes, subtle small dots/globules are present.', 'Yes, subtle small dots/globules are present.', 'Yes, subtle small dots/globules are present.', 'Yes, clear and dominant small dots/globules are present.', 'Yes, clear and dominant small dots/globules are present.', 'Yes, subtle small dots/globules are present.', 'No small dots/globules are present.', 'Yes, subtle small dots/globules are present.'), ('No small dots/globules are present.', 'No small dots/globules are present.', 'No small dots/globules are present.', 'Yes, subtle small dots/globules are present.', 'Yes, subtle small dots/globules are present.', 'Yes, clear small dots/globules are present.', 'Yes, subtle small dots/globules are present.', 'No small dots/globules are present.', 'Yes, clear small dots/globules are present.', 'No small dots/globules are present.', 'Yes, subtle small dots/globules are present.', 'Yes, subtle small dots/globules are present.', 'Yes, subtle small dots/globules are present.', 'Yes, subtle small dots/globules are present.', 'Yes, subtle small dots/globules are present.', 'Yes, clear and dominant small dots/globules are present.', 'Yes, clear and dominant small dots/globules are present.', 'Yes, subtle small dots/globules are present.', 'No small dots/globules are present.', 'Yes, subtle small dots/globules are present.'), ('No large globules/cobblestone are observed.', 'No large globules/cobblestone are observed.', 'No large globules/cobblestone are observed.', 'No large globules/cobblestone are observed.', 'No large globules/cobblestone are observed.', 'No large globules/cobblestone are observed.', 'No large globules/cobblestone are observed.', 'No large globules/cobblestone are observed.', 'No large globules/cobblestone are observed.', 'No large globules/cobblestone are observed.', 'No large globules/cobblestone are observed.', 'No large globules/cobblestone are observed.', 'No large globules/cobblestone are observed.', 'Yes, clear and dominant large globules/cobblestone are observed.', 'Yes, subtle large globules/cobblestone are observed.', 'No large globules/cobblestone are observed.', 'Yes, clear large globules/cobblestone are observed.', 'No large globules/cobblestone are observed.', 'No large globules/cobblestone are observed.', 'No large globules/cobblestone are observed.'), ('No large globules/cobblestone are observed.', 'No large globules/cobblestone are observed.', 'No large globules/cobblestone are observed.', 'No large globules/cobblestone are observed.', 'No large globules/cobblestone are observed.', 'No large globules/cobblestone are observed.', 'No large globules/cobblestone are observed.', 'No large globules/cobblestone are observed.', 'No large globules/cobblestone are observed.', 'No large globules/cobblestone are observed.', 'No large globules/cobblestone are observed.', 'No large globules/cobblestone are observed.', 'No large globules/cobblestone are observed.', 'Yes, clear and dominant large globules/cobblestone are observed.', 'Yes, subtle large globules/cobblestone are observed.', 'No large globules/cobblestone are observed.', 'Yes, clear large globules/cobblestone are observed.', 'No large globules/cobblestone are observed.', 'No large globules/cobblestone are observed.', 'No large globules/cobblestone are observed.'), ('No large globules/cobblestone are observed.', 'No large globules/cobblestone are observed.', 'No large globules/cobblestone are observed.', 'No large globules/cobblestone are observed.', 'No large globules/cobblestone are observed.', 'No large globules/cobblestone are observed.', 'No large globules/cobblestone are observed.', 'No large globules/cobblestone are observed.', 'No large globules/cobblestone are observed.', 'No large globules/cobblestone are observed.', 'No large globules/cobblestone are observed.', 'No large globules/cobblestone are observed.', 'No large globules/cobblestone are observed.', 'Yes, clear and dominant large globules/cobblestone are observed.', 'Yes, subtle large globules/cobblestone are observed.', 'No large globules/cobblestone are observed.', 'Yes, clear large globules/cobblestone are observed.', 'No large globules/cobblestone are observed.', 'No large globules/cobblestone are observed.', 'No large globules/cobblestone are observed.'), ('No large globules/cobblestone are observed.', 'No large globules/cobblestone are observed.', 'No large globules/cobblestone are observed.', 'No large globules/cobblestone are observed.', 'No large globules/cobblestone are observed.', 'No large globules/cobblestone are observed.', 'No large globules/cobblestone are observed.', 'No large globules/cobblestone are observed.', 'No large globules/cobblestone are observed.', 'No large globules/cobblestone are observed.', 'No large globules/cobblestone are observed.', 'No large globules/cobblestone are observed.', 'No large globules/cobblestone are observed.', 'Yes, clear and dominant large globules/cobblestone are observed.', 'Yes, subtle large globules/cobblestone are observed.', 'No large globules/cobblestone are observed.', 'Yes, clear large globules/cobblestone are observed.', 'No large globules/cobblestone are observed.', 'No large globules/cobblestone are observed.', 'No large globules/cobblestone are observed.'), ('No large globules/cobblestone are observed.', 'No large globules/cobblestone are observed.', 'No large globules/cobblestone are observed.', 'No large globules/cobblestone are observed.', 'No large globules/cobblestone are observed.', 'No large globules/cobblestone are observed.', 'No large globules/cobblestone are observed.', 'No large globules/cobblestone are observed.', 'No large globules/cobblestone are observed.', 'No large globules/cobblestone are observed.', 'No large globules/cobblestone are observed.', 'No large globules/cobblestone are observed.', 'No large globules/cobblestone are observed.', 'Yes, clear and dominant large globules/cobblestone are observed.', 'Yes, subtle large globules/cobblestone are observed.', 'No large globules/cobblestone are observed.', 'Yes, clear large globules/cobblestone are observed.', 'No large globules/cobblestone are observed.', 'No large globules/cobblestone are observed.', 'No large globules/cobblestone are observed.'), ('No peripheral globules are observed.', 'Yes, clear peripheral globules are observed.', 'No peripheral globules are observed.', 'No peripheral globules are observed.', 'No peripheral globules are observed.', 'No peripheral globules are observed.', 'No peripheral globules are observed.', 'Yes, clear peripheral globules are observed.', 'No peripheral globules are observed.', 'No peripheral globules are observed.', 'Yes, subtle peripheral globules are observed.', 'No peripheral globules are observed.', 'No peripheral globules are observed.', 'Yes, subtle peripheral globules are observed.', 'No peripheral globules are observed.', 'No peripheral globules are observed.', 'No peripheral globules are observed.', 'No peripheral globules are observed.', 'No peripheral globules are observed.', 'No peripheral globules are observed.'), ('No peripheral globules are observed.', 'Yes, clear peripheral globules are observed.', 'No peripheral globules are observed.', 'No peripheral globules are observed.', 'No peripheral globules are observed.', 'No peripheral globules are observed.', 'No peripheral globules are observed.', 'Yes, clear peripheral globules are observed.', 'No peripheral globules are observed.', 'No peripheral globules are observed.', 'Yes, subtle peripheral globules are observed.', 'No peripheral globules are observed.', 'No peripheral globules are observed.', 'Yes, subtle peripheral globules are observed.', 'No peripheral globules are observed.', 'No peripheral globules are observed.', 'No peripheral globules are observed.', 'No peripheral globules are observed.', 'No peripheral globules are observed.', 'No peripheral globules are observed.'), ('No peripheral globules are observed.', 'Yes, clear peripheral globules are observed.', 'No peripheral globules are observed.', 'No peripheral globules are observed.', 'No peripheral globules are observed.', 'No peripheral globules are observed.', 'No peripheral globules are observed.', 'Yes, clear peripheral globules are observed.', 'No peripheral globules are observed.', 'No peripheral globules are observed.', 'Yes, subtle peripheral globules are observed.', 'No peripheral globules are observed.', 'No peripheral globules are observed.', 'Yes, subtle peripheral globules are observed.', 'No peripheral globules are observed.', 'No peripheral globules are observed.', 'No peripheral globules are observed.', 'No peripheral globules are observed.', 'No peripheral globules are observed.', 'No peripheral globules are observed.'), ('No peripheral globules are observed.', 'Yes, clear peripheral globules are observed.', 'No peripheral globules are observed.', 'No peripheral globules are observed.', 'No peripheral globules are observed.', 'No peripheral globules are observed.', 'No peripheral globules are observed.', 'Yes, clear peripheral globules are observed.', 'No peripheral globules are observed.', 'No peripheral globules are observed.', 'Yes, subtle peripheral globules are observed.', 'No peripheral globules are observed.', 'No peripheral globules are observed.', 'Yes, subtle peripheral globules are observed.', 'No peripheral globules are observed.', 'No peripheral globules are observed.', 'No peripheral globules are observed.', 'No peripheral globules are observed.', 'No peripheral globules are observed.', 'No peripheral globules are observed.'), ('No peripheral globules are observed.', 'Yes, clear peripheral globules are observed.', 'No peripheral globules are observed.', 'No peripheral globules are observed.', 'No peripheral globules are observed.', 'No peripheral globules are observed.', 'No peripheral globules are observed.', 'Yes, clear peripheral globules are observed.', 'No peripheral globules are observed.', 'No peripheral globules are observed.', 'Yes, subtle peripheral globules are observed.', 'No peripheral globules are observed.', 'No peripheral globules are observed.', 'Yes, subtle peripheral globules are observed.', 'No peripheral globules are observed.', 'No peripheral globules are observed.', 'No peripheral globules are observed.', 'No peripheral globules are observed.', 'No peripheral globules are observed.', 'No peripheral globules are observed.'), ('No peripheral projections are present.', 'Yes, subtle peripheral projections are present.', 'No peripheral projections are present.', 'No peripheral projections are present.', 'No peripheral projections are present.', 'No peripheral projections are present.', 'No peripheral projections are present.', 'No peripheral projections are present.', 'No peripheral projections are present.', 'No peripheral projections are present.', 'Yes, subtle peripheral projections are present.', 'No peripheral projections are present.', 'Yes, subtle peripheral projections are present.', 'No peripheral projections are present.', 'No peripheral projections are present.', 'No peripheral projections are present.', 'No peripheral projections are present.', 'No peripheral projections are present.', 'No peripheral projections are present.', 'No peripheral projections are present.'), ('No peripheral projections are present.', 'Yes, subtle peripheral projections are present.', 'No peripheral projections are present.', 'No peripheral projections are present.', 'No peripheral projections are present.', 'No peripheral projections are present.', 'No peripheral projections are present.', 'No peripheral projections are present.', 'No peripheral projections are present.', 'No peripheral projections are present.', 'Yes, subtle peripheral projections are present.', 'No peripheral projections are present.', 'Yes, subtle peripheral projections are present.', 'No peripheral projections are present.', 'No peripheral projections are present.', 'No peripheral projections are present.', 'No peripheral projections are present.', 'No peripheral projections are present.', 'No peripheral projections are present.', 'No peripheral projections are present.'), ('No peripheral projections are present.', 'Yes, subtle peripheral projections are present.', 'No peripheral projections are present.', 'No peripheral projections are present.', 'No peripheral projections are present.', 'No peripheral projections are present.', 'No peripheral projections are present.', 'No peripheral projections are present.', 'No peripheral projections are present.', 'No peripheral projections are present.', 'Yes, subtle peripheral projections are present.', 'No peripheral projections are present.', 'Yes, subtle peripheral projections are present.', 'No peripheral projections are present.', 'No peripheral projections are present.', 'No peripheral projections are present.', 'No peripheral projections are present.', 'No peripheral projections are present.', 'No peripheral projections are present.', 'No peripheral projections are present.'), ('No peripheral projections are present.', 'Yes, subtle peripheral projections are present.', 'No peripheral projections are present.', 'No peripheral projections are present.', 'No peripheral projections are present.', 'No peripheral projections are present.', 'No peripheral projections are present.', 'No peripheral projections are present.', 'No peripheral projections are present.', 'No peripheral projections are present.', 'Yes, subtle peripheral projections are present.', 'No peripheral projections are present.', 'Yes, subtle peripheral projections are present.', 'No peripheral projections are present.', 'No peripheral projections are present.', 'No peripheral projections are present.', 'No peripheral projections are present.', 'No peripheral projections are present.', 'No peripheral projections are present.', 'No peripheral projections are present.'), ('No peripheral projections are present.', 'Yes, subtle peripheral projections are present.', 'No peripheral projections are present.', 'No peripheral projections are present.', 'No peripheral projections are present.', 'No peripheral projections are present.', 'No peripheral projections are present.', 'No peripheral projections are present.', 'No peripheral projections are present.', 'No peripheral projections are present.', 'Yes, subtle peripheral projections are present.', 'No peripheral projections are present.', 'Yes, subtle peripheral projections are present.', 'No peripheral projections are present.', 'No peripheral projections are present.', 'No peripheral projections are present.', 'No peripheral projections are present.', 'No peripheral projections are present.', 'No peripheral projections are present.', 'No peripheral projections are present.'), ('Yes, clear homogeneous area without vessels is observed.', 'No homogeneous area without vessels is observed.', 'No homogeneous area without vessels is observed.', 'Yes, clear homogeneous area without vessels is observed.', 'Yes, subtle homogeneous area without vessels is observed.', 'Yes, subtle homogeneous area without vessels is observed.', 'Yes, clear homogeneous area without vessels is observed.', 'Yes, clear and dominant homogeneous area without vessels is observed.', 'Yes, subtle homogeneous area without vessels is observed.', 'Yes, clear homogeneous area without vessels is observed.', 'Yes, clear and dominant homogeneous area without vessels is observed.', 'Yes, clear homogeneous area without vessels is observed.', 'No homogeneous area without vessels is observed.', 'No homogeneous area without vessels is observed.', 'No homogeneous area without vessels is observed.', 'Yes, subtle homogeneous area without vessels is observed.', 'Yes, subtle homogeneous area without vessels is observed.', 'Yes, clear and dominant homogeneous area without vessels is observed.', 'Yes, clear homogeneous area without vessels is observed.', 'Yes, subtle homogeneous area without vessels is observed.'), ('Yes, clear homogeneous area without vessels is observed.', 'No homogeneous area without vessels is observed.', 'No homogeneous area without vessels is observed.', 'Yes, clear homogeneous area without vessels is observed.', 'Yes, subtle homogeneous area without vessels is observed.', 'Yes, subtle homogeneous area without vessels is observed.', 'Yes, clear homogeneous area without vessels is observed.', 'Yes, clear and dominant homogeneous area without vessels is observed.', 'Yes, subtle homogeneous area without vessels is observed.', 'Yes, clear homogeneous area without vessels is observed.', 'Yes, clear and dominant homogeneous area without vessels is observed.', 'Yes, clear homogeneous area without vessels is observed.', 'No homogeneous area without vessels is observed.', 'No homogeneous area without vessels is observed.', 'No homogeneous area without vessels is observed.', 'Yes, subtle homogeneous area without vessels is observed.', 'Yes, subtle homogeneous area without vessels is observed.', 'Yes, clear and dominant homogeneous area without vessels is observed.', 'Yes, clear homogeneous area without vessels is observed.', 'Yes, subtle homogeneous area without vessels is observed.'), ('Yes, clear homogeneous area without vessels is observed.', 'No homogeneous area without vessels is observed.', 'No homogeneous area without vessels is observed.', 'Yes, clear homogeneous area without vessels is observed.', 'Yes, subtle homogeneous area without vessels is observed.', 'Yes, subtle homogeneous area without vessels is observed.', 'Yes, clear homogeneous area without vessels is observed.', 'Yes, clear and dominant homogeneous area without vessels is observed.', 'Yes, subtle homogeneous area without vessels is observed.', 'Yes, clear homogeneous area without vessels is observed.', 'Yes, clear and dominant homogeneous area without vessels is observed.', 'Yes, clear homogeneous area without vessels is observed.', 'No homogeneous area without vessels is observed.', 'No homogeneous area without vessels is observed.', 'No homogeneous area without vessels is observed.', 'Yes, subtle homogeneous area without vessels is observed.', 'Yes, subtle homogeneous area without vessels is observed.', 'Yes, clear and dominant homogeneous area without vessels is observed.', 'Yes, clear homogeneous area without vessels is observed.', 'Yes, subtle homogeneous area without vessels is observed.'), ('Yes, clear homogeneous area without vessels is observed.', 'No homogeneous area without vessels is observed.', 'No homogeneous area without vessels is observed.', 'Yes, clear homogeneous area without vessels is observed.', 'Yes, subtle homogeneous area without vessels is observed.', 'Yes, subtle homogeneous area without vessels is observed.', 'Yes, clear homogeneous area without vessels is observed.', 'Yes, clear and dominant homogeneous area without vessels is observed.', 'Yes, subtle homogeneous area without vessels is observed.', 'Yes, clear homogeneous area without vessels is observed.', 'Yes, clear and dominant homogeneous area without vessels is observed.', 'Yes, clear homogeneous area without vessels is observed.', 'No homogeneous area without vessels is observed.', 'No homogeneous area without vessels is observed.', 'No homogeneous area without vessels is observed.', 'Yes, subtle homogeneous area without vessels is observed.', 'Yes, subtle homogeneous area without vessels is observed.', 'Yes, clear and dominant homogeneous area without vessels is observed.', 'Yes, clear homogeneous area without vessels is observed.', 'Yes, subtle homogeneous area without vessels is observed.'), ('Yes, clear homogeneous area without vessels is observed.', 'No homogeneous area without vessels is observed.', 'No homogeneous area without vessels is observed.', 'Yes, clear homogeneous area without vessels is observed.', 'Yes, subtle homogeneous area without vessels is observed.', 'Yes, subtle homogeneous area without vessels is observed.', 'Yes, clear homogeneous area without vessels is observed.', 'Yes, clear and dominant homogeneous area without vessels is observed.', 'Yes, subtle homogeneous area without vessels is observed.', 'Yes, clear homogeneous area without vessels is observed.', 'Yes, clear and dominant homogeneous area without vessels is observed.', 'Yes, clear homogeneous area without vessels is observed.', 'No homogeneous area without vessels is observed.', 'No homogeneous area without vessels is observed.', 'No homogeneous area without vessels is observed.', 'Yes, subtle homogeneous area without vessels is observed.', 'Yes, subtle homogeneous area without vessels is observed.', 'Yes, clear and dominant homogeneous area without vessels is observed.', 'Yes, clear homogeneous area without vessels is observed.', 'Yes, subtle homogeneous area without vessels is observed.'), ('No homogeneous area with vessels is observed.', 'No homogeneous area with vessels is observed.', 'No homogeneous area with vessels is observed.', 'Yes, clear and dominant homogeneous area with vessels is observed.', 'No homogeneous area with vessels is observed.', 'No homogeneous area with vessels is observed.', 'No homogeneous area with vessels is observed.', 'No homogeneous area with vessels is observed.', 'No homogeneous area with vessels is observed.', 'No homogeneous area with vessels is observed.', 'No homogeneous area with vessels is observed.', 'No homogeneous area with vessels is observed.', 'No homogeneous area with vessels is observed.', 'No homogeneous area with vessels is observed.', 'No homogeneous area with vessels is observed.', 'No homogeneous area with vessels is observed.', 'No homogeneous area with vessels is observed.', 'No homogeneous area with vessels is observed.', 'No homogeneous area with vessels is observed.', 'No homogeneous area with vessels is observed.'), ('No homogeneous area with vessels is observed.', 'No homogeneous area with vessels is observed.', 'No homogeneous area with vessels is observed.', 'Yes, clear and dominant homogeneous area with vessels is observed.', 'No homogeneous area with vessels is observed.', 'No homogeneous area with vessels is observed.', 'No homogeneous area with vessels is observed.', 'No homogeneous area with vessels is observed.', 'No homogeneous area with vessels is observed.', 'No homogeneous area with vessels is observed.', 'No homogeneous area with vessels is observed.', 'No homogeneous area with vessels is observed.', 'No homogeneous area with vessels is observed.', 'No homogeneous area with vessels is observed.', 'No homogeneous area with vessels is observed.', 'No homogeneous area with vessels is observed.', 'No homogeneous area with vessels is observed.', 'No homogeneous area with vessels is observed.', 'No homogeneous area with vessels is observed.', 'No homogeneous area with vessels is observed.'), ('No homogeneous area with vessels is observed.', 'No homogeneous area with vessels is observed.', 'No homogeneous area with vessels is observed.', 'Yes, clear and dominant homogeneous area with vessels is observed.', 'No homogeneous area with vessels is observed.', 'No homogeneous area with vessels is observed.', 'No homogeneous area with vessels is observed.', 'No homogeneous area with vessels is observed.', 'No homogeneous area with vessels is observed.', 'No homogeneous area with vessels is observed.', 'No homogeneous area with vessels is observed.', 'No homogeneous area with vessels is observed.', 'No homogeneous area with vessels is observed.', 'No homogeneous area with vessels is observed.', 'No homogeneous area with vessels is observed.', 'No homogeneous area with vessels is observed.', 'No homogeneous area with vessels is observed.', 'No homogeneous area with vessels is observed.', 'No homogeneous area with vessels is observed.', 'No homogeneous area with vessels is observed.'), ('No homogeneous area with vessels is observed.', 'No homogeneous area with vessels is observed.', 'No homogeneous area with vessels is observed.', 'Yes, clear and dominant homogeneous area with vessels is observed.', 'No homogeneous area with vessels is observed.', 'No homogeneous area with vessels is observed.', 'No homogeneous area with vessels is observed.', 'No homogeneous area with vessels is observed.', 'No homogeneous area with vessels is observed.', 'No homogeneous area with vessels is observed.', 'No homogeneous area with vessels is observed.', 'No homogeneous area with vessels is observed.', 'No homogeneous area with vessels is observed.', 'No homogeneous area with vessels is observed.', 'No homogeneous area with vessels is observed.', 'No homogeneous area with vessels is observed.', 'No homogeneous area with vessels is observed.', 'No homogeneous area with vessels is observed.', 'No homogeneous area with vessels is observed.', 'No homogeneous area with vessels is observed.'), ('No homogeneous area with vessels is observed.', 'No homogeneous area with vessels is observed.', 'No homogeneous area with vessels is observed.', 'Yes, clear and dominant homogeneous area with vessels is observed.', 'No homogeneous area with vessels is observed.', 'No homogeneous area with vessels is observed.', 'No homogeneous area with vessels is observed.', 'No homogeneous area with vessels is observed.', 'No homogeneous area with vessels is observed.', 'No homogeneous area with vessels is observed.', 'No homogeneous area with vessels is observed.', 'No homogeneous area with vessels is observed.', 'No homogeneous area with vessels is observed.', 'No homogeneous area with vessels is observed.', 'No homogeneous area with vessels is observed.', 'No homogeneous area with vessels is observed.', 'No homogeneous area with vessels is observed.', 'No homogeneous area with vessels is observed.', 'No homogeneous area with vessels is observed.', 'No homogeneous area with vessels is observed.'), ('Yes, clear and dominant undefined area is observed.', 'No undefined area is observed.', 'Yes, clear undefined area is observed.', 'Yes, subtle undefined area is observed.', 'No undefined area is observed.', 'No undefined area is observed.', 'No undefined area is observed.', 'No undefined area is observed.', 'Yes, clear undefined area is observed.', 'No undefined area is observed.', 'Yes, clear undefined area is observed.', 'Yes, clear and dominant undefined area is observed.', 'Yes, clear undefined area is observed.', 'Yes, subtle undefined area is observed.', 'Yes, clear and dominant undefined area is observed.', 'Yes, subtle undefined area is observed.', 'Yes, subtle undefined area is observed.', 'No undefined area is observed.', 'No undefined area is observed.', 'Yes, clear and dominant undefined area is observed.'), ('Yes, clear and dominant undefined area is observed.', 'No undefined area is observed.', 'Yes, clear undefined area is observed.', 'Yes, subtle undefined area is observed.', 'No undefined area is observed.', 'No undefined area is observed.', 'No undefined area is observed.', 'No undefined area is observed.', 'Yes, clear undefined area is observed.', 'No undefined area is observed.', 'Yes, clear undefined area is observed.', 'Yes, clear and dominant undefined area is observed.', 'Yes, clear undefined area is observed.', 'Yes, subtle undefined area is observed.', 'Yes, clear and dominant undefined area is observed.', 'Yes, subtle undefined area is observed.', 'Yes, subtle undefined area is observed.', 'No undefined area is observed.', 'No undefined area is observed.', 'Yes, clear and dominant undefined area is observed.'), ('Yes, clear and dominant undefined area is observed.', 'No undefined area is observed.', 'Yes, clear undefined area is observed.', 'Yes, subtle undefined area is observed.', 'No undefined area is observed.', 'No undefined area is observed.', 'No undefined area is observed.', 'No undefined area is observed.', 'Yes, clear undefined area is observed.', 'No undefined area is observed.', 'Yes, clear undefined area is observed.', 'Yes, clear and dominant undefined area is observed.', 'Yes, clear undefined area is observed.', 'Yes, subtle undefined area is observed.', 'Yes, clear and dominant undefined area is observed.', 'Yes, subtle undefined area is observed.', 'Yes, subtle undefined area is observed.', 'No undefined area is observed.', 'No undefined area is observed.', 'Yes, clear and dominant undefined area is observed.'), ('Yes, clear and dominant undefined area is observed.', 'No undefined area is observed.', 'Yes, clear undefined area is observed.', 'Yes, subtle undefined area is observed.', 'No undefined area is observed.', 'No undefined area is observed.', 'No undefined area is observed.', 'No undefined area is observed.', 'Yes, clear undefined area is observed.', 'No undefined area is observed.', 'Yes, clear undefined area is observed.', 'Yes, clear and dominant undefined area is observed.', 'Yes, clear undefined area is observed.', 'Yes, subtle undefined area is observed.', 'Yes, clear and dominant undefined area is observed.', 'Yes, subtle undefined area is observed.', 'Yes, subtle undefined area is observed.', 'No undefined area is observed.', 'No undefined area is observed.', 'Yes, clear and dominant undefined area is observed.'), ('Yes, clear and dominant undefined area is observed.', 'No undefined area is observed.', 'Yes, clear undefined area is observed.', 'Yes, subtle undefined area is observed.', 'No undefined area is observed.', 'No undefined area is observed.', 'No undefined area is observed.', 'No undefined area is observed.', 'Yes, clear undefined area is observed.', 'No undefined area is observed.', 'Yes, clear undefined area is observed.', 'Yes, clear and dominant undefined area is observed.', 'Yes, clear undefined area is observed.', 'Yes, subtle undefined area is observed.', 'Yes, clear and dominant undefined area is observed.', 'Yes, subtle undefined area is observed.', 'Yes, subtle undefined area is observed.', 'No undefined area is observed.', 'No undefined area is observed.', 'Yes, clear and dominant undefined area is observed.'), ('No gray regression is observed.', 'No gray regression is observed.', 'Yes, subtle gray regression is observed.', 'No gray regression is observed.', 'No gray regression is observed.', 'No gray regression is observed.', 'No gray regression is observed.', 'No gray regression is observed.', 'Yes, clear gray regression is observed.', 'No gray regression is observed.', 'No gray regression is observed.', 'No gray regression is observed.', 'No gray regression is observed.', 'No gray regression is observed.', 'Yes, clear gray regression is observed.', 'No gray regression is observed.', 'No gray regression is observed.', 'No gray regression is observed.', 'No gray regression is observed.', 'No gray regression is observed.'), ('No gray regression is observed.', 'No gray regression is observed.', 'Yes, subtle gray regression is observed.', 'No gray regression is observed.', 'No gray regression is observed.', 'No gray regression is observed.', 'No gray regression is observed.', 'No gray regression is observed.', 'Yes, clear gray regression is observed.', 'No gray regression is observed.', 'No gray regression is observed.', 'No gray regression is observed.', 'No gray regression is observed.', 'No gray regression is observed.', 'Yes, clear gray regression is observed.', 'No gray regression is observed.', 'No gray regression is observed.', 'No gray regression is observed.', 'No gray regression is observed.', 'No gray regression is observed.'), ('No gray regression is observed.', 'No gray regression is observed.', 'Yes, subtle gray regression is observed.', 'No gray regression is observed.', 'No gray regression is observed.', 'No gray regression is observed.', 'No gray regression is observed.', 'No gray regression is observed.', 'Yes, clear gray regression is observed.', 'No gray regression is observed.', 'No gray regression is observed.', 'No gray regression is observed.', 'No gray regression is observed.', 'No gray regression is observed.', 'Yes, clear gray regression is observed.', 'No gray regression is observed.', 'No gray regression is observed.', 'No gray regression is observed.', 'No gray regression is observed.', 'No gray regression is observed.'), ('No gray regression is observed.', 'No gray regression is observed.', 'Yes, subtle gray regression is observed.', 'No gray regression is observed.', 'No gray regression is observed.', 'No gray regression is observed.', 'No gray regression is observed.', 'No gray regression is observed.', 'Yes, clear gray regression is observed.', 'No gray regression is observed.', 'No gray regression is observed.', 'No gray regression is observed.', 'No gray regression is observed.', 'No gray regression is observed.', 'Yes, clear gray regression is observed.', 'No gray regression is observed.', 'No gray regression is observed.', 'No gray regression is observed.', 'No gray regression is observed.', 'No gray regression is observed.'), ('No gray regression is observed.', 'No gray regression is observed.', 'Yes, subtle gray regression is observed.', 'No gray regression is observed.', 'No gray regression is observed.', 'No gray regression is observed.', 'No gray regression is observed.', 'No gray regression is observed.', 'Yes, clear gray regression is observed.', 'No gray regression is observed.', 'No gray regression is observed.', 'No gray regression is observed.', 'No gray regression is observed.', 'No gray regression is observed.', 'Yes, clear gray regression is observed.', 'No gray regression is observed.', 'No gray regression is observed.', 'No gray regression is observed.', 'No gray regression is observed.', 'No gray regression is observed.'), ('No white regression is observed.', 'No white regression is observed.', 'No white regression is observed.', 'No white regression is observed.', 'No white regression is observed.', 'No white regression is observed.', 'No white regression is observed.', 'No white regression is observed.', 'No white regression is observed.', 'No white regression is observed.', 'No white regression is observed.', 'No white regression is observed.', 'No white regression is observed.', 'No white regression is observed.', 'No white regression is observed.', 'No white regression is observed.', 'No white regression is observed.', 'No white regression is observed.', 'No white regression is observed.', 'No white regression is observed.'), ('No white regression is observed.', 'No white regression is observed.', 'No white regression is observed.', 'No white regression is observed.', 'No white regression is observed.', 'No white regression is observed.', 'No white regression is observed.', 'No white regression is observed.', 'No white regression is observed.', 'No white regression is observed.', 'No white regression is observed.', 'No white regression is observed.', 'No white regression is observed.', 'No white regression is observed.', 'No white regression is observed.', 'No white regression is observed.', 'No white regression is observed.', 'No white regression is observed.', 'No white regression is observed.', 'No white regression is observed.'), ('No white regression is observed.', 'No white regression is observed.', 'No white regression is observed.', 'No white regression is observed.', 'No white regression is observed.', 'No white regression is observed.', 'No white regression is observed.', 'No white regression is observed.', 'No white regression is observed.', 'No white regression is observed.', 'No white regression is observed.', 'No white regression is observed.', 'No white regression is observed.', 'No white regression is observed.', 'No white regression is observed.', 'No white regression is observed.', 'No white regression is observed.', 'No white regression is observed.', 'No white regression is observed.', 'No white regression is observed.'), ('No white regression is observed.', 'No white regression is observed.', 'No white regression is observed.', 'No white regression is observed.', 'No white regression is observed.', 'No white regression is observed.', 'No white regression is observed.', 'No white regression is observed.', 'No white regression is observed.', 'No white regression is observed.', 'No white regression is observed.', 'No white regression is observed.', 'No white regression is observed.', 'No white regression is observed.', 'No white regression is observed.', 'No white regression is observed.', 'No white regression is observed.', 'No white regression is observed.', 'No white regression is observed.', 'No white regression is observed.'), ('No white regression is observed.', 'No white regression is observed.', 'No white regression is observed.', 'No white regression is observed.', 'No white regression is observed.', 'No white regression is observed.', 'No white regression is observed.', 'No white regression is observed.', 'No white regression is observed.', 'No white regression is observed.', 'No white regression is observed.', 'No white regression is observed.', 'No white regression is observed.', 'No white regression is observed.', 'No white regression is observed.', 'No white regression is observed.', 'No white regression is observed.', 'No white regression is observed.', 'No white regression is observed.', 'No white regression is observed.'), ('No whitish blue veil is observed.', 'No whitish blue veil is observed.', 'No whitish blue veil is observed.', 'No whitish blue veil is observed.', 'No whitish blue veil is observed.', 'No whitish blue veil is observed.', 'No whitish blue veil is observed.', 'No whitish blue veil is observed.', 'Yes, subtle whitish blue veil is observed.', 'No whitish blue veil is observed.', 'Yes, clear whitish blue veil is observed.', 'No whitish blue veil is observed.', 'No whitish blue veil is observed.', 'No whitish blue veil is observed.', 'No whitish blue veil is observed.', 'No whitish blue veil is observed.', 'No whitish blue veil is observed.', 'No whitish blue veil is observed.', 'No whitish blue veil is observed.', 'Yes, subtle whitish blue veil is observed.'), ('No whitish blue veil is observed.', 'No whitish blue veil is observed.', 'No whitish blue veil is observed.', 'No whitish blue veil is observed.', 'No whitish blue veil is observed.', 'No whitish blue veil is observed.', 'No whitish blue veil is observed.', 'No whitish blue veil is observed.', 'Yes, subtle whitish blue veil is observed.', 'No whitish blue veil is observed.', 'Yes, clear whitish blue veil is observed.', 'No whitish blue veil is observed.', 'No whitish blue veil is observed.', 'No whitish blue veil is observed.', 'No whitish blue veil is observed.', 'No whitish blue veil is observed.', 'No whitish blue veil is observed.', 'No whitish blue veil is observed.', 'No whitish blue veil is observed.', 'Yes, subtle whitish blue veil is observed.'), ('No whitish blue veil is observed.', 'No whitish blue veil is observed.', 'No whitish blue veil is observed.', 'No whitish blue veil is observed.', 'No whitish blue veil is observed.', 'No whitish blue veil is observed.', 'No whitish blue veil is observed.', 'No whitish blue veil is observed.', 'Yes, subtle whitish blue veil is observed.', 'No whitish blue veil is observed.', 'Yes, clear whitish blue veil is observed.', 'No whitish blue veil is observed.', 'No whitish blue veil is observed.', 'No whitish blue veil is observed.', 'No whitish blue veil is observed.', 'No whitish blue veil is observed.', 'No whitish blue veil is observed.', 'No whitish blue veil is observed.', 'No whitish blue veil is observed.', 'Yes, subtle whitish blue veil is observed.'), ('No whitish blue veil is observed.', 'No whitish blue veil is observed.', 'No whitish blue veil is observed.', 'No whitish blue veil is observed.', 'No whitish blue veil is observed.', 'No whitish blue veil is observed.', 'No whitish blue veil is observed.', 'No whitish blue veil is observed.', 'Yes, subtle whitish blue veil is observed.', 'No whitish blue veil is observed.', 'Yes, clear whitish blue veil is observed.', 'No whitish blue veil is observed.', 'No whitish blue veil is observed.', 'No whitish blue veil is observed.', 'No whitish blue veil is observed.', 'No whitish blue veil is observed.', 'No whitish blue veil is observed.', 'No whitish blue veil is observed.', 'No whitish blue veil is observed.', 'Yes, subtle whitish blue veil is observed.'), ('No whitish blue veil is observed.', 'No whitish blue veil is observed.', 'No whitish blue veil is observed.', 'No whitish blue veil is observed.', 'No whitish blue veil is observed.', 'No whitish blue veil is observed.', 'No whitish blue veil is observed.', 'No whitish blue veil is observed.', 'Yes, subtle whitish blue veil is observed.', 'No whitish blue veil is observed.', 'Yes, clear whitish blue veil is observed.', 'No whitish blue veil is observed.', 'No whitish blue veil is observed.', 'No whitish blue veil is observed.', 'No whitish blue veil is observed.', 'No whitish blue veil is observed.', 'No whitish blue veil is observed.', 'No whitish blue veil is observed.', 'No whitish blue veil is observed.', 'Yes, subtle whitish blue veil is observed.'), ('No chrysalis is observed.', 'No chrysalis is observed.', 'No chrysalis is observed.', 'No chrysalis is observed.', 'No chrysalis is observed.', 'No chrysalis is observed.', 'No chrysalis is observed.', 'No chrysalis is observed.', 'No chrysalis is observed.', 'No chrysalis is observed.', 'No chrysalis is observed.', 'No chrysalis is observed.', 'No chrysalis is observed.', 'No chrysalis is observed.', 'No chrysalis is observed.', 'No chrysalis is observed.', 'No chrysalis is observed.', 'No chrysalis is observed.', 'No chrysalis is observed.', 'No chrysalis is observed.'), ('No chrysalis is observed.', 'No chrysalis is observed.', 'No chrysalis is observed.', 'No chrysalis is observed.', 'No chrysalis is observed.', 'No chrysalis is observed.', 'No chrysalis is observed.', 'No chrysalis is observed.', 'No chrysalis is observed.', 'No chrysalis is observed.', 'No chrysalis is observed.', 'No chrysalis is observed.', 'No chrysalis is observed.', 'No chrysalis is observed.', 'No chrysalis is observed.', 'No chrysalis is observed.', 'No chrysalis is observed.', 'No chrysalis is observed.', 'No chrysalis is observed.', 'No chrysalis is observed.'), ('No chrysalis is observed.', 'No chrysalis is observed.', 'No chrysalis is observed.', 'No chrysalis is observed.', 'No chrysalis is observed.', 'No chrysalis is observed.', 'No chrysalis is observed.', 'No chrysalis is observed.', 'No chrysalis is observed.', 'No chrysalis is observed.', 'No chrysalis is observed.', 'No chrysalis is observed.', 'No chrysalis is observed.', 'No chrysalis is observed.', 'No chrysalis is observed.', 'No chrysalis is observed.', 'No chrysalis is observed.', 'No chrysalis is observed.', 'No chrysalis is observed.', 'No chrysalis is observed.'), ('No chrysalis is observed.', 'No chrysalis is observed.', 'No chrysalis is observed.', 'No chrysalis is observed.', 'No chrysalis is observed.', 'No chrysalis is observed.', 'No chrysalis is observed.', 'No chrysalis is observed.', 'No chrysalis is observed.', 'No chrysalis is observed.', 'No chrysalis is observed.', 'No chrysalis is observed.', 'No chrysalis is observed.', 'No chrysalis is observed.', 'No chrysalis is observed.', 'No chrysalis is observed.', 'No chrysalis is observed.', 'No chrysalis is observed.', 'No chrysalis is observed.', 'No chrysalis is observed.'), ('No chrysalis is observed.', 'No chrysalis is observed.', 'No chrysalis is observed.', 'No chrysalis is observed.', 'No chrysalis is observed.', 'No chrysalis is observed.', 'No chrysalis is observed.', 'No chrysalis is observed.', 'No chrysalis is observed.', 'No chrysalis is observed.', 'No chrysalis is observed.', 'No chrysalis is observed.', 'No chrysalis is observed.', 'No chrysalis is observed.', 'No chrysalis is observed.', 'No chrysalis is observed.', 'No chrysalis is observed.', 'No chrysalis is observed.', 'No chrysalis is observed.', 'No chrysalis is observed.')]\n"
          ]
        },
        {
          "data": {
            "image/png": "[encoded data removed]",
            "text/plain": [
              "<Figure size 640x480 with 1 Axes>"
            ]
          },
          "metadata": {},
          "output_type": "display_data"
        }
      ],
      "source": [
        "# Iterate over the dataloader and visualize batches\n",
        "for i_batch, sample_batched in enumerate(pizarro_dataloader):\n",
        "    print(i_batch, sample_batched[2])\n",
        "    show_batch(sample_batched)\n",
        "\n",
        "    # Show only the data of the 3rd batch and stop.\n",
        "    if i_batch == 1:\n",
        "        break"
      ]
    },
    {
      "cell_type": "markdown",
      "metadata": {
        "id": "uZQYNuFsKI3k"
      },
      "source": [
        "## Image Feature Extraction"
      ]
    },
    {
      "cell_type": "code",
      "execution_count": null,
      "metadata": {
        "id": "XL6ILzWtlPEV"
      },
      "outputs": [],
      "source": [
        "def extract_image_features(model, dataloader):\n",
        "    model.eval()  # Set the model to evaluation mode\n",
        "    num_samples = len(dataloader.dataset)\n",
        "\n",
        "    # Get the output shape of the model\n",
        "    with torch.no_grad():\n",
        "        sample_input = next(iter(dataloader))[0].to(next(model.parameters()).device)\n",
        "        output_shape = model(sample_input).shape[1:]\n",
        "\n",
        "    # Calculate the total number of features\n",
        "    num_features = np.prod(output_shape)\n",
        "\n",
        "    features = np.zeros((num_samples, num_features), dtype=np.float32)\n",
        "    sample_idx = 0\n",
        "\n",
        "    with torch.no_grad():\n",
        "        for sample in dataloader:\n",
        "            inputs = sample[0].to(device).float()\n",
        "\n",
        "            # Forward pass\n",
        "            outputs = model(inputs)\n",
        "\n",
        "            # Flatten the output tensor\n",
        "            outputs_flat = outputs.view(outputs.size(0), -1)\n",
        "\n",
        "            # Store features\n",
        "            batch_size = inputs.size(0)\n",
        "            features[sample_idx:sample_idx + batch_size, :] = outputs_flat.cpu().numpy()\n",
        "            sample_idx += batch_size\n",
        "\n",
        "    return torch.tensor(features, device=device)"
      ]
    },
    {
      "cell_type": "code",
      "execution_count": null,
      "metadata": {
        "id": "F9gqOoAOdYQ_"
      },
      "outputs": [],
      "source": [
        "features_pizarro = extract_image_features(resnet, pizarro_dataloader)"
      ]
    },
    {
      "cell_type": "code",
      "execution_count": null,
      "metadata": {
        "colab": {
          "base_uri": "https://localhost:8080/"
        },
        "id": "Ey1rr3KGiNYm",
        "outputId": "d6303329-2bad-463d-d255-2555c20cfcd5"
      },
      "outputs": [
        {
          "data": {
            "text/plain": [
              "tensor([[0.1130, 0.5068, 0.3744,  ..., 0.3313, 0.3860, 0.5106],\n",
              "        [0.2833, 1.6765, 0.2156,  ..., 0.9384, 0.3416, 0.3270],\n",
              "        [0.1585, 0.4382, 0.8823,  ..., 0.2830, 0.0178, 0.1256],\n",
              "        ...,\n",
              "        [0.1131, 0.5398, 0.8421,  ..., 0.4181, 1.9232, 0.2787],\n",
              "        [0.0431, 0.2799, 0.5253,  ..., 0.3836, 0.1302, 0.3676],\n",
              "        [0.0816, 0.2939, 0.9039,  ..., 1.3012, 0.8904, 1.0214]],\n",
              "       device='cuda:0')"
            ]
          },
          "execution_count": 42,
          "metadata": {},
          "output_type": "execute_result"
        }
      ],
      "source": [
        "features_pizarro"
      ]
    },
    {
      "cell_type": "markdown",
      "metadata": {
        "id": "w4HfihfzJ3a6"
      },
      "source": [
        "## VQA Model Creation"
      ]
    },
    {
      "cell_type": "code",
      "execution_count": null,
      "metadata": {
        "id": "huaJqeXCLI6R"
      },
      "outputs": [],
      "source": [
        "class VQAModel(nn.Module):\n",
        "    def __init__(self, resnet, llm):\n",
        "        super(VQAModel, self).__init__()\n",
        "\n",
        "        # Pre-trained ResNet model\n",
        "        self.resnet = resnet\n",
        "\n",
        "        # Large Language Model\n",
        "        self.llm = llm\n",
        "\n",
        "        # Additional layers for VQA\n",
        "        self.fc = nn.Linear(512 + self.llm.config.hidden_size, 1)  # Output is a single score for VQA\n",
        "\n",
        "    def forward(self, images, tokenized_questions, dataloader):\n",
        "\n",
        "        # Extract image features\n",
        "        with torch.no_grad():\n",
        "            image_features = extract_image_features(self.resnet, dataloader)\n",
        "\n",
        "         # Concatenate image features + question\n",
        "        llm_inputs = torch.cat((image_features, tokenized_questions.input_ids), dim=1)\n",
        "        llm_outputs = self.llm(input_ids=llm_inputs)\n",
        "        textual_features = llm_outputs.last_hidden_state.mean(dim=1)  # Mean pooling over token embeddings\n",
        "\n",
        "        # Concatenate image and textual features\n",
        "        combined_features = torch.cat((image_features, textual_features), dim=1)\n",
        "\n",
        "        # Classification layer for VQA\n",
        "        scores = self.fc(combined_features)\n",
        "        scores = scores.squeeze()\n",
        "\n",
        "        return scores"
      ]
    },
    {
      "cell_type": "code",
      "execution_count": null,
      "metadata": {
        "id": "9RA4h4y5wkQJ"
      },
      "outputs": [],
      "source": [
        "class VQAModel(nn.Module):\n",
        "    def __init__(self, resnet, llm):\n",
        "        super(VQAModel, self).__init__()\n",
        "\n",
        "        # Pre-trained ResNet model\n",
        "        self.resnet = resnet\n",
        "\n",
        "        # Large Language Model\n",
        "        self.llm = llm\n",
        "\n",
        "    def forward(self, images, tokenized_questions, dataloader):\n",
        "\n",
        "        # Extract image features\n",
        "        with torch.no_grad():\n",
        "            image_features = extract_image_features(self.resnet, dataloader)\n",
        "\n",
        "        # Repeat image features to match the sequence length of tokenized questions\n",
        "        max_token_length = max(tokenized_question.shape[1] for question_tuple in tokenized_questions for tokenized_question in question_tuple)\n",
        "        repeated_image_features = image_features.unsqueeze(1).repeat(1, max_token_length, 1)\n",
        "\n",
        "        # Padding tokenized questions within each tuple to the same length\n",
        "        padded_tokenized_questions = []\n",
        "        for question_tuple in tokenized_questions:\n",
        "            padded_questions = []\n",
        "            max_length = max(tokenized_question.shape[1] for tokenized_question in question_tuple)\n",
        "            for tokenized_question in question_tuple:\n",
        "                # Pad each tokenized question to the maximum length within the tuple\n",
        "                padded_question = pad_sequence(tokenized_question, batch_first=True, padding_value=tokenizer.pad_token_id)\n",
        "                padded_questions.append(padded_question)\n",
        "            padded_tokenized_questions.append(torch.cat(padded_questions, dim=0))\n",
        "\n",
        "        # Transpose tokenized questions to concatenate them along the batch dimension\n",
        "        tokenized_questions_transposed = torch.stack(padded_tokenized_questions)\n",
        "\n",
        "        # Concatenate image features with tokenized questions\n",
        "        concatenated_inputs = torch.cat((repeated_image_features, tokenized_questions_transposed), dim=2)\n",
        "\n",
        "        # Pass concatenated inputs to the LLM\n",
        "        llm_outputs = self.llm(input_ids=concatenated_inputs)\n",
        "\n",
        "        return llm_outputs\n"
      ]
    },
    {
      "cell_type": "markdown",
      "metadata": {
        "id": "GKdGIP-I-VsC"
      },
      "source": [
        "concatenated_inputs = []\n",
        "        for tokenized_question in tokenized_questions:\n",
        "            # Repeat image features to match the tokenized question length\n",
        "            repeated_image_features_per_question = repeated_image_features[:len(tokenized_question), :]  # Adjust length for this question\n",
        "            print(repeated_image_features_per_question)\n",
        "            print(tokenized_question.unsqueeze(1))\n",
        "            # Concatenate image features with tokenized question\n",
        "            combined_input = torch.cat((repeated_image_features_per_question, tokenized_question.unsqueeze(1)), dim=2)\n",
        "            concatenated_inputs.append(combined_input)\n",
        "        combined_inputs = torch.stack(concatenated_inputs)"
      ]
    },
    {
      "cell_type": "markdown",
      "metadata": {
        "id": "Y-E0LJNJRyTG"
      },
      "source": [
        "### Define LLM & Tokenizer"
      ]
    },
    {
      "cell_type": "code",
      "execution_count": null,
      "metadata": {
        "colab": {
          "base_uri": "https://localhost:8080/",
          "height": 330,
          "referenced_widgets": [
            "6bd64a5e289a4483a18ecaa05685ec70",
            "efbcbd2d88e84a59b3aaeae4756de75b",
            "5386f873b73b4cb5860616096ff26418",
            "b37bf994f1744c55b99ba818cc37ce21",
            "41b5ef8c3ceb4098abbf9f34ca58fe86",
            "4f8263c3d6f0492095ef20c310386172",
            "f38fb286d5204dc29eef55dfd9986400",
            "135d456597194c8bad85a4de3e3a3e32",
            "254bdc4afca64113b026bac39413de13",
            "7b4ae39a81ff443b81fb1f0487334455",
            "539fe8ef62634df5a82e1b158d841335",
            "09bd08bc1e6141e79d63be9f5aecd2d5",
            "e0365bb5caea45fb9125d146fbba5e8e",
            "9d018c87d41d409686a7e73f3ceb3a48",
            "b23da79d06264573a63f1d675c827591",
            "587a64ae74c44b30937255232818065c",
            "d5c30b431cba4e439735e5aa240dc0ee",
            "7f4d2fc0d6ed4e4981900561f0c04fb4",
            "1b36a9c50c3d42cbb7c8e8b9129754a6",
            "4bafe33f6b6e4b218664652cadb3410b",
            "fcc663725e9c4d4d8bbed7f59ed0937f",
            "d115d255103d46aea18f65f895b88e1e",
            "59aafca8205640ca8ef6e034fff3e57a",
            "4e5af4cffa8840f29c66222fea7d7bcb",
            "e0c2b592540d40b297a23d712d1259df",
            "6e5945f9ca374a62892f7e51200aa311",
            "8593261e20744e988cd015462a175787",
            "e18708cd0ef14cc085a8e2081b9dee36",
            "0f1dec027b84481aac40d01ed1e97bec",
            "c218a532c1964245a4ebdc6335e15fa0",
            "4b07f4a7810c4a5ab3e491bd0eeb67f2",
            "9272d68e403c42b4849962783f6d5a89",
            "d50e8e787b584b568d42b9a225f0afb8",
            "c7122dc625834df389f7f79ae4e9516a",
            "fd26654ac2ef4c4cac2022a003c2ce79",
            "4ec15150b37c46c2971909b09b6722d1",
            "7acc31b26d34422eb861a29f3f4b3a3c",
            "b35ddff2951543fab31650137bce58d9",
            "3ec2c2dd26234d83bb32347295c165b4",
            "d989480394124ae084968f2cd51e12bc",
            "ee5fdb1b766e4e669ee1053b455a8a79",
            "f8120019067c4a74acfffab761f10868",
            "8539330d4244409caf20c284ef69d5db",
            "bbdd778f8bd54957b8e37053b3005580",
            "3db18f74c6cf4943985ee87acb4fc1a7",
            "bb30581e982a44fb945dc35a81694c4a",
            "e6366a00aa544df5a5e1ef21dc62978a",
            "6cd715abd17842f6bc85be6e8c139444",
            "75ff7ceeeb414d619beb7a61f7035398",
            "f9030f80154346d287c41d6f90f38720",
            "c0da5d1832254ee5b422c9db6fc6565d",
            "58da84cf8b7c44049b1f8d86a81a7dab",
            "b6c18c7a5fd34664af8454e019aa0ed7",
            "29381f52afcf4d9c940f5731b17cedc4",
            "55239199ea224de3bec430300dc2bd6a"
          ]
        },
        "id": "mNvUgKd7R44i",
        "outputId": "340a8fbf-ab57-48d9-ef1d-416d4ba7f1bf"
      },
      "outputs": [
        {
          "name": "stderr",
          "output_type": "stream",
          "text": [
            "/usr/local/lib/python3.10/dist-packages/huggingface_hub/utils/_token.py:88: UserWarning: \n",
            "The secret `HF_TOKEN` does not exist in your Colab secrets.\n",
            "To authenticate with the Hugging Face Hub, create a token in your settings tab (https://huggingface.co/settings/tokens), set it as secret in your Google Colab and restart your session.\n",
            "You will be able to reuse this secret in all of your notebooks.\n",
            "Please note that authentication is recommended but still optional to access public models or datasets.\n",
            "  warnings.warn(\n"
          ]
        },
        {
          "data": {
            "application/vnd.jupyter.widget-view+json": {
              "model_id": "6bd64a5e289a4483a18ecaa05685ec70",
              "version_major": 2,
              "version_minor": 0
            },
            "text/plain": [
              "tokenizer_config.json:   0%|          | 0.00/152 [00:00<?, ?B/s]"
            ]
          },
          "metadata": {},
          "output_type": "display_data"
        },
        {
          "data": {
            "application/vnd.jupyter.widget-view+json": {
              "model_id": "09bd08bc1e6141e79d63be9f5aecd2d5",
              "version_major": 2,
              "version_minor": 0
            },
            "text/plain": [
              "config.json:   0%|          | 0.00/508 [00:00<?, ?B/s]"
            ]
          },
          "metadata": {},
          "output_type": "display_data"
        },
        {
          "data": {
            "application/vnd.jupyter.widget-view+json": {
              "model_id": "59aafca8205640ca8ef6e034fff3e57a",
              "version_major": 2,
              "version_minor": 0
            },
            "text/plain": [
              "vocab.txt:   0%|          | 0.00/213k [00:00<?, ?B/s]"
            ]
          },
          "metadata": {},
          "output_type": "display_data"
        },
        {
          "data": {
            "application/vnd.jupyter.widget-view+json": {
              "model_id": "c7122dc625834df389f7f79ae4e9516a",
              "version_major": 2,
              "version_minor": 0
            },
            "text/plain": [
              "special_tokens_map.json:   0%|          | 0.00/112 [00:00<?, ?B/s]"
            ]
          },
          "metadata": {},
          "output_type": "display_data"
        },
        {
          "data": {
            "application/vnd.jupyter.widget-view+json": {
              "model_id": "3db18f74c6cf4943985ee87acb4fc1a7",
              "version_major": 2,
              "version_minor": 0
            },
            "text/plain": [
              "model.safetensors:   0%|          | 0.00/433M [00:00<?, ?B/s]"
            ]
          },
          "metadata": {},
          "output_type": "display_data"
        },
        {
          "name": "stderr",
          "output_type": "stream",
          "text": [
            "Some weights of the model checkpoint at deepset/bert-base-cased-squad2 were not used when initializing BertForQuestionAnswering: ['bert.pooler.dense.bias', 'bert.pooler.dense.weight']\n",
            "- This IS expected if you are initializing BertForQuestionAnswering from the checkpoint of a model trained on another task or with another architecture (e.g. initializing a BertForSequenceClassification model from a BertForPreTraining model).\n",
            "- This IS NOT expected if you are initializing BertForQuestionAnswering from the checkpoint of a model that you expect to be exactly identical (initializing a BertForSequenceClassification model from a BertForSequenceClassification model).\n"
          ]
        }
      ],
      "source": [
        "# Pre-trained base case for VQA provided in documentation\n",
        "tokenizer = AutoTokenizer.from_pretrained(\"deepset/bert-base-cased-squad2\")\n",
        "bertModel = BertForQuestionAnswering.from_pretrained(\"deepset/bert-base-cased-squad2\")"
      ]
    },
    {
      "cell_type": "markdown",
      "metadata": {
        "id": "uzfYKLV5RrVi"
      },
      "source": [
        "## Training Loop"
      ]
    },
    {
      "cell_type": "code",
      "execution_count": null,
      "metadata": {
        "id": "npW_X4I3c8dI"
      },
      "outputs": [],
      "source": [
        "# Create the VQA Model and pass it to the GPU\n",
        "vqa_model = VQAModel(resnet, bertModel)"
      ]
    },
    {
      "cell_type": "code",
      "execution_count": null,
      "metadata": {
        "colab": {
          "base_uri": "https://localhost:8080/"
        },
        "id": "NVeBMAK4dQuQ",
        "outputId": "aca9e6be-8fa2-4953-89ed-3ce53709ebce"
      },
      "outputs": [
        {
          "data": {
            "text/plain": [
              "VQAModel(\n",
              "  (resnet): ResNet(\n",
              "    (conv1): Conv2d(3, 64, kernel_size=(7, 7), stride=(2, 2), padding=(3, 3), bias=False)\n",
              "    (bn1): BatchNorm2d(64, eps=1e-05, momentum=0.1, affine=True, track_running_stats=True)\n",
              "    (relu): ReLU(inplace=True)\n",
              "    (maxpool): MaxPool2d(kernel_size=3, stride=2, padding=1, dilation=1, ceil_mode=False)\n",
              "    (layer1): Sequential(\n",
              "      (0): BasicBlock(\n",
              "        (conv1): Conv2d(64, 64, kernel_size=(3, 3), stride=(1, 1), padding=(1, 1), bias=False)\n",
              "        (bn1): BatchNorm2d(64, eps=1e-05, momentum=0.1, affine=True, track_running_stats=True)\n",
              "        (relu): ReLU(inplace=True)\n",
              "        (conv2): Conv2d(64, 64, kernel_size=(3, 3), stride=(1, 1), padding=(1, 1), bias=False)\n",
              "        (bn2): BatchNorm2d(64, eps=1e-05, momentum=0.1, affine=True, track_running_stats=True)\n",
              "      )\n",
              "      (1): BasicBlock(\n",
              "        (conv1): Conv2d(64, 64, kernel_size=(3, 3), stride=(1, 1), padding=(1, 1), bias=False)\n",
              "        (bn1): BatchNorm2d(64, eps=1e-05, momentum=0.1, affine=True, track_running_stats=True)\n",
              "        (relu): ReLU(inplace=True)\n",
              "        (conv2): Conv2d(64, 64, kernel_size=(3, 3), stride=(1, 1), padding=(1, 1), bias=False)\n",
              "        (bn2): BatchNorm2d(64, eps=1e-05, momentum=0.1, affine=True, track_running_stats=True)\n",
              "      )\n",
              "    )\n",
              "    (layer2): Sequential(\n",
              "      (0): BasicBlock(\n",
              "        (conv1): Conv2d(64, 128, kernel_size=(3, 3), stride=(2, 2), padding=(1, 1), bias=False)\n",
              "        (bn1): BatchNorm2d(128, eps=1e-05, momentum=0.1, affine=True, track_running_stats=True)\n",
              "        (relu): ReLU(inplace=True)\n",
              "        (conv2): Conv2d(128, 128, kernel_size=(3, 3), stride=(1, 1), padding=(1, 1), bias=False)\n",
              "        (bn2): BatchNorm2d(128, eps=1e-05, momentum=0.1, affine=True, track_running_stats=True)\n",
              "        (downsample): Sequential(\n",
              "          (0): Conv2d(64, 128, kernel_size=(1, 1), stride=(2, 2), bias=False)\n",
              "          (1): BatchNorm2d(128, eps=1e-05, momentum=0.1, affine=True, track_running_stats=True)\n",
              "        )\n",
              "      )\n",
              "      (1): BasicBlock(\n",
              "        (conv1): Conv2d(128, 128, kernel_size=(3, 3), stride=(1, 1), padding=(1, 1), bias=False)\n",
              "        (bn1): BatchNorm2d(128, eps=1e-05, momentum=0.1, affine=True, track_running_stats=True)\n",
              "        (relu): ReLU(inplace=True)\n",
              "        (conv2): Conv2d(128, 128, kernel_size=(3, 3), stride=(1, 1), padding=(1, 1), bias=False)\n",
              "        (bn2): BatchNorm2d(128, eps=1e-05, momentum=0.1, affine=True, track_running_stats=True)\n",
              "      )\n",
              "    )\n",
              "    (layer3): Sequential(\n",
              "      (0): BasicBlock(\n",
              "        (conv1): Conv2d(128, 256, kernel_size=(3, 3), stride=(2, 2), padding=(1, 1), bias=False)\n",
              "        (bn1): BatchNorm2d(256, eps=1e-05, momentum=0.1, affine=True, track_running_stats=True)\n",
              "        (relu): ReLU(inplace=True)\n",
              "        (conv2): Conv2d(256, 256, kernel_size=(3, 3), stride=(1, 1), padding=(1, 1), bias=False)\n",
              "        (bn2): BatchNorm2d(256, eps=1e-05, momentum=0.1, affine=True, track_running_stats=True)\n",
              "        (downsample): Sequential(\n",
              "          (0): Conv2d(128, 256, kernel_size=(1, 1), stride=(2, 2), bias=False)\n",
              "          (1): BatchNorm2d(256, eps=1e-05, momentum=0.1, affine=True, track_running_stats=True)\n",
              "        )\n",
              "      )\n",
              "      (1): BasicBlock(\n",
              "        (conv1): Conv2d(256, 256, kernel_size=(3, 3), stride=(1, 1), padding=(1, 1), bias=False)\n",
              "        (bn1): BatchNorm2d(256, eps=1e-05, momentum=0.1, affine=True, track_running_stats=True)\n",
              "        (relu): ReLU(inplace=True)\n",
              "        (conv2): Conv2d(256, 256, kernel_size=(3, 3), stride=(1, 1), padding=(1, 1), bias=False)\n",
              "        (bn2): BatchNorm2d(256, eps=1e-05, momentum=0.1, affine=True, track_running_stats=True)\n",
              "      )\n",
              "    )\n",
              "    (layer4): Sequential(\n",
              "      (0): BasicBlock(\n",
              "        (conv1): Conv2d(256, 512, kernel_size=(3, 3), stride=(2, 2), padding=(1, 1), bias=False)\n",
              "        (bn1): BatchNorm2d(512, eps=1e-05, momentum=0.1, affine=True, track_running_stats=True)\n",
              "        (relu): ReLU(inplace=True)\n",
              "        (conv2): Conv2d(512, 512, kernel_size=(3, 3), stride=(1, 1), padding=(1, 1), bias=False)\n",
              "        (bn2): BatchNorm2d(512, eps=1e-05, momentum=0.1, affine=True, track_running_stats=True)\n",
              "        (downsample): Sequential(\n",
              "          (0): Conv2d(256, 512, kernel_size=(1, 1), stride=(2, 2), bias=False)\n",
              "          (1): BatchNorm2d(512, eps=1e-05, momentum=0.1, affine=True, track_running_stats=True)\n",
              "        )\n",
              "      )\n",
              "      (1): BasicBlock(\n",
              "        (conv1): Conv2d(512, 512, kernel_size=(3, 3), stride=(1, 1), padding=(1, 1), bias=False)\n",
              "        (bn1): BatchNorm2d(512, eps=1e-05, momentum=0.1, affine=True, track_running_stats=True)\n",
              "        (relu): ReLU(inplace=True)\n",
              "        (conv2): Conv2d(512, 512, kernel_size=(3, 3), stride=(1, 1), padding=(1, 1), bias=False)\n",
              "        (bn2): BatchNorm2d(512, eps=1e-05, momentum=0.1, affine=True, track_running_stats=True)\n",
              "      )\n",
              "    )\n",
              "    (avgpool): AdaptiveAvgPool2d(output_size=(1, 1))\n",
              "    (fc): Identity()\n",
              "  )\n",
              "  (llm): BertForQuestionAnswering(\n",
              "    (bert): BertModel(\n",
              "      (embeddings): BertEmbeddings(\n",
              "        (word_embeddings): Embedding(28996, 768, padding_idx=0)\n",
              "        (position_embeddings): Embedding(512, 768)\n",
              "        (token_type_embeddings): Embedding(2, 768)\n",
              "        (LayerNorm): LayerNorm((768,), eps=1e-12, elementwise_affine=True)\n",
              "        (dropout): Dropout(p=0.1, inplace=False)\n",
              "      )\n",
              "      (encoder): BertEncoder(\n",
              "        (layer): ModuleList(\n",
              "          (0-11): 12 x BertLayer(\n",
              "            (attention): BertAttention(\n",
              "              (self): BertSelfAttention(\n",
              "                (query): Linear(in_features=768, out_features=768, bias=True)\n",
              "                (key): Linear(in_features=768, out_features=768, bias=True)\n",
              "                (value): Linear(in_features=768, out_features=768, bias=True)\n",
              "                (dropout): Dropout(p=0.1, inplace=False)\n",
              "              )\n",
              "              (output): BertSelfOutput(\n",
              "                (dense): Linear(in_features=768, out_features=768, bias=True)\n",
              "                (LayerNorm): LayerNorm((768,), eps=1e-12, elementwise_affine=True)\n",
              "                (dropout): Dropout(p=0.1, inplace=False)\n",
              "              )\n",
              "            )\n",
              "            (intermediate): BertIntermediate(\n",
              "              (dense): Linear(in_features=768, out_features=3072, bias=True)\n",
              "              (intermediate_act_fn): GELUActivation()\n",
              "            )\n",
              "            (output): BertOutput(\n",
              "              (dense): Linear(in_features=3072, out_features=768, bias=True)\n",
              "              (LayerNorm): LayerNorm((768,), eps=1e-12, elementwise_affine=True)\n",
              "              (dropout): Dropout(p=0.1, inplace=False)\n",
              "            )\n",
              "          )\n",
              "        )\n",
              "      )\n",
              "    )\n",
              "    (qa_outputs): Linear(in_features=768, out_features=2, bias=True)\n",
              "  )\n",
              ")"
            ]
          },
          "execution_count": 83,
          "metadata": {},
          "output_type": "execute_result"
        }
      ],
      "source": [
        "device = torch.device(\"cuda\" if torch.cuda.is_available() else \"cpu\")\n",
        "vqa_model.to(device)"
      ]
    },
    {
      "cell_type": "code",
      "execution_count": null,
      "metadata": {
        "id": "rBFSlcm-dQiS"
      },
      "outputs": [],
      "source": [
        "# Define hyperparameters\n",
        "learning_rate = 1e-4\n",
        "num_epochs = 10"
      ]
    },
    {
      "cell_type": "code",
      "execution_count": null,
      "metadata": {
        "id": "xrFgqLKddlJk"
      },
      "outputs": [],
      "source": [
        "# Define optimizer\n",
        "optimizer = torch.optim.AdamW(vqa_model.parameters(), lr=learning_rate)"
      ]
    },
    {
      "cell_type": "code",
      "execution_count": null,
      "metadata": {
        "id": "5-XVVLV5KUP4"
      },
      "outputs": [],
      "source": [
        "# Training loop\n",
        "for epoch in range(num_epochs):\n",
        "    for images, questions, answers in tqdm(pizarro_dataloader, desc=f'Epoch {epoch+1}/{num_epochs}', unit='batch'):\n",
        "\n",
        "        # Tokenize questions/answers\n",
        "        #tokenized_questions = [tokenizer(question, return_tensors='pt', padding=True, truncation=True)\n",
        "        #                       for question in questions]\n",
        "\n",
        "        #tokenized_answers = [tokenizer(answer, return_tensors='pt', padding=True, truncation=True)\n",
        "        #                     for answer in answers]\n",
        "\n",
        "        # Tokenize questions/answers\n",
        "        tokenized_questions = []\n",
        "        for question_tuple in questions:\n",
        "            tokenized_question_tuple = []\n",
        "            for question in question_tuple:\n",
        "                tokenized_question = tokenizer(question, return_tensors='pt', padding=True, truncation=True)\n",
        "                tokenized_question_tuple.append(tokenized_question)\n",
        "            tokenized_questions.append(tokenized_question_tuple)\n",
        "\n",
        "        # Extract token IDs\n",
        "        token_ids_questions = []\n",
        "        for question_tuple in tokenized_questions:\n",
        "            for encoding in question_tuple:\n",
        "                token_ids_questions.append(encoding.input_ids)\n",
        "\n",
        "        print(token_ids_questions)\n",
        "\n",
        "        # Move data to GPU\n",
        "        images = images.to(device)\n",
        "        token_ids_questions = [ids.to(device) for ids in token_ids_questions]  # Move each tensor to GPU individually\n",
        "\n",
        "\n",
        "        # Forward pass\n",
        "        outputs = vqa_model(images, token_ids_questions, pizarro_dataloader)\n",
        "\n",
        "        # Compute cosine similarity between predicted and ground truth answer embeddings\n",
        "        cosine_similarities = []\n",
        "        for output, tokenized_answer in zip(outputs, tokenized_answers):\n",
        "            cosine_similarity = F.cosine_similarity(output.unsqueeze(0), tokenized_answer.unsqueeze(0), dim=1)\n",
        "            cosine_similarities.append(cosine_similarity)\n",
        "\n",
        "        cosine_similarities = torch.stack(cosine_similarities)\n",
        "\n",
        "        # Compute loss based on cosine similarities\n",
        "        loss = 1 - cosine_similarities  # Use 1 - cosine similarity as loss\n",
        "\n",
        "        # Backward pass\n",
        "        optimizer.zero_grad()\n",
        "        loss.mean().backward()\n",
        "        optimizer.step()\n",
        "\n",
        "        # Loss\n",
        "        print(f\"Epoch [{epoch+1}/{num_epochs}], Loss: {loss.mean().item():.4f}\")\n",
        "\n",
        "# Save trained model\n",
        "torch.save(vqa_model.state_dict(), 'trained_vqa_model.pth')"
      ]
    },
    {
      "cell_type": "code",
      "execution_count": null,
      "metadata": {
        "id": "tuixoA5XJDyv"
      },
      "outputs": [],
      "source": [
        "model = VisualBertModel.from_pretrained(\"uclanlp/visualbert-vqa-coco-pre\")\n",
        "tokenizer = BertTokenizer.from_pretrained(\"google-bert/bert-base-uncased\")\n",
        "\n",
        "inputs = tokenizer(\"What is the man eating?\", return_tensors=\"pt\")\n",
        "# this is a custom function that returns the visual embeddings given the image path\n",
        "visual_embeds = get_visual_embeddings(image_path)\n",
        "\n",
        "visual_token_type_ids = torch.ones(visual_embeds.shape[:-1], dtype=torch.long)\n",
        "visual_attention_mask = torch.ones(visual_embeds.shape[:-1], dtype=torch.float)\n",
        "inputs.update(\n",
        "    {\n",
        "        \"visual_embeds\": visual_embeds,\n",
        "        \"visual_token_type_ids\": visual_token_type_ids,\n",
        "        \"visual_attention_mask\": visual_attention_mask,\n",
        "    }\n",
        ")\n",
        "outputs = model(**inputs)\n",
        "last_hidden_state = outputs.last_hidden_state"
      ]
    }
  ],
  "metadata": {
    "accelerator": "GPU",
    "colab": {
      "gpuType": "T4",
      "provenance": [],
      "include_colab_link": true
    },
    "kernelspec": {
      "display_name": "Python 3",
      "name": "python3"
    },
    "language_info": {
      "name": "python"
    },
    "widgets": {
      "application/vnd.jupyter.widget-state+json": {
        "09bd08bc1e6141e79d63be9f5aecd2d5": {
          "model_module": "@jupyter-widgets/controls",
          "model_module_version": "1.5.0",
          "model_name": "HBoxModel",
          "state": {
            "_dom_classes": [],
            "_model_module": "@jupyter-widgets/controls",
            "_model_module_version": "1.5.0",
            "_model_name": "HBoxModel",
            "_view_count": null,
            "_view_module": "@jupyter-widgets/controls",
            "_view_module_version": "1.5.0",
            "_view_name": "HBoxView",
            "box_style": "",
            "children": [
              "IPY_MODEL_e0365bb5caea45fb9125d146fbba5e8e",
              "IPY_MODEL_9d018c87d41d409686a7e73f3ceb3a48",
              "IPY_MODEL_b23da79d06264573a63f1d675c827591"
            ],
            "layout": "IPY_MODEL_587a64ae74c44b30937255232818065c"
          }
        },
        "0f1dec027b84481aac40d01ed1e97bec": {
          "model_module": "@jupyter-widgets/controls",
          "model_module_version": "1.5.0",
          "model_name": "DescriptionStyleModel",
          "state": {
            "_model_module": "@jupyter-widgets/controls",
            "_model_module_version": "1.5.0",
            "_model_name": "DescriptionStyleModel",
            "_view_count": null,
            "_view_module": "@jupyter-widgets/base",
            "_view_module_version": "1.2.0",
            "_view_name": "StyleView",
            "description_width": ""
          }
        },
        "135d456597194c8bad85a4de3e3a3e32": {
          "model_module": "@jupyter-widgets/base",
          "model_module_version": "1.2.0",
          "model_name": "LayoutModel",
          "state": {
            "_model_module": "@jupyter-widgets/base",
            "_model_module_version": "1.2.0",
            "_model_name": "LayoutModel",
            "_view_count": null,
            "_view_module": "@jupyter-widgets/base",
            "_view_module_version": "1.2.0",
            "_view_name": "LayoutView",
            "align_content": null,
            "align_items": null,
            "align_self": null,
            "border": null,
            "bottom": null,
            "display": null,
            "flex": null,
            "flex_flow": null,
            "grid_area": null,
            "grid_auto_columns": null,
            "grid_auto_flow": null,
            "grid_auto_rows": null,
            "grid_column": null,
            "grid_gap": null,
            "grid_row": null,
            "grid_template_areas": null,
            "grid_template_columns": null,
            "grid_template_rows": null,
            "height": null,
            "justify_content": null,
            "justify_items": null,
            "left": null,
            "margin": null,
            "max_height": null,
            "max_width": null,
            "min_height": null,
            "min_width": null,
            "object_fit": null,
            "object_position": null,
            "order": null,
            "overflow": null,
            "overflow_x": null,
            "overflow_y": null,
            "padding": null,
            "right": null,
            "top": null,
            "visibility": null,
            "width": null
          }
        },
        "1b36a9c50c3d42cbb7c8e8b9129754a6": {
          "model_module": "@jupyter-widgets/base",
          "model_module_version": "1.2.0",
          "model_name": "LayoutModel",
          "state": {
            "_model_module": "@jupyter-widgets/base",
            "_model_module_version": "1.2.0",
            "_model_name": "LayoutModel",
            "_view_count": null,
            "_view_module": "@jupyter-widgets/base",
            "_view_module_version": "1.2.0",
            "_view_name": "LayoutView",
            "align_content": null,
            "align_items": null,
            "align_self": null,
            "border": null,
            "bottom": null,
            "display": null,
            "flex": null,
            "flex_flow": null,
            "grid_area": null,
            "grid_auto_columns": null,
            "grid_auto_flow": null,
            "grid_auto_rows": null,
            "grid_column": null,
            "grid_gap": null,
            "grid_row": null,
            "grid_template_areas": null,
            "grid_template_columns": null,
            "grid_template_rows": null,
            "height": null,
            "justify_content": null,
            "justify_items": null,
            "left": null,
            "margin": null,
            "max_height": null,
            "max_width": null,
            "min_height": null,
            "min_width": null,
            "object_fit": null,
            "object_position": null,
            "order": null,
            "overflow": null,
            "overflow_x": null,
            "overflow_y": null,
            "padding": null,
            "right": null,
            "top": null,
            "visibility": null,
            "width": null
          }
        },
        "254bdc4afca64113b026bac39413de13": {
          "model_module": "@jupyter-widgets/controls",
          "model_module_version": "1.5.0",
          "model_name": "ProgressStyleModel",
          "state": {
            "_model_module": "@jupyter-widgets/controls",
            "_model_module_version": "1.5.0",
            "_model_name": "ProgressStyleModel",
            "_view_count": null,
            "_view_module": "@jupyter-widgets/base",
            "_view_module_version": "1.2.0",
            "_view_name": "StyleView",
            "bar_color": null,
            "description_width": ""
          }
        },
        "29381f52afcf4d9c940f5731b17cedc4": {
          "model_module": "@jupyter-widgets/base",
          "model_module_version": "1.2.0",
          "model_name": "LayoutModel",
          "state": {
            "_model_module": "@jupyter-widgets/base",
            "_model_module_version": "1.2.0",
            "_model_name": "LayoutModel",
            "_view_count": null,
            "_view_module": "@jupyter-widgets/base",
            "_view_module_version": "1.2.0",
            "_view_name": "LayoutView",
            "align_content": null,
            "align_items": null,
            "align_self": null,
            "border": null,
            "bottom": null,
            "display": null,
            "flex": null,
            "flex_flow": null,
            "grid_area": null,
            "grid_auto_columns": null,
            "grid_auto_flow": null,
            "grid_auto_rows": null,
            "grid_column": null,
            "grid_gap": null,
            "grid_row": null,
            "grid_template_areas": null,
            "grid_template_columns": null,
            "grid_template_rows": null,
            "height": null,
            "justify_content": null,
            "justify_items": null,
            "left": null,
            "margin": null,
            "max_height": null,
            "max_width": null,
            "min_height": null,
            "min_width": null,
            "object_fit": null,
            "object_position": null,
            "order": null,
            "overflow": null,
            "overflow_x": null,
            "overflow_y": null,
            "padding": null,
            "right": null,
            "top": null,
            "visibility": null,
            "width": null
          }
        },
        "3db18f74c6cf4943985ee87acb4fc1a7": {
          "model_module": "@jupyter-widgets/controls",
          "model_module_version": "1.5.0",
          "model_name": "HBoxModel",
          "state": {
            "_dom_classes": [],
            "_model_module": "@jupyter-widgets/controls",
            "_model_module_version": "1.5.0",
            "_model_name": "HBoxModel",
            "_view_count": null,
            "_view_module": "@jupyter-widgets/controls",
            "_view_module_version": "1.5.0",
            "_view_name": "HBoxView",
            "box_style": "",
            "children": [
              "IPY_MODEL_bb30581e982a44fb945dc35a81694c4a",
              "IPY_MODEL_e6366a00aa544df5a5e1ef21dc62978a",
              "IPY_MODEL_6cd715abd17842f6bc85be6e8c139444"
            ],
            "layout": "IPY_MODEL_75ff7ceeeb414d619beb7a61f7035398"
          }
        },
        "3ec2c2dd26234d83bb32347295c165b4": {
          "model_module": "@jupyter-widgets/base",
          "model_module_version": "1.2.0",
          "model_name": "LayoutModel",
          "state": {
            "_model_module": "@jupyter-widgets/base",
            "_model_module_version": "1.2.0",
            "_model_name": "LayoutModel",
            "_view_count": null,
            "_view_module": "@jupyter-widgets/base",
            "_view_module_version": "1.2.0",
            "_view_name": "LayoutView",
            "align_content": null,
            "align_items": null,
            "align_self": null,
            "border": null,
            "bottom": null,
            "display": null,
            "flex": null,
            "flex_flow": null,
            "grid_area": null,
            "grid_auto_columns": null,
            "grid_auto_flow": null,
            "grid_auto_rows": null,
            "grid_column": null,
            "grid_gap": null,
            "grid_row": null,
            "grid_template_areas": null,
            "grid_template_columns": null,
            "grid_template_rows": null,
            "height": null,
            "justify_content": null,
            "justify_items": null,
            "left": null,
            "margin": null,
            "max_height": null,
            "max_width": null,
            "min_height": null,
            "min_width": null,
            "object_fit": null,
            "object_position": null,
            "order": null,
            "overflow": null,
            "overflow_x": null,
            "overflow_y": null,
            "padding": null,
            "right": null,
            "top": null,
            "visibility": null,
            "width": null
          }
        },
        "41b5ef8c3ceb4098abbf9f34ca58fe86": {
          "model_module": "@jupyter-widgets/base",
          "model_module_version": "1.2.0",
          "model_name": "LayoutModel",
          "state": {
            "_model_module": "@jupyter-widgets/base",
            "_model_module_version": "1.2.0",
            "_model_name": "LayoutModel",
            "_view_count": null,
            "_view_module": "@jupyter-widgets/base",
            "_view_module_version": "1.2.0",
            "_view_name": "LayoutView",
            "align_content": null,
            "align_items": null,
            "align_self": null,
            "border": null,
            "bottom": null,
            "display": null,
            "flex": null,
            "flex_flow": null,
            "grid_area": null,
            "grid_auto_columns": null,
            "grid_auto_flow": null,
            "grid_auto_rows": null,
            "grid_column": null,
            "grid_gap": null,
            "grid_row": null,
            "grid_template_areas": null,
            "grid_template_columns": null,
            "grid_template_rows": null,
            "height": null,
            "justify_content": null,
            "justify_items": null,
            "left": null,
            "margin": null,
            "max_height": null,
            "max_width": null,
            "min_height": null,
            "min_width": null,
            "object_fit": null,
            "object_position": null,
            "order": null,
            "overflow": null,
            "overflow_x": null,
            "overflow_y": null,
            "padding": null,
            "right": null,
            "top": null,
            "visibility": null,
            "width": null
          }
        },
        "4b07f4a7810c4a5ab3e491bd0eeb67f2": {
          "model_module": "@jupyter-widgets/controls",
          "model_module_version": "1.5.0",
          "model_name": "ProgressStyleModel",
          "state": {
            "_model_module": "@jupyter-widgets/controls",
            "_model_module_version": "1.5.0",
            "_model_name": "ProgressStyleModel",
            "_view_count": null,
            "_view_module": "@jupyter-widgets/base",
            "_view_module_version": "1.2.0",
            "_view_name": "StyleView",
            "bar_color": null,
            "description_width": ""
          }
        },
        "4bafe33f6b6e4b218664652cadb3410b": {
          "model_module": "@jupyter-widgets/controls",
          "model_module_version": "1.5.0",
          "model_name": "ProgressStyleModel",
          "state": {
            "_model_module": "@jupyter-widgets/controls",
            "_model_module_version": "1.5.0",
            "_model_name": "ProgressStyleModel",
            "_view_count": null,
            "_view_module": "@jupyter-widgets/base",
            "_view_module_version": "1.2.0",
            "_view_name": "StyleView",
            "bar_color": null,
            "description_width": ""
          }
        },
        "4e5af4cffa8840f29c66222fea7d7bcb": {
          "model_module": "@jupyter-widgets/controls",
          "model_module_version": "1.5.0",
          "model_name": "HTMLModel",
          "state": {
            "_dom_classes": [],
            "_model_module": "@jupyter-widgets/controls",
            "_model_module_version": "1.5.0",
            "_model_name": "HTMLModel",
            "_view_count": null,
            "_view_module": "@jupyter-widgets/controls",
            "_view_module_version": "1.5.0",
            "_view_name": "HTMLView",
            "description": "",
            "description_tooltip": null,
            "layout": "IPY_MODEL_e18708cd0ef14cc085a8e2081b9dee36",
            "placeholder": "​",
            "style": "IPY_MODEL_0f1dec027b84481aac40d01ed1e97bec",
            "value": "vocab.txt: 100%"
          }
        },
        "4ec15150b37c46c2971909b09b6722d1": {
          "model_module": "@jupyter-widgets/controls",
          "model_module_version": "1.5.0",
          "model_name": "FloatProgressModel",
          "state": {
            "_dom_classes": [],
            "_model_module": "@jupyter-widgets/controls",
            "_model_module_version": "1.5.0",
            "_model_name": "FloatProgressModel",
            "_view_count": null,
            "_view_module": "@jupyter-widgets/controls",
            "_view_module_version": "1.5.0",
            "_view_name": "ProgressView",
            "bar_style": "success",
            "description": "",
            "description_tooltip": null,
            "layout": "IPY_MODEL_ee5fdb1b766e4e669ee1053b455a8a79",
            "max": 112,
            "min": 0,
            "orientation": "horizontal",
            "style": "IPY_MODEL_f8120019067c4a74acfffab761f10868",
            "value": 112
          }
        },
        "4f8263c3d6f0492095ef20c310386172": {
          "model_module": "@jupyter-widgets/base",
          "model_module_version": "1.2.0",
          "model_name": "LayoutModel",
          "state": {
            "_model_module": "@jupyter-widgets/base",
            "_model_module_version": "1.2.0",
            "_model_name": "LayoutModel",
            "_view_count": null,
            "_view_module": "@jupyter-widgets/base",
            "_view_module_version": "1.2.0",
            "_view_name": "LayoutView",
            "align_content": null,
            "align_items": null,
            "align_self": null,
            "border": null,
            "bottom": null,
            "display": null,
            "flex": null,
            "flex_flow": null,
            "grid_area": null,
            "grid_auto_columns": null,
            "grid_auto_flow": null,
            "grid_auto_rows": null,
            "grid_column": null,
            "grid_gap": null,
            "grid_row": null,
            "grid_template_areas": null,
            "grid_template_columns": null,
            "grid_template_rows": null,
            "height": null,
            "justify_content": null,
            "justify_items": null,
            "left": null,
            "margin": null,
            "max_height": null,
            "max_width": null,
            "min_height": null,
            "min_width": null,
            "object_fit": null,
            "object_position": null,
            "order": null,
            "overflow": null,
            "overflow_x": null,
            "overflow_y": null,
            "padding": null,
            "right": null,
            "top": null,
            "visibility": null,
            "width": null
          }
        },
        "5386f873b73b4cb5860616096ff26418": {
          "model_module": "@jupyter-widgets/controls",
          "model_module_version": "1.5.0",
          "model_name": "FloatProgressModel",
          "state": {
            "_dom_classes": [],
            "_model_module": "@jupyter-widgets/controls",
            "_model_module_version": "1.5.0",
            "_model_name": "FloatProgressModel",
            "_view_count": null,
            "_view_module": "@jupyter-widgets/controls",
            "_view_module_version": "1.5.0",
            "_view_name": "ProgressView",
            "bar_style": "success",
            "description": "",
            "description_tooltip": null,
            "layout": "IPY_MODEL_135d456597194c8bad85a4de3e3a3e32",
            "max": 152,
            "min": 0,
            "orientation": "horizontal",
            "style": "IPY_MODEL_254bdc4afca64113b026bac39413de13",
            "value": 152
          }
        },
        "539fe8ef62634df5a82e1b158d841335": {
          "model_module": "@jupyter-widgets/controls",
          "model_module_version": "1.5.0",
          "model_name": "DescriptionStyleModel",
          "state": {
            "_model_module": "@jupyter-widgets/controls",
            "_model_module_version": "1.5.0",
            "_model_name": "DescriptionStyleModel",
            "_view_count": null,
            "_view_module": "@jupyter-widgets/base",
            "_view_module_version": "1.2.0",
            "_view_name": "StyleView",
            "description_width": ""
          }
        },
        "55239199ea224de3bec430300dc2bd6a": {
          "model_module": "@jupyter-widgets/controls",
          "model_module_version": "1.5.0",
          "model_name": "DescriptionStyleModel",
          "state": {
            "_model_module": "@jupyter-widgets/controls",
            "_model_module_version": "1.5.0",
            "_model_name": "DescriptionStyleModel",
            "_view_count": null,
            "_view_module": "@jupyter-widgets/base",
            "_view_module_version": "1.2.0",
            "_view_name": "StyleView",
            "description_width": ""
          }
        },
        "587a64ae74c44b30937255232818065c": {
          "model_module": "@jupyter-widgets/base",
          "model_module_version": "1.2.0",
          "model_name": "LayoutModel",
          "state": {
            "_model_module": "@jupyter-widgets/base",
            "_model_module_version": "1.2.0",
            "_model_name": "LayoutModel",
            "_view_count": null,
            "_view_module": "@jupyter-widgets/base",
            "_view_module_version": "1.2.0",
            "_view_name": "LayoutView",
            "align_content": null,
            "align_items": null,
            "align_self": null,
            "border": null,
            "bottom": null,
            "display": null,
            "flex": null,
            "flex_flow": null,
            "grid_area": null,
            "grid_auto_columns": null,
            "grid_auto_flow": null,
            "grid_auto_rows": null,
            "grid_column": null,
            "grid_gap": null,
            "grid_row": null,
            "grid_template_areas": null,
            "grid_template_columns": null,
            "grid_template_rows": null,
            "height": null,
            "justify_content": null,
            "justify_items": null,
            "left": null,
            "margin": null,
            "max_height": null,
            "max_width": null,
            "min_height": null,
            "min_width": null,
            "object_fit": null,
            "object_position": null,
            "order": null,
            "overflow": null,
            "overflow_x": null,
            "overflow_y": null,
            "padding": null,
            "right": null,
            "top": null,
            "visibility": null,
            "width": null
          }
        },
        "58da84cf8b7c44049b1f8d86a81a7dab": {
          "model_module": "@jupyter-widgets/base",
          "model_module_version": "1.2.0",
          "model_name": "LayoutModel",
          "state": {
            "_model_module": "@jupyter-widgets/base",
            "_model_module_version": "1.2.0",
            "_model_name": "LayoutModel",
            "_view_count": null,
            "_view_module": "@jupyter-widgets/base",
            "_view_module_version": "1.2.0",
            "_view_name": "LayoutView",
            "align_content": null,
            "align_items": null,
            "align_self": null,
            "border": null,
            "bottom": null,
            "display": null,
            "flex": null,
            "flex_flow": null,
            "grid_area": null,
            "grid_auto_columns": null,
            "grid_auto_flow": null,
            "grid_auto_rows": null,
            "grid_column": null,
            "grid_gap": null,
            "grid_row": null,
            "grid_template_areas": null,
            "grid_template_columns": null,
            "grid_template_rows": null,
            "height": null,
            "justify_content": null,
            "justify_items": null,
            "left": null,
            "margin": null,
            "max_height": null,
            "max_width": null,
            "min_height": null,
            "min_width": null,
            "object_fit": null,
            "object_position": null,
            "order": null,
            "overflow": null,
            "overflow_x": null,
            "overflow_y": null,
            "padding": null,
            "right": null,
            "top": null,
            "visibility": null,
            "width": null
          }
        },
        "59aafca8205640ca8ef6e034fff3e57a": {
          "model_module": "@jupyter-widgets/controls",
          "model_module_version": "1.5.0",
          "model_name": "HBoxModel",
          "state": {
            "_dom_classes": [],
            "_model_module": "@jupyter-widgets/controls",
            "_model_module_version": "1.5.0",
            "_model_name": "HBoxModel",
            "_view_count": null,
            "_view_module": "@jupyter-widgets/controls",
            "_view_module_version": "1.5.0",
            "_view_name": "HBoxView",
            "box_style": "",
            "children": [
              "IPY_MODEL_4e5af4cffa8840f29c66222fea7d7bcb",
              "IPY_MODEL_e0c2b592540d40b297a23d712d1259df",
              "IPY_MODEL_6e5945f9ca374a62892f7e51200aa311"
            ],
            "layout": "IPY_MODEL_8593261e20744e988cd015462a175787"
          }
        },
        "6bd64a5e289a4483a18ecaa05685ec70": {
          "model_module": "@jupyter-widgets/controls",
          "model_module_version": "1.5.0",
          "model_name": "HBoxModel",
          "state": {
            "_dom_classes": [],
            "_model_module": "@jupyter-widgets/controls",
            "_model_module_version": "1.5.0",
            "_model_name": "HBoxModel",
            "_view_count": null,
            "_view_module": "@jupyter-widgets/controls",
            "_view_module_version": "1.5.0",
            "_view_name": "HBoxView",
            "box_style": "",
            "children": [
              "IPY_MODEL_efbcbd2d88e84a59b3aaeae4756de75b",
              "IPY_MODEL_5386f873b73b4cb5860616096ff26418",
              "IPY_MODEL_b37bf994f1744c55b99ba818cc37ce21"
            ],
            "layout": "IPY_MODEL_41b5ef8c3ceb4098abbf9f34ca58fe86"
          }
        },
        "6cd715abd17842f6bc85be6e8c139444": {
          "model_module": "@jupyter-widgets/controls",
          "model_module_version": "1.5.0",
          "model_name": "HTMLModel",
          "state": {
            "_dom_classes": [],
            "_model_module": "@jupyter-widgets/controls",
            "_model_module_version": "1.5.0",
            "_model_name": "HTMLModel",
            "_view_count": null,
            "_view_module": "@jupyter-widgets/controls",
            "_view_module_version": "1.5.0",
            "_view_name": "HTMLView",
            "description": "",
            "description_tooltip": null,
            "layout": "IPY_MODEL_29381f52afcf4d9c940f5731b17cedc4",
            "placeholder": "​",
            "style": "IPY_MODEL_55239199ea224de3bec430300dc2bd6a",
            "value": " 433M/433M [00:03&lt;00:00, 89.3MB/s]"
          }
        },
        "6e5945f9ca374a62892f7e51200aa311": {
          "model_module": "@jupyter-widgets/controls",
          "model_module_version": "1.5.0",
          "model_name": "HTMLModel",
          "state": {
            "_dom_classes": [],
            "_model_module": "@jupyter-widgets/controls",
            "_model_module_version": "1.5.0",
            "_model_name": "HTMLModel",
            "_view_count": null,
            "_view_module": "@jupyter-widgets/controls",
            "_view_module_version": "1.5.0",
            "_view_name": "HTMLView",
            "description": "",
            "description_tooltip": null,
            "layout": "IPY_MODEL_9272d68e403c42b4849962783f6d5a89",
            "placeholder": "​",
            "style": "IPY_MODEL_d50e8e787b584b568d42b9a225f0afb8",
            "value": " 213k/213k [00:00&lt;00:00, 3.66MB/s]"
          }
        },
        "75ff7ceeeb414d619beb7a61f7035398": {
          "model_module": "@jupyter-widgets/base",
          "model_module_version": "1.2.0",
          "model_name": "LayoutModel",
          "state": {
            "_model_module": "@jupyter-widgets/base",
            "_model_module_version": "1.2.0",
            "_model_name": "LayoutModel",
            "_view_count": null,
            "_view_module": "@jupyter-widgets/base",
            "_view_module_version": "1.2.0",
            "_view_name": "LayoutView",
            "align_content": null,
            "align_items": null,
            "align_self": null,
            "border": null,
            "bottom": null,
            "display": null,
            "flex": null,
            "flex_flow": null,
            "grid_area": null,
            "grid_auto_columns": null,
            "grid_auto_flow": null,
            "grid_auto_rows": null,
            "grid_column": null,
            "grid_gap": null,
            "grid_row": null,
            "grid_template_areas": null,
            "grid_template_columns": null,
            "grid_template_rows": null,
            "height": null,
            "justify_content": null,
            "justify_items": null,
            "left": null,
            "margin": null,
            "max_height": null,
            "max_width": null,
            "min_height": null,
            "min_width": null,
            "object_fit": null,
            "object_position": null,
            "order": null,
            "overflow": null,
            "overflow_x": null,
            "overflow_y": null,
            "padding": null,
            "right": null,
            "top": null,
            "visibility": null,
            "width": null
          }
        },
        "7acc31b26d34422eb861a29f3f4b3a3c": {
          "model_module": "@jupyter-widgets/controls",
          "model_module_version": "1.5.0",
          "model_name": "HTMLModel",
          "state": {
            "_dom_classes": [],
            "_model_module": "@jupyter-widgets/controls",
            "_model_module_version": "1.5.0",
            "_model_name": "HTMLModel",
            "_view_count": null,
            "_view_module": "@jupyter-widgets/controls",
            "_view_module_version": "1.5.0",
            "_view_name": "HTMLView",
            "description": "",
            "description_tooltip": null,
            "layout": "IPY_MODEL_8539330d4244409caf20c284ef69d5db",
            "placeholder": "​",
            "style": "IPY_MODEL_bbdd778f8bd54957b8e37053b3005580",
            "value": " 112/112 [00:00&lt;00:00, 7.30kB/s]"
          }
        },
        "7b4ae39a81ff443b81fb1f0487334455": {
          "model_module": "@jupyter-widgets/base",
          "model_module_version": "1.2.0",
          "model_name": "LayoutModel",
          "state": {
            "_model_module": "@jupyter-widgets/base",
            "_model_module_version": "1.2.0",
            "_model_name": "LayoutModel",
            "_view_count": null,
            "_view_module": "@jupyter-widgets/base",
            "_view_module_version": "1.2.0",
            "_view_name": "LayoutView",
            "align_content": null,
            "align_items": null,
            "align_self": null,
            "border": null,
            "bottom": null,
            "display": null,
            "flex": null,
            "flex_flow": null,
            "grid_area": null,
            "grid_auto_columns": null,
            "grid_auto_flow": null,
            "grid_auto_rows": null,
            "grid_column": null,
            "grid_gap": null,
            "grid_row": null,
            "grid_template_areas": null,
            "grid_template_columns": null,
            "grid_template_rows": null,
            "height": null,
            "justify_content": null,
            "justify_items": null,
            "left": null,
            "margin": null,
            "max_height": null,
            "max_width": null,
            "min_height": null,
            "min_width": null,
            "object_fit": null,
            "object_position": null,
            "order": null,
            "overflow": null,
            "overflow_x": null,
            "overflow_y": null,
            "padding": null,
            "right": null,
            "top": null,
            "visibility": null,
            "width": null
          }
        },
        "7f4d2fc0d6ed4e4981900561f0c04fb4": {
          "model_module": "@jupyter-widgets/controls",
          "model_module_version": "1.5.0",
          "model_name": "DescriptionStyleModel",
          "state": {
            "_model_module": "@jupyter-widgets/controls",
            "_model_module_version": "1.5.0",
            "_model_name": "DescriptionStyleModel",
            "_view_count": null,
            "_view_module": "@jupyter-widgets/base",
            "_view_module_version": "1.2.0",
            "_view_name": "StyleView",
            "description_width": ""
          }
        },
        "8539330d4244409caf20c284ef69d5db": {
          "model_module": "@jupyter-widgets/base",
          "model_module_version": "1.2.0",
          "model_name": "LayoutModel",
          "state": {
            "_model_module": "@jupyter-widgets/base",
            "_model_module_version": "1.2.0",
            "_model_name": "LayoutModel",
            "_view_count": null,
            "_view_module": "@jupyter-widgets/base",
            "_view_module_version": "1.2.0",
            "_view_name": "LayoutView",
            "align_content": null,
            "align_items": null,
            "align_self": null,
            "border": null,
            "bottom": null,
            "display": null,
            "flex": null,
            "flex_flow": null,
            "grid_area": null,
            "grid_auto_columns": null,
            "grid_auto_flow": null,
            "grid_auto_rows": null,
            "grid_column": null,
            "grid_gap": null,
            "grid_row": null,
            "grid_template_areas": null,
            "grid_template_columns": null,
            "grid_template_rows": null,
            "height": null,
            "justify_content": null,
            "justify_items": null,
            "left": null,
            "margin": null,
            "max_height": null,
            "max_width": null,
            "min_height": null,
            "min_width": null,
            "object_fit": null,
            "object_position": null,
            "order": null,
            "overflow": null,
            "overflow_x": null,
            "overflow_y": null,
            "padding": null,
            "right": null,
            "top": null,
            "visibility": null,
            "width": null
          }
        },
        "8593261e20744e988cd015462a175787": {
          "model_module": "@jupyter-widgets/base",
          "model_module_version": "1.2.0",
          "model_name": "LayoutModel",
          "state": {
            "_model_module": "@jupyter-widgets/base",
            "_model_module_version": "1.2.0",
            "_model_name": "LayoutModel",
            "_view_count": null,
            "_view_module": "@jupyter-widgets/base",
            "_view_module_version": "1.2.0",
            "_view_name": "LayoutView",
            "align_content": null,
            "align_items": null,
            "align_self": null,
            "border": null,
            "bottom": null,
            "display": null,
            "flex": null,
            "flex_flow": null,
            "grid_area": null,
            "grid_auto_columns": null,
            "grid_auto_flow": null,
            "grid_auto_rows": null,
            "grid_column": null,
            "grid_gap": null,
            "grid_row": null,
            "grid_template_areas": null,
            "grid_template_columns": null,
            "grid_template_rows": null,
            "height": null,
            "justify_content": null,
            "justify_items": null,
            "left": null,
            "margin": null,
            "max_height": null,
            "max_width": null,
            "min_height": null,
            "min_width": null,
            "object_fit": null,
            "object_position": null,
            "order": null,
            "overflow": null,
            "overflow_x": null,
            "overflow_y": null,
            "padding": null,
            "right": null,
            "top": null,
            "visibility": null,
            "width": null
          }
        },
        "9272d68e403c42b4849962783f6d5a89": {
          "model_module": "@jupyter-widgets/base",
          "model_module_version": "1.2.0",
          "model_name": "LayoutModel",
          "state": {
            "_model_module": "@jupyter-widgets/base",
            "_model_module_version": "1.2.0",
            "_model_name": "LayoutModel",
            "_view_count": null,
            "_view_module": "@jupyter-widgets/base",
            "_view_module_version": "1.2.0",
            "_view_name": "LayoutView",
            "align_content": null,
            "align_items": null,
            "align_self": null,
            "border": null,
            "bottom": null,
            "display": null,
            "flex": null,
            "flex_flow": null,
            "grid_area": null,
            "grid_auto_columns": null,
            "grid_auto_flow": null,
            "grid_auto_rows": null,
            "grid_column": null,
            "grid_gap": null,
            "grid_row": null,
            "grid_template_areas": null,
            "grid_template_columns": null,
            "grid_template_rows": null,
            "height": null,
            "justify_content": null,
            "justify_items": null,
            "left": null,
            "margin": null,
            "max_height": null,
            "max_width": null,
            "min_height": null,
            "min_width": null,
            "object_fit": null,
            "object_position": null,
            "order": null,
            "overflow": null,
            "overflow_x": null,
            "overflow_y": null,
            "padding": null,
            "right": null,
            "top": null,
            "visibility": null,
            "width": null
          }
        },
        "9d018c87d41d409686a7e73f3ceb3a48": {
          "model_module": "@jupyter-widgets/controls",
          "model_module_version": "1.5.0",
          "model_name": "FloatProgressModel",
          "state": {
            "_dom_classes": [],
            "_model_module": "@jupyter-widgets/controls",
            "_model_module_version": "1.5.0",
            "_model_name": "FloatProgressModel",
            "_view_count": null,
            "_view_module": "@jupyter-widgets/controls",
            "_view_module_version": "1.5.0",
            "_view_name": "ProgressView",
            "bar_style": "success",
            "description": "",
            "description_tooltip": null,
            "layout": "IPY_MODEL_1b36a9c50c3d42cbb7c8e8b9129754a6",
            "max": 508,
            "min": 0,
            "orientation": "horizontal",
            "style": "IPY_MODEL_4bafe33f6b6e4b218664652cadb3410b",
            "value": 508
          }
        },
        "b23da79d06264573a63f1d675c827591": {
          "model_module": "@jupyter-widgets/controls",
          "model_module_version": "1.5.0",
          "model_name": "HTMLModel",
          "state": {
            "_dom_classes": [],
            "_model_module": "@jupyter-widgets/controls",
            "_model_module_version": "1.5.0",
            "_model_name": "HTMLModel",
            "_view_count": null,
            "_view_module": "@jupyter-widgets/controls",
            "_view_module_version": "1.5.0",
            "_view_name": "HTMLView",
            "description": "",
            "description_tooltip": null,
            "layout": "IPY_MODEL_fcc663725e9c4d4d8bbed7f59ed0937f",
            "placeholder": "​",
            "style": "IPY_MODEL_d115d255103d46aea18f65f895b88e1e",
            "value": " 508/508 [00:00&lt;00:00, 34.2kB/s]"
          }
        },
        "b35ddff2951543fab31650137bce58d9": {
          "model_module": "@jupyter-widgets/base",
          "model_module_version": "1.2.0",
          "model_name": "LayoutModel",
          "state": {
            "_model_module": "@jupyter-widgets/base",
            "_model_module_version": "1.2.0",
            "_model_name": "LayoutModel",
            "_view_count": null,
            "_view_module": "@jupyter-widgets/base",
            "_view_module_version": "1.2.0",
            "_view_name": "LayoutView",
            "align_content": null,
            "align_items": null,
            "align_self": null,
            "border": null,
            "bottom": null,
            "display": null,
            "flex": null,
            "flex_flow": null,
            "grid_area": null,
            "grid_auto_columns": null,
            "grid_auto_flow": null,
            "grid_auto_rows": null,
            "grid_column": null,
            "grid_gap": null,
            "grid_row": null,
            "grid_template_areas": null,
            "grid_template_columns": null,
            "grid_template_rows": null,
            "height": null,
            "justify_content": null,
            "justify_items": null,
            "left": null,
            "margin": null,
            "max_height": null,
            "max_width": null,
            "min_height": null,
            "min_width": null,
            "object_fit": null,
            "object_position": null,
            "order": null,
            "overflow": null,
            "overflow_x": null,
            "overflow_y": null,
            "padding": null,
            "right": null,
            "top": null,
            "visibility": null,
            "width": null
          }
        },
        "b37bf994f1744c55b99ba818cc37ce21": {
          "model_module": "@jupyter-widgets/controls",
          "model_module_version": "1.5.0",
          "model_name": "HTMLModel",
          "state": {
            "_dom_classes": [],
            "_model_module": "@jupyter-widgets/controls",
            "_model_module_version": "1.5.0",
            "_model_name": "HTMLModel",
            "_view_count": null,
            "_view_module": "@jupyter-widgets/controls",
            "_view_module_version": "1.5.0",
            "_view_name": "HTMLView",
            "description": "",
            "description_tooltip": null,
            "layout": "IPY_MODEL_7b4ae39a81ff443b81fb1f0487334455",
            "placeholder": "​",
            "style": "IPY_MODEL_539fe8ef62634df5a82e1b158d841335",
            "value": " 152/152 [00:00&lt;00:00, 10.8kB/s]"
          }
        },
        "b6c18c7a5fd34664af8454e019aa0ed7": {
          "model_module": "@jupyter-widgets/controls",
          "model_module_version": "1.5.0",
          "model_name": "ProgressStyleModel",
          "state": {
            "_model_module": "@jupyter-widgets/controls",
            "_model_module_version": "1.5.0",
            "_model_name": "ProgressStyleModel",
            "_view_count": null,
            "_view_module": "@jupyter-widgets/base",
            "_view_module_version": "1.2.0",
            "_view_name": "StyleView",
            "bar_color": null,
            "description_width": ""
          }
        },
        "bb30581e982a44fb945dc35a81694c4a": {
          "model_module": "@jupyter-widgets/controls",
          "model_module_version": "1.5.0",
          "model_name": "HTMLModel",
          "state": {
            "_dom_classes": [],
            "_model_module": "@jupyter-widgets/controls",
            "_model_module_version": "1.5.0",
            "_model_name": "HTMLModel",
            "_view_count": null,
            "_view_module": "@jupyter-widgets/controls",
            "_view_module_version": "1.5.0",
            "_view_name": "HTMLView",
            "description": "",
            "description_tooltip": null,
            "layout": "IPY_MODEL_f9030f80154346d287c41d6f90f38720",
            "placeholder": "​",
            "style": "IPY_MODEL_c0da5d1832254ee5b422c9db6fc6565d",
            "value": "model.safetensors: 100%"
          }
        },
        "bbdd778f8bd54957b8e37053b3005580": {
          "model_module": "@jupyter-widgets/controls",
          "model_module_version": "1.5.0",
          "model_name": "DescriptionStyleModel",
          "state": {
            "_model_module": "@jupyter-widgets/controls",
            "_model_module_version": "1.5.0",
            "_model_name": "DescriptionStyleModel",
            "_view_count": null,
            "_view_module": "@jupyter-widgets/base",
            "_view_module_version": "1.2.0",
            "_view_name": "StyleView",
            "description_width": ""
          }
        },
        "c0da5d1832254ee5b422c9db6fc6565d": {
          "model_module": "@jupyter-widgets/controls",
          "model_module_version": "1.5.0",
          "model_name": "DescriptionStyleModel",
          "state": {
            "_model_module": "@jupyter-widgets/controls",
            "_model_module_version": "1.5.0",
            "_model_name": "DescriptionStyleModel",
            "_view_count": null,
            "_view_module": "@jupyter-widgets/base",
            "_view_module_version": "1.2.0",
            "_view_name": "StyleView",
            "description_width": ""
          }
        },
        "c218a532c1964245a4ebdc6335e15fa0": {
          "model_module": "@jupyter-widgets/base",
          "model_module_version": "1.2.0",
          "model_name": "LayoutModel",
          "state": {
            "_model_module": "@jupyter-widgets/base",
            "_model_module_version": "1.2.0",
            "_model_name": "LayoutModel",
            "_view_count": null,
            "_view_module": "@jupyter-widgets/base",
            "_view_module_version": "1.2.0",
            "_view_name": "LayoutView",
            "align_content": null,
            "align_items": null,
            "align_self": null,
            "border": null,
            "bottom": null,
            "display": null,
            "flex": null,
            "flex_flow": null,
            "grid_area": null,
            "grid_auto_columns": null,
            "grid_auto_flow": null,
            "grid_auto_rows": null,
            "grid_column": null,
            "grid_gap": null,
            "grid_row": null,
            "grid_template_areas": null,
            "grid_template_columns": null,
            "grid_template_rows": null,
            "height": null,
            "justify_content": null,
            "justify_items": null,
            "left": null,
            "margin": null,
            "max_height": null,
            "max_width": null,
            "min_height": null,
            "min_width": null,
            "object_fit": null,
            "object_position": null,
            "order": null,
            "overflow": null,
            "overflow_x": null,
            "overflow_y": null,
            "padding": null,
            "right": null,
            "top": null,
            "visibility": null,
            "width": null
          }
        },
        "c7122dc625834df389f7f79ae4e9516a": {
          "model_module": "@jupyter-widgets/controls",
          "model_module_version": "1.5.0",
          "model_name": "HBoxModel",
          "state": {
            "_dom_classes": [],
            "_model_module": "@jupyter-widgets/controls",
            "_model_module_version": "1.5.0",
            "_model_name": "HBoxModel",
            "_view_count": null,
            "_view_module": "@jupyter-widgets/controls",
            "_view_module_version": "1.5.0",
            "_view_name": "HBoxView",
            "box_style": "",
            "children": [
              "IPY_MODEL_fd26654ac2ef4c4cac2022a003c2ce79",
              "IPY_MODEL_4ec15150b37c46c2971909b09b6722d1",
              "IPY_MODEL_7acc31b26d34422eb861a29f3f4b3a3c"
            ],
            "layout": "IPY_MODEL_b35ddff2951543fab31650137bce58d9"
          }
        },
        "d115d255103d46aea18f65f895b88e1e": {
          "model_module": "@jupyter-widgets/controls",
          "model_module_version": "1.5.0",
          "model_name": "DescriptionStyleModel",
          "state": {
            "_model_module": "@jupyter-widgets/controls",
            "_model_module_version": "1.5.0",
            "_model_name": "DescriptionStyleModel",
            "_view_count": null,
            "_view_module": "@jupyter-widgets/base",
            "_view_module_version": "1.2.0",
            "_view_name": "StyleView",
            "description_width": ""
          }
        },
        "d50e8e787b584b568d42b9a225f0afb8": {
          "model_module": "@jupyter-widgets/controls",
          "model_module_version": "1.5.0",
          "model_name": "DescriptionStyleModel",
          "state": {
            "_model_module": "@jupyter-widgets/controls",
            "_model_module_version": "1.5.0",
            "_model_name": "DescriptionStyleModel",
            "_view_count": null,
            "_view_module": "@jupyter-widgets/base",
            "_view_module_version": "1.2.0",
            "_view_name": "StyleView",
            "description_width": ""
          }
        },
        "d5c30b431cba4e439735e5aa240dc0ee": {
          "model_module": "@jupyter-widgets/base",
          "model_module_version": "1.2.0",
          "model_name": "LayoutModel",
          "state": {
            "_model_module": "@jupyter-widgets/base",
            "_model_module_version": "1.2.0",
            "_model_name": "LayoutModel",
            "_view_count": null,
            "_view_module": "@jupyter-widgets/base",
            "_view_module_version": "1.2.0",
            "_view_name": "LayoutView",
            "align_content": null,
            "align_items": null,
            "align_self": null,
            "border": null,
            "bottom": null,
            "display": null,
            "flex": null,
            "flex_flow": null,
            "grid_area": null,
            "grid_auto_columns": null,
            "grid_auto_flow": null,
            "grid_auto_rows": null,
            "grid_column": null,
            "grid_gap": null,
            "grid_row": null,
            "grid_template_areas": null,
            "grid_template_columns": null,
            "grid_template_rows": null,
            "height": null,
            "justify_content": null,
            "justify_items": null,
            "left": null,
            "margin": null,
            "max_height": null,
            "max_width": null,
            "min_height": null,
            "min_width": null,
            "object_fit": null,
            "object_position": null,
            "order": null,
            "overflow": null,
            "overflow_x": null,
            "overflow_y": null,
            "padding": null,
            "right": null,
            "top": null,
            "visibility": null,
            "width": null
          }
        },
        "d989480394124ae084968f2cd51e12bc": {
          "model_module": "@jupyter-widgets/controls",
          "model_module_version": "1.5.0",
          "model_name": "DescriptionStyleModel",
          "state": {
            "_model_module": "@jupyter-widgets/controls",
            "_model_module_version": "1.5.0",
            "_model_name": "DescriptionStyleModel",
            "_view_count": null,
            "_view_module": "@jupyter-widgets/base",
            "_view_module_version": "1.2.0",
            "_view_name": "StyleView",
            "description_width": ""
          }
        },
        "e0365bb5caea45fb9125d146fbba5e8e": {
          "model_module": "@jupyter-widgets/controls",
          "model_module_version": "1.5.0",
          "model_name": "HTMLModel",
          "state": {
            "_dom_classes": [],
            "_model_module": "@jupyter-widgets/controls",
            "_model_module_version": "1.5.0",
            "_model_name": "HTMLModel",
            "_view_count": null,
            "_view_module": "@jupyter-widgets/controls",
            "_view_module_version": "1.5.0",
            "_view_name": "HTMLView",
            "description": "",
            "description_tooltip": null,
            "layout": "IPY_MODEL_d5c30b431cba4e439735e5aa240dc0ee",
            "placeholder": "​",
            "style": "IPY_MODEL_7f4d2fc0d6ed4e4981900561f0c04fb4",
            "value": "config.json: 100%"
          }
        },
        "e0c2b592540d40b297a23d712d1259df": {
          "model_module": "@jupyter-widgets/controls",
          "model_module_version": "1.5.0",
          "model_name": "FloatProgressModel",
          "state": {
            "_dom_classes": [],
            "_model_module": "@jupyter-widgets/controls",
            "_model_module_version": "1.5.0",
            "_model_name": "FloatProgressModel",
            "_view_count": null,
            "_view_module": "@jupyter-widgets/controls",
            "_view_module_version": "1.5.0",
            "_view_name": "ProgressView",
            "bar_style": "success",
            "description": "",
            "description_tooltip": null,
            "layout": "IPY_MODEL_c218a532c1964245a4ebdc6335e15fa0",
            "max": 213450,
            "min": 0,
            "orientation": "horizontal",
            "style": "IPY_MODEL_4b07f4a7810c4a5ab3e491bd0eeb67f2",
            "value": 213450
          }
        },
        "e18708cd0ef14cc085a8e2081b9dee36": {
          "model_module": "@jupyter-widgets/base",
          "model_module_version": "1.2.0",
          "model_name": "LayoutModel",
          "state": {
            "_model_module": "@jupyter-widgets/base",
            "_model_module_version": "1.2.0",
            "_model_name": "LayoutModel",
            "_view_count": null,
            "_view_module": "@jupyter-widgets/base",
            "_view_module_version": "1.2.0",
            "_view_name": "LayoutView",
            "align_content": null,
            "align_items": null,
            "align_self": null,
            "border": null,
            "bottom": null,
            "display": null,
            "flex": null,
            "flex_flow": null,
            "grid_area": null,
            "grid_auto_columns": null,
            "grid_auto_flow": null,
            "grid_auto_rows": null,
            "grid_column": null,
            "grid_gap": null,
            "grid_row": null,
            "grid_template_areas": null,
            "grid_template_columns": null,
            "grid_template_rows": null,
            "height": null,
            "justify_content": null,
            "justify_items": null,
            "left": null,
            "margin": null,
            "max_height": null,
            "max_width": null,
            "min_height": null,
            "min_width": null,
            "object_fit": null,
            "object_position": null,
            "order": null,
            "overflow": null,
            "overflow_x": null,
            "overflow_y": null,
            "padding": null,
            "right": null,
            "top": null,
            "visibility": null,
            "width": null
          }
        },
        "e6366a00aa544df5a5e1ef21dc62978a": {
          "model_module": "@jupyter-widgets/controls",
          "model_module_version": "1.5.0",
          "model_name": "FloatProgressModel",
          "state": {
            "_dom_classes": [],
            "_model_module": "@jupyter-widgets/controls",
            "_model_module_version": "1.5.0",
            "_model_name": "FloatProgressModel",
            "_view_count": null,
            "_view_module": "@jupyter-widgets/controls",
            "_view_module_version": "1.5.0",
            "_view_name": "ProgressView",
            "bar_style": "success",
            "description": "",
            "description_tooltip": null,
            "layout": "IPY_MODEL_58da84cf8b7c44049b1f8d86a81a7dab",
            "max": 433270764,
            "min": 0,
            "orientation": "horizontal",
            "style": "IPY_MODEL_b6c18c7a5fd34664af8454e019aa0ed7",
            "value": 433270764
          }
        },
        "ee5fdb1b766e4e669ee1053b455a8a79": {
          "model_module": "@jupyter-widgets/base",
          "model_module_version": "1.2.0",
          "model_name": "LayoutModel",
          "state": {
            "_model_module": "@jupyter-widgets/base",
            "_model_module_version": "1.2.0",
            "_model_name": "LayoutModel",
            "_view_count": null,
            "_view_module": "@jupyter-widgets/base",
            "_view_module_version": "1.2.0",
            "_view_name": "LayoutView",
            "align_content": null,
            "align_items": null,
            "align_self": null,
            "border": null,
            "bottom": null,
            "display": null,
            "flex": null,
            "flex_flow": null,
            "grid_area": null,
            "grid_auto_columns": null,
            "grid_auto_flow": null,
            "grid_auto_rows": null,
            "grid_column": null,
            "grid_gap": null,
            "grid_row": null,
            "grid_template_areas": null,
            "grid_template_columns": null,
            "grid_template_rows": null,
            "height": null,
            "justify_content": null,
            "justify_items": null,
            "left": null,
            "margin": null,
            "max_height": null,
            "max_width": null,
            "min_height": null,
            "min_width": null,
            "object_fit": null,
            "object_position": null,
            "order": null,
            "overflow": null,
            "overflow_x": null,
            "overflow_y": null,
            "padding": null,
            "right": null,
            "top": null,
            "visibility": null,
            "width": null
          }
        },
        "efbcbd2d88e84a59b3aaeae4756de75b": {
          "model_module": "@jupyter-widgets/controls",
          "model_module_version": "1.5.0",
          "model_name": "HTMLModel",
          "state": {
            "_dom_classes": [],
            "_model_module": "@jupyter-widgets/controls",
            "_model_module_version": "1.5.0",
            "_model_name": "HTMLModel",
            "_view_count": null,
            "_view_module": "@jupyter-widgets/controls",
            "_view_module_version": "1.5.0",
            "_view_name": "HTMLView",
            "description": "",
            "description_tooltip": null,
            "layout": "IPY_MODEL_4f8263c3d6f0492095ef20c310386172",
            "placeholder": "​",
            "style": "IPY_MODEL_f38fb286d5204dc29eef55dfd9986400",
            "value": "tokenizer_config.json: 100%"
          }
        },
        "f38fb286d5204dc29eef55dfd9986400": {
          "model_module": "@jupyter-widgets/controls",
          "model_module_version": "1.5.0",
          "model_name": "DescriptionStyleModel",
          "state": {
            "_model_module": "@jupyter-widgets/controls",
            "_model_module_version": "1.5.0",
            "_model_name": "DescriptionStyleModel",
            "_view_count": null,
            "_view_module": "@jupyter-widgets/base",
            "_view_module_version": "1.2.0",
            "_view_name": "StyleView",
            "description_width": ""
          }
        },
        "f8120019067c4a74acfffab761f10868": {
          "model_module": "@jupyter-widgets/controls",
          "model_module_version": "1.5.0",
          "model_name": "ProgressStyleModel",
          "state": {
            "_model_module": "@jupyter-widgets/controls",
            "_model_module_version": "1.5.0",
            "_model_name": "ProgressStyleModel",
            "_view_count": null,
            "_view_module": "@jupyter-widgets/base",
            "_view_module_version": "1.2.0",
            "_view_name": "StyleView",
            "bar_color": null,
            "description_width": ""
          }
        },
        "f9030f80154346d287c41d6f90f38720": {
          "model_module": "@jupyter-widgets/base",
          "model_module_version": "1.2.0",
          "model_name": "LayoutModel",
          "state": {
            "_model_module": "@jupyter-widgets/base",
            "_model_module_version": "1.2.0",
            "_model_name": "LayoutModel",
            "_view_count": null,
            "_view_module": "@jupyter-widgets/base",
            "_view_module_version": "1.2.0",
            "_view_name": "LayoutView",
            "align_content": null,
            "align_items": null,
            "align_self": null,
            "border": null,
            "bottom": null,
            "display": null,
            "flex": null,
            "flex_flow": null,
            "grid_area": null,
            "grid_auto_columns": null,
            "grid_auto_flow": null,
            "grid_auto_rows": null,
            "grid_column": null,
            "grid_gap": null,
            "grid_row": null,
            "grid_template_areas": null,
            "grid_template_columns": null,
            "grid_template_rows": null,
            "height": null,
            "justify_content": null,
            "justify_items": null,
            "left": null,
            "margin": null,
            "max_height": null,
            "max_width": null,
            "min_height": null,
            "min_width": null,
            "object_fit": null,
            "object_position": null,
            "order": null,
            "overflow": null,
            "overflow_x": null,
            "overflow_y": null,
            "padding": null,
            "right": null,
            "top": null,
            "visibility": null,
            "width": null
          }
        },
        "fcc663725e9c4d4d8bbed7f59ed0937f": {
          "model_module": "@jupyter-widgets/base",
          "model_module_version": "1.2.0",
          "model_name": "LayoutModel",
          "state": {
            "_model_module": "@jupyter-widgets/base",
            "_model_module_version": "1.2.0",
            "_model_name": "LayoutModel",
            "_view_count": null,
            "_view_module": "@jupyter-widgets/base",
            "_view_module_version": "1.2.0",
            "_view_name": "LayoutView",
            "align_content": null,
            "align_items": null,
            "align_self": null,
            "border": null,
            "bottom": null,
            "display": null,
            "flex": null,
            "flex_flow": null,
            "grid_area": null,
            "grid_auto_columns": null,
            "grid_auto_flow": null,
            "grid_auto_rows": null,
            "grid_column": null,
            "grid_gap": null,
            "grid_row": null,
            "grid_template_areas": null,
            "grid_template_columns": null,
            "grid_template_rows": null,
            "height": null,
            "justify_content": null,
            "justify_items": null,
            "left": null,
            "margin": null,
            "max_height": null,
            "max_width": null,
            "min_height": null,
            "min_width": null,
            "object_fit": null,
            "object_position": null,
            "order": null,
            "overflow": null,
            "overflow_x": null,
            "overflow_y": null,
            "padding": null,
            "right": null,
            "top": null,
            "visibility": null,
            "width": null
          }
        },
        "fd26654ac2ef4c4cac2022a003c2ce79": {
          "model_module": "@jupyter-widgets/controls",
          "model_module_version": "1.5.0",
          "model_name": "HTMLModel",
          "state": {
            "_dom_classes": [],
            "_model_module": "@jupyter-widgets/controls",
            "_model_module_version": "1.5.0",
            "_model_name": "HTMLModel",
            "_view_count": null,
            "_view_module": "@jupyter-widgets/controls",
            "_view_module_version": "1.5.0",
            "_view_name": "HTMLView",
            "description": "",
            "description_tooltip": null,
            "layout": "IPY_MODEL_3ec2c2dd26234d83bb32347295c165b4",
            "placeholder": "​",
            "style": "IPY_MODEL_d989480394124ae084968f2cd51e12bc",
            "value": "special_tokens_map.json: 100%"
          }
        }
      }
    }
  },
  "nbformat": 4,
  "nbformat_minor": 0
}