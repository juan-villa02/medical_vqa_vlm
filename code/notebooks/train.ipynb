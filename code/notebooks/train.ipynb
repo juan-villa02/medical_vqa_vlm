{
  "cells": [
    {
      "cell_type": "markdown",
      "metadata": {
        "id": "view-in-github",
        "colab_type": "text"
      },
      "source": [
        "<a href=\"https://colab.research.google.com/github/juan-villa02/medical_vqa_vlm/blob/main/code/notebooks/train.ipynb\" target=\"_parent\"><img src=\"https://colab.research.google.com/assets/colab-badge.svg\" alt=\"Open In Colab\"/></a>"
      ]
    },
    {
      "cell_type": "markdown",
      "metadata": {
        "id": "9gIbSRmC_Q8o"
      },
      "source": [
        "# VQA Model - BERT + ResNet18"
      ]
    },
    {
      "cell_type": "markdown",
      "metadata": {
        "id": "nnubYJEE_g7f"
      },
      "source": [
        "## Libraries/Dependencies"
      ]
    },
    {
      "cell_type": "code",
      "execution_count": 1,
      "metadata": {
        "id": "JOxuYqd1_aMO"
      },
      "outputs": [],
      "source": [
        "# PyTorch framework\n",
        "import torch\n",
        "import torch.nn as nn\n",
        "import torch.nn.functional as F\n",
        "from torch.nn.utils.rnn import pad_sequence\n",
        "from torch.utils.data import DataLoader, Dataset\n",
        "import torchvision.transforms as transforms\n",
        "import torchvision.models as models\n",
        "import torchvision.utils as utils\n",
        "# Image and mask handling\n",
        "from PIL import Image\n",
        "from skimage import transform\n",
        "import scipy.io as sio\n",
        "# Transformers (Hugginface)\n",
        "from transformers import AutoTokenizer, BertForQuestionAnswering, VisualBertModel, VisualBertForQuestionAnswering, VisualBertConfig\n",
        "# Matplotlib\n",
        "import matplotlib.pyplot as plt\n",
        "# Numpy\n",
        "import numpy as np\n",
        "# Extra dependencies\n",
        "import json\n",
        "import os\n",
        "from tqdm import tqdm\n",
        "import zipfile"
      ]
    },
    {
      "cell_type": "code",
      "execution_count": 2,
      "metadata": {
        "id": "d29Ogg0EBJgx",
        "outputId": "9cc824a6-7996-4690-a3ad-d49a5f2e1208",
        "colab": {
          "base_uri": "https://localhost:8080/"
        }
      },
      "outputs": [
        {
          "output_type": "stream",
          "name": "stdout",
          "text": [
            "cuda:0\n"
          ]
        }
      ],
      "source": [
        "# Set training device to GPU if available\n",
        "device = torch.device(\"cuda:0\" if torch.cuda.is_available() else \"cpu\")\n",
        "print(device)"
      ]
    },
    {
      "cell_type": "markdown",
      "metadata": {
        "id": "-5MQ2XccBctw"
      },
      "source": [
        "## Paths & Data Extraction"
      ]
    },
    {
      "cell_type": "code",
      "execution_count": 3,
      "metadata": {
        "id": "4bhmZStTCxv4",
        "outputId": "55112ef0-798b-4c76-8c2e-1a01480249ab",
        "colab": {
          "base_uri": "https://localhost:8080/"
        }
      },
      "outputs": [
        {
          "output_type": "stream",
          "name": "stdout",
          "text": [
            "Mounted at /content/drive\n"
          ]
        }
      ],
      "source": [
        "from google.colab import drive\n",
        "drive.mount('/content/drive')"
      ]
    },
    {
      "cell_type": "code",
      "execution_count": 4,
      "metadata": {
        "id": "Lhz88OSQBaIZ"
      },
      "outputs": [],
      "source": [
        "path_dir = '.'\n",
        "path_dir = '/content/drive/MyDrive/TFG Juan Villanueva/databases_qa.zip'"
      ]
    },
    {
      "cell_type": "code",
      "execution_count": 5,
      "metadata": {
        "id": "MB-bgRNCoPqN"
      },
      "outputs": [],
      "source": [
        "# Data folder\n",
        "data_folder = './data/'"
      ]
    },
    {
      "cell_type": "code",
      "execution_count": 6,
      "metadata": {
        "id": "-Nuib-S0pXlU"
      },
      "outputs": [],
      "source": [
        "# ISIC_2016 database\n",
        "train_ISIC_path = 'databases_qa/ISIC_2016'"
      ]
    },
    {
      "cell_type": "code",
      "source": [
        "# def filter_json(json_file, images_dir, output_file):\n",
        "#    filtered_data = []\n",
        "\n",
        "#    with open(json_file, 'r') as f:\n",
        "#        data = json.load(f)\n",
        "\n",
        "#        for item in data:\n",
        "#            image_id = item['image_id'] + '.jpg'\n",
        "#            image_path = os.path.join(images_dir, image_id)\n",
        "\n",
        "#            # Check if the image file exists\n",
        "#            if os.path.exists(image_path):\n",
        "#                filtered_data.append(item)\n",
        "\n",
        "#    # Write the filtered data to the output JSON file\n",
        "#    with open(output_file, 'w') as f:\n",
        "#        json.dump(filtered_data, f, indent=4)\n",
        "\n",
        "#    return"
      ],
      "metadata": {
        "id": "OdoT841ba95x"
      },
      "execution_count": 7,
      "outputs": []
    },
    {
      "cell_type": "code",
      "source": [
        "# json_file = '/content/data/databases_qa/ISIC_2016/qa_ISIC.json'\n",
        "# images_dir = '/content/data/databases_qa/ISIC_2016/images/ISBI2016_ISIC_Part1_Test_Data_orig'\n",
        "# output_file = 'qa_filtered_ISIC.json'\n",
        "# filter_json(json_file, images_dir, output_file)"
      ],
      "metadata": {
        "id": "shV8YZa3bA5u"
      },
      "execution_count": 8,
      "outputs": []
    },
    {
      "cell_type": "code",
      "source": [
        "# ISIC_2016 database (images and masks)\n",
        "train_extra_ISIC_path = 'ISBI2016_ISIC_Part3_Training_Data_orig'"
      ],
      "metadata": {
        "id": "ZHU5hHJY-pDw"
      },
      "execution_count": 9,
      "outputs": []
    },
    {
      "cell_type": "code",
      "execution_count": 10,
      "metadata": {
        "id": "gMjnxi-_p38f"
      },
      "outputs": [],
      "source": [
        "# Pizarro database (images)\n",
        "pizarro_path = 'databases_qa/pizarro'"
      ]
    },
    {
      "cell_type": "code",
      "execution_count": 11,
      "metadata": {
        "id": "vcY75F9to4XA"
      },
      "outputs": [],
      "source": [
        "# Function to extract databases from the main zip file\n",
        "def extract_databases(zip_path, extract_path):\n",
        "    with zipfile.ZipFile(zip_path, 'r') as zip_ref:\n",
        "        zip_ref.extractall(extract_path)"
      ]
    },
    {
      "cell_type": "code",
      "execution_count": 12,
      "metadata": {
        "id": "XecsY9GIlCDx"
      },
      "outputs": [],
      "source": [
        "# Extract all databases from the main zip file\n",
        "if path_dir != '.':\n",
        "  extract_databases(path_dir, data_folder)"
      ]
    },
    {
      "cell_type": "code",
      "execution_count": 13,
      "metadata": {
        "id": "IenAqE-1rKgD"
      },
      "outputs": [],
      "source": [
        "# ISIC_2016 images\n",
        "database1_path = os.path.join(data_folder, train_ISIC_path)"
      ]
    },
    {
      "cell_type": "code",
      "execution_count": 14,
      "metadata": {
        "id": "Bfi5boA0s727"
      },
      "outputs": [],
      "source": [
        "# Pizarro images\n",
        "# 500 imágenes; Las 46 primeras son más complejas, en cuanto a diagnóstico. (Entrega 1) El resto están más equilibradas (Entrega 2-5)\n",
        "database2_path = os.path.join(data_folder, pizarro_path)"
      ]
    },
    {
      "cell_type": "markdown",
      "metadata": {
        "id": "SedFsMzrAegB"
      },
      "source": [
        "## VQA Dataset - Images, Masks, & QA"
      ]
    },
    {
      "cell_type": "code",
      "execution_count": 15,
      "metadata": {
        "id": "_AUIrbp_w4CS"
      },
      "outputs": [],
      "source": [
        "# Dataset class to load images and questions\n",
        "class VQADataset(Dataset):\n",
        "    def __init__(self, data_dir, json_file, tokenizer=None, transform=None, extraPath=None):\n",
        "        self.data_dir = data_dir\n",
        "        self.images_dir = os.path.join(self.data_dir, 'images')\n",
        "        self.masks_dir = os.path.join(self.data_dir, 'masks')\n",
        "\n",
        "        # Handle special ISIC data folder\n",
        "        self.extraPath = extraPath\n",
        "        if self.extraPath is not None:\n",
        "            self.images_dir = os.path.join(self.images_dir, self.extraPath)\n",
        "            self.masks_dir = os.path.join(self.masks_dir, self.extraPath)\n",
        "\n",
        "        self.transform = transform\n",
        "        self.tokenizer = tokenizer\n",
        "\n",
        "        with open(json_file, 'r') as f:\n",
        "            self.data = json.load(f)\n",
        "\n",
        "    def __len__(self):\n",
        "        return len(self.data)\n",
        "\n",
        "    def __getitem__(self, idx):\n",
        "\n",
        "        item = self.data[idx]\n",
        "        image_path = os.path.join(self.images_dir, item['image_id'])\n",
        "\n",
        "        # Ensure the image ID ends with \".jpg\"\n",
        "        if not image_path.endswith(\".jpg\"):\n",
        "            image_path += \".jpg\"\n",
        "\n",
        "        # Check if the image is available\n",
        "        try:\n",
        "          image = Image.open(image_path).convert('RGB')\n",
        "\n",
        "          # Case 1: Pizarro dataset\n",
        "          if self.extraPath is None:\n",
        "            mask_id = item['image_id'].split('.')[0]\n",
        "            mask_name = 'L' + mask_id + '.pgm'\n",
        "            mask_path = os.path.join(self.masks_dir, mask_name)\n",
        "            mask = Image.open(mask_path)\n",
        "\n",
        "          # Case 2: ISIC dataset\n",
        "          else:\n",
        "            mask_path = os.path.join(self.masks_dir, item['image_id']) + '_Segmentation.png'\n",
        "            mask = Image.open(mask_path)\n",
        "\n",
        "          if self.transform:\n",
        "              image, mask = self.transform((image, mask))\n",
        "\n",
        "          # Store questions and answers in two different arrays\n",
        "          qa_pairs = item['qa_pairs']\n",
        "          questions = [qa['question'] for qa in qa_pairs]\n",
        "          answers = [qa['answer'] for qa in qa_pairs]\n",
        "\n",
        "        except FileNotFoundError as e:\n",
        "\n",
        "          image = None\n",
        "          mask = None\n",
        "          questions = None\n",
        "          answers = None\n",
        "\n",
        "        return image, mask, questions, answers"
      ]
    },
    {
      "cell_type": "markdown",
      "metadata": {
        "id": "---H6oXn4860"
      },
      "source": [
        "## Load pre-trained ResNet18"
      ]
    },
    {
      "cell_type": "code",
      "execution_count": 16,
      "metadata": {
        "id": "cXzT4ZfT5BTU"
      },
      "outputs": [],
      "source": [
        "# Load ResNet-18 model from .pth file\n",
        "def load_resnet(path, optimizer=None, scheduler=None):\n",
        "    resnet = models.resnet18()\n",
        "    # Remove final fully connected layer and avg pooling (we do not want the model to return labels but features with dimension)\n",
        "    resnet.fc = nn.Identity()\n",
        "    resnet.avgpool = nn.Identity()\n",
        "\n",
        "    # Load the weights\n",
        "    state_dict = torch.load(path, map_location=device)['state_dict']\n",
        "\n",
        "    # Remove unexpected keys if they exist\n",
        "    unexpected_keys = ['fc.weight', 'fc.bias']\n",
        "    for key in unexpected_keys:\n",
        "        if key in state_dict:\n",
        "            del state_dict[key]\n",
        "\n",
        "    # Load the weights\n",
        "    resnet.load_state_dict(state_dict)\n",
        "    resnet.eval()\n",
        "\n",
        "    if optimizer is not None:\n",
        "        optimizer.load_state_dict(torch.load(path)['optimizer'])\n",
        "    if scheduler is not None:\n",
        "        scheduler.load_state_dict(torch.load(path)['scheduler'])\n",
        "\n",
        "    resnet.to(device)\n",
        "\n",
        "    return resnet, optimizer, scheduler"
      ]
    },
    {
      "cell_type": "code",
      "execution_count": 17,
      "metadata": {
        "id": "5rGRJcyj5LKz"
      },
      "outputs": [],
      "source": [
        "model_source_path = '/content/drive/MyDrive/TFG Juan Villanueva/codigo diagnostico/bestdiagNet.pth'"
      ]
    },
    {
      "cell_type": "code",
      "execution_count": 18,
      "metadata": {
        "id": "hm9XDY285UOB"
      },
      "outputs": [],
      "source": [
        "resnet, optimizer, scheduler = load_resnet(model_source_path)"
      ]
    },
    {
      "cell_type": "code",
      "execution_count": 19,
      "metadata": {
        "id": "yCtvmxrn9m2u",
        "outputId": "2a77c7cf-cab2-4f22-9098-e5c003a01523",
        "colab": {
          "base_uri": "https://localhost:8080/"
        }
      },
      "outputs": [
        {
          "output_type": "execute_result",
          "data": {
            "text/plain": [
              "ResNet(\n",
              "  (conv1): Conv2d(3, 64, kernel_size=(7, 7), stride=(2, 2), padding=(3, 3), bias=False)\n",
              "  (bn1): BatchNorm2d(64, eps=1e-05, momentum=0.1, affine=True, track_running_stats=True)\n",
              "  (relu): ReLU(inplace=True)\n",
              "  (maxpool): MaxPool2d(kernel_size=3, stride=2, padding=1, dilation=1, ceil_mode=False)\n",
              "  (layer1): Sequential(\n",
              "    (0): BasicBlock(\n",
              "      (conv1): Conv2d(64, 64, kernel_size=(3, 3), stride=(1, 1), padding=(1, 1), bias=False)\n",
              "      (bn1): BatchNorm2d(64, eps=1e-05, momentum=0.1, affine=True, track_running_stats=True)\n",
              "      (relu): ReLU(inplace=True)\n",
              "      (conv2): Conv2d(64, 64, kernel_size=(3, 3), stride=(1, 1), padding=(1, 1), bias=False)\n",
              "      (bn2): BatchNorm2d(64, eps=1e-05, momentum=0.1, affine=True, track_running_stats=True)\n",
              "    )\n",
              "    (1): BasicBlock(\n",
              "      (conv1): Conv2d(64, 64, kernel_size=(3, 3), stride=(1, 1), padding=(1, 1), bias=False)\n",
              "      (bn1): BatchNorm2d(64, eps=1e-05, momentum=0.1, affine=True, track_running_stats=True)\n",
              "      (relu): ReLU(inplace=True)\n",
              "      (conv2): Conv2d(64, 64, kernel_size=(3, 3), stride=(1, 1), padding=(1, 1), bias=False)\n",
              "      (bn2): BatchNorm2d(64, eps=1e-05, momentum=0.1, affine=True, track_running_stats=True)\n",
              "    )\n",
              "  )\n",
              "  (layer2): Sequential(\n",
              "    (0): BasicBlock(\n",
              "      (conv1): Conv2d(64, 128, kernel_size=(3, 3), stride=(2, 2), padding=(1, 1), bias=False)\n",
              "      (bn1): BatchNorm2d(128, eps=1e-05, momentum=0.1, affine=True, track_running_stats=True)\n",
              "      (relu): ReLU(inplace=True)\n",
              "      (conv2): Conv2d(128, 128, kernel_size=(3, 3), stride=(1, 1), padding=(1, 1), bias=False)\n",
              "      (bn2): BatchNorm2d(128, eps=1e-05, momentum=0.1, affine=True, track_running_stats=True)\n",
              "      (downsample): Sequential(\n",
              "        (0): Conv2d(64, 128, kernel_size=(1, 1), stride=(2, 2), bias=False)\n",
              "        (1): BatchNorm2d(128, eps=1e-05, momentum=0.1, affine=True, track_running_stats=True)\n",
              "      )\n",
              "    )\n",
              "    (1): BasicBlock(\n",
              "      (conv1): Conv2d(128, 128, kernel_size=(3, 3), stride=(1, 1), padding=(1, 1), bias=False)\n",
              "      (bn1): BatchNorm2d(128, eps=1e-05, momentum=0.1, affine=True, track_running_stats=True)\n",
              "      (relu): ReLU(inplace=True)\n",
              "      (conv2): Conv2d(128, 128, kernel_size=(3, 3), stride=(1, 1), padding=(1, 1), bias=False)\n",
              "      (bn2): BatchNorm2d(128, eps=1e-05, momentum=0.1, affine=True, track_running_stats=True)\n",
              "    )\n",
              "  )\n",
              "  (layer3): Sequential(\n",
              "    (0): BasicBlock(\n",
              "      (conv1): Conv2d(128, 256, kernel_size=(3, 3), stride=(2, 2), padding=(1, 1), bias=False)\n",
              "      (bn1): BatchNorm2d(256, eps=1e-05, momentum=0.1, affine=True, track_running_stats=True)\n",
              "      (relu): ReLU(inplace=True)\n",
              "      (conv2): Conv2d(256, 256, kernel_size=(3, 3), stride=(1, 1), padding=(1, 1), bias=False)\n",
              "      (bn2): BatchNorm2d(256, eps=1e-05, momentum=0.1, affine=True, track_running_stats=True)\n",
              "      (downsample): Sequential(\n",
              "        (0): Conv2d(128, 256, kernel_size=(1, 1), stride=(2, 2), bias=False)\n",
              "        (1): BatchNorm2d(256, eps=1e-05, momentum=0.1, affine=True, track_running_stats=True)\n",
              "      )\n",
              "    )\n",
              "    (1): BasicBlock(\n",
              "      (conv1): Conv2d(256, 256, kernel_size=(3, 3), stride=(1, 1), padding=(1, 1), bias=False)\n",
              "      (bn1): BatchNorm2d(256, eps=1e-05, momentum=0.1, affine=True, track_running_stats=True)\n",
              "      (relu): ReLU(inplace=True)\n",
              "      (conv2): Conv2d(256, 256, kernel_size=(3, 3), stride=(1, 1), padding=(1, 1), bias=False)\n",
              "      (bn2): BatchNorm2d(256, eps=1e-05, momentum=0.1, affine=True, track_running_stats=True)\n",
              "    )\n",
              "  )\n",
              "  (layer4): Sequential(\n",
              "    (0): BasicBlock(\n",
              "      (conv1): Conv2d(256, 512, kernel_size=(3, 3), stride=(2, 2), padding=(1, 1), bias=False)\n",
              "      (bn1): BatchNorm2d(512, eps=1e-05, momentum=0.1, affine=True, track_running_stats=True)\n",
              "      (relu): ReLU(inplace=True)\n",
              "      (conv2): Conv2d(512, 512, kernel_size=(3, 3), stride=(1, 1), padding=(1, 1), bias=False)\n",
              "      (bn2): BatchNorm2d(512, eps=1e-05, momentum=0.1, affine=True, track_running_stats=True)\n",
              "      (downsample): Sequential(\n",
              "        (0): Conv2d(256, 512, kernel_size=(1, 1), stride=(2, 2), bias=False)\n",
              "        (1): BatchNorm2d(512, eps=1e-05, momentum=0.1, affine=True, track_running_stats=True)\n",
              "      )\n",
              "    )\n",
              "    (1): BasicBlock(\n",
              "      (conv1): Conv2d(512, 512, kernel_size=(3, 3), stride=(1, 1), padding=(1, 1), bias=False)\n",
              "      (bn1): BatchNorm2d(512, eps=1e-05, momentum=0.1, affine=True, track_running_stats=True)\n",
              "      (relu): ReLU(inplace=True)\n",
              "      (conv2): Conv2d(512, 512, kernel_size=(3, 3), stride=(1, 1), padding=(1, 1), bias=False)\n",
              "      (bn2): BatchNorm2d(512, eps=1e-05, momentum=0.1, affine=True, track_running_stats=True)\n",
              "    )\n",
              "  )\n",
              "  (avgpool): Identity()\n",
              "  (fc): Identity()\n",
              ")"
            ]
          },
          "metadata": {},
          "execution_count": 19
        }
      ],
      "source": [
        "resnet"
      ]
    },
    {
      "cell_type": "markdown",
      "metadata": {
        "id": "esJtbykJp-f4"
      },
      "source": [
        "## Image Transformations"
      ]
    },
    {
      "cell_type": "code",
      "source": [
        "class CropByMask(object):\n",
        "    \"\"\"Recortamos la imagen usando la máscara de la lesión.\n",
        "\n",
        "    Args:\n",
        "        border (tupla o int): El borde de recorte alrededor de la máscara. Es sabido que el análisis del borde\n",
        "        de la lesión con la piel circudante es importante para los dermatólogos, por lo que puede ser interesante\n",
        "        dejar una guarda.\n",
        "        Si es una tupla, entonces es (bordery,borderx)\n",
        "    \"\"\"\n",
        "\n",
        "    def __init__(self, border):\n",
        "        assert isinstance(border, (int, tuple))\n",
        "        if isinstance(border, int):\n",
        "            self.border = (border,border)\n",
        "        else:\n",
        "            self.border = border\n",
        "\n",
        "    def __call__(self, sample):\n",
        "\n",
        "        image, mask = np.array(sample[0]), np.array(sample[1])\n",
        "\n",
        "        h, w = image.shape[:2]\n",
        "        #Calculamos los índices del bounding box para hacer el cropping\n",
        "        sidx=np.nonzero(mask)\n",
        "        minx=np.maximum(sidx[1].min()-self.border[1],0)\n",
        "        maxx=np.minimum(sidx[1].max()+1+self.border[1],w)\n",
        "        miny=np.maximum(sidx[0].min()-self.border[0],0)\n",
        "        maxy=np.minimum(sidx[0].max()+1+self.border[1],h)\n",
        "        #Recortamos la imagen\n",
        "        image=image[miny:maxy,minx:maxx,...]\n",
        "        mask=mask[miny:maxy,minx:maxx]\n",
        "\n",
        "        return image, mask"
      ],
      "metadata": {
        "id": "h70nisvTKXU3"
      },
      "execution_count": 20,
      "outputs": []
    },
    {
      "cell_type": "code",
      "source": [
        "class Rescale(object):\n",
        "    \"\"\"Rescales the image to a desired size.\n",
        "\n",
        "    Args:\n",
        "        output_size (tuple or int): Desired output size. If tuple, output is the output_size.\n",
        "            If int, the smaller of the image edges is matched to output_size keeping aspect ratio the same.\n",
        "    \"\"\"\n",
        "\n",
        "    def __init__(self, output_size):\n",
        "        assert isinstance(output_size, (int, tuple))\n",
        "        self.output_size = output_size\n",
        "\n",
        "    def __call__(self, sample):\n",
        "\n",
        "        image_np, mask_np = sample[0], sample[1]\n",
        "\n",
        "        # Get the height and width of the image\n",
        "        h, w = image_np.shape[:2]\n",
        "\n",
        "        if isinstance(self.output_size, int):\n",
        "            if h > w:\n",
        "                new_h, new_w = self.output_size * h / w, self.output_size\n",
        "            else:\n",
        "                new_h, new_w = self.output_size, self.output_size * w / h\n",
        "        else:\n",
        "            new_h, new_w = self.output_size\n",
        "\n",
        "        new_h, new_w = int(new_h), int(new_w)\n",
        "\n",
        "        # Resize the image using scikit-image's resize function\n",
        "        resized_image = transform.resize(image_np, (new_h, new_w))\n",
        "        resized_mask = transform.resize(mask_np, (new_h, new_w))\n",
        "\n",
        "        # Convert the resized NumPy array back to a PIL image\n",
        "        resized_image_pil = Image.fromarray((resized_image * 255).astype(np.uint8))\n",
        "        resized_mask_pil = Image.fromarray((resized_mask * 255).astype(np.uint8))\n",
        "\n",
        "        #return resized_image_pil, resized_mask_pil\n",
        "        return resized_image, resized_mask"
      ],
      "metadata": {
        "id": "IaT2mBMRKbkN"
      },
      "execution_count": 21,
      "outputs": []
    },
    {
      "cell_type": "code",
      "source": [
        "class CenterCrop(object):\n",
        "    \"\"\"Crop the central area of the image\n",
        "\n",
        "    Args:\n",
        "        output_size (tupla or int): Crop size. If int, square crop\n",
        "\n",
        "    \"\"\"\n",
        "\n",
        "    def __init__(self, output_size):\n",
        "        assert isinstance(output_size, (int, tuple))\n",
        "        if isinstance(output_size, int):\n",
        "            self.output_size = (output_size, output_size)\n",
        "        else:\n",
        "            assert len(output_size) == 2\n",
        "            self.output_size = output_size\n",
        "\n",
        "    def __call__(self, sample):\n",
        "\n",
        "        image, mask = sample[0], sample[1]\n",
        "\n",
        "        h, w = image.shape[:2]\n",
        "        new_h, new_w = self.output_size\n",
        "        rem_h = h - new_h\n",
        "        rem_w = w - new_w\n",
        "\n",
        "        if h>new_h:\n",
        "            top = int(rem_h/2)\n",
        "        else:\n",
        "            top=0\n",
        "\n",
        "        if w>new_w:\n",
        "            left = int(rem_w/2)\n",
        "        else:\n",
        "            left = 0\n",
        "\n",
        "        image = image[top: top + new_h,\n",
        "                     left: left + new_w]\n",
        "\n",
        "        mask = mask[top: top + new_h,\n",
        "                      left: left + new_w]\n",
        "\n",
        "\n",
        "        return image, mask"
      ],
      "metadata": {
        "id": "ruyaJGNsKgLX"
      },
      "execution_count": 22,
      "outputs": []
    },
    {
      "cell_type": "code",
      "execution_count": 23,
      "metadata": {
        "id": "Km6vWZvXqqBh"
      },
      "outputs": [],
      "source": [
        "class ToTensor(object):\n",
        "    \"\"\"Converts the image ndarray to a tensor.\"\"\"\n",
        "\n",
        "    def __call__(self, sample):\n",
        "\n",
        "        image, mask = sample[0], sample[1]\n",
        "        # Change the axes\n",
        "        # numpy image: H x W x C\n",
        "        # torch image: C x H x W\n",
        "        # image = np.array(image)\n",
        "        image = image.transpose((2, 0, 1))\n",
        "        image = torch.from_numpy(image)\n",
        "\n",
        "        mask = torch.from_numpy(mask)\n",
        "        mask = mask.unsqueeze(0)\n",
        "\n",
        "        return image, mask\n"
      ]
    },
    {
      "cell_type": "code",
      "execution_count": 24,
      "metadata": {
        "id": "KbPIvTG8p9rw"
      },
      "outputs": [],
      "source": [
        "class Normalize(object):\n",
        "    \"\"\"Normalizes the image by subtracting the mean and dividing by the standard deviations.\n",
        "\n",
        "    Args:\n",
        "        mean: The vector containing the means.\n",
        "        std: The vector containing the standard deviations.\n",
        "    \"\"\"\n",
        "\n",
        "    def __init__(self, mean, std):\n",
        "        assert len(mean) == len(std), 'Length of mean and std vectors is not the same'\n",
        "        self.mean = np.array(mean)\n",
        "        self.std = np.array(std)\n",
        "\n",
        "    def __call__(self, sample):\n",
        "\n",
        "        image, mask = sample[0], sample[1]\n",
        "\n",
        "        # c, h, w = image.shape\n",
        "        # assert c==len(self.mean), 'Length of mean and image is not the same'\n",
        "\n",
        "        dtype = image.dtype\n",
        "        mean = torch.as_tensor(self.mean, dtype=dtype, device=image.device)\n",
        "        std = torch.as_tensor(self.std, dtype=dtype, device=image.device)\n",
        "        # Normalize the image\n",
        "        # image = (image - mean[:, None, None]) / std[:, None, None]\n",
        "        image.sub_(mean[:, None, None]).div_(std[:, None, None])\n",
        "\n",
        "        return image, mask"
      ]
    },
    {
      "cell_type": "code",
      "execution_count": 25,
      "metadata": {
        "id": "Lnu68fiWr7Hd"
      },
      "outputs": [],
      "source": [
        "# Train ISIC Dataset------------------------------------------------------------\n",
        "train_dataset_isic = VQADataset(data_dir=database1_path,\n",
        "                           json_file='/content/data/databases_qa/ISIC_2016/qa_filtered_ISIC.json',\n",
        "                           tokenizer=None,\n",
        "                           transform=transforms.Compose([\n",
        "                            CropByMask(15),\n",
        "                            Rescale(224),\n",
        "                            CenterCrop(224),\n",
        "                            ToTensor(),\n",
        "                            Normalize(mean=[0.485, 0.456, 0.406], std=[0.229, 0.224, 0.225])\n",
        "                            ]),\n",
        "                            extraPath=train_extra_ISIC_path)\n",
        "# # Test ISIC Dataset--------------------------------------------------------------\n",
        "# test_dataset_isic = VQADataset(data_dir=database1_test_path,\n",
        "#                            json_file='/content/data/databases_qa/ISIC_2016/qa_ISIC.json',\n",
        "#                            tokenizer=None,\n",
        "#                            transform=transforms.Compose([\n",
        "#                             Rescale((224,224)),\n",
        "#                             ToTensor(),\n",
        "#                             Normalize(mean=[0.485, 0.456, 0.406], std=[0.229, 0.224, 0.225])\n",
        "#                             ]))"
      ]
    },
    {
      "cell_type": "code",
      "execution_count": 26,
      "metadata": {
        "id": "3BQq_UYpfjyg"
      },
      "outputs": [],
      "source": [
        "# Train Pizarro Dataset------------------------------------------------------------\n",
        "train_dataset_pizarro = VQADataset(data_dir=database2_path,\n",
        "                           json_file='/content/data/databases_qa/pizarro/qa_pizarro.json',\n",
        "                           tokenizer=None,\n",
        "                           transform=transforms.Compose([\n",
        "                            CropByMask(15),\n",
        "                            Rescale(224),\n",
        "                            CenterCrop(224),\n",
        "                            ToTensor(),\n",
        "                            Normalize(mean=[0.485, 0.456, 0.406], std=[0.229, 0.224, 0.225])\n",
        "                            ]))"
      ]
    },
    {
      "cell_type": "markdown",
      "source": [
        "## Define the all the possible answers within both datasets"
      ],
      "metadata": {
        "id": "SBodYMxwROs0"
      }
    },
    {
      "cell_type": "code",
      "source": [
        "# Extract all answers from the dataset\n",
        "all_answers = [answer for _, _, _, answers in train_dataset_pizarro for answer in answers]\n",
        "# Obtain unique answer values\n",
        "unique_answers = list(set(all_answers))"
      ],
      "metadata": {
        "id": "MtaTJ0v3RJ0W"
      },
      "execution_count": 27,
      "outputs": []
    },
    {
      "cell_type": "code",
      "source": [
        "unique_answers"
      ],
      "metadata": {
        "id": "fZOPrVjkTVVA",
        "outputId": "5edea14a-62b3-43e3-fd0c-d2964e075453",
        "colab": {
          "base_uri": "https://localhost:8080/"
        }
      },
      "execution_count": 28,
      "outputs": [
        {
          "output_type": "execute_result",
          "data": {
            "text/plain": [
              "['Yes, subtle pigmented reticulum is observed.',\n",
              " 'Yes, subtle whitish blue veil is observed.',\n",
              " 'The diagnostic impression is spitz/reed nevus.',\n",
              " 'The diagnostic impression is exclude melanoma.',\n",
              " 'Yes, clear peripheral projections are present.',\n",
              " 'Yes, clear gray regression is observed.',\n",
              " 'The diagnostic impression is melanoma.',\n",
              " 'The peripheral globular pattern is irregular conventional.',\n",
              " 'Yes, clear and dominant large globules/cobblestone are observed.',\n",
              " 'The histology diagnostic indicates reed nevus (nr).',\n",
              " 'The diagnostic impression is non-atypical mole.',\n",
              " 'No homogeneous area with vessels is observed.',\n",
              " 'Yes, clear and dominant undefined area is observed.',\n",
              " 'Yes, clear chrysalis is observed.',\n",
              " 'The diagnostic difficulty level is medium.',\n",
              " 'The presence of dysplasia is not available.',\n",
              " 'The global pattern of the lesion is patchy reticular.',\n",
              " 'Yes, subtle homogeneous area without vessels is observed.',\n",
              " 'The diagnostic impression is atypical mole.',\n",
              " 'The peripheral globular pattern is regular bursting.',\n",
              " 'Yes, subtle homogeneous area with vessels is observed.',\n",
              " 'The lesion is .',\n",
              " 'The peripheral globular pattern is irregular bursting.',\n",
              " 'The peripheral globular pattern is .',\n",
              " 'The lesion has been follow-up, without previous dermoscopy.',\n",
              " 'The lesion has been not excised.',\n",
              " 'The histology diagnostic indicates dysplastic melanocytic nevus (dmn).',\n",
              " 'Yes, clear and dominant homogeneous area without vessels is observed.',\n",
              " 'Yes, clear homogeneous area with vessels is observed.',\n",
              " 'The global pattern of the lesion is homogeneous.',\n",
              " 'No chrysalis is observed.',\n",
              " 'The histology diagnostic indicates junctional melanocytic nevus (jmn).',\n",
              " 'The global pattern of the lesion is mixed (mix of two of the above).',\n",
              " 'The presence of dysplasia is .',\n",
              " 'The peripheral globular pattern is absent.',\n",
              " 'Yes, clear small dots/globules are present.',\n",
              " 'Yes, subtle peripheral globules are observed.',\n",
              " 'Yes, subtle large globules/cobblestone are observed.',\n",
              " 'The global pattern of the lesion is cobblestone.',\n",
              " 'Yes, clear and dominant small dots/globules are present.',\n",
              " 'The peripheral globular pattern is regular conventional.',\n",
              " 'The histology diagnostic indicates lentiginous melanocytic nevus (lmn).',\n",
              " 'Yes, clear and dominant pigmented reticulum is observed.',\n",
              " 'The presence of dysplasia is not applicable.',\n",
              " 'No gray regression is observed.',\n",
              " 'The global pattern of the lesion is undefined.',\n",
              " 'The lesion is symmetric.',\n",
              " 'Yes, subtle peripheral projections are present.',\n",
              " 'Yes, subtle gray regression is observed.',\n",
              " 'The presence of dysplasia is severe.',\n",
              " 'No large globules/cobblestone are observed.',\n",
              " 'Yes, clear and dominant peripheral globules are observed.',\n",
              " 'The histology diagnostic indicates compound melanocytic nevus (cmn).',\n",
              " 'No small dots/globules are present.',\n",
              " 'No negative reticulum is observed.',\n",
              " 'The peripheral globular pattern is focal bursting.',\n",
              " 'No homogeneous area without vessels is observed.',\n",
              " 'The peripheral globular pattern is focal conventional.',\n",
              " 'Yes, clear and dominant homogeneous area with vessels is observed.',\n",
              " 'Yes, clear negative reticulum is observed.',\n",
              " 'No whitish blue veil is observed.',\n",
              " 'The diagnostic difficulty level is low.',\n",
              " 'The lesion has been follow-up with previous dermoscopy, due to changes.',\n",
              " 'Yes, subtle chrysalis is observed.',\n",
              " 'The lesion is asymmetric on two axes.',\n",
              " 'The lesion has been follow-up with previous dermoscopy, due to symptoms.',\n",
              " 'Yes, clear undefined area is observed.',\n",
              " 'The histology diagnostic indicates congenital melanocytic nevus (cmn).',\n",
              " ' large globules/cobblestone are observed.',\n",
              " 'Yes, clear pigmented reticulum is observed.',\n",
              " 'The histology diagnostic indicates melanoma in situ (mis).',\n",
              " 'No undefined area is observed.',\n",
              " 'The general silhouette of the lesion is flat.',\n",
              " 'No pigmented reticulum is observed.',\n",
              " 'The histology diagnostic indicates intradermal melanocytic nevus (imn).',\n",
              " 'Yes, clear peripheral globules are observed.',\n",
              " 'Yes, clear large globules/cobblestone are observed.',\n",
              " 'The histology diagnostic indicates spitz nevus (sn).',\n",
              " 'The histology diagnostic indicates superficial spreading melanoma (ssm).',\n",
              " 'Yes, clear whitish blue veil is observed.',\n",
              " 'Yes, clear white regression is observed.',\n",
              " 'No peripheral globules are observed.',\n",
              " 'Yes, subtle white regression is observed.',\n",
              " ' peripheral globules are observed.',\n",
              " 'The diagnostic difficulty level is high.',\n",
              " 'The lesion has been first consultation.',\n",
              " 'Yes, clear homogeneous area without vessels is observed.',\n",
              " 'The general silhouette of the lesion is exophytic.',\n",
              " ' chrysalis is observed.',\n",
              " 'The histology diagnostic indicates non-atypical stable mole (m).',\n",
              " 'Yes, clear and dominant peripheral projections are present.',\n",
              " 'The general silhouette of the lesion is flattened elevated.',\n",
              " 'Yes, subtle small dots/globules are present.',\n",
              " 'The lesion is asymmetric on one axis.',\n",
              " 'No white regression is observed.',\n",
              " 'The global pattern of the lesion is diffuse reticular.',\n",
              " 'Yes, clear and dominant negative reticulum is observed.',\n",
              " 'The global pattern of the lesion is multicomponent (mix of 3 or more above).',\n",
              " 'No peripheral projections are present.',\n",
              " 'Yes, subtle negative reticulum is observed.',\n",
              " 'Yes, subtle undefined area is observed.',\n",
              " 'The global pattern of the lesion is globular.']"
            ]
          },
          "metadata": {},
          "execution_count": 28
        }
      ]
    },
    {
      "cell_type": "code",
      "source": [
        "# Create dictionaries id2label and label2id\n",
        "id2label = {i: label for i, label in enumerate(unique_answers)}\n",
        "label2id = {label: i for i, label in enumerate(unique_answers)}"
      ],
      "metadata": {
        "id": "zB_NjxmSSA2I"
      },
      "execution_count": 29,
      "outputs": []
    },
    {
      "cell_type": "code",
      "source": [
        "id2label"
      ],
      "metadata": {
        "id": "8nTUep5tUe07",
        "outputId": "14ad28e2-112d-4c68-d528-a160ac939057",
        "colab": {
          "base_uri": "https://localhost:8080/"
        }
      },
      "execution_count": 30,
      "outputs": [
        {
          "output_type": "execute_result",
          "data": {
            "text/plain": [
              "{0: 'Yes, subtle pigmented reticulum is observed.',\n",
              " 1: 'Yes, subtle whitish blue veil is observed.',\n",
              " 2: 'The diagnostic impression is spitz/reed nevus.',\n",
              " 3: 'The diagnostic impression is exclude melanoma.',\n",
              " 4: 'Yes, clear peripheral projections are present.',\n",
              " 5: 'Yes, clear gray regression is observed.',\n",
              " 6: 'The diagnostic impression is melanoma.',\n",
              " 7: 'The peripheral globular pattern is irregular conventional.',\n",
              " 8: 'Yes, clear and dominant large globules/cobblestone are observed.',\n",
              " 9: 'The histology diagnostic indicates reed nevus (nr).',\n",
              " 10: 'The diagnostic impression is non-atypical mole.',\n",
              " 11: 'No homogeneous area with vessels is observed.',\n",
              " 12: 'Yes, clear and dominant undefined area is observed.',\n",
              " 13: 'Yes, clear chrysalis is observed.',\n",
              " 14: 'The diagnostic difficulty level is medium.',\n",
              " 15: 'The presence of dysplasia is not available.',\n",
              " 16: 'The global pattern of the lesion is patchy reticular.',\n",
              " 17: 'Yes, subtle homogeneous area without vessels is observed.',\n",
              " 18: 'The diagnostic impression is atypical mole.',\n",
              " 19: 'The peripheral globular pattern is regular bursting.',\n",
              " 20: 'Yes, subtle homogeneous area with vessels is observed.',\n",
              " 21: 'The lesion is .',\n",
              " 22: 'The peripheral globular pattern is irregular bursting.',\n",
              " 23: 'The peripheral globular pattern is .',\n",
              " 24: 'The lesion has been follow-up, without previous dermoscopy.',\n",
              " 25: 'The lesion has been not excised.',\n",
              " 26: 'The histology diagnostic indicates dysplastic melanocytic nevus (dmn).',\n",
              " 27: 'Yes, clear and dominant homogeneous area without vessels is observed.',\n",
              " 28: 'Yes, clear homogeneous area with vessels is observed.',\n",
              " 29: 'The global pattern of the lesion is homogeneous.',\n",
              " 30: 'No chrysalis is observed.',\n",
              " 31: 'The histology diagnostic indicates junctional melanocytic nevus (jmn).',\n",
              " 32: 'The global pattern of the lesion is mixed (mix of two of the above).',\n",
              " 33: 'The presence of dysplasia is .',\n",
              " 34: 'The peripheral globular pattern is absent.',\n",
              " 35: 'Yes, clear small dots/globules are present.',\n",
              " 36: 'Yes, subtle peripheral globules are observed.',\n",
              " 37: 'Yes, subtle large globules/cobblestone are observed.',\n",
              " 38: 'The global pattern of the lesion is cobblestone.',\n",
              " 39: 'Yes, clear and dominant small dots/globules are present.',\n",
              " 40: 'The peripheral globular pattern is regular conventional.',\n",
              " 41: 'The histology diagnostic indicates lentiginous melanocytic nevus (lmn).',\n",
              " 42: 'Yes, clear and dominant pigmented reticulum is observed.',\n",
              " 43: 'The presence of dysplasia is not applicable.',\n",
              " 44: 'No gray regression is observed.',\n",
              " 45: 'The global pattern of the lesion is undefined.',\n",
              " 46: 'The lesion is symmetric.',\n",
              " 47: 'Yes, subtle peripheral projections are present.',\n",
              " 48: 'Yes, subtle gray regression is observed.',\n",
              " 49: 'The presence of dysplasia is severe.',\n",
              " 50: 'No large globules/cobblestone are observed.',\n",
              " 51: 'Yes, clear and dominant peripheral globules are observed.',\n",
              " 52: 'The histology diagnostic indicates compound melanocytic nevus (cmn).',\n",
              " 53: 'No small dots/globules are present.',\n",
              " 54: 'No negative reticulum is observed.',\n",
              " 55: 'The peripheral globular pattern is focal bursting.',\n",
              " 56: 'No homogeneous area without vessels is observed.',\n",
              " 57: 'The peripheral globular pattern is focal conventional.',\n",
              " 58: 'Yes, clear and dominant homogeneous area with vessels is observed.',\n",
              " 59: 'Yes, clear negative reticulum is observed.',\n",
              " 60: 'No whitish blue veil is observed.',\n",
              " 61: 'The diagnostic difficulty level is low.',\n",
              " 62: 'The lesion has been follow-up with previous dermoscopy, due to changes.',\n",
              " 63: 'Yes, subtle chrysalis is observed.',\n",
              " 64: 'The lesion is asymmetric on two axes.',\n",
              " 65: 'The lesion has been follow-up with previous dermoscopy, due to symptoms.',\n",
              " 66: 'Yes, clear undefined area is observed.',\n",
              " 67: 'The histology diagnostic indicates congenital melanocytic nevus (cmn).',\n",
              " 68: ' large globules/cobblestone are observed.',\n",
              " 69: 'Yes, clear pigmented reticulum is observed.',\n",
              " 70: 'The histology diagnostic indicates melanoma in situ (mis).',\n",
              " 71: 'No undefined area is observed.',\n",
              " 72: 'The general silhouette of the lesion is flat.',\n",
              " 73: 'No pigmented reticulum is observed.',\n",
              " 74: 'The histology diagnostic indicates intradermal melanocytic nevus (imn).',\n",
              " 75: 'Yes, clear peripheral globules are observed.',\n",
              " 76: 'Yes, clear large globules/cobblestone are observed.',\n",
              " 77: 'The histology diagnostic indicates spitz nevus (sn).',\n",
              " 78: 'The histology diagnostic indicates superficial spreading melanoma (ssm).',\n",
              " 79: 'Yes, clear whitish blue veil is observed.',\n",
              " 80: 'Yes, clear white regression is observed.',\n",
              " 81: 'No peripheral globules are observed.',\n",
              " 82: 'Yes, subtle white regression is observed.',\n",
              " 83: ' peripheral globules are observed.',\n",
              " 84: 'The diagnostic difficulty level is high.',\n",
              " 85: 'The lesion has been first consultation.',\n",
              " 86: 'Yes, clear homogeneous area without vessels is observed.',\n",
              " 87: 'The general silhouette of the lesion is exophytic.',\n",
              " 88: ' chrysalis is observed.',\n",
              " 89: 'The histology diagnostic indicates non-atypical stable mole (m).',\n",
              " 90: 'Yes, clear and dominant peripheral projections are present.',\n",
              " 91: 'The general silhouette of the lesion is flattened elevated.',\n",
              " 92: 'Yes, subtle small dots/globules are present.',\n",
              " 93: 'The lesion is asymmetric on one axis.',\n",
              " 94: 'No white regression is observed.',\n",
              " 95: 'The global pattern of the lesion is diffuse reticular.',\n",
              " 96: 'Yes, clear and dominant negative reticulum is observed.',\n",
              " 97: 'The global pattern of the lesion is multicomponent (mix of 3 or more above).',\n",
              " 98: 'No peripheral projections are present.',\n",
              " 99: 'Yes, subtle negative reticulum is observed.',\n",
              " 100: 'Yes, subtle undefined area is observed.',\n",
              " 101: 'The global pattern of the lesion is globular.'}"
            ]
          },
          "metadata": {},
          "execution_count": 30
        }
      ]
    },
    {
      "cell_type": "code",
      "source": [
        "# Required tensor with the label IDs\n",
        "answers_ids_tensor = torch.arange(len(id2label), dtype=torch.float, device=device)\n",
        "answers_ids_tensor"
      ],
      "metadata": {
        "id": "zIE8BzfqUmmf",
        "outputId": "7593b80a-ad67-41b4-9cfb-be5424120544",
        "colab": {
          "base_uri": "https://localhost:8080/"
        }
      },
      "execution_count": 31,
      "outputs": [
        {
          "output_type": "execute_result",
          "data": {
            "text/plain": [
              "tensor([  0.,   1.,   2.,   3.,   4.,   5.,   6.,   7.,   8.,   9.,  10.,  11.,\n",
              "         12.,  13.,  14.,  15.,  16.,  17.,  18.,  19.,  20.,  21.,  22.,  23.,\n",
              "         24.,  25.,  26.,  27.,  28.,  29.,  30.,  31.,  32.,  33.,  34.,  35.,\n",
              "         36.,  37.,  38.,  39.,  40.,  41.,  42.,  43.,  44.,  45.,  46.,  47.,\n",
              "         48.,  49.,  50.,  51.,  52.,  53.,  54.,  55.,  56.,  57.,  58.,  59.,\n",
              "         60.,  61.,  62.,  63.,  64.,  65.,  66.,  67.,  68.,  69.,  70.,  71.,\n",
              "         72.,  73.,  74.,  75.,  76.,  77.,  78.,  79.,  80.,  81.,  82.,  83.,\n",
              "         84.,  85.,  86.,  87.,  88.,  89.,  90.,  91.,  92.,  93.,  94.,  95.,\n",
              "         96.,  97.,  98.,  99., 100., 101.], device='cuda:0')"
            ]
          },
          "metadata": {},
          "execution_count": 31
        }
      ]
    },
    {
      "cell_type": "code",
      "execution_count": 32,
      "metadata": {
        "id": "UrNZdQCPl7qt"
      },
      "outputs": [],
      "source": [
        "# Pizarro dataset\n",
        "pizarro_dataloader = DataLoader(train_dataset_pizarro, batch_size=5, shuffle=True)\n",
        "train_isic_dataloader = DataLoader(train_dataset_isic, batch_size=5, shuffle=True)"
      ]
    },
    {
      "cell_type": "code",
      "execution_count": 33,
      "metadata": {
        "id": "2jZsoFg5aoCM"
      },
      "outputs": [],
      "source": [
        "# Auxiliary function to visualize a batch\n",
        "def show_batch(sample_batched):\n",
        "    \"\"\"Show a batch of images.\"\"\"\n",
        "\n",
        "    # Store images, questions and answers\n",
        "    images_batch, masks_batch, questions_batch, answers_batch = \\\n",
        "            sample_batched[0], sample_batched[1], sample_batched[2], sample_batched[3]\n",
        "\n",
        "    # Identify the batch size to define the grid\n",
        "    batch_size = len(images_batch)\n",
        "    im_size = images_batch.size(2)\n",
        "    grid_border_size = 2\n",
        "\n",
        "    # Generate the grid\n",
        "    grid = utils.make_grid(images_batch)\n",
        "\n",
        "    # Convert to numpy and denormalize\n",
        "    grid = grid.numpy().transpose((1, 2, 0))\n",
        "    mean = np.array([0.485, 0.456, 0.406])\n",
        "    std = np.array([0.229, 0.224, 0.225])\n",
        "    grid = std * grid + mean\n",
        "    grid = np.clip(grid, 0, 1)\n",
        "    plt.imshow(grid)\n",
        "    plt.title('Batch from dataloader')\n",
        "    plt.axis('off')\n",
        "    plt.show()"
      ]
    },
    {
      "cell_type": "code",
      "execution_count": 34,
      "metadata": {
        "id": "cV5odxMqlhbb",
        "outputId": "24573faa-73cd-49db-c008-04e36b4fa89b",
        "colab": {
          "base_uri": "https://localhost:8080/",
          "height": 354
        }
      },
      "outputs": [
        {
          "output_type": "stream",
          "name": "stdout",
          "text": [
            "0 [('How is the global pattern?', 'How is the global pattern?', 'How is the global pattern?', 'How is the global pattern?', 'How is the global pattern?'), ('Can you describe the overall pattern?', 'Can you describe the overall pattern?', 'Can you describe the overall pattern?', 'Can you describe the overall pattern?', 'Can you describe the overall pattern?'), ('Describe the pattern observed globally.', 'Describe the pattern observed globally.', 'Describe the pattern observed globally.', 'Describe the pattern observed globally.', 'Describe the pattern observed globally.'), ('What is the pattern like throughout the lesion?', 'What is the pattern like throughout the lesion?', 'What is the pattern like throughout the lesion?', 'What is the pattern like throughout the lesion?', 'What is the pattern like throughout the lesion?'), ('What patterns are present in the entire lesion?', 'What patterns are present in the entire lesion?', 'What patterns are present in the entire lesion?', 'What patterns are present in the entire lesion?', 'What patterns are present in the entire lesion?'), ('Can you identify any pigmented reticulum?', 'Can you identify any pigmented reticulum?', 'Can you identify any pigmented reticulum?', 'Can you identify any pigmented reticulum?', 'Can you identify any pigmented reticulum?'), ('Do you observe pigmented reticulum?', 'Do you observe pigmented reticulum?', 'Do you observe pigmented reticulum?', 'Do you observe pigmented reticulum?', 'Do you observe pigmented reticulum?'), ('Describe the presence of pigmented reticulum.', 'Describe the presence of pigmented reticulum.', 'Describe the presence of pigmented reticulum.', 'Describe the presence of pigmented reticulum.', 'Describe the presence of pigmented reticulum.'), ('Are there any signs of pigmented reticulum?', 'Are there any signs of pigmented reticulum?', 'Are there any signs of pigmented reticulum?', 'Are there any signs of pigmented reticulum?', 'Are there any signs of pigmented reticulum?'), ('What about pigmented reticulum in the lesion?', 'What about pigmented reticulum in the lesion?', 'What about pigmented reticulum in the lesion?', 'What about pigmented reticulum in the lesion?', 'What about pigmented reticulum in the lesion?'), ('Can you identify any negative reticulum?', 'Can you identify any negative reticulum?', 'Can you identify any negative reticulum?', 'Can you identify any negative reticulum?', 'Can you identify any negative reticulum?'), ('Do you observe negative reticulum?', 'Do you observe negative reticulum?', 'Do you observe negative reticulum?', 'Do you observe negative reticulum?', 'Do you observe negative reticulum?'), ('Describe the presence of negative reticulum.', 'Describe the presence of negative reticulum.', 'Describe the presence of negative reticulum.', 'Describe the presence of negative reticulum.', 'Describe the presence of negative reticulum.'), ('Are there any signs of negative reticulum?', 'Are there any signs of negative reticulum?', 'Are there any signs of negative reticulum?', 'Are there any signs of negative reticulum?', 'Are there any signs of negative reticulum?'), ('What about negative reticulum in the lesion?', 'What about negative reticulum in the lesion?', 'What about negative reticulum in the lesion?', 'What about negative reticulum in the lesion?', 'What about negative reticulum in the lesion?'), ('Can you identify any small dots/globules?', 'Can you identify any small dots/globules?', 'Can you identify any small dots/globules?', 'Can you identify any small dots/globules?', 'Can you identify any small dots/globules?'), ('Do you see any small dots/globules?', 'Do you see any small dots/globules?', 'Do you see any small dots/globules?', 'Do you see any small dots/globules?', 'Do you see any small dots/globules?'), ('Describe the presence of small dots/globules.', 'Describe the presence of small dots/globules.', 'Describe the presence of small dots/globules.', 'Describe the presence of small dots/globules.', 'Describe the presence of small dots/globules.'), ('Are there any signs of small dots/globules?', 'Are there any signs of small dots/globules?', 'Are there any signs of small dots/globules?', 'Are there any signs of small dots/globules?', 'Are there any signs of small dots/globules?'), ('What about small dots/globules in the lesion?', 'What about small dots/globules in the lesion?', 'What about small dots/globules in the lesion?', 'What about small dots/globules in the lesion?', 'What about small dots/globules in the lesion?'), ('Can you identify any large globules/cobblestone?', 'Can you identify any large globules/cobblestone?', 'Can you identify any large globules/cobblestone?', 'Can you identify any large globules/cobblestone?', 'Can you identify any large globules/cobblestone?'), ('Do you observe large globules/cobblestone?', 'Do you observe large globules/cobblestone?', 'Do you observe large globules/cobblestone?', 'Do you observe large globules/cobblestone?', 'Do you observe large globules/cobblestone?'), ('Describe the presence of large globules/cobblestone.', 'Describe the presence of large globules/cobblestone.', 'Describe the presence of large globules/cobblestone.', 'Describe the presence of large globules/cobblestone.', 'Describe the presence of large globules/cobblestone.'), ('Are there any signs of large globules/cobblestone?', 'Are there any signs of large globules/cobblestone?', 'Are there any signs of large globules/cobblestone?', 'Are there any signs of large globules/cobblestone?', 'Are there any signs of large globules/cobblestone?'), ('What about large globules/cobblestone in the lesion?', 'What about large globules/cobblestone in the lesion?', 'What about large globules/cobblestone in the lesion?', 'What about large globules/cobblestone in the lesion?', 'What about large globules/cobblestone in the lesion?'), ('Can you identify any peripheral globules?', 'Can you identify any peripheral globules?', 'Can you identify any peripheral globules?', 'Can you identify any peripheral globules?', 'Can you identify any peripheral globules?'), ('Do you observe peripheral globules?', 'Do you observe peripheral globules?', 'Do you observe peripheral globules?', 'Do you observe peripheral globules?', 'Do you observe peripheral globules?'), ('Describe the presence of peripheral globules.', 'Describe the presence of peripheral globules.', 'Describe the presence of peripheral globules.', 'Describe the presence of peripheral globules.', 'Describe the presence of peripheral globules.'), ('Are there any signs of peripheral globules?', 'Are there any signs of peripheral globules?', 'Are there any signs of peripheral globules?', 'Are there any signs of peripheral globules?', 'Are there any signs of peripheral globules?'), ('What about peripheral globules in the lesion?', 'What about peripheral globules in the lesion?', 'What about peripheral globules in the lesion?', 'What about peripheral globules in the lesion?', 'What about peripheral globules in the lesion?'), ('Can you identify any peripheral projections?', 'Can you identify any peripheral projections?', 'Can you identify any peripheral projections?', 'Can you identify any peripheral projections?', 'Can you identify any peripheral projections?'), ('Do you observe peripheral projections?', 'Do you observe peripheral projections?', 'Do you observe peripheral projections?', 'Do you observe peripheral projections?', 'Do you observe peripheral projections?'), ('Describe the presence of peripheral projections.', 'Describe the presence of peripheral projections.', 'Describe the presence of peripheral projections.', 'Describe the presence of peripheral projections.', 'Describe the presence of peripheral projections.'), ('Are there any signs of peripheral projections?', 'Are there any signs of peripheral projections?', 'Are there any signs of peripheral projections?', 'Are there any signs of peripheral projections?', 'Are there any signs of peripheral projections?'), ('What about peripheral projections in the lesion?', 'What about peripheral projections in the lesion?', 'What about peripheral projections in the lesion?', 'What about peripheral projections in the lesion?', 'What about peripheral projections in the lesion?'), ('Can you identify any homogeneous area without vessels?', 'Can you identify any homogeneous area without vessels?', 'Can you identify any homogeneous area without vessels?', 'Can you identify any homogeneous area without vessels?', 'Can you identify any homogeneous area without vessels?'), ('Do you observe homogeneous area without vessels?', 'Do you observe homogeneous area without vessels?', 'Do you observe homogeneous area without vessels?', 'Do you observe homogeneous area without vessels?', 'Do you observe homogeneous area without vessels?'), ('Describe the presence of homogeneous area without vessels.', 'Describe the presence of homogeneous area without vessels.', 'Describe the presence of homogeneous area without vessels.', 'Describe the presence of homogeneous area without vessels.', 'Describe the presence of homogeneous area without vessels.'), ('Are there any signs of homogeneous area without vessels?', 'Are there any signs of homogeneous area without vessels?', 'Are there any signs of homogeneous area without vessels?', 'Are there any signs of homogeneous area without vessels?', 'Are there any signs of homogeneous area without vessels?'), ('What about homogeneous area without vessels in the lesion?', 'What about homogeneous area without vessels in the lesion?', 'What about homogeneous area without vessels in the lesion?', 'What about homogeneous area without vessels in the lesion?', 'What about homogeneous area without vessels in the lesion?'), ('Can you identify any homogeneous area with vessels?', 'Can you identify any homogeneous area with vessels?', 'Can you identify any homogeneous area with vessels?', 'Can you identify any homogeneous area with vessels?', 'Can you identify any homogeneous area with vessels?'), ('Do you observe homogeneous area with vessels?', 'Do you observe homogeneous area with vessels?', 'Do you observe homogeneous area with vessels?', 'Do you observe homogeneous area with vessels?', 'Do you observe homogeneous area with vessels?'), ('Describe the presence of homogeneous area with vessels.', 'Describe the presence of homogeneous area with vessels.', 'Describe the presence of homogeneous area with vessels.', 'Describe the presence of homogeneous area with vessels.', 'Describe the presence of homogeneous area with vessels.'), ('Are there any signs of homogeneous area with vessels?', 'Are there any signs of homogeneous area with vessels?', 'Are there any signs of homogeneous area with vessels?', 'Are there any signs of homogeneous area with vessels?', 'Are there any signs of homogeneous area with vessels?'), ('What about homogeneous area with vessels in the lesion?', 'What about homogeneous area with vessels in the lesion?', 'What about homogeneous area with vessels in the lesion?', 'What about homogeneous area with vessels in the lesion?', 'What about homogeneous area with vessels in the lesion?'), ('Can you identify any undefined area?', 'Can you identify any undefined area?', 'Can you identify any undefined area?', 'Can you identify any undefined area?', 'Can you identify any undefined area?'), ('Do you observe undefined area?', 'Do you observe undefined area?', 'Do you observe undefined area?', 'Do you observe undefined area?', 'Do you observe undefined area?'), ('Describe the presence of undefined area.', 'Describe the presence of undefined area.', 'Describe the presence of undefined area.', 'Describe the presence of undefined area.', 'Describe the presence of undefined area.'), ('Are there any signs of undefined area?', 'Are there any signs of undefined area?', 'Are there any signs of undefined area?', 'Are there any signs of undefined area?', 'Are there any signs of undefined area?'), ('What about undefined area in the lesion?', 'What about undefined area in the lesion?', 'What about undefined area in the lesion?', 'What about undefined area in the lesion?', 'What about undefined area in the lesion?'), ('Can you identify any gray regression?', 'Can you identify any gray regression?', 'Can you identify any gray regression?', 'Can you identify any gray regression?', 'Can you identify any gray regression?'), ('Do you observe gray regression?', 'Do you observe gray regression?', 'Do you observe gray regression?', 'Do you observe gray regression?', 'Do you observe gray regression?'), ('Describe the presence of gray regression.', 'Describe the presence of gray regression.', 'Describe the presence of gray regression.', 'Describe the presence of gray regression.', 'Describe the presence of gray regression.'), ('Are there any signs of gray regression?', 'Are there any signs of gray regression?', 'Are there any signs of gray regression?', 'Are there any signs of gray regression?', 'Are there any signs of gray regression?'), ('What about gray regression in the lesion?', 'What about gray regression in the lesion?', 'What about gray regression in the lesion?', 'What about gray regression in the lesion?', 'What about gray regression in the lesion?'), ('Can you identify any white regression?', 'Can you identify any white regression?', 'Can you identify any white regression?', 'Can you identify any white regression?', 'Can you identify any white regression?'), ('Do you observe white regression?', 'Do you observe white regression?', 'Do you observe white regression?', 'Do you observe white regression?', 'Do you observe white regression?'), ('Describe the presence of white regression.', 'Describe the presence of white regression.', 'Describe the presence of white regression.', 'Describe the presence of white regression.', 'Describe the presence of white regression.'), ('Are there any signs of white regression?', 'Are there any signs of white regression?', 'Are there any signs of white regression?', 'Are there any signs of white regression?', 'Are there any signs of white regression?'), ('What about white regression in the lesion?', 'What about white regression in the lesion?', 'What about white regression in the lesion?', 'What about white regression in the lesion?', 'What about white regression in the lesion?'), ('Can you identify any whitish blue veil?', 'Can you identify any whitish blue veil?', 'Can you identify any whitish blue veil?', 'Can you identify any whitish blue veil?', 'Can you identify any whitish blue veil?'), ('Do you observe whitish blue veil?', 'Do you observe whitish blue veil?', 'Do you observe whitish blue veil?', 'Do you observe whitish blue veil?', 'Do you observe whitish blue veil?'), ('Describe the presence of whitish blue veil.', 'Describe the presence of whitish blue veil.', 'Describe the presence of whitish blue veil.', 'Describe the presence of whitish blue veil.', 'Describe the presence of whitish blue veil.'), ('Are there any signs of whitish blue veil?', 'Are there any signs of whitish blue veil?', 'Are there any signs of whitish blue veil?', 'Are there any signs of whitish blue veil?', 'Are there any signs of whitish blue veil?'), ('What about whitish blue veil in the lesion?', 'What about whitish blue veil in the lesion?', 'What about whitish blue veil in the lesion?', 'What about whitish blue veil in the lesion?', 'What about whitish blue veil in the lesion?'), ('Can you identify any chrysalis?', 'Can you identify any chrysalis?', 'Can you identify any chrysalis?', 'Can you identify any chrysalis?', 'Can you identify any chrysalis?'), ('Do you observe chrysalis?', 'Do you observe chrysalis?', 'Do you observe chrysalis?', 'Do you observe chrysalis?', 'Do you observe chrysalis?'), ('Describe the presence of chrysalis.', 'Describe the presence of chrysalis.', 'Describe the presence of chrysalis.', 'Describe the presence of chrysalis.', 'Describe the presence of chrysalis.'), ('Are there any signs of chrysalis?', 'Are there any signs of chrysalis?', 'Are there any signs of chrysalis?', 'Are there any signs of chrysalis?', 'Are there any signs of chrysalis?'), ('What about chrysalis in the lesion?', 'What about chrysalis in the lesion?', 'What about chrysalis in the lesion?', 'What about chrysalis in the lesion?', 'What about chrysalis in the lesion?'), ('Is the lesion malignant?', 'Is the lesion malignant?', 'Is the lesion malignant?', 'Is the lesion malignant?', 'Is the lesion malignant?'), ('Do you classify the lesion as malignant?', 'Do you classify the lesion as malignant?', 'Do you classify the lesion as malignant?', 'Do you classify the lesion as malignant?', 'Do you classify the lesion as malignant?'), ('What is the classification of the lesion?', 'What is the classification of the lesion?', 'What is the classification of the lesion?', 'What is the classification of the lesion?', 'What is the classification of the lesion?'), ('Is the lesion benign or malignant?', 'Is the lesion benign or malignant?', 'Is the lesion benign or malignant?', 'Is the lesion benign or malignant?', 'Is the lesion benign or malignant?'), ('Can you determine if the lesion is malignant?', 'Can you determine if the lesion is malignant?', 'Can you determine if the lesion is malignant?', 'Can you determine if the lesion is malignant?', 'Can you determine if the lesion is malignant?')]\n"
          ]
        },
        {
          "output_type": "display_data",
          "data": {
            "text/plain": [
              "<Figure size 640x480 with 1 Axes>"
            ],
            "image/png": "[encoded data removed]"
          },
          "metadata": {}
        },
        {
          "output_type": "stream",
          "name": "stdout",
          "text": [
            "1 [('How is the global pattern?', 'How is the global pattern?', 'How is the global pattern?', 'How is the global pattern?', 'How is the global pattern?'), ('Can you describe the overall pattern?', 'Can you describe the overall pattern?', 'Can you describe the overall pattern?', 'Can you describe the overall pattern?', 'Can you describe the overall pattern?'), ('Describe the pattern observed globally.', 'Describe the pattern observed globally.', 'Describe the pattern observed globally.', 'Describe the pattern observed globally.', 'Describe the pattern observed globally.'), ('What is the pattern like throughout the lesion?', 'What is the pattern like throughout the lesion?', 'What is the pattern like throughout the lesion?', 'What is the pattern like throughout the lesion?', 'What is the pattern like throughout the lesion?'), ('What patterns are present in the entire lesion?', 'What patterns are present in the entire lesion?', 'What patterns are present in the entire lesion?', 'What patterns are present in the entire lesion?', 'What patterns are present in the entire lesion?'), ('Can you identify any pigmented reticulum?', 'Can you identify any pigmented reticulum?', 'Can you identify any pigmented reticulum?', 'Can you identify any pigmented reticulum?', 'Can you identify any pigmented reticulum?'), ('Do you observe pigmented reticulum?', 'Do you observe pigmented reticulum?', 'Do you observe pigmented reticulum?', 'Do you observe pigmented reticulum?', 'Do you observe pigmented reticulum?'), ('Describe the presence of pigmented reticulum.', 'Describe the presence of pigmented reticulum.', 'Describe the presence of pigmented reticulum.', 'Describe the presence of pigmented reticulum.', 'Describe the presence of pigmented reticulum.'), ('Are there any signs of pigmented reticulum?', 'Are there any signs of pigmented reticulum?', 'Are there any signs of pigmented reticulum?', 'Are there any signs of pigmented reticulum?', 'Are there any signs of pigmented reticulum?'), ('What about pigmented reticulum in the lesion?', 'What about pigmented reticulum in the lesion?', 'What about pigmented reticulum in the lesion?', 'What about pigmented reticulum in the lesion?', 'What about pigmented reticulum in the lesion?'), ('Can you identify any negative reticulum?', 'Can you identify any negative reticulum?', 'Can you identify any negative reticulum?', 'Can you identify any negative reticulum?', 'Can you identify any negative reticulum?'), ('Do you observe negative reticulum?', 'Do you observe negative reticulum?', 'Do you observe negative reticulum?', 'Do you observe negative reticulum?', 'Do you observe negative reticulum?'), ('Describe the presence of negative reticulum.', 'Describe the presence of negative reticulum.', 'Describe the presence of negative reticulum.', 'Describe the presence of negative reticulum.', 'Describe the presence of negative reticulum.'), ('Are there any signs of negative reticulum?', 'Are there any signs of negative reticulum?', 'Are there any signs of negative reticulum?', 'Are there any signs of negative reticulum?', 'Are there any signs of negative reticulum?'), ('What about negative reticulum in the lesion?', 'What about negative reticulum in the lesion?', 'What about negative reticulum in the lesion?', 'What about negative reticulum in the lesion?', 'What about negative reticulum in the lesion?'), ('Can you identify any small dots/globules?', 'Can you identify any small dots/globules?', 'Can you identify any small dots/globules?', 'Can you identify any small dots/globules?', 'Can you identify any small dots/globules?'), ('Do you see any small dots/globules?', 'Do you see any small dots/globules?', 'Do you see any small dots/globules?', 'Do you see any small dots/globules?', 'Do you see any small dots/globules?'), ('Describe the presence of small dots/globules.', 'Describe the presence of small dots/globules.', 'Describe the presence of small dots/globules.', 'Describe the presence of small dots/globules.', 'Describe the presence of small dots/globules.'), ('Are there any signs of small dots/globules?', 'Are there any signs of small dots/globules?', 'Are there any signs of small dots/globules?', 'Are there any signs of small dots/globules?', 'Are there any signs of small dots/globules?'), ('What about small dots/globules in the lesion?', 'What about small dots/globules in the lesion?', 'What about small dots/globules in the lesion?', 'What about small dots/globules in the lesion?', 'What about small dots/globules in the lesion?'), ('Can you identify any large globules/cobblestone?', 'Can you identify any large globules/cobblestone?', 'Can you identify any large globules/cobblestone?', 'Can you identify any large globules/cobblestone?', 'Can you identify any large globules/cobblestone?'), ('Do you observe large globules/cobblestone?', 'Do you observe large globules/cobblestone?', 'Do you observe large globules/cobblestone?', 'Do you observe large globules/cobblestone?', 'Do you observe large globules/cobblestone?'), ('Describe the presence of large globules/cobblestone.', 'Describe the presence of large globules/cobblestone.', 'Describe the presence of large globules/cobblestone.', 'Describe the presence of large globules/cobblestone.', 'Describe the presence of large globules/cobblestone.'), ('Are there any signs of large globules/cobblestone?', 'Are there any signs of large globules/cobblestone?', 'Are there any signs of large globules/cobblestone?', 'Are there any signs of large globules/cobblestone?', 'Are there any signs of large globules/cobblestone?'), ('What about large globules/cobblestone in the lesion?', 'What about large globules/cobblestone in the lesion?', 'What about large globules/cobblestone in the lesion?', 'What about large globules/cobblestone in the lesion?', 'What about large globules/cobblestone in the lesion?'), ('Can you identify any peripheral globules?', 'Can you identify any peripheral globules?', 'Can you identify any peripheral globules?', 'Can you identify any peripheral globules?', 'Can you identify any peripheral globules?'), ('Do you observe peripheral globules?', 'Do you observe peripheral globules?', 'Do you observe peripheral globules?', 'Do you observe peripheral globules?', 'Do you observe peripheral globules?'), ('Describe the presence of peripheral globules.', 'Describe the presence of peripheral globules.', 'Describe the presence of peripheral globules.', 'Describe the presence of peripheral globules.', 'Describe the presence of peripheral globules.'), ('Are there any signs of peripheral globules?', 'Are there any signs of peripheral globules?', 'Are there any signs of peripheral globules?', 'Are there any signs of peripheral globules?', 'Are there any signs of peripheral globules?'), ('What about peripheral globules in the lesion?', 'What about peripheral globules in the lesion?', 'What about peripheral globules in the lesion?', 'What about peripheral globules in the lesion?', 'What about peripheral globules in the lesion?'), ('Can you identify any peripheral projections?', 'Can you identify any peripheral projections?', 'Can you identify any peripheral projections?', 'Can you identify any peripheral projections?', 'Can you identify any peripheral projections?'), ('Do you observe peripheral projections?', 'Do you observe peripheral projections?', 'Do you observe peripheral projections?', 'Do you observe peripheral projections?', 'Do you observe peripheral projections?'), ('Describe the presence of peripheral projections.', 'Describe the presence of peripheral projections.', 'Describe the presence of peripheral projections.', 'Describe the presence of peripheral projections.', 'Describe the presence of peripheral projections.'), ('Are there any signs of peripheral projections?', 'Are there any signs of peripheral projections?', 'Are there any signs of peripheral projections?', 'Are there any signs of peripheral projections?', 'Are there any signs of peripheral projections?'), ('What about peripheral projections in the lesion?', 'What about peripheral projections in the lesion?', 'What about peripheral projections in the lesion?', 'What about peripheral projections in the lesion?', 'What about peripheral projections in the lesion?'), ('Can you identify any homogeneous area without vessels?', 'Can you identify any homogeneous area without vessels?', 'Can you identify any homogeneous area without vessels?', 'Can you identify any homogeneous area without vessels?', 'Can you identify any homogeneous area without vessels?'), ('Do you observe homogeneous area without vessels?', 'Do you observe homogeneous area without vessels?', 'Do you observe homogeneous area without vessels?', 'Do you observe homogeneous area without vessels?', 'Do you observe homogeneous area without vessels?'), ('Describe the presence of homogeneous area without vessels.', 'Describe the presence of homogeneous area without vessels.', 'Describe the presence of homogeneous area without vessels.', 'Describe the presence of homogeneous area without vessels.', 'Describe the presence of homogeneous area without vessels.'), ('Are there any signs of homogeneous area without vessels?', 'Are there any signs of homogeneous area without vessels?', 'Are there any signs of homogeneous area without vessels?', 'Are there any signs of homogeneous area without vessels?', 'Are there any signs of homogeneous area without vessels?'), ('What about homogeneous area without vessels in the lesion?', 'What about homogeneous area without vessels in the lesion?', 'What about homogeneous area without vessels in the lesion?', 'What about homogeneous area without vessels in the lesion?', 'What about homogeneous area without vessels in the lesion?'), ('Can you identify any homogeneous area with vessels?', 'Can you identify any homogeneous area with vessels?', 'Can you identify any homogeneous area with vessels?', 'Can you identify any homogeneous area with vessels?', 'Can you identify any homogeneous area with vessels?'), ('Do you observe homogeneous area with vessels?', 'Do you observe homogeneous area with vessels?', 'Do you observe homogeneous area with vessels?', 'Do you observe homogeneous area with vessels?', 'Do you observe homogeneous area with vessels?'), ('Describe the presence of homogeneous area with vessels.', 'Describe the presence of homogeneous area with vessels.', 'Describe the presence of homogeneous area with vessels.', 'Describe the presence of homogeneous area with vessels.', 'Describe the presence of homogeneous area with vessels.'), ('Are there any signs of homogeneous area with vessels?', 'Are there any signs of homogeneous area with vessels?', 'Are there any signs of homogeneous area with vessels?', 'Are there any signs of homogeneous area with vessels?', 'Are there any signs of homogeneous area with vessels?'), ('What about homogeneous area with vessels in the lesion?', 'What about homogeneous area with vessels in the lesion?', 'What about homogeneous area with vessels in the lesion?', 'What about homogeneous area with vessels in the lesion?', 'What about homogeneous area with vessels in the lesion?'), ('Can you identify any undefined area?', 'Can you identify any undefined area?', 'Can you identify any undefined area?', 'Can you identify any undefined area?', 'Can you identify any undefined area?'), ('Do you observe undefined area?', 'Do you observe undefined area?', 'Do you observe undefined area?', 'Do you observe undefined area?', 'Do you observe undefined area?'), ('Describe the presence of undefined area.', 'Describe the presence of undefined area.', 'Describe the presence of undefined area.', 'Describe the presence of undefined area.', 'Describe the presence of undefined area.'), ('Are there any signs of undefined area?', 'Are there any signs of undefined area?', 'Are there any signs of undefined area?', 'Are there any signs of undefined area?', 'Are there any signs of undefined area?'), ('What about undefined area in the lesion?', 'What about undefined area in the lesion?', 'What about undefined area in the lesion?', 'What about undefined area in the lesion?', 'What about undefined area in the lesion?'), ('Can you identify any gray regression?', 'Can you identify any gray regression?', 'Can you identify any gray regression?', 'Can you identify any gray regression?', 'Can you identify any gray regression?'), ('Do you observe gray regression?', 'Do you observe gray regression?', 'Do you observe gray regression?', 'Do you observe gray regression?', 'Do you observe gray regression?'), ('Describe the presence of gray regression.', 'Describe the presence of gray regression.', 'Describe the presence of gray regression.', 'Describe the presence of gray regression.', 'Describe the presence of gray regression.'), ('Are there any signs of gray regression?', 'Are there any signs of gray regression?', 'Are there any signs of gray regression?', 'Are there any signs of gray regression?', 'Are there any signs of gray regression?'), ('What about gray regression in the lesion?', 'What about gray regression in the lesion?', 'What about gray regression in the lesion?', 'What about gray regression in the lesion?', 'What about gray regression in the lesion?'), ('Can you identify any white regression?', 'Can you identify any white regression?', 'Can you identify any white regression?', 'Can you identify any white regression?', 'Can you identify any white regression?'), ('Do you observe white regression?', 'Do you observe white regression?', 'Do you observe white regression?', 'Do you observe white regression?', 'Do you observe white regression?'), ('Describe the presence of white regression.', 'Describe the presence of white regression.', 'Describe the presence of white regression.', 'Describe the presence of white regression.', 'Describe the presence of white regression.'), ('Are there any signs of white regression?', 'Are there any signs of white regression?', 'Are there any signs of white regression?', 'Are there any signs of white regression?', 'Are there any signs of white regression?'), ('What about white regression in the lesion?', 'What about white regression in the lesion?', 'What about white regression in the lesion?', 'What about white regression in the lesion?', 'What about white regression in the lesion?'), ('Can you identify any whitish blue veil?', 'Can you identify any whitish blue veil?', 'Can you identify any whitish blue veil?', 'Can you identify any whitish blue veil?', 'Can you identify any whitish blue veil?'), ('Do you observe whitish blue veil?', 'Do you observe whitish blue veil?', 'Do you observe whitish blue veil?', 'Do you observe whitish blue veil?', 'Do you observe whitish blue veil?'), ('Describe the presence of whitish blue veil.', 'Describe the presence of whitish blue veil.', 'Describe the presence of whitish blue veil.', 'Describe the presence of whitish blue veil.', 'Describe the presence of whitish blue veil.'), ('Are there any signs of whitish blue veil?', 'Are there any signs of whitish blue veil?', 'Are there any signs of whitish blue veil?', 'Are there any signs of whitish blue veil?', 'Are there any signs of whitish blue veil?'), ('What about whitish blue veil in the lesion?', 'What about whitish blue veil in the lesion?', 'What about whitish blue veil in the lesion?', 'What about whitish blue veil in the lesion?', 'What about whitish blue veil in the lesion?'), ('Can you identify any chrysalis?', 'Can you identify any chrysalis?', 'Can you identify any chrysalis?', 'Can you identify any chrysalis?', 'Can you identify any chrysalis?'), ('Do you observe chrysalis?', 'Do you observe chrysalis?', 'Do you observe chrysalis?', 'Do you observe chrysalis?', 'Do you observe chrysalis?'), ('Describe the presence of chrysalis.', 'Describe the presence of chrysalis.', 'Describe the presence of chrysalis.', 'Describe the presence of chrysalis.', 'Describe the presence of chrysalis.'), ('Are there any signs of chrysalis?', 'Are there any signs of chrysalis?', 'Are there any signs of chrysalis?', 'Are there any signs of chrysalis?', 'Are there any signs of chrysalis?'), ('What about chrysalis in the lesion?', 'What about chrysalis in the lesion?', 'What about chrysalis in the lesion?', 'What about chrysalis in the lesion?', 'What about chrysalis in the lesion?'), ('Is the lesion malignant?', 'Is the lesion malignant?', 'Is the lesion malignant?', 'Is the lesion malignant?', 'Is the lesion malignant?'), ('Do you classify the lesion as malignant?', 'Do you classify the lesion as malignant?', 'Do you classify the lesion as malignant?', 'Do you classify the lesion as malignant?', 'Do you classify the lesion as malignant?'), ('What is the classification of the lesion?', 'What is the classification of the lesion?', 'What is the classification of the lesion?', 'What is the classification of the lesion?', 'What is the classification of the lesion?'), ('Is the lesion benign or malignant?', 'Is the lesion benign or malignant?', 'Is the lesion benign or malignant?', 'Is the lesion benign or malignant?', 'Is the lesion benign or malignant?'), ('Can you determine if the lesion is malignant?', 'Can you determine if the lesion is malignant?', 'Can you determine if the lesion is malignant?', 'Can you determine if the lesion is malignant?', 'Can you determine if the lesion is malignant?')]\n"
          ]
        },
        {
          "output_type": "display_data",
          "data": {
            "text/plain": [
              "<Figure size 640x480 with 1 Axes>"
            ],
            "image/png": "[encoded data removed]"
          },
          "metadata": {}
        }
      ],
      "source": [
        "# Iterate over the dataloader and visualize batches\n",
        "for i_batch, sample_batched in enumerate(train_isic_dataloader):\n",
        "    print(i_batch, sample_batched[2])\n",
        "    show_batch(sample_batched)\n",
        "\n",
        "    # Show only the data of the 3rd batch and stop.\n",
        "    if i_batch == 1:\n",
        "        break"
      ]
    },
    {
      "cell_type": "markdown",
      "metadata": {
        "id": "uZQYNuFsKI3k"
      },
      "source": [
        "## Image Feature Extraction"
      ]
    },
    {
      "cell_type": "code",
      "source": [
        "for images, masks, questions, answers in pizarro_dataloader:\n",
        "  print(images.size())\n",
        "  break"
      ],
      "metadata": {
        "id": "i-D2ipfKaOL9",
        "outputId": "e740fe65-2407-474c-c205-1ab68be45fa1",
        "colab": {
          "base_uri": "https://localhost:8080/"
        }
      },
      "execution_count": 35,
      "outputs": [
        {
          "output_type": "stream",
          "name": "stdout",
          "text": [
            "torch.Size([5, 3, 224, 224])\n"
          ]
        }
      ]
    },
    {
      "cell_type": "code",
      "execution_count": 36,
      "metadata": {
        "id": "XL6ILzWtlPEV"
      },
      "outputs": [],
      "source": [
        "def extract_image_features(model, dataloader):\n",
        "    model.eval()  # Set the model to evaluation mode\n",
        "    num_samples = len(dataloader.dataset)\n",
        "\n",
        "    output_shape = (7,7,512) # Keep dimensionality of outputs (layer 4)\n",
        "\n",
        "    # Calculate the total number of features\n",
        "    num_features = np.prod(output_shape)\n",
        "\n",
        "    features = np.zeros((num_samples, *output_shape), dtype=np.float32)\n",
        "    sample_idx = 0\n",
        "\n",
        "    with torch.no_grad():\n",
        "        for sample in dataloader:\n",
        "            # Get images\n",
        "            inputs = sample[0].to(device).float()\n",
        "\n",
        "            # Forward pass\n",
        "            outputs = model(inputs)\n",
        "\n",
        "            # # Flatten the output tensor\n",
        "            # outputs_flat = outputs.view(outputs.size(0), -1)\n",
        "\n",
        "            outputs_reshaped = outputs.reshape(outputs.size(0), *output_shape)\n",
        "\n",
        "            # Store features\n",
        "            batch_size = inputs.size(0)\n",
        "            # features[sample_idx:sample_idx + batch_size, :] = outputs_flat.cpu().numpy()\n",
        "            features[sample_idx:sample_idx + batch_size, :] = outputs_reshaped.cpu().numpy()\n",
        "            sample_idx += batch_size\n",
        "\n",
        "    return torch.tensor(features, device=device)"
      ]
    },
    {
      "cell_type": "code",
      "execution_count": 37,
      "metadata": {
        "id": "F9gqOoAOdYQ_"
      },
      "outputs": [],
      "source": [
        "features_pizarro = extract_image_features(resnet, pizarro_dataloader)"
      ]
    },
    {
      "cell_type": "code",
      "execution_count": 38,
      "metadata": {
        "id": "Ey1rr3KGiNYm",
        "outputId": "378253e1-8bd1-44cc-919a-7d3c7a88f155",
        "colab": {
          "base_uri": "https://localhost:8080/"
        }
      },
      "outputs": [
        {
          "output_type": "execute_result",
          "data": {
            "text/plain": [
              "torch.Size([500, 7, 7, 512])"
            ]
          },
          "metadata": {},
          "execution_count": 38
        }
      ],
      "source": [
        "features_pizarro.size()"
      ]
    },
    {
      "cell_type": "code",
      "source": [
        "# Function to print GPU memory usage\n",
        "def print_gpu_memory():\n",
        "    print(f\"Memory allocated: {torch.cuda.memory_allocated() / 1024**2:.2f} MB\")\n",
        "    print(f\"Memory reserved: {torch.cuda.memory_reserved() / 1024**2:.2f} MB\")"
      ],
      "metadata": {
        "id": "6EeNiyfjCzIi"
      },
      "execution_count": 39,
      "outputs": []
    },
    {
      "cell_type": "markdown",
      "metadata": {
        "id": "w4HfihfzJ3a6"
      },
      "source": [
        "## VQA Model Creation"
      ]
    },
    {
      "cell_type": "code",
      "source": [
        "class VQAModel(nn.Module):\n",
        "    def __init__(self, resnet, vlm, tokenizer):\n",
        "        super(VQAModel, self).__init__()\n",
        "\n",
        "        # Pre-trained ResNet model\n",
        "        self.resnet = resnet\n",
        "        # Vision Language Model\n",
        "        self.vlm = vlm\n",
        "        # Tokenizer\n",
        "        self.tokenizer = tokenizer\n",
        "        # Freeze parameters of the ResNet model\n",
        "        for param in self.resnet.parameters():\n",
        "            param.requires_grad = False\n",
        "\n",
        "    def forward(self, image_features, question, labels_idxs=None, training=False):\n",
        "\n",
        "        # image_features -> array with visual features for the specific image (7x7x512)\n",
        "        # question -> individual question within the image batch\n",
        "        # labels_idx -> tensor with shape (0, ..., num_labels-1)\n",
        "        # training; boolean to determine the mode (train/evaluation)\n",
        "\n",
        "        # Prepare image inputs -> (batch_size, visual_seq_length, visual_embedding_dim)\n",
        "        flattened_embedding = visual_embedding.view(-1, 512) # (49x512)\n",
        "        visual_embeds = image_features.unsqueeze(0) # (1x49x512)\n",
        "\n",
        "        print(visual_embeds.shape)\n",
        "\n",
        "        # Token type and attention masks -> (batch_size, visual_seq_length)\n",
        "        visual_token_type_ids = torch.ones(visual_embeds.shape[:-1], dtype=torch.long, device=device)\n",
        "        visual_attention_mask = torch.ones(visual_embeds.shape[:-1], dtype=torch.float, device=device)\n",
        "\n",
        "        # Tokenize question\n",
        "        tokenized_question = self.tokenizer(question,\n",
        "                                            return_token_type_ids=True,\n",
        "                                            return_attention_mask=True,\n",
        "                                            add_special_tokens=True,\n",
        "                                            return_tensors='pt')\n",
        "\n",
        "        # Input for the VLM model (refer to VisualBert to understand the shapes)\n",
        "        input_dict = {\n",
        "            \"visual_embeds\": visual_embeds,\n",
        "            \"visual_token_type_ids\": visual_token_type_ids,\n",
        "            \"visual_attention_mask\": visual_attention_mask,\n",
        "            \"input_ids\": tokenized_question['input_ids'].to(device),\n",
        "            \"token_type_ids\": tokenized_question['token_type_ids'].to(device),\n",
        "            \"attention_mask\": tokenized_question['attention_mask'].to(device),\n",
        "        }\n",
        "\n",
        "        # Training mode: track gradients\n",
        "        if training:\n",
        "\n",
        "            output = self.vlm(**input_dict, labels=labels_idxs)\n",
        "            logits = output.logits\n",
        "            loss = output.loss\n",
        "\n",
        "            del output\n",
        "\n",
        "        # Evaluation mode: no gradients\n",
        "        else:\n",
        "            with torch.no_grad():\n",
        "                output = self.vlm(**input_dict)\n",
        "                logits = output.logits\n",
        "\n",
        "        # # Check for memory usage\n",
        "        # print_gpu_memory()\n",
        "\n",
        "        return logits, loss"
      ],
      "metadata": {
        "id": "prExKkef7FWm"
      },
      "execution_count": 40,
      "outputs": []
    },
    {
      "cell_type": "markdown",
      "metadata": {
        "id": "Y-E0LJNJRyTG"
      },
      "source": [
        "### Define LLM & Tokenizer"
      ]
    },
    {
      "cell_type": "code",
      "execution_count": 41,
      "metadata": {
        "id": "mNvUgKd7R44i",
        "outputId": "87a927c8-43a6-40f7-c082-a5976616813b",
        "colab": {
          "base_uri": "https://localhost:8080/",
          "height": 296,
          "referenced_widgets": [
            "d03f257819fe4c1fb5104fd09ecf476a",
            "d3b0feae790d40f4831b92a0e3738f08",
            "6368cdd264d4464d9d43fa4c0d0328a6",
            "3cfef7caf3da4eae903350bf7d1e96a1",
            "d3238df50ff44f3290b1c958a923c4fb",
            "d72af36d119a474f829ec2fd7128435c",
            "3a419ddec62843bc9091e5dca237d87c",
            "aa443e43e78e47bbb73a5e4d5f1b6dab",
            "0fa0b1d46ae6431e8724b6436bae61ca",
            "45177bd8ae0f40ffb1e4831451aa7f9d",
            "936fae0bea584a908f18faad863e4fb3",
            "cc7986715c84494bb544a68ab2d6d19e",
            "dc715588125b461daf47bf190f6068f8",
            "861d923f747744e698f26912e34bedd9",
            "7c22e1ed0ba14abfa0dff041e37030bb",
            "c78e5a6c2a284213bc00870397094994",
            "5074e7a41db04f18badc3623fa62b69a",
            "c2ab28dadda2449ca4530cb4affef527",
            "d63e1a693e534fcd8c5828bb7b0d03ab",
            "8e02a80701344c74b1a72b0f1c524d4f",
            "7d79a1fe8d654d36ad23839e8fdb5b89",
            "f8e0a03d8dac4c0fa576e93ec90e9e5c",
            "8ecccfd813bf48d594f12369a103e72a",
            "8eab0dff1dd44f2e8c9267bec9999f87",
            "f09ae7eabbcd4b27b5c1bc28858925cf",
            "2f5f236906544f47b57e409279789070",
            "22adebc168c343149e459f48676c170f",
            "9408b4716267485b85d905008c69f450",
            "0dbb4c44e5c34f58bcfde23e48340404",
            "cc1facbdad3848b3aabb8e883c5dd738",
            "08901061106a4959b9ac0bf651aaeb40",
            "b86df2e899ac415bb66731df40ea2072",
            "87fc4c319e874613ab72003a4e8ec789",
            "0421833887ec467ea1cf1478998a9815",
            "f71fe2a87e124d97b419c8cc3ede7ade",
            "e84a11f28b6d4cbeb67ca980b5ce81f5",
            "58085dc2c2224d0aa866f5c8b7c81466",
            "30e32b1c3fae4d06b3a027631ebf09a0",
            "55d4465e896b4bcdaf53502671ffc474",
            "674dc94247e543088d22283a57768904",
            "dc0e1441f11745a18e115711f45b348d",
            "673d8cbf568c46d3bea1edb5a5b4cffb",
            "361bd88945fc45ecbfa627b30171f4ba",
            "19a4c18bd7ca4c9ba383a47f08de8add",
            "18b803a3bb9e434faaeda4962e079ae3",
            "5e177f68259243dc85d0baacb19928a8",
            "9bd68301371442ebb41a58eaa1c0bac4",
            "23b497debc174bb2b693730c0975787a",
            "e1e19137d4544a22b0068b5e657c48ec",
            "4b7c4963fbd74a40b4e94513a58581d3",
            "73009a87ce0b42c4bb652a4a891e5d83",
            "40fb530c47fb4775a2f71d57dfcae780",
            "7d55640efbad427988d1af30db6e53dd",
            "6d19d568aba540a89afdc50c9530bce7",
            "1a7968f14cce4d7db44ab3b506ba8dac"
          ]
        }
      },
      "outputs": [
        {
          "output_type": "stream",
          "name": "stderr",
          "text": [
            "/usr/local/lib/python3.10/dist-packages/huggingface_hub/utils/_token.py:88: UserWarning: \n",
            "The secret `HF_TOKEN` does not exist in your Colab secrets.\n",
            "To authenticate with the Hugging Face Hub, create a token in your settings tab (https://huggingface.co/settings/tokens), set it as secret in your Google Colab and restart your session.\n",
            "You will be able to reuse this secret in all of your notebooks.\n",
            "Please note that authentication is recommended but still optional to access public models or datasets.\n",
            "  warnings.warn(\n"
          ]
        },
        {
          "output_type": "display_data",
          "data": {
            "text/plain": [
              "tokenizer_config.json:   0%|          | 0.00/48.0 [00:00<?, ?B/s]"
            ],
            "application/vnd.jupyter.widget-view+json": {
              "version_major": 2,
              "version_minor": 0,
              "model_id": "d03f257819fe4c1fb5104fd09ecf476a"
            }
          },
          "metadata": {}
        },
        {
          "output_type": "display_data",
          "data": {
            "text/plain": [
              "config.json:   0%|          | 0.00/570 [00:00<?, ?B/s]"
            ],
            "application/vnd.jupyter.widget-view+json": {
              "version_major": 2,
              "version_minor": 0,
              "model_id": "cc7986715c84494bb544a68ab2d6d19e"
            }
          },
          "metadata": {}
        },
        {
          "output_type": "display_data",
          "data": {
            "text/plain": [
              "vocab.txt:   0%|          | 0.00/232k [00:00<?, ?B/s]"
            ],
            "application/vnd.jupyter.widget-view+json": {
              "version_major": 2,
              "version_minor": 0,
              "model_id": "8ecccfd813bf48d594f12369a103e72a"
            }
          },
          "metadata": {}
        },
        {
          "output_type": "display_data",
          "data": {
            "text/plain": [
              "tokenizer.json:   0%|          | 0.00/466k [00:00<?, ?B/s]"
            ],
            "application/vnd.jupyter.widget-view+json": {
              "version_major": 2,
              "version_minor": 0,
              "model_id": "0421833887ec467ea1cf1478998a9815"
            }
          },
          "metadata": {}
        },
        {
          "output_type": "display_data",
          "data": {
            "text/plain": [
              "config.json:   0%|          | 0.00/153k [00:00<?, ?B/s]"
            ],
            "application/vnd.jupyter.widget-view+json": {
              "version_major": 2,
              "version_minor": 0,
              "model_id": "18b803a3bb9e434faaeda4962e079ae3"
            }
          },
          "metadata": {}
        }
      ],
      "source": [
        "# Pre-trained base case for VQA provided in documentation\n",
        "# tokenizer = AutoTokenizer.from_pretrained(\"deepset/bert-base-cased-squad2\")\n",
        "# bertModel = BertForQuestionAnswering.from_pretrained(\"deepset/bert-base-cased-squad2\")\n",
        "tokenizer = AutoTokenizer.from_pretrained(\"google-bert/bert-base-uncased\")\n",
        "# Modify the visual embedding config so that size of the features matches\n",
        "configuration = VisualBertConfig.from_pretrained(\"uclanlp/visualbert-vqa\",\n",
        "                                                 visual_embedding_dim=512,\n",
        "                                                 num_labels=answers_ids_tensor.shape[0])\n",
        "visualBert = VisualBertForQuestionAnswering(configuration)"
      ]
    },
    {
      "cell_type": "markdown",
      "metadata": {
        "id": "uzfYKLV5RrVi"
      },
      "source": [
        "## Training Loop"
      ]
    },
    {
      "cell_type": "code",
      "execution_count": 42,
      "metadata": {
        "id": "npW_X4I3c8dI"
      },
      "outputs": [],
      "source": [
        "# Create the VQA Model and pass it to the GPU\n",
        "vqa_model = VQAModel(resnet, visualBert, tokenizer)"
      ]
    },
    {
      "cell_type": "code",
      "execution_count": 43,
      "metadata": {
        "id": "NVeBMAK4dQuQ",
        "outputId": "479de846-72e0-4180-befa-dfd77755659e",
        "colab": {
          "base_uri": "https://localhost:8080/"
        }
      },
      "outputs": [
        {
          "output_type": "execute_result",
          "data": {
            "text/plain": [
              "VQAModel(\n",
              "  (resnet): ResNet(\n",
              "    (conv1): Conv2d(3, 64, kernel_size=(7, 7), stride=(2, 2), padding=(3, 3), bias=False)\n",
              "    (bn1): BatchNorm2d(64, eps=1e-05, momentum=0.1, affine=True, track_running_stats=True)\n",
              "    (relu): ReLU(inplace=True)\n",
              "    (maxpool): MaxPool2d(kernel_size=3, stride=2, padding=1, dilation=1, ceil_mode=False)\n",
              "    (layer1): Sequential(\n",
              "      (0): BasicBlock(\n",
              "        (conv1): Conv2d(64, 64, kernel_size=(3, 3), stride=(1, 1), padding=(1, 1), bias=False)\n",
              "        (bn1): BatchNorm2d(64, eps=1e-05, momentum=0.1, affine=True, track_running_stats=True)\n",
              "        (relu): ReLU(inplace=True)\n",
              "        (conv2): Conv2d(64, 64, kernel_size=(3, 3), stride=(1, 1), padding=(1, 1), bias=False)\n",
              "        (bn2): BatchNorm2d(64, eps=1e-05, momentum=0.1, affine=True, track_running_stats=True)\n",
              "      )\n",
              "      (1): BasicBlock(\n",
              "        (conv1): Conv2d(64, 64, kernel_size=(3, 3), stride=(1, 1), padding=(1, 1), bias=False)\n",
              "        (bn1): BatchNorm2d(64, eps=1e-05, momentum=0.1, affine=True, track_running_stats=True)\n",
              "        (relu): ReLU(inplace=True)\n",
              "        (conv2): Conv2d(64, 64, kernel_size=(3, 3), stride=(1, 1), padding=(1, 1), bias=False)\n",
              "        (bn2): BatchNorm2d(64, eps=1e-05, momentum=0.1, affine=True, track_running_stats=True)\n",
              "      )\n",
              "    )\n",
              "    (layer2): Sequential(\n",
              "      (0): BasicBlock(\n",
              "        (conv1): Conv2d(64, 128, kernel_size=(3, 3), stride=(2, 2), padding=(1, 1), bias=False)\n",
              "        (bn1): BatchNorm2d(128, eps=1e-05, momentum=0.1, affine=True, track_running_stats=True)\n",
              "        (relu): ReLU(inplace=True)\n",
              "        (conv2): Conv2d(128, 128, kernel_size=(3, 3), stride=(1, 1), padding=(1, 1), bias=False)\n",
              "        (bn2): BatchNorm2d(128, eps=1e-05, momentum=0.1, affine=True, track_running_stats=True)\n",
              "        (downsample): Sequential(\n",
              "          (0): Conv2d(64, 128, kernel_size=(1, 1), stride=(2, 2), bias=False)\n",
              "          (1): BatchNorm2d(128, eps=1e-05, momentum=0.1, affine=True, track_running_stats=True)\n",
              "        )\n",
              "      )\n",
              "      (1): BasicBlock(\n",
              "        (conv1): Conv2d(128, 128, kernel_size=(3, 3), stride=(1, 1), padding=(1, 1), bias=False)\n",
              "        (bn1): BatchNorm2d(128, eps=1e-05, momentum=0.1, affine=True, track_running_stats=True)\n",
              "        (relu): ReLU(inplace=True)\n",
              "        (conv2): Conv2d(128, 128, kernel_size=(3, 3), stride=(1, 1), padding=(1, 1), bias=False)\n",
              "        (bn2): BatchNorm2d(128, eps=1e-05, momentum=0.1, affine=True, track_running_stats=True)\n",
              "      )\n",
              "    )\n",
              "    (layer3): Sequential(\n",
              "      (0): BasicBlock(\n",
              "        (conv1): Conv2d(128, 256, kernel_size=(3, 3), stride=(2, 2), padding=(1, 1), bias=False)\n",
              "        (bn1): BatchNorm2d(256, eps=1e-05, momentum=0.1, affine=True, track_running_stats=True)\n",
              "        (relu): ReLU(inplace=True)\n",
              "        (conv2): Conv2d(256, 256, kernel_size=(3, 3), stride=(1, 1), padding=(1, 1), bias=False)\n",
              "        (bn2): BatchNorm2d(256, eps=1e-05, momentum=0.1, affine=True, track_running_stats=True)\n",
              "        (downsample): Sequential(\n",
              "          (0): Conv2d(128, 256, kernel_size=(1, 1), stride=(2, 2), bias=False)\n",
              "          (1): BatchNorm2d(256, eps=1e-05, momentum=0.1, affine=True, track_running_stats=True)\n",
              "        )\n",
              "      )\n",
              "      (1): BasicBlock(\n",
              "        (conv1): Conv2d(256, 256, kernel_size=(3, 3), stride=(1, 1), padding=(1, 1), bias=False)\n",
              "        (bn1): BatchNorm2d(256, eps=1e-05, momentum=0.1, affine=True, track_running_stats=True)\n",
              "        (relu): ReLU(inplace=True)\n",
              "        (conv2): Conv2d(256, 256, kernel_size=(3, 3), stride=(1, 1), padding=(1, 1), bias=False)\n",
              "        (bn2): BatchNorm2d(256, eps=1e-05, momentum=0.1, affine=True, track_running_stats=True)\n",
              "      )\n",
              "    )\n",
              "    (layer4): Sequential(\n",
              "      (0): BasicBlock(\n",
              "        (conv1): Conv2d(256, 512, kernel_size=(3, 3), stride=(2, 2), padding=(1, 1), bias=False)\n",
              "        (bn1): BatchNorm2d(512, eps=1e-05, momentum=0.1, affine=True, track_running_stats=True)\n",
              "        (relu): ReLU(inplace=True)\n",
              "        (conv2): Conv2d(512, 512, kernel_size=(3, 3), stride=(1, 1), padding=(1, 1), bias=False)\n",
              "        (bn2): BatchNorm2d(512, eps=1e-05, momentum=0.1, affine=True, track_running_stats=True)\n",
              "        (downsample): Sequential(\n",
              "          (0): Conv2d(256, 512, kernel_size=(1, 1), stride=(2, 2), bias=False)\n",
              "          (1): BatchNorm2d(512, eps=1e-05, momentum=0.1, affine=True, track_running_stats=True)\n",
              "        )\n",
              "      )\n",
              "      (1): BasicBlock(\n",
              "        (conv1): Conv2d(512, 512, kernel_size=(3, 3), stride=(1, 1), padding=(1, 1), bias=False)\n",
              "        (bn1): BatchNorm2d(512, eps=1e-05, momentum=0.1, affine=True, track_running_stats=True)\n",
              "        (relu): ReLU(inplace=True)\n",
              "        (conv2): Conv2d(512, 512, kernel_size=(3, 3), stride=(1, 1), padding=(1, 1), bias=False)\n",
              "        (bn2): BatchNorm2d(512, eps=1e-05, momentum=0.1, affine=True, track_running_stats=True)\n",
              "      )\n",
              "    )\n",
              "    (avgpool): Identity()\n",
              "    (fc): Identity()\n",
              "  )\n",
              "  (vlm): VisualBertForQuestionAnswering(\n",
              "    (visual_bert): VisualBertModel(\n",
              "      (embeddings): VisualBertEmbeddings(\n",
              "        (word_embeddings): Embedding(30522, 768, padding_idx=1)\n",
              "        (position_embeddings): Embedding(512, 768)\n",
              "        (token_type_embeddings): Embedding(2, 768)\n",
              "        (LayerNorm): LayerNorm((768,), eps=1e-12, elementwise_affine=True)\n",
              "        (dropout): Dropout(p=0.1, inplace=False)\n",
              "        (visual_token_type_embeddings): Embedding(2, 768)\n",
              "        (visual_position_embeddings): Embedding(512, 768)\n",
              "        (visual_projection): Linear(in_features=512, out_features=768, bias=True)\n",
              "      )\n",
              "      (encoder): VisualBertEncoder(\n",
              "        (layer): ModuleList(\n",
              "          (0-11): 12 x VisualBertLayer(\n",
              "            (attention): VisualBertAttention(\n",
              "              (self): VisualBertSelfAttention(\n",
              "                (query): Linear(in_features=768, out_features=768, bias=True)\n",
              "                (key): Linear(in_features=768, out_features=768, bias=True)\n",
              "                (value): Linear(in_features=768, out_features=768, bias=True)\n",
              "                (dropout): Dropout(p=0.1, inplace=False)\n",
              "              )\n",
              "              (output): VisualBertSelfOutput(\n",
              "                (dense): Linear(in_features=768, out_features=768, bias=True)\n",
              "                (LayerNorm): LayerNorm((768,), eps=1e-12, elementwise_affine=True)\n",
              "                (dropout): Dropout(p=0.1, inplace=False)\n",
              "              )\n",
              "            )\n",
              "            (intermediate): VisualBertIntermediate(\n",
              "              (dense): Linear(in_features=768, out_features=3072, bias=True)\n",
              "              (intermediate_act_fn): GELUActivation()\n",
              "            )\n",
              "            (output): VisualBertOutput(\n",
              "              (dense): Linear(in_features=3072, out_features=768, bias=True)\n",
              "              (LayerNorm): LayerNorm((768,), eps=1e-12, elementwise_affine=True)\n",
              "              (dropout): Dropout(p=0.1, inplace=False)\n",
              "            )\n",
              "          )\n",
              "        )\n",
              "      )\n",
              "      (pooler): VisualBertPooler(\n",
              "        (dense): Linear(in_features=768, out_features=768, bias=True)\n",
              "        (activation): Tanh()\n",
              "      )\n",
              "    )\n",
              "    (dropout): Dropout(p=0.1, inplace=False)\n",
              "    (cls): Linear(in_features=768, out_features=102, bias=True)\n",
              "  )\n",
              ")"
            ]
          },
          "metadata": {},
          "execution_count": 43
        }
      ],
      "source": [
        "device = torch.device(\"cuda\" if torch.cuda.is_available() else \"cpu\")\n",
        "vqa_model.to(device)"
      ]
    },
    {
      "cell_type": "code",
      "execution_count": 50,
      "metadata": {
        "id": "rBFSlcm-dQiS"
      },
      "outputs": [],
      "source": [
        "# Define hyperparameters\n",
        "learning_rate = 1e-4\n",
        "num_epochs = 4"
      ]
    },
    {
      "cell_type": "code",
      "execution_count": 51,
      "metadata": {
        "id": "xrFgqLKddlJk"
      },
      "outputs": [],
      "source": [
        "# Define optimizer\n",
        "optimizer = torch.optim.Adam(filter(lambda p: p.requires_grad, vqa_model.parameters()), lr=learning_rate)"
      ]
    },
    {
      "cell_type": "code",
      "source": [
        "# Extract all image features for the dataloader\n",
        "with torch.no_grad():\n",
        "    image_features = extract_image_features(vqa_model.resnet, pizarro_dataloader)"
      ],
      "metadata": {
        "id": "Gz8cJxSB9NYq"
      },
      "execution_count": 52,
      "outputs": []
    },
    {
      "cell_type": "code",
      "source": [
        "image_features.size()"
      ],
      "metadata": {
        "id": "Dq7tFNabFWxC",
        "outputId": "418b4b71-b790-48ff-ea5a-30c7de901f44",
        "colab": {
          "base_uri": "https://localhost:8080/"
        }
      },
      "execution_count": 53,
      "outputs": [
        {
          "output_type": "execute_result",
          "data": {
            "text/plain": [
              "torch.Size([500, 7, 7, 512])"
            ]
          },
          "metadata": {},
          "execution_count": 53
        }
      ]
    },
    {
      "cell_type": "code",
      "source": [
        "# Set the model in training mode\n",
        "vqa_model.train()\n",
        "# Training loop\n",
        "for epoch in range(num_epochs):\n",
        "    total_loss = 0.0\n",
        "    num_batches = 0\n",
        "    text_results = []\n",
        "    for images, masks, questions, answers in tqdm(pizarro_dataloader, desc=f'Epoch {epoch+1}/{num_epochs}', unit='batch'):\n",
        "\n",
        "        # Track batch loss\n",
        "        batch_loss = 0.0\n",
        "\n",
        "        # Transpose questions and answers\n",
        "        questions = np.transpose(questions)\n",
        "        answers = np.transpose(answers)\n",
        "        # Store shape for iteration\n",
        "        num_images, num_questions_per_image = np.shape(questions)\n",
        "\n",
        "        # Iterate over all questions for each image\n",
        "        for image_idx in range(num_images):\n",
        "          for question_idx in range(num_questions_per_image):\n",
        "\n",
        "            # Avoid using previous gradients\n",
        "            optimizer.zero_grad()\n",
        "\n",
        "            print(image_features[image_idx].size(0))\n",
        "            #Forward pass\n",
        "            outputs, loss = vqa_model(image_features[image_idx], questions[image_idx,question_idx], answers_ids_tensor, training=True)\n",
        "\n",
        "            # Backpropagation\n",
        "            loss.backward()\n",
        "            optimizer.step()\n",
        "\n",
        "            batch_loss += loss.item() / (num_images * num_questions_per_image)\n",
        "\n",
        "            # Store the text predicted answers, the ground truth and corresponding question\n",
        "            probabilities = torch.softmax(outputs, dim=-1)\n",
        "            pred_idx = torch.argmax(probabilities, dim=-1)\n",
        "            pred_answer = id2label[pred_idx.item()]\n",
        "\n",
        "            text_results.append({\n",
        "                  \"Image ID\": image_idx,\n",
        "                  \"Question\": questions[image_idx,question_idx],\n",
        "                  \"Ground Truth\": answers[image_idx, question_idx],\n",
        "                  \"Prediction\": pred_answer\n",
        "                  })\n",
        "\n",
        "            # Remove unnecessary tensors from memory\n",
        "            del loss\n",
        "            del outputs\n",
        "\n",
        "        # Print batch loss\n",
        "        print(f\"Batch Loss: {batch_loss}\")\n",
        "\n",
        "        # Accumulate the total loss and num of batches\n",
        "        total_loss += batch_loss\n",
        "        num_batches += 1\n",
        "\n",
        "    # Aaverage training loss for the epoch\n",
        "    avg_loss = total_loss / num_batches\n",
        "    print(f\"Epoch {epoch + 1}, Average Loss: {avg_loss}\")\n",
        "\n",
        "    # Save trained model after each epoch\n",
        "    torch.save(vqa_model.state_dict(), f'trained_vqa_model_epoch{epoch+1}.pth')"
      ],
      "metadata": {
        "id": "HeOUYMA052Cs",
        "outputId": "f521e80b-7ed2-4721-f426-e2beba5ec130",
        "colab": {
          "base_uri": "https://localhost:8080/",
          "height": 1000
        }
      },
      "execution_count": 48,
      "outputs": [
        {
          "output_type": "stream",
          "name": "stderr",
          "text": [
            "Epoch 1/4:   0%|          | 0/100 [00:00<?, ?batch/s]"
          ]
        },
        {
          "output_type": "stream",
          "name": "stdout",
          "text": [
            "7\n",
            "torch.Size([1, 7, 7, 512])\n"
          ]
        },
        {
          "output_type": "stream",
          "name": "stderr",
          "text": [
            "\n"
          ]
        },
        {
          "output_type": "error",
          "ename": "RuntimeError",
          "evalue": "Tensors must have same number of dimensions: got 2 and 3",
          "traceback": [
            "\u001b[0;31m---------------------------------------------------------------------------\u001b[0m",
            "\u001b[0;31mRuntimeError\u001b[0m                              Traceback (most recent call last)",
            "\u001b[0;32m<ipython-input-48-5105b7838a74>\u001b[0m in \u001b[0;36m<cell line: 4>\u001b[0;34m()\u001b[0m\n\u001b[1;32m     26\u001b[0m             \u001b[0mprint\u001b[0m\u001b[0;34m(\u001b[0m\u001b[0mimage_features\u001b[0m\u001b[0;34m[\u001b[0m\u001b[0mimage_idx\u001b[0m\u001b[0;34m]\u001b[0m\u001b[0;34m.\u001b[0m\u001b[0msize\u001b[0m\u001b[0;34m(\u001b[0m\u001b[0;36m0\u001b[0m\u001b[0;34m)\u001b[0m\u001b[0;34m)\u001b[0m\u001b[0;34m\u001b[0m\u001b[0;34m\u001b[0m\u001b[0m\n\u001b[1;32m     27\u001b[0m             \u001b[0;31m#Forward pass\u001b[0m\u001b[0;34m\u001b[0m\u001b[0;34m\u001b[0m\u001b[0m\n\u001b[0;32m---> 28\u001b[0;31m             \u001b[0moutputs\u001b[0m\u001b[0;34m,\u001b[0m \u001b[0mloss\u001b[0m \u001b[0;34m=\u001b[0m \u001b[0mvqa_model\u001b[0m\u001b[0;34m(\u001b[0m\u001b[0mimage_features\u001b[0m\u001b[0;34m[\u001b[0m\u001b[0mimage_idx\u001b[0m\u001b[0;34m]\u001b[0m\u001b[0;34m,\u001b[0m \u001b[0mquestions\u001b[0m\u001b[0;34m[\u001b[0m\u001b[0mimage_idx\u001b[0m\u001b[0;34m,\u001b[0m\u001b[0mquestion_idx\u001b[0m\u001b[0;34m]\u001b[0m\u001b[0;34m,\u001b[0m \u001b[0manswers_ids_tensor\u001b[0m\u001b[0;34m,\u001b[0m \u001b[0mtraining\u001b[0m\u001b[0;34m=\u001b[0m\u001b[0;32mTrue\u001b[0m\u001b[0;34m)\u001b[0m\u001b[0;34m\u001b[0m\u001b[0;34m\u001b[0m\u001b[0m\n\u001b[0m\u001b[1;32m     29\u001b[0m \u001b[0;34m\u001b[0m\u001b[0m\n\u001b[1;32m     30\u001b[0m             \u001b[0;31m# Backpropagation\u001b[0m\u001b[0;34m\u001b[0m\u001b[0;34m\u001b[0m\u001b[0m\n",
            "\u001b[0;32m/usr/local/lib/python3.10/dist-packages/torch/nn/modules/module.py\u001b[0m in \u001b[0;36m_wrapped_call_impl\u001b[0;34m(self, *args, **kwargs)\u001b[0m\n\u001b[1;32m   1509\u001b[0m             \u001b[0;32mreturn\u001b[0m \u001b[0mself\u001b[0m\u001b[0;34m.\u001b[0m\u001b[0m_compiled_call_impl\u001b[0m\u001b[0;34m(\u001b[0m\u001b[0;34m*\u001b[0m\u001b[0margs\u001b[0m\u001b[0;34m,\u001b[0m \u001b[0;34m**\u001b[0m\u001b[0mkwargs\u001b[0m\u001b[0;34m)\u001b[0m  \u001b[0;31m# type: ignore[misc]\u001b[0m\u001b[0;34m\u001b[0m\u001b[0;34m\u001b[0m\u001b[0m\n\u001b[1;32m   1510\u001b[0m         \u001b[0;32melse\u001b[0m\u001b[0;34m:\u001b[0m\u001b[0;34m\u001b[0m\u001b[0;34m\u001b[0m\u001b[0m\n\u001b[0;32m-> 1511\u001b[0;31m             \u001b[0;32mreturn\u001b[0m \u001b[0mself\u001b[0m\u001b[0;34m.\u001b[0m\u001b[0m_call_impl\u001b[0m\u001b[0;34m(\u001b[0m\u001b[0;34m*\u001b[0m\u001b[0margs\u001b[0m\u001b[0;34m,\u001b[0m \u001b[0;34m**\u001b[0m\u001b[0mkwargs\u001b[0m\u001b[0;34m)\u001b[0m\u001b[0;34m\u001b[0m\u001b[0;34m\u001b[0m\u001b[0m\n\u001b[0m\u001b[1;32m   1512\u001b[0m \u001b[0;34m\u001b[0m\u001b[0m\n\u001b[1;32m   1513\u001b[0m     \u001b[0;32mdef\u001b[0m \u001b[0m_call_impl\u001b[0m\u001b[0;34m(\u001b[0m\u001b[0mself\u001b[0m\u001b[0;34m,\u001b[0m \u001b[0;34m*\u001b[0m\u001b[0margs\u001b[0m\u001b[0;34m,\u001b[0m \u001b[0;34m**\u001b[0m\u001b[0mkwargs\u001b[0m\u001b[0;34m)\u001b[0m\u001b[0;34m:\u001b[0m\u001b[0;34m\u001b[0m\u001b[0;34m\u001b[0m\u001b[0m\n",
            "\u001b[0;32m/usr/local/lib/python3.10/dist-packages/torch/nn/modules/module.py\u001b[0m in \u001b[0;36m_call_impl\u001b[0;34m(self, *args, **kwargs)\u001b[0m\n\u001b[1;32m   1518\u001b[0m                 \u001b[0;32mor\u001b[0m \u001b[0m_global_backward_pre_hooks\u001b[0m \u001b[0;32mor\u001b[0m \u001b[0m_global_backward_hooks\u001b[0m\u001b[0;34m\u001b[0m\u001b[0;34m\u001b[0m\u001b[0m\n\u001b[1;32m   1519\u001b[0m                 or _global_forward_hooks or _global_forward_pre_hooks):\n\u001b[0;32m-> 1520\u001b[0;31m             \u001b[0;32mreturn\u001b[0m \u001b[0mforward_call\u001b[0m\u001b[0;34m(\u001b[0m\u001b[0;34m*\u001b[0m\u001b[0margs\u001b[0m\u001b[0;34m,\u001b[0m \u001b[0;34m**\u001b[0m\u001b[0mkwargs\u001b[0m\u001b[0;34m)\u001b[0m\u001b[0;34m\u001b[0m\u001b[0;34m\u001b[0m\u001b[0m\n\u001b[0m\u001b[1;32m   1521\u001b[0m \u001b[0;34m\u001b[0m\u001b[0m\n\u001b[1;32m   1522\u001b[0m         \u001b[0;32mtry\u001b[0m\u001b[0;34m:\u001b[0m\u001b[0;34m\u001b[0m\u001b[0;34m\u001b[0m\u001b[0m\n",
            "\u001b[0;32m<ipython-input-40-e83ca061911e>\u001b[0m in \u001b[0;36mforward\u001b[0;34m(self, image_features, question, labels_idxs, training)\u001b[0m\n\u001b[1;32m     47\u001b[0m         \u001b[0;32mif\u001b[0m \u001b[0mtraining\u001b[0m\u001b[0;34m:\u001b[0m\u001b[0;34m\u001b[0m\u001b[0;34m\u001b[0m\u001b[0m\n\u001b[1;32m     48\u001b[0m \u001b[0;34m\u001b[0m\u001b[0m\n\u001b[0;32m---> 49\u001b[0;31m             \u001b[0moutput\u001b[0m \u001b[0;34m=\u001b[0m \u001b[0mself\u001b[0m\u001b[0;34m.\u001b[0m\u001b[0mvlm\u001b[0m\u001b[0;34m(\u001b[0m\u001b[0;34m**\u001b[0m\u001b[0minput_dict\u001b[0m\u001b[0;34m,\u001b[0m \u001b[0mlabels\u001b[0m\u001b[0;34m=\u001b[0m\u001b[0mlabels_idxs\u001b[0m\u001b[0;34m)\u001b[0m\u001b[0;34m\u001b[0m\u001b[0;34m\u001b[0m\u001b[0m\n\u001b[0m\u001b[1;32m     50\u001b[0m             \u001b[0mlogits\u001b[0m \u001b[0;34m=\u001b[0m \u001b[0moutput\u001b[0m\u001b[0;34m.\u001b[0m\u001b[0mlogits\u001b[0m\u001b[0;34m\u001b[0m\u001b[0;34m\u001b[0m\u001b[0m\n\u001b[1;32m     51\u001b[0m             \u001b[0mloss\u001b[0m \u001b[0;34m=\u001b[0m \u001b[0moutput\u001b[0m\u001b[0;34m.\u001b[0m\u001b[0mloss\u001b[0m\u001b[0;34m\u001b[0m\u001b[0;34m\u001b[0m\u001b[0m\n",
            "\u001b[0;32m/usr/local/lib/python3.10/dist-packages/torch/nn/modules/module.py\u001b[0m in \u001b[0;36m_wrapped_call_impl\u001b[0;34m(self, *args, **kwargs)\u001b[0m\n\u001b[1;32m   1509\u001b[0m             \u001b[0;32mreturn\u001b[0m \u001b[0mself\u001b[0m\u001b[0;34m.\u001b[0m\u001b[0m_compiled_call_impl\u001b[0m\u001b[0;34m(\u001b[0m\u001b[0;34m*\u001b[0m\u001b[0margs\u001b[0m\u001b[0;34m,\u001b[0m \u001b[0;34m**\u001b[0m\u001b[0mkwargs\u001b[0m\u001b[0;34m)\u001b[0m  \u001b[0;31m# type: ignore[misc]\u001b[0m\u001b[0;34m\u001b[0m\u001b[0;34m\u001b[0m\u001b[0m\n\u001b[1;32m   1510\u001b[0m         \u001b[0;32melse\u001b[0m\u001b[0;34m:\u001b[0m\u001b[0;34m\u001b[0m\u001b[0;34m\u001b[0m\u001b[0m\n\u001b[0;32m-> 1511\u001b[0;31m             \u001b[0;32mreturn\u001b[0m \u001b[0mself\u001b[0m\u001b[0;34m.\u001b[0m\u001b[0m_call_impl\u001b[0m\u001b[0;34m(\u001b[0m\u001b[0;34m*\u001b[0m\u001b[0margs\u001b[0m\u001b[0;34m,\u001b[0m \u001b[0;34m**\u001b[0m\u001b[0mkwargs\u001b[0m\u001b[0;34m)\u001b[0m\u001b[0;34m\u001b[0m\u001b[0;34m\u001b[0m\u001b[0m\n\u001b[0m\u001b[1;32m   1512\u001b[0m \u001b[0;34m\u001b[0m\u001b[0m\n\u001b[1;32m   1513\u001b[0m     \u001b[0;32mdef\u001b[0m \u001b[0m_call_impl\u001b[0m\u001b[0;34m(\u001b[0m\u001b[0mself\u001b[0m\u001b[0;34m,\u001b[0m \u001b[0;34m*\u001b[0m\u001b[0margs\u001b[0m\u001b[0;34m,\u001b[0m \u001b[0;34m**\u001b[0m\u001b[0mkwargs\u001b[0m\u001b[0;34m)\u001b[0m\u001b[0;34m:\u001b[0m\u001b[0;34m\u001b[0m\u001b[0;34m\u001b[0m\u001b[0m\n",
            "\u001b[0;32m/usr/local/lib/python3.10/dist-packages/torch/nn/modules/module.py\u001b[0m in \u001b[0;36m_call_impl\u001b[0;34m(self, *args, **kwargs)\u001b[0m\n\u001b[1;32m   1518\u001b[0m                 \u001b[0;32mor\u001b[0m \u001b[0m_global_backward_pre_hooks\u001b[0m \u001b[0;32mor\u001b[0m \u001b[0m_global_backward_hooks\u001b[0m\u001b[0;34m\u001b[0m\u001b[0;34m\u001b[0m\u001b[0m\n\u001b[1;32m   1519\u001b[0m                 or _global_forward_hooks or _global_forward_pre_hooks):\n\u001b[0;32m-> 1520\u001b[0;31m             \u001b[0;32mreturn\u001b[0m \u001b[0mforward_call\u001b[0m\u001b[0;34m(\u001b[0m\u001b[0;34m*\u001b[0m\u001b[0margs\u001b[0m\u001b[0;34m,\u001b[0m \u001b[0;34m**\u001b[0m\u001b[0mkwargs\u001b[0m\u001b[0;34m)\u001b[0m\u001b[0;34m\u001b[0m\u001b[0;34m\u001b[0m\u001b[0m\n\u001b[0m\u001b[1;32m   1521\u001b[0m \u001b[0;34m\u001b[0m\u001b[0m\n\u001b[1;32m   1522\u001b[0m         \u001b[0;32mtry\u001b[0m\u001b[0;34m:\u001b[0m\u001b[0;34m\u001b[0m\u001b[0;34m\u001b[0m\u001b[0m\n",
            "\u001b[0;32m/usr/local/lib/python3.10/dist-packages/transformers/models/visual_bert/modeling_visual_bert.py\u001b[0m in \u001b[0;36mforward\u001b[0;34m(self, input_ids, attention_mask, token_type_ids, position_ids, head_mask, inputs_embeds, visual_embeds, visual_attention_mask, visual_token_type_ids, image_text_alignment, output_attentions, output_hidden_states, return_dict, labels)\u001b[0m\n\u001b[1;32m   1240\u001b[0m         \u001b[0mindex_to_gather\u001b[0m \u001b[0;34m=\u001b[0m \u001b[0mattention_mask\u001b[0m\u001b[0;34m.\u001b[0m\u001b[0msum\u001b[0m\u001b[0;34m(\u001b[0m\u001b[0;36m1\u001b[0m\u001b[0;34m)\u001b[0m \u001b[0;34m-\u001b[0m \u001b[0;36m2\u001b[0m  \u001b[0;31m# as in original code\u001b[0m\u001b[0;34m\u001b[0m\u001b[0;34m\u001b[0m\u001b[0m\n\u001b[1;32m   1241\u001b[0m \u001b[0;34m\u001b[0m\u001b[0m\n\u001b[0;32m-> 1242\u001b[0;31m         outputs = self.visual_bert(\n\u001b[0m\u001b[1;32m   1243\u001b[0m             \u001b[0minput_ids\u001b[0m\u001b[0;34m,\u001b[0m\u001b[0;34m\u001b[0m\u001b[0;34m\u001b[0m\u001b[0m\n\u001b[1;32m   1244\u001b[0m             \u001b[0mattention_mask\u001b[0m\u001b[0;34m=\u001b[0m\u001b[0mattention_mask\u001b[0m\u001b[0;34m,\u001b[0m\u001b[0;34m\u001b[0m\u001b[0;34m\u001b[0m\u001b[0m\n",
            "\u001b[0;32m/usr/local/lib/python3.10/dist-packages/torch/nn/modules/module.py\u001b[0m in \u001b[0;36m_wrapped_call_impl\u001b[0;34m(self, *args, **kwargs)\u001b[0m\n\u001b[1;32m   1509\u001b[0m             \u001b[0;32mreturn\u001b[0m \u001b[0mself\u001b[0m\u001b[0;34m.\u001b[0m\u001b[0m_compiled_call_impl\u001b[0m\u001b[0;34m(\u001b[0m\u001b[0;34m*\u001b[0m\u001b[0margs\u001b[0m\u001b[0;34m,\u001b[0m \u001b[0;34m**\u001b[0m\u001b[0mkwargs\u001b[0m\u001b[0;34m)\u001b[0m  \u001b[0;31m# type: ignore[misc]\u001b[0m\u001b[0;34m\u001b[0m\u001b[0;34m\u001b[0m\u001b[0m\n\u001b[1;32m   1510\u001b[0m         \u001b[0;32melse\u001b[0m\u001b[0;34m:\u001b[0m\u001b[0;34m\u001b[0m\u001b[0;34m\u001b[0m\u001b[0m\n\u001b[0;32m-> 1511\u001b[0;31m             \u001b[0;32mreturn\u001b[0m \u001b[0mself\u001b[0m\u001b[0;34m.\u001b[0m\u001b[0m_call_impl\u001b[0m\u001b[0;34m(\u001b[0m\u001b[0;34m*\u001b[0m\u001b[0margs\u001b[0m\u001b[0;34m,\u001b[0m \u001b[0;34m**\u001b[0m\u001b[0mkwargs\u001b[0m\u001b[0;34m)\u001b[0m\u001b[0;34m\u001b[0m\u001b[0;34m\u001b[0m\u001b[0m\n\u001b[0m\u001b[1;32m   1512\u001b[0m \u001b[0;34m\u001b[0m\u001b[0m\n\u001b[1;32m   1513\u001b[0m     \u001b[0;32mdef\u001b[0m \u001b[0m_call_impl\u001b[0m\u001b[0;34m(\u001b[0m\u001b[0mself\u001b[0m\u001b[0;34m,\u001b[0m \u001b[0;34m*\u001b[0m\u001b[0margs\u001b[0m\u001b[0;34m,\u001b[0m \u001b[0;34m**\u001b[0m\u001b[0mkwargs\u001b[0m\u001b[0;34m)\u001b[0m\u001b[0;34m:\u001b[0m\u001b[0;34m\u001b[0m\u001b[0;34m\u001b[0m\u001b[0m\n",
            "\u001b[0;32m/usr/local/lib/python3.10/dist-packages/torch/nn/modules/module.py\u001b[0m in \u001b[0;36m_call_impl\u001b[0;34m(self, *args, **kwargs)\u001b[0m\n\u001b[1;32m   1518\u001b[0m                 \u001b[0;32mor\u001b[0m \u001b[0m_global_backward_pre_hooks\u001b[0m \u001b[0;32mor\u001b[0m \u001b[0m_global_backward_hooks\u001b[0m\u001b[0;34m\u001b[0m\u001b[0;34m\u001b[0m\u001b[0m\n\u001b[1;32m   1519\u001b[0m                 or _global_forward_hooks or _global_forward_pre_hooks):\n\u001b[0;32m-> 1520\u001b[0;31m             \u001b[0;32mreturn\u001b[0m \u001b[0mforward_call\u001b[0m\u001b[0;34m(\u001b[0m\u001b[0;34m*\u001b[0m\u001b[0margs\u001b[0m\u001b[0;34m,\u001b[0m \u001b[0;34m**\u001b[0m\u001b[0mkwargs\u001b[0m\u001b[0;34m)\u001b[0m\u001b[0;34m\u001b[0m\u001b[0;34m\u001b[0m\u001b[0m\n\u001b[0m\u001b[1;32m   1521\u001b[0m \u001b[0;34m\u001b[0m\u001b[0m\n\u001b[1;32m   1522\u001b[0m         \u001b[0;32mtry\u001b[0m\u001b[0;34m:\u001b[0m\u001b[0;34m\u001b[0m\u001b[0;34m\u001b[0m\u001b[0m\n",
            "\u001b[0;32m/usr/local/lib/python3.10/dist-packages/transformers/models/visual_bert/modeling_visual_bert.py\u001b[0m in \u001b[0;36mforward\u001b[0;34m(self, input_ids, attention_mask, token_type_ids, position_ids, head_mask, inputs_embeds, visual_embeds, visual_attention_mask, visual_token_type_ids, image_text_alignment, output_attentions, output_hidden_states, return_dict)\u001b[0m\n\u001b[1;32m    786\u001b[0m         \u001b[0;31m# ourselves in which case we just need to make it broadcastable to all heads.\u001b[0m\u001b[0;34m\u001b[0m\u001b[0;34m\u001b[0m\u001b[0m\n\u001b[1;32m    787\u001b[0m         \u001b[0;32mif\u001b[0m \u001b[0mvisual_embeds\u001b[0m \u001b[0;32mis\u001b[0m \u001b[0;32mnot\u001b[0m \u001b[0;32mNone\u001b[0m\u001b[0;34m:\u001b[0m\u001b[0;34m\u001b[0m\u001b[0;34m\u001b[0m\u001b[0m\n\u001b[0;32m--> 788\u001b[0;31m             \u001b[0mcombined_attention_mask\u001b[0m \u001b[0;34m=\u001b[0m \u001b[0mtorch\u001b[0m\u001b[0;34m.\u001b[0m\u001b[0mcat\u001b[0m\u001b[0;34m(\u001b[0m\u001b[0;34m(\u001b[0m\u001b[0mattention_mask\u001b[0m\u001b[0;34m,\u001b[0m \u001b[0mvisual_attention_mask\u001b[0m\u001b[0;34m)\u001b[0m\u001b[0;34m,\u001b[0m \u001b[0mdim\u001b[0m\u001b[0;34m=\u001b[0m\u001b[0;34m-\u001b[0m\u001b[0;36m1\u001b[0m\u001b[0;34m)\u001b[0m\u001b[0;34m\u001b[0m\u001b[0;34m\u001b[0m\u001b[0m\n\u001b[0m\u001b[1;32m    789\u001b[0m             extended_attention_mask: torch.Tensor = self.get_extended_attention_mask(\n\u001b[1;32m    790\u001b[0m                 \u001b[0mcombined_attention_mask\u001b[0m\u001b[0;34m,\u001b[0m \u001b[0;34m(\u001b[0m\u001b[0mbatch_size\u001b[0m\u001b[0;34m,\u001b[0m \u001b[0minput_shape\u001b[0m \u001b[0;34m+\u001b[0m \u001b[0mvisual_input_shape\u001b[0m\u001b[0;34m)\u001b[0m\u001b[0;34m\u001b[0m\u001b[0;34m\u001b[0m\u001b[0m\n",
            "\u001b[0;31mRuntimeError\u001b[0m: Tensors must have same number of dimensions: got 2 and 3"
          ]
        }
      ]
    },
    {
      "cell_type": "code",
      "source": [
        "# predictions = []\n",
        "# for image_idx in range(len(outputs)):\n",
        "#   image_answers = []\n",
        "#   for output in outputs[image_idx]:\n",
        "#       logits = output.logits\n",
        "#       probabilities = torch.softmax(logits, dim=-1)  # Apply softmax along the last dimension\n",
        "#       pred_index = torch.argmax(probabilities, dim=-1)  # Get the index of the maximum probability\n",
        "#       pred_label = id2label[pred_index.item()]\n",
        "#       image_answers.append(pred_label)\n",
        "#   predictions.append(image_answers)\n",
        "# predictions"
      ],
      "metadata": {
        "id": "yT4abmfGZWT2"
      },
      "execution_count": null,
      "outputs": []
    },
    {
      "cell_type": "code",
      "source": [
        "# for param in vqa_model.parameters():\n",
        "#       print(param.grad)"
      ],
      "metadata": {
        "id": "n7HOlCbka4uD"
      },
      "execution_count": null,
      "outputs": []
    }
  ],
  "metadata": {
    "accelerator": "GPU",
    "colab": {
      "gpuType": "T4",
      "provenance": [],
      "include_colab_link": true
    },
    "kernelspec": {
      "display_name": "Python 3",
      "name": "python3"
    },
    "language_info": {
      "name": "python"
    },
    "widgets": {
      "application/vnd.jupyter.widget-state+json": {
        "d03f257819fe4c1fb5104fd09ecf476a": {
          "model_module": "@jupyter-widgets/controls",
          "model_name": "HBoxModel",
          "model_module_version": "1.5.0",
          "state": {
            "_dom_classes": [],
            "_model_module": "@jupyter-widgets/controls",
            "_model_module_version": "1.5.0",
            "_model_name": "HBoxModel",
            "_view_count": null,
            "_view_module": "@jupyter-widgets/controls",
            "_view_module_version": "1.5.0",
            "_view_name": "HBoxView",
            "box_style": "",
            "children": [
              "IPY_MODEL_d3b0feae790d40f4831b92a0e3738f08",
              "IPY_MODEL_6368cdd264d4464d9d43fa4c0d0328a6",
              "IPY_MODEL_3cfef7caf3da4eae903350bf7d1e96a1"
            ],
            "layout": "IPY_MODEL_d3238df50ff44f3290b1c958a923c4fb"
          }
        },
        "d3b0feae790d40f4831b92a0e3738f08": {
          "model_module": "@jupyter-widgets/controls",
          "model_name": "HTMLModel",
          "model_module_version": "1.5.0",
          "state": {
            "_dom_classes": [],
            "_model_module": "@jupyter-widgets/controls",
            "_model_module_version": "1.5.0",
            "_model_name": "HTMLModel",
            "_view_count": null,
            "_view_module": "@jupyter-widgets/controls",
            "_view_module_version": "1.5.0",
            "_view_name": "HTMLView",
            "description": "",
            "description_tooltip": null,
            "layout": "IPY_MODEL_d72af36d119a474f829ec2fd7128435c",
            "placeholder": "​",
            "style": "IPY_MODEL_3a419ddec62843bc9091e5dca237d87c",
            "value": "tokenizer_config.json: 100%"
          }
        },
        "6368cdd264d4464d9d43fa4c0d0328a6": {
          "model_module": "@jupyter-widgets/controls",
          "model_name": "FloatProgressModel",
          "model_module_version": "1.5.0",
          "state": {
            "_dom_classes": [],
            "_model_module": "@jupyter-widgets/controls",
            "_model_module_version": "1.5.0",
            "_model_name": "FloatProgressModel",
            "_view_count": null,
            "_view_module": "@jupyter-widgets/controls",
            "_view_module_version": "1.5.0",
            "_view_name": "ProgressView",
            "bar_style": "success",
            "description": "",
            "description_tooltip": null,
            "layout": "IPY_MODEL_aa443e43e78e47bbb73a5e4d5f1b6dab",
            "max": 48,
            "min": 0,
            "orientation": "horizontal",
            "style": "IPY_MODEL_0fa0b1d46ae6431e8724b6436bae61ca",
            "value": 48
          }
        },
        "3cfef7caf3da4eae903350bf7d1e96a1": {
          "model_module": "@jupyter-widgets/controls",
          "model_name": "HTMLModel",
          "model_module_version": "1.5.0",
          "state": {
            "_dom_classes": [],
            "_model_module": "@jupyter-widgets/controls",
            "_model_module_version": "1.5.0",
            "_model_name": "HTMLModel",
            "_view_count": null,
            "_view_module": "@jupyter-widgets/controls",
            "_view_module_version": "1.5.0",
            "_view_name": "HTMLView",
            "description": "",
            "description_tooltip": null,
            "layout": "IPY_MODEL_45177bd8ae0f40ffb1e4831451aa7f9d",
            "placeholder": "​",
            "style": "IPY_MODEL_936fae0bea584a908f18faad863e4fb3",
            "value": " 48.0/48.0 [00:00&lt;00:00, 1.34kB/s]"
          }
        },
        "d3238df50ff44f3290b1c958a923c4fb": {
          "model_module": "@jupyter-widgets/base",
          "model_name": "LayoutModel",
          "model_module_version": "1.2.0",
          "state": {
            "_model_module": "@jupyter-widgets/base",
            "_model_module_version": "1.2.0",
            "_model_name": "LayoutModel",
            "_view_count": null,
            "_view_module": "@jupyter-widgets/base",
            "_view_module_version": "1.2.0",
            "_view_name": "LayoutView",
            "align_content": null,
            "align_items": null,
            "align_self": null,
            "border": null,
            "bottom": null,
            "display": null,
            "flex": null,
            "flex_flow": null,
            "grid_area": null,
            "grid_auto_columns": null,
            "grid_auto_flow": null,
            "grid_auto_rows": null,
            "grid_column": null,
            "grid_gap": null,
            "grid_row": null,
            "grid_template_areas": null,
            "grid_template_columns": null,
            "grid_template_rows": null,
            "height": null,
            "justify_content": null,
            "justify_items": null,
            "left": null,
            "margin": null,
            "max_height": null,
            "max_width": null,
            "min_height": null,
            "min_width": null,
            "object_fit": null,
            "object_position": null,
            "order": null,
            "overflow": null,
            "overflow_x": null,
            "overflow_y": null,
            "padding": null,
            "right": null,
            "top": null,
            "visibility": null,
            "width": null
          }
        },
        "d72af36d119a474f829ec2fd7128435c": {
          "model_module": "@jupyter-widgets/base",
          "model_name": "LayoutModel",
          "model_module_version": "1.2.0",
          "state": {
            "_model_module": "@jupyter-widgets/base",
            "_model_module_version": "1.2.0",
            "_model_name": "LayoutModel",
            "_view_count": null,
            "_view_module": "@jupyter-widgets/base",
            "_view_module_version": "1.2.0",
            "_view_name": "LayoutView",
            "align_content": null,
            "align_items": null,
            "align_self": null,
            "border": null,
            "bottom": null,
            "display": null,
            "flex": null,
            "flex_flow": null,
            "grid_area": null,
            "grid_auto_columns": null,
            "grid_auto_flow": null,
            "grid_auto_rows": null,
            "grid_column": null,
            "grid_gap": null,
            "grid_row": null,
            "grid_template_areas": null,
            "grid_template_columns": null,
            "grid_template_rows": null,
            "height": null,
            "justify_content": null,
            "justify_items": null,
            "left": null,
            "margin": null,
            "max_height": null,
            "max_width": null,
            "min_height": null,
            "min_width": null,
            "object_fit": null,
            "object_position": null,
            "order": null,
            "overflow": null,
            "overflow_x": null,
            "overflow_y": null,
            "padding": null,
            "right": null,
            "top": null,
            "visibility": null,
            "width": null
          }
        },
        "3a419ddec62843bc9091e5dca237d87c": {
          "model_module": "@jupyter-widgets/controls",
          "model_name": "DescriptionStyleModel",
          "model_module_version": "1.5.0",
          "state": {
            "_model_module": "@jupyter-widgets/controls",
            "_model_module_version": "1.5.0",
            "_model_name": "DescriptionStyleModel",
            "_view_count": null,
            "_view_module": "@jupyter-widgets/base",
            "_view_module_version": "1.2.0",
            "_view_name": "StyleView",
            "description_width": ""
          }
        },
        "aa443e43e78e47bbb73a5e4d5f1b6dab": {
          "model_module": "@jupyter-widgets/base",
          "model_name": "LayoutModel",
          "model_module_version": "1.2.0",
          "state": {
            "_model_module": "@jupyter-widgets/base",
            "_model_module_version": "1.2.0",
            "_model_name": "LayoutModel",
            "_view_count": null,
            "_view_module": "@jupyter-widgets/base",
            "_view_module_version": "1.2.0",
            "_view_name": "LayoutView",
            "align_content": null,
            "align_items": null,
            "align_self": null,
            "border": null,
            "bottom": null,
            "display": null,
            "flex": null,
            "flex_flow": null,
            "grid_area": null,
            "grid_auto_columns": null,
            "grid_auto_flow": null,
            "grid_auto_rows": null,
            "grid_column": null,
            "grid_gap": null,
            "grid_row": null,
            "grid_template_areas": null,
            "grid_template_columns": null,
            "grid_template_rows": null,
            "height": null,
            "justify_content": null,
            "justify_items": null,
            "left": null,
            "margin": null,
            "max_height": null,
            "max_width": null,
            "min_height": null,
            "min_width": null,
            "object_fit": null,
            "object_position": null,
            "order": null,
            "overflow": null,
            "overflow_x": null,
            "overflow_y": null,
            "padding": null,
            "right": null,
            "top": null,
            "visibility": null,
            "width": null
          }
        },
        "0fa0b1d46ae6431e8724b6436bae61ca": {
          "model_module": "@jupyter-widgets/controls",
          "model_name": "ProgressStyleModel",
          "model_module_version": "1.5.0",
          "state": {
            "_model_module": "@jupyter-widgets/controls",
            "_model_module_version": "1.5.0",
            "_model_name": "ProgressStyleModel",
            "_view_count": null,
            "_view_module": "@jupyter-widgets/base",
            "_view_module_version": "1.2.0",
            "_view_name": "StyleView",
            "bar_color": null,
            "description_width": ""
          }
        },
        "45177bd8ae0f40ffb1e4831451aa7f9d": {
          "model_module": "@jupyter-widgets/base",
          "model_name": "LayoutModel",
          "model_module_version": "1.2.0",
          "state": {
            "_model_module": "@jupyter-widgets/base",
            "_model_module_version": "1.2.0",
            "_model_name": "LayoutModel",
            "_view_count": null,
            "_view_module": "@jupyter-widgets/base",
            "_view_module_version": "1.2.0",
            "_view_name": "LayoutView",
            "align_content": null,
            "align_items": null,
            "align_self": null,
            "border": null,
            "bottom": null,
            "display": null,
            "flex": null,
            "flex_flow": null,
            "grid_area": null,
            "grid_auto_columns": null,
            "grid_auto_flow": null,
            "grid_auto_rows": null,
            "grid_column": null,
            "grid_gap": null,
            "grid_row": null,
            "grid_template_areas": null,
            "grid_template_columns": null,
            "grid_template_rows": null,
            "height": null,
            "justify_content": null,
            "justify_items": null,
            "left": null,
            "margin": null,
            "max_height": null,
            "max_width": null,
            "min_height": null,
            "min_width": null,
            "object_fit": null,
            "object_position": null,
            "order": null,
            "overflow": null,
            "overflow_x": null,
            "overflow_y": null,
            "padding": null,
            "right": null,
            "top": null,
            "visibility": null,
            "width": null
          }
        },
        "936fae0bea584a908f18faad863e4fb3": {
          "model_module": "@jupyter-widgets/controls",
          "model_name": "DescriptionStyleModel",
          "model_module_version": "1.5.0",
          "state": {
            "_model_module": "@jupyter-widgets/controls",
            "_model_module_version": "1.5.0",
            "_model_name": "DescriptionStyleModel",
            "_view_count": null,
            "_view_module": "@jupyter-widgets/base",
            "_view_module_version": "1.2.0",
            "_view_name": "StyleView",
            "description_width": ""
          }
        },
        "cc7986715c84494bb544a68ab2d6d19e": {
          "model_module": "@jupyter-widgets/controls",
          "model_name": "HBoxModel",
          "model_module_version": "1.5.0",
          "state": {
            "_dom_classes": [],
            "_model_module": "@jupyter-widgets/controls",
            "_model_module_version": "1.5.0",
            "_model_name": "HBoxModel",
            "_view_count": null,
            "_view_module": "@jupyter-widgets/controls",
            "_view_module_version": "1.5.0",
            "_view_name": "HBoxView",
            "box_style": "",
            "children": [
              "IPY_MODEL_dc715588125b461daf47bf190f6068f8",
              "IPY_MODEL_861d923f747744e698f26912e34bedd9",
              "IPY_MODEL_7c22e1ed0ba14abfa0dff041e37030bb"
            ],
            "layout": "IPY_MODEL_c78e5a6c2a284213bc00870397094994"
          }
        },
        "dc715588125b461daf47bf190f6068f8": {
          "model_module": "@jupyter-widgets/controls",
          "model_name": "HTMLModel",
          "model_module_version": "1.5.0",
          "state": {
            "_dom_classes": [],
            "_model_module": "@jupyter-widgets/controls",
            "_model_module_version": "1.5.0",
            "_model_name": "HTMLModel",
            "_view_count": null,
            "_view_module": "@jupyter-widgets/controls",
            "_view_module_version": "1.5.0",
            "_view_name": "HTMLView",
            "description": "",
            "description_tooltip": null,
            "layout": "IPY_MODEL_5074e7a41db04f18badc3623fa62b69a",
            "placeholder": "​",
            "style": "IPY_MODEL_c2ab28dadda2449ca4530cb4affef527",
            "value": "config.json: 100%"
          }
        },
        "861d923f747744e698f26912e34bedd9": {
          "model_module": "@jupyter-widgets/controls",
          "model_name": "FloatProgressModel",
          "model_module_version": "1.5.0",
          "state": {
            "_dom_classes": [],
            "_model_module": "@jupyter-widgets/controls",
            "_model_module_version": "1.5.0",
            "_model_name": "FloatProgressModel",
            "_view_count": null,
            "_view_module": "@jupyter-widgets/controls",
            "_view_module_version": "1.5.0",
            "_view_name": "ProgressView",
            "bar_style": "success",
            "description": "",
            "description_tooltip": null,
            "layout": "IPY_MODEL_d63e1a693e534fcd8c5828bb7b0d03ab",
            "max": 570,
            "min": 0,
            "orientation": "horizontal",
            "style": "IPY_MODEL_8e02a80701344c74b1a72b0f1c524d4f",
            "value": 570
          }
        },
        "7c22e1ed0ba14abfa0dff041e37030bb": {
          "model_module": "@jupyter-widgets/controls",
          "model_name": "HTMLModel",
          "model_module_version": "1.5.0",
          "state": {
            "_dom_classes": [],
            "_model_module": "@jupyter-widgets/controls",
            "_model_module_version": "1.5.0",
            "_model_name": "HTMLModel",
            "_view_count": null,
            "_view_module": "@jupyter-widgets/controls",
            "_view_module_version": "1.5.0",
            "_view_name": "HTMLView",
            "description": "",
            "description_tooltip": null,
            "layout": "IPY_MODEL_7d79a1fe8d654d36ad23839e8fdb5b89",
            "placeholder": "​",
            "style": "IPY_MODEL_f8e0a03d8dac4c0fa576e93ec90e9e5c",
            "value": " 570/570 [00:00&lt;00:00, 19.1kB/s]"
          }
        },
        "c78e5a6c2a284213bc00870397094994": {
          "model_module": "@jupyter-widgets/base",
          "model_name": "LayoutModel",
          "model_module_version": "1.2.0",
          "state": {
            "_model_module": "@jupyter-widgets/base",
            "_model_module_version": "1.2.0",
            "_model_name": "LayoutModel",
            "_view_count": null,
            "_view_module": "@jupyter-widgets/base",
            "_view_module_version": "1.2.0",
            "_view_name": "LayoutView",
            "align_content": null,
            "align_items": null,
            "align_self": null,
            "border": null,
            "bottom": null,
            "display": null,
            "flex": null,
            "flex_flow": null,
            "grid_area": null,
            "grid_auto_columns": null,
            "grid_auto_flow": null,
            "grid_auto_rows": null,
            "grid_column": null,
            "grid_gap": null,
            "grid_row": null,
            "grid_template_areas": null,
            "grid_template_columns": null,
            "grid_template_rows": null,
            "height": null,
            "justify_content": null,
            "justify_items": null,
            "left": null,
            "margin": null,
            "max_height": null,
            "max_width": null,
            "min_height": null,
            "min_width": null,
            "object_fit": null,
            "object_position": null,
            "order": null,
            "overflow": null,
            "overflow_x": null,
            "overflow_y": null,
            "padding": null,
            "right": null,
            "top": null,
            "visibility": null,
            "width": null
          }
        },
        "5074e7a41db04f18badc3623fa62b69a": {
          "model_module": "@jupyter-widgets/base",
          "model_name": "LayoutModel",
          "model_module_version": "1.2.0",
          "state": {
            "_model_module": "@jupyter-widgets/base",
            "_model_module_version": "1.2.0",
            "_model_name": "LayoutModel",
            "_view_count": null,
            "_view_module": "@jupyter-widgets/base",
            "_view_module_version": "1.2.0",
            "_view_name": "LayoutView",
            "align_content": null,
            "align_items": null,
            "align_self": null,
            "border": null,
            "bottom": null,
            "display": null,
            "flex": null,
            "flex_flow": null,
            "grid_area": null,
            "grid_auto_columns": null,
            "grid_auto_flow": null,
            "grid_auto_rows": null,
            "grid_column": null,
            "grid_gap": null,
            "grid_row": null,
            "grid_template_areas": null,
            "grid_template_columns": null,
            "grid_template_rows": null,
            "height": null,
            "justify_content": null,
            "justify_items": null,
            "left": null,
            "margin": null,
            "max_height": null,
            "max_width": null,
            "min_height": null,
            "min_width": null,
            "object_fit": null,
            "object_position": null,
            "order": null,
            "overflow": null,
            "overflow_x": null,
            "overflow_y": null,
            "padding": null,
            "right": null,
            "top": null,
            "visibility": null,
            "width": null
          }
        },
        "c2ab28dadda2449ca4530cb4affef527": {
          "model_module": "@jupyter-widgets/controls",
          "model_name": "DescriptionStyleModel",
          "model_module_version": "1.5.0",
          "state": {
            "_model_module": "@jupyter-widgets/controls",
            "_model_module_version": "1.5.0",
            "_model_name": "DescriptionStyleModel",
            "_view_count": null,
            "_view_module": "@jupyter-widgets/base",
            "_view_module_version": "1.2.0",
            "_view_name": "StyleView",
            "description_width": ""
          }
        },
        "d63e1a693e534fcd8c5828bb7b0d03ab": {
          "model_module": "@jupyter-widgets/base",
          "model_name": "LayoutModel",
          "model_module_version": "1.2.0",
          "state": {
            "_model_module": "@jupyter-widgets/base",
            "_model_module_version": "1.2.0",
            "_model_name": "LayoutModel",
            "_view_count": null,
            "_view_module": "@jupyter-widgets/base",
            "_view_module_version": "1.2.0",
            "_view_name": "LayoutView",
            "align_content": null,
            "align_items": null,
            "align_self": null,
            "border": null,
            "bottom": null,
            "display": null,
            "flex": null,
            "flex_flow": null,
            "grid_area": null,
            "grid_auto_columns": null,
            "grid_auto_flow": null,
            "grid_auto_rows": null,
            "grid_column": null,
            "grid_gap": null,
            "grid_row": null,
            "grid_template_areas": null,
            "grid_template_columns": null,
            "grid_template_rows": null,
            "height": null,
            "justify_content": null,
            "justify_items": null,
            "left": null,
            "margin": null,
            "max_height": null,
            "max_width": null,
            "min_height": null,
            "min_width": null,
            "object_fit": null,
            "object_position": null,
            "order": null,
            "overflow": null,
            "overflow_x": null,
            "overflow_y": null,
            "padding": null,
            "right": null,
            "top": null,
            "visibility": null,
            "width": null
          }
        },
        "8e02a80701344c74b1a72b0f1c524d4f": {
          "model_module": "@jupyter-widgets/controls",
          "model_name": "ProgressStyleModel",
          "model_module_version": "1.5.0",
          "state": {
            "_model_module": "@jupyter-widgets/controls",
            "_model_module_version": "1.5.0",
            "_model_name": "ProgressStyleModel",
            "_view_count": null,
            "_view_module": "@jupyter-widgets/base",
            "_view_module_version": "1.2.0",
            "_view_name": "StyleView",
            "bar_color": null,
            "description_width": ""
          }
        },
        "7d79a1fe8d654d36ad23839e8fdb5b89": {
          "model_module": "@jupyter-widgets/base",
          "model_name": "LayoutModel",
          "model_module_version": "1.2.0",
          "state": {
            "_model_module": "@jupyter-widgets/base",
            "_model_module_version": "1.2.0",
            "_model_name": "LayoutModel",
            "_view_count": null,
            "_view_module": "@jupyter-widgets/base",
            "_view_module_version": "1.2.0",
            "_view_name": "LayoutView",
            "align_content": null,
            "align_items": null,
            "align_self": null,
            "border": null,
            "bottom": null,
            "display": null,
            "flex": null,
            "flex_flow": null,
            "grid_area": null,
            "grid_auto_columns": null,
            "grid_auto_flow": null,
            "grid_auto_rows": null,
            "grid_column": null,
            "grid_gap": null,
            "grid_row": null,
            "grid_template_areas": null,
            "grid_template_columns": null,
            "grid_template_rows": null,
            "height": null,
            "justify_content": null,
            "justify_items": null,
            "left": null,
            "margin": null,
            "max_height": null,
            "max_width": null,
            "min_height": null,
            "min_width": null,
            "object_fit": null,
            "object_position": null,
            "order": null,
            "overflow": null,
            "overflow_x": null,
            "overflow_y": null,
            "padding": null,
            "right": null,
            "top": null,
            "visibility": null,
            "width": null
          }
        },
        "f8e0a03d8dac4c0fa576e93ec90e9e5c": {
          "model_module": "@jupyter-widgets/controls",
          "model_name": "DescriptionStyleModel",
          "model_module_version": "1.5.0",
          "state": {
            "_model_module": "@jupyter-widgets/controls",
            "_model_module_version": "1.5.0",
            "_model_name": "DescriptionStyleModel",
            "_view_count": null,
            "_view_module": "@jupyter-widgets/base",
            "_view_module_version": "1.2.0",
            "_view_name": "StyleView",
            "description_width": ""
          }
        },
        "8ecccfd813bf48d594f12369a103e72a": {
          "model_module": "@jupyter-widgets/controls",
          "model_name": "HBoxModel",
          "model_module_version": "1.5.0",
          "state": {
            "_dom_classes": [],
            "_model_module": "@jupyter-widgets/controls",
            "_model_module_version": "1.5.0",
            "_model_name": "HBoxModel",
            "_view_count": null,
            "_view_module": "@jupyter-widgets/controls",
            "_view_module_version": "1.5.0",
            "_view_name": "HBoxView",
            "box_style": "",
            "children": [
              "IPY_MODEL_8eab0dff1dd44f2e8c9267bec9999f87",
              "IPY_MODEL_f09ae7eabbcd4b27b5c1bc28858925cf",
              "IPY_MODEL_2f5f236906544f47b57e409279789070"
            ],
            "layout": "IPY_MODEL_22adebc168c343149e459f48676c170f"
          }
        },
        "8eab0dff1dd44f2e8c9267bec9999f87": {
          "model_module": "@jupyter-widgets/controls",
          "model_name": "HTMLModel",
          "model_module_version": "1.5.0",
          "state": {
            "_dom_classes": [],
            "_model_module": "@jupyter-widgets/controls",
            "_model_module_version": "1.5.0",
            "_model_name": "HTMLModel",
            "_view_count": null,
            "_view_module": "@jupyter-widgets/controls",
            "_view_module_version": "1.5.0",
            "_view_name": "HTMLView",
            "description": "",
            "description_tooltip": null,
            "layout": "IPY_MODEL_9408b4716267485b85d905008c69f450",
            "placeholder": "​",
            "style": "IPY_MODEL_0dbb4c44e5c34f58bcfde23e48340404",
            "value": "vocab.txt: 100%"
          }
        },
        "f09ae7eabbcd4b27b5c1bc28858925cf": {
          "model_module": "@jupyter-widgets/controls",
          "model_name": "FloatProgressModel",
          "model_module_version": "1.5.0",
          "state": {
            "_dom_classes": [],
            "_model_module": "@jupyter-widgets/controls",
            "_model_module_version": "1.5.0",
            "_model_name": "FloatProgressModel",
            "_view_count": null,
            "_view_module": "@jupyter-widgets/controls",
            "_view_module_version": "1.5.0",
            "_view_name": "ProgressView",
            "bar_style": "success",
            "description": "",
            "description_tooltip": null,
            "layout": "IPY_MODEL_cc1facbdad3848b3aabb8e883c5dd738",
            "max": 231508,
            "min": 0,
            "orientation": "horizontal",
            "style": "IPY_MODEL_08901061106a4959b9ac0bf651aaeb40",
            "value": 231508
          }
        },
        "2f5f236906544f47b57e409279789070": {
          "model_module": "@jupyter-widgets/controls",
          "model_name": "HTMLModel",
          "model_module_version": "1.5.0",
          "state": {
            "_dom_classes": [],
            "_model_module": "@jupyter-widgets/controls",
            "_model_module_version": "1.5.0",
            "_model_name": "HTMLModel",
            "_view_count": null,
            "_view_module": "@jupyter-widgets/controls",
            "_view_module_version": "1.5.0",
            "_view_name": "HTMLView",
            "description": "",
            "description_tooltip": null,
            "layout": "IPY_MODEL_b86df2e899ac415bb66731df40ea2072",
            "placeholder": "​",
            "style": "IPY_MODEL_87fc4c319e874613ab72003a4e8ec789",
            "value": " 232k/232k [00:00&lt;00:00, 6.00MB/s]"
          }
        },
        "22adebc168c343149e459f48676c170f": {
          "model_module": "@jupyter-widgets/base",
          "model_name": "LayoutModel",
          "model_module_version": "1.2.0",
          "state": {
            "_model_module": "@jupyter-widgets/base",
            "_model_module_version": "1.2.0",
            "_model_name": "LayoutModel",
            "_view_count": null,
            "_view_module": "@jupyter-widgets/base",
            "_view_module_version": "1.2.0",
            "_view_name": "LayoutView",
            "align_content": null,
            "align_items": null,
            "align_self": null,
            "border": null,
            "bottom": null,
            "display": null,
            "flex": null,
            "flex_flow": null,
            "grid_area": null,
            "grid_auto_columns": null,
            "grid_auto_flow": null,
            "grid_auto_rows": null,
            "grid_column": null,
            "grid_gap": null,
            "grid_row": null,
            "grid_template_areas": null,
            "grid_template_columns": null,
            "grid_template_rows": null,
            "height": null,
            "justify_content": null,
            "justify_items": null,
            "left": null,
            "margin": null,
            "max_height": null,
            "max_width": null,
            "min_height": null,
            "min_width": null,
            "object_fit": null,
            "object_position": null,
            "order": null,
            "overflow": null,
            "overflow_x": null,
            "overflow_y": null,
            "padding": null,
            "right": null,
            "top": null,
            "visibility": null,
            "width": null
          }
        },
        "9408b4716267485b85d905008c69f450": {
          "model_module": "@jupyter-widgets/base",
          "model_name": "LayoutModel",
          "model_module_version": "1.2.0",
          "state": {
            "_model_module": "@jupyter-widgets/base",
            "_model_module_version": "1.2.0",
            "_model_name": "LayoutModel",
            "_view_count": null,
            "_view_module": "@jupyter-widgets/base",
            "_view_module_version": "1.2.0",
            "_view_name": "LayoutView",
            "align_content": null,
            "align_items": null,
            "align_self": null,
            "border": null,
            "bottom": null,
            "display": null,
            "flex": null,
            "flex_flow": null,
            "grid_area": null,
            "grid_auto_columns": null,
            "grid_auto_flow": null,
            "grid_auto_rows": null,
            "grid_column": null,
            "grid_gap": null,
            "grid_row": null,
            "grid_template_areas": null,
            "grid_template_columns": null,
            "grid_template_rows": null,
            "height": null,
            "justify_content": null,
            "justify_items": null,
            "left": null,
            "margin": null,
            "max_height": null,
            "max_width": null,
            "min_height": null,
            "min_width": null,
            "object_fit": null,
            "object_position": null,
            "order": null,
            "overflow": null,
            "overflow_x": null,
            "overflow_y": null,
            "padding": null,
            "right": null,
            "top": null,
            "visibility": null,
            "width": null
          }
        },
        "0dbb4c44e5c34f58bcfde23e48340404": {
          "model_module": "@jupyter-widgets/controls",
          "model_name": "DescriptionStyleModel",
          "model_module_version": "1.5.0",
          "state": {
            "_model_module": "@jupyter-widgets/controls",
            "_model_module_version": "1.5.0",
            "_model_name": "DescriptionStyleModel",
            "_view_count": null,
            "_view_module": "@jupyter-widgets/base",
            "_view_module_version": "1.2.0",
            "_view_name": "StyleView",
            "description_width": ""
          }
        },
        "cc1facbdad3848b3aabb8e883c5dd738": {
          "model_module": "@jupyter-widgets/base",
          "model_name": "LayoutModel",
          "model_module_version": "1.2.0",
          "state": {
            "_model_module": "@jupyter-widgets/base",
            "_model_module_version": "1.2.0",
            "_model_name": "LayoutModel",
            "_view_count": null,
            "_view_module": "@jupyter-widgets/base",
            "_view_module_version": "1.2.0",
            "_view_name": "LayoutView",
            "align_content": null,
            "align_items": null,
            "align_self": null,
            "border": null,
            "bottom": null,
            "display": null,
            "flex": null,
            "flex_flow": null,
            "grid_area": null,
            "grid_auto_columns": null,
            "grid_auto_flow": null,
            "grid_auto_rows": null,
            "grid_column": null,
            "grid_gap": null,
            "grid_row": null,
            "grid_template_areas": null,
            "grid_template_columns": null,
            "grid_template_rows": null,
            "height": null,
            "justify_content": null,
            "justify_items": null,
            "left": null,
            "margin": null,
            "max_height": null,
            "max_width": null,
            "min_height": null,
            "min_width": null,
            "object_fit": null,
            "object_position": null,
            "order": null,
            "overflow": null,
            "overflow_x": null,
            "overflow_y": null,
            "padding": null,
            "right": null,
            "top": null,
            "visibility": null,
            "width": null
          }
        },
        "08901061106a4959b9ac0bf651aaeb40": {
          "model_module": "@jupyter-widgets/controls",
          "model_name": "ProgressStyleModel",
          "model_module_version": "1.5.0",
          "state": {
            "_model_module": "@jupyter-widgets/controls",
            "_model_module_version": "1.5.0",
            "_model_name": "ProgressStyleModel",
            "_view_count": null,
            "_view_module": "@jupyter-widgets/base",
            "_view_module_version": "1.2.0",
            "_view_name": "StyleView",
            "bar_color": null,
            "description_width": ""
          }
        },
        "b86df2e899ac415bb66731df40ea2072": {
          "model_module": "@jupyter-widgets/base",
          "model_name": "LayoutModel",
          "model_module_version": "1.2.0",
          "state": {
            "_model_module": "@jupyter-widgets/base",
            "_model_module_version": "1.2.0",
            "_model_name": "LayoutModel",
            "_view_count": null,
            "_view_module": "@jupyter-widgets/base",
            "_view_module_version": "1.2.0",
            "_view_name": "LayoutView",
            "align_content": null,
            "align_items": null,
            "align_self": null,
            "border": null,
            "bottom": null,
            "display": null,
            "flex": null,
            "flex_flow": null,
            "grid_area": null,
            "grid_auto_columns": null,
            "grid_auto_flow": null,
            "grid_auto_rows": null,
            "grid_column": null,
            "grid_gap": null,
            "grid_row": null,
            "grid_template_areas": null,
            "grid_template_columns": null,
            "grid_template_rows": null,
            "height": null,
            "justify_content": null,
            "justify_items": null,
            "left": null,
            "margin": null,
            "max_height": null,
            "max_width": null,
            "min_height": null,
            "min_width": null,
            "object_fit": null,
            "object_position": null,
            "order": null,
            "overflow": null,
            "overflow_x": null,
            "overflow_y": null,
            "padding": null,
            "right": null,
            "top": null,
            "visibility": null,
            "width": null
          }
        },
        "87fc4c319e874613ab72003a4e8ec789": {
          "model_module": "@jupyter-widgets/controls",
          "model_name": "DescriptionStyleModel",
          "model_module_version": "1.5.0",
          "state": {
            "_model_module": "@jupyter-widgets/controls",
            "_model_module_version": "1.5.0",
            "_model_name": "DescriptionStyleModel",
            "_view_count": null,
            "_view_module": "@jupyter-widgets/base",
            "_view_module_version": "1.2.0",
            "_view_name": "StyleView",
            "description_width": ""
          }
        },
        "0421833887ec467ea1cf1478998a9815": {
          "model_module": "@jupyter-widgets/controls",
          "model_name": "HBoxModel",
          "model_module_version": "1.5.0",
          "state": {
            "_dom_classes": [],
            "_model_module": "@jupyter-widgets/controls",
            "_model_module_version": "1.5.0",
            "_model_name": "HBoxModel",
            "_view_count": null,
            "_view_module": "@jupyter-widgets/controls",
            "_view_module_version": "1.5.0",
            "_view_name": "HBoxView",
            "box_style": "",
            "children": [
              "IPY_MODEL_f71fe2a87e124d97b419c8cc3ede7ade",
              "IPY_MODEL_e84a11f28b6d4cbeb67ca980b5ce81f5",
              "IPY_MODEL_58085dc2c2224d0aa866f5c8b7c81466"
            ],
            "layout": "IPY_MODEL_30e32b1c3fae4d06b3a027631ebf09a0"
          }
        },
        "f71fe2a87e124d97b419c8cc3ede7ade": {
          "model_module": "@jupyter-widgets/controls",
          "model_name": "HTMLModel",
          "model_module_version": "1.5.0",
          "state": {
            "_dom_classes": [],
            "_model_module": "@jupyter-widgets/controls",
            "_model_module_version": "1.5.0",
            "_model_name": "HTMLModel",
            "_view_count": null,
            "_view_module": "@jupyter-widgets/controls",
            "_view_module_version": "1.5.0",
            "_view_name": "HTMLView",
            "description": "",
            "description_tooltip": null,
            "layout": "IPY_MODEL_55d4465e896b4bcdaf53502671ffc474",
            "placeholder": "​",
            "style": "IPY_MODEL_674dc94247e543088d22283a57768904",
            "value": "tokenizer.json: 100%"
          }
        },
        "e84a11f28b6d4cbeb67ca980b5ce81f5": {
          "model_module": "@jupyter-widgets/controls",
          "model_name": "FloatProgressModel",
          "model_module_version": "1.5.0",
          "state": {
            "_dom_classes": [],
            "_model_module": "@jupyter-widgets/controls",
            "_model_module_version": "1.5.0",
            "_model_name": "FloatProgressModel",
            "_view_count": null,
            "_view_module": "@jupyter-widgets/controls",
            "_view_module_version": "1.5.0",
            "_view_name": "ProgressView",
            "bar_style": "success",
            "description": "",
            "description_tooltip": null,
            "layout": "IPY_MODEL_dc0e1441f11745a18e115711f45b348d",
            "max": 466062,
            "min": 0,
            "orientation": "horizontal",
            "style": "IPY_MODEL_673d8cbf568c46d3bea1edb5a5b4cffb",
            "value": 466062
          }
        },
        "58085dc2c2224d0aa866f5c8b7c81466": {
          "model_module": "@jupyter-widgets/controls",
          "model_name": "HTMLModel",
          "model_module_version": "1.5.0",
          "state": {
            "_dom_classes": [],
            "_model_module": "@jupyter-widgets/controls",
            "_model_module_version": "1.5.0",
            "_model_name": "HTMLModel",
            "_view_count": null,
            "_view_module": "@jupyter-widgets/controls",
            "_view_module_version": "1.5.0",
            "_view_name": "HTMLView",
            "description": "",
            "description_tooltip": null,
            "layout": "IPY_MODEL_361bd88945fc45ecbfa627b30171f4ba",
            "placeholder": "​",
            "style": "IPY_MODEL_19a4c18bd7ca4c9ba383a47f08de8add",
            "value": " 466k/466k [00:00&lt;00:00, 2.41MB/s]"
          }
        },
        "30e32b1c3fae4d06b3a027631ebf09a0": {
          "model_module": "@jupyter-widgets/base",
          "model_name": "LayoutModel",
          "model_module_version": "1.2.0",
          "state": {
            "_model_module": "@jupyter-widgets/base",
            "_model_module_version": "1.2.0",
            "_model_name": "LayoutModel",
            "_view_count": null,
            "_view_module": "@jupyter-widgets/base",
            "_view_module_version": "1.2.0",
            "_view_name": "LayoutView",
            "align_content": null,
            "align_items": null,
            "align_self": null,
            "border": null,
            "bottom": null,
            "display": null,
            "flex": null,
            "flex_flow": null,
            "grid_area": null,
            "grid_auto_columns": null,
            "grid_auto_flow": null,
            "grid_auto_rows": null,
            "grid_column": null,
            "grid_gap": null,
            "grid_row": null,
            "grid_template_areas": null,
            "grid_template_columns": null,
            "grid_template_rows": null,
            "height": null,
            "justify_content": null,
            "justify_items": null,
            "left": null,
            "margin": null,
            "max_height": null,
            "max_width": null,
            "min_height": null,
            "min_width": null,
            "object_fit": null,
            "object_position": null,
            "order": null,
            "overflow": null,
            "overflow_x": null,
            "overflow_y": null,
            "padding": null,
            "right": null,
            "top": null,
            "visibility": null,
            "width": null
          }
        },
        "55d4465e896b4bcdaf53502671ffc474": {
          "model_module": "@jupyter-widgets/base",
          "model_name": "LayoutModel",
          "model_module_version": "1.2.0",
          "state": {
            "_model_module": "@jupyter-widgets/base",
            "_model_module_version": "1.2.0",
            "_model_name": "LayoutModel",
            "_view_count": null,
            "_view_module": "@jupyter-widgets/base",
            "_view_module_version": "1.2.0",
            "_view_name": "LayoutView",
            "align_content": null,
            "align_items": null,
            "align_self": null,
            "border": null,
            "bottom": null,
            "display": null,
            "flex": null,
            "flex_flow": null,
            "grid_area": null,
            "grid_auto_columns": null,
            "grid_auto_flow": null,
            "grid_auto_rows": null,
            "grid_column": null,
            "grid_gap": null,
            "grid_row": null,
            "grid_template_areas": null,
            "grid_template_columns": null,
            "grid_template_rows": null,
            "height": null,
            "justify_content": null,
            "justify_items": null,
            "left": null,
            "margin": null,
            "max_height": null,
            "max_width": null,
            "min_height": null,
            "min_width": null,
            "object_fit": null,
            "object_position": null,
            "order": null,
            "overflow": null,
            "overflow_x": null,
            "overflow_y": null,
            "padding": null,
            "right": null,
            "top": null,
            "visibility": null,
            "width": null
          }
        },
        "674dc94247e543088d22283a57768904": {
          "model_module": "@jupyter-widgets/controls",
          "model_name": "DescriptionStyleModel",
          "model_module_version": "1.5.0",
          "state": {
            "_model_module": "@jupyter-widgets/controls",
            "_model_module_version": "1.5.0",
            "_model_name": "DescriptionStyleModel",
            "_view_count": null,
            "_view_module": "@jupyter-widgets/base",
            "_view_module_version": "1.2.0",
            "_view_name": "StyleView",
            "description_width": ""
          }
        },
        "dc0e1441f11745a18e115711f45b348d": {
          "model_module": "@jupyter-widgets/base",
          "model_name": "LayoutModel",
          "model_module_version": "1.2.0",
          "state": {
            "_model_module": "@jupyter-widgets/base",
            "_model_module_version": "1.2.0",
            "_model_name": "LayoutModel",
            "_view_count": null,
            "_view_module": "@jupyter-widgets/base",
            "_view_module_version": "1.2.0",
            "_view_name": "LayoutView",
            "align_content": null,
            "align_items": null,
            "align_self": null,
            "border": null,
            "bottom": null,
            "display": null,
            "flex": null,
            "flex_flow": null,
            "grid_area": null,
            "grid_auto_columns": null,
            "grid_auto_flow": null,
            "grid_auto_rows": null,
            "grid_column": null,
            "grid_gap": null,
            "grid_row": null,
            "grid_template_areas": null,
            "grid_template_columns": null,
            "grid_template_rows": null,
            "height": null,
            "justify_content": null,
            "justify_items": null,
            "left": null,
            "margin": null,
            "max_height": null,
            "max_width": null,
            "min_height": null,
            "min_width": null,
            "object_fit": null,
            "object_position": null,
            "order": null,
            "overflow": null,
            "overflow_x": null,
            "overflow_y": null,
            "padding": null,
            "right": null,
            "top": null,
            "visibility": null,
            "width": null
          }
        },
        "673d8cbf568c46d3bea1edb5a5b4cffb": {
          "model_module": "@jupyter-widgets/controls",
          "model_name": "ProgressStyleModel",
          "model_module_version": "1.5.0",
          "state": {
            "_model_module": "@jupyter-widgets/controls",
            "_model_module_version": "1.5.0",
            "_model_name": "ProgressStyleModel",
            "_view_count": null,
            "_view_module": "@jupyter-widgets/base",
            "_view_module_version": "1.2.0",
            "_view_name": "StyleView",
            "bar_color": null,
            "description_width": ""
          }
        },
        "361bd88945fc45ecbfa627b30171f4ba": {
          "model_module": "@jupyter-widgets/base",
          "model_name": "LayoutModel",
          "model_module_version": "1.2.0",
          "state": {
            "_model_module": "@jupyter-widgets/base",
            "_model_module_version": "1.2.0",
            "_model_name": "LayoutModel",
            "_view_count": null,
            "_view_module": "@jupyter-widgets/base",
            "_view_module_version": "1.2.0",
            "_view_name": "LayoutView",
            "align_content": null,
            "align_items": null,
            "align_self": null,
            "border": null,
            "bottom": null,
            "display": null,
            "flex": null,
            "flex_flow": null,
            "grid_area": null,
            "grid_auto_columns": null,
            "grid_auto_flow": null,
            "grid_auto_rows": null,
            "grid_column": null,
            "grid_gap": null,
            "grid_row": null,
            "grid_template_areas": null,
            "grid_template_columns": null,
            "grid_template_rows": null,
            "height": null,
            "justify_content": null,
            "justify_items": null,
            "left": null,
            "margin": null,
            "max_height": null,
            "max_width": null,
            "min_height": null,
            "min_width": null,
            "object_fit": null,
            "object_position": null,
            "order": null,
            "overflow": null,
            "overflow_x": null,
            "overflow_y": null,
            "padding": null,
            "right": null,
            "top": null,
            "visibility": null,
            "width": null
          }
        },
        "19a4c18bd7ca4c9ba383a47f08de8add": {
          "model_module": "@jupyter-widgets/controls",
          "model_name": "DescriptionStyleModel",
          "model_module_version": "1.5.0",
          "state": {
            "_model_module": "@jupyter-widgets/controls",
            "_model_module_version": "1.5.0",
            "_model_name": "DescriptionStyleModel",
            "_view_count": null,
            "_view_module": "@jupyter-widgets/base",
            "_view_module_version": "1.2.0",
            "_view_name": "StyleView",
            "description_width": ""
          }
        },
        "18b803a3bb9e434faaeda4962e079ae3": {
          "model_module": "@jupyter-widgets/controls",
          "model_name": "HBoxModel",
          "model_module_version": "1.5.0",
          "state": {
            "_dom_classes": [],
            "_model_module": "@jupyter-widgets/controls",
            "_model_module_version": "1.5.0",
            "_model_name": "HBoxModel",
            "_view_count": null,
            "_view_module": "@jupyter-widgets/controls",
            "_view_module_version": "1.5.0",
            "_view_name": "HBoxView",
            "box_style": "",
            "children": [
              "IPY_MODEL_5e177f68259243dc85d0baacb19928a8",
              "IPY_MODEL_9bd68301371442ebb41a58eaa1c0bac4",
              "IPY_MODEL_23b497debc174bb2b693730c0975787a"
            ],
            "layout": "IPY_MODEL_e1e19137d4544a22b0068b5e657c48ec"
          }
        },
        "5e177f68259243dc85d0baacb19928a8": {
          "model_module": "@jupyter-widgets/controls",
          "model_name": "HTMLModel",
          "model_module_version": "1.5.0",
          "state": {
            "_dom_classes": [],
            "_model_module": "@jupyter-widgets/controls",
            "_model_module_version": "1.5.0",
            "_model_name": "HTMLModel",
            "_view_count": null,
            "_view_module": "@jupyter-widgets/controls",
            "_view_module_version": "1.5.0",
            "_view_name": "HTMLView",
            "description": "",
            "description_tooltip": null,
            "layout": "IPY_MODEL_4b7c4963fbd74a40b4e94513a58581d3",
            "placeholder": "​",
            "style": "IPY_MODEL_73009a87ce0b42c4bb652a4a891e5d83",
            "value": "config.json: 100%"
          }
        },
        "9bd68301371442ebb41a58eaa1c0bac4": {
          "model_module": "@jupyter-widgets/controls",
          "model_name": "FloatProgressModel",
          "model_module_version": "1.5.0",
          "state": {
            "_dom_classes": [],
            "_model_module": "@jupyter-widgets/controls",
            "_model_module_version": "1.5.0",
            "_model_name": "FloatProgressModel",
            "_view_count": null,
            "_view_module": "@jupyter-widgets/controls",
            "_view_module_version": "1.5.0",
            "_view_name": "ProgressView",
            "bar_style": "success",
            "description": "",
            "description_tooltip": null,
            "layout": "IPY_MODEL_40fb530c47fb4775a2f71d57dfcae780",
            "max": 152687,
            "min": 0,
            "orientation": "horizontal",
            "style": "IPY_MODEL_7d55640efbad427988d1af30db6e53dd",
            "value": 152687
          }
        },
        "23b497debc174bb2b693730c0975787a": {
          "model_module": "@jupyter-widgets/controls",
          "model_name": "HTMLModel",
          "model_module_version": "1.5.0",
          "state": {
            "_dom_classes": [],
            "_model_module": "@jupyter-widgets/controls",
            "_model_module_version": "1.5.0",
            "_model_name": "HTMLModel",
            "_view_count": null,
            "_view_module": "@jupyter-widgets/controls",
            "_view_module_version": "1.5.0",
            "_view_name": "HTMLView",
            "description": "",
            "description_tooltip": null,
            "layout": "IPY_MODEL_6d19d568aba540a89afdc50c9530bce7",
            "placeholder": "​",
            "style": "IPY_MODEL_1a7968f14cce4d7db44ab3b506ba8dac",
            "value": " 153k/153k [00:00&lt;00:00, 1.24MB/s]"
          }
        },
        "e1e19137d4544a22b0068b5e657c48ec": {
          "model_module": "@jupyter-widgets/base",
          "model_name": "LayoutModel",
          "model_module_version": "1.2.0",
          "state": {
            "_model_module": "@jupyter-widgets/base",
            "_model_module_version": "1.2.0",
            "_model_name": "LayoutModel",
            "_view_count": null,
            "_view_module": "@jupyter-widgets/base",
            "_view_module_version": "1.2.0",
            "_view_name": "LayoutView",
            "align_content": null,
            "align_items": null,
            "align_self": null,
            "border": null,
            "bottom": null,
            "display": null,
            "flex": null,
            "flex_flow": null,
            "grid_area": null,
            "grid_auto_columns": null,
            "grid_auto_flow": null,
            "grid_auto_rows": null,
            "grid_column": null,
            "grid_gap": null,
            "grid_row": null,
            "grid_template_areas": null,
            "grid_template_columns": null,
            "grid_template_rows": null,
            "height": null,
            "justify_content": null,
            "justify_items": null,
            "left": null,
            "margin": null,
            "max_height": null,
            "max_width": null,
            "min_height": null,
            "min_width": null,
            "object_fit": null,
            "object_position": null,
            "order": null,
            "overflow": null,
            "overflow_x": null,
            "overflow_y": null,
            "padding": null,
            "right": null,
            "top": null,
            "visibility": null,
            "width": null
          }
        },
        "4b7c4963fbd74a40b4e94513a58581d3": {
          "model_module": "@jupyter-widgets/base",
          "model_name": "LayoutModel",
          "model_module_version": "1.2.0",
          "state": {
            "_model_module": "@jupyter-widgets/base",
            "_model_module_version": "1.2.0",
            "_model_name": "LayoutModel",
            "_view_count": null,
            "_view_module": "@jupyter-widgets/base",
            "_view_module_version": "1.2.0",
            "_view_name": "LayoutView",
            "align_content": null,
            "align_items": null,
            "align_self": null,
            "border": null,
            "bottom": null,
            "display": null,
            "flex": null,
            "flex_flow": null,
            "grid_area": null,
            "grid_auto_columns": null,
            "grid_auto_flow": null,
            "grid_auto_rows": null,
            "grid_column": null,
            "grid_gap": null,
            "grid_row": null,
            "grid_template_areas": null,
            "grid_template_columns": null,
            "grid_template_rows": null,
            "height": null,
            "justify_content": null,
            "justify_items": null,
            "left": null,
            "margin": null,
            "max_height": null,
            "max_width": null,
            "min_height": null,
            "min_width": null,
            "object_fit": null,
            "object_position": null,
            "order": null,
            "overflow": null,
            "overflow_x": null,
            "overflow_y": null,
            "padding": null,
            "right": null,
            "top": null,
            "visibility": null,
            "width": null
          }
        },
        "73009a87ce0b42c4bb652a4a891e5d83": {
          "model_module": "@jupyter-widgets/controls",
          "model_name": "DescriptionStyleModel",
          "model_module_version": "1.5.0",
          "state": {
            "_model_module": "@jupyter-widgets/controls",
            "_model_module_version": "1.5.0",
            "_model_name": "DescriptionStyleModel",
            "_view_count": null,
            "_view_module": "@jupyter-widgets/base",
            "_view_module_version": "1.2.0",
            "_view_name": "StyleView",
            "description_width": ""
          }
        },
        "40fb530c47fb4775a2f71d57dfcae780": {
          "model_module": "@jupyter-widgets/base",
          "model_name": "LayoutModel",
          "model_module_version": "1.2.0",
          "state": {
            "_model_module": "@jupyter-widgets/base",
            "_model_module_version": "1.2.0",
            "_model_name": "LayoutModel",
            "_view_count": null,
            "_view_module": "@jupyter-widgets/base",
            "_view_module_version": "1.2.0",
            "_view_name": "LayoutView",
            "align_content": null,
            "align_items": null,
            "align_self": null,
            "border": null,
            "bottom": null,
            "display": null,
            "flex": null,
            "flex_flow": null,
            "grid_area": null,
            "grid_auto_columns": null,
            "grid_auto_flow": null,
            "grid_auto_rows": null,
            "grid_column": null,
            "grid_gap": null,
            "grid_row": null,
            "grid_template_areas": null,
            "grid_template_columns": null,
            "grid_template_rows": null,
            "height": null,
            "justify_content": null,
            "justify_items": null,
            "left": null,
            "margin": null,
            "max_height": null,
            "max_width": null,
            "min_height": null,
            "min_width": null,
            "object_fit": null,
            "object_position": null,
            "order": null,
            "overflow": null,
            "overflow_x": null,
            "overflow_y": null,
            "padding": null,
            "right": null,
            "top": null,
            "visibility": null,
            "width": null
          }
        },
        "7d55640efbad427988d1af30db6e53dd": {
          "model_module": "@jupyter-widgets/controls",
          "model_name": "ProgressStyleModel",
          "model_module_version": "1.5.0",
          "state": {
            "_model_module": "@jupyter-widgets/controls",
            "_model_module_version": "1.5.0",
            "_model_name": "ProgressStyleModel",
            "_view_count": null,
            "_view_module": "@jupyter-widgets/base",
            "_view_module_version": "1.2.0",
            "_view_name": "StyleView",
            "bar_color": null,
            "description_width": ""
          }
        },
        "6d19d568aba540a89afdc50c9530bce7": {
          "model_module": "@jupyter-widgets/base",
          "model_name": "LayoutModel",
          "model_module_version": "1.2.0",
          "state": {
            "_model_module": "@jupyter-widgets/base",
            "_model_module_version": "1.2.0",
            "_model_name": "LayoutModel",
            "_view_count": null,
            "_view_module": "@jupyter-widgets/base",
            "_view_module_version": "1.2.0",
            "_view_name": "LayoutView",
            "align_content": null,
            "align_items": null,
            "align_self": null,
            "border": null,
            "bottom": null,
            "display": null,
            "flex": null,
            "flex_flow": null,
            "grid_area": null,
            "grid_auto_columns": null,
            "grid_auto_flow": null,
            "grid_auto_rows": null,
            "grid_column": null,
            "grid_gap": null,
            "grid_row": null,
            "grid_template_areas": null,
            "grid_template_columns": null,
            "grid_template_rows": null,
            "height": null,
            "justify_content": null,
            "justify_items": null,
            "left": null,
            "margin": null,
            "max_height": null,
            "max_width": null,
            "min_height": null,
            "min_width": null,
            "object_fit": null,
            "object_position": null,
            "order": null,
            "overflow": null,
            "overflow_x": null,
            "overflow_y": null,
            "padding": null,
            "right": null,
            "top": null,
            "visibility": null,
            "width": null
          }
        },
        "1a7968f14cce4d7db44ab3b506ba8dac": {
          "model_module": "@jupyter-widgets/controls",
          "model_name": "DescriptionStyleModel",
          "model_module_version": "1.5.0",
          "state": {
            "_model_module": "@jupyter-widgets/controls",
            "_model_module_version": "1.5.0",
            "_model_name": "DescriptionStyleModel",
            "_view_count": null,
            "_view_module": "@jupyter-widgets/base",
            "_view_module_version": "1.2.0",
            "_view_name": "StyleView",
            "description_width": ""
          }
        }
      }
    }
  },
  "nbformat": 4,
  "nbformat_minor": 0
}