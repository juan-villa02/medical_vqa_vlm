{
  "cells": [
    {
      "cell_type": "markdown",
      "metadata": {
        "id": "view-in-github",
        "colab_type": "text"
      },
      "source": [
        "<a href=\"https://colab.research.google.com/github/juan-villa02/medical_vqa_vlm/blob/main/code/notebooks/train.ipynb\" target=\"_parent\"><img src=\"https://colab.research.google.com/assets/colab-badge.svg\" alt=\"Open In Colab\"/></a>"
      ]
    },
    {
      "cell_type": "markdown",
      "metadata": {
        "id": "9gIbSRmC_Q8o"
      },
      "source": [
        "# VQA Model - BERT + ResNet18"
      ]
    },
    {
      "cell_type": "markdown",
      "metadata": {
        "id": "nnubYJEE_g7f"
      },
      "source": [
        "## Libraries/Dependencies"
      ]
    },
    {
      "cell_type": "code",
      "execution_count": 1,
      "metadata": {
        "id": "JOxuYqd1_aMO"
      },
      "outputs": [],
      "source": [
        "# PyTorch framework\n",
        "import torch\n",
        "import torch.nn as nn\n",
        "import torch.nn.functional as F\n",
        "from torch.nn.utils.rnn import pad_sequence\n",
        "from torch.utils.data import DataLoader, Dataset\n",
        "import torchvision.transforms as transforms\n",
        "import torchvision.models as models\n",
        "import torchvision.utils as utils\n",
        "# Image handling\n",
        "from PIL import Image\n",
        "from skimage import transform\n",
        "# Transformers (Hugginface)\n",
        "from transformers import AutoTokenizer, BertForQuestionAnswering, VisualBertModel, VisualBertForQuestionAnswering, VisualBertConfig\n",
        "# Matplotlib\n",
        "import matplotlib.pyplot as plt\n",
        "# Numpy\n",
        "import numpy as np\n",
        "# Extra dependencies\n",
        "import json\n",
        "import os\n",
        "from tqdm import tqdm\n",
        "import zipfile"
      ]
    },
    {
      "cell_type": "code",
      "execution_count": 2,
      "metadata": {
        "colab": {
          "base_uri": "https://localhost:8080/"
        },
        "id": "d29Ogg0EBJgx",
        "outputId": "81c3f1bc-994a-447c-f441-d89a3a7bdc15"
      },
      "outputs": [
        {
          "output_type": "stream",
          "name": "stdout",
          "text": [
            "cuda:0\n"
          ]
        }
      ],
      "source": [
        "# Set training device to GPU if available\n",
        "device = torch.device(\"cuda:0\" if torch.cuda.is_available() else \"cpu\")\n",
        "print(device)"
      ]
    },
    {
      "cell_type": "markdown",
      "metadata": {
        "id": "-5MQ2XccBctw"
      },
      "source": [
        "## Paths & Data Extraction"
      ]
    },
    {
      "cell_type": "code",
      "execution_count": 3,
      "metadata": {
        "colab": {
          "base_uri": "https://localhost:8080/"
        },
        "id": "4bhmZStTCxv4",
        "outputId": "64a9044b-7450-4ab6-a8d9-b57583f83e9e"
      },
      "outputs": [
        {
          "output_type": "stream",
          "name": "stdout",
          "text": [
            "Mounted at /content/drive\n"
          ]
        }
      ],
      "source": [
        "from google.colab import drive\n",
        "drive.mount('/content/drive')"
      ]
    },
    {
      "cell_type": "code",
      "execution_count": 4,
      "metadata": {
        "id": "Lhz88OSQBaIZ"
      },
      "outputs": [],
      "source": [
        "path_dir = '.'\n",
        "path_dir = '/content/drive/MyDrive/TFG Juan Villanueva/databases_qa.zip'"
      ]
    },
    {
      "cell_type": "code",
      "execution_count": 5,
      "metadata": {
        "id": "MB-bgRNCoPqN"
      },
      "outputs": [],
      "source": [
        "# Data folder\n",
        "data_folder = './data/'"
      ]
    },
    {
      "cell_type": "code",
      "execution_count": 6,
      "metadata": {
        "id": "-Nuib-S0pXlU"
      },
      "outputs": [],
      "source": [
        "# ISIC_2016 database (images)\n",
        "train_ISIC_path = 'databases_qa/ISIC_2016/images/ISBI2016_ISIC_Part3_Training_Data_orig'\n",
        "test_ISIC_path = 'bases de datos/ISIC_2016/images/ISBI2016_ISIC_Part1_Test_Data_orig'"
      ]
    },
    {
      "cell_type": "code",
      "execution_count": 7,
      "metadata": {
        "id": "gMjnxi-_p38f"
      },
      "outputs": [],
      "source": [
        "# Pizarro database (images)\n",
        "pizarro_path = 'databases_qa/pizarro/images'"
      ]
    },
    {
      "cell_type": "code",
      "execution_count": 8,
      "metadata": {
        "id": "vcY75F9to4XA"
      },
      "outputs": [],
      "source": [
        "# Function to extract databases from the main zip file\n",
        "def extract_databases(zip_path, extract_path):\n",
        "    with zipfile.ZipFile(zip_path, 'r') as zip_ref:\n",
        "        zip_ref.extractall(extract_path)"
      ]
    },
    {
      "cell_type": "code",
      "execution_count": 9,
      "metadata": {
        "id": "XecsY9GIlCDx"
      },
      "outputs": [],
      "source": [
        "# Extract all databases from the main zip file\n",
        "if path_dir != '.':\n",
        "  extract_databases(path_dir, data_folder)"
      ]
    },
    {
      "cell_type": "code",
      "execution_count": 10,
      "metadata": {
        "id": "IenAqE-1rKgD"
      },
      "outputs": [],
      "source": [
        "# ISIC_2016 images\n",
        "database1_train_path = os.path.join(data_folder, train_ISIC_path)\n",
        "database1_test_path = os.path.join(data_folder, test_ISIC_path)"
      ]
    },
    {
      "cell_type": "code",
      "execution_count": 11,
      "metadata": {
        "id": "Bfi5boA0s727"
      },
      "outputs": [],
      "source": [
        "# Pizarro images\n",
        "# 500 imágenes; Las 46 primeras son más complejas, en cuanto a diagnóstico. (Entrega 1) El resto están más equilibradas (Entrega 2-5)\n",
        "database2_path = os.path.join(data_folder, pizarro_path)"
      ]
    },
    {
      "cell_type": "markdown",
      "metadata": {
        "id": "SedFsMzrAegB"
      },
      "source": [
        "## VQA Dataset - Images & QA"
      ]
    },
    {
      "cell_type": "code",
      "execution_count": 12,
      "metadata": {
        "id": "_AUIrbp_w4CS"
      },
      "outputs": [],
      "source": [
        "# Dataset class to load images and questions\n",
        "class VQADataset(Dataset):\n",
        "    def __init__(self, data_dir, json_file, tokenizer=None, transform=None):\n",
        "        self.data_dir = data_dir\n",
        "        self.transform = transform\n",
        "        self.tokenizer = tokenizer\n",
        "\n",
        "        with open(json_file, 'r') as f:\n",
        "            self.data = json.load(f)\n",
        "\n",
        "    def __len__(self):\n",
        "        return len(self.data)\n",
        "\n",
        "    def __getitem__(self, idx):\n",
        "        item = self.data[idx]\n",
        "        image_path = os.path.join(self.data_dir, item['image_id'])\n",
        "\n",
        "        # Ensure the image ID ends with \".jpg\"\n",
        "        if not image_path.endswith(\".jpg\"):\n",
        "            image_path += \".jpg\"\n",
        "\n",
        "        image = Image.open(image_path).convert('RGB')\n",
        "\n",
        "        if self.transform:\n",
        "            image = self.transform(image)\n",
        "\n",
        "        # Store questions and answers in two different arrays\n",
        "        qa_pairs = item['qa_pairs']\n",
        "        questions = [qa['question'] for qa in qa_pairs]\n",
        "        answers = [qa['answer'] for qa in qa_pairs]\n",
        "\n",
        "        return image, questions, answers"
      ]
    },
    {
      "cell_type": "code",
      "execution_count": 13,
      "metadata": {
        "id": "eV9ivOizwN-r"
      },
      "outputs": [],
      "source": [
        "pizarroDataset = VQADataset(database2_path,'/content/data/databases_qa/pizarro/qa_pizarro.json')"
      ]
    },
    {
      "cell_type": "code",
      "execution_count": null,
      "metadata": {
        "id": "7b45i5PCxoA5"
      },
      "outputs": [],
      "source": [
        "#pizarroDataset[10]"
      ]
    },
    {
      "cell_type": "markdown",
      "metadata": {
        "id": "---H6oXn4860"
      },
      "source": [
        "## Load pre-trained ResNet18"
      ]
    },
    {
      "cell_type": "code",
      "execution_count": 15,
      "metadata": {
        "id": "cXzT4ZfT5BTU"
      },
      "outputs": [],
      "source": [
        "# Load ResNet-18 model from .pth file\n",
        "def load_resnet(path, optimizer=None, scheduler=None):\n",
        "    resnet = models.resnet18()\n",
        "    # Remove final fully connected layer (we do not want the model to return labels but features)\n",
        "    resnet.fc = nn.Identity()\n",
        "\n",
        "    # Load the weights\n",
        "    state_dict = torch.load(path, map_location=device)['state_dict']\n",
        "\n",
        "    # Remove unexpected keys if they exist\n",
        "    unexpected_keys = ['fc.weight', 'fc.bias']\n",
        "    for key in unexpected_keys:\n",
        "        if key in state_dict:\n",
        "            del state_dict[key]\n",
        "\n",
        "    # Load the weights\n",
        "    resnet.load_state_dict(state_dict)\n",
        "    resnet.eval()\n",
        "\n",
        "    if optimizer is not None:\n",
        "        optimizer.load_state_dict(torch.load(path)['optimizer'])\n",
        "    if scheduler is not None:\n",
        "        scheduler.load_state_dict(torch.load(path)['scheduler'])\n",
        "\n",
        "    resnet.to(device)\n",
        "\n",
        "    return resnet, optimizer, scheduler"
      ]
    },
    {
      "cell_type": "code",
      "execution_count": 16,
      "metadata": {
        "id": "5rGRJcyj5LKz"
      },
      "outputs": [],
      "source": [
        "model_source_path = '/content/drive/MyDrive/TFG Juan Villanueva/codigo diagnostico/bestdiagNet.pth'"
      ]
    },
    {
      "cell_type": "code",
      "execution_count": 17,
      "metadata": {
        "id": "hm9XDY285UOB"
      },
      "outputs": [],
      "source": [
        "resnet, optimizer, scheduler = load_resnet(model_source_path)"
      ]
    },
    {
      "cell_type": "code",
      "execution_count": 18,
      "metadata": {
        "colab": {
          "base_uri": "https://localhost:8080/"
        },
        "id": "yCtvmxrn9m2u",
        "outputId": "f9194cee-66a3-4382-94ad-28ddb577fc3b"
      },
      "outputs": [
        {
          "output_type": "execute_result",
          "data": {
            "text/plain": [
              "ResNet(\n",
              "  (conv1): Conv2d(3, 64, kernel_size=(7, 7), stride=(2, 2), padding=(3, 3), bias=False)\n",
              "  (bn1): BatchNorm2d(64, eps=1e-05, momentum=0.1, affine=True, track_running_stats=True)\n",
              "  (relu): ReLU(inplace=True)\n",
              "  (maxpool): MaxPool2d(kernel_size=3, stride=2, padding=1, dilation=1, ceil_mode=False)\n",
              "  (layer1): Sequential(\n",
              "    (0): BasicBlock(\n",
              "      (conv1): Conv2d(64, 64, kernel_size=(3, 3), stride=(1, 1), padding=(1, 1), bias=False)\n",
              "      (bn1): BatchNorm2d(64, eps=1e-05, momentum=0.1, affine=True, track_running_stats=True)\n",
              "      (relu): ReLU(inplace=True)\n",
              "      (conv2): Conv2d(64, 64, kernel_size=(3, 3), stride=(1, 1), padding=(1, 1), bias=False)\n",
              "      (bn2): BatchNorm2d(64, eps=1e-05, momentum=0.1, affine=True, track_running_stats=True)\n",
              "    )\n",
              "    (1): BasicBlock(\n",
              "      (conv1): Conv2d(64, 64, kernel_size=(3, 3), stride=(1, 1), padding=(1, 1), bias=False)\n",
              "      (bn1): BatchNorm2d(64, eps=1e-05, momentum=0.1, affine=True, track_running_stats=True)\n",
              "      (relu): ReLU(inplace=True)\n",
              "      (conv2): Conv2d(64, 64, kernel_size=(3, 3), stride=(1, 1), padding=(1, 1), bias=False)\n",
              "      (bn2): BatchNorm2d(64, eps=1e-05, momentum=0.1, affine=True, track_running_stats=True)\n",
              "    )\n",
              "  )\n",
              "  (layer2): Sequential(\n",
              "    (0): BasicBlock(\n",
              "      (conv1): Conv2d(64, 128, kernel_size=(3, 3), stride=(2, 2), padding=(1, 1), bias=False)\n",
              "      (bn1): BatchNorm2d(128, eps=1e-05, momentum=0.1, affine=True, track_running_stats=True)\n",
              "      (relu): ReLU(inplace=True)\n",
              "      (conv2): Conv2d(128, 128, kernel_size=(3, 3), stride=(1, 1), padding=(1, 1), bias=False)\n",
              "      (bn2): BatchNorm2d(128, eps=1e-05, momentum=0.1, affine=True, track_running_stats=True)\n",
              "      (downsample): Sequential(\n",
              "        (0): Conv2d(64, 128, kernel_size=(1, 1), stride=(2, 2), bias=False)\n",
              "        (1): BatchNorm2d(128, eps=1e-05, momentum=0.1, affine=True, track_running_stats=True)\n",
              "      )\n",
              "    )\n",
              "    (1): BasicBlock(\n",
              "      (conv1): Conv2d(128, 128, kernel_size=(3, 3), stride=(1, 1), padding=(1, 1), bias=False)\n",
              "      (bn1): BatchNorm2d(128, eps=1e-05, momentum=0.1, affine=True, track_running_stats=True)\n",
              "      (relu): ReLU(inplace=True)\n",
              "      (conv2): Conv2d(128, 128, kernel_size=(3, 3), stride=(1, 1), padding=(1, 1), bias=False)\n",
              "      (bn2): BatchNorm2d(128, eps=1e-05, momentum=0.1, affine=True, track_running_stats=True)\n",
              "    )\n",
              "  )\n",
              "  (layer3): Sequential(\n",
              "    (0): BasicBlock(\n",
              "      (conv1): Conv2d(128, 256, kernel_size=(3, 3), stride=(2, 2), padding=(1, 1), bias=False)\n",
              "      (bn1): BatchNorm2d(256, eps=1e-05, momentum=0.1, affine=True, track_running_stats=True)\n",
              "      (relu): ReLU(inplace=True)\n",
              "      (conv2): Conv2d(256, 256, kernel_size=(3, 3), stride=(1, 1), padding=(1, 1), bias=False)\n",
              "      (bn2): BatchNorm2d(256, eps=1e-05, momentum=0.1, affine=True, track_running_stats=True)\n",
              "      (downsample): Sequential(\n",
              "        (0): Conv2d(128, 256, kernel_size=(1, 1), stride=(2, 2), bias=False)\n",
              "        (1): BatchNorm2d(256, eps=1e-05, momentum=0.1, affine=True, track_running_stats=True)\n",
              "      )\n",
              "    )\n",
              "    (1): BasicBlock(\n",
              "      (conv1): Conv2d(256, 256, kernel_size=(3, 3), stride=(1, 1), padding=(1, 1), bias=False)\n",
              "      (bn1): BatchNorm2d(256, eps=1e-05, momentum=0.1, affine=True, track_running_stats=True)\n",
              "      (relu): ReLU(inplace=True)\n",
              "      (conv2): Conv2d(256, 256, kernel_size=(3, 3), stride=(1, 1), padding=(1, 1), bias=False)\n",
              "      (bn2): BatchNorm2d(256, eps=1e-05, momentum=0.1, affine=True, track_running_stats=True)\n",
              "    )\n",
              "  )\n",
              "  (layer4): Sequential(\n",
              "    (0): BasicBlock(\n",
              "      (conv1): Conv2d(256, 512, kernel_size=(3, 3), stride=(2, 2), padding=(1, 1), bias=False)\n",
              "      (bn1): BatchNorm2d(512, eps=1e-05, momentum=0.1, affine=True, track_running_stats=True)\n",
              "      (relu): ReLU(inplace=True)\n",
              "      (conv2): Conv2d(512, 512, kernel_size=(3, 3), stride=(1, 1), padding=(1, 1), bias=False)\n",
              "      (bn2): BatchNorm2d(512, eps=1e-05, momentum=0.1, affine=True, track_running_stats=True)\n",
              "      (downsample): Sequential(\n",
              "        (0): Conv2d(256, 512, kernel_size=(1, 1), stride=(2, 2), bias=False)\n",
              "        (1): BatchNorm2d(512, eps=1e-05, momentum=0.1, affine=True, track_running_stats=True)\n",
              "      )\n",
              "    )\n",
              "    (1): BasicBlock(\n",
              "      (conv1): Conv2d(512, 512, kernel_size=(3, 3), stride=(1, 1), padding=(1, 1), bias=False)\n",
              "      (bn1): BatchNorm2d(512, eps=1e-05, momentum=0.1, affine=True, track_running_stats=True)\n",
              "      (relu): ReLU(inplace=True)\n",
              "      (conv2): Conv2d(512, 512, kernel_size=(3, 3), stride=(1, 1), padding=(1, 1), bias=False)\n",
              "      (bn2): BatchNorm2d(512, eps=1e-05, momentum=0.1, affine=True, track_running_stats=True)\n",
              "    )\n",
              "  )\n",
              "  (avgpool): AdaptiveAvgPool2d(output_size=(1, 1))\n",
              "  (fc): Identity()\n",
              ")"
            ]
          },
          "metadata": {},
          "execution_count": 18
        }
      ],
      "source": [
        "resnet"
      ]
    },
    {
      "cell_type": "markdown",
      "metadata": {
        "id": "esJtbykJp-f4"
      },
      "source": [
        "## Image Transformations"
      ]
    },
    {
      "cell_type": "code",
      "execution_count": 19,
      "metadata": {
        "id": "KbPIvTG8p9rw"
      },
      "outputs": [],
      "source": [
        "class Normalize(object):\n",
        "    \"\"\"Normalizes the image by subtracting the mean and dividing by the standard deviations.\n",
        "\n",
        "    Args:\n",
        "        mean: The vector containing the means.\n",
        "        std: The vector containing the standard deviations.\n",
        "    \"\"\"\n",
        "\n",
        "    def __init__(self, mean, std):\n",
        "        assert len(mean) == len(std), 'Length of mean and std vectors is not the same'\n",
        "        self.mean = np.array(mean)\n",
        "        self.std = np.array(std)\n",
        "\n",
        "    def __call__(self, image):\n",
        "\n",
        "        image = image.float()  # Convert to float tensor\n",
        "        image = image / 255.0  # Scale pixel values to the range [0, 1]\n",
        "\n",
        "        dtype = image.dtype\n",
        "        mean = torch.as_tensor(self.mean, dtype=dtype, device=image.device)\n",
        "        std = torch.as_tensor(self.std, dtype=dtype, device=image.device)\n",
        "        # Avoid division by nearly zero\n",
        "        std[std < 1e-5] = 1.0\n",
        "        # Normalize the image\n",
        "        image = (image - mean[:, None, None]) / std[:, None, None]\n",
        "\n",
        "        return image"
      ]
    },
    {
      "cell_type": "code",
      "execution_count": 20,
      "metadata": {
        "id": "Km6vWZvXqqBh"
      },
      "outputs": [],
      "source": [
        "class ToTensor(object):\n",
        "    \"\"\"Converts the image ndarray to a tensor.\"\"\"\n",
        "\n",
        "    def __call__(self, image):\n",
        "        # Change the axes\n",
        "        # numpy image: H x W x C\n",
        "        # torch image: C x H x W\n",
        "        image = np.array(image)\n",
        "        image = image.transpose((2, 0, 1))\n",
        "        image = torch.from_numpy(image)\n",
        "\n",
        "        return image\n"
      ]
    },
    {
      "cell_type": "code",
      "execution_count": 21,
      "metadata": {
        "id": "Wutbk8yiqsiR"
      },
      "outputs": [],
      "source": [
        "class Rescale(object):\n",
        "    \"\"\"Rescales the image to a desired size.\n",
        "\n",
        "    Args:\n",
        "        output_size (tuple or int): Desired output size. If tuple, output is the output_size.\n",
        "            If int, the smaller of the image edges is matched to output_size keeping aspect ratio the same.\n",
        "    \"\"\"\n",
        "\n",
        "    def __init__(self, output_size):\n",
        "        assert isinstance(output_size, (int, tuple))\n",
        "        self.output_size = output_size\n",
        "\n",
        "    def __call__(self, image):\n",
        "        # Convert the PIL image to a NumPy array\n",
        "        image_np = np.array(image)\n",
        "\n",
        "        # Get the height and width of the image\n",
        "        h, w = image_np.shape[:2]\n",
        "\n",
        "        if isinstance(self.output_size, int):\n",
        "            if h > w:\n",
        "                new_h, new_w = self.output_size * h / w, self.output_size\n",
        "            else:\n",
        "                new_h, new_w = self.output_size, self.output_size * w / h\n",
        "        else:\n",
        "            new_h, new_w = self.output_size\n",
        "\n",
        "        new_h, new_w = int(new_h), int(new_w)\n",
        "\n",
        "        # Resize the image using scikit-image's resize function\n",
        "        resized_image = transform.resize(image_np, (new_h, new_w))\n",
        "\n",
        "        # Convert the resized NumPy array back to a PIL image\n",
        "        resized_image_pil = Image.fromarray((resized_image * 255).astype(np.uint8))\n",
        "\n",
        "        return resized_image_pil"
      ]
    },
    {
      "cell_type": "markdown",
      "metadata": {
        "id": "jtRQDxjhr7th"
      },
      "source": [
        "## Datasets and Dataloaders"
      ]
    },
    {
      "cell_type": "code",
      "execution_count": 22,
      "metadata": {
        "id": "Lnu68fiWr7Hd"
      },
      "outputs": [],
      "source": [
        "# Train ISIC Dataset------------------------------------------------------------\n",
        "train_dataset_isic = VQADataset(data_dir=database1_train_path,\n",
        "                           json_file='/content/data/databases_qa/ISIC_2016/qa_ISIC.json',\n",
        "                           tokenizer=None,\n",
        "                           transform=transforms.Compose([\n",
        "                            Rescale((224,224)),\n",
        "                            ToTensor(),\n",
        "                            Normalize(mean=[0.485, 0.456, 0.406], std=[0.229, 0.224, 0.225])\n",
        "                            ]))\n",
        "# Test ISIC Dataset--------------------------------------------------------------\n",
        "test_dataset_isic = VQADataset(data_dir=database1_test_path,\n",
        "                           json_file='/content/data/databases_qa/ISIC_2016/qa_ISIC.json',\n",
        "                           tokenizer=None,\n",
        "                           transform=transforms.Compose([\n",
        "                            Rescale((224,224)),\n",
        "                            ToTensor(),\n",
        "                            Normalize(mean=[0.485, 0.456, 0.406], std=[0.229, 0.224, 0.225])\n",
        "                            ]))"
      ]
    },
    {
      "cell_type": "code",
      "execution_count": 23,
      "metadata": {
        "id": "3BQq_UYpfjyg"
      },
      "outputs": [],
      "source": [
        "# Train Pizarro Dataset------------------------------------------------------------\n",
        "train_dataset_pizarro = VQADataset(data_dir=database2_path,\n",
        "                           json_file='/content/data/databases_qa/pizarro/qa_pizarro.json',\n",
        "                           tokenizer=None,\n",
        "                           transform=transforms.Compose([\n",
        "                            Rescale((224,380)),\n",
        "                            ToTensor(),\n",
        "                            Normalize(mean=[0.485, 0.456, 0.406], std=[0.229, 0.224, 0.225])\n",
        "                            ]))"
      ]
    },
    {
      "cell_type": "markdown",
      "source": [
        "## Define the all the possible answers within both datasets"
      ],
      "metadata": {
        "id": "SBodYMxwROs0"
      }
    },
    {
      "cell_type": "code",
      "source": [
        "# Extract all answers from the dataset\n",
        "all_answers = [answer for _, _, answers in train_dataset_pizarro for answer in answers]\n",
        "# Obtain unique answer values\n",
        "unique_answers = list(set(all_answers))"
      ],
      "metadata": {
        "id": "MtaTJ0v3RJ0W"
      },
      "execution_count": 24,
      "outputs": []
    },
    {
      "cell_type": "code",
      "source": [
        "unique_answers"
      ],
      "metadata": {
        "id": "fZOPrVjkTVVA",
        "outputId": "0a19ddb0-b5db-464b-8b50-5717fb068810",
        "colab": {
          "base_uri": "https://localhost:8080/"
        }
      },
      "execution_count": 25,
      "outputs": [
        {
          "output_type": "execute_result",
          "data": {
            "text/plain": [
              "[' chrysalis is observed.',\n",
              " 'Yes, subtle peripheral globules are observed.',\n",
              " 'The peripheral globular pattern is focal conventional.',\n",
              " 'The histology diagnostic indicates non-atypical stable mole (m).',\n",
              " 'Yes, clear whitish blue veil is observed.',\n",
              " 'The histology diagnostic indicates reed nevus (nr).',\n",
              " 'No homogeneous area without vessels is observed.',\n",
              " ' peripheral globules are observed.',\n",
              " 'The histology diagnostic indicates superficial spreading melanoma (ssm).',\n",
              " 'Yes, subtle chrysalis is observed.',\n",
              " 'Yes, subtle negative reticulum is observed.',\n",
              " 'The histology diagnostic indicates intradermal melanocytic nevus (imn).',\n",
              " 'No gray regression is observed.',\n",
              " 'The peripheral globular pattern is .',\n",
              " 'Yes, clear gray regression is observed.',\n",
              " 'The lesion is asymmetric on two axes.',\n",
              " 'The global pattern of the lesion is globular.',\n",
              " 'Yes, clear and dominant homogeneous area with vessels is observed.',\n",
              " 'No peripheral globules are observed.',\n",
              " 'The peripheral globular pattern is irregular conventional.',\n",
              " 'Yes, clear and dominant negative reticulum is observed.',\n",
              " 'The lesion has been follow-up with previous dermoscopy, due to changes.',\n",
              " 'The lesion is asymmetric on one axis.',\n",
              " 'The lesion has been not excised.',\n",
              " 'Yes, subtle whitish blue veil is observed.',\n",
              " 'The diagnostic impression is exclude melanoma.',\n",
              " 'The global pattern of the lesion is mixed (mix of two of the above).',\n",
              " 'The presence of dysplasia is not available.',\n",
              " 'Yes, subtle pigmented reticulum is observed.',\n",
              " ' large globules/cobblestone are observed.',\n",
              " 'Yes, subtle white regression is observed.',\n",
              " 'The lesion has been first consultation.',\n",
              " 'Yes, clear peripheral globules are observed.',\n",
              " 'The peripheral globular pattern is irregular bursting.',\n",
              " 'Yes, clear and dominant undefined area is observed.',\n",
              " 'Yes, subtle homogeneous area without vessels is observed.',\n",
              " 'Yes, subtle undefined area is observed.',\n",
              " 'The lesion has been follow-up with previous dermoscopy, due to symptoms.',\n",
              " 'The lesion has been follow-up, without previous dermoscopy.',\n",
              " 'The peripheral globular pattern is absent.',\n",
              " 'The histology diagnostic indicates congenital melanocytic nevus (cmn).',\n",
              " 'The general silhouette of the lesion is flattened elevated.',\n",
              " 'The presence of dysplasia is severe.',\n",
              " 'No pigmented reticulum is observed.',\n",
              " 'The global pattern of the lesion is homogeneous.',\n",
              " 'Yes, clear small dots/globules are present.',\n",
              " 'Yes, clear homogeneous area without vessels is observed.',\n",
              " 'The diagnostic difficulty level is medium.',\n",
              " 'No homogeneous area with vessels is observed.',\n",
              " 'Yes, clear peripheral projections are present.',\n",
              " 'The global pattern of the lesion is patchy reticular.',\n",
              " 'No large globules/cobblestone are observed.',\n",
              " 'The histology diagnostic indicates dysplastic melanocytic nevus (dmn).',\n",
              " 'Yes, subtle peripheral projections are present.',\n",
              " 'The peripheral globular pattern is focal bursting.',\n",
              " 'The peripheral globular pattern is regular conventional.',\n",
              " 'The diagnostic difficulty level is high.',\n",
              " 'No white regression is observed.',\n",
              " 'Yes, clear chrysalis is observed.',\n",
              " 'Yes, subtle small dots/globules are present.',\n",
              " 'The lesion is .',\n",
              " 'The histology diagnostic indicates lentiginous melanocytic nevus (lmn).',\n",
              " 'The presence of dysplasia is .',\n",
              " 'Yes, subtle homogeneous area with vessels is observed.',\n",
              " 'Yes, clear undefined area is observed.',\n",
              " 'No negative reticulum is observed.',\n",
              " 'The lesion is symmetric.',\n",
              " 'Yes, clear and dominant large globules/cobblestone are observed.',\n",
              " 'Yes, subtle gray regression is observed.',\n",
              " 'Yes, clear and dominant small dots/globules are present.',\n",
              " 'The diagnostic impression is melanoma.',\n",
              " 'No peripheral projections are present.',\n",
              " 'The diagnostic difficulty level is low.',\n",
              " 'The diagnostic impression is spitz/reed nevus.',\n",
              " 'Yes, clear negative reticulum is observed.',\n",
              " 'The diagnostic impression is non-atypical mole.',\n",
              " 'The histology diagnostic indicates melanoma in situ (mis).',\n",
              " 'Yes, clear homogeneous area with vessels is observed.',\n",
              " 'The histology diagnostic indicates junctional melanocytic nevus (jmn).',\n",
              " 'Yes, clear white regression is observed.',\n",
              " 'The general silhouette of the lesion is exophytic.',\n",
              " 'The diagnostic impression is atypical mole.',\n",
              " 'The general silhouette of the lesion is flat.',\n",
              " 'Yes, clear and dominant peripheral projections are present.',\n",
              " 'Yes, subtle large globules/cobblestone are observed.',\n",
              " 'No undefined area is observed.',\n",
              " 'The global pattern of the lesion is diffuse reticular.',\n",
              " 'The histology diagnostic indicates compound melanocytic nevus (cmn).',\n",
              " 'No small dots/globules are present.',\n",
              " 'Yes, clear large globules/cobblestone are observed.',\n",
              " 'Yes, clear and dominant peripheral globules are observed.',\n",
              " 'The peripheral globular pattern is regular bursting.',\n",
              " 'The presence of dysplasia is not applicable.',\n",
              " 'The global pattern of the lesion is cobblestone.',\n",
              " 'Yes, clear and dominant homogeneous area without vessels is observed.',\n",
              " 'No chrysalis is observed.',\n",
              " 'The global pattern of the lesion is undefined.',\n",
              " 'Yes, clear and dominant pigmented reticulum is observed.',\n",
              " 'No whitish blue veil is observed.',\n",
              " 'Yes, clear pigmented reticulum is observed.',\n",
              " 'The histology diagnostic indicates spitz nevus (sn).',\n",
              " 'The global pattern of the lesion is multicomponent (mix of 3 or more above).']"
            ]
          },
          "metadata": {},
          "execution_count": 25
        }
      ]
    },
    {
      "cell_type": "code",
      "source": [
        "# Create dictionaries id2label and label2id\n",
        "id2label = {i: label for i, label in enumerate(unique_answers)}\n",
        "label2id = {label: i for i, label in enumerate(unique_answers)}"
      ],
      "metadata": {
        "id": "zB_NjxmSSA2I"
      },
      "execution_count": 26,
      "outputs": []
    },
    {
      "cell_type": "code",
      "source": [
        "id2label"
      ],
      "metadata": {
        "id": "8nTUep5tUe07",
        "outputId": "aad95bd7-3c3e-4cbb-96e2-a17cd849c241",
        "colab": {
          "base_uri": "https://localhost:8080/"
        }
      },
      "execution_count": 27,
      "outputs": [
        {
          "output_type": "execute_result",
          "data": {
            "text/plain": [
              "{0: ' chrysalis is observed.',\n",
              " 1: 'Yes, subtle peripheral globules are observed.',\n",
              " 2: 'The peripheral globular pattern is focal conventional.',\n",
              " 3: 'The histology diagnostic indicates non-atypical stable mole (m).',\n",
              " 4: 'Yes, clear whitish blue veil is observed.',\n",
              " 5: 'The histology diagnostic indicates reed nevus (nr).',\n",
              " 6: 'No homogeneous area without vessels is observed.',\n",
              " 7: ' peripheral globules are observed.',\n",
              " 8: 'The histology diagnostic indicates superficial spreading melanoma (ssm).',\n",
              " 9: 'Yes, subtle chrysalis is observed.',\n",
              " 10: 'Yes, subtle negative reticulum is observed.',\n",
              " 11: 'The histology diagnostic indicates intradermal melanocytic nevus (imn).',\n",
              " 12: 'No gray regression is observed.',\n",
              " 13: 'The peripheral globular pattern is .',\n",
              " 14: 'Yes, clear gray regression is observed.',\n",
              " 15: 'The lesion is asymmetric on two axes.',\n",
              " 16: 'The global pattern of the lesion is globular.',\n",
              " 17: 'Yes, clear and dominant homogeneous area with vessels is observed.',\n",
              " 18: 'No peripheral globules are observed.',\n",
              " 19: 'The peripheral globular pattern is irregular conventional.',\n",
              " 20: 'Yes, clear and dominant negative reticulum is observed.',\n",
              " 21: 'The lesion has been follow-up with previous dermoscopy, due to changes.',\n",
              " 22: 'The lesion is asymmetric on one axis.',\n",
              " 23: 'The lesion has been not excised.',\n",
              " 24: 'Yes, subtle whitish blue veil is observed.',\n",
              " 25: 'The diagnostic impression is exclude melanoma.',\n",
              " 26: 'The global pattern of the lesion is mixed (mix of two of the above).',\n",
              " 27: 'The presence of dysplasia is not available.',\n",
              " 28: 'Yes, subtle pigmented reticulum is observed.',\n",
              " 29: ' large globules/cobblestone are observed.',\n",
              " 30: 'Yes, subtle white regression is observed.',\n",
              " 31: 'The lesion has been first consultation.',\n",
              " 32: 'Yes, clear peripheral globules are observed.',\n",
              " 33: 'The peripheral globular pattern is irregular bursting.',\n",
              " 34: 'Yes, clear and dominant undefined area is observed.',\n",
              " 35: 'Yes, subtle homogeneous area without vessels is observed.',\n",
              " 36: 'Yes, subtle undefined area is observed.',\n",
              " 37: 'The lesion has been follow-up with previous dermoscopy, due to symptoms.',\n",
              " 38: 'The lesion has been follow-up, without previous dermoscopy.',\n",
              " 39: 'The peripheral globular pattern is absent.',\n",
              " 40: 'The histology diagnostic indicates congenital melanocytic nevus (cmn).',\n",
              " 41: 'The general silhouette of the lesion is flattened elevated.',\n",
              " 42: 'The presence of dysplasia is severe.',\n",
              " 43: 'No pigmented reticulum is observed.',\n",
              " 44: 'The global pattern of the lesion is homogeneous.',\n",
              " 45: 'Yes, clear small dots/globules are present.',\n",
              " 46: 'Yes, clear homogeneous area without vessels is observed.',\n",
              " 47: 'The diagnostic difficulty level is medium.',\n",
              " 48: 'No homogeneous area with vessels is observed.',\n",
              " 49: 'Yes, clear peripheral projections are present.',\n",
              " 50: 'The global pattern of the lesion is patchy reticular.',\n",
              " 51: 'No large globules/cobblestone are observed.',\n",
              " 52: 'The histology diagnostic indicates dysplastic melanocytic nevus (dmn).',\n",
              " 53: 'Yes, subtle peripheral projections are present.',\n",
              " 54: 'The peripheral globular pattern is focal bursting.',\n",
              " 55: 'The peripheral globular pattern is regular conventional.',\n",
              " 56: 'The diagnostic difficulty level is high.',\n",
              " 57: 'No white regression is observed.',\n",
              " 58: 'Yes, clear chrysalis is observed.',\n",
              " 59: 'Yes, subtle small dots/globules are present.',\n",
              " 60: 'The lesion is .',\n",
              " 61: 'The histology diagnostic indicates lentiginous melanocytic nevus (lmn).',\n",
              " 62: 'The presence of dysplasia is .',\n",
              " 63: 'Yes, subtle homogeneous area with vessels is observed.',\n",
              " 64: 'Yes, clear undefined area is observed.',\n",
              " 65: 'No negative reticulum is observed.',\n",
              " 66: 'The lesion is symmetric.',\n",
              " 67: 'Yes, clear and dominant large globules/cobblestone are observed.',\n",
              " 68: 'Yes, subtle gray regression is observed.',\n",
              " 69: 'Yes, clear and dominant small dots/globules are present.',\n",
              " 70: 'The diagnostic impression is melanoma.',\n",
              " 71: 'No peripheral projections are present.',\n",
              " 72: 'The diagnostic difficulty level is low.',\n",
              " 73: 'The diagnostic impression is spitz/reed nevus.',\n",
              " 74: 'Yes, clear negative reticulum is observed.',\n",
              " 75: 'The diagnostic impression is non-atypical mole.',\n",
              " 76: 'The histology diagnostic indicates melanoma in situ (mis).',\n",
              " 77: 'Yes, clear homogeneous area with vessels is observed.',\n",
              " 78: 'The histology diagnostic indicates junctional melanocytic nevus (jmn).',\n",
              " 79: 'Yes, clear white regression is observed.',\n",
              " 80: 'The general silhouette of the lesion is exophytic.',\n",
              " 81: 'The diagnostic impression is atypical mole.',\n",
              " 82: 'The general silhouette of the lesion is flat.',\n",
              " 83: 'Yes, clear and dominant peripheral projections are present.',\n",
              " 84: 'Yes, subtle large globules/cobblestone are observed.',\n",
              " 85: 'No undefined area is observed.',\n",
              " 86: 'The global pattern of the lesion is diffuse reticular.',\n",
              " 87: 'The histology diagnostic indicates compound melanocytic nevus (cmn).',\n",
              " 88: 'No small dots/globules are present.',\n",
              " 89: 'Yes, clear large globules/cobblestone are observed.',\n",
              " 90: 'Yes, clear and dominant peripheral globules are observed.',\n",
              " 91: 'The peripheral globular pattern is regular bursting.',\n",
              " 92: 'The presence of dysplasia is not applicable.',\n",
              " 93: 'The global pattern of the lesion is cobblestone.',\n",
              " 94: 'Yes, clear and dominant homogeneous area without vessels is observed.',\n",
              " 95: 'No chrysalis is observed.',\n",
              " 96: 'The global pattern of the lesion is undefined.',\n",
              " 97: 'Yes, clear and dominant pigmented reticulum is observed.',\n",
              " 98: 'No whitish blue veil is observed.',\n",
              " 99: 'Yes, clear pigmented reticulum is observed.',\n",
              " 100: 'The histology diagnostic indicates spitz nevus (sn).',\n",
              " 101: 'The global pattern of the lesion is multicomponent (mix of 3 or more above).'}"
            ]
          },
          "metadata": {},
          "execution_count": 27
        }
      ]
    },
    {
      "cell_type": "code",
      "source": [
        "# Required tensor with the label IDs\n",
        "answers_ids_tensor = torch.arange(len(id2label), dtype=torch.float, device=device)\n",
        "answers_ids_tensor"
      ],
      "metadata": {
        "id": "zIE8BzfqUmmf",
        "outputId": "f62550f2-ac1d-4c8c-cb1d-b3a7fe51929e",
        "colab": {
          "base_uri": "https://localhost:8080/"
        }
      },
      "execution_count": 28,
      "outputs": [
        {
          "output_type": "execute_result",
          "data": {
            "text/plain": [
              "tensor([  0.,   1.,   2.,   3.,   4.,   5.,   6.,   7.,   8.,   9.,  10.,  11.,\n",
              "         12.,  13.,  14.,  15.,  16.,  17.,  18.,  19.,  20.,  21.,  22.,  23.,\n",
              "         24.,  25.,  26.,  27.,  28.,  29.,  30.,  31.,  32.,  33.,  34.,  35.,\n",
              "         36.,  37.,  38.,  39.,  40.,  41.,  42.,  43.,  44.,  45.,  46.,  47.,\n",
              "         48.,  49.,  50.,  51.,  52.,  53.,  54.,  55.,  56.,  57.,  58.,  59.,\n",
              "         60.,  61.,  62.,  63.,  64.,  65.,  66.,  67.,  68.,  69.,  70.,  71.,\n",
              "         72.,  73.,  74.,  75.,  76.,  77.,  78.,  79.,  80.,  81.,  82.,  83.,\n",
              "         84.,  85.,  86.,  87.,  88.,  89.,  90.,  91.,  92.,  93.,  94.,  95.,\n",
              "         96.,  97.,  98.,  99., 100., 101.], device='cuda:0')"
            ]
          },
          "metadata": {},
          "execution_count": 28
        }
      ]
    },
    {
      "cell_type": "code",
      "execution_count": 29,
      "metadata": {
        "id": "UrNZdQCPl7qt"
      },
      "outputs": [],
      "source": [
        "# Pizarro dataset\n",
        "pizarro_dataloader = DataLoader(train_dataset_pizarro, batch_size=5, shuffle=True)\n",
        "test_isic_dataloader = DataLoader(test_dataset_isic, batch_size=5, shuffle=True)"
      ]
    },
    {
      "cell_type": "code",
      "execution_count": 30,
      "metadata": {
        "id": "2jZsoFg5aoCM"
      },
      "outputs": [],
      "source": [
        "# Auxiliary function to visualize a batch\n",
        "def show_batch(sample_batched):\n",
        "    \"\"\"Show a batch of images.\"\"\"\n",
        "\n",
        "    # Store images, questions and answers\n",
        "    images_batch, questions_batch, answers_batch = \\\n",
        "            sample_batched[0], sample_batched[1], sample_batched[2]\n",
        "\n",
        "    # Identify the batch size to define the grid\n",
        "    batch_size = len(images_batch)\n",
        "    im_size = images_batch.size(2)\n",
        "    grid_border_size = 2\n",
        "\n",
        "    # Generate the grid\n",
        "    grid = utils.make_grid(images_batch)\n",
        "\n",
        "    # Convert to numpy and denormalize\n",
        "    grid = grid.numpy().transpose((1, 2, 0))\n",
        "    mean = np.array([0.485, 0.456, 0.406])\n",
        "    std = np.array([0.229, 0.224, 0.225])\n",
        "    grid = std * grid + mean\n",
        "    grid = np.clip(grid, 0, 1)\n",
        "    plt.imshow(grid)\n",
        "    plt.title('Batch from dataloader')\n",
        "    plt.axis('off')\n",
        "    plt.show()"
      ]
    },
    {
      "cell_type": "code",
      "execution_count": 31,
      "metadata": {
        "colab": {
          "base_uri": "https://localhost:8080/",
          "height": 273
        },
        "id": "cV5odxMqlhbb",
        "outputId": "2ba7d22d-08bc-4f18-f3e8-ffe01309b51b"
      },
      "outputs": [
        {
          "output_type": "stream",
          "name": "stdout",
          "text": [
            "0 [('The general silhouette of the lesion is flat.', 'The general silhouette of the lesion is flat.', 'The general silhouette of the lesion is flattened elevated.', 'The general silhouette of the lesion is flat.', 'The general silhouette of the lesion is flat.'), ('The general silhouette of the lesion is flat.', 'The general silhouette of the lesion is flat.', 'The general silhouette of the lesion is flattened elevated.', 'The general silhouette of the lesion is flat.', 'The general silhouette of the lesion is flat.'), ('The general silhouette of the lesion is flat.', 'The general silhouette of the lesion is flat.', 'The general silhouette of the lesion is flattened elevated.', 'The general silhouette of the lesion is flat.', 'The general silhouette of the lesion is flat.'), ('The general silhouette of the lesion is flat.', 'The general silhouette of the lesion is flat.', 'The general silhouette of the lesion is flattened elevated.', 'The general silhouette of the lesion is flat.', 'The general silhouette of the lesion is flat.'), ('The general silhouette of the lesion is flat.', 'The general silhouette of the lesion is flat.', 'The general silhouette of the lesion is flattened elevated.', 'The general silhouette of the lesion is flat.', 'The general silhouette of the lesion is flat.'), ('The histology diagnostic indicates lentiginous melanocytic nevus (lmn).', 'The histology diagnostic indicates superficial spreading melanoma (ssm).', 'The histology diagnostic indicates superficial spreading melanoma (ssm).', 'The histology diagnostic indicates non-atypical stable mole (m).', 'The histology diagnostic indicates non-atypical stable mole (m).'), ('The histology diagnostic indicates lentiginous melanocytic nevus (lmn).', 'The histology diagnostic indicates superficial spreading melanoma (ssm).', 'The histology diagnostic indicates superficial spreading melanoma (ssm).', 'The histology diagnostic indicates non-atypical stable mole (m).', 'The histology diagnostic indicates non-atypical stable mole (m).'), ('The histology diagnostic indicates lentiginous melanocytic nevus (lmn).', 'The histology diagnostic indicates superficial spreading melanoma (ssm).', 'The histology diagnostic indicates superficial spreading melanoma (ssm).', 'The histology diagnostic indicates non-atypical stable mole (m).', 'The histology diagnostic indicates non-atypical stable mole (m).'), ('The histology diagnostic indicates lentiginous melanocytic nevus (lmn).', 'The histology diagnostic indicates superficial spreading melanoma (ssm).', 'The histology diagnostic indicates superficial spreading melanoma (ssm).', 'The histology diagnostic indicates non-atypical stable mole (m).', 'The histology diagnostic indicates non-atypical stable mole (m).'), ('The histology diagnostic indicates lentiginous melanocytic nevus (lmn).', 'The histology diagnostic indicates superficial spreading melanoma (ssm).', 'The histology diagnostic indicates superficial spreading melanoma (ssm).', 'The histology diagnostic indicates non-atypical stable mole (m).', 'The histology diagnostic indicates non-atypical stable mole (m).'), ('The presence of dysplasia is not applicable.', 'The presence of dysplasia is .', 'The presence of dysplasia is not applicable.', 'The presence of dysplasia is not applicable.', 'The presence of dysplasia is not applicable.'), ('The presence of dysplasia is not applicable.', 'The presence of dysplasia is .', 'The presence of dysplasia is not applicable.', 'The presence of dysplasia is not applicable.', 'The presence of dysplasia is not applicable.'), ('The presence of dysplasia is not applicable.', 'The presence of dysplasia is .', 'The presence of dysplasia is not applicable.', 'The presence of dysplasia is not applicable.', 'The presence of dysplasia is not applicable.'), ('The presence of dysplasia is not applicable.', 'The presence of dysplasia is .', 'The presence of dysplasia is not applicable.', 'The presence of dysplasia is not applicable.', 'The presence of dysplasia is not applicable.'), ('The presence of dysplasia is not applicable.', 'The presence of dysplasia is .', 'The presence of dysplasia is not applicable.', 'The presence of dysplasia is not applicable.', 'The presence of dysplasia is not applicable.'), ('The diagnostic impression is atypical mole.', 'The diagnostic impression is melanoma.', 'The diagnostic impression is melanoma.', 'The diagnostic impression is atypical mole.', 'The diagnostic impression is non-atypical mole.'), ('The diagnostic impression is atypical mole.', 'The diagnostic impression is melanoma.', 'The diagnostic impression is melanoma.', 'The diagnostic impression is atypical mole.', 'The diagnostic impression is non-atypical mole.'), ('The diagnostic impression is atypical mole.', 'The diagnostic impression is melanoma.', 'The diagnostic impression is melanoma.', 'The diagnostic impression is atypical mole.', 'The diagnostic impression is non-atypical mole.'), ('The diagnostic impression is atypical mole.', 'The diagnostic impression is melanoma.', 'The diagnostic impression is melanoma.', 'The diagnostic impression is atypical mole.', 'The diagnostic impression is non-atypical mole.'), ('The diagnostic impression is atypical mole.', 'The diagnostic impression is melanoma.', 'The diagnostic impression is melanoma.', 'The diagnostic impression is atypical mole.', 'The diagnostic impression is non-atypical mole.'), ('The diagnostic difficulty level is medium.', 'The diagnostic difficulty level is low.', 'The diagnostic difficulty level is low.', 'The diagnostic difficulty level is low.', 'The diagnostic difficulty level is low.'), ('The diagnostic difficulty level is medium.', 'The diagnostic difficulty level is low.', 'The diagnostic difficulty level is low.', 'The diagnostic difficulty level is low.', 'The diagnostic difficulty level is low.'), ('The diagnostic difficulty level is medium.', 'The diagnostic difficulty level is low.', 'The diagnostic difficulty level is low.', 'The diagnostic difficulty level is low.', 'The diagnostic difficulty level is low.'), ('The diagnostic difficulty level is medium.', 'The diagnostic difficulty level is low.', 'The diagnostic difficulty level is low.', 'The diagnostic difficulty level is low.', 'The diagnostic difficulty level is low.'), ('The diagnostic difficulty level is medium.', 'The diagnostic difficulty level is low.', 'The diagnostic difficulty level is low.', 'The diagnostic difficulty level is low.', 'The diagnostic difficulty level is low.'), ('The lesion has been first consultation.', 'The lesion has been first consultation.', 'The lesion has been first consultation.', 'The lesion has been not excised.', 'The lesion has been not excised.'), ('The lesion has been first consultation.', 'The lesion has been first consultation.', 'The lesion has been first consultation.', 'The lesion has been not excised.', 'The lesion has been not excised.'), ('The lesion has been first consultation.', 'The lesion has been first consultation.', 'The lesion has been first consultation.', 'The lesion has been not excised.', 'The lesion has been not excised.'), ('The lesion has been first consultation.', 'The lesion has been first consultation.', 'The lesion has been first consultation.', 'The lesion has been not excised.', 'The lesion has been not excised.'), ('The lesion has been first consultation.', 'The lesion has been first consultation.', 'The lesion has been first consultation.', 'The lesion has been not excised.', 'The lesion has been not excised.'), ('The global pattern of the lesion is mixed (mix of two of the above).', 'The global pattern of the lesion is mixed (mix of two of the above).', 'The global pattern of the lesion is undefined.', 'The global pattern of the lesion is mixed (mix of two of the above).', 'The global pattern of the lesion is patchy reticular.'), ('The global pattern of the lesion is mixed (mix of two of the above).', 'The global pattern of the lesion is mixed (mix of two of the above).', 'The global pattern of the lesion is undefined.', 'The global pattern of the lesion is mixed (mix of two of the above).', 'The global pattern of the lesion is patchy reticular.'), ('The global pattern of the lesion is mixed (mix of two of the above).', 'The global pattern of the lesion is mixed (mix of two of the above).', 'The global pattern of the lesion is undefined.', 'The global pattern of the lesion is mixed (mix of two of the above).', 'The global pattern of the lesion is patchy reticular.'), ('The global pattern of the lesion is mixed (mix of two of the above).', 'The global pattern of the lesion is mixed (mix of two of the above).', 'The global pattern of the lesion is undefined.', 'The global pattern of the lesion is mixed (mix of two of the above).', 'The global pattern of the lesion is patchy reticular.'), ('The global pattern of the lesion is mixed (mix of two of the above).', 'The global pattern of the lesion is mixed (mix of two of the above).', 'The global pattern of the lesion is undefined.', 'The global pattern of the lesion is mixed (mix of two of the above).', 'The global pattern of the lesion is patchy reticular.'), ('The peripheral globular pattern is absent.', 'The peripheral globular pattern is absent.', 'The peripheral globular pattern is absent.', 'The peripheral globular pattern is absent.', 'The peripheral globular pattern is absent.'), ('The peripheral globular pattern is absent.', 'The peripheral globular pattern is absent.', 'The peripheral globular pattern is absent.', 'The peripheral globular pattern is absent.', 'The peripheral globular pattern is absent.'), ('The peripheral globular pattern is absent.', 'The peripheral globular pattern is absent.', 'The peripheral globular pattern is absent.', 'The peripheral globular pattern is absent.', 'The peripheral globular pattern is absent.'), ('The peripheral globular pattern is absent.', 'The peripheral globular pattern is absent.', 'The peripheral globular pattern is absent.', 'The peripheral globular pattern is absent.', 'The peripheral globular pattern is absent.'), ('The peripheral globular pattern is absent.', 'The peripheral globular pattern is absent.', 'The peripheral globular pattern is absent.', 'The peripheral globular pattern is absent.', 'The peripheral globular pattern is absent.'), ('The lesion is asymmetric on two axes.', 'The lesion is asymmetric on two axes.', 'The lesion is asymmetric on two axes.', 'The lesion is .', 'The lesion is symmetric.'), ('The lesion is asymmetric on two axes.', 'The lesion is asymmetric on two axes.', 'The lesion is asymmetric on two axes.', 'The lesion is .', 'The lesion is symmetric.'), ('The lesion is asymmetric on two axes.', 'The lesion is asymmetric on two axes.', 'The lesion is asymmetric on two axes.', 'The lesion is .', 'The lesion is symmetric.'), ('The lesion is asymmetric on two axes.', 'The lesion is asymmetric on two axes.', 'The lesion is asymmetric on two axes.', 'The lesion is .', 'The lesion is symmetric.'), ('The lesion is asymmetric on two axes.', 'The lesion is asymmetric on two axes.', 'The lesion is asymmetric on two axes.', 'The lesion is .', 'The lesion is symmetric.'), ('Yes, clear and dominant pigmented reticulum is observed.', 'Yes, clear pigmented reticulum is observed.', 'Yes, subtle pigmented reticulum is observed.', 'Yes, clear and dominant pigmented reticulum is observed.', 'Yes, clear and dominant pigmented reticulum is observed.'), ('Yes, clear and dominant pigmented reticulum is observed.', 'Yes, clear pigmented reticulum is observed.', 'Yes, subtle pigmented reticulum is observed.', 'Yes, clear and dominant pigmented reticulum is observed.', 'Yes, clear and dominant pigmented reticulum is observed.'), ('Yes, clear and dominant pigmented reticulum is observed.', 'Yes, clear pigmented reticulum is observed.', 'Yes, subtle pigmented reticulum is observed.', 'Yes, clear and dominant pigmented reticulum is observed.', 'Yes, clear and dominant pigmented reticulum is observed.'), ('Yes, clear and dominant pigmented reticulum is observed.', 'Yes, clear pigmented reticulum is observed.', 'Yes, subtle pigmented reticulum is observed.', 'Yes, clear and dominant pigmented reticulum is observed.', 'Yes, clear and dominant pigmented reticulum is observed.'), ('Yes, clear and dominant pigmented reticulum is observed.', 'Yes, clear pigmented reticulum is observed.', 'Yes, subtle pigmented reticulum is observed.', 'Yes, clear and dominant pigmented reticulum is observed.', 'Yes, clear and dominant pigmented reticulum is observed.'), ('No negative reticulum is observed.', 'No negative reticulum is observed.', 'No negative reticulum is observed.', 'No negative reticulum is observed.', 'No negative reticulum is observed.'), ('No negative reticulum is observed.', 'No negative reticulum is observed.', 'No negative reticulum is observed.', 'No negative reticulum is observed.', 'No negative reticulum is observed.'), ('No negative reticulum is observed.', 'No negative reticulum is observed.', 'No negative reticulum is observed.', 'No negative reticulum is observed.', 'No negative reticulum is observed.'), ('No negative reticulum is observed.', 'No negative reticulum is observed.', 'No negative reticulum is observed.', 'No negative reticulum is observed.', 'No negative reticulum is observed.'), ('No negative reticulum is observed.', 'No negative reticulum is observed.', 'No negative reticulum is observed.', 'No negative reticulum is observed.', 'No negative reticulum is observed.'), ('No small dots/globules are present.', 'Yes, subtle small dots/globules are present.', 'Yes, subtle small dots/globules are present.', 'No small dots/globules are present.', 'No small dots/globules are present.'), ('No small dots/globules are present.', 'Yes, subtle small dots/globules are present.', 'Yes, subtle small dots/globules are present.', 'No small dots/globules are present.', 'No small dots/globules are present.'), ('No small dots/globules are present.', 'Yes, subtle small dots/globules are present.', 'Yes, subtle small dots/globules are present.', 'No small dots/globules are present.', 'No small dots/globules are present.'), ('No small dots/globules are present.', 'Yes, subtle small dots/globules are present.', 'Yes, subtle small dots/globules are present.', 'No small dots/globules are present.', 'No small dots/globules are present.'), ('No small dots/globules are present.', 'Yes, subtle small dots/globules are present.', 'Yes, subtle small dots/globules are present.', 'No small dots/globules are present.', 'No small dots/globules are present.'), ('No large globules/cobblestone are observed.', 'No large globules/cobblestone are observed.', 'No large globules/cobblestone are observed.', 'No large globules/cobblestone are observed.', 'No large globules/cobblestone are observed.'), ('No large globules/cobblestone are observed.', 'No large globules/cobblestone are observed.', 'No large globules/cobblestone are observed.', 'No large globules/cobblestone are observed.', 'No large globules/cobblestone are observed.'), ('No large globules/cobblestone are observed.', 'No large globules/cobblestone are observed.', 'No large globules/cobblestone are observed.', 'No large globules/cobblestone are observed.', 'No large globules/cobblestone are observed.'), ('No large globules/cobblestone are observed.', 'No large globules/cobblestone are observed.', 'No large globules/cobblestone are observed.', 'No large globules/cobblestone are observed.', 'No large globules/cobblestone are observed.'), ('No large globules/cobblestone are observed.', 'No large globules/cobblestone are observed.', 'No large globules/cobblestone are observed.', 'No large globules/cobblestone are observed.', 'No large globules/cobblestone are observed.'), ('No peripheral globules are observed.', 'No peripheral globules are observed.', 'No peripheral globules are observed.', 'No peripheral globules are observed.', 'No peripheral globules are observed.'), ('No peripheral globules are observed.', 'No peripheral globules are observed.', 'No peripheral globules are observed.', 'No peripheral globules are observed.', 'No peripheral globules are observed.'), ('No peripheral globules are observed.', 'No peripheral globules are observed.', 'No peripheral globules are observed.', 'No peripheral globules are observed.', 'No peripheral globules are observed.'), ('No peripheral globules are observed.', 'No peripheral globules are observed.', 'No peripheral globules are observed.', 'No peripheral globules are observed.', 'No peripheral globules are observed.'), ('No peripheral globules are observed.', 'No peripheral globules are observed.', 'No peripheral globules are observed.', 'No peripheral globules are observed.', 'No peripheral globules are observed.'), ('No peripheral projections are present.', 'Yes, subtle peripheral projections are present.', 'No peripheral projections are present.', 'No peripheral projections are present.', 'No peripheral projections are present.'), ('No peripheral projections are present.', 'Yes, subtle peripheral projections are present.', 'No peripheral projections are present.', 'No peripheral projections are present.', 'No peripheral projections are present.'), ('No peripheral projections are present.', 'Yes, subtle peripheral projections are present.', 'No peripheral projections are present.', 'No peripheral projections are present.', 'No peripheral projections are present.'), ('No peripheral projections are present.', 'Yes, subtle peripheral projections are present.', 'No peripheral projections are present.', 'No peripheral projections are present.', 'No peripheral projections are present.'), ('No peripheral projections are present.', 'Yes, subtle peripheral projections are present.', 'No peripheral projections are present.', 'No peripheral projections are present.', 'No peripheral projections are present.'), ('Yes, subtle homogeneous area without vessels is observed.', 'No homogeneous area without vessels is observed.', 'No homogeneous area without vessels is observed.', 'Yes, subtle homogeneous area without vessels is observed.', 'Yes, subtle homogeneous area without vessels is observed.'), ('Yes, subtle homogeneous area without vessels is observed.', 'No homogeneous area without vessels is observed.', 'No homogeneous area without vessels is observed.', 'Yes, subtle homogeneous area without vessels is observed.', 'Yes, subtle homogeneous area without vessels is observed.'), ('Yes, subtle homogeneous area without vessels is observed.', 'No homogeneous area without vessels is observed.', 'No homogeneous area without vessels is observed.', 'Yes, subtle homogeneous area without vessels is observed.', 'Yes, subtle homogeneous area without vessels is observed.'), ('Yes, subtle homogeneous area without vessels is observed.', 'No homogeneous area without vessels is observed.', 'No homogeneous area without vessels is observed.', 'Yes, subtle homogeneous area without vessels is observed.', 'Yes, subtle homogeneous area without vessels is observed.'), ('Yes, subtle homogeneous area without vessels is observed.', 'No homogeneous area without vessels is observed.', 'No homogeneous area without vessels is observed.', 'Yes, subtle homogeneous area without vessels is observed.', 'Yes, subtle homogeneous area without vessels is observed.'), ('No homogeneous area with vessels is observed.', 'No homogeneous area with vessels is observed.', 'No homogeneous area with vessels is observed.', 'No homogeneous area with vessels is observed.', 'No homogeneous area with vessels is observed.'), ('No homogeneous area with vessels is observed.', 'No homogeneous area with vessels is observed.', 'No homogeneous area with vessels is observed.', 'No homogeneous area with vessels is observed.', 'No homogeneous area with vessels is observed.'), ('No homogeneous area with vessels is observed.', 'No homogeneous area with vessels is observed.', 'No homogeneous area with vessels is observed.', 'No homogeneous area with vessels is observed.', 'No homogeneous area with vessels is observed.'), ('No homogeneous area with vessels is observed.', 'No homogeneous area with vessels is observed.', 'No homogeneous area with vessels is observed.', 'No homogeneous area with vessels is observed.', 'No homogeneous area with vessels is observed.'), ('No homogeneous area with vessels is observed.', 'No homogeneous area with vessels is observed.', 'No homogeneous area with vessels is observed.', 'No homogeneous area with vessels is observed.', 'No homogeneous area with vessels is observed.'), ('Yes, clear undefined area is observed.', 'Yes, clear and dominant undefined area is observed.', 'Yes, clear and dominant undefined area is observed.', 'Yes, clear undefined area is observed.', 'No undefined area is observed.'), ('Yes, clear undefined area is observed.', 'Yes, clear and dominant undefined area is observed.', 'Yes, clear and dominant undefined area is observed.', 'Yes, clear undefined area is observed.', 'No undefined area is observed.'), ('Yes, clear undefined area is observed.', 'Yes, clear and dominant undefined area is observed.', 'Yes, clear and dominant undefined area is observed.', 'Yes, clear undefined area is observed.', 'No undefined area is observed.'), ('Yes, clear undefined area is observed.', 'Yes, clear and dominant undefined area is observed.', 'Yes, clear and dominant undefined area is observed.', 'Yes, clear undefined area is observed.', 'No undefined area is observed.'), ('Yes, clear undefined area is observed.', 'Yes, clear and dominant undefined area is observed.', 'Yes, clear and dominant undefined area is observed.', 'Yes, clear undefined area is observed.', 'No undefined area is observed.'), ('No gray regression is observed.', 'No gray regression is observed.', 'No gray regression is observed.', 'No gray regression is observed.', 'No gray regression is observed.'), ('No gray regression is observed.', 'No gray regression is observed.', 'No gray regression is observed.', 'No gray regression is observed.', 'No gray regression is observed.'), ('No gray regression is observed.', 'No gray regression is observed.', 'No gray regression is observed.', 'No gray regression is observed.', 'No gray regression is observed.'), ('No gray regression is observed.', 'No gray regression is observed.', 'No gray regression is observed.', 'No gray regression is observed.', 'No gray regression is observed.'), ('No gray regression is observed.', 'No gray regression is observed.', 'No gray regression is observed.', 'No gray regression is observed.', 'No gray regression is observed.'), ('No white regression is observed.', 'No white regression is observed.', 'No white regression is observed.', 'No white regression is observed.', 'No white regression is observed.'), ('No white regression is observed.', 'No white regression is observed.', 'No white regression is observed.', 'No white regression is observed.', 'No white regression is observed.'), ('No white regression is observed.', 'No white regression is observed.', 'No white regression is observed.', 'No white regression is observed.', 'No white regression is observed.'), ('No white regression is observed.', 'No white regression is observed.', 'No white regression is observed.', 'No white regression is observed.', 'No white regression is observed.'), ('No white regression is observed.', 'No white regression is observed.', 'No white regression is observed.', 'No white regression is observed.', 'No white regression is observed.'), ('No whitish blue veil is observed.', 'Yes, clear whitish blue veil is observed.', 'Yes, subtle whitish blue veil is observed.', 'No whitish blue veil is observed.', 'No whitish blue veil is observed.'), ('No whitish blue veil is observed.', 'Yes, clear whitish blue veil is observed.', 'Yes, subtle whitish blue veil is observed.', 'No whitish blue veil is observed.', 'No whitish blue veil is observed.'), ('No whitish blue veil is observed.', 'Yes, clear whitish blue veil is observed.', 'Yes, subtle whitish blue veil is observed.', 'No whitish blue veil is observed.', 'No whitish blue veil is observed.'), ('No whitish blue veil is observed.', 'Yes, clear whitish blue veil is observed.', 'Yes, subtle whitish blue veil is observed.', 'No whitish blue veil is observed.', 'No whitish blue veil is observed.'), ('No whitish blue veil is observed.', 'Yes, clear whitish blue veil is observed.', 'Yes, subtle whitish blue veil is observed.', 'No whitish blue veil is observed.', 'No whitish blue veil is observed.'), ('No chrysalis is observed.', 'No chrysalis is observed.', 'Yes, clear chrysalis is observed.', 'No chrysalis is observed.', 'No chrysalis is observed.'), ('No chrysalis is observed.', 'No chrysalis is observed.', 'Yes, clear chrysalis is observed.', 'No chrysalis is observed.', 'No chrysalis is observed.'), ('No chrysalis is observed.', 'No chrysalis is observed.', 'Yes, clear chrysalis is observed.', 'No chrysalis is observed.', 'No chrysalis is observed.'), ('No chrysalis is observed.', 'No chrysalis is observed.', 'Yes, clear chrysalis is observed.', 'No chrysalis is observed.', 'No chrysalis is observed.'), ('No chrysalis is observed.', 'No chrysalis is observed.', 'Yes, clear chrysalis is observed.', 'No chrysalis is observed.', 'No chrysalis is observed.')]\n"
          ]
        },
        {
          "output_type": "display_data",
          "data": {
            "text/plain": [
              "<Figure size 640x480 with 1 Axes>"
            ],
            "image/png": "[encoded data removed]"
          },
          "metadata": {}
        },
        {
          "output_type": "stream",
          "name": "stdout",
          "text": [
            "1 [('The general silhouette of the lesion is flat.', 'The general silhouette of the lesion is flat.', 'The general silhouette of the lesion is flattened elevated.', 'The general silhouette of the lesion is flat.', 'The general silhouette of the lesion is flat.'), ('The general silhouette of the lesion is flat.', 'The general silhouette of the lesion is flat.', 'The general silhouette of the lesion is flattened elevated.', 'The general silhouette of the lesion is flat.', 'The general silhouette of the lesion is flat.'), ('The general silhouette of the lesion is flat.', 'The general silhouette of the lesion is flat.', 'The general silhouette of the lesion is flattened elevated.', 'The general silhouette of the lesion is flat.', 'The general silhouette of the lesion is flat.'), ('The general silhouette of the lesion is flat.', 'The general silhouette of the lesion is flat.', 'The general silhouette of the lesion is flattened elevated.', 'The general silhouette of the lesion is flat.', 'The general silhouette of the lesion is flat.'), ('The general silhouette of the lesion is flat.', 'The general silhouette of the lesion is flat.', 'The general silhouette of the lesion is flattened elevated.', 'The general silhouette of the lesion is flat.', 'The general silhouette of the lesion is flat.'), ('The histology diagnostic indicates non-atypical stable mole (m).', 'The histology diagnostic indicates non-atypical stable mole (m).', 'The histology diagnostic indicates reed nevus (nr).', 'The histology diagnostic indicates non-atypical stable mole (m).', 'The histology diagnostic indicates melanoma in situ (mis).'), ('The histology diagnostic indicates non-atypical stable mole (m).', 'The histology diagnostic indicates non-atypical stable mole (m).', 'The histology diagnostic indicates reed nevus (nr).', 'The histology diagnostic indicates non-atypical stable mole (m).', 'The histology diagnostic indicates melanoma in situ (mis).'), ('The histology diagnostic indicates non-atypical stable mole (m).', 'The histology diagnostic indicates non-atypical stable mole (m).', 'The histology diagnostic indicates reed nevus (nr).', 'The histology diagnostic indicates non-atypical stable mole (m).', 'The histology diagnostic indicates melanoma in situ (mis).'), ('The histology diagnostic indicates non-atypical stable mole (m).', 'The histology diagnostic indicates non-atypical stable mole (m).', 'The histology diagnostic indicates reed nevus (nr).', 'The histology diagnostic indicates non-atypical stable mole (m).', 'The histology diagnostic indicates melanoma in situ (mis).'), ('The histology diagnostic indicates non-atypical stable mole (m).', 'The histology diagnostic indicates non-atypical stable mole (m).', 'The histology diagnostic indicates reed nevus (nr).', 'The histology diagnostic indicates non-atypical stable mole (m).', 'The histology diagnostic indicates melanoma in situ (mis).'), ('The presence of dysplasia is not applicable.', 'The presence of dysplasia is not applicable.', 'The presence of dysplasia is not applicable.', 'The presence of dysplasia is not applicable.', 'The presence of dysplasia is not applicable.'), ('The presence of dysplasia is not applicable.', 'The presence of dysplasia is not applicable.', 'The presence of dysplasia is not applicable.', 'The presence of dysplasia is not applicable.', 'The presence of dysplasia is not applicable.'), ('The presence of dysplasia is not applicable.', 'The presence of dysplasia is not applicable.', 'The presence of dysplasia is not applicable.', 'The presence of dysplasia is not applicable.', 'The presence of dysplasia is not applicable.'), ('The presence of dysplasia is not applicable.', 'The presence of dysplasia is not applicable.', 'The presence of dysplasia is not applicable.', 'The presence of dysplasia is not applicable.', 'The presence of dysplasia is not applicable.'), ('The presence of dysplasia is not applicable.', 'The presence of dysplasia is not applicable.', 'The presence of dysplasia is not applicable.', 'The presence of dysplasia is not applicable.', 'The presence of dysplasia is not applicable.'), ('The diagnostic impression is non-atypical mole.', 'The diagnostic impression is non-atypical mole.', 'The diagnostic impression is spitz/reed nevus.', 'The diagnostic impression is atypical mole.', 'The diagnostic impression is atypical mole.'), ('The diagnostic impression is non-atypical mole.', 'The diagnostic impression is non-atypical mole.', 'The diagnostic impression is spitz/reed nevus.', 'The diagnostic impression is atypical mole.', 'The diagnostic impression is atypical mole.'), ('The diagnostic impression is non-atypical mole.', 'The diagnostic impression is non-atypical mole.', 'The diagnostic impression is spitz/reed nevus.', 'The diagnostic impression is atypical mole.', 'The diagnostic impression is atypical mole.'), ('The diagnostic impression is non-atypical mole.', 'The diagnostic impression is non-atypical mole.', 'The diagnostic impression is spitz/reed nevus.', 'The diagnostic impression is atypical mole.', 'The diagnostic impression is atypical mole.'), ('The diagnostic impression is non-atypical mole.', 'The diagnostic impression is non-atypical mole.', 'The diagnostic impression is spitz/reed nevus.', 'The diagnostic impression is atypical mole.', 'The diagnostic impression is atypical mole.'), ('The diagnostic difficulty level is low.', 'The diagnostic difficulty level is low.', 'The diagnostic difficulty level is low.', 'The diagnostic difficulty level is low.', 'The diagnostic difficulty level is high.'), ('The diagnostic difficulty level is low.', 'The diagnostic difficulty level is low.', 'The diagnostic difficulty level is low.', 'The diagnostic difficulty level is low.', 'The diagnostic difficulty level is high.'), ('The diagnostic difficulty level is low.', 'The diagnostic difficulty level is low.', 'The diagnostic difficulty level is low.', 'The diagnostic difficulty level is low.', 'The diagnostic difficulty level is high.'), ('The diagnostic difficulty level is low.', 'The diagnostic difficulty level is low.', 'The diagnostic difficulty level is low.', 'The diagnostic difficulty level is low.', 'The diagnostic difficulty level is high.'), ('The diagnostic difficulty level is low.', 'The diagnostic difficulty level is low.', 'The diagnostic difficulty level is low.', 'The diagnostic difficulty level is low.', 'The diagnostic difficulty level is high.'), ('The lesion has been not excised.', 'The lesion has been not excised.', 'The lesion has been first consultation.', 'The lesion has been not excised.', 'The lesion has been first consultation.'), ('The lesion has been not excised.', 'The lesion has been not excised.', 'The lesion has been first consultation.', 'The lesion has been not excised.', 'The lesion has been first consultation.'), ('The lesion has been not excised.', 'The lesion has been not excised.', 'The lesion has been first consultation.', 'The lesion has been not excised.', 'The lesion has been first consultation.'), ('The lesion has been not excised.', 'The lesion has been not excised.', 'The lesion has been first consultation.', 'The lesion has been not excised.', 'The lesion has been first consultation.'), ('The lesion has been not excised.', 'The lesion has been not excised.', 'The lesion has been first consultation.', 'The lesion has been not excised.', 'The lesion has been first consultation.'), ('The global pattern of the lesion is diffuse reticular.', 'The global pattern of the lesion is diffuse reticular.', 'The global pattern of the lesion is mixed (mix of two of the above).', 'The global pattern of the lesion is diffuse reticular.', 'The global pattern of the lesion is mixed (mix of two of the above).'), ('The global pattern of the lesion is diffuse reticular.', 'The global pattern of the lesion is diffuse reticular.', 'The global pattern of the lesion is mixed (mix of two of the above).', 'The global pattern of the lesion is diffuse reticular.', 'The global pattern of the lesion is mixed (mix of two of the above).'), ('The global pattern of the lesion is diffuse reticular.', 'The global pattern of the lesion is diffuse reticular.', 'The global pattern of the lesion is mixed (mix of two of the above).', 'The global pattern of the lesion is diffuse reticular.', 'The global pattern of the lesion is mixed (mix of two of the above).'), ('The global pattern of the lesion is diffuse reticular.', 'The global pattern of the lesion is diffuse reticular.', 'The global pattern of the lesion is mixed (mix of two of the above).', 'The global pattern of the lesion is diffuse reticular.', 'The global pattern of the lesion is mixed (mix of two of the above).'), ('The global pattern of the lesion is diffuse reticular.', 'The global pattern of the lesion is diffuse reticular.', 'The global pattern of the lesion is mixed (mix of two of the above).', 'The global pattern of the lesion is diffuse reticular.', 'The global pattern of the lesion is mixed (mix of two of the above).'), ('The peripheral globular pattern is absent.', 'The peripheral globular pattern is absent.', 'The peripheral globular pattern is absent.', 'The peripheral globular pattern is absent.', 'The peripheral globular pattern is absent.'), ('The peripheral globular pattern is absent.', 'The peripheral globular pattern is absent.', 'The peripheral globular pattern is absent.', 'The peripheral globular pattern is absent.', 'The peripheral globular pattern is absent.'), ('The peripheral globular pattern is absent.', 'The peripheral globular pattern is absent.', 'The peripheral globular pattern is absent.', 'The peripheral globular pattern is absent.', 'The peripheral globular pattern is absent.'), ('The peripheral globular pattern is absent.', 'The peripheral globular pattern is absent.', 'The peripheral globular pattern is absent.', 'The peripheral globular pattern is absent.', 'The peripheral globular pattern is absent.'), ('The peripheral globular pattern is absent.', 'The peripheral globular pattern is absent.', 'The peripheral globular pattern is absent.', 'The peripheral globular pattern is absent.', 'The peripheral globular pattern is absent.'), ('The lesion is symmetric.', 'The lesion is symmetric.', 'The lesion is symmetric.', 'The lesion is asymmetric on one axis.', 'The lesion is asymmetric on one axis.'), ('The lesion is symmetric.', 'The lesion is symmetric.', 'The lesion is symmetric.', 'The lesion is asymmetric on one axis.', 'The lesion is asymmetric on one axis.'), ('The lesion is symmetric.', 'The lesion is symmetric.', 'The lesion is symmetric.', 'The lesion is asymmetric on one axis.', 'The lesion is asymmetric on one axis.'), ('The lesion is symmetric.', 'The lesion is symmetric.', 'The lesion is symmetric.', 'The lesion is asymmetric on one axis.', 'The lesion is asymmetric on one axis.'), ('The lesion is symmetric.', 'The lesion is symmetric.', 'The lesion is symmetric.', 'The lesion is asymmetric on one axis.', 'The lesion is asymmetric on one axis.'), ('Yes, clear and dominant pigmented reticulum is observed.', 'Yes, clear and dominant pigmented reticulum is observed.', 'Yes, subtle pigmented reticulum is observed.', 'Yes, clear and dominant pigmented reticulum is observed.', 'Yes, clear and dominant pigmented reticulum is observed.'), ('Yes, clear and dominant pigmented reticulum is observed.', 'Yes, clear and dominant pigmented reticulum is observed.', 'Yes, subtle pigmented reticulum is observed.', 'Yes, clear and dominant pigmented reticulum is observed.', 'Yes, clear and dominant pigmented reticulum is observed.'), ('Yes, clear and dominant pigmented reticulum is observed.', 'Yes, clear and dominant pigmented reticulum is observed.', 'Yes, subtle pigmented reticulum is observed.', 'Yes, clear and dominant pigmented reticulum is observed.', 'Yes, clear and dominant pigmented reticulum is observed.'), ('Yes, clear and dominant pigmented reticulum is observed.', 'Yes, clear and dominant pigmented reticulum is observed.', 'Yes, subtle pigmented reticulum is observed.', 'Yes, clear and dominant pigmented reticulum is observed.', 'Yes, clear and dominant pigmented reticulum is observed.'), ('Yes, clear and dominant pigmented reticulum is observed.', 'Yes, clear and dominant pigmented reticulum is observed.', 'Yes, subtle pigmented reticulum is observed.', 'Yes, clear and dominant pigmented reticulum is observed.', 'Yes, clear and dominant pigmented reticulum is observed.'), ('No negative reticulum is observed.', 'No negative reticulum is observed.', 'No negative reticulum is observed.', 'No negative reticulum is observed.', 'No negative reticulum is observed.'), ('No negative reticulum is observed.', 'No negative reticulum is observed.', 'No negative reticulum is observed.', 'No negative reticulum is observed.', 'No negative reticulum is observed.'), ('No negative reticulum is observed.', 'No negative reticulum is observed.', 'No negative reticulum is observed.', 'No negative reticulum is observed.', 'No negative reticulum is observed.'), ('No negative reticulum is observed.', 'No negative reticulum is observed.', 'No negative reticulum is observed.', 'No negative reticulum is observed.', 'No negative reticulum is observed.'), ('No negative reticulum is observed.', 'No negative reticulum is observed.', 'No negative reticulum is observed.', 'No negative reticulum is observed.', 'No negative reticulum is observed.'), ('No small dots/globules are present.', 'No small dots/globules are present.', 'No small dots/globules are present.', 'No small dots/globules are present.', 'No small dots/globules are present.'), ('No small dots/globules are present.', 'No small dots/globules are present.', 'No small dots/globules are present.', 'No small dots/globules are present.', 'No small dots/globules are present.'), ('No small dots/globules are present.', 'No small dots/globules are present.', 'No small dots/globules are present.', 'No small dots/globules are present.', 'No small dots/globules are present.'), ('No small dots/globules are present.', 'No small dots/globules are present.', 'No small dots/globules are present.', 'No small dots/globules are present.', 'No small dots/globules are present.'), ('No small dots/globules are present.', 'No small dots/globules are present.', 'No small dots/globules are present.', 'No small dots/globules are present.', 'No small dots/globules are present.'), (' large globules/cobblestone are observed.', 'No large globules/cobblestone are observed.', 'No large globules/cobblestone are observed.', 'No large globules/cobblestone are observed.', 'No large globules/cobblestone are observed.'), (' large globules/cobblestone are observed.', 'No large globules/cobblestone are observed.', 'No large globules/cobblestone are observed.', 'No large globules/cobblestone are observed.', 'No large globules/cobblestone are observed.'), (' large globules/cobblestone are observed.', 'No large globules/cobblestone are observed.', 'No large globules/cobblestone are observed.', 'No large globules/cobblestone are observed.', 'No large globules/cobblestone are observed.'), (' large globules/cobblestone are observed.', 'No large globules/cobblestone are observed.', 'No large globules/cobblestone are observed.', 'No large globules/cobblestone are observed.', 'No large globules/cobblestone are observed.'), (' large globules/cobblestone are observed.', 'No large globules/cobblestone are observed.', 'No large globules/cobblestone are observed.', 'No large globules/cobblestone are observed.', 'No large globules/cobblestone are observed.'), ('No peripheral globules are observed.', 'No peripheral globules are observed.', 'No peripheral globules are observed.', 'No peripheral globules are observed.', 'No peripheral globules are observed.'), ('No peripheral globules are observed.', 'No peripheral globules are observed.', 'No peripheral globules are observed.', 'No peripheral globules are observed.', 'No peripheral globules are observed.'), ('No peripheral globules are observed.', 'No peripheral globules are observed.', 'No peripheral globules are observed.', 'No peripheral globules are observed.', 'No peripheral globules are observed.'), ('No peripheral globules are observed.', 'No peripheral globules are observed.', 'No peripheral globules are observed.', 'No peripheral globules are observed.', 'No peripheral globules are observed.'), ('No peripheral globules are observed.', 'No peripheral globules are observed.', 'No peripheral globules are observed.', 'No peripheral globules are observed.', 'No peripheral globules are observed.'), ('No peripheral projections are present.', 'No peripheral projections are present.', 'No peripheral projections are present.', 'No peripheral projections are present.', 'No peripheral projections are present.'), ('No peripheral projections are present.', 'No peripheral projections are present.', 'No peripheral projections are present.', 'No peripheral projections are present.', 'No peripheral projections are present.'), ('No peripheral projections are present.', 'No peripheral projections are present.', 'No peripheral projections are present.', 'No peripheral projections are present.', 'No peripheral projections are present.'), ('No peripheral projections are present.', 'No peripheral projections are present.', 'No peripheral projections are present.', 'No peripheral projections are present.', 'No peripheral projections are present.'), ('No peripheral projections are present.', 'No peripheral projections are present.', 'No peripheral projections are present.', 'No peripheral projections are present.', 'No peripheral projections are present.'), ('No homogeneous area without vessels is observed.', 'No homogeneous area without vessels is observed.', 'Yes, clear and dominant homogeneous area without vessels is observed.', 'No homogeneous area without vessels is observed.', 'No homogeneous area without vessels is observed.'), ('No homogeneous area without vessels is observed.', 'No homogeneous area without vessels is observed.', 'Yes, clear and dominant homogeneous area without vessels is observed.', 'No homogeneous area without vessels is observed.', 'No homogeneous area without vessels is observed.'), ('No homogeneous area without vessels is observed.', 'No homogeneous area without vessels is observed.', 'Yes, clear and dominant homogeneous area without vessels is observed.', 'No homogeneous area without vessels is observed.', 'No homogeneous area without vessels is observed.'), ('No homogeneous area without vessels is observed.', 'No homogeneous area without vessels is observed.', 'Yes, clear and dominant homogeneous area without vessels is observed.', 'No homogeneous area without vessels is observed.', 'No homogeneous area without vessels is observed.'), ('No homogeneous area without vessels is observed.', 'No homogeneous area without vessels is observed.', 'Yes, clear and dominant homogeneous area without vessels is observed.', 'No homogeneous area without vessels is observed.', 'No homogeneous area without vessels is observed.'), ('No homogeneous area with vessels is observed.', 'No homogeneous area with vessels is observed.', 'No homogeneous area with vessels is observed.', 'No homogeneous area with vessels is observed.', 'No homogeneous area with vessels is observed.'), ('No homogeneous area with vessels is observed.', 'No homogeneous area with vessels is observed.', 'No homogeneous area with vessels is observed.', 'No homogeneous area with vessels is observed.', 'No homogeneous area with vessels is observed.'), ('No homogeneous area with vessels is observed.', 'No homogeneous area with vessels is observed.', 'No homogeneous area with vessels is observed.', 'No homogeneous area with vessels is observed.', 'No homogeneous area with vessels is observed.'), ('No homogeneous area with vessels is observed.', 'No homogeneous area with vessels is observed.', 'No homogeneous area with vessels is observed.', 'No homogeneous area with vessels is observed.', 'No homogeneous area with vessels is observed.'), ('No homogeneous area with vessels is observed.', 'No homogeneous area with vessels is observed.', 'No homogeneous area with vessels is observed.', 'No homogeneous area with vessels is observed.', 'No homogeneous area with vessels is observed.'), ('No undefined area is observed.', 'No undefined area is observed.', 'Yes, subtle undefined area is observed.', 'No undefined area is observed.', 'Yes, subtle undefined area is observed.'), ('No undefined area is observed.', 'No undefined area is observed.', 'Yes, subtle undefined area is observed.', 'No undefined area is observed.', 'Yes, subtle undefined area is observed.'), ('No undefined area is observed.', 'No undefined area is observed.', 'Yes, subtle undefined area is observed.', 'No undefined area is observed.', 'Yes, subtle undefined area is observed.'), ('No undefined area is observed.', 'No undefined area is observed.', 'Yes, subtle undefined area is observed.', 'No undefined area is observed.', 'Yes, subtle undefined area is observed.'), ('No undefined area is observed.', 'No undefined area is observed.', 'Yes, subtle undefined area is observed.', 'No undefined area is observed.', 'Yes, subtle undefined area is observed.'), ('No gray regression is observed.', 'No gray regression is observed.', 'No gray regression is observed.', 'No gray regression is observed.', 'No gray regression is observed.'), ('No gray regression is observed.', 'No gray regression is observed.', 'No gray regression is observed.', 'No gray regression is observed.', 'No gray regression is observed.'), ('No gray regression is observed.', 'No gray regression is observed.', 'No gray regression is observed.', 'No gray regression is observed.', 'No gray regression is observed.'), ('No gray regression is observed.', 'No gray regression is observed.', 'No gray regression is observed.', 'No gray regression is observed.', 'No gray regression is observed.'), ('No gray regression is observed.', 'No gray regression is observed.', 'No gray regression is observed.', 'No gray regression is observed.', 'No gray regression is observed.'), ('No white regression is observed.', 'No white regression is observed.', 'No white regression is observed.', 'No white regression is observed.', 'No white regression is observed.'), ('No white regression is observed.', 'No white regression is observed.', 'No white regression is observed.', 'No white regression is observed.', 'No white regression is observed.'), ('No white regression is observed.', 'No white regression is observed.', 'No white regression is observed.', 'No white regression is observed.', 'No white regression is observed.'), ('No white regression is observed.', 'No white regression is observed.', 'No white regression is observed.', 'No white regression is observed.', 'No white regression is observed.'), ('No white regression is observed.', 'No white regression is observed.', 'No white regression is observed.', 'No white regression is observed.', 'No white regression is observed.'), ('No whitish blue veil is observed.', 'No whitish blue veil is observed.', 'Yes, subtle whitish blue veil is observed.', 'No whitish blue veil is observed.', 'No whitish blue veil is observed.'), ('No whitish blue veil is observed.', 'No whitish blue veil is observed.', 'Yes, subtle whitish blue veil is observed.', 'No whitish blue veil is observed.', 'No whitish blue veil is observed.'), ('No whitish blue veil is observed.', 'No whitish blue veil is observed.', 'Yes, subtle whitish blue veil is observed.', 'No whitish blue veil is observed.', 'No whitish blue veil is observed.'), ('No whitish blue veil is observed.', 'No whitish blue veil is observed.', 'Yes, subtle whitish blue veil is observed.', 'No whitish blue veil is observed.', 'No whitish blue veil is observed.'), ('No whitish blue veil is observed.', 'No whitish blue veil is observed.', 'Yes, subtle whitish blue veil is observed.', 'No whitish blue veil is observed.', 'No whitish blue veil is observed.'), ('No chrysalis is observed.', 'No chrysalis is observed.', 'No chrysalis is observed.', 'No chrysalis is observed.', 'No chrysalis is observed.'), ('No chrysalis is observed.', 'No chrysalis is observed.', 'No chrysalis is observed.', 'No chrysalis is observed.', 'No chrysalis is observed.'), ('No chrysalis is observed.', 'No chrysalis is observed.', 'No chrysalis is observed.', 'No chrysalis is observed.', 'No chrysalis is observed.'), ('No chrysalis is observed.', 'No chrysalis is observed.', 'No chrysalis is observed.', 'No chrysalis is observed.', 'No chrysalis is observed.'), ('No chrysalis is observed.', 'No chrysalis is observed.', 'No chrysalis is observed.', 'No chrysalis is observed.', 'No chrysalis is observed.')]\n"
          ]
        },
        {
          "output_type": "display_data",
          "data": {
            "text/plain": [
              "<Figure size 640x480 with 1 Axes>"
            ],
            "image/png": "[encoded data removed]"
          },
          "metadata": {}
        }
      ],
      "source": [
        "# Iterate over the dataloader and visualize batches\n",
        "for i_batch, sample_batched in enumerate(pizarro_dataloader):\n",
        "    print(i_batch, sample_batched[2])\n",
        "    show_batch(sample_batched)\n",
        "\n",
        "    # Show only the data of the 3rd batch and stop.\n",
        "    if i_batch == 1:\n",
        "        break"
      ]
    },
    {
      "cell_type": "markdown",
      "metadata": {
        "id": "uZQYNuFsKI3k"
      },
      "source": [
        "## Image Feature Extraction"
      ]
    },
    {
      "cell_type": "code",
      "execution_count": 32,
      "metadata": {
        "id": "XL6ILzWtlPEV"
      },
      "outputs": [],
      "source": [
        "def extract_image_features(model, dataloader):\n",
        "    model.eval()  # Set the model to evaluation mode\n",
        "    num_samples = len(dataloader.dataset)\n",
        "\n",
        "    # Get the output shape of the model\n",
        "    with torch.no_grad():\n",
        "        sample_input = next(iter(dataloader))[0].to(next(model.parameters()).device)\n",
        "        output_shape = model(sample_input).shape[1:]\n",
        "\n",
        "    # Calculate the total number of features\n",
        "    num_features = np.prod(output_shape)\n",
        "\n",
        "    features = np.zeros((num_samples, num_features), dtype=np.float32)\n",
        "    sample_idx = 0\n",
        "\n",
        "    with torch.no_grad():\n",
        "        for sample in dataloader:\n",
        "            # Get images\n",
        "            inputs = sample[0].to(device).float()\n",
        "\n",
        "            # Forward pass\n",
        "            outputs = model(inputs)\n",
        "\n",
        "            # Flatten the output tensor\n",
        "            outputs_flat = outputs.view(outputs.size(0), -1)\n",
        "\n",
        "            # Store features\n",
        "            batch_size = inputs.size(0)\n",
        "            features[sample_idx:sample_idx + batch_size, :] = outputs_flat.cpu().numpy()\n",
        "            sample_idx += batch_size\n",
        "\n",
        "    return torch.tensor(features, device=device)"
      ]
    },
    {
      "cell_type": "code",
      "execution_count": 33,
      "metadata": {
        "id": "F9gqOoAOdYQ_"
      },
      "outputs": [],
      "source": [
        "# features_pizarro = extract_image_features(resnet, pizarro_dataloader)"
      ]
    },
    {
      "cell_type": "code",
      "execution_count": 34,
      "metadata": {
        "id": "Ey1rr3KGiNYm"
      },
      "outputs": [],
      "source": [
        "# features_pizarro"
      ]
    },
    {
      "cell_type": "code",
      "source": [
        "# Function to print GPU memory usage\n",
        "def print_gpu_memory():\n",
        "    print(f\"Memory allocated: {torch.cuda.memory_allocated() / 1024**2:.2f} MB\")\n",
        "    print(f\"Memory reserved: {torch.cuda.memory_reserved() / 1024**2:.2f} MB\")"
      ],
      "metadata": {
        "id": "6EeNiyfjCzIi"
      },
      "execution_count": 37,
      "outputs": []
    },
    {
      "cell_type": "markdown",
      "metadata": {
        "id": "w4HfihfzJ3a6"
      },
      "source": [
        "## VQA Model Creation"
      ]
    },
    {
      "cell_type": "code",
      "source": [
        "class VQAModel(nn.Module):\n",
        "    def __init__(self, resnet, vlm, tokenizer):\n",
        "        super(VQAModel, self).__init__()\n",
        "\n",
        "        # Pre-trained ResNet model\n",
        "        self.resnet = resnet\n",
        "        # Vision Language Model\n",
        "        self.vlm = vlm\n",
        "        # Tokenizer\n",
        "        self.tokenizer = tokenizer\n",
        "        # Freeze parameters of the ResNet model\n",
        "        for param in self.resnet.parameters():\n",
        "            param.requires_grad = False\n",
        "\n",
        "    def forward(self, image_features, question, labels_idxs=None, training=False):\n",
        "\n",
        "        # image_features -> array with visual features for the specific image\n",
        "        # question -> individual question within the image batch\n",
        "        # labels_idx -> tensor with shape (0, ..., num_labels-1)\n",
        "        # training; boolean to determine the mode (train/evaluation)\n",
        "\n",
        "\n",
        "        # Prepare image inputs\n",
        "        visual_token_type_ids = torch.ones(image_features.shape[0], dtype=torch.long, device=device)\n",
        "        visual_attention_mask = torch.ones(image_features.shape[0], dtype=torch.float, device=device)\n",
        "\n",
        "        # Tokenize question\n",
        "        tokenized_question = self.tokenizer(question,\n",
        "                                            return_token_type_ids=True,\n",
        "                                            return_attention_mask=True,\n",
        "                                            add_special_tokens=True,\n",
        "                                            return_tensors='pt')\n",
        "\n",
        "        # Input for the VLM model (refer to VisualBert to understand the shapes)\n",
        "        input_dict = {\n",
        "            \"visual_embeds\": image_features.unsqueeze(0),\n",
        "            \"visual_token_type_ids\": visual_token_type_ids.unsqueeze(0),\n",
        "            \"visual_attention_mask\": visual_attention_mask.unsqueeze(0),\n",
        "            \"input_ids\": tokenized_question['input_ids'].to(device),\n",
        "            \"token_type_ids\": tokenized_question['token_type_ids'].to(device),\n",
        "            \"attention_mask\": tokenized_question['attention_mask'].to(device),\n",
        "        }\n",
        "\n",
        "        # Training mode: track gradients\n",
        "        if training:\n",
        "\n",
        "            output = self.vlm(**input_dict, labels=labels_idxs)\n",
        "            logits = output.logits\n",
        "            loss = output.loss\n",
        "\n",
        "            del output\n",
        "\n",
        "        # Evaluation mode: no gradients\n",
        "        else:\n",
        "            with torch.no_grad():\n",
        "                output = self.vlm(**input_dict)\n",
        "                logits = output.logits\n",
        "\n",
        "        # # Check for memory usage\n",
        "        # print_gpu_memory()\n",
        "\n",
        "        return logits, loss"
      ],
      "metadata": {
        "id": "prExKkef7FWm"
      },
      "execution_count": 75,
      "outputs": []
    },
    {
      "cell_type": "markdown",
      "metadata": {
        "id": "Y-E0LJNJRyTG"
      },
      "source": [
        "### Define LLM & Tokenizer"
      ]
    },
    {
      "cell_type": "code",
      "execution_count": 76,
      "metadata": {
        "id": "mNvUgKd7R44i"
      },
      "outputs": [],
      "source": [
        "# Pre-trained base case for VQA provided in documentation\n",
        "# tokenizer = AutoTokenizer.from_pretrained(\"deepset/bert-base-cased-squad2\")\n",
        "# bertModel = BertForQuestionAnswering.from_pretrained(\"deepset/bert-base-cased-squad2\")\n",
        "tokenizer = AutoTokenizer.from_pretrained(\"google-bert/bert-base-uncased\")\n",
        "# Modify the visual embedding config so that size of the features matches\n",
        "configuration = VisualBertConfig.from_pretrained(\"uclanlp/visualbert-vqa\",\n",
        "                                                 visual_embedding_dim=512,\n",
        "                                                 num_labels=answers_ids_tensor.shape[0])\n",
        "visualBert = VisualBertForQuestionAnswering(configuration)"
      ]
    },
    {
      "cell_type": "markdown",
      "metadata": {
        "id": "uzfYKLV5RrVi"
      },
      "source": [
        "## Training Loop"
      ]
    },
    {
      "cell_type": "code",
      "execution_count": 105,
      "metadata": {
        "id": "npW_X4I3c8dI"
      },
      "outputs": [],
      "source": [
        "# Create the VQA Model and pass it to the GPU\n",
        "vqa_model = VQAModel(resnet, visualBert, tokenizer)"
      ]
    },
    {
      "cell_type": "code",
      "execution_count": 106,
      "metadata": {
        "id": "NVeBMAK4dQuQ",
        "outputId": "c5f527b7-45e3-4479-e1a3-39901728a64a",
        "colab": {
          "base_uri": "https://localhost:8080/"
        }
      },
      "outputs": [
        {
          "output_type": "execute_result",
          "data": {
            "text/plain": [
              "VQAModel(\n",
              "  (resnet): ResNet(\n",
              "    (conv1): Conv2d(3, 64, kernel_size=(7, 7), stride=(2, 2), padding=(3, 3), bias=False)\n",
              "    (bn1): BatchNorm2d(64, eps=1e-05, momentum=0.1, affine=True, track_running_stats=True)\n",
              "    (relu): ReLU(inplace=True)\n",
              "    (maxpool): MaxPool2d(kernel_size=3, stride=2, padding=1, dilation=1, ceil_mode=False)\n",
              "    (layer1): Sequential(\n",
              "      (0): BasicBlock(\n",
              "        (conv1): Conv2d(64, 64, kernel_size=(3, 3), stride=(1, 1), padding=(1, 1), bias=False)\n",
              "        (bn1): BatchNorm2d(64, eps=1e-05, momentum=0.1, affine=True, track_running_stats=True)\n",
              "        (relu): ReLU(inplace=True)\n",
              "        (conv2): Conv2d(64, 64, kernel_size=(3, 3), stride=(1, 1), padding=(1, 1), bias=False)\n",
              "        (bn2): BatchNorm2d(64, eps=1e-05, momentum=0.1, affine=True, track_running_stats=True)\n",
              "      )\n",
              "      (1): BasicBlock(\n",
              "        (conv1): Conv2d(64, 64, kernel_size=(3, 3), stride=(1, 1), padding=(1, 1), bias=False)\n",
              "        (bn1): BatchNorm2d(64, eps=1e-05, momentum=0.1, affine=True, track_running_stats=True)\n",
              "        (relu): ReLU(inplace=True)\n",
              "        (conv2): Conv2d(64, 64, kernel_size=(3, 3), stride=(1, 1), padding=(1, 1), bias=False)\n",
              "        (bn2): BatchNorm2d(64, eps=1e-05, momentum=0.1, affine=True, track_running_stats=True)\n",
              "      )\n",
              "    )\n",
              "    (layer2): Sequential(\n",
              "      (0): BasicBlock(\n",
              "        (conv1): Conv2d(64, 128, kernel_size=(3, 3), stride=(2, 2), padding=(1, 1), bias=False)\n",
              "        (bn1): BatchNorm2d(128, eps=1e-05, momentum=0.1, affine=True, track_running_stats=True)\n",
              "        (relu): ReLU(inplace=True)\n",
              "        (conv2): Conv2d(128, 128, kernel_size=(3, 3), stride=(1, 1), padding=(1, 1), bias=False)\n",
              "        (bn2): BatchNorm2d(128, eps=1e-05, momentum=0.1, affine=True, track_running_stats=True)\n",
              "        (downsample): Sequential(\n",
              "          (0): Conv2d(64, 128, kernel_size=(1, 1), stride=(2, 2), bias=False)\n",
              "          (1): BatchNorm2d(128, eps=1e-05, momentum=0.1, affine=True, track_running_stats=True)\n",
              "        )\n",
              "      )\n",
              "      (1): BasicBlock(\n",
              "        (conv1): Conv2d(128, 128, kernel_size=(3, 3), stride=(1, 1), padding=(1, 1), bias=False)\n",
              "        (bn1): BatchNorm2d(128, eps=1e-05, momentum=0.1, affine=True, track_running_stats=True)\n",
              "        (relu): ReLU(inplace=True)\n",
              "        (conv2): Conv2d(128, 128, kernel_size=(3, 3), stride=(1, 1), padding=(1, 1), bias=False)\n",
              "        (bn2): BatchNorm2d(128, eps=1e-05, momentum=0.1, affine=True, track_running_stats=True)\n",
              "      )\n",
              "    )\n",
              "    (layer3): Sequential(\n",
              "      (0): BasicBlock(\n",
              "        (conv1): Conv2d(128, 256, kernel_size=(3, 3), stride=(2, 2), padding=(1, 1), bias=False)\n",
              "        (bn1): BatchNorm2d(256, eps=1e-05, momentum=0.1, affine=True, track_running_stats=True)\n",
              "        (relu): ReLU(inplace=True)\n",
              "        (conv2): Conv2d(256, 256, kernel_size=(3, 3), stride=(1, 1), padding=(1, 1), bias=False)\n",
              "        (bn2): BatchNorm2d(256, eps=1e-05, momentum=0.1, affine=True, track_running_stats=True)\n",
              "        (downsample): Sequential(\n",
              "          (0): Conv2d(128, 256, kernel_size=(1, 1), stride=(2, 2), bias=False)\n",
              "          (1): BatchNorm2d(256, eps=1e-05, momentum=0.1, affine=True, track_running_stats=True)\n",
              "        )\n",
              "      )\n",
              "      (1): BasicBlock(\n",
              "        (conv1): Conv2d(256, 256, kernel_size=(3, 3), stride=(1, 1), padding=(1, 1), bias=False)\n",
              "        (bn1): BatchNorm2d(256, eps=1e-05, momentum=0.1, affine=True, track_running_stats=True)\n",
              "        (relu): ReLU(inplace=True)\n",
              "        (conv2): Conv2d(256, 256, kernel_size=(3, 3), stride=(1, 1), padding=(1, 1), bias=False)\n",
              "        (bn2): BatchNorm2d(256, eps=1e-05, momentum=0.1, affine=True, track_running_stats=True)\n",
              "      )\n",
              "    )\n",
              "    (layer4): Sequential(\n",
              "      (0): BasicBlock(\n",
              "        (conv1): Conv2d(256, 512, kernel_size=(3, 3), stride=(2, 2), padding=(1, 1), bias=False)\n",
              "        (bn1): BatchNorm2d(512, eps=1e-05, momentum=0.1, affine=True, track_running_stats=True)\n",
              "        (relu): ReLU(inplace=True)\n",
              "        (conv2): Conv2d(512, 512, kernel_size=(3, 3), stride=(1, 1), padding=(1, 1), bias=False)\n",
              "        (bn2): BatchNorm2d(512, eps=1e-05, momentum=0.1, affine=True, track_running_stats=True)\n",
              "        (downsample): Sequential(\n",
              "          (0): Conv2d(256, 512, kernel_size=(1, 1), stride=(2, 2), bias=False)\n",
              "          (1): BatchNorm2d(512, eps=1e-05, momentum=0.1, affine=True, track_running_stats=True)\n",
              "        )\n",
              "      )\n",
              "      (1): BasicBlock(\n",
              "        (conv1): Conv2d(512, 512, kernel_size=(3, 3), stride=(1, 1), padding=(1, 1), bias=False)\n",
              "        (bn1): BatchNorm2d(512, eps=1e-05, momentum=0.1, affine=True, track_running_stats=True)\n",
              "        (relu): ReLU(inplace=True)\n",
              "        (conv2): Conv2d(512, 512, kernel_size=(3, 3), stride=(1, 1), padding=(1, 1), bias=False)\n",
              "        (bn2): BatchNorm2d(512, eps=1e-05, momentum=0.1, affine=True, track_running_stats=True)\n",
              "      )\n",
              "    )\n",
              "    (avgpool): AdaptiveAvgPool2d(output_size=(1, 1))\n",
              "    (fc): Identity()\n",
              "  )\n",
              "  (vlm): VisualBertForQuestionAnswering(\n",
              "    (visual_bert): VisualBertModel(\n",
              "      (embeddings): VisualBertEmbeddings(\n",
              "        (word_embeddings): Embedding(30522, 768, padding_idx=1)\n",
              "        (position_embeddings): Embedding(512, 768)\n",
              "        (token_type_embeddings): Embedding(2, 768)\n",
              "        (LayerNorm): LayerNorm((768,), eps=1e-12, elementwise_affine=True)\n",
              "        (dropout): Dropout(p=0.1, inplace=False)\n",
              "        (visual_token_type_embeddings): Embedding(2, 768)\n",
              "        (visual_position_embeddings): Embedding(512, 768)\n",
              "        (visual_projection): Linear(in_features=512, out_features=768, bias=True)\n",
              "      )\n",
              "      (encoder): VisualBertEncoder(\n",
              "        (layer): ModuleList(\n",
              "          (0-11): 12 x VisualBertLayer(\n",
              "            (attention): VisualBertAttention(\n",
              "              (self): VisualBertSelfAttention(\n",
              "                (query): Linear(in_features=768, out_features=768, bias=True)\n",
              "                (key): Linear(in_features=768, out_features=768, bias=True)\n",
              "                (value): Linear(in_features=768, out_features=768, bias=True)\n",
              "                (dropout): Dropout(p=0.1, inplace=False)\n",
              "              )\n",
              "              (output): VisualBertSelfOutput(\n",
              "                (dense): Linear(in_features=768, out_features=768, bias=True)\n",
              "                (LayerNorm): LayerNorm((768,), eps=1e-12, elementwise_affine=True)\n",
              "                (dropout): Dropout(p=0.1, inplace=False)\n",
              "              )\n",
              "            )\n",
              "            (intermediate): VisualBertIntermediate(\n",
              "              (dense): Linear(in_features=768, out_features=3072, bias=True)\n",
              "              (intermediate_act_fn): GELUActivation()\n",
              "            )\n",
              "            (output): VisualBertOutput(\n",
              "              (dense): Linear(in_features=3072, out_features=768, bias=True)\n",
              "              (LayerNorm): LayerNorm((768,), eps=1e-12, elementwise_affine=True)\n",
              "              (dropout): Dropout(p=0.1, inplace=False)\n",
              "            )\n",
              "          )\n",
              "        )\n",
              "      )\n",
              "      (pooler): VisualBertPooler(\n",
              "        (dense): Linear(in_features=768, out_features=768, bias=True)\n",
              "        (activation): Tanh()\n",
              "      )\n",
              "    )\n",
              "    (dropout): Dropout(p=0.1, inplace=False)\n",
              "    (cls): Linear(in_features=768, out_features=102, bias=True)\n",
              "  )\n",
              ")"
            ]
          },
          "metadata": {},
          "execution_count": 106
        }
      ],
      "source": [
        "device = torch.device(\"cuda\" if torch.cuda.is_available() else \"cpu\")\n",
        "vqa_model.to(device)"
      ]
    },
    {
      "cell_type": "code",
      "execution_count": 94,
      "metadata": {
        "id": "rBFSlcm-dQiS"
      },
      "outputs": [],
      "source": [
        "# Define hyperparameters\n",
        "learning_rate = 1e-4\n",
        "num_epochs = 4"
      ]
    },
    {
      "cell_type": "code",
      "execution_count": 107,
      "metadata": {
        "id": "xrFgqLKddlJk"
      },
      "outputs": [],
      "source": [
        "# Define optimizer\n",
        "optimizer = torch.optim.Adam(filter(lambda p: p.requires_grad, vqa_model.parameters()), lr=learning_rate)"
      ]
    },
    {
      "cell_type": "code",
      "source": [
        "# Extract all image features for the dataloader\n",
        "with torch.no_grad():\n",
        "    image_features = extract_image_features(vqa_model.resnet, pizarro_dataloader)"
      ],
      "metadata": {
        "id": "Gz8cJxSB9NYq"
      },
      "execution_count": 96,
      "outputs": []
    },
    {
      "cell_type": "code",
      "source": [
        "image_features"
      ],
      "metadata": {
        "colab": {
          "base_uri": "https://localhost:8080/"
        },
        "id": "Dq7tFNabFWxC",
        "outputId": "72e55c07-c6b1-432b-c126-fc1716b27d1a"
      },
      "execution_count": 97,
      "outputs": [
        {
          "output_type": "execute_result",
          "data": {
            "text/plain": [
              "tensor([[0.0064, 0.6662, 0.7648,  ..., 1.0083, 0.7114, 0.4031],\n",
              "        [0.5917, 0.7600, 0.5522,  ..., 0.6599, 0.0977, 1.0333],\n",
              "        [0.8228, 0.3287, 0.1375,  ..., 0.6152, 0.2585, 0.5332],\n",
              "        ...,\n",
              "        [0.2393, 1.0409, 0.2324,  ..., 1.1711, 0.7257, 0.7865],\n",
              "        [0.3203, 1.4047, 0.6549,  ..., 0.4143, 1.7499, 0.6852],\n",
              "        [0.2599, 0.1020, 0.2589,  ..., 0.4287, 0.4862, 0.9428]],\n",
              "       device='cuda:0')"
            ]
          },
          "metadata": {},
          "execution_count": 97
        }
      ]
    },
    {
      "cell_type": "code",
      "source": [
        "# Set the model in training mode\n",
        "vqa_model.train()\n",
        "# Training loop\n",
        "for epoch in range(num_epochs):\n",
        "    total_loss = 0.0\n",
        "    num_batches = 0\n",
        "    text_results = []\n",
        "    for images, questions, answers in tqdm(pizarro_dataloader, desc=f'Epoch {epoch+1}/{num_epochs}', unit='batch'):\n",
        "\n",
        "        # Track batch loss\n",
        "        batch_loss = 0.0\n",
        "\n",
        "        # Transpose questions and answers\n",
        "        questions = np.transpose(questions)\n",
        "        answers = np.transpose(answers)\n",
        "        # Store shape for iteration\n",
        "        num_images, num_questions_per_image = np.shape(questions)\n",
        "\n",
        "        # Iterate over all questions for each image\n",
        "        for image_idx in range(num_images):\n",
        "          for question_idx in range(num_questions_per_image):\n",
        "\n",
        "            # Avoid using previous gradients\n",
        "            optimizer.zero_grad()\n",
        "\n",
        "            #Forward pass\n",
        "            outputs, loss = vqa_model(image_features[image_idx], questions[image_idx,question_idx], answers_ids_tensor, training=True)\n",
        "\n",
        "            # Backpropagation\n",
        "            loss.backward()\n",
        "            optimizer.step()\n",
        "\n",
        "            batch_loss += loss.item() / (num_images * num_questions_per_image)\n",
        "\n",
        "            # Store the text predicted answers, the ground truth and corresponding question\n",
        "            probabilities = torch.softmax(outputs, dim=-1)\n",
        "            pred_idx = torch.argmax(probabilities, dim=-1)\n",
        "            pred_answer = id2label[pred_idx.item()]\n",
        "\n",
        "            text_results.append({\n",
        "                  \"Image ID\": image_idx,\n",
        "                  \"Question\": questions[image_idx,question_idx],\n",
        "                  \"Ground Truth\": answers[image_idx, question_idx],\n",
        "                  \"Prediction\": pred_answer\n",
        "                  })\n",
        "\n",
        "            # Remove unnecessary tensors from memory\n",
        "            del loss\n",
        "            del outputs\n",
        "\n",
        "        # Print batch loss\n",
        "        print(f\"Batch Loss: {batch_loss}\")\n",
        "\n",
        "        # Accumulate the total loss and num of batches\n",
        "        total_loss += batch_loss\n",
        "        num_batches += 1\n",
        "\n",
        "    # Aaverage training loss for the epoch\n",
        "    avg_loss = total_loss / num_batches\n",
        "    print(f\"Epoch {epoch + 1}, Average Loss: {avg_loss}\")\n",
        "\n",
        "    # Save trained model after each epoch\n",
        "    torch.save(vqa_model.state_dict(), f'trained_vqa_model_epoch{epoch+1}.pth')"
      ],
      "metadata": {
        "colab": {
          "base_uri": "https://localhost:8080/"
        },
        "id": "HeOUYMA052Cs",
        "outputId": "db71540b-349a-45df-db27-2a063ebf5fcb"
      },
      "execution_count": null,
      "outputs": [
        {
          "output_type": "stream",
          "name": "stderr",
          "text": [
            "Epoch 1/4:   1%|          | 1/100 [01:15<2:04:40, 75.56s/batch]"
          ]
        },
        {
          "output_type": "stream",
          "name": "stdout",
          "text": [
            "Batch Loss: 44035.17403409089\n"
          ]
        },
        {
          "output_type": "stream",
          "name": "stderr",
          "text": [
            "\rEpoch 1/4:   2%|▏         | 2/100 [02:31<2:03:49, 75.81s/batch]"
          ]
        },
        {
          "output_type": "stream",
          "name": "stdout",
          "text": [
            "Batch Loss: 44034.60358664771\n"
          ]
        },
        {
          "output_type": "stream",
          "name": "stderr",
          "text": [
            "\rEpoch 1/4:   3%|▎         | 3/100 [03:47<2:02:37, 75.85s/batch]"
          ]
        },
        {
          "output_type": "stream",
          "name": "stdout",
          "text": [
            "Batch Loss: 44033.31530539769\n"
          ]
        },
        {
          "output_type": "stream",
          "name": "stderr",
          "text": [
            "\rEpoch 1/4:   4%|▍         | 4/100 [05:03<2:01:24, 75.88s/batch]"
          ]
        },
        {
          "output_type": "stream",
          "name": "stdout",
          "text": [
            "Batch Loss: 44032.18056107949\n"
          ]
        },
        {
          "output_type": "stream",
          "name": "stderr",
          "text": [
            "\rEpoch 1/4:   5%|▌         | 5/100 [06:19<2:00:09, 75.89s/batch]"
          ]
        },
        {
          "output_type": "stream",
          "name": "stdout",
          "text": [
            "Batch Loss: 44031.80078835227\n"
          ]
        },
        {
          "output_type": "stream",
          "name": "stderr",
          "text": [
            "\rEpoch 1/4:   6%|▌         | 6/100 [07:35<1:58:54, 75.90s/batch]"
          ]
        },
        {
          "output_type": "stream",
          "name": "stdout",
          "text": [
            "Batch Loss: 44030.607223011364\n"
          ]
        },
        {
          "output_type": "stream",
          "name": "stderr",
          "text": [
            "\rEpoch 1/4:   7%|▋         | 7/100 [08:51<1:57:36, 75.88s/batch]"
          ]
        },
        {
          "output_type": "stream",
          "name": "stdout",
          "text": [
            "Batch Loss: 44029.74075994316\n"
          ]
        },
        {
          "output_type": "stream",
          "name": "stderr",
          "text": [
            "\rEpoch 1/4:   8%|▊         | 8/100 [10:06<1:56:22, 75.90s/batch]"
          ]
        },
        {
          "output_type": "stream",
          "name": "stdout",
          "text": [
            "Batch Loss: 44029.05699573864\n"
          ]
        },
        {
          "output_type": "stream",
          "name": "stderr",
          "text": [
            "\rEpoch 1/4:   9%|▉         | 9/100 [11:22<1:55:09, 75.93s/batch]"
          ]
        },
        {
          "output_type": "stream",
          "name": "stdout",
          "text": [
            "Batch Loss: 44028.33013494319\n"
          ]
        },
        {
          "output_type": "stream",
          "name": "stderr",
          "text": [
            "\rEpoch 1/4:  10%|█         | 10/100 [12:38<1:53:51, 75.91s/batch]"
          ]
        },
        {
          "output_type": "stream",
          "name": "stdout",
          "text": [
            "Batch Loss: 44027.868586647724\n"
          ]
        },
        {
          "output_type": "stream",
          "name": "stderr",
          "text": [
            "\rEpoch 1/4:  11%|█         | 11/100 [13:54<1:52:35, 75.90s/batch]"
          ]
        },
        {
          "output_type": "stream",
          "name": "stdout",
          "text": [
            "Batch Loss: 44027.37667613636\n"
          ]
        },
        {
          "output_type": "stream",
          "name": "stderr",
          "text": [
            "\rEpoch 1/4:  12%|█▏        | 12/100 [15:10<1:51:21, 75.92s/batch]"
          ]
        },
        {
          "output_type": "stream",
          "name": "stdout",
          "text": [
            "Batch Loss: 44027.95207386367\n"
          ]
        },
        {
          "output_type": "stream",
          "name": "stderr",
          "text": [
            "\rEpoch 1/4:  13%|█▎        | 13/100 [16:26<1:50:04, 75.91s/batch]"
          ]
        },
        {
          "output_type": "stream",
          "name": "stdout",
          "text": [
            "Batch Loss: 44027.319154829514\n"
          ]
        },
        {
          "output_type": "stream",
          "name": "stderr",
          "text": [
            "\rEpoch 1/4:  14%|█▍        | 14/100 [17:42<1:48:53, 75.97s/batch]"
          ]
        },
        {
          "output_type": "stream",
          "name": "stdout",
          "text": [
            "Batch Loss: 44026.70397727268\n"
          ]
        }
      ]
    },
    {
      "cell_type": "code",
      "source": [
        "# predictions = []\n",
        "# for image_idx in range(len(outputs)):\n",
        "#   image_answers = []\n",
        "#   for output in outputs[image_idx]:\n",
        "#       logits = output.logits\n",
        "#       probabilities = torch.softmax(logits, dim=-1)  # Apply softmax along the last dimension\n",
        "#       pred_index = torch.argmax(probabilities, dim=-1)  # Get the index of the maximum probability\n",
        "#       pred_label = id2label[pred_index.item()]\n",
        "#       image_answers.append(pred_label)\n",
        "#   predictions.append(image_answers)\n",
        "# predictions"
      ],
      "metadata": {
        "id": "yT4abmfGZWT2"
      },
      "execution_count": null,
      "outputs": []
    },
    {
      "cell_type": "code",
      "source": [
        "# for param in vqa_model.parameters():\n",
        "#       print(param.grad)"
      ],
      "metadata": {
        "id": "n7HOlCbka4uD"
      },
      "execution_count": null,
      "outputs": []
    }
  ],
  "metadata": {
    "accelerator": "GPU",
    "colab": {
      "gpuType": "T4",
      "provenance": [],
      "include_colab_link": true
    },
    "kernelspec": {
      "display_name": "Python 3",
      "name": "python3"
    },
    "language_info": {
      "name": "python"
    }
  },
  "nbformat": 4,
  "nbformat_minor": 0
}