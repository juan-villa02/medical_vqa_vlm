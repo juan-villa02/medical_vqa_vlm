{
  "cells": [
    {
      "cell_type": "markdown",
      "metadata": {
        "id": "view-in-github",
        "colab_type": "text"
      },
      "source": [
        "<a href=\"https://colab.research.google.com/github/juan-villa02/medical_vqa_vlm/blob/main/code/notebooks/train.ipynb\" target=\"_parent\"><img src=\"https://colab.research.google.com/assets/colab-badge.svg\" alt=\"Open In Colab\"/></a>"
      ]
    },
    {
      "cell_type": "markdown",
      "metadata": {
        "id": "9gIbSRmC_Q8o"
      },
      "source": [
        "# VQA Model - BERT + ResNet18"
      ]
    },
    {
      "cell_type": "markdown",
      "metadata": {
        "id": "nnubYJEE_g7f"
      },
      "source": [
        "## Libraries/Dependencies"
      ]
    },
    {
      "cell_type": "code",
      "execution_count": 1,
      "metadata": {
        "id": "JOxuYqd1_aMO"
      },
      "outputs": [],
      "source": [
        "# PyTorch framework\n",
        "import torch\n",
        "import torch.nn as nn\n",
        "import torch.nn.functional as F\n",
        "from torch.nn.utils.rnn import pad_sequence\n",
        "from torch.utils.data import DataLoader, Dataset\n",
        "import torchvision.transforms as transforms\n",
        "import torchvision.models as models\n",
        "import torchvision.utils as utils\n",
        "# Image handling\n",
        "from PIL import Image\n",
        "from skimage import transform\n",
        "# Transformers (Hugginface)\n",
        "from transformers import AutoTokenizer, BertForQuestionAnswering, VisualBertModel, VisualBertForQuestionAnswering, VisualBertConfig\n",
        "# Matplotlib\n",
        "import matplotlib.pyplot as plt\n",
        "# Numpy\n",
        "import numpy as np\n",
        "# Extra dependencies\n",
        "import json\n",
        "import os\n",
        "from tqdm import tqdm\n",
        "import zipfile"
      ]
    },
    {
      "cell_type": "code",
      "execution_count": 2,
      "metadata": {
        "colab": {
          "base_uri": "https://localhost:8080/"
        },
        "id": "d29Ogg0EBJgx",
        "outputId": "fb750c43-f1da-4de0-c818-312e28dc7492"
      },
      "outputs": [
        {
          "output_type": "stream",
          "name": "stdout",
          "text": [
            "cuda:0\n"
          ]
        }
      ],
      "source": [
        "# Set training device to GPU if available\n",
        "device = torch.device(\"cuda:0\" if torch.cuda.is_available() else \"cpu\")\n",
        "print(device)"
      ]
    },
    {
      "cell_type": "markdown",
      "metadata": {
        "id": "-5MQ2XccBctw"
      },
      "source": [
        "## Paths & Data Extraction"
      ]
    },
    {
      "cell_type": "code",
      "execution_count": 3,
      "metadata": {
        "colab": {
          "base_uri": "https://localhost:8080/"
        },
        "id": "4bhmZStTCxv4",
        "outputId": "7bbe0792-9052-435e-84a1-cb1b16232362"
      },
      "outputs": [
        {
          "output_type": "stream",
          "name": "stdout",
          "text": [
            "Drive already mounted at /content/drive; to attempt to forcibly remount, call drive.mount(\"/content/drive\", force_remount=True).\n"
          ]
        }
      ],
      "source": [
        "from google.colab import drive\n",
        "drive.mount('/content/drive')"
      ]
    },
    {
      "cell_type": "code",
      "execution_count": 4,
      "metadata": {
        "id": "Lhz88OSQBaIZ"
      },
      "outputs": [],
      "source": [
        "path_dir = '.'\n",
        "path_dir = '/content/drive/MyDrive/TFG Juan Villanueva/databases_qa.zip'"
      ]
    },
    {
      "cell_type": "code",
      "execution_count": 5,
      "metadata": {
        "id": "MB-bgRNCoPqN"
      },
      "outputs": [],
      "source": [
        "# Data folder\n",
        "data_folder = './data/'"
      ]
    },
    {
      "cell_type": "code",
      "execution_count": 6,
      "metadata": {
        "id": "-Nuib-S0pXlU"
      },
      "outputs": [],
      "source": [
        "# ISIC_2016 database (images)\n",
        "train_ISIC_path = 'databases_qa/ISIC_2016/images/ISBI2016_ISIC_Part3_Training_Data_orig'\n",
        "test_ISIC_path = 'bases de datos/ISIC_2016/images/ISBI2016_ISIC_Part1_Test_Data_orig'"
      ]
    },
    {
      "cell_type": "code",
      "execution_count": 7,
      "metadata": {
        "id": "gMjnxi-_p38f"
      },
      "outputs": [],
      "source": [
        "# Pizarro database (images)\n",
        "pizarro_path = 'databases_qa/pizarro/images'"
      ]
    },
    {
      "cell_type": "code",
      "execution_count": 8,
      "metadata": {
        "id": "vcY75F9to4XA"
      },
      "outputs": [],
      "source": [
        "# Function to extract databases from the main zip file\n",
        "def extract_databases(zip_path, extract_path):\n",
        "    with zipfile.ZipFile(zip_path, 'r') as zip_ref:\n",
        "        zip_ref.extractall(extract_path)"
      ]
    },
    {
      "cell_type": "code",
      "execution_count": 9,
      "metadata": {
        "id": "XecsY9GIlCDx"
      },
      "outputs": [],
      "source": [
        "# Extract all databases from the main zip file\n",
        "if path_dir != '.':\n",
        "  extract_databases(path_dir, data_folder)"
      ]
    },
    {
      "cell_type": "code",
      "execution_count": 10,
      "metadata": {
        "id": "IenAqE-1rKgD"
      },
      "outputs": [],
      "source": [
        "# ISIC_2016 images\n",
        "database1_train_path = os.path.join(data_folder, train_ISIC_path)\n",
        "database1_test_path = os.path.join(data_folder, test_ISIC_path)"
      ]
    },
    {
      "cell_type": "code",
      "execution_count": 11,
      "metadata": {
        "id": "Bfi5boA0s727"
      },
      "outputs": [],
      "source": [
        "# Pizarro images\n",
        "# 500 imágenes; Las 46 primeras son más complejas, en cuanto a diagnóstico. (Entrega 1) El resto están más equilibradas (Entrega 2-5)\n",
        "database2_path = os.path.join(data_folder, pizarro_path)"
      ]
    },
    {
      "cell_type": "markdown",
      "metadata": {
        "id": "SedFsMzrAegB"
      },
      "source": [
        "## VQA Dataset - Images & QA"
      ]
    },
    {
      "cell_type": "code",
      "execution_count": 12,
      "metadata": {
        "id": "_AUIrbp_w4CS"
      },
      "outputs": [],
      "source": [
        "# Dataset class to load images and questions\n",
        "class VQADataset(Dataset):\n",
        "    def __init__(self, data_dir, json_file, tokenizer=None, transform=None):\n",
        "        self.data_dir = data_dir\n",
        "        self.transform = transform\n",
        "        self.tokenizer = tokenizer\n",
        "\n",
        "        with open(json_file, 'r') as f:\n",
        "            self.data = json.load(f)\n",
        "\n",
        "    def __len__(self):\n",
        "        return len(self.data)\n",
        "\n",
        "    def __getitem__(self, idx):\n",
        "        item = self.data[idx]\n",
        "        image_path = os.path.join(self.data_dir, item['image_id'])\n",
        "\n",
        "        # Ensure the image ID ends with \".jpg\"\n",
        "        if not image_path.endswith(\".jpg\"):\n",
        "            image_path += \".jpg\"\n",
        "\n",
        "        image = Image.open(image_path).convert('RGB')\n",
        "\n",
        "        if self.transform:\n",
        "            image = self.transform(image)\n",
        "\n",
        "        # Store questions and answers in two different arrays\n",
        "        qa_pairs = item['qa_pairs']\n",
        "        questions = [qa['question'] for qa in qa_pairs]\n",
        "        answers = [qa['answer'] for qa in qa_pairs]\n",
        "\n",
        "        return image, questions, answers"
      ]
    },
    {
      "cell_type": "code",
      "execution_count": 13,
      "metadata": {
        "id": "eV9ivOizwN-r"
      },
      "outputs": [],
      "source": [
        "pizarroDataset = VQADataset(database2_path,'/content/data/databases_qa/pizarro/qa_pizarro.json')"
      ]
    },
    {
      "cell_type": "code",
      "execution_count": 14,
      "metadata": {
        "colab": {
          "base_uri": "https://localhost:8080/"
        },
        "id": "7b45i5PCxoA5",
        "outputId": "8da6450a-4ad7-4f8c-9473-c158cec39c79"
      },
      "outputs": [
        {
          "output_type": "execute_result",
          "data": {
            "text/plain": [
              "(<PIL.Image.Image image mode=RGB size=640x480>,\n",
              " ['Can you describe the general silhouette?',\n",
              "  'How would you characterize the overall silhouette?',\n",
              "  'What is the overall shape of the lesion?',\n",
              "  'Describe the silhouette of the lesion.',\n",
              "  'What does the silhouette of the lesion look like?',\n",
              "  'What is the histology diagnostic?',\n",
              "  'Could you provide the histological diagnosis?',\n",
              "  'What does the histology indicate?',\n",
              "  'Describe the histological diagnosis.',\n",
              "  'Based on histology, what is the diagnosis?',\n",
              "  'Can you see any dysplasia?',\n",
              "  'Is there any evidence of dysplasia?',\n",
              "  'Do you observe signs of dysplasia?',\n",
              "  'Describe the presence of dysplasia.',\n",
              "  'Is dysplasia present in the lesion?',\n",
              "  'What is the diagnostic impression?',\n",
              "  'Could you provide your impression of the diagnosis?',\n",
              "  'What impression do you have regarding the diagnosis?',\n",
              "  'Describe your overall diagnosis impression.',\n",
              "  'What are your thoughts on the diagnosis?',\n",
              "  'What is the diagnostic difficulty?',\n",
              "  'How challenging is the diagnosis?',\n",
              "  'Can you assess the difficulty of the diagnosis?',\n",
              "  'Describe the level of difficulty in the diagnosis.',\n",
              "  'How difficult is it to make the diagnosis?',\n",
              "  'Is there any excision?',\n",
              "  'Has the lesion been excised?',\n",
              "  'Was excision performed on the lesion?',\n",
              "  'Describe any excision performed.',\n",
              "  'Was the lesion removed by excision?',\n",
              "  'How is the global pattern?',\n",
              "  'Can you describe the overall pattern?',\n",
              "  'Describe the pattern observed globally.',\n",
              "  'What is the pattern like throughout the lesion?',\n",
              "  'What patterns are present in the entire lesion?',\n",
              "  'How is the peripheral globular pattern?',\n",
              "  'Describe the presence of peripheral globular pattern.',\n",
              "  'Is there any peripheral globular pattern observed?',\n",
              "  'What is the pattern like at the periphery?',\n",
              "  'Are there globular patterns around the edges?',\n",
              "  'Is there any symmetry pattern?',\n",
              "  'How would you describe the symmetry?',\n",
              "  'Describe the symmetry of the lesion.',\n",
              "  'Is the lesion symmetric or asymmetric?',\n",
              "  'Can you assess the symmetry of the lesion?',\n",
              "  'Can you identify any pigmented reticulum?',\n",
              "  'Do you observe pigmented reticulum?',\n",
              "  'Describe the presence of pigmented reticulum.',\n",
              "  'Are there any signs of pigmented reticulum?',\n",
              "  'What about pigmented reticulum in the lesion?',\n",
              "  'Can you identify any negative reticulum?',\n",
              "  'Do you observe negative reticulum?',\n",
              "  'Describe the presence of negative reticulum.',\n",
              "  'Are there any signs of negative reticulum?',\n",
              "  'What about negative reticulum in the lesion?',\n",
              "  'Can you identify any small dots/globules?',\n",
              "  'Do you see any small dots/globules?',\n",
              "  'Describe the presence of small dots/globules.',\n",
              "  'Are there any signs of small dots/globules?',\n",
              "  'What about small dots/globules in the lesion?',\n",
              "  'Can you identify any large globules/cobblestone?',\n",
              "  'Do you observe large globules/cobblestone?',\n",
              "  'Describe the presence of large globules/cobblestone.',\n",
              "  'Are there any signs of large globules/cobblestone?',\n",
              "  'What about large globules/cobblestone in the lesion?',\n",
              "  'Can you identify any peripheral globules?',\n",
              "  'Do you observe peripheral globules?',\n",
              "  'Describe the presence of peripheral globules.',\n",
              "  'Are there any signs of peripheral globules?',\n",
              "  'What about peripheral globules in the lesion?',\n",
              "  'Can you identify any peripheral projections?',\n",
              "  'Do you observe peripheral projections?',\n",
              "  'Describe the presence of peripheral projections.',\n",
              "  'Are there any signs of peripheral projections?',\n",
              "  'What about peripheral projections in the lesion?',\n",
              "  'Can you identify any homogeneous area without vessels?',\n",
              "  'Do you observe homogeneous area without vessels?',\n",
              "  'Describe the presence of homogeneous area without vessels.',\n",
              "  'Are there any signs of homogeneous area without vessels?',\n",
              "  'What about homogeneous area without vessels in the lesion?',\n",
              "  'Can you identify any homogeneous area with vessels?',\n",
              "  'Do you observe homogeneous area with vessels?',\n",
              "  'Describe the presence of homogeneous area with vessels.',\n",
              "  'Are there any signs of homogeneous area with vessels?',\n",
              "  'What about homogeneous area with vessels in the lesion?',\n",
              "  'Can you identify any undefined area?',\n",
              "  'Do you observe undefined area?',\n",
              "  'Describe the presence of undefined area.',\n",
              "  'Are there any signs of undefined area?',\n",
              "  'What about undefined area in the lesion?',\n",
              "  'Can you identify any gray regression?',\n",
              "  'Do you observe gray regression?',\n",
              "  'Describe the presence of gray regression.',\n",
              "  'Are there any signs of gray regression?',\n",
              "  'What about gray regression in the lesion?',\n",
              "  'Can you identify any white regression?',\n",
              "  'Do you observe white regression?',\n",
              "  'Describe the presence of white regression.',\n",
              "  'Are there any signs of white regression?',\n",
              "  'What about white regression in the lesion?',\n",
              "  'Can you identify any whitish blue veil?',\n",
              "  'Do you observe whitish blue veil?',\n",
              "  'Describe the presence of whitish blue veil.',\n",
              "  'Are there any signs of whitish blue veil?',\n",
              "  'What about whitish blue veil in the lesion?',\n",
              "  'Can you identify any chrysalis?',\n",
              "  'Do you observe chrysalis?',\n",
              "  'Describe the presence of chrysalis.',\n",
              "  'Are there any signs of chrysalis?',\n",
              "  'What about chrysalis in the lesion?'],\n",
              " ['The general silhouette of the lesion is flattened elevated.',\n",
              "  'The general silhouette of the lesion is flattened elevated.',\n",
              "  'The general silhouette of the lesion is flattened elevated.',\n",
              "  'The general silhouette of the lesion is flattened elevated.',\n",
              "  'The general silhouette of the lesion is flattened elevated.',\n",
              "  'The histology diagnostic indicates non-atypical stable mole (m).',\n",
              "  'The histology diagnostic indicates non-atypical stable mole (m).',\n",
              "  'The histology diagnostic indicates non-atypical stable mole (m).',\n",
              "  'The histology diagnostic indicates non-atypical stable mole (m).',\n",
              "  'The histology diagnostic indicates non-atypical stable mole (m).',\n",
              "  'The presence of dysplasia is not applicable.',\n",
              "  'The presence of dysplasia is not applicable.',\n",
              "  'The presence of dysplasia is not applicable.',\n",
              "  'The presence of dysplasia is not applicable.',\n",
              "  'The presence of dysplasia is not applicable.',\n",
              "  'The diagnostic impression is atypical mole.',\n",
              "  'The diagnostic impression is atypical mole.',\n",
              "  'The diagnostic impression is atypical mole.',\n",
              "  'The diagnostic impression is atypical mole.',\n",
              "  'The diagnostic impression is atypical mole.',\n",
              "  'The diagnostic difficulty level is low.',\n",
              "  'The diagnostic difficulty level is low.',\n",
              "  'The diagnostic difficulty level is low.',\n",
              "  'The diagnostic difficulty level is low.',\n",
              "  'The diagnostic difficulty level is low.',\n",
              "  'The lesion has been not excised.',\n",
              "  'The lesion has been not excised.',\n",
              "  'The lesion has been not excised.',\n",
              "  'The lesion has been not excised.',\n",
              "  'The lesion has been not excised.',\n",
              "  'The global pattern of the lesion is mixed (mix of two of the above).',\n",
              "  'The global pattern of the lesion is mixed (mix of two of the above).',\n",
              "  'The global pattern of the lesion is mixed (mix of two of the above).',\n",
              "  'The global pattern of the lesion is mixed (mix of two of the above).',\n",
              "  'The global pattern of the lesion is mixed (mix of two of the above).',\n",
              "  'The peripheral globular pattern is absent.',\n",
              "  'The peripheral globular pattern is absent.',\n",
              "  'The peripheral globular pattern is absent.',\n",
              "  'The peripheral globular pattern is absent.',\n",
              "  'The peripheral globular pattern is absent.',\n",
              "  'The lesion is asymmetric on one axis.',\n",
              "  'The lesion is asymmetric on one axis.',\n",
              "  'The lesion is asymmetric on one axis.',\n",
              "  'The lesion is asymmetric on one axis.',\n",
              "  'The lesion is asymmetric on one axis.',\n",
              "  'Yes, clear and dominant pigmented reticulum is observed.',\n",
              "  'Yes, clear and dominant pigmented reticulum is observed.',\n",
              "  'Yes, clear and dominant pigmented reticulum is observed.',\n",
              "  'Yes, clear and dominant pigmented reticulum is observed.',\n",
              "  'Yes, clear and dominant pigmented reticulum is observed.',\n",
              "  'No negative reticulum is observed.',\n",
              "  'No negative reticulum is observed.',\n",
              "  'No negative reticulum is observed.',\n",
              "  'No negative reticulum is observed.',\n",
              "  'No negative reticulum is observed.',\n",
              "  'No small dots/globules are present.',\n",
              "  'No small dots/globules are present.',\n",
              "  'No small dots/globules are present.',\n",
              "  'No small dots/globules are present.',\n",
              "  'No small dots/globules are present.',\n",
              "  'Yes, clear large globules/cobblestone are observed.',\n",
              "  'Yes, clear large globules/cobblestone are observed.',\n",
              "  'Yes, clear large globules/cobblestone are observed.',\n",
              "  'Yes, clear large globules/cobblestone are observed.',\n",
              "  'Yes, clear large globules/cobblestone are observed.',\n",
              "  'Yes, subtle peripheral globules are observed.',\n",
              "  'Yes, subtle peripheral globules are observed.',\n",
              "  'Yes, subtle peripheral globules are observed.',\n",
              "  'Yes, subtle peripheral globules are observed.',\n",
              "  'Yes, subtle peripheral globules are observed.',\n",
              "  'No peripheral projections are present.',\n",
              "  'No peripheral projections are present.',\n",
              "  'No peripheral projections are present.',\n",
              "  'No peripheral projections are present.',\n",
              "  'No peripheral projections are present.',\n",
              "  'No homogeneous area without vessels is observed.',\n",
              "  'No homogeneous area without vessels is observed.',\n",
              "  'No homogeneous area without vessels is observed.',\n",
              "  'No homogeneous area without vessels is observed.',\n",
              "  'No homogeneous area without vessels is observed.',\n",
              "  'No homogeneous area with vessels is observed.',\n",
              "  'No homogeneous area with vessels is observed.',\n",
              "  'No homogeneous area with vessels is observed.',\n",
              "  'No homogeneous area with vessels is observed.',\n",
              "  'No homogeneous area with vessels is observed.',\n",
              "  'No undefined area is observed.',\n",
              "  'No undefined area is observed.',\n",
              "  'No undefined area is observed.',\n",
              "  'No undefined area is observed.',\n",
              "  'No undefined area is observed.',\n",
              "  'No gray regression is observed.',\n",
              "  'No gray regression is observed.',\n",
              "  'No gray regression is observed.',\n",
              "  'No gray regression is observed.',\n",
              "  'No gray regression is observed.',\n",
              "  'No white regression is observed.',\n",
              "  'No white regression is observed.',\n",
              "  'No white regression is observed.',\n",
              "  'No white regression is observed.',\n",
              "  'No white regression is observed.',\n",
              "  'No whitish blue veil is observed.',\n",
              "  'No whitish blue veil is observed.',\n",
              "  'No whitish blue veil is observed.',\n",
              "  'No whitish blue veil is observed.',\n",
              "  'No whitish blue veil is observed.',\n",
              "  'No chrysalis is observed.',\n",
              "  'No chrysalis is observed.',\n",
              "  'No chrysalis is observed.',\n",
              "  'No chrysalis is observed.',\n",
              "  'No chrysalis is observed.'])"
            ]
          },
          "metadata": {},
          "execution_count": 14
        }
      ],
      "source": [
        "pizarroDataset[10]"
      ]
    },
    {
      "cell_type": "markdown",
      "metadata": {
        "id": "---H6oXn4860"
      },
      "source": [
        "## Load pre-trained ResNet18"
      ]
    },
    {
      "cell_type": "code",
      "execution_count": 15,
      "metadata": {
        "id": "cXzT4ZfT5BTU"
      },
      "outputs": [],
      "source": [
        "# Load ResNet-18 model from .pth file\n",
        "def load_resnet(path, optimizer=None, scheduler=None):\n",
        "    resnet = models.resnet18()\n",
        "    # Remove final fully connected layer (we do not want the model to return labels but features)\n",
        "    resnet.fc = nn.Identity()\n",
        "\n",
        "    # Load the weights\n",
        "    state_dict = torch.load(path, map_location=device)['state_dict']\n",
        "\n",
        "    # Remove unexpected keys if they exist\n",
        "    unexpected_keys = ['fc.weight', 'fc.bias']\n",
        "    for key in unexpected_keys:\n",
        "        if key in state_dict:\n",
        "            del state_dict[key]\n",
        "\n",
        "    # Load the weights\n",
        "    resnet.load_state_dict(state_dict)\n",
        "    resnet.eval()\n",
        "\n",
        "    if optimizer is not None:\n",
        "        optimizer.load_state_dict(torch.load(path)['optimizer'])\n",
        "    if scheduler is not None:\n",
        "        scheduler.load_state_dict(torch.load(path)['scheduler'])\n",
        "\n",
        "    resnet.to(device)\n",
        "\n",
        "    return resnet, optimizer, scheduler"
      ]
    },
    {
      "cell_type": "code",
      "execution_count": 16,
      "metadata": {
        "id": "5rGRJcyj5LKz"
      },
      "outputs": [],
      "source": [
        "model_source_path = '/content/drive/MyDrive/TFG Juan Villanueva/codigo diagnostico/bestdiagNet.pth'"
      ]
    },
    {
      "cell_type": "code",
      "execution_count": 17,
      "metadata": {
        "id": "hm9XDY285UOB"
      },
      "outputs": [],
      "source": [
        "resnet, optimizer, scheduler = load_resnet(model_source_path)"
      ]
    },
    {
      "cell_type": "code",
      "execution_count": 18,
      "metadata": {
        "colab": {
          "base_uri": "https://localhost:8080/"
        },
        "id": "yCtvmxrn9m2u",
        "outputId": "656d4765-0d1a-4739-fbe0-b0d42a36c709"
      },
      "outputs": [
        {
          "output_type": "execute_result",
          "data": {
            "text/plain": [
              "ResNet(\n",
              "  (conv1): Conv2d(3, 64, kernel_size=(7, 7), stride=(2, 2), padding=(3, 3), bias=False)\n",
              "  (bn1): BatchNorm2d(64, eps=1e-05, momentum=0.1, affine=True, track_running_stats=True)\n",
              "  (relu): ReLU(inplace=True)\n",
              "  (maxpool): MaxPool2d(kernel_size=3, stride=2, padding=1, dilation=1, ceil_mode=False)\n",
              "  (layer1): Sequential(\n",
              "    (0): BasicBlock(\n",
              "      (conv1): Conv2d(64, 64, kernel_size=(3, 3), stride=(1, 1), padding=(1, 1), bias=False)\n",
              "      (bn1): BatchNorm2d(64, eps=1e-05, momentum=0.1, affine=True, track_running_stats=True)\n",
              "      (relu): ReLU(inplace=True)\n",
              "      (conv2): Conv2d(64, 64, kernel_size=(3, 3), stride=(1, 1), padding=(1, 1), bias=False)\n",
              "      (bn2): BatchNorm2d(64, eps=1e-05, momentum=0.1, affine=True, track_running_stats=True)\n",
              "    )\n",
              "    (1): BasicBlock(\n",
              "      (conv1): Conv2d(64, 64, kernel_size=(3, 3), stride=(1, 1), padding=(1, 1), bias=False)\n",
              "      (bn1): BatchNorm2d(64, eps=1e-05, momentum=0.1, affine=True, track_running_stats=True)\n",
              "      (relu): ReLU(inplace=True)\n",
              "      (conv2): Conv2d(64, 64, kernel_size=(3, 3), stride=(1, 1), padding=(1, 1), bias=False)\n",
              "      (bn2): BatchNorm2d(64, eps=1e-05, momentum=0.1, affine=True, track_running_stats=True)\n",
              "    )\n",
              "  )\n",
              "  (layer2): Sequential(\n",
              "    (0): BasicBlock(\n",
              "      (conv1): Conv2d(64, 128, kernel_size=(3, 3), stride=(2, 2), padding=(1, 1), bias=False)\n",
              "      (bn1): BatchNorm2d(128, eps=1e-05, momentum=0.1, affine=True, track_running_stats=True)\n",
              "      (relu): ReLU(inplace=True)\n",
              "      (conv2): Conv2d(128, 128, kernel_size=(3, 3), stride=(1, 1), padding=(1, 1), bias=False)\n",
              "      (bn2): BatchNorm2d(128, eps=1e-05, momentum=0.1, affine=True, track_running_stats=True)\n",
              "      (downsample): Sequential(\n",
              "        (0): Conv2d(64, 128, kernel_size=(1, 1), stride=(2, 2), bias=False)\n",
              "        (1): BatchNorm2d(128, eps=1e-05, momentum=0.1, affine=True, track_running_stats=True)\n",
              "      )\n",
              "    )\n",
              "    (1): BasicBlock(\n",
              "      (conv1): Conv2d(128, 128, kernel_size=(3, 3), stride=(1, 1), padding=(1, 1), bias=False)\n",
              "      (bn1): BatchNorm2d(128, eps=1e-05, momentum=0.1, affine=True, track_running_stats=True)\n",
              "      (relu): ReLU(inplace=True)\n",
              "      (conv2): Conv2d(128, 128, kernel_size=(3, 3), stride=(1, 1), padding=(1, 1), bias=False)\n",
              "      (bn2): BatchNorm2d(128, eps=1e-05, momentum=0.1, affine=True, track_running_stats=True)\n",
              "    )\n",
              "  )\n",
              "  (layer3): Sequential(\n",
              "    (0): BasicBlock(\n",
              "      (conv1): Conv2d(128, 256, kernel_size=(3, 3), stride=(2, 2), padding=(1, 1), bias=False)\n",
              "      (bn1): BatchNorm2d(256, eps=1e-05, momentum=0.1, affine=True, track_running_stats=True)\n",
              "      (relu): ReLU(inplace=True)\n",
              "      (conv2): Conv2d(256, 256, kernel_size=(3, 3), stride=(1, 1), padding=(1, 1), bias=False)\n",
              "      (bn2): BatchNorm2d(256, eps=1e-05, momentum=0.1, affine=True, track_running_stats=True)\n",
              "      (downsample): Sequential(\n",
              "        (0): Conv2d(128, 256, kernel_size=(1, 1), stride=(2, 2), bias=False)\n",
              "        (1): BatchNorm2d(256, eps=1e-05, momentum=0.1, affine=True, track_running_stats=True)\n",
              "      )\n",
              "    )\n",
              "    (1): BasicBlock(\n",
              "      (conv1): Conv2d(256, 256, kernel_size=(3, 3), stride=(1, 1), padding=(1, 1), bias=False)\n",
              "      (bn1): BatchNorm2d(256, eps=1e-05, momentum=0.1, affine=True, track_running_stats=True)\n",
              "      (relu): ReLU(inplace=True)\n",
              "      (conv2): Conv2d(256, 256, kernel_size=(3, 3), stride=(1, 1), padding=(1, 1), bias=False)\n",
              "      (bn2): BatchNorm2d(256, eps=1e-05, momentum=0.1, affine=True, track_running_stats=True)\n",
              "    )\n",
              "  )\n",
              "  (layer4): Sequential(\n",
              "    (0): BasicBlock(\n",
              "      (conv1): Conv2d(256, 512, kernel_size=(3, 3), stride=(2, 2), padding=(1, 1), bias=False)\n",
              "      (bn1): BatchNorm2d(512, eps=1e-05, momentum=0.1, affine=True, track_running_stats=True)\n",
              "      (relu): ReLU(inplace=True)\n",
              "      (conv2): Conv2d(512, 512, kernel_size=(3, 3), stride=(1, 1), padding=(1, 1), bias=False)\n",
              "      (bn2): BatchNorm2d(512, eps=1e-05, momentum=0.1, affine=True, track_running_stats=True)\n",
              "      (downsample): Sequential(\n",
              "        (0): Conv2d(256, 512, kernel_size=(1, 1), stride=(2, 2), bias=False)\n",
              "        (1): BatchNorm2d(512, eps=1e-05, momentum=0.1, affine=True, track_running_stats=True)\n",
              "      )\n",
              "    )\n",
              "    (1): BasicBlock(\n",
              "      (conv1): Conv2d(512, 512, kernel_size=(3, 3), stride=(1, 1), padding=(1, 1), bias=False)\n",
              "      (bn1): BatchNorm2d(512, eps=1e-05, momentum=0.1, affine=True, track_running_stats=True)\n",
              "      (relu): ReLU(inplace=True)\n",
              "      (conv2): Conv2d(512, 512, kernel_size=(3, 3), stride=(1, 1), padding=(1, 1), bias=False)\n",
              "      (bn2): BatchNorm2d(512, eps=1e-05, momentum=0.1, affine=True, track_running_stats=True)\n",
              "    )\n",
              "  )\n",
              "  (avgpool): AdaptiveAvgPool2d(output_size=(1, 1))\n",
              "  (fc): Identity()\n",
              ")"
            ]
          },
          "metadata": {},
          "execution_count": 18
        }
      ],
      "source": [
        "resnet"
      ]
    },
    {
      "cell_type": "markdown",
      "metadata": {
        "id": "esJtbykJp-f4"
      },
      "source": [
        "## Image Transformations"
      ]
    },
    {
      "cell_type": "code",
      "execution_count": 19,
      "metadata": {
        "id": "KbPIvTG8p9rw"
      },
      "outputs": [],
      "source": [
        "class Normalize(object):\n",
        "    \"\"\"Normalizes the image by subtracting the mean and dividing by the standard deviations.\n",
        "\n",
        "    Args:\n",
        "        mean: The vector containing the means.\n",
        "        std: The vector containing the standard deviations.\n",
        "    \"\"\"\n",
        "\n",
        "    def __init__(self, mean, std):\n",
        "        assert len(mean) == len(std), 'Length of mean and std vectors is not the same'\n",
        "        self.mean = np.array(mean)\n",
        "        self.std = np.array(std)\n",
        "\n",
        "    def __call__(self, image):\n",
        "\n",
        "        image = image.float()  # Convert to float tensor\n",
        "        image = image / 255.0  # Scale pixel values to the range [0, 1]\n",
        "\n",
        "        dtype = image.dtype\n",
        "        mean = torch.as_tensor(self.mean, dtype=dtype, device=image.device)\n",
        "        std = torch.as_tensor(self.std, dtype=dtype, device=image.device)\n",
        "        # Avoid division by nearly zero\n",
        "        std[std < 1e-5] = 1.0\n",
        "        # Normalize the image\n",
        "        image = (image - mean[:, None, None]) / std[:, None, None]\n",
        "\n",
        "        return image"
      ]
    },
    {
      "cell_type": "code",
      "execution_count": 20,
      "metadata": {
        "id": "Km6vWZvXqqBh"
      },
      "outputs": [],
      "source": [
        "class ToTensor(object):\n",
        "    \"\"\"Converts the image ndarray to a tensor.\"\"\"\n",
        "\n",
        "    def __call__(self, image):\n",
        "        # Change the axes\n",
        "        # numpy image: H x W x C\n",
        "        # torch image: C x H x W\n",
        "        image = np.array(image)\n",
        "        image = image.transpose((2, 0, 1))\n",
        "        image = torch.from_numpy(image)\n",
        "\n",
        "        return image\n"
      ]
    },
    {
      "cell_type": "code",
      "execution_count": 21,
      "metadata": {
        "id": "Wutbk8yiqsiR"
      },
      "outputs": [],
      "source": [
        "class Rescale(object):\n",
        "    \"\"\"Rescales the image to a desired size.\n",
        "\n",
        "    Args:\n",
        "        output_size (tuple or int): Desired output size. If tuple, output is the output_size.\n",
        "            If int, the smaller of the image edges is matched to output_size keeping aspect ratio the same.\n",
        "    \"\"\"\n",
        "\n",
        "    def __init__(self, output_size):\n",
        "        assert isinstance(output_size, (int, tuple))\n",
        "        self.output_size = output_size\n",
        "\n",
        "    def __call__(self, image):\n",
        "        # Convert the PIL image to a NumPy array\n",
        "        image_np = np.array(image)\n",
        "\n",
        "        # Get the height and width of the image\n",
        "        h, w = image_np.shape[:2]\n",
        "\n",
        "        if isinstance(self.output_size, int):\n",
        "            if h > w:\n",
        "                new_h, new_w = self.output_size * h / w, self.output_size\n",
        "            else:\n",
        "                new_h, new_w = self.output_size, self.output_size * w / h\n",
        "        else:\n",
        "            new_h, new_w = self.output_size\n",
        "\n",
        "        new_h, new_w = int(new_h), int(new_w)\n",
        "\n",
        "        # Resize the image using scikit-image's resize function\n",
        "        resized_image = transform.resize(image_np, (new_h, new_w))\n",
        "\n",
        "        # Convert the resized NumPy array back to a PIL image\n",
        "        resized_image_pil = Image.fromarray((resized_image * 255).astype(np.uint8))\n",
        "\n",
        "        return resized_image_pil"
      ]
    },
    {
      "cell_type": "markdown",
      "metadata": {
        "id": "jtRQDxjhr7th"
      },
      "source": [
        "## Datasets and Dataloaders"
      ]
    },
    {
      "cell_type": "code",
      "execution_count": 22,
      "metadata": {
        "id": "Lnu68fiWr7Hd"
      },
      "outputs": [],
      "source": [
        "# Train ISIC Dataset------------------------------------------------------------\n",
        "train_dataset_isic = VQADataset(data_dir=database1_train_path,\n",
        "                           json_file='/content/data/databases_qa/ISIC_2016/qa_ISIC.json',\n",
        "                           tokenizer=None,\n",
        "                           transform=transforms.Compose([\n",
        "                            Rescale((224,224)),\n",
        "                            ToTensor(),\n",
        "                            Normalize(mean=[0.485, 0.456, 0.406], std=[0.229, 0.224, 0.225])\n",
        "                            ]))\n",
        "# Test ISIC Dataset--------------------------------------------------------------\n",
        "test_dataset_isic = VQADataset(data_dir=database1_test_path,\n",
        "                           json_file='/content/data/databases_qa/ISIC_2016/qa_ISIC.json',\n",
        "                           tokenizer=None,\n",
        "                           transform=transforms.Compose([\n",
        "                            Rescale((224,224)),\n",
        "                            ToTensor(),\n",
        "                            Normalize(mean=[0.485, 0.456, 0.406], std=[0.229, 0.224, 0.225])\n",
        "                            ]))"
      ]
    },
    {
      "cell_type": "code",
      "execution_count": 23,
      "metadata": {
        "id": "3BQq_UYpfjyg"
      },
      "outputs": [],
      "source": [
        "# Train Pizarro Dataset------------------------------------------------------------\n",
        "train_dataset_pizarro = VQADataset(data_dir=database2_path,\n",
        "                           json_file='/content/data/databases_qa/pizarro/qa_pizarro.json',\n",
        "                           tokenizer=None,\n",
        "                           transform=transforms.Compose([\n",
        "                            Rescale((224,380)),\n",
        "                            ToTensor(),\n",
        "                            Normalize(mean=[0.485, 0.456, 0.406], std=[0.229, 0.224, 0.225])\n",
        "                            ]))"
      ]
    },
    {
      "cell_type": "markdown",
      "source": [
        "## Define the all the possible answers within both datasets"
      ],
      "metadata": {
        "id": "SBodYMxwROs0"
      }
    },
    {
      "cell_type": "code",
      "source": [
        "# Extract all answers from the dataset\n",
        "all_answers = [answer for _, _, answers in train_dataset_pizarro for answer in answers]\n",
        "# Obtain unique answer values\n",
        "unique_answers = list(set(all_answers))"
      ],
      "metadata": {
        "id": "MtaTJ0v3RJ0W"
      },
      "execution_count": 24,
      "outputs": []
    },
    {
      "cell_type": "code",
      "source": [
        "unique_answers"
      ],
      "metadata": {
        "id": "fZOPrVjkTVVA",
        "outputId": "b39a1bd8-bcd9-4e7f-b5f9-9f0d97bb2ad6",
        "colab": {
          "base_uri": "https://localhost:8080/"
        }
      },
      "execution_count": 25,
      "outputs": [
        {
          "output_type": "execute_result",
          "data": {
            "text/plain": [
              "['The histology diagnostic indicates intradermal melanocytic nevus (imn).',\n",
              " 'The global pattern of the lesion is patchy reticular.',\n",
              " 'Yes, clear pigmented reticulum is observed.',\n",
              " 'No pigmented reticulum is observed.',\n",
              " 'The peripheral globular pattern is focal bursting.',\n",
              " 'The peripheral globular pattern is focal conventional.',\n",
              " ' peripheral globules are observed.',\n",
              " 'The histology diagnostic indicates dysplastic melanocytic nevus (dmn).',\n",
              " 'No negative reticulum is observed.',\n",
              " 'Yes, clear homogeneous area without vessels is observed.',\n",
              " 'The lesion is .',\n",
              " 'The general silhouette of the lesion is flat.',\n",
              " 'The diagnostic impression is spitz/reed nevus.',\n",
              " 'Yes, clear gray regression is observed.',\n",
              " 'The diagnostic impression is atypical mole.',\n",
              " 'Yes, subtle homogeneous area with vessels is observed.',\n",
              " 'No homogeneous area without vessels is observed.',\n",
              " 'The global pattern of the lesion is undefined.',\n",
              " 'Yes, clear and dominant homogeneous area with vessels is observed.',\n",
              " 'The peripheral globular pattern is .',\n",
              " 'The lesion is symmetric.',\n",
              " 'The peripheral globular pattern is regular bursting.',\n",
              " 'The histology diagnostic indicates melanoma in situ (mis).',\n",
              " 'The global pattern of the lesion is multicomponent (mix of 3 or more above).',\n",
              " 'Yes, subtle homogeneous area without vessels is observed.',\n",
              " 'The lesion has been follow-up, without previous dermoscopy.',\n",
              " 'The general silhouette of the lesion is exophytic.',\n",
              " 'Yes, subtle peripheral projections are present.',\n",
              " 'No small dots/globules are present.',\n",
              " 'The lesion has been follow-up with previous dermoscopy, due to changes.',\n",
              " 'The presence of dysplasia is severe.',\n",
              " 'The diagnostic difficulty level is high.',\n",
              " 'Yes, clear homogeneous area with vessels is observed.',\n",
              " 'Yes, subtle peripheral globules are observed.',\n",
              " 'No peripheral projections are present.',\n",
              " 'No gray regression is observed.',\n",
              " 'No large globules/cobblestone are observed.',\n",
              " 'The presence of dysplasia is not applicable.',\n",
              " 'The diagnostic difficulty level is low.',\n",
              " 'Yes, clear white regression is observed.',\n",
              " 'The diagnostic impression is melanoma.',\n",
              " 'The histology diagnostic indicates congenital melanocytic nevus (cmn).',\n",
              " ' large globules/cobblestone are observed.',\n",
              " 'Yes, clear chrysalis is observed.',\n",
              " 'The diagnostic difficulty level is medium.',\n",
              " 'The lesion has been follow-up with previous dermoscopy, due to symptoms.',\n",
              " 'Yes, clear whitish blue veil is observed.',\n",
              " 'No undefined area is observed.',\n",
              " 'The global pattern of the lesion is cobblestone.',\n",
              " 'Yes, subtle large globules/cobblestone are observed.',\n",
              " 'The lesion has been first consultation.',\n",
              " 'The presence of dysplasia is not available.',\n",
              " 'Yes, clear and dominant peripheral globules are observed.',\n",
              " 'Yes, subtle negative reticulum is observed.',\n",
              " 'The peripheral globular pattern is regular conventional.',\n",
              " 'No white regression is observed.',\n",
              " 'Yes, clear and dominant peripheral projections are present.',\n",
              " 'The global pattern of the lesion is homogeneous.',\n",
              " 'The lesion is asymmetric on two axes.',\n",
              " 'Yes, clear negative reticulum is observed.',\n",
              " 'The histology diagnostic indicates reed nevus (nr).',\n",
              " 'The lesion is asymmetric on one axis.',\n",
              " 'The peripheral globular pattern is irregular conventional.',\n",
              " 'The histology diagnostic indicates lentiginous melanocytic nevus (lmn).',\n",
              " 'Yes, clear and dominant negative reticulum is observed.',\n",
              " 'Yes, clear and dominant homogeneous area without vessels is observed.',\n",
              " 'No chrysalis is observed.',\n",
              " 'The global pattern of the lesion is diffuse reticular.',\n",
              " 'Yes, subtle whitish blue veil is observed.',\n",
              " 'Yes, subtle pigmented reticulum is observed.',\n",
              " 'The peripheral globular pattern is irregular bursting.',\n",
              " 'The global pattern of the lesion is globular.',\n",
              " 'The general silhouette of the lesion is flattened elevated.',\n",
              " 'The histology diagnostic indicates non-atypical stable mole (m).',\n",
              " 'The peripheral globular pattern is absent.',\n",
              " 'Yes, clear large globules/cobblestone are observed.',\n",
              " 'Yes, clear and dominant large globules/cobblestone are observed.',\n",
              " 'The presence of dysplasia is .',\n",
              " 'Yes, clear undefined area is observed.',\n",
              " 'Yes, clear small dots/globules are present.',\n",
              " 'No peripheral globules are observed.',\n",
              " 'The global pattern of the lesion is mixed (mix of two of the above).',\n",
              " 'Yes, subtle chrysalis is observed.',\n",
              " 'Yes, subtle undefined area is observed.',\n",
              " 'The diagnostic impression is exclude melanoma.',\n",
              " 'Yes, subtle small dots/globules are present.',\n",
              " 'Yes, subtle gray regression is observed.',\n",
              " 'The diagnostic impression is non-atypical mole.',\n",
              " 'No homogeneous area with vessels is observed.',\n",
              " 'The lesion has been not excised.',\n",
              " 'Yes, clear and dominant small dots/globules are present.',\n",
              " 'Yes, subtle white regression is observed.',\n",
              " 'The histology diagnostic indicates spitz nevus (sn).',\n",
              " 'The histology diagnostic indicates superficial spreading melanoma (ssm).',\n",
              " 'Yes, clear peripheral projections are present.',\n",
              " 'Yes, clear and dominant pigmented reticulum is observed.',\n",
              " 'No whitish blue veil is observed.',\n",
              " ' chrysalis is observed.',\n",
              " 'Yes, clear peripheral globules are observed.',\n",
              " 'The histology diagnostic indicates junctional melanocytic nevus (jmn).',\n",
              " 'The histology diagnostic indicates compound melanocytic nevus (cmn).',\n",
              " 'Yes, clear and dominant undefined area is observed.']"
            ]
          },
          "metadata": {},
          "execution_count": 25
        }
      ]
    },
    {
      "cell_type": "code",
      "source": [
        "# Create dictionaries id2label and label2id\n",
        "id2label = {i: label for i, label in enumerate(unique_answers)}\n",
        "label2id = {label: i for i, label in enumerate(unique_answers)}"
      ],
      "metadata": {
        "id": "zB_NjxmSSA2I"
      },
      "execution_count": 26,
      "outputs": []
    },
    {
      "cell_type": "code",
      "source": [
        "id2label"
      ],
      "metadata": {
        "id": "8nTUep5tUe07",
        "outputId": "2c31e122-3f6b-425e-9d47-a25a2a947d49",
        "colab": {
          "base_uri": "https://localhost:8080/"
        }
      },
      "execution_count": 27,
      "outputs": [
        {
          "output_type": "execute_result",
          "data": {
            "text/plain": [
              "{0: 'The histology diagnostic indicates intradermal melanocytic nevus (imn).',\n",
              " 1: 'The global pattern of the lesion is patchy reticular.',\n",
              " 2: 'Yes, clear pigmented reticulum is observed.',\n",
              " 3: 'No pigmented reticulum is observed.',\n",
              " 4: 'The peripheral globular pattern is focal bursting.',\n",
              " 5: 'The peripheral globular pattern is focal conventional.',\n",
              " 6: ' peripheral globules are observed.',\n",
              " 7: 'The histology diagnostic indicates dysplastic melanocytic nevus (dmn).',\n",
              " 8: 'No negative reticulum is observed.',\n",
              " 9: 'Yes, clear homogeneous area without vessels is observed.',\n",
              " 10: 'The lesion is .',\n",
              " 11: 'The general silhouette of the lesion is flat.',\n",
              " 12: 'The diagnostic impression is spitz/reed nevus.',\n",
              " 13: 'Yes, clear gray regression is observed.',\n",
              " 14: 'The diagnostic impression is atypical mole.',\n",
              " 15: 'Yes, subtle homogeneous area with vessels is observed.',\n",
              " 16: 'No homogeneous area without vessels is observed.',\n",
              " 17: 'The global pattern of the lesion is undefined.',\n",
              " 18: 'Yes, clear and dominant homogeneous area with vessels is observed.',\n",
              " 19: 'The peripheral globular pattern is .',\n",
              " 20: 'The lesion is symmetric.',\n",
              " 21: 'The peripheral globular pattern is regular bursting.',\n",
              " 22: 'The histology diagnostic indicates melanoma in situ (mis).',\n",
              " 23: 'The global pattern of the lesion is multicomponent (mix of 3 or more above).',\n",
              " 24: 'Yes, subtle homogeneous area without vessels is observed.',\n",
              " 25: 'The lesion has been follow-up, without previous dermoscopy.',\n",
              " 26: 'The general silhouette of the lesion is exophytic.',\n",
              " 27: 'Yes, subtle peripheral projections are present.',\n",
              " 28: 'No small dots/globules are present.',\n",
              " 29: 'The lesion has been follow-up with previous dermoscopy, due to changes.',\n",
              " 30: 'The presence of dysplasia is severe.',\n",
              " 31: 'The diagnostic difficulty level is high.',\n",
              " 32: 'Yes, clear homogeneous area with vessels is observed.',\n",
              " 33: 'Yes, subtle peripheral globules are observed.',\n",
              " 34: 'No peripheral projections are present.',\n",
              " 35: 'No gray regression is observed.',\n",
              " 36: 'No large globules/cobblestone are observed.',\n",
              " 37: 'The presence of dysplasia is not applicable.',\n",
              " 38: 'The diagnostic difficulty level is low.',\n",
              " 39: 'Yes, clear white regression is observed.',\n",
              " 40: 'The diagnostic impression is melanoma.',\n",
              " 41: 'The histology diagnostic indicates congenital melanocytic nevus (cmn).',\n",
              " 42: ' large globules/cobblestone are observed.',\n",
              " 43: 'Yes, clear chrysalis is observed.',\n",
              " 44: 'The diagnostic difficulty level is medium.',\n",
              " 45: 'The lesion has been follow-up with previous dermoscopy, due to symptoms.',\n",
              " 46: 'Yes, clear whitish blue veil is observed.',\n",
              " 47: 'No undefined area is observed.',\n",
              " 48: 'The global pattern of the lesion is cobblestone.',\n",
              " 49: 'Yes, subtle large globules/cobblestone are observed.',\n",
              " 50: 'The lesion has been first consultation.',\n",
              " 51: 'The presence of dysplasia is not available.',\n",
              " 52: 'Yes, clear and dominant peripheral globules are observed.',\n",
              " 53: 'Yes, subtle negative reticulum is observed.',\n",
              " 54: 'The peripheral globular pattern is regular conventional.',\n",
              " 55: 'No white regression is observed.',\n",
              " 56: 'Yes, clear and dominant peripheral projections are present.',\n",
              " 57: 'The global pattern of the lesion is homogeneous.',\n",
              " 58: 'The lesion is asymmetric on two axes.',\n",
              " 59: 'Yes, clear negative reticulum is observed.',\n",
              " 60: 'The histology diagnostic indicates reed nevus (nr).',\n",
              " 61: 'The lesion is asymmetric on one axis.',\n",
              " 62: 'The peripheral globular pattern is irregular conventional.',\n",
              " 63: 'The histology diagnostic indicates lentiginous melanocytic nevus (lmn).',\n",
              " 64: 'Yes, clear and dominant negative reticulum is observed.',\n",
              " 65: 'Yes, clear and dominant homogeneous area without vessels is observed.',\n",
              " 66: 'No chrysalis is observed.',\n",
              " 67: 'The global pattern of the lesion is diffuse reticular.',\n",
              " 68: 'Yes, subtle whitish blue veil is observed.',\n",
              " 69: 'Yes, subtle pigmented reticulum is observed.',\n",
              " 70: 'The peripheral globular pattern is irregular bursting.',\n",
              " 71: 'The global pattern of the lesion is globular.',\n",
              " 72: 'The general silhouette of the lesion is flattened elevated.',\n",
              " 73: 'The histology diagnostic indicates non-atypical stable mole (m).',\n",
              " 74: 'The peripheral globular pattern is absent.',\n",
              " 75: 'Yes, clear large globules/cobblestone are observed.',\n",
              " 76: 'Yes, clear and dominant large globules/cobblestone are observed.',\n",
              " 77: 'The presence of dysplasia is .',\n",
              " 78: 'Yes, clear undefined area is observed.',\n",
              " 79: 'Yes, clear small dots/globules are present.',\n",
              " 80: 'No peripheral globules are observed.',\n",
              " 81: 'The global pattern of the lesion is mixed (mix of two of the above).',\n",
              " 82: 'Yes, subtle chrysalis is observed.',\n",
              " 83: 'Yes, subtle undefined area is observed.',\n",
              " 84: 'The diagnostic impression is exclude melanoma.',\n",
              " 85: 'Yes, subtle small dots/globules are present.',\n",
              " 86: 'Yes, subtle gray regression is observed.',\n",
              " 87: 'The diagnostic impression is non-atypical mole.',\n",
              " 88: 'No homogeneous area with vessels is observed.',\n",
              " 89: 'The lesion has been not excised.',\n",
              " 90: 'Yes, clear and dominant small dots/globules are present.',\n",
              " 91: 'Yes, subtle white regression is observed.',\n",
              " 92: 'The histology diagnostic indicates spitz nevus (sn).',\n",
              " 93: 'The histology diagnostic indicates superficial spreading melanoma (ssm).',\n",
              " 94: 'Yes, clear peripheral projections are present.',\n",
              " 95: 'Yes, clear and dominant pigmented reticulum is observed.',\n",
              " 96: 'No whitish blue veil is observed.',\n",
              " 97: ' chrysalis is observed.',\n",
              " 98: 'Yes, clear peripheral globules are observed.',\n",
              " 99: 'The histology diagnostic indicates junctional melanocytic nevus (jmn).',\n",
              " 100: 'The histology diagnostic indicates compound melanocytic nevus (cmn).',\n",
              " 101: 'Yes, clear and dominant undefined area is observed.'}"
            ]
          },
          "metadata": {},
          "execution_count": 27
        }
      ]
    },
    {
      "cell_type": "code",
      "source": [
        "# Required tensor with the label IDs\n",
        "answers_ids_tensor = torch.arange(len(id2label), dtype=torch.float, device=device)\n",
        "answers_ids_tensor"
      ],
      "metadata": {
        "id": "zIE8BzfqUmmf",
        "outputId": "8f75f827-a88a-47d5-d473-55d2b17a8e84",
        "colab": {
          "base_uri": "https://localhost:8080/"
        }
      },
      "execution_count": 28,
      "outputs": [
        {
          "output_type": "execute_result",
          "data": {
            "text/plain": [
              "tensor([  0.,   1.,   2.,   3.,   4.,   5.,   6.,   7.,   8.,   9.,  10.,  11.,\n",
              "         12.,  13.,  14.,  15.,  16.,  17.,  18.,  19.,  20.,  21.,  22.,  23.,\n",
              "         24.,  25.,  26.,  27.,  28.,  29.,  30.,  31.,  32.,  33.,  34.,  35.,\n",
              "         36.,  37.,  38.,  39.,  40.,  41.,  42.,  43.,  44.,  45.,  46.,  47.,\n",
              "         48.,  49.,  50.,  51.,  52.,  53.,  54.,  55.,  56.,  57.,  58.,  59.,\n",
              "         60.,  61.,  62.,  63.,  64.,  65.,  66.,  67.,  68.,  69.,  70.,  71.,\n",
              "         72.,  73.,  74.,  75.,  76.,  77.,  78.,  79.,  80.,  81.,  82.,  83.,\n",
              "         84.,  85.,  86.,  87.,  88.,  89.,  90.,  91.,  92.,  93.,  94.,  95.,\n",
              "         96.,  97.,  98.,  99., 100., 101.], device='cuda:0')"
            ]
          },
          "metadata": {},
          "execution_count": 28
        }
      ]
    },
    {
      "cell_type": "code",
      "execution_count": 29,
      "metadata": {
        "id": "UrNZdQCPl7qt"
      },
      "outputs": [],
      "source": [
        "# Pizarro dataset\n",
        "pizarro_dataloader = DataLoader(train_dataset_pizarro, batch_size=5, shuffle=True)\n",
        "test_isic_dataloader = DataLoader(test_dataset_isic, batch_size=5, shuffle=True)"
      ]
    },
    {
      "cell_type": "code",
      "execution_count": 30,
      "metadata": {
        "id": "2jZsoFg5aoCM"
      },
      "outputs": [],
      "source": [
        "# Auxiliary function to visualize a batch\n",
        "def show_batch(sample_batched):\n",
        "    \"\"\"Show a batch of images.\"\"\"\n",
        "\n",
        "    # Store images, questions and answers\n",
        "    images_batch, questions_batch, answers_batch = \\\n",
        "            sample_batched[0], sample_batched[1], sample_batched[2]\n",
        "\n",
        "    # Identify the batch size to define the grid\n",
        "    batch_size = len(images_batch)\n",
        "    im_size = images_batch.size(2)\n",
        "    grid_border_size = 2\n",
        "\n",
        "    # Generate the grid\n",
        "    grid = utils.make_grid(images_batch)\n",
        "\n",
        "    # Convert to numpy and denormalize\n",
        "    grid = grid.numpy().transpose((1, 2, 0))\n",
        "    mean = np.array([0.485, 0.456, 0.406])\n",
        "    std = np.array([0.229, 0.224, 0.225])\n",
        "    grid = std * grid + mean\n",
        "    grid = np.clip(grid, 0, 1)\n",
        "    plt.imshow(grid)\n",
        "    plt.title('Batch from dataloader')\n",
        "    plt.axis('off')\n",
        "    plt.show()"
      ]
    },
    {
      "cell_type": "code",
      "execution_count": 31,
      "metadata": {
        "colab": {
          "base_uri": "https://localhost:8080/",
          "height": 273
        },
        "id": "cV5odxMqlhbb",
        "outputId": "a0ee25f0-530a-40f8-a0c6-2b332123785e"
      },
      "outputs": [
        {
          "output_type": "stream",
          "name": "stdout",
          "text": [
            "0 [('The general silhouette of the lesion is flattened elevated.', 'The general silhouette of the lesion is flattened elevated.', 'The general silhouette of the lesion is flat.', 'The general silhouette of the lesion is flat.', 'The general silhouette of the lesion is flattened elevated.'), ('The general silhouette of the lesion is flattened elevated.', 'The general silhouette of the lesion is flattened elevated.', 'The general silhouette of the lesion is flat.', 'The general silhouette of the lesion is flat.', 'The general silhouette of the lesion is flattened elevated.'), ('The general silhouette of the lesion is flattened elevated.', 'The general silhouette of the lesion is flattened elevated.', 'The general silhouette of the lesion is flat.', 'The general silhouette of the lesion is flat.', 'The general silhouette of the lesion is flattened elevated.'), ('The general silhouette of the lesion is flattened elevated.', 'The general silhouette of the lesion is flattened elevated.', 'The general silhouette of the lesion is flat.', 'The general silhouette of the lesion is flat.', 'The general silhouette of the lesion is flattened elevated.'), ('The general silhouette of the lesion is flattened elevated.', 'The general silhouette of the lesion is flattened elevated.', 'The general silhouette of the lesion is flat.', 'The general silhouette of the lesion is flat.', 'The general silhouette of the lesion is flattened elevated.'), ('The histology diagnostic indicates congenital melanocytic nevus (cmn).', 'The histology diagnostic indicates reed nevus (nr).', 'The histology diagnostic indicates reed nevus (nr).', 'The histology diagnostic indicates lentiginous melanocytic nevus (lmn).', 'The histology diagnostic indicates compound melanocytic nevus (cmn).'), ('The histology diagnostic indicates congenital melanocytic nevus (cmn).', 'The histology diagnostic indicates reed nevus (nr).', 'The histology diagnostic indicates reed nevus (nr).', 'The histology diagnostic indicates lentiginous melanocytic nevus (lmn).', 'The histology diagnostic indicates compound melanocytic nevus (cmn).'), ('The histology diagnostic indicates congenital melanocytic nevus (cmn).', 'The histology diagnostic indicates reed nevus (nr).', 'The histology diagnostic indicates reed nevus (nr).', 'The histology diagnostic indicates lentiginous melanocytic nevus (lmn).', 'The histology diagnostic indicates compound melanocytic nevus (cmn).'), ('The histology diagnostic indicates congenital melanocytic nevus (cmn).', 'The histology diagnostic indicates reed nevus (nr).', 'The histology diagnostic indicates reed nevus (nr).', 'The histology diagnostic indicates lentiginous melanocytic nevus (lmn).', 'The histology diagnostic indicates compound melanocytic nevus (cmn).'), ('The histology diagnostic indicates congenital melanocytic nevus (cmn).', 'The histology diagnostic indicates reed nevus (nr).', 'The histology diagnostic indicates reed nevus (nr).', 'The histology diagnostic indicates lentiginous melanocytic nevus (lmn).', 'The histology diagnostic indicates compound melanocytic nevus (cmn).'), ('The presence of dysplasia is not applicable.', 'The presence of dysplasia is not applicable.', 'The presence of dysplasia is not applicable.', 'The presence of dysplasia is not applicable.', 'The presence of dysplasia is not applicable.'), ('The presence of dysplasia is not applicable.', 'The presence of dysplasia is not applicable.', 'The presence of dysplasia is not applicable.', 'The presence of dysplasia is not applicable.', 'The presence of dysplasia is not applicable.'), ('The presence of dysplasia is not applicable.', 'The presence of dysplasia is not applicable.', 'The presence of dysplasia is not applicable.', 'The presence of dysplasia is not applicable.', 'The presence of dysplasia is not applicable.'), ('The presence of dysplasia is not applicable.', 'The presence of dysplasia is not applicable.', 'The presence of dysplasia is not applicable.', 'The presence of dysplasia is not applicable.', 'The presence of dysplasia is not applicable.'), ('The presence of dysplasia is not applicable.', 'The presence of dysplasia is not applicable.', 'The presence of dysplasia is not applicable.', 'The presence of dysplasia is not applicable.', 'The presence of dysplasia is not applicable.'), ('The diagnostic impression is non-atypical mole.', 'The diagnostic impression is melanoma.', 'The diagnostic impression is melanoma.', 'The diagnostic impression is exclude melanoma.', 'The diagnostic impression is exclude melanoma.'), ('The diagnostic impression is non-atypical mole.', 'The diagnostic impression is melanoma.', 'The diagnostic impression is melanoma.', 'The diagnostic impression is exclude melanoma.', 'The diagnostic impression is exclude melanoma.'), ('The diagnostic impression is non-atypical mole.', 'The diagnostic impression is melanoma.', 'The diagnostic impression is melanoma.', 'The diagnostic impression is exclude melanoma.', 'The diagnostic impression is exclude melanoma.'), ('The diagnostic impression is non-atypical mole.', 'The diagnostic impression is melanoma.', 'The diagnostic impression is melanoma.', 'The diagnostic impression is exclude melanoma.', 'The diagnostic impression is exclude melanoma.'), ('The diagnostic impression is non-atypical mole.', 'The diagnostic impression is melanoma.', 'The diagnostic impression is melanoma.', 'The diagnostic impression is exclude melanoma.', 'The diagnostic impression is exclude melanoma.'), ('The diagnostic difficulty level is low.', 'The diagnostic difficulty level is medium.', 'The diagnostic difficulty level is medium.', 'The diagnostic difficulty level is high.', 'The diagnostic difficulty level is high.'), ('The diagnostic difficulty level is low.', 'The diagnostic difficulty level is medium.', 'The diagnostic difficulty level is medium.', 'The diagnostic difficulty level is high.', 'The diagnostic difficulty level is high.'), ('The diagnostic difficulty level is low.', 'The diagnostic difficulty level is medium.', 'The diagnostic difficulty level is medium.', 'The diagnostic difficulty level is high.', 'The diagnostic difficulty level is high.'), ('The diagnostic difficulty level is low.', 'The diagnostic difficulty level is medium.', 'The diagnostic difficulty level is medium.', 'The diagnostic difficulty level is high.', 'The diagnostic difficulty level is high.'), ('The diagnostic difficulty level is low.', 'The diagnostic difficulty level is medium.', 'The diagnostic difficulty level is medium.', 'The diagnostic difficulty level is high.', 'The diagnostic difficulty level is high.'), ('The lesion has been follow-up with previous dermoscopy, due to symptoms.', 'The lesion has been first consultation.', 'The lesion has been first consultation.', 'The lesion has been first consultation.', 'The lesion has been first consultation.'), ('The lesion has been follow-up with previous dermoscopy, due to symptoms.', 'The lesion has been first consultation.', 'The lesion has been first consultation.', 'The lesion has been first consultation.', 'The lesion has been first consultation.'), ('The lesion has been follow-up with previous dermoscopy, due to symptoms.', 'The lesion has been first consultation.', 'The lesion has been first consultation.', 'The lesion has been first consultation.', 'The lesion has been first consultation.'), ('The lesion has been follow-up with previous dermoscopy, due to symptoms.', 'The lesion has been first consultation.', 'The lesion has been first consultation.', 'The lesion has been first consultation.', 'The lesion has been first consultation.'), ('The lesion has been follow-up with previous dermoscopy, due to symptoms.', 'The lesion has been first consultation.', 'The lesion has been first consultation.', 'The lesion has been first consultation.', 'The lesion has been first consultation.'), ('The global pattern of the lesion is globular.', 'The global pattern of the lesion is undefined.', 'The global pattern of the lesion is multicomponent (mix of 3 or more above).', 'The global pattern of the lesion is mixed (mix of two of the above).', 'The global pattern of the lesion is undefined.'), ('The global pattern of the lesion is globular.', 'The global pattern of the lesion is undefined.', 'The global pattern of the lesion is multicomponent (mix of 3 or more above).', 'The global pattern of the lesion is mixed (mix of two of the above).', 'The global pattern of the lesion is undefined.'), ('The global pattern of the lesion is globular.', 'The global pattern of the lesion is undefined.', 'The global pattern of the lesion is multicomponent (mix of 3 or more above).', 'The global pattern of the lesion is mixed (mix of two of the above).', 'The global pattern of the lesion is undefined.'), ('The global pattern of the lesion is globular.', 'The global pattern of the lesion is undefined.', 'The global pattern of the lesion is multicomponent (mix of 3 or more above).', 'The global pattern of the lesion is mixed (mix of two of the above).', 'The global pattern of the lesion is undefined.'), ('The global pattern of the lesion is globular.', 'The global pattern of the lesion is undefined.', 'The global pattern of the lesion is multicomponent (mix of 3 or more above).', 'The global pattern of the lesion is mixed (mix of two of the above).', 'The global pattern of the lesion is undefined.'), ('The peripheral globular pattern is absent.', 'The peripheral globular pattern is focal bursting.', 'The peripheral globular pattern is absent.', 'The peripheral globular pattern is absent.', 'The peripheral globular pattern is absent.'), ('The peripheral globular pattern is absent.', 'The peripheral globular pattern is focal bursting.', 'The peripheral globular pattern is absent.', 'The peripheral globular pattern is absent.', 'The peripheral globular pattern is absent.'), ('The peripheral globular pattern is absent.', 'The peripheral globular pattern is focal bursting.', 'The peripheral globular pattern is absent.', 'The peripheral globular pattern is absent.', 'The peripheral globular pattern is absent.'), ('The peripheral globular pattern is absent.', 'The peripheral globular pattern is focal bursting.', 'The peripheral globular pattern is absent.', 'The peripheral globular pattern is absent.', 'The peripheral globular pattern is absent.'), ('The peripheral globular pattern is absent.', 'The peripheral globular pattern is focal bursting.', 'The peripheral globular pattern is absent.', 'The peripheral globular pattern is absent.', 'The peripheral globular pattern is absent.'), ('The lesion is symmetric.', 'The lesion is asymmetric on two axes.', 'The lesion is asymmetric on two axes.', 'The lesion is asymmetric on two axes.', 'The lesion is asymmetric on two axes.'), ('The lesion is symmetric.', 'The lesion is asymmetric on two axes.', 'The lesion is asymmetric on two axes.', 'The lesion is asymmetric on two axes.', 'The lesion is asymmetric on two axes.'), ('The lesion is symmetric.', 'The lesion is asymmetric on two axes.', 'The lesion is asymmetric on two axes.', 'The lesion is asymmetric on two axes.', 'The lesion is asymmetric on two axes.'), ('The lesion is symmetric.', 'The lesion is asymmetric on two axes.', 'The lesion is asymmetric on two axes.', 'The lesion is asymmetric on two axes.', 'The lesion is asymmetric on two axes.'), ('The lesion is symmetric.', 'The lesion is asymmetric on two axes.', 'The lesion is asymmetric on two axes.', 'The lesion is asymmetric on two axes.', 'The lesion is asymmetric on two axes.'), ('No pigmented reticulum is observed.', 'No pigmented reticulum is observed.', 'Yes, subtle pigmented reticulum is observed.', 'Yes, clear pigmented reticulum is observed.', 'Yes, subtle pigmented reticulum is observed.'), ('No pigmented reticulum is observed.', 'No pigmented reticulum is observed.', 'Yes, subtle pigmented reticulum is observed.', 'Yes, clear pigmented reticulum is observed.', 'Yes, subtle pigmented reticulum is observed.'), ('No pigmented reticulum is observed.', 'No pigmented reticulum is observed.', 'Yes, subtle pigmented reticulum is observed.', 'Yes, clear pigmented reticulum is observed.', 'Yes, subtle pigmented reticulum is observed.'), ('No pigmented reticulum is observed.', 'No pigmented reticulum is observed.', 'Yes, subtle pigmented reticulum is observed.', 'Yes, clear pigmented reticulum is observed.', 'Yes, subtle pigmented reticulum is observed.'), ('No pigmented reticulum is observed.', 'No pigmented reticulum is observed.', 'Yes, subtle pigmented reticulum is observed.', 'Yes, clear pigmented reticulum is observed.', 'Yes, subtle pigmented reticulum is observed.'), ('No negative reticulum is observed.', 'No negative reticulum is observed.', 'No negative reticulum is observed.', 'No negative reticulum is observed.', 'No negative reticulum is observed.'), ('No negative reticulum is observed.', 'No negative reticulum is observed.', 'No negative reticulum is observed.', 'No negative reticulum is observed.', 'No negative reticulum is observed.'), ('No negative reticulum is observed.', 'No negative reticulum is observed.', 'No negative reticulum is observed.', 'No negative reticulum is observed.', 'No negative reticulum is observed.'), ('No negative reticulum is observed.', 'No negative reticulum is observed.', 'No negative reticulum is observed.', 'No negative reticulum is observed.', 'No negative reticulum is observed.'), ('No negative reticulum is observed.', 'No negative reticulum is observed.', 'No negative reticulum is observed.', 'No negative reticulum is observed.', 'No negative reticulum is observed.'), ('No small dots/globules are present.', 'No small dots/globules are present.', 'Yes, subtle small dots/globules are present.', 'No small dots/globules are present.', 'Yes, subtle small dots/globules are present.'), ('No small dots/globules are present.', 'No small dots/globules are present.', 'Yes, subtle small dots/globules are present.', 'No small dots/globules are present.', 'Yes, subtle small dots/globules are present.'), ('No small dots/globules are present.', 'No small dots/globules are present.', 'Yes, subtle small dots/globules are present.', 'No small dots/globules are present.', 'Yes, subtle small dots/globules are present.'), ('No small dots/globules are present.', 'No small dots/globules are present.', 'Yes, subtle small dots/globules are present.', 'No small dots/globules are present.', 'Yes, subtle small dots/globules are present.'), ('No small dots/globules are present.', 'No small dots/globules are present.', 'Yes, subtle small dots/globules are present.', 'No small dots/globules are present.', 'Yes, subtle small dots/globules are present.'), ('Yes, clear and dominant large globules/cobblestone are observed.', 'No large globules/cobblestone are observed.', 'No large globules/cobblestone are observed.', 'No large globules/cobblestone are observed.', 'No large globules/cobblestone are observed.'), ('Yes, clear and dominant large globules/cobblestone are observed.', 'No large globules/cobblestone are observed.', 'No large globules/cobblestone are observed.', 'No large globules/cobblestone are observed.', 'No large globules/cobblestone are observed.'), ('Yes, clear and dominant large globules/cobblestone are observed.', 'No large globules/cobblestone are observed.', 'No large globules/cobblestone are observed.', 'No large globules/cobblestone are observed.', 'No large globules/cobblestone are observed.'), ('Yes, clear and dominant large globules/cobblestone are observed.', 'No large globules/cobblestone are observed.', 'No large globules/cobblestone are observed.', 'No large globules/cobblestone are observed.', 'No large globules/cobblestone are observed.'), ('Yes, clear and dominant large globules/cobblestone are observed.', 'No large globules/cobblestone are observed.', 'No large globules/cobblestone are observed.', 'No large globules/cobblestone are observed.', 'No large globules/cobblestone are observed.'), ('No peripheral globules are observed.', 'Yes, clear peripheral globules are observed.', 'No peripheral globules are observed.', 'No peripheral globules are observed.', 'No peripheral globules are observed.'), ('No peripheral globules are observed.', 'Yes, clear peripheral globules are observed.', 'No peripheral globules are observed.', 'No peripheral globules are observed.', 'No peripheral globules are observed.'), ('No peripheral globules are observed.', 'Yes, clear peripheral globules are observed.', 'No peripheral globules are observed.', 'No peripheral globules are observed.', 'No peripheral globules are observed.'), ('No peripheral globules are observed.', 'Yes, clear peripheral globules are observed.', 'No peripheral globules are observed.', 'No peripheral globules are observed.', 'No peripheral globules are observed.'), ('No peripheral globules are observed.', 'Yes, clear peripheral globules are observed.', 'No peripheral globules are observed.', 'No peripheral globules are observed.', 'No peripheral globules are observed.'), ('No peripheral projections are present.', 'Yes, clear peripheral projections are present.', 'Yes, subtle peripheral projections are present.', 'No peripheral projections are present.', 'No peripheral projections are present.'), ('No peripheral projections are present.', 'Yes, clear peripheral projections are present.', 'Yes, subtle peripheral projections are present.', 'No peripheral projections are present.', 'No peripheral projections are present.'), ('No peripheral projections are present.', 'Yes, clear peripheral projections are present.', 'Yes, subtle peripheral projections are present.', 'No peripheral projections are present.', 'No peripheral projections are present.'), ('No peripheral projections are present.', 'Yes, clear peripheral projections are present.', 'Yes, subtle peripheral projections are present.', 'No peripheral projections are present.', 'No peripheral projections are present.'), ('No peripheral projections are present.', 'Yes, clear peripheral projections are present.', 'Yes, subtle peripheral projections are present.', 'No peripheral projections are present.', 'No peripheral projections are present.'), ('No homogeneous area without vessels is observed.', 'No homogeneous area without vessels is observed.', 'Yes, clear and dominant homogeneous area without vessels is observed.', 'Yes, clear and dominant homogeneous area without vessels is observed.', 'No homogeneous area without vessels is observed.'), ('No homogeneous area without vessels is observed.', 'No homogeneous area without vessels is observed.', 'Yes, clear and dominant homogeneous area without vessels is observed.', 'Yes, clear and dominant homogeneous area without vessels is observed.', 'No homogeneous area without vessels is observed.'), ('No homogeneous area without vessels is observed.', 'No homogeneous area without vessels is observed.', 'Yes, clear and dominant homogeneous area without vessels is observed.', 'Yes, clear and dominant homogeneous area without vessels is observed.', 'No homogeneous area without vessels is observed.'), ('No homogeneous area without vessels is observed.', 'No homogeneous area without vessels is observed.', 'Yes, clear and dominant homogeneous area without vessels is observed.', 'Yes, clear and dominant homogeneous area without vessels is observed.', 'No homogeneous area without vessels is observed.'), ('No homogeneous area without vessels is observed.', 'No homogeneous area without vessels is observed.', 'Yes, clear and dominant homogeneous area without vessels is observed.', 'Yes, clear and dominant homogeneous area without vessels is observed.', 'No homogeneous area without vessels is observed.'), ('No homogeneous area with vessels is observed.', 'No homogeneous area with vessels is observed.', 'No homogeneous area with vessels is observed.', 'No homogeneous area with vessels is observed.', 'Yes, clear and dominant homogeneous area with vessels is observed.'), ('No homogeneous area with vessels is observed.', 'No homogeneous area with vessels is observed.', 'No homogeneous area with vessels is observed.', 'No homogeneous area with vessels is observed.', 'Yes, clear and dominant homogeneous area with vessels is observed.'), ('No homogeneous area with vessels is observed.', 'No homogeneous area with vessels is observed.', 'No homogeneous area with vessels is observed.', 'No homogeneous area with vessels is observed.', 'Yes, clear and dominant homogeneous area with vessels is observed.'), ('No homogeneous area with vessels is observed.', 'No homogeneous area with vessels is observed.', 'No homogeneous area with vessels is observed.', 'No homogeneous area with vessels is observed.', 'Yes, clear and dominant homogeneous area with vessels is observed.'), ('No homogeneous area with vessels is observed.', 'No homogeneous area with vessels is observed.', 'No homogeneous area with vessels is observed.', 'No homogeneous area with vessels is observed.', 'Yes, clear and dominant homogeneous area with vessels is observed.'), ('Yes, clear undefined area is observed.', 'Yes, clear and dominant undefined area is observed.', 'Yes, subtle undefined area is observed.', 'No undefined area is observed.', 'Yes, subtle undefined area is observed.'), ('Yes, clear undefined area is observed.', 'Yes, clear and dominant undefined area is observed.', 'Yes, subtle undefined area is observed.', 'No undefined area is observed.', 'Yes, subtle undefined area is observed.'), ('Yes, clear undefined area is observed.', 'Yes, clear and dominant undefined area is observed.', 'Yes, subtle undefined area is observed.', 'No undefined area is observed.', 'Yes, subtle undefined area is observed.'), ('Yes, clear undefined area is observed.', 'Yes, clear and dominant undefined area is observed.', 'Yes, subtle undefined area is observed.', 'No undefined area is observed.', 'Yes, subtle undefined area is observed.'), ('Yes, clear undefined area is observed.', 'Yes, clear and dominant undefined area is observed.', 'Yes, subtle undefined area is observed.', 'No undefined area is observed.', 'Yes, subtle undefined area is observed.'), ('No gray regression is observed.', 'No gray regression is observed.', 'No gray regression is observed.', 'No gray regression is observed.', 'No gray regression is observed.'), ('No gray regression is observed.', 'No gray regression is observed.', 'No gray regression is observed.', 'No gray regression is observed.', 'No gray regression is observed.'), ('No gray regression is observed.', 'No gray regression is observed.', 'No gray regression is observed.', 'No gray regression is observed.', 'No gray regression is observed.'), ('No gray regression is observed.', 'No gray regression is observed.', 'No gray regression is observed.', 'No gray regression is observed.', 'No gray regression is observed.'), ('No gray regression is observed.', 'No gray regression is observed.', 'No gray regression is observed.', 'No gray regression is observed.', 'No gray regression is observed.'), ('No white regression is observed.', 'No white regression is observed.', 'No white regression is observed.', 'No white regression is observed.', 'No white regression is observed.'), ('No white regression is observed.', 'No white regression is observed.', 'No white regression is observed.', 'No white regression is observed.', 'No white regression is observed.'), ('No white regression is observed.', 'No white regression is observed.', 'No white regression is observed.', 'No white regression is observed.', 'No white regression is observed.'), ('No white regression is observed.', 'No white regression is observed.', 'No white regression is observed.', 'No white regression is observed.', 'No white regression is observed.'), ('No white regression is observed.', 'No white regression is observed.', 'No white regression is observed.', 'No white regression is observed.', 'No white regression is observed.'), ('No whitish blue veil is observed.', 'Yes, subtle whitish blue veil is observed.', 'Yes, clear whitish blue veil is observed.', 'Yes, subtle whitish blue veil is observed.', 'No whitish blue veil is observed.'), ('No whitish blue veil is observed.', 'Yes, subtle whitish blue veil is observed.', 'Yes, clear whitish blue veil is observed.', 'Yes, subtle whitish blue veil is observed.', 'No whitish blue veil is observed.'), ('No whitish blue veil is observed.', 'Yes, subtle whitish blue veil is observed.', 'Yes, clear whitish blue veil is observed.', 'Yes, subtle whitish blue veil is observed.', 'No whitish blue veil is observed.'), ('No whitish blue veil is observed.', 'Yes, subtle whitish blue veil is observed.', 'Yes, clear whitish blue veil is observed.', 'Yes, subtle whitish blue veil is observed.', 'No whitish blue veil is observed.'), ('No whitish blue veil is observed.', 'Yes, subtle whitish blue veil is observed.', 'Yes, clear whitish blue veil is observed.', 'Yes, subtle whitish blue veil is observed.', 'No whitish blue veil is observed.'), ('No chrysalis is observed.', 'Yes, subtle chrysalis is observed.', 'No chrysalis is observed.', 'No chrysalis is observed.', 'No chrysalis is observed.'), ('No chrysalis is observed.', 'Yes, subtle chrysalis is observed.', 'No chrysalis is observed.', 'No chrysalis is observed.', 'No chrysalis is observed.'), ('No chrysalis is observed.', 'Yes, subtle chrysalis is observed.', 'No chrysalis is observed.', 'No chrysalis is observed.', 'No chrysalis is observed.'), ('No chrysalis is observed.', 'Yes, subtle chrysalis is observed.', 'No chrysalis is observed.', 'No chrysalis is observed.', 'No chrysalis is observed.'), ('No chrysalis is observed.', 'Yes, subtle chrysalis is observed.', 'No chrysalis is observed.', 'No chrysalis is observed.', 'No chrysalis is observed.')]\n"
          ]
        },
        {
          "output_type": "display_data",
          "data": {
            "text/plain": [
              "<Figure size 640x480 with 1 Axes>"
            ],
            "image/png": "[encoded data removed]"
          },
          "metadata": {}
        },
        {
          "output_type": "stream",
          "name": "stdout",
          "text": [
            "1 [('The general silhouette of the lesion is flat.', 'The general silhouette of the lesion is flat.', 'The general silhouette of the lesion is flat.', 'The general silhouette of the lesion is flat.', 'The general silhouette of the lesion is flattened elevated.'), ('The general silhouette of the lesion is flat.', 'The general silhouette of the lesion is flat.', 'The general silhouette of the lesion is flat.', 'The general silhouette of the lesion is flat.', 'The general silhouette of the lesion is flattened elevated.'), ('The general silhouette of the lesion is flat.', 'The general silhouette of the lesion is flat.', 'The general silhouette of the lesion is flat.', 'The general silhouette of the lesion is flat.', 'The general silhouette of the lesion is flattened elevated.'), ('The general silhouette of the lesion is flat.', 'The general silhouette of the lesion is flat.', 'The general silhouette of the lesion is flat.', 'The general silhouette of the lesion is flat.', 'The general silhouette of the lesion is flattened elevated.'), ('The general silhouette of the lesion is flat.', 'The general silhouette of the lesion is flat.', 'The general silhouette of the lesion is flat.', 'The general silhouette of the lesion is flat.', 'The general silhouette of the lesion is flattened elevated.'), ('The histology diagnostic indicates lentiginous melanocytic nevus (lmn).', 'The histology diagnostic indicates non-atypical stable mole (m).', 'The histology diagnostic indicates compound melanocytic nevus (cmn).', 'The histology diagnostic indicates lentiginous melanocytic nevus (lmn).', 'The histology diagnostic indicates dysplastic melanocytic nevus (dmn).'), ('The histology diagnostic indicates lentiginous melanocytic nevus (lmn).', 'The histology diagnostic indicates non-atypical stable mole (m).', 'The histology diagnostic indicates compound melanocytic nevus (cmn).', 'The histology diagnostic indicates lentiginous melanocytic nevus (lmn).', 'The histology diagnostic indicates dysplastic melanocytic nevus (dmn).'), ('The histology diagnostic indicates lentiginous melanocytic nevus (lmn).', 'The histology diagnostic indicates non-atypical stable mole (m).', 'The histology diagnostic indicates compound melanocytic nevus (cmn).', 'The histology diagnostic indicates lentiginous melanocytic nevus (lmn).', 'The histology diagnostic indicates dysplastic melanocytic nevus (dmn).'), ('The histology diagnostic indicates lentiginous melanocytic nevus (lmn).', 'The histology diagnostic indicates non-atypical stable mole (m).', 'The histology diagnostic indicates compound melanocytic nevus (cmn).', 'The histology diagnostic indicates lentiginous melanocytic nevus (lmn).', 'The histology diagnostic indicates dysplastic melanocytic nevus (dmn).'), ('The histology diagnostic indicates lentiginous melanocytic nevus (lmn).', 'The histology diagnostic indicates non-atypical stable mole (m).', 'The histology diagnostic indicates compound melanocytic nevus (cmn).', 'The histology diagnostic indicates lentiginous melanocytic nevus (lmn).', 'The histology diagnostic indicates dysplastic melanocytic nevus (dmn).'), ('The presence of dysplasia is not applicable.', 'The presence of dysplasia is not applicable.', 'The presence of dysplasia is not applicable.', 'The presence of dysplasia is not applicable.', 'The presence of dysplasia is not available.'), ('The presence of dysplasia is not applicable.', 'The presence of dysplasia is not applicable.', 'The presence of dysplasia is not applicable.', 'The presence of dysplasia is not applicable.', 'The presence of dysplasia is not available.'), ('The presence of dysplasia is not applicable.', 'The presence of dysplasia is not applicable.', 'The presence of dysplasia is not applicable.', 'The presence of dysplasia is not applicable.', 'The presence of dysplasia is not available.'), ('The presence of dysplasia is not applicable.', 'The presence of dysplasia is not applicable.', 'The presence of dysplasia is not applicable.', 'The presence of dysplasia is not applicable.', 'The presence of dysplasia is not available.'), ('The presence of dysplasia is not applicable.', 'The presence of dysplasia is not applicable.', 'The presence of dysplasia is not applicable.', 'The presence of dysplasia is not applicable.', 'The presence of dysplasia is not available.'), ('The diagnostic impression is exclude melanoma.', 'The diagnostic impression is non-atypical mole.', 'The diagnostic impression is atypical mole.', 'The diagnostic impression is atypical mole.', 'The diagnostic impression is atypical mole.'), ('The diagnostic impression is exclude melanoma.', 'The diagnostic impression is non-atypical mole.', 'The diagnostic impression is atypical mole.', 'The diagnostic impression is atypical mole.', 'The diagnostic impression is atypical mole.'), ('The diagnostic impression is exclude melanoma.', 'The diagnostic impression is non-atypical mole.', 'The diagnostic impression is atypical mole.', 'The diagnostic impression is atypical mole.', 'The diagnostic impression is atypical mole.'), ('The diagnostic impression is exclude melanoma.', 'The diagnostic impression is non-atypical mole.', 'The diagnostic impression is atypical mole.', 'The diagnostic impression is atypical mole.', 'The diagnostic impression is atypical mole.'), ('The diagnostic impression is exclude melanoma.', 'The diagnostic impression is non-atypical mole.', 'The diagnostic impression is atypical mole.', 'The diagnostic impression is atypical mole.', 'The diagnostic impression is atypical mole.'), ('The diagnostic difficulty level is high.', 'The diagnostic difficulty level is low.', 'The diagnostic difficulty level is medium.', 'The diagnostic difficulty level is medium.', 'The diagnostic difficulty level is medium.'), ('The diagnostic difficulty level is high.', 'The diagnostic difficulty level is low.', 'The diagnostic difficulty level is medium.', 'The diagnostic difficulty level is medium.', 'The diagnostic difficulty level is medium.'), ('The diagnostic difficulty level is high.', 'The diagnostic difficulty level is low.', 'The diagnostic difficulty level is medium.', 'The diagnostic difficulty level is medium.', 'The diagnostic difficulty level is medium.'), ('The diagnostic difficulty level is high.', 'The diagnostic difficulty level is low.', 'The diagnostic difficulty level is medium.', 'The diagnostic difficulty level is medium.', 'The diagnostic difficulty level is medium.'), ('The diagnostic difficulty level is high.', 'The diagnostic difficulty level is low.', 'The diagnostic difficulty level is medium.', 'The diagnostic difficulty level is medium.', 'The diagnostic difficulty level is medium.'), ('The lesion has been follow-up, without previous dermoscopy.', 'The lesion has been not excised.', 'The lesion has been first consultation.', 'The lesion has been follow-up with previous dermoscopy, due to changes.', 'The lesion has been follow-up with previous dermoscopy, due to changes.'), ('The lesion has been follow-up, without previous dermoscopy.', 'The lesion has been not excised.', 'The lesion has been first consultation.', 'The lesion has been follow-up with previous dermoscopy, due to changes.', 'The lesion has been follow-up with previous dermoscopy, due to changes.'), ('The lesion has been follow-up, without previous dermoscopy.', 'The lesion has been not excised.', 'The lesion has been first consultation.', 'The lesion has been follow-up with previous dermoscopy, due to changes.', 'The lesion has been follow-up with previous dermoscopy, due to changes.'), ('The lesion has been follow-up, without previous dermoscopy.', 'The lesion has been not excised.', 'The lesion has been first consultation.', 'The lesion has been follow-up with previous dermoscopy, due to changes.', 'The lesion has been follow-up with previous dermoscopy, due to changes.'), ('The lesion has been follow-up, without previous dermoscopy.', 'The lesion has been not excised.', 'The lesion has been first consultation.', 'The lesion has been follow-up with previous dermoscopy, due to changes.', 'The lesion has been follow-up with previous dermoscopy, due to changes.'), ('The global pattern of the lesion is undefined.', 'The global pattern of the lesion is mixed (mix of two of the above).', 'The global pattern of the lesion is mixed (mix of two of the above).', 'The global pattern of the lesion is mixed (mix of two of the above).', 'The global pattern of the lesion is multicomponent (mix of 3 or more above).'), ('The global pattern of the lesion is undefined.', 'The global pattern of the lesion is mixed (mix of two of the above).', 'The global pattern of the lesion is mixed (mix of two of the above).', 'The global pattern of the lesion is mixed (mix of two of the above).', 'The global pattern of the lesion is multicomponent (mix of 3 or more above).'), ('The global pattern of the lesion is undefined.', 'The global pattern of the lesion is mixed (mix of two of the above).', 'The global pattern of the lesion is mixed (mix of two of the above).', 'The global pattern of the lesion is mixed (mix of two of the above).', 'The global pattern of the lesion is multicomponent (mix of 3 or more above).'), ('The global pattern of the lesion is undefined.', 'The global pattern of the lesion is mixed (mix of two of the above).', 'The global pattern of the lesion is mixed (mix of two of the above).', 'The global pattern of the lesion is mixed (mix of two of the above).', 'The global pattern of the lesion is multicomponent (mix of 3 or more above).'), ('The global pattern of the lesion is undefined.', 'The global pattern of the lesion is mixed (mix of two of the above).', 'The global pattern of the lesion is mixed (mix of two of the above).', 'The global pattern of the lesion is mixed (mix of two of the above).', 'The global pattern of the lesion is multicomponent (mix of 3 or more above).'), ('The peripheral globular pattern is irregular bursting.', 'The peripheral globular pattern is absent.', 'The peripheral globular pattern is absent.', 'The peripheral globular pattern is absent.', 'The peripheral globular pattern is absent.'), ('The peripheral globular pattern is irregular bursting.', 'The peripheral globular pattern is absent.', 'The peripheral globular pattern is absent.', 'The peripheral globular pattern is absent.', 'The peripheral globular pattern is absent.'), ('The peripheral globular pattern is irregular bursting.', 'The peripheral globular pattern is absent.', 'The peripheral globular pattern is absent.', 'The peripheral globular pattern is absent.', 'The peripheral globular pattern is absent.'), ('The peripheral globular pattern is irregular bursting.', 'The peripheral globular pattern is absent.', 'The peripheral globular pattern is absent.', 'The peripheral globular pattern is absent.', 'The peripheral globular pattern is absent.'), ('The peripheral globular pattern is irregular bursting.', 'The peripheral globular pattern is absent.', 'The peripheral globular pattern is absent.', 'The peripheral globular pattern is absent.', 'The peripheral globular pattern is absent.'), ('The lesion is asymmetric on two axes.', 'The lesion is symmetric.', 'The lesion is asymmetric on two axes.', 'The lesion is asymmetric on two axes.', 'The lesion is asymmetric on two axes.'), ('The lesion is asymmetric on two axes.', 'The lesion is symmetric.', 'The lesion is asymmetric on two axes.', 'The lesion is asymmetric on two axes.', 'The lesion is asymmetric on two axes.'), ('The lesion is asymmetric on two axes.', 'The lesion is symmetric.', 'The lesion is asymmetric on two axes.', 'The lesion is asymmetric on two axes.', 'The lesion is asymmetric on two axes.'), ('The lesion is asymmetric on two axes.', 'The lesion is symmetric.', 'The lesion is asymmetric on two axes.', 'The lesion is asymmetric on two axes.', 'The lesion is asymmetric on two axes.'), ('The lesion is asymmetric on two axes.', 'The lesion is symmetric.', 'The lesion is asymmetric on two axes.', 'The lesion is asymmetric on two axes.', 'The lesion is asymmetric on two axes.'), ('Yes, subtle pigmented reticulum is observed.', 'Yes, clear and dominant pigmented reticulum is observed.', 'No pigmented reticulum is observed.', 'Yes, clear and dominant pigmented reticulum is observed.', 'Yes, subtle pigmented reticulum is observed.'), ('Yes, subtle pigmented reticulum is observed.', 'Yes, clear and dominant pigmented reticulum is observed.', 'No pigmented reticulum is observed.', 'Yes, clear and dominant pigmented reticulum is observed.', 'Yes, subtle pigmented reticulum is observed.'), ('Yes, subtle pigmented reticulum is observed.', 'Yes, clear and dominant pigmented reticulum is observed.', 'No pigmented reticulum is observed.', 'Yes, clear and dominant pigmented reticulum is observed.', 'Yes, subtle pigmented reticulum is observed.'), ('Yes, subtle pigmented reticulum is observed.', 'Yes, clear and dominant pigmented reticulum is observed.', 'No pigmented reticulum is observed.', 'Yes, clear and dominant pigmented reticulum is observed.', 'Yes, subtle pigmented reticulum is observed.'), ('Yes, subtle pigmented reticulum is observed.', 'Yes, clear and dominant pigmented reticulum is observed.', 'No pigmented reticulum is observed.', 'Yes, clear and dominant pigmented reticulum is observed.', 'Yes, subtle pigmented reticulum is observed.'), ('No negative reticulum is observed.', 'No negative reticulum is observed.', 'Yes, subtle negative reticulum is observed.', 'No negative reticulum is observed.', 'Yes, clear negative reticulum is observed.'), ('No negative reticulum is observed.', 'No negative reticulum is observed.', 'Yes, subtle negative reticulum is observed.', 'No negative reticulum is observed.', 'Yes, clear negative reticulum is observed.'), ('No negative reticulum is observed.', 'No negative reticulum is observed.', 'Yes, subtle negative reticulum is observed.', 'No negative reticulum is observed.', 'Yes, clear negative reticulum is observed.'), ('No negative reticulum is observed.', 'No negative reticulum is observed.', 'Yes, subtle negative reticulum is observed.', 'No negative reticulum is observed.', 'Yes, clear negative reticulum is observed.'), ('No negative reticulum is observed.', 'No negative reticulum is observed.', 'Yes, subtle negative reticulum is observed.', 'No negative reticulum is observed.', 'Yes, clear negative reticulum is observed.'), ('Yes, subtle small dots/globules are present.', 'No small dots/globules are present.', 'Yes, clear small dots/globules are present.', 'No small dots/globules are present.', 'Yes, clear and dominant small dots/globules are present.'), ('Yes, subtle small dots/globules are present.', 'No small dots/globules are present.', 'Yes, clear small dots/globules are present.', 'No small dots/globules are present.', 'Yes, clear and dominant small dots/globules are present.'), ('Yes, subtle small dots/globules are present.', 'No small dots/globules are present.', 'Yes, clear small dots/globules are present.', 'No small dots/globules are present.', 'Yes, clear and dominant small dots/globules are present.'), ('Yes, subtle small dots/globules are present.', 'No small dots/globules are present.', 'Yes, clear small dots/globules are present.', 'No small dots/globules are present.', 'Yes, clear and dominant small dots/globules are present.'), ('Yes, subtle small dots/globules are present.', 'No small dots/globules are present.', 'Yes, clear small dots/globules are present.', 'No small dots/globules are present.', 'Yes, clear and dominant small dots/globules are present.'), ('No large globules/cobblestone are observed.', 'No large globules/cobblestone are observed.', 'No large globules/cobblestone are observed.', 'No large globules/cobblestone are observed.', 'No large globules/cobblestone are observed.'), ('No large globules/cobblestone are observed.', 'No large globules/cobblestone are observed.', 'No large globules/cobblestone are observed.', 'No large globules/cobblestone are observed.', 'No large globules/cobblestone are observed.'), ('No large globules/cobblestone are observed.', 'No large globules/cobblestone are observed.', 'No large globules/cobblestone are observed.', 'No large globules/cobblestone are observed.', 'No large globules/cobblestone are observed.'), ('No large globules/cobblestone are observed.', 'No large globules/cobblestone are observed.', 'No large globules/cobblestone are observed.', 'No large globules/cobblestone are observed.', 'No large globules/cobblestone are observed.'), ('No large globules/cobblestone are observed.', 'No large globules/cobblestone are observed.', 'No large globules/cobblestone are observed.', 'No large globules/cobblestone are observed.', 'No large globules/cobblestone are observed.'), ('Yes, subtle peripheral globules are observed.', 'No peripheral globules are observed.', 'No peripheral globules are observed.', 'No peripheral globules are observed.', 'No peripheral globules are observed.'), ('Yes, subtle peripheral globules are observed.', 'No peripheral globules are observed.', 'No peripheral globules are observed.', 'No peripheral globules are observed.', 'No peripheral globules are observed.'), ('Yes, subtle peripheral globules are observed.', 'No peripheral globules are observed.', 'No peripheral globules are observed.', 'No peripheral globules are observed.', 'No peripheral globules are observed.'), ('Yes, subtle peripheral globules are observed.', 'No peripheral globules are observed.', 'No peripheral globules are observed.', 'No peripheral globules are observed.', 'No peripheral globules are observed.'), ('Yes, subtle peripheral globules are observed.', 'No peripheral globules are observed.', 'No peripheral globules are observed.', 'No peripheral globules are observed.', 'No peripheral globules are observed.'), ('Yes, subtle peripheral projections are present.', 'No peripheral projections are present.', 'No peripheral projections are present.', 'No peripheral projections are present.', 'No peripheral projections are present.'), ('Yes, subtle peripheral projections are present.', 'No peripheral projections are present.', 'No peripheral projections are present.', 'No peripheral projections are present.', 'No peripheral projections are present.'), ('Yes, subtle peripheral projections are present.', 'No peripheral projections are present.', 'No peripheral projections are present.', 'No peripheral projections are present.', 'No peripheral projections are present.'), ('Yes, subtle peripheral projections are present.', 'No peripheral projections are present.', 'No peripheral projections are present.', 'No peripheral projections are present.', 'No peripheral projections are present.'), ('Yes, subtle peripheral projections are present.', 'No peripheral projections are present.', 'No peripheral projections are present.', 'No peripheral projections are present.', 'No peripheral projections are present.'), ('Yes, subtle homogeneous area without vessels is observed.', 'No homogeneous area without vessels is observed.', 'Yes, clear homogeneous area without vessels is observed.', 'Yes, clear homogeneous area without vessels is observed.', 'No homogeneous area without vessels is observed.'), ('Yes, subtle homogeneous area without vessels is observed.', 'No homogeneous area without vessels is observed.', 'Yes, clear homogeneous area without vessels is observed.', 'Yes, clear homogeneous area without vessels is observed.', 'No homogeneous area without vessels is observed.'), ('Yes, subtle homogeneous area without vessels is observed.', 'No homogeneous area without vessels is observed.', 'Yes, clear homogeneous area without vessels is observed.', 'Yes, clear homogeneous area without vessels is observed.', 'No homogeneous area without vessels is observed.'), ('Yes, subtle homogeneous area without vessels is observed.', 'No homogeneous area without vessels is observed.', 'Yes, clear homogeneous area without vessels is observed.', 'Yes, clear homogeneous area without vessels is observed.', 'No homogeneous area without vessels is observed.'), ('Yes, subtle homogeneous area without vessels is observed.', 'No homogeneous area without vessels is observed.', 'Yes, clear homogeneous area without vessels is observed.', 'Yes, clear homogeneous area without vessels is observed.', 'No homogeneous area without vessels is observed.'), ('No homogeneous area with vessels is observed.', 'No homogeneous area with vessels is observed.', 'Yes, subtle homogeneous area with vessels is observed.', 'No homogeneous area with vessels is observed.', 'No homogeneous area with vessels is observed.'), ('No homogeneous area with vessels is observed.', 'No homogeneous area with vessels is observed.', 'Yes, subtle homogeneous area with vessels is observed.', 'No homogeneous area with vessels is observed.', 'No homogeneous area with vessels is observed.'), ('No homogeneous area with vessels is observed.', 'No homogeneous area with vessels is observed.', 'Yes, subtle homogeneous area with vessels is observed.', 'No homogeneous area with vessels is observed.', 'No homogeneous area with vessels is observed.'), ('No homogeneous area with vessels is observed.', 'No homogeneous area with vessels is observed.', 'Yes, subtle homogeneous area with vessels is observed.', 'No homogeneous area with vessels is observed.', 'No homogeneous area with vessels is observed.'), ('No homogeneous area with vessels is observed.', 'No homogeneous area with vessels is observed.', 'Yes, subtle homogeneous area with vessels is observed.', 'No homogeneous area with vessels is observed.', 'No homogeneous area with vessels is observed.'), ('Yes, clear and dominant undefined area is observed.', 'Yes, clear undefined area is observed.', 'Yes, subtle undefined area is observed.', 'Yes, subtle undefined area is observed.', 'Yes, clear undefined area is observed.'), ('Yes, clear and dominant undefined area is observed.', 'Yes, clear undefined area is observed.', 'Yes, subtle undefined area is observed.', 'Yes, subtle undefined area is observed.', 'Yes, clear undefined area is observed.'), ('Yes, clear and dominant undefined area is observed.', 'Yes, clear undefined area is observed.', 'Yes, subtle undefined area is observed.', 'Yes, subtle undefined area is observed.', 'Yes, clear undefined area is observed.'), ('Yes, clear and dominant undefined area is observed.', 'Yes, clear undefined area is observed.', 'Yes, subtle undefined area is observed.', 'Yes, subtle undefined area is observed.', 'Yes, clear undefined area is observed.'), ('Yes, clear and dominant undefined area is observed.', 'Yes, clear undefined area is observed.', 'Yes, subtle undefined area is observed.', 'Yes, subtle undefined area is observed.', 'Yes, clear undefined area is observed.'), ('No gray regression is observed.', 'No gray regression is observed.', 'No gray regression is observed.', 'No gray regression is observed.', 'No gray regression is observed.'), ('No gray regression is observed.', 'No gray regression is observed.', 'No gray regression is observed.', 'No gray regression is observed.', 'No gray regression is observed.'), ('No gray regression is observed.', 'No gray regression is observed.', 'No gray regression is observed.', 'No gray regression is observed.', 'No gray regression is observed.'), ('No gray regression is observed.', 'No gray regression is observed.', 'No gray regression is observed.', 'No gray regression is observed.', 'No gray regression is observed.'), ('No gray regression is observed.', 'No gray regression is observed.', 'No gray regression is observed.', 'No gray regression is observed.', 'No gray regression is observed.'), ('No white regression is observed.', 'No white regression is observed.', 'No white regression is observed.', 'No white regression is observed.', 'No white regression is observed.'), ('No white regression is observed.', 'No white regression is observed.', 'No white regression is observed.', 'No white regression is observed.', 'No white regression is observed.'), ('No white regression is observed.', 'No white regression is observed.', 'No white regression is observed.', 'No white regression is observed.', 'No white regression is observed.'), ('No white regression is observed.', 'No white regression is observed.', 'No white regression is observed.', 'No white regression is observed.', 'No white regression is observed.'), ('No white regression is observed.', 'No white regression is observed.', 'No white regression is observed.', 'No white regression is observed.', 'No white regression is observed.'), ('No whitish blue veil is observed.', 'No whitish blue veil is observed.', 'No whitish blue veil is observed.', 'No whitish blue veil is observed.', 'No whitish blue veil is observed.'), ('No whitish blue veil is observed.', 'No whitish blue veil is observed.', 'No whitish blue veil is observed.', 'No whitish blue veil is observed.', 'No whitish blue veil is observed.'), ('No whitish blue veil is observed.', 'No whitish blue veil is observed.', 'No whitish blue veil is observed.', 'No whitish blue veil is observed.', 'No whitish blue veil is observed.'), ('No whitish blue veil is observed.', 'No whitish blue veil is observed.', 'No whitish blue veil is observed.', 'No whitish blue veil is observed.', 'No whitish blue veil is observed.'), ('No whitish blue veil is observed.', 'No whitish blue veil is observed.', 'No whitish blue veil is observed.', 'No whitish blue veil is observed.', 'No whitish blue veil is observed.'), ('No chrysalis is observed.', 'No chrysalis is observed.', 'No chrysalis is observed.', 'No chrysalis is observed.', 'No chrysalis is observed.'), ('No chrysalis is observed.', 'No chrysalis is observed.', 'No chrysalis is observed.', 'No chrysalis is observed.', 'No chrysalis is observed.'), ('No chrysalis is observed.', 'No chrysalis is observed.', 'No chrysalis is observed.', 'No chrysalis is observed.', 'No chrysalis is observed.'), ('No chrysalis is observed.', 'No chrysalis is observed.', 'No chrysalis is observed.', 'No chrysalis is observed.', 'No chrysalis is observed.'), ('No chrysalis is observed.', 'No chrysalis is observed.', 'No chrysalis is observed.', 'No chrysalis is observed.', 'No chrysalis is observed.')]\n"
          ]
        },
        {
          "output_type": "display_data",
          "data": {
            "text/plain": [
              "<Figure size 640x480 with 1 Axes>"
            ],
            "image/png": "[encoded data removed]"
          },
          "metadata": {}
        }
      ],
      "source": [
        "# Iterate over the dataloader and visualize batches\n",
        "for i_batch, sample_batched in enumerate(pizarro_dataloader):\n",
        "    print(i_batch, sample_batched[2])\n",
        "    show_batch(sample_batched)\n",
        "\n",
        "    # Show only the data of the 3rd batch and stop.\n",
        "    if i_batch == 1:\n",
        "        break"
      ]
    },
    {
      "cell_type": "markdown",
      "metadata": {
        "id": "uZQYNuFsKI3k"
      },
      "source": [
        "## Image Feature Extraction"
      ]
    },
    {
      "cell_type": "code",
      "execution_count": 32,
      "metadata": {
        "id": "XL6ILzWtlPEV"
      },
      "outputs": [],
      "source": [
        "def extract_image_features(model, dataloader):\n",
        "    model.eval()  # Set the model to evaluation mode\n",
        "    num_samples = len(dataloader.dataset)\n",
        "\n",
        "    # Get the output shape of the model\n",
        "    with torch.no_grad():\n",
        "        sample_input = next(iter(dataloader))[0].to(next(model.parameters()).device)\n",
        "        output_shape = model(sample_input).shape[1:]\n",
        "\n",
        "    # Calculate the total number of features\n",
        "    num_features = np.prod(output_shape)\n",
        "\n",
        "    features = np.zeros((num_samples, num_features), dtype=np.float32)\n",
        "    sample_idx = 0\n",
        "\n",
        "    with torch.no_grad():\n",
        "        for sample in dataloader:\n",
        "            # Get images\n",
        "            inputs = sample[0].to(device).float()\n",
        "\n",
        "            # Forward pass\n",
        "            outputs = model(inputs)\n",
        "\n",
        "            # Flatten the output tensor\n",
        "            outputs_flat = outputs.view(outputs.size(0), -1)\n",
        "\n",
        "            # Store features\n",
        "            batch_size = inputs.size(0)\n",
        "            features[sample_idx:sample_idx + batch_size, :] = outputs_flat.cpu().numpy()\n",
        "            sample_idx += batch_size\n",
        "\n",
        "    return torch.tensor(features, device=device)"
      ]
    },
    {
      "cell_type": "code",
      "execution_count": 33,
      "metadata": {
        "id": "F9gqOoAOdYQ_"
      },
      "outputs": [],
      "source": [
        "# features_pizarro = extract_image_features(resnet, pizarro_dataloader)"
      ]
    },
    {
      "cell_type": "code",
      "execution_count": 34,
      "metadata": {
        "id": "Ey1rr3KGiNYm"
      },
      "outputs": [],
      "source": [
        "# features_pizarro"
      ]
    },
    {
      "cell_type": "code",
      "source": [
        "# features_pizarro[1].size()"
      ],
      "metadata": {
        "id": "fF81H5Y4VWik"
      },
      "execution_count": 35,
      "outputs": []
    },
    {
      "cell_type": "code",
      "source": [
        "# images, questions, answers = next(iter(pizarro_dataloader))\n",
        "# print(images.size())\n",
        "# print(np.shape(np.transpose(questions)))\n",
        "# print(np.transpose(questions))"
      ],
      "metadata": {
        "id": "yaITjrcgzRE-"
      },
      "execution_count": 36,
      "outputs": []
    },
    {
      "cell_type": "code",
      "source": [
        "# Function to print GPU memory usage\n",
        "def print_gpu_memory():\n",
        "    print(f\"Memory allocated: {torch.cuda.memory_allocated() / 1024**2:.2f} MB\")\n",
        "    print(f\"Memory reserved: {torch.cuda.memory_reserved() / 1024**2:.2f} MB\")"
      ],
      "metadata": {
        "id": "6EeNiyfjCzIi"
      },
      "execution_count": 37,
      "outputs": []
    },
    {
      "cell_type": "markdown",
      "metadata": {
        "id": "w4HfihfzJ3a6"
      },
      "source": [
        "## VQA Model Creation"
      ]
    },
    {
      "cell_type": "code",
      "execution_count": 38,
      "metadata": {
        "id": "huaJqeXCLI6R"
      },
      "outputs": [],
      "source": [
        "# class VQAModel(nn.Module):\n",
        "#     def __init__(self, resnet, vlm, tokenizer):\n",
        "#         super(VQAModel, self).__init__()\n",
        "\n",
        "#         # Pre-trained ResNet model\n",
        "#         self.resnet = resnet\n",
        "#         # Vision Language Model\n",
        "#         self.vlm = vlm\n",
        "#         # Tokenizer\n",
        "#         self.tokenizer = tokenizer\n",
        "#         # Freeze parameters of the ResNet model\n",
        "#         for param in self.resnet.parameters():\n",
        "#             param.requires_grad = False\n",
        "\n",
        "#     def forward(self, images, questions, dataloader, labels_idxs=None, training=False):\n",
        "\n",
        "#         # Transpose questions\n",
        "#         questions = np.transpose(questions)\n",
        "#         # Store shape for iteration\n",
        "#         num_images, num_questions_per_image = np.shape(questions)\n",
        "\n",
        "#         # Extract image features\n",
        "#         with torch.no_grad():\n",
        "#             image_features = extract_image_features(self.resnet, dataloader)\n",
        "\n",
        "#         # Prepare image inputs\n",
        "#         visual_token_type_ids = torch.ones(image_features.shape[:-1], dtype=torch.long, device=device)\n",
        "#         visual_attention_mask = torch.ones(image_features.shape[:-1], dtype=torch.float, device=device)\n",
        "\n",
        "#         # Iterate over all questions for each image\n",
        "#         inputs = []\n",
        "#         for image_idx in range(num_images):\n",
        "#             tokenized_questions = []\n",
        "#             for question_idx in range(num_questions_per_image):\n",
        "#                 # Tokenize question\n",
        "#                 tokenized_question = self.tokenizer(questions[image_idx, question_idx],\n",
        "#                                                     return_token_type_ids=True,\n",
        "#                                                     return_attention_mask=True,\n",
        "#                                                     add_special_tokens=True,\n",
        "#                                                     return_tensors='pt')\n",
        "\n",
        "#                 # Input for the VLM model (refer to VisualBert to understand the shapes)\n",
        "#                 input_dict = {\n",
        "#                     \"visual_embeds\": image_features[image_idx].unsqueeze(0),\n",
        "#                     \"visual_token_type_ids\": visual_token_type_ids.unsqueeze(0),\n",
        "#                     \"visual_attention_mask\": visual_attention_mask.unsqueeze(0),\n",
        "#                     \"input_ids\": tokenized_question['input_ids'].to(device),\n",
        "#                     \"token_type_ids\": tokenized_question['token_type_ids'].to(device),\n",
        "#                     \"attention_mask\": tokenized_question['attention_mask'].to(device),\n",
        "#                 }\n",
        "#                 tokenized_questions.append(input_dict)\n",
        "\n",
        "#             inputs.append(tokenized_questions)\n",
        "\n",
        "#         outputs = []\n",
        "#         for tokenized_questions in inputs:\n",
        "#             answers = []\n",
        "#             for input_dict in tokenized_questions:\n",
        "#                 # Only compute gradients in training\n",
        "#                 if training:\n",
        "#                     output = self.vlm(**input_dict, labels=labels_idxs)\n",
        "#                 else:\n",
        "#                     with torch.no_grad():\n",
        "#                         output = self.vlm(**input_dict)\n",
        "#                 print_gpu_memory()\n",
        "#                 answers.append(output)\n",
        "#             outputs.append(answers)\n",
        "\n",
        "#         return outputs"
      ]
    },
    {
      "cell_type": "code",
      "source": [
        "class VQAModel(nn.Module):\n",
        "    def __init__(self, resnet, vlm, tokenizer):\n",
        "        super(VQAModel, self).__init__()\n",
        "\n",
        "        # Pre-trained ResNet model\n",
        "        self.resnet = resnet\n",
        "        # Vision Language Model\n",
        "        self.vlm = vlm\n",
        "        # Tokenizer\n",
        "        self.tokenizer = tokenizer\n",
        "        # Freeze parameters of the ResNet model\n",
        "        for param in self.resnet.parameters():\n",
        "            param.requires_grad = False\n",
        "\n",
        "    def forward(self, images, questions, dataloader, labels_idxs=None, training=False):\n",
        "\n",
        "        # Transpose questions\n",
        "        questions = np.transpose(questions)\n",
        "        # Store shape for iteration\n",
        "        num_images, num_questions_per_image = np.shape(questions)\n",
        "\n",
        "        # Extract image features\n",
        "        with torch.no_grad():\n",
        "            image_features = extract_image_features(self.resnet, dataloader)\n",
        "\n",
        "        # Prepare image inputs\n",
        "        visual_token_type_ids = torch.ones(image_features.shape[:-1], dtype=torch.long, device=device)\n",
        "        visual_attention_mask = torch.ones(image_features.shape[:-1], dtype=torch.float, device=device)\n",
        "\n",
        "        # Iterate over all questions for each image\n",
        "        inputs = []\n",
        "        for image_idx in range(num_images):\n",
        "            tokenized_questions = []\n",
        "            for question_idx in range(num_questions_per_image):\n",
        "                # Tokenize question\n",
        "                tokenized_question = self.tokenizer(questions[image_idx, question_idx],\n",
        "                                                    return_token_type_ids=True,\n",
        "                                                    return_attention_mask=True,\n",
        "                                                    add_special_tokens=True,\n",
        "                                                    return_tensors='pt')\n",
        "\n",
        "                # Input for the VLM model (refer to VisualBert to understand the shapes)\n",
        "                input_dict = {\n",
        "                    \"visual_embeds\": image_features[image_idx].unsqueeze(0),\n",
        "                    \"visual_token_type_ids\": visual_token_type_ids.unsqueeze(0),\n",
        "                    \"visual_attention_mask\": visual_attention_mask.unsqueeze(0),\n",
        "                    \"input_ids\": tokenized_question['input_ids'].to(device),\n",
        "                    \"token_type_ids\": tokenized_question['token_type_ids'].to(device),\n",
        "                    \"attention_mask\": tokenized_question['attention_mask'].to(device),\n",
        "                }\n",
        "                tokenized_questions.append(input_dict)\n",
        "\n",
        "            inputs.append(tokenized_questions)\n",
        "\n",
        "        outputs = []\n",
        "        batch_loss = 0.0\n",
        "        for tokenized_questions in inputs:\n",
        "            answers = []\n",
        "            for input_dict in tokenized_questions:\n",
        "                # Only compute gradients in training\n",
        "                if training:\n",
        "                    # Store label indices\n",
        "                    output = self.vlm(**input_dict, labels=labels_idxs)\n",
        "                    logits = output.logits\n",
        "                    probabilities = torch.softmax(logits, dim=-1)\n",
        "                    pred_index = torch.argmax(probabilities, dim=-1)\n",
        "\n",
        "                    # Store loss\n",
        "                    loss = output.loss\n",
        "                    batch_loss += loss.item()\n",
        "\n",
        "                    # Free memory of large tensors\n",
        "                    del output\n",
        "                    del logits\n",
        "                    del loss\n",
        "                else:\n",
        "                    # Gradients are not stored (no memory issues)\n",
        "                    with torch.no_grad():\n",
        "                        output = self.vlm(**input_dict)\n",
        "                        logits = output.logits\n",
        "                        probabilities = torch.softmax(logits, dim=-1)\n",
        "                        pred_index = torch.argmax(probabilities, dim=-1)\n",
        "                        # Calculate loss\n",
        "                        loss = output.loss\n",
        "                        batch_loss += loss.item()\n",
        "                # Track memory use\n",
        "                print_gpu_memory()\n",
        "                answers.append(pred_index)\n",
        "\n",
        "            outputs.append(answers)\n",
        "\n",
        "        batch_loss = torch.tensor(batch_loss/len(outputs), device=device)\n",
        "\n",
        "        return outputs, batch_loss"
      ],
      "metadata": {
        "id": "B1Xe0fuYKWbo"
      },
      "execution_count": 39,
      "outputs": []
    },
    {
      "cell_type": "markdown",
      "metadata": {
        "id": "Y-E0LJNJRyTG"
      },
      "source": [
        "### Define LLM & Tokenizer"
      ]
    },
    {
      "cell_type": "code",
      "execution_count": 40,
      "metadata": {
        "id": "mNvUgKd7R44i",
        "colab": {
          "base_uri": "https://localhost:8080/"
        },
        "outputId": "bb1dcfce-bc08-4f05-99bd-7afdf10a5a7d"
      },
      "outputs": [
        {
          "output_type": "stream",
          "name": "stderr",
          "text": [
            "/usr/local/lib/python3.10/dist-packages/huggingface_hub/utils/_token.py:88: UserWarning: \n",
            "The secret `HF_TOKEN` does not exist in your Colab secrets.\n",
            "To authenticate with the Hugging Face Hub, create a token in your settings tab (https://huggingface.co/settings/tokens), set it as secret in your Google Colab and restart your session.\n",
            "You will be able to reuse this secret in all of your notebooks.\n",
            "Please note that authentication is recommended but still optional to access public models or datasets.\n",
            "  warnings.warn(\n"
          ]
        }
      ],
      "source": [
        "# Pre-trained base case for VQA provided in documentation\n",
        "# tokenizer = AutoTokenizer.from_pretrained(\"deepset/bert-base-cased-squad2\")\n",
        "# bertModel = BertForQuestionAnswering.from_pretrained(\"deepset/bert-base-cased-squad2\")\n",
        "tokenizer = AutoTokenizer.from_pretrained(\"google-bert/bert-base-uncased\")\n",
        "# Modify the visual embedding config so that size of the features matches\n",
        "configuration = VisualBertConfig.from_pretrained(\"uclanlp/visualbert-vqa\",\n",
        "                                                 visual_embedding_dim=512,\n",
        "                                                 num_labels=answers_ids_tensor.shape[0])\n",
        "visualBert = VisualBertForQuestionAnswering(configuration)"
      ]
    },
    {
      "cell_type": "markdown",
      "metadata": {
        "id": "uzfYKLV5RrVi"
      },
      "source": [
        "## Training Loop"
      ]
    },
    {
      "cell_type": "code",
      "execution_count": 41,
      "metadata": {
        "id": "npW_X4I3c8dI"
      },
      "outputs": [],
      "source": [
        "# Create the VQA Model and pass it to the GPU\n",
        "vqa_model = VQAModel(resnet, visualBert, tokenizer)"
      ]
    },
    {
      "cell_type": "code",
      "execution_count": 42,
      "metadata": {
        "id": "NVeBMAK4dQuQ",
        "outputId": "2988930e-e3f1-46ac-a075-8a13fa4ff655",
        "colab": {
          "base_uri": "https://localhost:8080/"
        }
      },
      "outputs": [
        {
          "output_type": "execute_result",
          "data": {
            "text/plain": [
              "VQAModel(\n",
              "  (resnet): ResNet(\n",
              "    (conv1): Conv2d(3, 64, kernel_size=(7, 7), stride=(2, 2), padding=(3, 3), bias=False)\n",
              "    (bn1): BatchNorm2d(64, eps=1e-05, momentum=0.1, affine=True, track_running_stats=True)\n",
              "    (relu): ReLU(inplace=True)\n",
              "    (maxpool): MaxPool2d(kernel_size=3, stride=2, padding=1, dilation=1, ceil_mode=False)\n",
              "    (layer1): Sequential(\n",
              "      (0): BasicBlock(\n",
              "        (conv1): Conv2d(64, 64, kernel_size=(3, 3), stride=(1, 1), padding=(1, 1), bias=False)\n",
              "        (bn1): BatchNorm2d(64, eps=1e-05, momentum=0.1, affine=True, track_running_stats=True)\n",
              "        (relu): ReLU(inplace=True)\n",
              "        (conv2): Conv2d(64, 64, kernel_size=(3, 3), stride=(1, 1), padding=(1, 1), bias=False)\n",
              "        (bn2): BatchNorm2d(64, eps=1e-05, momentum=0.1, affine=True, track_running_stats=True)\n",
              "      )\n",
              "      (1): BasicBlock(\n",
              "        (conv1): Conv2d(64, 64, kernel_size=(3, 3), stride=(1, 1), padding=(1, 1), bias=False)\n",
              "        (bn1): BatchNorm2d(64, eps=1e-05, momentum=0.1, affine=True, track_running_stats=True)\n",
              "        (relu): ReLU(inplace=True)\n",
              "        (conv2): Conv2d(64, 64, kernel_size=(3, 3), stride=(1, 1), padding=(1, 1), bias=False)\n",
              "        (bn2): BatchNorm2d(64, eps=1e-05, momentum=0.1, affine=True, track_running_stats=True)\n",
              "      )\n",
              "    )\n",
              "    (layer2): Sequential(\n",
              "      (0): BasicBlock(\n",
              "        (conv1): Conv2d(64, 128, kernel_size=(3, 3), stride=(2, 2), padding=(1, 1), bias=False)\n",
              "        (bn1): BatchNorm2d(128, eps=1e-05, momentum=0.1, affine=True, track_running_stats=True)\n",
              "        (relu): ReLU(inplace=True)\n",
              "        (conv2): Conv2d(128, 128, kernel_size=(3, 3), stride=(1, 1), padding=(1, 1), bias=False)\n",
              "        (bn2): BatchNorm2d(128, eps=1e-05, momentum=0.1, affine=True, track_running_stats=True)\n",
              "        (downsample): Sequential(\n",
              "          (0): Conv2d(64, 128, kernel_size=(1, 1), stride=(2, 2), bias=False)\n",
              "          (1): BatchNorm2d(128, eps=1e-05, momentum=0.1, affine=True, track_running_stats=True)\n",
              "        )\n",
              "      )\n",
              "      (1): BasicBlock(\n",
              "        (conv1): Conv2d(128, 128, kernel_size=(3, 3), stride=(1, 1), padding=(1, 1), bias=False)\n",
              "        (bn1): BatchNorm2d(128, eps=1e-05, momentum=0.1, affine=True, track_running_stats=True)\n",
              "        (relu): ReLU(inplace=True)\n",
              "        (conv2): Conv2d(128, 128, kernel_size=(3, 3), stride=(1, 1), padding=(1, 1), bias=False)\n",
              "        (bn2): BatchNorm2d(128, eps=1e-05, momentum=0.1, affine=True, track_running_stats=True)\n",
              "      )\n",
              "    )\n",
              "    (layer3): Sequential(\n",
              "      (0): BasicBlock(\n",
              "        (conv1): Conv2d(128, 256, kernel_size=(3, 3), stride=(2, 2), padding=(1, 1), bias=False)\n",
              "        (bn1): BatchNorm2d(256, eps=1e-05, momentum=0.1, affine=True, track_running_stats=True)\n",
              "        (relu): ReLU(inplace=True)\n",
              "        (conv2): Conv2d(256, 256, kernel_size=(3, 3), stride=(1, 1), padding=(1, 1), bias=False)\n",
              "        (bn2): BatchNorm2d(256, eps=1e-05, momentum=0.1, affine=True, track_running_stats=True)\n",
              "        (downsample): Sequential(\n",
              "          (0): Conv2d(128, 256, kernel_size=(1, 1), stride=(2, 2), bias=False)\n",
              "          (1): BatchNorm2d(256, eps=1e-05, momentum=0.1, affine=True, track_running_stats=True)\n",
              "        )\n",
              "      )\n",
              "      (1): BasicBlock(\n",
              "        (conv1): Conv2d(256, 256, kernel_size=(3, 3), stride=(1, 1), padding=(1, 1), bias=False)\n",
              "        (bn1): BatchNorm2d(256, eps=1e-05, momentum=0.1, affine=True, track_running_stats=True)\n",
              "        (relu): ReLU(inplace=True)\n",
              "        (conv2): Conv2d(256, 256, kernel_size=(3, 3), stride=(1, 1), padding=(1, 1), bias=False)\n",
              "        (bn2): BatchNorm2d(256, eps=1e-05, momentum=0.1, affine=True, track_running_stats=True)\n",
              "      )\n",
              "    )\n",
              "    (layer4): Sequential(\n",
              "      (0): BasicBlock(\n",
              "        (conv1): Conv2d(256, 512, kernel_size=(3, 3), stride=(2, 2), padding=(1, 1), bias=False)\n",
              "        (bn1): BatchNorm2d(512, eps=1e-05, momentum=0.1, affine=True, track_running_stats=True)\n",
              "        (relu): ReLU(inplace=True)\n",
              "        (conv2): Conv2d(512, 512, kernel_size=(3, 3), stride=(1, 1), padding=(1, 1), bias=False)\n",
              "        (bn2): BatchNorm2d(512, eps=1e-05, momentum=0.1, affine=True, track_running_stats=True)\n",
              "        (downsample): Sequential(\n",
              "          (0): Conv2d(256, 512, kernel_size=(1, 1), stride=(2, 2), bias=False)\n",
              "          (1): BatchNorm2d(512, eps=1e-05, momentum=0.1, affine=True, track_running_stats=True)\n",
              "        )\n",
              "      )\n",
              "      (1): BasicBlock(\n",
              "        (conv1): Conv2d(512, 512, kernel_size=(3, 3), stride=(1, 1), padding=(1, 1), bias=False)\n",
              "        (bn1): BatchNorm2d(512, eps=1e-05, momentum=0.1, affine=True, track_running_stats=True)\n",
              "        (relu): ReLU(inplace=True)\n",
              "        (conv2): Conv2d(512, 512, kernel_size=(3, 3), stride=(1, 1), padding=(1, 1), bias=False)\n",
              "        (bn2): BatchNorm2d(512, eps=1e-05, momentum=0.1, affine=True, track_running_stats=True)\n",
              "      )\n",
              "    )\n",
              "    (avgpool): AdaptiveAvgPool2d(output_size=(1, 1))\n",
              "    (fc): Identity()\n",
              "  )\n",
              "  (vlm): VisualBertForQuestionAnswering(\n",
              "    (visual_bert): VisualBertModel(\n",
              "      (embeddings): VisualBertEmbeddings(\n",
              "        (word_embeddings): Embedding(30522, 768, padding_idx=1)\n",
              "        (position_embeddings): Embedding(512, 768)\n",
              "        (token_type_embeddings): Embedding(2, 768)\n",
              "        (LayerNorm): LayerNorm((768,), eps=1e-12, elementwise_affine=True)\n",
              "        (dropout): Dropout(p=0.1, inplace=False)\n",
              "        (visual_token_type_embeddings): Embedding(2, 768)\n",
              "        (visual_position_embeddings): Embedding(512, 768)\n",
              "        (visual_projection): Linear(in_features=512, out_features=768, bias=True)\n",
              "      )\n",
              "      (encoder): VisualBertEncoder(\n",
              "        (layer): ModuleList(\n",
              "          (0-11): 12 x VisualBertLayer(\n",
              "            (attention): VisualBertAttention(\n",
              "              (self): VisualBertSelfAttention(\n",
              "                (query): Linear(in_features=768, out_features=768, bias=True)\n",
              "                (key): Linear(in_features=768, out_features=768, bias=True)\n",
              "                (value): Linear(in_features=768, out_features=768, bias=True)\n",
              "                (dropout): Dropout(p=0.1, inplace=False)\n",
              "              )\n",
              "              (output): VisualBertSelfOutput(\n",
              "                (dense): Linear(in_features=768, out_features=768, bias=True)\n",
              "                (LayerNorm): LayerNorm((768,), eps=1e-12, elementwise_affine=True)\n",
              "                (dropout): Dropout(p=0.1, inplace=False)\n",
              "              )\n",
              "            )\n",
              "            (intermediate): VisualBertIntermediate(\n",
              "              (dense): Linear(in_features=768, out_features=3072, bias=True)\n",
              "              (intermediate_act_fn): GELUActivation()\n",
              "            )\n",
              "            (output): VisualBertOutput(\n",
              "              (dense): Linear(in_features=3072, out_features=768, bias=True)\n",
              "              (LayerNorm): LayerNorm((768,), eps=1e-12, elementwise_affine=True)\n",
              "              (dropout): Dropout(p=0.1, inplace=False)\n",
              "            )\n",
              "          )\n",
              "        )\n",
              "      )\n",
              "      (pooler): VisualBertPooler(\n",
              "        (dense): Linear(in_features=768, out_features=768, bias=True)\n",
              "        (activation): Tanh()\n",
              "      )\n",
              "    )\n",
              "    (dropout): Dropout(p=0.1, inplace=False)\n",
              "    (cls): Linear(in_features=768, out_features=102, bias=True)\n",
              "  )\n",
              ")"
            ]
          },
          "metadata": {},
          "execution_count": 42
        }
      ],
      "source": [
        "device = torch.device(\"cuda\" if torch.cuda.is_available() else \"cpu\")\n",
        "vqa_model.to(device)"
      ]
    },
    {
      "cell_type": "code",
      "execution_count": 43,
      "metadata": {
        "id": "rBFSlcm-dQiS"
      },
      "outputs": [],
      "source": [
        "# Define hyperparameters\n",
        "learning_rate = 1e-4\n",
        "num_epochs = 10"
      ]
    },
    {
      "cell_type": "code",
      "execution_count": 44,
      "metadata": {
        "id": "xrFgqLKddlJk"
      },
      "outputs": [],
      "source": [
        "# Define optimizer\n",
        "optimizer = torch.optim.Adam(filter(lambda p: p.requires_grad, vqa_model.parameters()), lr=learning_rate)"
      ]
    },
    {
      "cell_type": "code",
      "source": [
        "# Set the model in training mode\n",
        "vqa_model.train()\n",
        "# Training loop\n",
        "for epoch in range(num_epochs):\n",
        "    total_loss = 0\n",
        "    num_batches = 0\n",
        "    for images, questions, answers in tqdm(pizarro_dataloader, desc=f'Epoch {epoch+1}/{num_epochs}', unit='batch'):\n",
        "\n",
        "        # Forward pass\n",
        "        outputs, batch_loss = vqa_model(images, questions, pizarro_dataloader, answers_ids_tensor, training=True)\n",
        "\n",
        "        break\n",
        "\n",
        "        # batch_loss = 0.0\n",
        "        # for image_idx in range(len(outputs)):\n",
        "        #     for output in outputs[image_idx]:\n",
        "        #         loss = output.loss\n",
        "        #         print(loss)\n",
        "        #         batch_loss += loss.item()\n",
        "\n",
        "        # Compute the average loss for the batch\n",
        "        # batch_loss /= len(outputs)\n",
        "\n",
        "        # Backpropagation\n",
        "        optimizer.zero_grad()\n",
        "        batch_loss.backward()\n",
        "        optimizer.step()\n",
        "\n",
        "        # Accumulate the total loss and num of batches\n",
        "        total_loss += batch_loss\n",
        "        num_batches += 1\n",
        "\n",
        "    break\n",
        "    # Aaverage training loss for the epoch\n",
        "    avg_loss = total_loss / num_batches\n",
        "    print(f\"Epoch {epoch + 1}, Average Loss: {avg_loss}\")\n",
        "\n",
        "    # Save trained model after each epoch\n",
        "    torch.save(vqa_model.state_dict(), f'trained_vqa_model_epoch{epoch+1}.pth')"
      ],
      "metadata": {
        "id": "DlztqtBiqfZB",
        "colab": {
          "base_uri": "https://localhost:8080/",
          "height": 1000
        },
        "outputId": "e7c58157-ccdb-4b00-aa91-5c1c99202e0f"
      },
      "execution_count": 45,
      "outputs": [
        {
          "output_type": "stream",
          "name": "stderr",
          "text": [
            "\rEpoch 1/10:   0%|          | 0/100 [00:00<?, ?batch/s]"
          ]
        },
        {
          "output_type": "stream",
          "name": "stdout",
          "text": [
            "Memory allocated: 1117.76 MB\n",
            "Memory reserved: 1146.00 MB\n",
            "Memory allocated: 1753.83 MB\n",
            "Memory reserved: 1784.00 MB\n",
            "Memory allocated: 2389.85 MB\n",
            "Memory reserved: 2422.00 MB\n",
            "Memory allocated: 3020.98 MB\n",
            "Memory reserved: 3056.00 MB\n",
            "Memory allocated: 3666.00 MB\n",
            "Memory reserved: 3692.00 MB\n",
            "Memory allocated: 4301.31 MB\n",
            "Memory reserved: 4338.00 MB\n",
            "Memory allocated: 4937.38 MB\n",
            "Memory reserved: 4976.00 MB\n",
            "Memory allocated: 5568.63 MB\n",
            "Memory reserved: 5610.00 MB\n",
            "Memory allocated: 6199.38 MB\n",
            "Memory reserved: 6244.00 MB\n",
            "Memory allocated: 6834.42 MB\n",
            "Memory reserved: 6886.00 MB\n",
            "Memory allocated: 7470.89 MB\n",
            "Memory reserved: 7524.00 MB\n",
            "Memory allocated: 8106.87 MB\n",
            "Memory reserved: 8162.00 MB\n",
            "Memory allocated: 8741.35 MB\n",
            "Memory reserved: 8796.00 MB\n",
            "Memory allocated: 9372.41 MB\n",
            "Memory reserved: 9430.00 MB\n",
            "Memory allocated: 10017.41 MB\n",
            "Memory reserved: 10066.00 MB\n",
            "Memory allocated: 10652.94 MB\n",
            "Memory reserved: 10716.00 MB\n",
            "Memory allocated: 11288.93 MB\n",
            "Memory reserved: 11354.00 MB\n",
            "Memory allocated: 11919.49 MB\n",
            "Memory reserved: 11988.00 MB\n",
            "Memory allocated: 12555.38 MB\n",
            "Memory reserved: 12626.00 MB\n",
            "Memory allocated: 13191.34 MB\n",
            "Memory reserved: 13264.00 MB\n",
            "Memory allocated: 13827.07 MB\n",
            "Memory reserved: 13898.00 MB\n",
            "Memory allocated: 14463.64 MB\n",
            "Memory reserved: 14536.00 MB\n"
          ]
        },
        {
          "output_type": "stream",
          "name": "stderr",
          "text": [
            "\rEpoch 1/10:   0%|          | 0/100 [00:23<?, ?batch/s]\n"
          ]
        },
        {
          "output_type": "error",
          "ename": "OutOfMemoryError",
          "evalue": "CUDA out of memory. Tried to allocate 2.00 MiB. GPU 0 has a total capacity of 14.75 GiB of which 1.06 MiB is free. Process 371335 has 14.74 GiB memory in use. Of the allocated memory 14.54 GiB is allocated by PyTorch, and 71.91 MiB is reserved by PyTorch but unallocated. If reserved but unallocated memory is large try setting PYTORCH_CUDA_ALLOC_CONF=expandable_segments:True to avoid fragmentation.  See documentation for Memory Management  (https://pytorch.org/docs/stable/notes/cuda.html#environment-variables)",
          "traceback": [
            "\u001b[0;31m---------------------------------------------------------------------------\u001b[0m",
            "\u001b[0;31mOutOfMemoryError\u001b[0m                          Traceback (most recent call last)",
            "\u001b[0;32m<ipython-input-45-a72f8ec7c66d>\u001b[0m in \u001b[0;36m<cell line: 4>\u001b[0;34m()\u001b[0m\n\u001b[1;32m      8\u001b[0m \u001b[0;34m\u001b[0m\u001b[0m\n\u001b[1;32m      9\u001b[0m         \u001b[0;31m# Forward pass\u001b[0m\u001b[0;34m\u001b[0m\u001b[0;34m\u001b[0m\u001b[0m\n\u001b[0;32m---> 10\u001b[0;31m         \u001b[0moutputs\u001b[0m\u001b[0;34m,\u001b[0m \u001b[0mbatch_loss\u001b[0m \u001b[0;34m=\u001b[0m \u001b[0mvqa_model\u001b[0m\u001b[0;34m(\u001b[0m\u001b[0mimages\u001b[0m\u001b[0;34m,\u001b[0m \u001b[0mquestions\u001b[0m\u001b[0;34m,\u001b[0m \u001b[0mpizarro_dataloader\u001b[0m\u001b[0;34m,\u001b[0m \u001b[0manswers_ids_tensor\u001b[0m\u001b[0;34m,\u001b[0m \u001b[0mtraining\u001b[0m\u001b[0;34m=\u001b[0m\u001b[0;32mTrue\u001b[0m\u001b[0;34m)\u001b[0m\u001b[0;34m\u001b[0m\u001b[0;34m\u001b[0m\u001b[0m\n\u001b[0m\u001b[1;32m     11\u001b[0m \u001b[0;34m\u001b[0m\u001b[0m\n\u001b[1;32m     12\u001b[0m         \u001b[0;32mbreak\u001b[0m\u001b[0;34m\u001b[0m\u001b[0;34m\u001b[0m\u001b[0m\n",
            "\u001b[0;32m/usr/local/lib/python3.10/dist-packages/torch/nn/modules/module.py\u001b[0m in \u001b[0;36m_wrapped_call_impl\u001b[0;34m(self, *args, **kwargs)\u001b[0m\n\u001b[1;32m   1509\u001b[0m             \u001b[0;32mreturn\u001b[0m \u001b[0mself\u001b[0m\u001b[0;34m.\u001b[0m\u001b[0m_compiled_call_impl\u001b[0m\u001b[0;34m(\u001b[0m\u001b[0;34m*\u001b[0m\u001b[0margs\u001b[0m\u001b[0;34m,\u001b[0m \u001b[0;34m**\u001b[0m\u001b[0mkwargs\u001b[0m\u001b[0;34m)\u001b[0m  \u001b[0;31m# type: ignore[misc]\u001b[0m\u001b[0;34m\u001b[0m\u001b[0;34m\u001b[0m\u001b[0m\n\u001b[1;32m   1510\u001b[0m         \u001b[0;32melse\u001b[0m\u001b[0;34m:\u001b[0m\u001b[0;34m\u001b[0m\u001b[0;34m\u001b[0m\u001b[0m\n\u001b[0;32m-> 1511\u001b[0;31m             \u001b[0;32mreturn\u001b[0m \u001b[0mself\u001b[0m\u001b[0;34m.\u001b[0m\u001b[0m_call_impl\u001b[0m\u001b[0;34m(\u001b[0m\u001b[0;34m*\u001b[0m\u001b[0margs\u001b[0m\u001b[0;34m,\u001b[0m \u001b[0;34m**\u001b[0m\u001b[0mkwargs\u001b[0m\u001b[0;34m)\u001b[0m\u001b[0;34m\u001b[0m\u001b[0;34m\u001b[0m\u001b[0m\n\u001b[0m\u001b[1;32m   1512\u001b[0m \u001b[0;34m\u001b[0m\u001b[0m\n\u001b[1;32m   1513\u001b[0m     \u001b[0;32mdef\u001b[0m \u001b[0m_call_impl\u001b[0m\u001b[0;34m(\u001b[0m\u001b[0mself\u001b[0m\u001b[0;34m,\u001b[0m \u001b[0;34m*\u001b[0m\u001b[0margs\u001b[0m\u001b[0;34m,\u001b[0m \u001b[0;34m**\u001b[0m\u001b[0mkwargs\u001b[0m\u001b[0;34m)\u001b[0m\u001b[0;34m:\u001b[0m\u001b[0;34m\u001b[0m\u001b[0;34m\u001b[0m\u001b[0m\n",
            "\u001b[0;32m/usr/local/lib/python3.10/dist-packages/torch/nn/modules/module.py\u001b[0m in \u001b[0;36m_call_impl\u001b[0;34m(self, *args, **kwargs)\u001b[0m\n\u001b[1;32m   1518\u001b[0m                 \u001b[0;32mor\u001b[0m \u001b[0m_global_backward_pre_hooks\u001b[0m \u001b[0;32mor\u001b[0m \u001b[0m_global_backward_hooks\u001b[0m\u001b[0;34m\u001b[0m\u001b[0;34m\u001b[0m\u001b[0m\n\u001b[1;32m   1519\u001b[0m                 or _global_forward_hooks or _global_forward_pre_hooks):\n\u001b[0;32m-> 1520\u001b[0;31m             \u001b[0;32mreturn\u001b[0m \u001b[0mforward_call\u001b[0m\u001b[0;34m(\u001b[0m\u001b[0;34m*\u001b[0m\u001b[0margs\u001b[0m\u001b[0;34m,\u001b[0m \u001b[0;34m**\u001b[0m\u001b[0mkwargs\u001b[0m\u001b[0;34m)\u001b[0m\u001b[0;34m\u001b[0m\u001b[0;34m\u001b[0m\u001b[0m\n\u001b[0m\u001b[1;32m   1521\u001b[0m \u001b[0;34m\u001b[0m\u001b[0m\n\u001b[1;32m   1522\u001b[0m         \u001b[0;32mtry\u001b[0m\u001b[0;34m:\u001b[0m\u001b[0;34m\u001b[0m\u001b[0;34m\u001b[0m\u001b[0m\n",
            "\u001b[0;32m<ipython-input-39-35fa84782f45>\u001b[0m in \u001b[0;36mforward\u001b[0;34m(self, images, questions, dataloader, labels_idxs, training)\u001b[0m\n\u001b[1;32m     61\u001b[0m                 \u001b[0;32mif\u001b[0m \u001b[0mtraining\u001b[0m\u001b[0;34m:\u001b[0m\u001b[0;34m\u001b[0m\u001b[0;34m\u001b[0m\u001b[0m\n\u001b[1;32m     62\u001b[0m                     \u001b[0;31m# Store label indices\u001b[0m\u001b[0;34m\u001b[0m\u001b[0;34m\u001b[0m\u001b[0m\n\u001b[0;32m---> 63\u001b[0;31m                     \u001b[0moutput\u001b[0m \u001b[0;34m=\u001b[0m \u001b[0mself\u001b[0m\u001b[0;34m.\u001b[0m\u001b[0mvlm\u001b[0m\u001b[0;34m(\u001b[0m\u001b[0;34m**\u001b[0m\u001b[0minput_dict\u001b[0m\u001b[0;34m,\u001b[0m \u001b[0mlabels\u001b[0m\u001b[0;34m=\u001b[0m\u001b[0mlabels_idxs\u001b[0m\u001b[0;34m)\u001b[0m\u001b[0;34m\u001b[0m\u001b[0;34m\u001b[0m\u001b[0m\n\u001b[0m\u001b[1;32m     64\u001b[0m                     \u001b[0mlogits\u001b[0m \u001b[0;34m=\u001b[0m \u001b[0moutput\u001b[0m\u001b[0;34m.\u001b[0m\u001b[0mlogits\u001b[0m\u001b[0;34m\u001b[0m\u001b[0;34m\u001b[0m\u001b[0m\n\u001b[1;32m     65\u001b[0m                     \u001b[0mprobabilities\u001b[0m \u001b[0;34m=\u001b[0m \u001b[0mtorch\u001b[0m\u001b[0;34m.\u001b[0m\u001b[0msoftmax\u001b[0m\u001b[0;34m(\u001b[0m\u001b[0mlogits\u001b[0m\u001b[0;34m,\u001b[0m \u001b[0mdim\u001b[0m\u001b[0;34m=\u001b[0m\u001b[0;34m-\u001b[0m\u001b[0;36m1\u001b[0m\u001b[0;34m)\u001b[0m\u001b[0;34m\u001b[0m\u001b[0;34m\u001b[0m\u001b[0m\n",
            "\u001b[0;32m/usr/local/lib/python3.10/dist-packages/torch/nn/modules/module.py\u001b[0m in \u001b[0;36m_wrapped_call_impl\u001b[0;34m(self, *args, **kwargs)\u001b[0m\n\u001b[1;32m   1509\u001b[0m             \u001b[0;32mreturn\u001b[0m \u001b[0mself\u001b[0m\u001b[0;34m.\u001b[0m\u001b[0m_compiled_call_impl\u001b[0m\u001b[0;34m(\u001b[0m\u001b[0;34m*\u001b[0m\u001b[0margs\u001b[0m\u001b[0;34m,\u001b[0m \u001b[0;34m**\u001b[0m\u001b[0mkwargs\u001b[0m\u001b[0;34m)\u001b[0m  \u001b[0;31m# type: ignore[misc]\u001b[0m\u001b[0;34m\u001b[0m\u001b[0;34m\u001b[0m\u001b[0m\n\u001b[1;32m   1510\u001b[0m         \u001b[0;32melse\u001b[0m\u001b[0;34m:\u001b[0m\u001b[0;34m\u001b[0m\u001b[0;34m\u001b[0m\u001b[0m\n\u001b[0;32m-> 1511\u001b[0;31m             \u001b[0;32mreturn\u001b[0m \u001b[0mself\u001b[0m\u001b[0;34m.\u001b[0m\u001b[0m_call_impl\u001b[0m\u001b[0;34m(\u001b[0m\u001b[0;34m*\u001b[0m\u001b[0margs\u001b[0m\u001b[0;34m,\u001b[0m \u001b[0;34m**\u001b[0m\u001b[0mkwargs\u001b[0m\u001b[0;34m)\u001b[0m\u001b[0;34m\u001b[0m\u001b[0;34m\u001b[0m\u001b[0m\n\u001b[0m\u001b[1;32m   1512\u001b[0m \u001b[0;34m\u001b[0m\u001b[0m\n\u001b[1;32m   1513\u001b[0m     \u001b[0;32mdef\u001b[0m \u001b[0m_call_impl\u001b[0m\u001b[0;34m(\u001b[0m\u001b[0mself\u001b[0m\u001b[0;34m,\u001b[0m \u001b[0;34m*\u001b[0m\u001b[0margs\u001b[0m\u001b[0;34m,\u001b[0m \u001b[0;34m**\u001b[0m\u001b[0mkwargs\u001b[0m\u001b[0;34m)\u001b[0m\u001b[0;34m:\u001b[0m\u001b[0;34m\u001b[0m\u001b[0;34m\u001b[0m\u001b[0m\n",
            "\u001b[0;32m/usr/local/lib/python3.10/dist-packages/torch/nn/modules/module.py\u001b[0m in \u001b[0;36m_call_impl\u001b[0;34m(self, *args, **kwargs)\u001b[0m\n\u001b[1;32m   1518\u001b[0m                 \u001b[0;32mor\u001b[0m \u001b[0m_global_backward_pre_hooks\u001b[0m \u001b[0;32mor\u001b[0m \u001b[0m_global_backward_hooks\u001b[0m\u001b[0;34m\u001b[0m\u001b[0;34m\u001b[0m\u001b[0m\n\u001b[1;32m   1519\u001b[0m                 or _global_forward_hooks or _global_forward_pre_hooks):\n\u001b[0;32m-> 1520\u001b[0;31m             \u001b[0;32mreturn\u001b[0m \u001b[0mforward_call\u001b[0m\u001b[0;34m(\u001b[0m\u001b[0;34m*\u001b[0m\u001b[0margs\u001b[0m\u001b[0;34m,\u001b[0m \u001b[0;34m**\u001b[0m\u001b[0mkwargs\u001b[0m\u001b[0;34m)\u001b[0m\u001b[0;34m\u001b[0m\u001b[0;34m\u001b[0m\u001b[0m\n\u001b[0m\u001b[1;32m   1521\u001b[0m \u001b[0;34m\u001b[0m\u001b[0m\n\u001b[1;32m   1522\u001b[0m         \u001b[0;32mtry\u001b[0m\u001b[0;34m:\u001b[0m\u001b[0;34m\u001b[0m\u001b[0;34m\u001b[0m\u001b[0m\n",
            "\u001b[0;32m/usr/local/lib/python3.10/dist-packages/transformers/models/visual_bert/modeling_visual_bert.py\u001b[0m in \u001b[0;36mforward\u001b[0;34m(self, input_ids, attention_mask, token_type_ids, position_ids, head_mask, inputs_embeds, visual_embeds, visual_attention_mask, visual_token_type_ids, image_text_alignment, output_attentions, output_hidden_states, return_dict, labels)\u001b[0m\n\u001b[1;32m   1240\u001b[0m         \u001b[0mindex_to_gather\u001b[0m \u001b[0;34m=\u001b[0m \u001b[0mattention_mask\u001b[0m\u001b[0;34m.\u001b[0m\u001b[0msum\u001b[0m\u001b[0;34m(\u001b[0m\u001b[0;36m1\u001b[0m\u001b[0;34m)\u001b[0m \u001b[0;34m-\u001b[0m \u001b[0;36m2\u001b[0m  \u001b[0;31m# as in original code\u001b[0m\u001b[0;34m\u001b[0m\u001b[0;34m\u001b[0m\u001b[0m\n\u001b[1;32m   1241\u001b[0m \u001b[0;34m\u001b[0m\u001b[0m\n\u001b[0;32m-> 1242\u001b[0;31m         outputs = self.visual_bert(\n\u001b[0m\u001b[1;32m   1243\u001b[0m             \u001b[0minput_ids\u001b[0m\u001b[0;34m,\u001b[0m\u001b[0;34m\u001b[0m\u001b[0;34m\u001b[0m\u001b[0m\n\u001b[1;32m   1244\u001b[0m             \u001b[0mattention_mask\u001b[0m\u001b[0;34m=\u001b[0m\u001b[0mattention_mask\u001b[0m\u001b[0;34m,\u001b[0m\u001b[0;34m\u001b[0m\u001b[0;34m\u001b[0m\u001b[0m\n",
            "\u001b[0;32m/usr/local/lib/python3.10/dist-packages/torch/nn/modules/module.py\u001b[0m in \u001b[0;36m_wrapped_call_impl\u001b[0;34m(self, *args, **kwargs)\u001b[0m\n\u001b[1;32m   1509\u001b[0m             \u001b[0;32mreturn\u001b[0m \u001b[0mself\u001b[0m\u001b[0;34m.\u001b[0m\u001b[0m_compiled_call_impl\u001b[0m\u001b[0;34m(\u001b[0m\u001b[0;34m*\u001b[0m\u001b[0margs\u001b[0m\u001b[0;34m,\u001b[0m \u001b[0;34m**\u001b[0m\u001b[0mkwargs\u001b[0m\u001b[0;34m)\u001b[0m  \u001b[0;31m# type: ignore[misc]\u001b[0m\u001b[0;34m\u001b[0m\u001b[0;34m\u001b[0m\u001b[0m\n\u001b[1;32m   1510\u001b[0m         \u001b[0;32melse\u001b[0m\u001b[0;34m:\u001b[0m\u001b[0;34m\u001b[0m\u001b[0;34m\u001b[0m\u001b[0m\n\u001b[0;32m-> 1511\u001b[0;31m             \u001b[0;32mreturn\u001b[0m \u001b[0mself\u001b[0m\u001b[0;34m.\u001b[0m\u001b[0m_call_impl\u001b[0m\u001b[0;34m(\u001b[0m\u001b[0;34m*\u001b[0m\u001b[0margs\u001b[0m\u001b[0;34m,\u001b[0m \u001b[0;34m**\u001b[0m\u001b[0mkwargs\u001b[0m\u001b[0;34m)\u001b[0m\u001b[0;34m\u001b[0m\u001b[0;34m\u001b[0m\u001b[0m\n\u001b[0m\u001b[1;32m   1512\u001b[0m \u001b[0;34m\u001b[0m\u001b[0m\n\u001b[1;32m   1513\u001b[0m     \u001b[0;32mdef\u001b[0m \u001b[0m_call_impl\u001b[0m\u001b[0;34m(\u001b[0m\u001b[0mself\u001b[0m\u001b[0;34m,\u001b[0m \u001b[0;34m*\u001b[0m\u001b[0margs\u001b[0m\u001b[0;34m,\u001b[0m \u001b[0;34m**\u001b[0m\u001b[0mkwargs\u001b[0m\u001b[0;34m)\u001b[0m\u001b[0;34m:\u001b[0m\u001b[0;34m\u001b[0m\u001b[0;34m\u001b[0m\u001b[0m\n",
            "\u001b[0;32m/usr/local/lib/python3.10/dist-packages/torch/nn/modules/module.py\u001b[0m in \u001b[0;36m_call_impl\u001b[0;34m(self, *args, **kwargs)\u001b[0m\n\u001b[1;32m   1518\u001b[0m                 \u001b[0;32mor\u001b[0m \u001b[0m_global_backward_pre_hooks\u001b[0m \u001b[0;32mor\u001b[0m \u001b[0m_global_backward_hooks\u001b[0m\u001b[0;34m\u001b[0m\u001b[0;34m\u001b[0m\u001b[0m\n\u001b[1;32m   1519\u001b[0m                 or _global_forward_hooks or _global_forward_pre_hooks):\n\u001b[0;32m-> 1520\u001b[0;31m             \u001b[0;32mreturn\u001b[0m \u001b[0mforward_call\u001b[0m\u001b[0;34m(\u001b[0m\u001b[0;34m*\u001b[0m\u001b[0margs\u001b[0m\u001b[0;34m,\u001b[0m \u001b[0;34m**\u001b[0m\u001b[0mkwargs\u001b[0m\u001b[0;34m)\u001b[0m\u001b[0;34m\u001b[0m\u001b[0;34m\u001b[0m\u001b[0m\n\u001b[0m\u001b[1;32m   1521\u001b[0m \u001b[0;34m\u001b[0m\u001b[0m\n\u001b[1;32m   1522\u001b[0m         \u001b[0;32mtry\u001b[0m\u001b[0;34m:\u001b[0m\u001b[0;34m\u001b[0m\u001b[0;34m\u001b[0m\u001b[0m\n",
            "\u001b[0;32m/usr/local/lib/python3.10/dist-packages/transformers/models/visual_bert/modeling_visual_bert.py\u001b[0m in \u001b[0;36mforward\u001b[0;34m(self, input_ids, attention_mask, token_type_ids, position_ids, head_mask, inputs_embeds, visual_embeds, visual_attention_mask, visual_token_type_ids, image_text_alignment, output_attentions, output_hidden_states, return_dict)\u001b[0m\n\u001b[1;32m    833\u001b[0m \u001b[0;34m\u001b[0m\u001b[0m\n\u001b[1;32m    834\u001b[0m         \u001b[0;32melse\u001b[0m\u001b[0;34m:\u001b[0m\u001b[0;34m\u001b[0m\u001b[0;34m\u001b[0m\u001b[0m\n\u001b[0;32m--> 835\u001b[0;31m             encoder_outputs = self.encoder(\n\u001b[0m\u001b[1;32m    836\u001b[0m                 \u001b[0membedding_output\u001b[0m\u001b[0;34m,\u001b[0m\u001b[0;34m\u001b[0m\u001b[0;34m\u001b[0m\u001b[0m\n\u001b[1;32m    837\u001b[0m                 \u001b[0mattention_mask\u001b[0m\u001b[0;34m=\u001b[0m\u001b[0mextended_attention_mask\u001b[0m\u001b[0;34m,\u001b[0m\u001b[0;34m\u001b[0m\u001b[0;34m\u001b[0m\u001b[0m\n",
            "\u001b[0;32m/usr/local/lib/python3.10/dist-packages/torch/nn/modules/module.py\u001b[0m in \u001b[0;36m_wrapped_call_impl\u001b[0;34m(self, *args, **kwargs)\u001b[0m\n\u001b[1;32m   1509\u001b[0m             \u001b[0;32mreturn\u001b[0m \u001b[0mself\u001b[0m\u001b[0;34m.\u001b[0m\u001b[0m_compiled_call_impl\u001b[0m\u001b[0;34m(\u001b[0m\u001b[0;34m*\u001b[0m\u001b[0margs\u001b[0m\u001b[0;34m,\u001b[0m \u001b[0;34m**\u001b[0m\u001b[0mkwargs\u001b[0m\u001b[0;34m)\u001b[0m  \u001b[0;31m# type: ignore[misc]\u001b[0m\u001b[0;34m\u001b[0m\u001b[0;34m\u001b[0m\u001b[0m\n\u001b[1;32m   1510\u001b[0m         \u001b[0;32melse\u001b[0m\u001b[0;34m:\u001b[0m\u001b[0;34m\u001b[0m\u001b[0;34m\u001b[0m\u001b[0m\n\u001b[0;32m-> 1511\u001b[0;31m             \u001b[0;32mreturn\u001b[0m \u001b[0mself\u001b[0m\u001b[0;34m.\u001b[0m\u001b[0m_call_impl\u001b[0m\u001b[0;34m(\u001b[0m\u001b[0;34m*\u001b[0m\u001b[0margs\u001b[0m\u001b[0;34m,\u001b[0m \u001b[0;34m**\u001b[0m\u001b[0mkwargs\u001b[0m\u001b[0;34m)\u001b[0m\u001b[0;34m\u001b[0m\u001b[0;34m\u001b[0m\u001b[0m\n\u001b[0m\u001b[1;32m   1512\u001b[0m \u001b[0;34m\u001b[0m\u001b[0m\n\u001b[1;32m   1513\u001b[0m     \u001b[0;32mdef\u001b[0m \u001b[0m_call_impl\u001b[0m\u001b[0;34m(\u001b[0m\u001b[0mself\u001b[0m\u001b[0;34m,\u001b[0m \u001b[0;34m*\u001b[0m\u001b[0margs\u001b[0m\u001b[0;34m,\u001b[0m \u001b[0;34m**\u001b[0m\u001b[0mkwargs\u001b[0m\u001b[0;34m)\u001b[0m\u001b[0;34m:\u001b[0m\u001b[0;34m\u001b[0m\u001b[0;34m\u001b[0m\u001b[0m\n",
            "\u001b[0;32m/usr/local/lib/python3.10/dist-packages/torch/nn/modules/module.py\u001b[0m in \u001b[0;36m_call_impl\u001b[0;34m(self, *args, **kwargs)\u001b[0m\n\u001b[1;32m   1518\u001b[0m                 \u001b[0;32mor\u001b[0m \u001b[0m_global_backward_pre_hooks\u001b[0m \u001b[0;32mor\u001b[0m \u001b[0m_global_backward_hooks\u001b[0m\u001b[0;34m\u001b[0m\u001b[0;34m\u001b[0m\u001b[0m\n\u001b[1;32m   1519\u001b[0m                 or _global_forward_hooks or _global_forward_pre_hooks):\n\u001b[0;32m-> 1520\u001b[0;31m             \u001b[0;32mreturn\u001b[0m \u001b[0mforward_call\u001b[0m\u001b[0;34m(\u001b[0m\u001b[0;34m*\u001b[0m\u001b[0margs\u001b[0m\u001b[0;34m,\u001b[0m \u001b[0;34m**\u001b[0m\u001b[0mkwargs\u001b[0m\u001b[0;34m)\u001b[0m\u001b[0;34m\u001b[0m\u001b[0;34m\u001b[0m\u001b[0m\n\u001b[0m\u001b[1;32m   1521\u001b[0m \u001b[0;34m\u001b[0m\u001b[0m\n\u001b[1;32m   1522\u001b[0m         \u001b[0;32mtry\u001b[0m\u001b[0;34m:\u001b[0m\u001b[0;34m\u001b[0m\u001b[0;34m\u001b[0m\u001b[0m\n",
            "\u001b[0;32m/usr/local/lib/python3.10/dist-packages/transformers/models/visual_bert/modeling_visual_bert.py\u001b[0m in \u001b[0;36mforward\u001b[0;34m(self, hidden_states, attention_mask, head_mask, output_attentions, output_hidden_states, return_dict)\u001b[0m\n\u001b[1;32m    427\u001b[0m                 )\n\u001b[1;32m    428\u001b[0m             \u001b[0;32melse\u001b[0m\u001b[0;34m:\u001b[0m\u001b[0;34m\u001b[0m\u001b[0;34m\u001b[0m\u001b[0m\n\u001b[0;32m--> 429\u001b[0;31m                 \u001b[0mlayer_outputs\u001b[0m \u001b[0;34m=\u001b[0m \u001b[0mlayer_module\u001b[0m\u001b[0;34m(\u001b[0m\u001b[0mhidden_states\u001b[0m\u001b[0;34m,\u001b[0m \u001b[0mattention_mask\u001b[0m\u001b[0;34m,\u001b[0m \u001b[0mlayer_head_mask\u001b[0m\u001b[0;34m,\u001b[0m \u001b[0moutput_attentions\u001b[0m\u001b[0;34m)\u001b[0m\u001b[0;34m\u001b[0m\u001b[0;34m\u001b[0m\u001b[0m\n\u001b[0m\u001b[1;32m    430\u001b[0m \u001b[0;34m\u001b[0m\u001b[0m\n\u001b[1;32m    431\u001b[0m             \u001b[0mhidden_states\u001b[0m \u001b[0;34m=\u001b[0m \u001b[0mlayer_outputs\u001b[0m\u001b[0;34m[\u001b[0m\u001b[0;36m0\u001b[0m\u001b[0;34m]\u001b[0m\u001b[0;34m\u001b[0m\u001b[0;34m\u001b[0m\u001b[0m\n",
            "\u001b[0;32m/usr/local/lib/python3.10/dist-packages/torch/nn/modules/module.py\u001b[0m in \u001b[0;36m_wrapped_call_impl\u001b[0;34m(self, *args, **kwargs)\u001b[0m\n\u001b[1;32m   1509\u001b[0m             \u001b[0;32mreturn\u001b[0m \u001b[0mself\u001b[0m\u001b[0;34m.\u001b[0m\u001b[0m_compiled_call_impl\u001b[0m\u001b[0;34m(\u001b[0m\u001b[0;34m*\u001b[0m\u001b[0margs\u001b[0m\u001b[0;34m,\u001b[0m \u001b[0;34m**\u001b[0m\u001b[0mkwargs\u001b[0m\u001b[0;34m)\u001b[0m  \u001b[0;31m# type: ignore[misc]\u001b[0m\u001b[0;34m\u001b[0m\u001b[0;34m\u001b[0m\u001b[0m\n\u001b[1;32m   1510\u001b[0m         \u001b[0;32melse\u001b[0m\u001b[0;34m:\u001b[0m\u001b[0;34m\u001b[0m\u001b[0;34m\u001b[0m\u001b[0m\n\u001b[0;32m-> 1511\u001b[0;31m             \u001b[0;32mreturn\u001b[0m \u001b[0mself\u001b[0m\u001b[0;34m.\u001b[0m\u001b[0m_call_impl\u001b[0m\u001b[0;34m(\u001b[0m\u001b[0;34m*\u001b[0m\u001b[0margs\u001b[0m\u001b[0;34m,\u001b[0m \u001b[0;34m**\u001b[0m\u001b[0mkwargs\u001b[0m\u001b[0;34m)\u001b[0m\u001b[0;34m\u001b[0m\u001b[0;34m\u001b[0m\u001b[0m\n\u001b[0m\u001b[1;32m   1512\u001b[0m \u001b[0;34m\u001b[0m\u001b[0m\n\u001b[1;32m   1513\u001b[0m     \u001b[0;32mdef\u001b[0m \u001b[0m_call_impl\u001b[0m\u001b[0;34m(\u001b[0m\u001b[0mself\u001b[0m\u001b[0;34m,\u001b[0m \u001b[0;34m*\u001b[0m\u001b[0margs\u001b[0m\u001b[0;34m,\u001b[0m \u001b[0;34m**\u001b[0m\u001b[0mkwargs\u001b[0m\u001b[0;34m)\u001b[0m\u001b[0;34m:\u001b[0m\u001b[0;34m\u001b[0m\u001b[0;34m\u001b[0m\u001b[0m\n",
            "\u001b[0;32m/usr/local/lib/python3.10/dist-packages/torch/nn/modules/module.py\u001b[0m in \u001b[0;36m_call_impl\u001b[0;34m(self, *args, **kwargs)\u001b[0m\n\u001b[1;32m   1518\u001b[0m                 \u001b[0;32mor\u001b[0m \u001b[0m_global_backward_pre_hooks\u001b[0m \u001b[0;32mor\u001b[0m \u001b[0m_global_backward_hooks\u001b[0m\u001b[0;34m\u001b[0m\u001b[0;34m\u001b[0m\u001b[0m\n\u001b[1;32m   1519\u001b[0m                 or _global_forward_hooks or _global_forward_pre_hooks):\n\u001b[0;32m-> 1520\u001b[0;31m             \u001b[0;32mreturn\u001b[0m \u001b[0mforward_call\u001b[0m\u001b[0;34m(\u001b[0m\u001b[0;34m*\u001b[0m\u001b[0margs\u001b[0m\u001b[0;34m,\u001b[0m \u001b[0;34m**\u001b[0m\u001b[0mkwargs\u001b[0m\u001b[0;34m)\u001b[0m\u001b[0;34m\u001b[0m\u001b[0;34m\u001b[0m\u001b[0m\n\u001b[0m\u001b[1;32m   1521\u001b[0m \u001b[0;34m\u001b[0m\u001b[0m\n\u001b[1;32m   1522\u001b[0m         \u001b[0;32mtry\u001b[0m\u001b[0;34m:\u001b[0m\u001b[0;34m\u001b[0m\u001b[0;34m\u001b[0m\u001b[0m\n",
            "\u001b[0;32m/usr/local/lib/python3.10/dist-packages/transformers/models/visual_bert/modeling_visual_bert.py\u001b[0m in \u001b[0;36mforward\u001b[0;34m(self, hidden_states, attention_mask, head_mask, output_attentions)\u001b[0m\n\u001b[1;32m    370\u001b[0m         \u001b[0moutput_attentions\u001b[0m\u001b[0;34m=\u001b[0m\u001b[0;32mFalse\u001b[0m\u001b[0;34m,\u001b[0m\u001b[0;34m\u001b[0m\u001b[0;34m\u001b[0m\u001b[0m\n\u001b[1;32m    371\u001b[0m     ):\n\u001b[0;32m--> 372\u001b[0;31m         self_attention_outputs = self.attention(\n\u001b[0m\u001b[1;32m    373\u001b[0m             \u001b[0mhidden_states\u001b[0m\u001b[0;34m,\u001b[0m\u001b[0;34m\u001b[0m\u001b[0;34m\u001b[0m\u001b[0m\n\u001b[1;32m    374\u001b[0m             \u001b[0mattention_mask\u001b[0m\u001b[0;34m,\u001b[0m\u001b[0;34m\u001b[0m\u001b[0;34m\u001b[0m\u001b[0m\n",
            "\u001b[0;32m/usr/local/lib/python3.10/dist-packages/torch/nn/modules/module.py\u001b[0m in \u001b[0;36m_wrapped_call_impl\u001b[0;34m(self, *args, **kwargs)\u001b[0m\n\u001b[1;32m   1509\u001b[0m             \u001b[0;32mreturn\u001b[0m \u001b[0mself\u001b[0m\u001b[0;34m.\u001b[0m\u001b[0m_compiled_call_impl\u001b[0m\u001b[0;34m(\u001b[0m\u001b[0;34m*\u001b[0m\u001b[0margs\u001b[0m\u001b[0;34m,\u001b[0m \u001b[0;34m**\u001b[0m\u001b[0mkwargs\u001b[0m\u001b[0;34m)\u001b[0m  \u001b[0;31m# type: ignore[misc]\u001b[0m\u001b[0;34m\u001b[0m\u001b[0;34m\u001b[0m\u001b[0m\n\u001b[1;32m   1510\u001b[0m         \u001b[0;32melse\u001b[0m\u001b[0;34m:\u001b[0m\u001b[0;34m\u001b[0m\u001b[0;34m\u001b[0m\u001b[0m\n\u001b[0;32m-> 1511\u001b[0;31m             \u001b[0;32mreturn\u001b[0m \u001b[0mself\u001b[0m\u001b[0;34m.\u001b[0m\u001b[0m_call_impl\u001b[0m\u001b[0;34m(\u001b[0m\u001b[0;34m*\u001b[0m\u001b[0margs\u001b[0m\u001b[0;34m,\u001b[0m \u001b[0;34m**\u001b[0m\u001b[0mkwargs\u001b[0m\u001b[0;34m)\u001b[0m\u001b[0;34m\u001b[0m\u001b[0;34m\u001b[0m\u001b[0m\n\u001b[0m\u001b[1;32m   1512\u001b[0m \u001b[0;34m\u001b[0m\u001b[0m\n\u001b[1;32m   1513\u001b[0m     \u001b[0;32mdef\u001b[0m \u001b[0m_call_impl\u001b[0m\u001b[0;34m(\u001b[0m\u001b[0mself\u001b[0m\u001b[0;34m,\u001b[0m \u001b[0;34m*\u001b[0m\u001b[0margs\u001b[0m\u001b[0;34m,\u001b[0m \u001b[0;34m**\u001b[0m\u001b[0mkwargs\u001b[0m\u001b[0;34m)\u001b[0m\u001b[0;34m:\u001b[0m\u001b[0;34m\u001b[0m\u001b[0;34m\u001b[0m\u001b[0m\n",
            "\u001b[0;32m/usr/local/lib/python3.10/dist-packages/torch/nn/modules/module.py\u001b[0m in \u001b[0;36m_call_impl\u001b[0;34m(self, *args, **kwargs)\u001b[0m\n\u001b[1;32m   1518\u001b[0m                 \u001b[0;32mor\u001b[0m \u001b[0m_global_backward_pre_hooks\u001b[0m \u001b[0;32mor\u001b[0m \u001b[0m_global_backward_hooks\u001b[0m\u001b[0;34m\u001b[0m\u001b[0;34m\u001b[0m\u001b[0m\n\u001b[1;32m   1519\u001b[0m                 or _global_forward_hooks or _global_forward_pre_hooks):\n\u001b[0;32m-> 1520\u001b[0;31m             \u001b[0;32mreturn\u001b[0m \u001b[0mforward_call\u001b[0m\u001b[0;34m(\u001b[0m\u001b[0;34m*\u001b[0m\u001b[0margs\u001b[0m\u001b[0;34m,\u001b[0m \u001b[0;34m**\u001b[0m\u001b[0mkwargs\u001b[0m\u001b[0;34m)\u001b[0m\u001b[0;34m\u001b[0m\u001b[0;34m\u001b[0m\u001b[0m\n\u001b[0m\u001b[1;32m   1521\u001b[0m \u001b[0;34m\u001b[0m\u001b[0m\n\u001b[1;32m   1522\u001b[0m         \u001b[0;32mtry\u001b[0m\u001b[0;34m:\u001b[0m\u001b[0;34m\u001b[0m\u001b[0;34m\u001b[0m\u001b[0m\n",
            "\u001b[0;32m/usr/local/lib/python3.10/dist-packages/transformers/models/visual_bert/modeling_visual_bert.py\u001b[0m in \u001b[0;36mforward\u001b[0;34m(self, hidden_states, attention_mask, head_mask, output_attentions)\u001b[0m\n\u001b[1;32m    312\u001b[0m         \u001b[0moutput_attentions\u001b[0m\u001b[0;34m=\u001b[0m\u001b[0;32mFalse\u001b[0m\u001b[0;34m,\u001b[0m\u001b[0;34m\u001b[0m\u001b[0;34m\u001b[0m\u001b[0m\n\u001b[1;32m    313\u001b[0m     ):\n\u001b[0;32m--> 314\u001b[0;31m         self_outputs = self.self(\n\u001b[0m\u001b[1;32m    315\u001b[0m             \u001b[0mhidden_states\u001b[0m\u001b[0;34m,\u001b[0m\u001b[0;34m\u001b[0m\u001b[0;34m\u001b[0m\u001b[0m\n\u001b[1;32m    316\u001b[0m             \u001b[0mattention_mask\u001b[0m\u001b[0;34m,\u001b[0m\u001b[0;34m\u001b[0m\u001b[0;34m\u001b[0m\u001b[0m\n",
            "\u001b[0;32m/usr/local/lib/python3.10/dist-packages/torch/nn/modules/module.py\u001b[0m in \u001b[0;36m_wrapped_call_impl\u001b[0;34m(self, *args, **kwargs)\u001b[0m\n\u001b[1;32m   1509\u001b[0m             \u001b[0;32mreturn\u001b[0m \u001b[0mself\u001b[0m\u001b[0;34m.\u001b[0m\u001b[0m_compiled_call_impl\u001b[0m\u001b[0;34m(\u001b[0m\u001b[0;34m*\u001b[0m\u001b[0margs\u001b[0m\u001b[0;34m,\u001b[0m \u001b[0;34m**\u001b[0m\u001b[0mkwargs\u001b[0m\u001b[0;34m)\u001b[0m  \u001b[0;31m# type: ignore[misc]\u001b[0m\u001b[0;34m\u001b[0m\u001b[0;34m\u001b[0m\u001b[0m\n\u001b[1;32m   1510\u001b[0m         \u001b[0;32melse\u001b[0m\u001b[0;34m:\u001b[0m\u001b[0;34m\u001b[0m\u001b[0;34m\u001b[0m\u001b[0m\n\u001b[0;32m-> 1511\u001b[0;31m             \u001b[0;32mreturn\u001b[0m \u001b[0mself\u001b[0m\u001b[0;34m.\u001b[0m\u001b[0m_call_impl\u001b[0m\u001b[0;34m(\u001b[0m\u001b[0;34m*\u001b[0m\u001b[0margs\u001b[0m\u001b[0;34m,\u001b[0m \u001b[0;34m**\u001b[0m\u001b[0mkwargs\u001b[0m\u001b[0;34m)\u001b[0m\u001b[0;34m\u001b[0m\u001b[0;34m\u001b[0m\u001b[0m\n\u001b[0m\u001b[1;32m   1512\u001b[0m \u001b[0;34m\u001b[0m\u001b[0m\n\u001b[1;32m   1513\u001b[0m     \u001b[0;32mdef\u001b[0m \u001b[0m_call_impl\u001b[0m\u001b[0;34m(\u001b[0m\u001b[0mself\u001b[0m\u001b[0;34m,\u001b[0m \u001b[0;34m*\u001b[0m\u001b[0margs\u001b[0m\u001b[0;34m,\u001b[0m \u001b[0;34m**\u001b[0m\u001b[0mkwargs\u001b[0m\u001b[0;34m)\u001b[0m\u001b[0;34m:\u001b[0m\u001b[0;34m\u001b[0m\u001b[0;34m\u001b[0m\u001b[0m\n",
            "\u001b[0;32m/usr/local/lib/python3.10/dist-packages/torch/nn/modules/module.py\u001b[0m in \u001b[0;36m_call_impl\u001b[0;34m(self, *args, **kwargs)\u001b[0m\n\u001b[1;32m   1518\u001b[0m                 \u001b[0;32mor\u001b[0m \u001b[0m_global_backward_pre_hooks\u001b[0m \u001b[0;32mor\u001b[0m \u001b[0m_global_backward_hooks\u001b[0m\u001b[0;34m\u001b[0m\u001b[0;34m\u001b[0m\u001b[0m\n\u001b[1;32m   1519\u001b[0m                 or _global_forward_hooks or _global_forward_pre_hooks):\n\u001b[0;32m-> 1520\u001b[0;31m             \u001b[0;32mreturn\u001b[0m \u001b[0mforward_call\u001b[0m\u001b[0;34m(\u001b[0m\u001b[0;34m*\u001b[0m\u001b[0margs\u001b[0m\u001b[0;34m,\u001b[0m \u001b[0;34m**\u001b[0m\u001b[0mkwargs\u001b[0m\u001b[0;34m)\u001b[0m\u001b[0;34m\u001b[0m\u001b[0;34m\u001b[0m\u001b[0m\n\u001b[0m\u001b[1;32m   1521\u001b[0m \u001b[0;34m\u001b[0m\u001b[0m\n\u001b[1;32m   1522\u001b[0m         \u001b[0;32mtry\u001b[0m\u001b[0;34m:\u001b[0m\u001b[0;34m\u001b[0m\u001b[0;34m\u001b[0m\u001b[0m\n",
            "\u001b[0;32m/usr/local/lib/python3.10/dist-packages/transformers/models/visual_bert/modeling_visual_bert.py\u001b[0m in \u001b[0;36mforward\u001b[0;34m(self, hidden_states, attention_mask, head_mask, output_attentions)\u001b[0m\n\u001b[1;32m    228\u001b[0m         \u001b[0moutput_attentions\u001b[0m\u001b[0;34m=\u001b[0m\u001b[0;32mFalse\u001b[0m\u001b[0;34m,\u001b[0m\u001b[0;34m\u001b[0m\u001b[0;34m\u001b[0m\u001b[0m\n\u001b[1;32m    229\u001b[0m     ):\n\u001b[0;32m--> 230\u001b[0;31m         \u001b[0mmixed_query_layer\u001b[0m \u001b[0;34m=\u001b[0m \u001b[0mself\u001b[0m\u001b[0;34m.\u001b[0m\u001b[0mquery\u001b[0m\u001b[0;34m(\u001b[0m\u001b[0mhidden_states\u001b[0m\u001b[0;34m)\u001b[0m\u001b[0;34m\u001b[0m\u001b[0;34m\u001b[0m\u001b[0m\n\u001b[0m\u001b[1;32m    231\u001b[0m \u001b[0;34m\u001b[0m\u001b[0m\n\u001b[1;32m    232\u001b[0m         \u001b[0mkey_layer\u001b[0m \u001b[0;34m=\u001b[0m \u001b[0mself\u001b[0m\u001b[0;34m.\u001b[0m\u001b[0mtranspose_for_scores\u001b[0m\u001b[0;34m(\u001b[0m\u001b[0mself\u001b[0m\u001b[0;34m.\u001b[0m\u001b[0mkey\u001b[0m\u001b[0;34m(\u001b[0m\u001b[0mhidden_states\u001b[0m\u001b[0;34m)\u001b[0m\u001b[0;34m)\u001b[0m\u001b[0;34m\u001b[0m\u001b[0;34m\u001b[0m\u001b[0m\n",
            "\u001b[0;32m/usr/local/lib/python3.10/dist-packages/torch/nn/modules/module.py\u001b[0m in \u001b[0;36m_wrapped_call_impl\u001b[0;34m(self, *args, **kwargs)\u001b[0m\n\u001b[1;32m   1509\u001b[0m             \u001b[0;32mreturn\u001b[0m \u001b[0mself\u001b[0m\u001b[0;34m.\u001b[0m\u001b[0m_compiled_call_impl\u001b[0m\u001b[0;34m(\u001b[0m\u001b[0;34m*\u001b[0m\u001b[0margs\u001b[0m\u001b[0;34m,\u001b[0m \u001b[0;34m**\u001b[0m\u001b[0mkwargs\u001b[0m\u001b[0;34m)\u001b[0m  \u001b[0;31m# type: ignore[misc]\u001b[0m\u001b[0;34m\u001b[0m\u001b[0;34m\u001b[0m\u001b[0m\n\u001b[1;32m   1510\u001b[0m         \u001b[0;32melse\u001b[0m\u001b[0;34m:\u001b[0m\u001b[0;34m\u001b[0m\u001b[0;34m\u001b[0m\u001b[0m\n\u001b[0;32m-> 1511\u001b[0;31m             \u001b[0;32mreturn\u001b[0m \u001b[0mself\u001b[0m\u001b[0;34m.\u001b[0m\u001b[0m_call_impl\u001b[0m\u001b[0;34m(\u001b[0m\u001b[0;34m*\u001b[0m\u001b[0margs\u001b[0m\u001b[0;34m,\u001b[0m \u001b[0;34m**\u001b[0m\u001b[0mkwargs\u001b[0m\u001b[0;34m)\u001b[0m\u001b[0;34m\u001b[0m\u001b[0;34m\u001b[0m\u001b[0m\n\u001b[0m\u001b[1;32m   1512\u001b[0m \u001b[0;34m\u001b[0m\u001b[0m\n\u001b[1;32m   1513\u001b[0m     \u001b[0;32mdef\u001b[0m \u001b[0m_call_impl\u001b[0m\u001b[0;34m(\u001b[0m\u001b[0mself\u001b[0m\u001b[0;34m,\u001b[0m \u001b[0;34m*\u001b[0m\u001b[0margs\u001b[0m\u001b[0;34m,\u001b[0m \u001b[0;34m**\u001b[0m\u001b[0mkwargs\u001b[0m\u001b[0;34m)\u001b[0m\u001b[0;34m:\u001b[0m\u001b[0;34m\u001b[0m\u001b[0;34m\u001b[0m\u001b[0m\n",
            "\u001b[0;32m/usr/local/lib/python3.10/dist-packages/torch/nn/modules/module.py\u001b[0m in \u001b[0;36m_call_impl\u001b[0;34m(self, *args, **kwargs)\u001b[0m\n\u001b[1;32m   1518\u001b[0m                 \u001b[0;32mor\u001b[0m \u001b[0m_global_backward_pre_hooks\u001b[0m \u001b[0;32mor\u001b[0m \u001b[0m_global_backward_hooks\u001b[0m\u001b[0;34m\u001b[0m\u001b[0;34m\u001b[0m\u001b[0m\n\u001b[1;32m   1519\u001b[0m                 or _global_forward_hooks or _global_forward_pre_hooks):\n\u001b[0;32m-> 1520\u001b[0;31m             \u001b[0;32mreturn\u001b[0m \u001b[0mforward_call\u001b[0m\u001b[0;34m(\u001b[0m\u001b[0;34m*\u001b[0m\u001b[0margs\u001b[0m\u001b[0;34m,\u001b[0m \u001b[0;34m**\u001b[0m\u001b[0mkwargs\u001b[0m\u001b[0;34m)\u001b[0m\u001b[0;34m\u001b[0m\u001b[0;34m\u001b[0m\u001b[0m\n\u001b[0m\u001b[1;32m   1521\u001b[0m \u001b[0;34m\u001b[0m\u001b[0m\n\u001b[1;32m   1522\u001b[0m         \u001b[0;32mtry\u001b[0m\u001b[0;34m:\u001b[0m\u001b[0;34m\u001b[0m\u001b[0;34m\u001b[0m\u001b[0m\n",
            "\u001b[0;32m/usr/local/lib/python3.10/dist-packages/torch/nn/modules/linear.py\u001b[0m in \u001b[0;36mforward\u001b[0;34m(self, input)\u001b[0m\n\u001b[1;32m    114\u001b[0m \u001b[0;34m\u001b[0m\u001b[0m\n\u001b[1;32m    115\u001b[0m     \u001b[0;32mdef\u001b[0m \u001b[0mforward\u001b[0m\u001b[0;34m(\u001b[0m\u001b[0mself\u001b[0m\u001b[0;34m,\u001b[0m \u001b[0minput\u001b[0m\u001b[0;34m:\u001b[0m \u001b[0mTensor\u001b[0m\u001b[0;34m)\u001b[0m \u001b[0;34m->\u001b[0m \u001b[0mTensor\u001b[0m\u001b[0;34m:\u001b[0m\u001b[0;34m\u001b[0m\u001b[0;34m\u001b[0m\u001b[0m\n\u001b[0;32m--> 116\u001b[0;31m         \u001b[0;32mreturn\u001b[0m \u001b[0mF\u001b[0m\u001b[0;34m.\u001b[0m\u001b[0mlinear\u001b[0m\u001b[0;34m(\u001b[0m\u001b[0minput\u001b[0m\u001b[0;34m,\u001b[0m \u001b[0mself\u001b[0m\u001b[0;34m.\u001b[0m\u001b[0mweight\u001b[0m\u001b[0;34m,\u001b[0m \u001b[0mself\u001b[0m\u001b[0;34m.\u001b[0m\u001b[0mbias\u001b[0m\u001b[0;34m)\u001b[0m\u001b[0;34m\u001b[0m\u001b[0;34m\u001b[0m\u001b[0m\n\u001b[0m\u001b[1;32m    117\u001b[0m \u001b[0;34m\u001b[0m\u001b[0m\n\u001b[1;32m    118\u001b[0m     \u001b[0;32mdef\u001b[0m \u001b[0mextra_repr\u001b[0m\u001b[0;34m(\u001b[0m\u001b[0mself\u001b[0m\u001b[0;34m)\u001b[0m \u001b[0;34m->\u001b[0m \u001b[0mstr\u001b[0m\u001b[0;34m:\u001b[0m\u001b[0;34m\u001b[0m\u001b[0;34m\u001b[0m\u001b[0m\n",
            "\u001b[0;31mOutOfMemoryError\u001b[0m: CUDA out of memory. Tried to allocate 2.00 MiB. GPU 0 has a total capacity of 14.75 GiB of which 1.06 MiB is free. Process 371335 has 14.74 GiB memory in use. Of the allocated memory 14.54 GiB is allocated by PyTorch, and 71.91 MiB is reserved by PyTorch but unallocated. If reserved but unallocated memory is large try setting PYTORCH_CUDA_ALLOC_CONF=expandable_segments:True to avoid fragmentation.  See documentation for Memory Management  (https://pytorch.org/docs/stable/notes/cuda.html#environment-variables)"
          ]
        }
      ]
    },
    {
      "cell_type": "code",
      "source": [
        "# predictions = []\n",
        "# for image_idx in range(len(outputs)):\n",
        "#   image_answers = []\n",
        "#   for output in outputs[image_idx]:\n",
        "#       logits = output.logits\n",
        "#       probabilities = torch.softmax(logits, dim=-1)  # Apply softmax along the last dimension\n",
        "#       pred_index = torch.argmax(probabilities, dim=-1)  # Get the index of the maximum probability\n",
        "#       pred_label = id2label[pred_index.item()]\n",
        "#       image_answers.append(pred_label)\n",
        "#   predictions.append(image_answers)\n",
        "# predictions"
      ],
      "metadata": {
        "id": "yT4abmfGZWT2"
      },
      "execution_count": null,
      "outputs": []
    },
    {
      "cell_type": "code",
      "source": [
        "print(batch_loss)"
      ],
      "metadata": {
        "id": "n7HOlCbka4uD",
        "colab": {
          "base_uri": "https://localhost:8080/"
        },
        "outputId": "a2aa0307-7e81-4fec-cab3-f07c873c8fb3"
      },
      "execution_count": 50,
      "outputs": [
        {
          "output_type": "stream",
          "name": "stdout",
          "text": [
            "25253518.53515625\n"
          ]
        }
      ]
    },
    {
      "cell_type": "code",
      "source": [
        "predictions = []\n",
        "for image_idx in range(len(outputs)):\n",
        "  image_answers = []\n",
        "  for output in outputs[image_idx]:\n",
        "      pred_label = id2label[output.item()]\n",
        "      image_answers.append(pred_label)\n",
        "  predictions.append(image_answers)\n",
        "predictions"
      ],
      "metadata": {
        "id": "bnFctXcJN8_A"
      },
      "execution_count": null,
      "outputs": []
    }
  ],
  "metadata": {
    "accelerator": "GPU",
    "colab": {
      "gpuType": "T4",
      "provenance": [],
      "include_colab_link": true
    },
    "kernelspec": {
      "display_name": "Python 3",
      "name": "python3"
    },
    "language_info": {
      "name": "python"
    }
  },
  "nbformat": 4,
  "nbformat_minor": 0
}