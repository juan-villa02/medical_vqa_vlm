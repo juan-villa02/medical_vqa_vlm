{
  "cells": [
    {
      "cell_type": "markdown",
      "metadata": {
        "id": "view-in-github",
        "colab_type": "text"
      },
      "source": [
        "<a href=\"https://colab.research.google.com/github/juan-villa02/medical_vqa_vlm/blob/main/code/notebooks/train.ipynb\" target=\"_parent\"><img src=\"https://colab.research.google.com/assets/colab-badge.svg\" alt=\"Open In Colab\"/></a>"
      ]
    },
    {
      "cell_type": "markdown",
      "metadata": {
        "id": "9gIbSRmC_Q8o"
      },
      "source": [
        "# VQA Model - BERT + ResNet18"
      ]
    },
    {
      "cell_type": "markdown",
      "metadata": {
        "id": "nnubYJEE_g7f"
      },
      "source": [
        "## Libraries/Dependencies"
      ]
    },
    {
      "cell_type": "code",
      "execution_count": 1,
      "metadata": {
        "id": "JOxuYqd1_aMO"
      },
      "outputs": [],
      "source": [
        "# PyTorch framework\n",
        "import torch\n",
        "import torch.nn as nn\n",
        "import torch.nn.functional as F\n",
        "from torch.nn.utils.rnn import pad_sequence\n",
        "from torch.utils.data import DataLoader, Dataset\n",
        "import torchvision.transforms as transforms\n",
        "import torchvision.models as models\n",
        "import torchvision.utils as utils\n",
        "# Image and mask handling\n",
        "from PIL import Image\n",
        "from skimage import transform\n",
        "import scipy.io as sio\n",
        "# Transformers (Hugginface)\n",
        "from transformers import AutoTokenizer, BertForQuestionAnswering, VisualBertModel, VisualBertForQuestionAnswering, VisualBertConfig\n",
        "# Matplotlib\n",
        "import matplotlib.pyplot as plt\n",
        "# Numpy\n",
        "import numpy as np\n",
        "# Extra dependencies\n",
        "import json\n",
        "import os\n",
        "from tqdm import tqdm\n",
        "import zipfile"
      ]
    },
    {
      "cell_type": "code",
      "execution_count": 2,
      "metadata": {
        "id": "d29Ogg0EBJgx",
        "outputId": "d212c084-04eb-4eb5-f69e-27699055d35f",
        "colab": {
          "base_uri": "https://localhost:8080/"
        }
      },
      "outputs": [
        {
          "output_type": "stream",
          "name": "stdout",
          "text": [
            "cuda:0\n"
          ]
        }
      ],
      "source": [
        "# Set training device to GPU if available\n",
        "device = torch.device(\"cuda:0\" if torch.cuda.is_available() else \"cpu\")\n",
        "print(device)"
      ]
    },
    {
      "cell_type": "markdown",
      "metadata": {
        "id": "-5MQ2XccBctw"
      },
      "source": [
        "## Paths & Data Extraction"
      ]
    },
    {
      "cell_type": "code",
      "execution_count": 3,
      "metadata": {
        "id": "4bhmZStTCxv4",
        "outputId": "77beb180-264c-413b-cb60-334f529d55c9",
        "colab": {
          "base_uri": "https://localhost:8080/"
        }
      },
      "outputs": [
        {
          "output_type": "stream",
          "name": "stdout",
          "text": [
            "Mounted at /content/drive\n"
          ]
        }
      ],
      "source": [
        "from google.colab import drive\n",
        "drive.mount('/content/drive')"
      ]
    },
    {
      "cell_type": "code",
      "execution_count": 4,
      "metadata": {
        "id": "Lhz88OSQBaIZ"
      },
      "outputs": [],
      "source": [
        "path_dir = '.'\n",
        "path_dir = '/content/drive/MyDrive/TFG Juan Villanueva/databases_qa.zip'"
      ]
    },
    {
      "cell_type": "code",
      "execution_count": 5,
      "metadata": {
        "id": "MB-bgRNCoPqN"
      },
      "outputs": [],
      "source": [
        "# Data folder\n",
        "data_folder = './data/'"
      ]
    },
    {
      "cell_type": "code",
      "execution_count": 6,
      "metadata": {
        "id": "-Nuib-S0pXlU"
      },
      "outputs": [],
      "source": [
        "# ISIC_2016 database\n",
        "train_ISIC_path = 'databases_qa/ISIC_2016'"
      ]
    },
    {
      "cell_type": "code",
      "source": [
        "# def filter_json(json_file, images_dir, output_file):\n",
        "#    filtered_data = []\n",
        "\n",
        "#    with open(json_file, 'r') as f:\n",
        "#        data = json.load(f)\n",
        "\n",
        "#        for item in data:\n",
        "#            image_id = item['image_id'] + '.jpg'\n",
        "#            image_path = os.path.join(images_dir, image_id)\n",
        "\n",
        "#            # Check if the image file exists\n",
        "#            if os.path.exists(image_path):\n",
        "#                filtered_data.append(item)\n",
        "\n",
        "#    # Write the filtered data to the output JSON file\n",
        "#    with open(output_file, 'w') as f:\n",
        "#        json.dump(filtered_data, f, indent=4)\n",
        "\n",
        "#    return"
      ],
      "metadata": {
        "id": "OdoT841ba95x"
      },
      "execution_count": 7,
      "outputs": []
    },
    {
      "cell_type": "code",
      "source": [
        "# json_file = '/content/data/databases_qa/ISIC_2016/qa_ISIC.json'\n",
        "# images_dir = '/content/data/databases_qa/ISIC_2016/images/ISBI2016_ISIC_Part1_Test_Data_orig'\n",
        "# output_file = 'qa_filtered_ISIC.json'\n",
        "# filter_json(json_file, images_dir, output_file)"
      ],
      "metadata": {
        "id": "shV8YZa3bA5u"
      },
      "execution_count": 8,
      "outputs": []
    },
    {
      "cell_type": "code",
      "source": [
        "# ISIC_2016 database (images and masks)\n",
        "train_extra_ISIC_path = 'ISBI2016_ISIC_Part3_Training_Data_orig'"
      ],
      "metadata": {
        "id": "ZHU5hHJY-pDw"
      },
      "execution_count": 9,
      "outputs": []
    },
    {
      "cell_type": "code",
      "execution_count": 10,
      "metadata": {
        "id": "gMjnxi-_p38f"
      },
      "outputs": [],
      "source": [
        "# Pizarro database (images)\n",
        "pizarro_path = 'databases_qa/pizarro'"
      ]
    },
    {
      "cell_type": "code",
      "execution_count": 11,
      "metadata": {
        "id": "vcY75F9to4XA"
      },
      "outputs": [],
      "source": [
        "# Function to extract databases from the main zip file\n",
        "def extract_databases(zip_path, extract_path):\n",
        "    with zipfile.ZipFile(zip_path, 'r') as zip_ref:\n",
        "        zip_ref.extractall(extract_path)"
      ]
    },
    {
      "cell_type": "code",
      "execution_count": 12,
      "metadata": {
        "id": "XecsY9GIlCDx"
      },
      "outputs": [],
      "source": [
        "# Extract all databases from the main zip file\n",
        "if path_dir != '.':\n",
        "  extract_databases(path_dir, data_folder)"
      ]
    },
    {
      "cell_type": "code",
      "execution_count": 13,
      "metadata": {
        "id": "IenAqE-1rKgD"
      },
      "outputs": [],
      "source": [
        "# ISIC_2016 images\n",
        "database1_path = os.path.join(data_folder, train_ISIC_path)"
      ]
    },
    {
      "cell_type": "code",
      "execution_count": 14,
      "metadata": {
        "id": "Bfi5boA0s727"
      },
      "outputs": [],
      "source": [
        "# Pizarro images\n",
        "# 500 imágenes; Las 46 primeras son más complejas, en cuanto a diagnóstico. (Entrega 1) El resto están más equilibradas (Entrega 2-5)\n",
        "database2_path = os.path.join(data_folder, pizarro_path)"
      ]
    },
    {
      "cell_type": "markdown",
      "metadata": {
        "id": "SedFsMzrAegB"
      },
      "source": [
        "## VQA Dataset - Images, Masks, & QA"
      ]
    },
    {
      "cell_type": "code",
      "execution_count": 15,
      "metadata": {
        "id": "_AUIrbp_w4CS"
      },
      "outputs": [],
      "source": [
        "# Dataset class to load images and questions\n",
        "class VQADataset(Dataset):\n",
        "    def __init__(self, data_dir, json_file, tokenizer=None, transform=None, extraPath=None):\n",
        "        self.data_dir = data_dir\n",
        "        self.images_dir = os.path.join(self.data_dir, 'images')\n",
        "        self.masks_dir = os.path.join(self.data_dir, 'masks')\n",
        "\n",
        "        # Handle special ISIC data folder\n",
        "        self.extraPath = extraPath\n",
        "        if self.extraPath is not None:\n",
        "            self.images_dir = os.path.join(self.images_dir, self.extraPath)\n",
        "            self.masks_dir = os.path.join(self.masks_dir, self.extraPath)\n",
        "\n",
        "        self.transform = transform\n",
        "        self.tokenizer = tokenizer\n",
        "\n",
        "        with open(json_file, 'r') as f:\n",
        "            self.data = json.load(f)\n",
        "\n",
        "    def __len__(self):\n",
        "        return len(self.data)\n",
        "\n",
        "    def __getitem__(self, idx):\n",
        "\n",
        "        item = self.data[idx]\n",
        "        image_path = os.path.join(self.images_dir, item['image_id'])\n",
        "\n",
        "        # Ensure the image ID ends with \".jpg\"\n",
        "        if not image_path.endswith(\".jpg\"):\n",
        "            image_path += \".jpg\"\n",
        "\n",
        "        # Check if the image is available\n",
        "        try:\n",
        "          image = Image.open(image_path).convert('RGB')\n",
        "\n",
        "          # Case 1: Pizarro dataset\n",
        "          if self.extraPath is None:\n",
        "            mask_id = item['image_id'].split('.')[0]\n",
        "            mask_name = 'L' + mask_id + '.pgm'\n",
        "            mask_path = os.path.join(self.masks_dir, mask_name)\n",
        "            mask = Image.open(mask_path)\n",
        "\n",
        "          # Case 2: ISIC dataset\n",
        "          else:\n",
        "            mask_path = os.path.join(self.masks_dir, item['image_id']) + '_Segmentation.png'\n",
        "            mask = Image.open(mask_path)\n",
        "\n",
        "          if self.transform:\n",
        "              image, mask = self.transform((image, mask))\n",
        "\n",
        "          # Store questions and answers in two different arrays\n",
        "          qa_pairs = item['qa_pairs']\n",
        "          questions = [qa['question'] for qa in qa_pairs]\n",
        "          answers = [qa['answer'] for qa in qa_pairs]\n",
        "\n",
        "        except FileNotFoundError as e:\n",
        "\n",
        "          image = None\n",
        "          mask = None\n",
        "          questions = None\n",
        "          answers = None\n",
        "\n",
        "        return image, mask, questions, answers"
      ]
    },
    {
      "cell_type": "markdown",
      "metadata": {
        "id": "---H6oXn4860"
      },
      "source": [
        "## Load pre-trained ResNet18"
      ]
    },
    {
      "cell_type": "code",
      "execution_count": 16,
      "metadata": {
        "id": "cXzT4ZfT5BTU"
      },
      "outputs": [],
      "source": [
        "# Load ResNet-18 model from .pth file\n",
        "def load_resnet(path, optimizer=None, scheduler=None):\n",
        "    resnet = models.resnet18()\n",
        "    # Remove final fully connected layer and avg pooling (we do not want the model to return labels but features with dimension)\n",
        "    resnet.fc = nn.Identity()\n",
        "    resnet.avgpool = nn.Identity()\n",
        "\n",
        "    # Load the weights\n",
        "    state_dict = torch.load(path, map_location=device)['state_dict']\n",
        "\n",
        "    # Remove unexpected keys if they exist\n",
        "    unexpected_keys = ['fc.weight', 'fc.bias']\n",
        "    for key in unexpected_keys:\n",
        "        if key in state_dict:\n",
        "            del state_dict[key]\n",
        "\n",
        "    # Load the weights\n",
        "    resnet.load_state_dict(state_dict)\n",
        "    resnet.eval()\n",
        "\n",
        "    if optimizer is not None:\n",
        "        optimizer.load_state_dict(torch.load(path)['optimizer'])\n",
        "    if scheduler is not None:\n",
        "        scheduler.load_state_dict(torch.load(path)['scheduler'])\n",
        "\n",
        "    resnet.to(device)\n",
        "\n",
        "    return resnet, optimizer, scheduler"
      ]
    },
    {
      "cell_type": "code",
      "execution_count": 17,
      "metadata": {
        "id": "5rGRJcyj5LKz"
      },
      "outputs": [],
      "source": [
        "model_source_path = '/content/drive/MyDrive/TFG Juan Villanueva/codigo diagnostico/bestdiagNet.pth'"
      ]
    },
    {
      "cell_type": "code",
      "execution_count": 18,
      "metadata": {
        "id": "hm9XDY285UOB"
      },
      "outputs": [],
      "source": [
        "resnet, optimizer, scheduler = load_resnet(model_source_path)"
      ]
    },
    {
      "cell_type": "code",
      "execution_count": 19,
      "metadata": {
        "id": "yCtvmxrn9m2u",
        "outputId": "a3775e4a-d6b4-43c9-8b19-de4953a52ef6",
        "colab": {
          "base_uri": "https://localhost:8080/"
        }
      },
      "outputs": [
        {
          "output_type": "execute_result",
          "data": {
            "text/plain": [
              "ResNet(\n",
              "  (conv1): Conv2d(3, 64, kernel_size=(7, 7), stride=(2, 2), padding=(3, 3), bias=False)\n",
              "  (bn1): BatchNorm2d(64, eps=1e-05, momentum=0.1, affine=True, track_running_stats=True)\n",
              "  (relu): ReLU(inplace=True)\n",
              "  (maxpool): MaxPool2d(kernel_size=3, stride=2, padding=1, dilation=1, ceil_mode=False)\n",
              "  (layer1): Sequential(\n",
              "    (0): BasicBlock(\n",
              "      (conv1): Conv2d(64, 64, kernel_size=(3, 3), stride=(1, 1), padding=(1, 1), bias=False)\n",
              "      (bn1): BatchNorm2d(64, eps=1e-05, momentum=0.1, affine=True, track_running_stats=True)\n",
              "      (relu): ReLU(inplace=True)\n",
              "      (conv2): Conv2d(64, 64, kernel_size=(3, 3), stride=(1, 1), padding=(1, 1), bias=False)\n",
              "      (bn2): BatchNorm2d(64, eps=1e-05, momentum=0.1, affine=True, track_running_stats=True)\n",
              "    )\n",
              "    (1): BasicBlock(\n",
              "      (conv1): Conv2d(64, 64, kernel_size=(3, 3), stride=(1, 1), padding=(1, 1), bias=False)\n",
              "      (bn1): BatchNorm2d(64, eps=1e-05, momentum=0.1, affine=True, track_running_stats=True)\n",
              "      (relu): ReLU(inplace=True)\n",
              "      (conv2): Conv2d(64, 64, kernel_size=(3, 3), stride=(1, 1), padding=(1, 1), bias=False)\n",
              "      (bn2): BatchNorm2d(64, eps=1e-05, momentum=0.1, affine=True, track_running_stats=True)\n",
              "    )\n",
              "  )\n",
              "  (layer2): Sequential(\n",
              "    (0): BasicBlock(\n",
              "      (conv1): Conv2d(64, 128, kernel_size=(3, 3), stride=(2, 2), padding=(1, 1), bias=False)\n",
              "      (bn1): BatchNorm2d(128, eps=1e-05, momentum=0.1, affine=True, track_running_stats=True)\n",
              "      (relu): ReLU(inplace=True)\n",
              "      (conv2): Conv2d(128, 128, kernel_size=(3, 3), stride=(1, 1), padding=(1, 1), bias=False)\n",
              "      (bn2): BatchNorm2d(128, eps=1e-05, momentum=0.1, affine=True, track_running_stats=True)\n",
              "      (downsample): Sequential(\n",
              "        (0): Conv2d(64, 128, kernel_size=(1, 1), stride=(2, 2), bias=False)\n",
              "        (1): BatchNorm2d(128, eps=1e-05, momentum=0.1, affine=True, track_running_stats=True)\n",
              "      )\n",
              "    )\n",
              "    (1): BasicBlock(\n",
              "      (conv1): Conv2d(128, 128, kernel_size=(3, 3), stride=(1, 1), padding=(1, 1), bias=False)\n",
              "      (bn1): BatchNorm2d(128, eps=1e-05, momentum=0.1, affine=True, track_running_stats=True)\n",
              "      (relu): ReLU(inplace=True)\n",
              "      (conv2): Conv2d(128, 128, kernel_size=(3, 3), stride=(1, 1), padding=(1, 1), bias=False)\n",
              "      (bn2): BatchNorm2d(128, eps=1e-05, momentum=0.1, affine=True, track_running_stats=True)\n",
              "    )\n",
              "  )\n",
              "  (layer3): Sequential(\n",
              "    (0): BasicBlock(\n",
              "      (conv1): Conv2d(128, 256, kernel_size=(3, 3), stride=(2, 2), padding=(1, 1), bias=False)\n",
              "      (bn1): BatchNorm2d(256, eps=1e-05, momentum=0.1, affine=True, track_running_stats=True)\n",
              "      (relu): ReLU(inplace=True)\n",
              "      (conv2): Conv2d(256, 256, kernel_size=(3, 3), stride=(1, 1), padding=(1, 1), bias=False)\n",
              "      (bn2): BatchNorm2d(256, eps=1e-05, momentum=0.1, affine=True, track_running_stats=True)\n",
              "      (downsample): Sequential(\n",
              "        (0): Conv2d(128, 256, kernel_size=(1, 1), stride=(2, 2), bias=False)\n",
              "        (1): BatchNorm2d(256, eps=1e-05, momentum=0.1, affine=True, track_running_stats=True)\n",
              "      )\n",
              "    )\n",
              "    (1): BasicBlock(\n",
              "      (conv1): Conv2d(256, 256, kernel_size=(3, 3), stride=(1, 1), padding=(1, 1), bias=False)\n",
              "      (bn1): BatchNorm2d(256, eps=1e-05, momentum=0.1, affine=True, track_running_stats=True)\n",
              "      (relu): ReLU(inplace=True)\n",
              "      (conv2): Conv2d(256, 256, kernel_size=(3, 3), stride=(1, 1), padding=(1, 1), bias=False)\n",
              "      (bn2): BatchNorm2d(256, eps=1e-05, momentum=0.1, affine=True, track_running_stats=True)\n",
              "    )\n",
              "  )\n",
              "  (layer4): Sequential(\n",
              "    (0): BasicBlock(\n",
              "      (conv1): Conv2d(256, 512, kernel_size=(3, 3), stride=(2, 2), padding=(1, 1), bias=False)\n",
              "      (bn1): BatchNorm2d(512, eps=1e-05, momentum=0.1, affine=True, track_running_stats=True)\n",
              "      (relu): ReLU(inplace=True)\n",
              "      (conv2): Conv2d(512, 512, kernel_size=(3, 3), stride=(1, 1), padding=(1, 1), bias=False)\n",
              "      (bn2): BatchNorm2d(512, eps=1e-05, momentum=0.1, affine=True, track_running_stats=True)\n",
              "      (downsample): Sequential(\n",
              "        (0): Conv2d(256, 512, kernel_size=(1, 1), stride=(2, 2), bias=False)\n",
              "        (1): BatchNorm2d(512, eps=1e-05, momentum=0.1, affine=True, track_running_stats=True)\n",
              "      )\n",
              "    )\n",
              "    (1): BasicBlock(\n",
              "      (conv1): Conv2d(512, 512, kernel_size=(3, 3), stride=(1, 1), padding=(1, 1), bias=False)\n",
              "      (bn1): BatchNorm2d(512, eps=1e-05, momentum=0.1, affine=True, track_running_stats=True)\n",
              "      (relu): ReLU(inplace=True)\n",
              "      (conv2): Conv2d(512, 512, kernel_size=(3, 3), stride=(1, 1), padding=(1, 1), bias=False)\n",
              "      (bn2): BatchNorm2d(512, eps=1e-05, momentum=0.1, affine=True, track_running_stats=True)\n",
              "    )\n",
              "  )\n",
              "  (avgpool): Identity()\n",
              "  (fc): Identity()\n",
              ")"
            ]
          },
          "metadata": {},
          "execution_count": 19
        }
      ],
      "source": [
        "resnet"
      ]
    },
    {
      "cell_type": "markdown",
      "metadata": {
        "id": "esJtbykJp-f4"
      },
      "source": [
        "## Image Transformations"
      ]
    },
    {
      "cell_type": "code",
      "source": [
        "class CropByMask(object):\n",
        "    \"\"\"Recortamos la imagen usando la máscara de la lesión.\n",
        "\n",
        "    Args:\n",
        "        border (tupla o int): El borde de recorte alrededor de la máscara. Es sabido que el análisis del borde\n",
        "        de la lesión con la piel circudante es importante para los dermatólogos, por lo que puede ser interesante\n",
        "        dejar una guarda.\n",
        "        Si es una tupla, entonces es (bordery,borderx)\n",
        "    \"\"\"\n",
        "\n",
        "    def __init__(self, border):\n",
        "        assert isinstance(border, (int, tuple))\n",
        "        if isinstance(border, int):\n",
        "            self.border = (border,border)\n",
        "        else:\n",
        "            self.border = border\n",
        "\n",
        "    def __call__(self, sample):\n",
        "\n",
        "        image, mask = np.array(sample[0]), np.array(sample[1])\n",
        "\n",
        "        h, w = image.shape[:2]\n",
        "        #Calculamos los índices del bounding box para hacer el cropping\n",
        "        sidx=np.nonzero(mask)\n",
        "        minx=np.maximum(sidx[1].min()-self.border[1],0)\n",
        "        maxx=np.minimum(sidx[1].max()+1+self.border[1],w)\n",
        "        miny=np.maximum(sidx[0].min()-self.border[0],0)\n",
        "        maxy=np.minimum(sidx[0].max()+1+self.border[1],h)\n",
        "        #Recortamos la imagen\n",
        "        image=image[miny:maxy,minx:maxx,...]\n",
        "        mask=mask[miny:maxy,minx:maxx]\n",
        "\n",
        "        return image, mask"
      ],
      "metadata": {
        "id": "h70nisvTKXU3"
      },
      "execution_count": 20,
      "outputs": []
    },
    {
      "cell_type": "code",
      "source": [
        "class Rescale(object):\n",
        "    \"\"\"Rescales the image to a desired size.\n",
        "\n",
        "    Args:\n",
        "        output_size (tuple or int): Desired output size. If tuple, output is the output_size.\n",
        "            If int, the smaller of the image edges is matched to output_size keeping aspect ratio the same.\n",
        "    \"\"\"\n",
        "\n",
        "    def __init__(self, output_size):\n",
        "        assert isinstance(output_size, (int, tuple))\n",
        "        self.output_size = output_size\n",
        "\n",
        "    def __call__(self, sample):\n",
        "\n",
        "        image_np, mask_np = sample[0], sample[1]\n",
        "\n",
        "        # Get the height and width of the image\n",
        "        h, w = image_np.shape[:2]\n",
        "\n",
        "        if isinstance(self.output_size, int):\n",
        "            if h > w:\n",
        "                new_h, new_w = self.output_size * h / w, self.output_size\n",
        "            else:\n",
        "                new_h, new_w = self.output_size, self.output_size * w / h\n",
        "        else:\n",
        "            new_h, new_w = self.output_size\n",
        "\n",
        "        new_h, new_w = int(new_h), int(new_w)\n",
        "\n",
        "        # Resize the image using scikit-image's resize function\n",
        "        resized_image = transform.resize(image_np, (new_h, new_w))\n",
        "        resized_mask = transform.resize(mask_np, (new_h, new_w))\n",
        "\n",
        "        # Convert the resized NumPy array back to a PIL image\n",
        "        resized_image_pil = Image.fromarray((resized_image * 255).astype(np.uint8))\n",
        "        resized_mask_pil = Image.fromarray((resized_mask * 255).astype(np.uint8))\n",
        "\n",
        "        #return resized_image_pil, resized_mask_pil\n",
        "        return resized_image, resized_mask"
      ],
      "metadata": {
        "id": "IaT2mBMRKbkN"
      },
      "execution_count": 21,
      "outputs": []
    },
    {
      "cell_type": "code",
      "source": [
        "class CenterCrop(object):\n",
        "    \"\"\"Crop the central area of the image\n",
        "\n",
        "    Args:\n",
        "        output_size (tupla or int): Crop size. If int, square crop\n",
        "\n",
        "    \"\"\"\n",
        "\n",
        "    def __init__(self, output_size):\n",
        "        assert isinstance(output_size, (int, tuple))\n",
        "        if isinstance(output_size, int):\n",
        "            self.output_size = (output_size, output_size)\n",
        "        else:\n",
        "            assert len(output_size) == 2\n",
        "            self.output_size = output_size\n",
        "\n",
        "    def __call__(self, sample):\n",
        "\n",
        "        image, mask = sample[0], sample[1]\n",
        "\n",
        "        h, w = image.shape[:2]\n",
        "        new_h, new_w = self.output_size\n",
        "        rem_h = h - new_h\n",
        "        rem_w = w - new_w\n",
        "\n",
        "        if h>new_h:\n",
        "            top = int(rem_h/2)\n",
        "        else:\n",
        "            top=0\n",
        "\n",
        "        if w>new_w:\n",
        "            left = int(rem_w/2)\n",
        "        else:\n",
        "            left = 0\n",
        "\n",
        "        image = image[top: top + new_h,\n",
        "                     left: left + new_w]\n",
        "\n",
        "        mask = mask[top: top + new_h,\n",
        "                      left: left + new_w]\n",
        "\n",
        "\n",
        "        return image, mask"
      ],
      "metadata": {
        "id": "ruyaJGNsKgLX"
      },
      "execution_count": 22,
      "outputs": []
    },
    {
      "cell_type": "code",
      "execution_count": 23,
      "metadata": {
        "id": "Km6vWZvXqqBh"
      },
      "outputs": [],
      "source": [
        "class ToTensor(object):\n",
        "    \"\"\"Converts the image ndarray to a tensor.\"\"\"\n",
        "\n",
        "    def __call__(self, sample):\n",
        "\n",
        "        image, mask = sample[0], sample[1]\n",
        "        # Change the axes\n",
        "        # numpy image: H x W x C\n",
        "        # torch image: C x H x W\n",
        "        # image = np.array(image)\n",
        "        image = image.transpose((2, 0, 1))\n",
        "        image = torch.from_numpy(image)\n",
        "\n",
        "        mask = torch.from_numpy(mask)\n",
        "        mask = mask.unsqueeze(0)\n",
        "\n",
        "        return image, mask\n"
      ]
    },
    {
      "cell_type": "code",
      "execution_count": 24,
      "metadata": {
        "id": "KbPIvTG8p9rw"
      },
      "outputs": [],
      "source": [
        "class Normalize(object):\n",
        "    \"\"\"Normalizes the image by subtracting the mean and dividing by the standard deviations.\n",
        "\n",
        "    Args:\n",
        "        mean: The vector containing the means.\n",
        "        std: The vector containing the standard deviations.\n",
        "    \"\"\"\n",
        "\n",
        "    def __init__(self, mean, std):\n",
        "        assert len(mean) == len(std), 'Length of mean and std vectors is not the same'\n",
        "        self.mean = np.array(mean)\n",
        "        self.std = np.array(std)\n",
        "\n",
        "    def __call__(self, sample):\n",
        "\n",
        "        image, mask = sample[0], sample[1]\n",
        "\n",
        "        # c, h, w = image.shape\n",
        "        # assert c==len(self.mean), 'Length of mean and image is not the same'\n",
        "\n",
        "        dtype = image.dtype\n",
        "        mean = torch.as_tensor(self.mean, dtype=dtype, device=image.device)\n",
        "        std = torch.as_tensor(self.std, dtype=dtype, device=image.device)\n",
        "        # Normalize the image\n",
        "        # image = (image - mean[:, None, None]) / std[:, None, None]\n",
        "        image.sub_(mean[:, None, None]).div_(std[:, None, None])\n",
        "\n",
        "        return image, mask"
      ]
    },
    {
      "cell_type": "code",
      "execution_count": 25,
      "metadata": {
        "id": "Lnu68fiWr7Hd"
      },
      "outputs": [],
      "source": [
        "# Train ISIC Dataset------------------------------------------------------------\n",
        "train_dataset_isic = VQADataset(data_dir=database1_path,\n",
        "                           json_file='/content/data/databases_qa/ISIC_2016/qa_filtered_ISIC.json',\n",
        "                           tokenizer=None,\n",
        "                           transform=transforms.Compose([\n",
        "                            CropByMask(15),\n",
        "                            Rescale(224),\n",
        "                            CenterCrop(224),\n",
        "                            ToTensor(),\n",
        "                            Normalize(mean=[0.485, 0.456, 0.406], std=[0.229, 0.224, 0.225])\n",
        "                            ]),\n",
        "                            extraPath=train_extra_ISIC_path)\n",
        "# # Test ISIC Dataset--------------------------------------------------------------\n",
        "# test_dataset_isic = VQADataset(data_dir=database1_test_path,\n",
        "#                            json_file='/content/data/databases_qa/ISIC_2016/qa_ISIC.json',\n",
        "#                            tokenizer=None,\n",
        "#                            transform=transforms.Compose([\n",
        "#                             Rescale((224,224)),\n",
        "#                             ToTensor(),\n",
        "#                             Normalize(mean=[0.485, 0.456, 0.406], std=[0.229, 0.224, 0.225])\n",
        "#                             ]))"
      ]
    },
    {
      "cell_type": "code",
      "execution_count": 26,
      "metadata": {
        "id": "3BQq_UYpfjyg"
      },
      "outputs": [],
      "source": [
        "# Train Pizarro Dataset------------------------------------------------------------\n",
        "train_dataset_pizarro = VQADataset(data_dir=database2_path,\n",
        "                           json_file='/content/data/databases_qa/pizarro/qa_pizarro.json',\n",
        "                           tokenizer=None,\n",
        "                           transform=transforms.Compose([\n",
        "                            CropByMask(15),\n",
        "                            Rescale(224),\n",
        "                            CenterCrop(224),\n",
        "                            ToTensor(),\n",
        "                            Normalize(mean=[0.485, 0.456, 0.406], std=[0.229, 0.224, 0.225])\n",
        "                            ]))"
      ]
    },
    {
      "cell_type": "markdown",
      "source": [
        "## Define the all the possible answers within both datasets"
      ],
      "metadata": {
        "id": "SBodYMxwROs0"
      }
    },
    {
      "cell_type": "code",
      "source": [
        "# Extract all answers from the dataset\n",
        "all_answers = [answer for _, _, _, answers in train_dataset_pizarro for answer in answers]\n",
        "# Obtain unique answer values\n",
        "unique_answers = list(set(all_answers))"
      ],
      "metadata": {
        "id": "MtaTJ0v3RJ0W"
      },
      "execution_count": 27,
      "outputs": []
    },
    {
      "cell_type": "code",
      "source": [
        "unique_answers"
      ],
      "metadata": {
        "id": "fZOPrVjkTVVA",
        "outputId": "93af563a-460f-4eca-ca39-e01027dfdc60",
        "colab": {
          "base_uri": "https://localhost:8080/"
        }
      },
      "execution_count": 28,
      "outputs": [
        {
          "output_type": "execute_result",
          "data": {
            "text/plain": [
              "['Yes, clear whitish blue veil is observed.',\n",
              " 'The lesion has been follow-up with previous dermoscopy, due to changes.',\n",
              " 'No negative reticulum is observed.',\n",
              " 'Yes, subtle peripheral projections are present.',\n",
              " ' peripheral globules are observed.',\n",
              " 'Yes, clear homogeneous area with vessels is observed.',\n",
              " 'No homogeneous area without vessels is observed.',\n",
              " 'Yes, clear and dominant pigmented reticulum is observed.',\n",
              " 'No large globules/cobblestone are observed.',\n",
              " 'Yes, clear and dominant large globules/cobblestone are observed.',\n",
              " 'Yes, subtle whitish blue veil is observed.',\n",
              " 'The histology diagnostic indicates superficial spreading melanoma (ssm).',\n",
              " 'The diagnostic impression is non-atypical mole.',\n",
              " 'No white regression is observed.',\n",
              " 'The histology diagnostic indicates intradermal melanocytic nevus (imn).',\n",
              " 'The peripheral globular pattern is focal conventional.',\n",
              " 'The diagnostic difficulty level is high.',\n",
              " 'The histology diagnostic indicates melanoma in situ (mis).',\n",
              " 'The lesion has been follow-up, without previous dermoscopy.',\n",
              " 'Yes, subtle negative reticulum is observed.',\n",
              " 'Yes, clear chrysalis is observed.',\n",
              " 'The presence of dysplasia is not available.',\n",
              " 'The presence of dysplasia is .',\n",
              " 'No gray regression is observed.',\n",
              " 'Yes, subtle pigmented reticulum is observed.',\n",
              " 'The histology diagnostic indicates congenital melanocytic nevus (cmn).',\n",
              " 'The diagnostic impression is atypical mole.',\n",
              " 'The peripheral globular pattern is regular bursting.',\n",
              " 'Yes, subtle homogeneous area with vessels is observed.',\n",
              " 'Yes, clear and dominant negative reticulum is observed.',\n",
              " 'The diagnostic impression is spitz/reed nevus.',\n",
              " 'Yes, clear and dominant undefined area is observed.',\n",
              " 'Yes, clear undefined area is observed.',\n",
              " 'No peripheral globules are observed.',\n",
              " 'No pigmented reticulum is observed.',\n",
              " 'The global pattern of the lesion is mixed (mix of two of the above).',\n",
              " 'The global pattern of the lesion is homogeneous.',\n",
              " 'Yes, subtle peripheral globules are observed.',\n",
              " 'The lesion is symmetric.',\n",
              " 'The peripheral globular pattern is irregular bursting.',\n",
              " 'Yes, clear and dominant small dots/globules are present.',\n",
              " 'Yes, subtle gray regression is observed.',\n",
              " 'Yes, clear gray regression is observed.',\n",
              " 'The global pattern of the lesion is multicomponent (mix of 3 or more above).',\n",
              " 'The peripheral globular pattern is .',\n",
              " 'The diagnostic impression is melanoma.',\n",
              " 'The global pattern of the lesion is diffuse reticular.',\n",
              " ' large globules/cobblestone are observed.',\n",
              " 'Yes, subtle undefined area is observed.',\n",
              " 'The histology diagnostic indicates junctional melanocytic nevus (jmn).',\n",
              " 'The global pattern of the lesion is undefined.',\n",
              " 'The presence of dysplasia is severe.',\n",
              " 'The lesion has been first consultation.',\n",
              " 'Yes, clear and dominant homogeneous area with vessels is observed.',\n",
              " 'The lesion has been follow-up with previous dermoscopy, due to symptoms.',\n",
              " 'The lesion is .',\n",
              " 'The lesion has been not excised.',\n",
              " 'Yes, clear and dominant peripheral projections are present.',\n",
              " 'The general silhouette of the lesion is flat.',\n",
              " 'Yes, subtle large globules/cobblestone are observed.',\n",
              " 'The global pattern of the lesion is globular.',\n",
              " 'The histology diagnostic indicates spitz nevus (sn).',\n",
              " 'The presence of dysplasia is not applicable.',\n",
              " 'The peripheral globular pattern is focal bursting.',\n",
              " 'The global pattern of the lesion is patchy reticular.',\n",
              " 'The histology diagnostic indicates dysplastic melanocytic nevus (dmn).',\n",
              " 'The histology diagnostic indicates reed nevus (nr).',\n",
              " ' chrysalis is observed.',\n",
              " 'Yes, clear white regression is observed.',\n",
              " 'No undefined area is observed.',\n",
              " 'The diagnostic difficulty level is medium.',\n",
              " 'No whitish blue veil is observed.',\n",
              " 'Yes, clear and dominant homogeneous area without vessels is observed.',\n",
              " 'Yes, clear peripheral projections are present.',\n",
              " 'The general silhouette of the lesion is flattened elevated.',\n",
              " 'Yes, subtle homogeneous area without vessels is observed.',\n",
              " 'The lesion is asymmetric on one axis.',\n",
              " 'No chrysalis is observed.',\n",
              " 'The global pattern of the lesion is cobblestone.',\n",
              " 'The histology diagnostic indicates lentiginous melanocytic nevus (lmn).',\n",
              " 'Yes, clear homogeneous area without vessels is observed.',\n",
              " 'The histology diagnostic indicates non-atypical stable mole (m).',\n",
              " 'The diagnostic difficulty level is low.',\n",
              " 'Yes, clear and dominant peripheral globules are observed.',\n",
              " 'The peripheral globular pattern is regular conventional.',\n",
              " 'Yes, subtle small dots/globules are present.',\n",
              " 'The histology diagnostic indicates compound melanocytic nevus (cmn).',\n",
              " 'The peripheral globular pattern is absent.',\n",
              " 'Yes, clear large globules/cobblestone are observed.',\n",
              " 'Yes, clear peripheral globules are observed.',\n",
              " 'No homogeneous area with vessels is observed.',\n",
              " 'Yes, subtle white regression is observed.',\n",
              " 'The general silhouette of the lesion is exophytic.',\n",
              " 'The lesion is asymmetric on two axes.',\n",
              " 'Yes, clear pigmented reticulum is observed.',\n",
              " 'The peripheral globular pattern is irregular conventional.',\n",
              " 'The diagnostic impression is exclude melanoma.',\n",
              " 'Yes, clear small dots/globules are present.',\n",
              " 'Yes, subtle chrysalis is observed.',\n",
              " 'No peripheral projections are present.',\n",
              " 'No small dots/globules are present.',\n",
              " 'Yes, clear negative reticulum is observed.']"
            ]
          },
          "metadata": {},
          "execution_count": 28
        }
      ]
    },
    {
      "cell_type": "code",
      "source": [
        "# Create dictionaries id2label and label2id\n",
        "id2label = {i: label for i, label in enumerate(unique_answers)}\n",
        "label2id = {label: i for i, label in enumerate(unique_answers)}"
      ],
      "metadata": {
        "id": "zB_NjxmSSA2I"
      },
      "execution_count": 29,
      "outputs": []
    },
    {
      "cell_type": "code",
      "source": [
        "id2label"
      ],
      "metadata": {
        "id": "8nTUep5tUe07",
        "outputId": "3053d799-ee97-4313-fce7-17bc950fd818",
        "colab": {
          "base_uri": "https://localhost:8080/"
        }
      },
      "execution_count": 30,
      "outputs": [
        {
          "output_type": "execute_result",
          "data": {
            "text/plain": [
              "{0: 'Yes, clear whitish blue veil is observed.',\n",
              " 1: 'The lesion has been follow-up with previous dermoscopy, due to changes.',\n",
              " 2: 'No negative reticulum is observed.',\n",
              " 3: 'Yes, subtle peripheral projections are present.',\n",
              " 4: ' peripheral globules are observed.',\n",
              " 5: 'Yes, clear homogeneous area with vessels is observed.',\n",
              " 6: 'No homogeneous area without vessels is observed.',\n",
              " 7: 'Yes, clear and dominant pigmented reticulum is observed.',\n",
              " 8: 'No large globules/cobblestone are observed.',\n",
              " 9: 'Yes, clear and dominant large globules/cobblestone are observed.',\n",
              " 10: 'Yes, subtle whitish blue veil is observed.',\n",
              " 11: 'The histology diagnostic indicates superficial spreading melanoma (ssm).',\n",
              " 12: 'The diagnostic impression is non-atypical mole.',\n",
              " 13: 'No white regression is observed.',\n",
              " 14: 'The histology diagnostic indicates intradermal melanocytic nevus (imn).',\n",
              " 15: 'The peripheral globular pattern is focal conventional.',\n",
              " 16: 'The diagnostic difficulty level is high.',\n",
              " 17: 'The histology diagnostic indicates melanoma in situ (mis).',\n",
              " 18: 'The lesion has been follow-up, without previous dermoscopy.',\n",
              " 19: 'Yes, subtle negative reticulum is observed.',\n",
              " 20: 'Yes, clear chrysalis is observed.',\n",
              " 21: 'The presence of dysplasia is not available.',\n",
              " 22: 'The presence of dysplasia is .',\n",
              " 23: 'No gray regression is observed.',\n",
              " 24: 'Yes, subtle pigmented reticulum is observed.',\n",
              " 25: 'The histology diagnostic indicates congenital melanocytic nevus (cmn).',\n",
              " 26: 'The diagnostic impression is atypical mole.',\n",
              " 27: 'The peripheral globular pattern is regular bursting.',\n",
              " 28: 'Yes, subtle homogeneous area with vessels is observed.',\n",
              " 29: 'Yes, clear and dominant negative reticulum is observed.',\n",
              " 30: 'The diagnostic impression is spitz/reed nevus.',\n",
              " 31: 'Yes, clear and dominant undefined area is observed.',\n",
              " 32: 'Yes, clear undefined area is observed.',\n",
              " 33: 'No peripheral globules are observed.',\n",
              " 34: 'No pigmented reticulum is observed.',\n",
              " 35: 'The global pattern of the lesion is mixed (mix of two of the above).',\n",
              " 36: 'The global pattern of the lesion is homogeneous.',\n",
              " 37: 'Yes, subtle peripheral globules are observed.',\n",
              " 38: 'The lesion is symmetric.',\n",
              " 39: 'The peripheral globular pattern is irregular bursting.',\n",
              " 40: 'Yes, clear and dominant small dots/globules are present.',\n",
              " 41: 'Yes, subtle gray regression is observed.',\n",
              " 42: 'Yes, clear gray regression is observed.',\n",
              " 43: 'The global pattern of the lesion is multicomponent (mix of 3 or more above).',\n",
              " 44: 'The peripheral globular pattern is .',\n",
              " 45: 'The diagnostic impression is melanoma.',\n",
              " 46: 'The global pattern of the lesion is diffuse reticular.',\n",
              " 47: ' large globules/cobblestone are observed.',\n",
              " 48: 'Yes, subtle undefined area is observed.',\n",
              " 49: 'The histology diagnostic indicates junctional melanocytic nevus (jmn).',\n",
              " 50: 'The global pattern of the lesion is undefined.',\n",
              " 51: 'The presence of dysplasia is severe.',\n",
              " 52: 'The lesion has been first consultation.',\n",
              " 53: 'Yes, clear and dominant homogeneous area with vessels is observed.',\n",
              " 54: 'The lesion has been follow-up with previous dermoscopy, due to symptoms.',\n",
              " 55: 'The lesion is .',\n",
              " 56: 'The lesion has been not excised.',\n",
              " 57: 'Yes, clear and dominant peripheral projections are present.',\n",
              " 58: 'The general silhouette of the lesion is flat.',\n",
              " 59: 'Yes, subtle large globules/cobblestone are observed.',\n",
              " 60: 'The global pattern of the lesion is globular.',\n",
              " 61: 'The histology diagnostic indicates spitz nevus (sn).',\n",
              " 62: 'The presence of dysplasia is not applicable.',\n",
              " 63: 'The peripheral globular pattern is focal bursting.',\n",
              " 64: 'The global pattern of the lesion is patchy reticular.',\n",
              " 65: 'The histology diagnostic indicates dysplastic melanocytic nevus (dmn).',\n",
              " 66: 'The histology diagnostic indicates reed nevus (nr).',\n",
              " 67: ' chrysalis is observed.',\n",
              " 68: 'Yes, clear white regression is observed.',\n",
              " 69: 'No undefined area is observed.',\n",
              " 70: 'The diagnostic difficulty level is medium.',\n",
              " 71: 'No whitish blue veil is observed.',\n",
              " 72: 'Yes, clear and dominant homogeneous area without vessels is observed.',\n",
              " 73: 'Yes, clear peripheral projections are present.',\n",
              " 74: 'The general silhouette of the lesion is flattened elevated.',\n",
              " 75: 'Yes, subtle homogeneous area without vessels is observed.',\n",
              " 76: 'The lesion is asymmetric on one axis.',\n",
              " 77: 'No chrysalis is observed.',\n",
              " 78: 'The global pattern of the lesion is cobblestone.',\n",
              " 79: 'The histology diagnostic indicates lentiginous melanocytic nevus (lmn).',\n",
              " 80: 'Yes, clear homogeneous area without vessels is observed.',\n",
              " 81: 'The histology diagnostic indicates non-atypical stable mole (m).',\n",
              " 82: 'The diagnostic difficulty level is low.',\n",
              " 83: 'Yes, clear and dominant peripheral globules are observed.',\n",
              " 84: 'The peripheral globular pattern is regular conventional.',\n",
              " 85: 'Yes, subtle small dots/globules are present.',\n",
              " 86: 'The histology diagnostic indicates compound melanocytic nevus (cmn).',\n",
              " 87: 'The peripheral globular pattern is absent.',\n",
              " 88: 'Yes, clear large globules/cobblestone are observed.',\n",
              " 89: 'Yes, clear peripheral globules are observed.',\n",
              " 90: 'No homogeneous area with vessels is observed.',\n",
              " 91: 'Yes, subtle white regression is observed.',\n",
              " 92: 'The general silhouette of the lesion is exophytic.',\n",
              " 93: 'The lesion is asymmetric on two axes.',\n",
              " 94: 'Yes, clear pigmented reticulum is observed.',\n",
              " 95: 'The peripheral globular pattern is irregular conventional.',\n",
              " 96: 'The diagnostic impression is exclude melanoma.',\n",
              " 97: 'Yes, clear small dots/globules are present.',\n",
              " 98: 'Yes, subtle chrysalis is observed.',\n",
              " 99: 'No peripheral projections are present.',\n",
              " 100: 'No small dots/globules are present.',\n",
              " 101: 'Yes, clear negative reticulum is observed.'}"
            ]
          },
          "metadata": {},
          "execution_count": 30
        }
      ]
    },
    {
      "cell_type": "code",
      "source": [
        "# Required tensor with the label IDs\n",
        "answers_ids_tensor = torch.arange(len(id2label), dtype=torch.float, device=device)\n",
        "answers_ids_tensor"
      ],
      "metadata": {
        "id": "zIE8BzfqUmmf",
        "outputId": "8153b0ed-84d1-4ad6-e36e-4cbe1d621a40",
        "colab": {
          "base_uri": "https://localhost:8080/"
        }
      },
      "execution_count": 31,
      "outputs": [
        {
          "output_type": "execute_result",
          "data": {
            "text/plain": [
              "tensor([  0.,   1.,   2.,   3.,   4.,   5.,   6.,   7.,   8.,   9.,  10.,  11.,\n",
              "         12.,  13.,  14.,  15.,  16.,  17.,  18.,  19.,  20.,  21.,  22.,  23.,\n",
              "         24.,  25.,  26.,  27.,  28.,  29.,  30.,  31.,  32.,  33.,  34.,  35.,\n",
              "         36.,  37.,  38.,  39.,  40.,  41.,  42.,  43.,  44.,  45.,  46.,  47.,\n",
              "         48.,  49.,  50.,  51.,  52.,  53.,  54.,  55.,  56.,  57.,  58.,  59.,\n",
              "         60.,  61.,  62.,  63.,  64.,  65.,  66.,  67.,  68.,  69.,  70.,  71.,\n",
              "         72.,  73.,  74.,  75.,  76.,  77.,  78.,  79.,  80.,  81.,  82.,  83.,\n",
              "         84.,  85.,  86.,  87.,  88.,  89.,  90.,  91.,  92.,  93.,  94.,  95.,\n",
              "         96.,  97.,  98.,  99., 100., 101.], device='cuda:0')"
            ]
          },
          "metadata": {},
          "execution_count": 31
        }
      ]
    },
    {
      "cell_type": "code",
      "execution_count": 32,
      "metadata": {
        "id": "UrNZdQCPl7qt"
      },
      "outputs": [],
      "source": [
        "# Pizarro dataset\n",
        "pizarro_dataloader = DataLoader(train_dataset_pizarro, batch_size=5, shuffle=True)\n",
        "train_isic_dataloader = DataLoader(train_dataset_isic, batch_size=5, shuffle=True)"
      ]
    },
    {
      "cell_type": "code",
      "execution_count": 33,
      "metadata": {
        "id": "2jZsoFg5aoCM"
      },
      "outputs": [],
      "source": [
        "# Auxiliary function to visualize a batch\n",
        "def show_batch(sample_batched):\n",
        "    \"\"\"Show a batch of images.\"\"\"\n",
        "\n",
        "    # Store images, questions and answers\n",
        "    images_batch, masks_batch, questions_batch, answers_batch = \\\n",
        "            sample_batched[0], sample_batched[1], sample_batched[2], sample_batched[3]\n",
        "\n",
        "    # Identify the batch size to define the grid\n",
        "    batch_size = len(images_batch)\n",
        "    im_size = images_batch.size(2)\n",
        "    grid_border_size = 2\n",
        "\n",
        "    # Generate the grid\n",
        "    grid = utils.make_grid(images_batch)\n",
        "\n",
        "    # Convert to numpy and denormalize\n",
        "    grid = grid.numpy().transpose((1, 2, 0))\n",
        "    mean = np.array([0.485, 0.456, 0.406])\n",
        "    std = np.array([0.229, 0.224, 0.225])\n",
        "    grid = std * grid + mean\n",
        "    grid = np.clip(grid, 0, 1)\n",
        "    plt.imshow(grid)\n",
        "    plt.title('Batch from dataloader')\n",
        "    plt.axis('off')\n",
        "    plt.show()"
      ]
    },
    {
      "cell_type": "code",
      "execution_count": 34,
      "metadata": {
        "id": "cV5odxMqlhbb",
        "outputId": "e55aeac6-a01a-4118-a515-216126be0f48",
        "colab": {
          "base_uri": "https://localhost:8080/",
          "height": 354
        }
      },
      "outputs": [
        {
          "output_type": "stream",
          "name": "stdout",
          "text": [
            "0 [('How is the global pattern?', 'How is the global pattern?', 'How is the global pattern?', 'How is the global pattern?', 'How is the global pattern?'), ('Can you describe the overall pattern?', 'Can you describe the overall pattern?', 'Can you describe the overall pattern?', 'Can you describe the overall pattern?', 'Can you describe the overall pattern?'), ('Describe the pattern observed globally.', 'Describe the pattern observed globally.', 'Describe the pattern observed globally.', 'Describe the pattern observed globally.', 'Describe the pattern observed globally.'), ('What is the pattern like throughout the lesion?', 'What is the pattern like throughout the lesion?', 'What is the pattern like throughout the lesion?', 'What is the pattern like throughout the lesion?', 'What is the pattern like throughout the lesion?'), ('What patterns are present in the entire lesion?', 'What patterns are present in the entire lesion?', 'What patterns are present in the entire lesion?', 'What patterns are present in the entire lesion?', 'What patterns are present in the entire lesion?'), ('Can you identify any pigmented reticulum?', 'Can you identify any pigmented reticulum?', 'Can you identify any pigmented reticulum?', 'Can you identify any pigmented reticulum?', 'Can you identify any pigmented reticulum?'), ('Do you observe pigmented reticulum?', 'Do you observe pigmented reticulum?', 'Do you observe pigmented reticulum?', 'Do you observe pigmented reticulum?', 'Do you observe pigmented reticulum?'), ('Describe the presence of pigmented reticulum.', 'Describe the presence of pigmented reticulum.', 'Describe the presence of pigmented reticulum.', 'Describe the presence of pigmented reticulum.', 'Describe the presence of pigmented reticulum.'), ('Are there any signs of pigmented reticulum?', 'Are there any signs of pigmented reticulum?', 'Are there any signs of pigmented reticulum?', 'Are there any signs of pigmented reticulum?', 'Are there any signs of pigmented reticulum?'), ('What about pigmented reticulum in the lesion?', 'What about pigmented reticulum in the lesion?', 'What about pigmented reticulum in the lesion?', 'What about pigmented reticulum in the lesion?', 'What about pigmented reticulum in the lesion?'), ('Can you identify any negative reticulum?', 'Can you identify any negative reticulum?', 'Can you identify any negative reticulum?', 'Can you identify any negative reticulum?', 'Can you identify any negative reticulum?'), ('Do you observe negative reticulum?', 'Do you observe negative reticulum?', 'Do you observe negative reticulum?', 'Do you observe negative reticulum?', 'Do you observe negative reticulum?'), ('Describe the presence of negative reticulum.', 'Describe the presence of negative reticulum.', 'Describe the presence of negative reticulum.', 'Describe the presence of negative reticulum.', 'Describe the presence of negative reticulum.'), ('Are there any signs of negative reticulum?', 'Are there any signs of negative reticulum?', 'Are there any signs of negative reticulum?', 'Are there any signs of negative reticulum?', 'Are there any signs of negative reticulum?'), ('What about negative reticulum in the lesion?', 'What about negative reticulum in the lesion?', 'What about negative reticulum in the lesion?', 'What about negative reticulum in the lesion?', 'What about negative reticulum in the lesion?'), ('Can you identify any small dots/globules?', 'Can you identify any small dots/globules?', 'Can you identify any small dots/globules?', 'Can you identify any small dots/globules?', 'Can you identify any small dots/globules?'), ('Do you see any small dots/globules?', 'Do you see any small dots/globules?', 'Do you see any small dots/globules?', 'Do you see any small dots/globules?', 'Do you see any small dots/globules?'), ('Describe the presence of small dots/globules.', 'Describe the presence of small dots/globules.', 'Describe the presence of small dots/globules.', 'Describe the presence of small dots/globules.', 'Describe the presence of small dots/globules.'), ('Are there any signs of small dots/globules?', 'Are there any signs of small dots/globules?', 'Are there any signs of small dots/globules?', 'Are there any signs of small dots/globules?', 'Are there any signs of small dots/globules?'), ('What about small dots/globules in the lesion?', 'What about small dots/globules in the lesion?', 'What about small dots/globules in the lesion?', 'What about small dots/globules in the lesion?', 'What about small dots/globules in the lesion?'), ('Can you identify any large globules/cobblestone?', 'Can you identify any large globules/cobblestone?', 'Can you identify any large globules/cobblestone?', 'Can you identify any large globules/cobblestone?', 'Can you identify any large globules/cobblestone?'), ('Do you observe large globules/cobblestone?', 'Do you observe large globules/cobblestone?', 'Do you observe large globules/cobblestone?', 'Do you observe large globules/cobblestone?', 'Do you observe large globules/cobblestone?'), ('Describe the presence of large globules/cobblestone.', 'Describe the presence of large globules/cobblestone.', 'Describe the presence of large globules/cobblestone.', 'Describe the presence of large globules/cobblestone.', 'Describe the presence of large globules/cobblestone.'), ('Are there any signs of large globules/cobblestone?', 'Are there any signs of large globules/cobblestone?', 'Are there any signs of large globules/cobblestone?', 'Are there any signs of large globules/cobblestone?', 'Are there any signs of large globules/cobblestone?'), ('What about large globules/cobblestone in the lesion?', 'What about large globules/cobblestone in the lesion?', 'What about large globules/cobblestone in the lesion?', 'What about large globules/cobblestone in the lesion?', 'What about large globules/cobblestone in the lesion?'), ('Can you identify any peripheral globules?', 'Can you identify any peripheral globules?', 'Can you identify any peripheral globules?', 'Can you identify any peripheral globules?', 'Can you identify any peripheral globules?'), ('Do you observe peripheral globules?', 'Do you observe peripheral globules?', 'Do you observe peripheral globules?', 'Do you observe peripheral globules?', 'Do you observe peripheral globules?'), ('Describe the presence of peripheral globules.', 'Describe the presence of peripheral globules.', 'Describe the presence of peripheral globules.', 'Describe the presence of peripheral globules.', 'Describe the presence of peripheral globules.'), ('Are there any signs of peripheral globules?', 'Are there any signs of peripheral globules?', 'Are there any signs of peripheral globules?', 'Are there any signs of peripheral globules?', 'Are there any signs of peripheral globules?'), ('What about peripheral globules in the lesion?', 'What about peripheral globules in the lesion?', 'What about peripheral globules in the lesion?', 'What about peripheral globules in the lesion?', 'What about peripheral globules in the lesion?'), ('Can you identify any peripheral projections?', 'Can you identify any peripheral projections?', 'Can you identify any peripheral projections?', 'Can you identify any peripheral projections?', 'Can you identify any peripheral projections?'), ('Do you observe peripheral projections?', 'Do you observe peripheral projections?', 'Do you observe peripheral projections?', 'Do you observe peripheral projections?', 'Do you observe peripheral projections?'), ('Describe the presence of peripheral projections.', 'Describe the presence of peripheral projections.', 'Describe the presence of peripheral projections.', 'Describe the presence of peripheral projections.', 'Describe the presence of peripheral projections.'), ('Are there any signs of peripheral projections?', 'Are there any signs of peripheral projections?', 'Are there any signs of peripheral projections?', 'Are there any signs of peripheral projections?', 'Are there any signs of peripheral projections?'), ('What about peripheral projections in the lesion?', 'What about peripheral projections in the lesion?', 'What about peripheral projections in the lesion?', 'What about peripheral projections in the lesion?', 'What about peripheral projections in the lesion?'), ('Can you identify any homogeneous area without vessels?', 'Can you identify any homogeneous area without vessels?', 'Can you identify any homogeneous area without vessels?', 'Can you identify any homogeneous area without vessels?', 'Can you identify any homogeneous area without vessels?'), ('Do you observe homogeneous area without vessels?', 'Do you observe homogeneous area without vessels?', 'Do you observe homogeneous area without vessels?', 'Do you observe homogeneous area without vessels?', 'Do you observe homogeneous area without vessels?'), ('Describe the presence of homogeneous area without vessels.', 'Describe the presence of homogeneous area without vessels.', 'Describe the presence of homogeneous area without vessels.', 'Describe the presence of homogeneous area without vessels.', 'Describe the presence of homogeneous area without vessels.'), ('Are there any signs of homogeneous area without vessels?', 'Are there any signs of homogeneous area without vessels?', 'Are there any signs of homogeneous area without vessels?', 'Are there any signs of homogeneous area without vessels?', 'Are there any signs of homogeneous area without vessels?'), ('What about homogeneous area without vessels in the lesion?', 'What about homogeneous area without vessels in the lesion?', 'What about homogeneous area without vessels in the lesion?', 'What about homogeneous area without vessels in the lesion?', 'What about homogeneous area without vessels in the lesion?'), ('Can you identify any homogeneous area with vessels?', 'Can you identify any homogeneous area with vessels?', 'Can you identify any homogeneous area with vessels?', 'Can you identify any homogeneous area with vessels?', 'Can you identify any homogeneous area with vessels?'), ('Do you observe homogeneous area with vessels?', 'Do you observe homogeneous area with vessels?', 'Do you observe homogeneous area with vessels?', 'Do you observe homogeneous area with vessels?', 'Do you observe homogeneous area with vessels?'), ('Describe the presence of homogeneous area with vessels.', 'Describe the presence of homogeneous area with vessels.', 'Describe the presence of homogeneous area with vessels.', 'Describe the presence of homogeneous area with vessels.', 'Describe the presence of homogeneous area with vessels.'), ('Are there any signs of homogeneous area with vessels?', 'Are there any signs of homogeneous area with vessels?', 'Are there any signs of homogeneous area with vessels?', 'Are there any signs of homogeneous area with vessels?', 'Are there any signs of homogeneous area with vessels?'), ('What about homogeneous area with vessels in the lesion?', 'What about homogeneous area with vessels in the lesion?', 'What about homogeneous area with vessels in the lesion?', 'What about homogeneous area with vessels in the lesion?', 'What about homogeneous area with vessels in the lesion?'), ('Can you identify any undefined area?', 'Can you identify any undefined area?', 'Can you identify any undefined area?', 'Can you identify any undefined area?', 'Can you identify any undefined area?'), ('Do you observe undefined area?', 'Do you observe undefined area?', 'Do you observe undefined area?', 'Do you observe undefined area?', 'Do you observe undefined area?'), ('Describe the presence of undefined area.', 'Describe the presence of undefined area.', 'Describe the presence of undefined area.', 'Describe the presence of undefined area.', 'Describe the presence of undefined area.'), ('Are there any signs of undefined area?', 'Are there any signs of undefined area?', 'Are there any signs of undefined area?', 'Are there any signs of undefined area?', 'Are there any signs of undefined area?'), ('What about undefined area in the lesion?', 'What about undefined area in the lesion?', 'What about undefined area in the lesion?', 'What about undefined area in the lesion?', 'What about undefined area in the lesion?'), ('Can you identify any gray regression?', 'Can you identify any gray regression?', 'Can you identify any gray regression?', 'Can you identify any gray regression?', 'Can you identify any gray regression?'), ('Do you observe gray regression?', 'Do you observe gray regression?', 'Do you observe gray regression?', 'Do you observe gray regression?', 'Do you observe gray regression?'), ('Describe the presence of gray regression.', 'Describe the presence of gray regression.', 'Describe the presence of gray regression.', 'Describe the presence of gray regression.', 'Describe the presence of gray regression.'), ('Are there any signs of gray regression?', 'Are there any signs of gray regression?', 'Are there any signs of gray regression?', 'Are there any signs of gray regression?', 'Are there any signs of gray regression?'), ('What about gray regression in the lesion?', 'What about gray regression in the lesion?', 'What about gray regression in the lesion?', 'What about gray regression in the lesion?', 'What about gray regression in the lesion?'), ('Can you identify any white regression?', 'Can you identify any white regression?', 'Can you identify any white regression?', 'Can you identify any white regression?', 'Can you identify any white regression?'), ('Do you observe white regression?', 'Do you observe white regression?', 'Do you observe white regression?', 'Do you observe white regression?', 'Do you observe white regression?'), ('Describe the presence of white regression.', 'Describe the presence of white regression.', 'Describe the presence of white regression.', 'Describe the presence of white regression.', 'Describe the presence of white regression.'), ('Are there any signs of white regression?', 'Are there any signs of white regression?', 'Are there any signs of white regression?', 'Are there any signs of white regression?', 'Are there any signs of white regression?'), ('What about white regression in the lesion?', 'What about white regression in the lesion?', 'What about white regression in the lesion?', 'What about white regression in the lesion?', 'What about white regression in the lesion?'), ('Can you identify any whitish blue veil?', 'Can you identify any whitish blue veil?', 'Can you identify any whitish blue veil?', 'Can you identify any whitish blue veil?', 'Can you identify any whitish blue veil?'), ('Do you observe whitish blue veil?', 'Do you observe whitish blue veil?', 'Do you observe whitish blue veil?', 'Do you observe whitish blue veil?', 'Do you observe whitish blue veil?'), ('Describe the presence of whitish blue veil.', 'Describe the presence of whitish blue veil.', 'Describe the presence of whitish blue veil.', 'Describe the presence of whitish blue veil.', 'Describe the presence of whitish blue veil.'), ('Are there any signs of whitish blue veil?', 'Are there any signs of whitish blue veil?', 'Are there any signs of whitish blue veil?', 'Are there any signs of whitish blue veil?', 'Are there any signs of whitish blue veil?'), ('What about whitish blue veil in the lesion?', 'What about whitish blue veil in the lesion?', 'What about whitish blue veil in the lesion?', 'What about whitish blue veil in the lesion?', 'What about whitish blue veil in the lesion?'), ('Can you identify any chrysalis?', 'Can you identify any chrysalis?', 'Can you identify any chrysalis?', 'Can you identify any chrysalis?', 'Can you identify any chrysalis?'), ('Do you observe chrysalis?', 'Do you observe chrysalis?', 'Do you observe chrysalis?', 'Do you observe chrysalis?', 'Do you observe chrysalis?'), ('Describe the presence of chrysalis.', 'Describe the presence of chrysalis.', 'Describe the presence of chrysalis.', 'Describe the presence of chrysalis.', 'Describe the presence of chrysalis.'), ('Are there any signs of chrysalis?', 'Are there any signs of chrysalis?', 'Are there any signs of chrysalis?', 'Are there any signs of chrysalis?', 'Are there any signs of chrysalis?'), ('What about chrysalis in the lesion?', 'What about chrysalis in the lesion?', 'What about chrysalis in the lesion?', 'What about chrysalis in the lesion?', 'What about chrysalis in the lesion?'), ('Is the lesion malignant?', 'Is the lesion malignant?', 'Is the lesion malignant?', 'Is the lesion malignant?', 'Is the lesion malignant?'), ('Do you classify the lesion as malignant?', 'Do you classify the lesion as malignant?', 'Do you classify the lesion as malignant?', 'Do you classify the lesion as malignant?', 'Do you classify the lesion as malignant?'), ('What is the classification of the lesion?', 'What is the classification of the lesion?', 'What is the classification of the lesion?', 'What is the classification of the lesion?', 'What is the classification of the lesion?'), ('Is the lesion benign or malignant?', 'Is the lesion benign or malignant?', 'Is the lesion benign or malignant?', 'Is the lesion benign or malignant?', 'Is the lesion benign or malignant?'), ('Can you determine if the lesion is malignant?', 'Can you determine if the lesion is malignant?', 'Can you determine if the lesion is malignant?', 'Can you determine if the lesion is malignant?', 'Can you determine if the lesion is malignant?')]\n"
          ]
        },
        {
          "output_type": "display_data",
          "data": {
            "text/plain": [
              "<Figure size 640x480 with 1 Axes>"
            ],
            "image/png": "[encoded data removed]"
          },
          "metadata": {}
        },
        {
          "output_type": "stream",
          "name": "stdout",
          "text": [
            "1 [('How is the global pattern?', 'How is the global pattern?', 'How is the global pattern?', 'How is the global pattern?', 'How is the global pattern?'), ('Can you describe the overall pattern?', 'Can you describe the overall pattern?', 'Can you describe the overall pattern?', 'Can you describe the overall pattern?', 'Can you describe the overall pattern?'), ('Describe the pattern observed globally.', 'Describe the pattern observed globally.', 'Describe the pattern observed globally.', 'Describe the pattern observed globally.', 'Describe the pattern observed globally.'), ('What is the pattern like throughout the lesion?', 'What is the pattern like throughout the lesion?', 'What is the pattern like throughout the lesion?', 'What is the pattern like throughout the lesion?', 'What is the pattern like throughout the lesion?'), ('What patterns are present in the entire lesion?', 'What patterns are present in the entire lesion?', 'What patterns are present in the entire lesion?', 'What patterns are present in the entire lesion?', 'What patterns are present in the entire lesion?'), ('Can you identify any pigmented reticulum?', 'Can you identify any pigmented reticulum?', 'Can you identify any pigmented reticulum?', 'Can you identify any pigmented reticulum?', 'Can you identify any pigmented reticulum?'), ('Do you observe pigmented reticulum?', 'Do you observe pigmented reticulum?', 'Do you observe pigmented reticulum?', 'Do you observe pigmented reticulum?', 'Do you observe pigmented reticulum?'), ('Describe the presence of pigmented reticulum.', 'Describe the presence of pigmented reticulum.', 'Describe the presence of pigmented reticulum.', 'Describe the presence of pigmented reticulum.', 'Describe the presence of pigmented reticulum.'), ('Are there any signs of pigmented reticulum?', 'Are there any signs of pigmented reticulum?', 'Are there any signs of pigmented reticulum?', 'Are there any signs of pigmented reticulum?', 'Are there any signs of pigmented reticulum?'), ('What about pigmented reticulum in the lesion?', 'What about pigmented reticulum in the lesion?', 'What about pigmented reticulum in the lesion?', 'What about pigmented reticulum in the lesion?', 'What about pigmented reticulum in the lesion?'), ('Can you identify any negative reticulum?', 'Can you identify any negative reticulum?', 'Can you identify any negative reticulum?', 'Can you identify any negative reticulum?', 'Can you identify any negative reticulum?'), ('Do you observe negative reticulum?', 'Do you observe negative reticulum?', 'Do you observe negative reticulum?', 'Do you observe negative reticulum?', 'Do you observe negative reticulum?'), ('Describe the presence of negative reticulum.', 'Describe the presence of negative reticulum.', 'Describe the presence of negative reticulum.', 'Describe the presence of negative reticulum.', 'Describe the presence of negative reticulum.'), ('Are there any signs of negative reticulum?', 'Are there any signs of negative reticulum?', 'Are there any signs of negative reticulum?', 'Are there any signs of negative reticulum?', 'Are there any signs of negative reticulum?'), ('What about negative reticulum in the lesion?', 'What about negative reticulum in the lesion?', 'What about negative reticulum in the lesion?', 'What about negative reticulum in the lesion?', 'What about negative reticulum in the lesion?'), ('Can you identify any small dots/globules?', 'Can you identify any small dots/globules?', 'Can you identify any small dots/globules?', 'Can you identify any small dots/globules?', 'Can you identify any small dots/globules?'), ('Do you see any small dots/globules?', 'Do you see any small dots/globules?', 'Do you see any small dots/globules?', 'Do you see any small dots/globules?', 'Do you see any small dots/globules?'), ('Describe the presence of small dots/globules.', 'Describe the presence of small dots/globules.', 'Describe the presence of small dots/globules.', 'Describe the presence of small dots/globules.', 'Describe the presence of small dots/globules.'), ('Are there any signs of small dots/globules?', 'Are there any signs of small dots/globules?', 'Are there any signs of small dots/globules?', 'Are there any signs of small dots/globules?', 'Are there any signs of small dots/globules?'), ('What about small dots/globules in the lesion?', 'What about small dots/globules in the lesion?', 'What about small dots/globules in the lesion?', 'What about small dots/globules in the lesion?', 'What about small dots/globules in the lesion?'), ('Can you identify any large globules/cobblestone?', 'Can you identify any large globules/cobblestone?', 'Can you identify any large globules/cobblestone?', 'Can you identify any large globules/cobblestone?', 'Can you identify any large globules/cobblestone?'), ('Do you observe large globules/cobblestone?', 'Do you observe large globules/cobblestone?', 'Do you observe large globules/cobblestone?', 'Do you observe large globules/cobblestone?', 'Do you observe large globules/cobblestone?'), ('Describe the presence of large globules/cobblestone.', 'Describe the presence of large globules/cobblestone.', 'Describe the presence of large globules/cobblestone.', 'Describe the presence of large globules/cobblestone.', 'Describe the presence of large globules/cobblestone.'), ('Are there any signs of large globules/cobblestone?', 'Are there any signs of large globules/cobblestone?', 'Are there any signs of large globules/cobblestone?', 'Are there any signs of large globules/cobblestone?', 'Are there any signs of large globules/cobblestone?'), ('What about large globules/cobblestone in the lesion?', 'What about large globules/cobblestone in the lesion?', 'What about large globules/cobblestone in the lesion?', 'What about large globules/cobblestone in the lesion?', 'What about large globules/cobblestone in the lesion?'), ('Can you identify any peripheral globules?', 'Can you identify any peripheral globules?', 'Can you identify any peripheral globules?', 'Can you identify any peripheral globules?', 'Can you identify any peripheral globules?'), ('Do you observe peripheral globules?', 'Do you observe peripheral globules?', 'Do you observe peripheral globules?', 'Do you observe peripheral globules?', 'Do you observe peripheral globules?'), ('Describe the presence of peripheral globules.', 'Describe the presence of peripheral globules.', 'Describe the presence of peripheral globules.', 'Describe the presence of peripheral globules.', 'Describe the presence of peripheral globules.'), ('Are there any signs of peripheral globules?', 'Are there any signs of peripheral globules?', 'Are there any signs of peripheral globules?', 'Are there any signs of peripheral globules?', 'Are there any signs of peripheral globules?'), ('What about peripheral globules in the lesion?', 'What about peripheral globules in the lesion?', 'What about peripheral globules in the lesion?', 'What about peripheral globules in the lesion?', 'What about peripheral globules in the lesion?'), ('Can you identify any peripheral projections?', 'Can you identify any peripheral projections?', 'Can you identify any peripheral projections?', 'Can you identify any peripheral projections?', 'Can you identify any peripheral projections?'), ('Do you observe peripheral projections?', 'Do you observe peripheral projections?', 'Do you observe peripheral projections?', 'Do you observe peripheral projections?', 'Do you observe peripheral projections?'), ('Describe the presence of peripheral projections.', 'Describe the presence of peripheral projections.', 'Describe the presence of peripheral projections.', 'Describe the presence of peripheral projections.', 'Describe the presence of peripheral projections.'), ('Are there any signs of peripheral projections?', 'Are there any signs of peripheral projections?', 'Are there any signs of peripheral projections?', 'Are there any signs of peripheral projections?', 'Are there any signs of peripheral projections?'), ('What about peripheral projections in the lesion?', 'What about peripheral projections in the lesion?', 'What about peripheral projections in the lesion?', 'What about peripheral projections in the lesion?', 'What about peripheral projections in the lesion?'), ('Can you identify any homogeneous area without vessels?', 'Can you identify any homogeneous area without vessels?', 'Can you identify any homogeneous area without vessels?', 'Can you identify any homogeneous area without vessels?', 'Can you identify any homogeneous area without vessels?'), ('Do you observe homogeneous area without vessels?', 'Do you observe homogeneous area without vessels?', 'Do you observe homogeneous area without vessels?', 'Do you observe homogeneous area without vessels?', 'Do you observe homogeneous area without vessels?'), ('Describe the presence of homogeneous area without vessels.', 'Describe the presence of homogeneous area without vessels.', 'Describe the presence of homogeneous area without vessels.', 'Describe the presence of homogeneous area without vessels.', 'Describe the presence of homogeneous area without vessels.'), ('Are there any signs of homogeneous area without vessels?', 'Are there any signs of homogeneous area without vessels?', 'Are there any signs of homogeneous area without vessels?', 'Are there any signs of homogeneous area without vessels?', 'Are there any signs of homogeneous area without vessels?'), ('What about homogeneous area without vessels in the lesion?', 'What about homogeneous area without vessels in the lesion?', 'What about homogeneous area without vessels in the lesion?', 'What about homogeneous area without vessels in the lesion?', 'What about homogeneous area without vessels in the lesion?'), ('Can you identify any homogeneous area with vessels?', 'Can you identify any homogeneous area with vessels?', 'Can you identify any homogeneous area with vessels?', 'Can you identify any homogeneous area with vessels?', 'Can you identify any homogeneous area with vessels?'), ('Do you observe homogeneous area with vessels?', 'Do you observe homogeneous area with vessels?', 'Do you observe homogeneous area with vessels?', 'Do you observe homogeneous area with vessels?', 'Do you observe homogeneous area with vessels?'), ('Describe the presence of homogeneous area with vessels.', 'Describe the presence of homogeneous area with vessels.', 'Describe the presence of homogeneous area with vessels.', 'Describe the presence of homogeneous area with vessels.', 'Describe the presence of homogeneous area with vessels.'), ('Are there any signs of homogeneous area with vessels?', 'Are there any signs of homogeneous area with vessels?', 'Are there any signs of homogeneous area with vessels?', 'Are there any signs of homogeneous area with vessels?', 'Are there any signs of homogeneous area with vessels?'), ('What about homogeneous area with vessels in the lesion?', 'What about homogeneous area with vessels in the lesion?', 'What about homogeneous area with vessels in the lesion?', 'What about homogeneous area with vessels in the lesion?', 'What about homogeneous area with vessels in the lesion?'), ('Can you identify any undefined area?', 'Can you identify any undefined area?', 'Can you identify any undefined area?', 'Can you identify any undefined area?', 'Can you identify any undefined area?'), ('Do you observe undefined area?', 'Do you observe undefined area?', 'Do you observe undefined area?', 'Do you observe undefined area?', 'Do you observe undefined area?'), ('Describe the presence of undefined area.', 'Describe the presence of undefined area.', 'Describe the presence of undefined area.', 'Describe the presence of undefined area.', 'Describe the presence of undefined area.'), ('Are there any signs of undefined area?', 'Are there any signs of undefined area?', 'Are there any signs of undefined area?', 'Are there any signs of undefined area?', 'Are there any signs of undefined area?'), ('What about undefined area in the lesion?', 'What about undefined area in the lesion?', 'What about undefined area in the lesion?', 'What about undefined area in the lesion?', 'What about undefined area in the lesion?'), ('Can you identify any gray regression?', 'Can you identify any gray regression?', 'Can you identify any gray regression?', 'Can you identify any gray regression?', 'Can you identify any gray regression?'), ('Do you observe gray regression?', 'Do you observe gray regression?', 'Do you observe gray regression?', 'Do you observe gray regression?', 'Do you observe gray regression?'), ('Describe the presence of gray regression.', 'Describe the presence of gray regression.', 'Describe the presence of gray regression.', 'Describe the presence of gray regression.', 'Describe the presence of gray regression.'), ('Are there any signs of gray regression?', 'Are there any signs of gray regression?', 'Are there any signs of gray regression?', 'Are there any signs of gray regression?', 'Are there any signs of gray regression?'), ('What about gray regression in the lesion?', 'What about gray regression in the lesion?', 'What about gray regression in the lesion?', 'What about gray regression in the lesion?', 'What about gray regression in the lesion?'), ('Can you identify any white regression?', 'Can you identify any white regression?', 'Can you identify any white regression?', 'Can you identify any white regression?', 'Can you identify any white regression?'), ('Do you observe white regression?', 'Do you observe white regression?', 'Do you observe white regression?', 'Do you observe white regression?', 'Do you observe white regression?'), ('Describe the presence of white regression.', 'Describe the presence of white regression.', 'Describe the presence of white regression.', 'Describe the presence of white regression.', 'Describe the presence of white regression.'), ('Are there any signs of white regression?', 'Are there any signs of white regression?', 'Are there any signs of white regression?', 'Are there any signs of white regression?', 'Are there any signs of white regression?'), ('What about white regression in the lesion?', 'What about white regression in the lesion?', 'What about white regression in the lesion?', 'What about white regression in the lesion?', 'What about white regression in the lesion?'), ('Can you identify any whitish blue veil?', 'Can you identify any whitish blue veil?', 'Can you identify any whitish blue veil?', 'Can you identify any whitish blue veil?', 'Can you identify any whitish blue veil?'), ('Do you observe whitish blue veil?', 'Do you observe whitish blue veil?', 'Do you observe whitish blue veil?', 'Do you observe whitish blue veil?', 'Do you observe whitish blue veil?'), ('Describe the presence of whitish blue veil.', 'Describe the presence of whitish blue veil.', 'Describe the presence of whitish blue veil.', 'Describe the presence of whitish blue veil.', 'Describe the presence of whitish blue veil.'), ('Are there any signs of whitish blue veil?', 'Are there any signs of whitish blue veil?', 'Are there any signs of whitish blue veil?', 'Are there any signs of whitish blue veil?', 'Are there any signs of whitish blue veil?'), ('What about whitish blue veil in the lesion?', 'What about whitish blue veil in the lesion?', 'What about whitish blue veil in the lesion?', 'What about whitish blue veil in the lesion?', 'What about whitish blue veil in the lesion?'), ('Can you identify any chrysalis?', 'Can you identify any chrysalis?', 'Can you identify any chrysalis?', 'Can you identify any chrysalis?', 'Can you identify any chrysalis?'), ('Do you observe chrysalis?', 'Do you observe chrysalis?', 'Do you observe chrysalis?', 'Do you observe chrysalis?', 'Do you observe chrysalis?'), ('Describe the presence of chrysalis.', 'Describe the presence of chrysalis.', 'Describe the presence of chrysalis.', 'Describe the presence of chrysalis.', 'Describe the presence of chrysalis.'), ('Are there any signs of chrysalis?', 'Are there any signs of chrysalis?', 'Are there any signs of chrysalis?', 'Are there any signs of chrysalis?', 'Are there any signs of chrysalis?'), ('What about chrysalis in the lesion?', 'What about chrysalis in the lesion?', 'What about chrysalis in the lesion?', 'What about chrysalis in the lesion?', 'What about chrysalis in the lesion?'), ('Is the lesion malignant?', 'Is the lesion malignant?', 'Is the lesion malignant?', 'Is the lesion malignant?', 'Is the lesion malignant?'), ('Do you classify the lesion as malignant?', 'Do you classify the lesion as malignant?', 'Do you classify the lesion as malignant?', 'Do you classify the lesion as malignant?', 'Do you classify the lesion as malignant?'), ('What is the classification of the lesion?', 'What is the classification of the lesion?', 'What is the classification of the lesion?', 'What is the classification of the lesion?', 'What is the classification of the lesion?'), ('Is the lesion benign or malignant?', 'Is the lesion benign or malignant?', 'Is the lesion benign or malignant?', 'Is the lesion benign or malignant?', 'Is the lesion benign or malignant?'), ('Can you determine if the lesion is malignant?', 'Can you determine if the lesion is malignant?', 'Can you determine if the lesion is malignant?', 'Can you determine if the lesion is malignant?', 'Can you determine if the lesion is malignant?')]\n"
          ]
        },
        {
          "output_type": "display_data",
          "data": {
            "text/plain": [
              "<Figure size 640x480 with 1 Axes>"
            ],
            "image/png": "[encoded data removed]"
          },
          "metadata": {}
        }
      ],
      "source": [
        "# Iterate over the dataloader and visualize batches\n",
        "for i_batch, sample_batched in enumerate(train_isic_dataloader):\n",
        "    print(i_batch, sample_batched[2])\n",
        "    show_batch(sample_batched)\n",
        "\n",
        "    # Show only the data of the 3rd batch and stop.\n",
        "    if i_batch == 1:\n",
        "        break"
      ]
    },
    {
      "cell_type": "markdown",
      "metadata": {
        "id": "uZQYNuFsKI3k"
      },
      "source": [
        "## Image Feature Extraction"
      ]
    },
    {
      "cell_type": "code",
      "source": [
        "for images, masks, questions, answers in pizarro_dataloader:\n",
        "  print(images.size())\n",
        "  break"
      ],
      "metadata": {
        "id": "i-D2ipfKaOL9",
        "outputId": "ba4c3021-35c4-43c5-f1e4-74fe4f2fa929",
        "colab": {
          "base_uri": "https://localhost:8080/"
        }
      },
      "execution_count": 35,
      "outputs": [
        {
          "output_type": "stream",
          "name": "stdout",
          "text": [
            "torch.Size([5, 3, 224, 224])\n"
          ]
        }
      ]
    },
    {
      "cell_type": "code",
      "execution_count": 52,
      "metadata": {
        "id": "XL6ILzWtlPEV"
      },
      "outputs": [],
      "source": [
        "def extract_image_features(model, dataloader):\n",
        "    model.eval()  # Set the model to evaluation mode\n",
        "    num_samples = len(dataloader.dataset)\n",
        "\n",
        "    output_shape = (7,7,512) # Keep dimensionality of outputs (layer 4)\n",
        "\n",
        "    # Calculate the total number of features\n",
        "    num_features = np.prod(output_shape)\n",
        "\n",
        "    features = np.zeros((num_samples, *output_shape), dtype=np.float32)\n",
        "    sample_idx = 0\n",
        "\n",
        "    with torch.no_grad():\n",
        "        for sample in dataloader:\n",
        "            # Get images\n",
        "            inputs = sample[0].to(device).float()\n",
        "\n",
        "            # Forward pass\n",
        "            outputs = model(inputs)\n",
        "\n",
        "            # # Flatten the output tensor\n",
        "            # outputs_flat = outputs.view(outputs.size(0), -1)\n",
        "\n",
        "            outputs_reshaped = outputs.reshape(outputs.size(0), *output_shape)\n",
        "\n",
        "            # Store features\n",
        "            batch_size = inputs.size(0)\n",
        "            # features[sample_idx:sample_idx + batch_size, :] = outputs_flat.cpu().numpy()\n",
        "            features[sample_idx:sample_idx + batch_size, :] = outputs_reshaped.cpu().numpy()\n",
        "            sample_idx += batch_size\n",
        "\n",
        "    return torch.tensor(features, device=device)"
      ]
    },
    {
      "cell_type": "code",
      "execution_count": 37,
      "metadata": {
        "id": "F9gqOoAOdYQ_",
        "outputId": "4af7b118-d6c4-41e4-fca7-5834b7f2a678",
        "colab": {
          "base_uri": "https://localhost:8080/"
        }
      },
      "outputs": [
        {
          "output_type": "stream",
          "name": "stdout",
          "text": [
            "(7, 7, 512)\n"
          ]
        }
      ],
      "source": [
        "features_pizarro = extract_image_features(resnet, pizarro_dataloader)"
      ]
    },
    {
      "cell_type": "code",
      "execution_count": 38,
      "metadata": {
        "id": "Ey1rr3KGiNYm",
        "outputId": "538db574-0e70-46be-e1c9-876199230593",
        "colab": {
          "base_uri": "https://localhost:8080/"
        }
      },
      "outputs": [
        {
          "output_type": "execute_result",
          "data": {
            "text/plain": [
              "torch.Size([500, 7, 7, 512])"
            ]
          },
          "metadata": {},
          "execution_count": 38
        }
      ],
      "source": [
        "features_pizarro.size()"
      ]
    },
    {
      "cell_type": "code",
      "source": [
        "# Function to print GPU memory usage\n",
        "def print_gpu_memory():\n",
        "    print(f\"Memory allocated: {torch.cuda.memory_allocated() / 1024**2:.2f} MB\")\n",
        "    print(f\"Memory reserved: {torch.cuda.memory_reserved() / 1024**2:.2f} MB\")"
      ],
      "metadata": {
        "id": "6EeNiyfjCzIi"
      },
      "execution_count": 39,
      "outputs": []
    },
    {
      "cell_type": "markdown",
      "metadata": {
        "id": "w4HfihfzJ3a6"
      },
      "source": [
        "## VQA Model Creation"
      ]
    },
    {
      "cell_type": "code",
      "source": [
        "class VQAModel(nn.Module):\n",
        "    def __init__(self, resnet, vlm, tokenizer):\n",
        "        super(VQAModel, self).__init__()\n",
        "\n",
        "        # Pre-trained ResNet model\n",
        "        self.resnet = resnet\n",
        "        # Vision Language Model\n",
        "        self.vlm = vlm\n",
        "        # Tokenizer\n",
        "        self.tokenizer = tokenizer\n",
        "        # Freeze parameters of the ResNet model\n",
        "        for param in self.resnet.parameters():\n",
        "            param.requires_grad = False\n",
        "\n",
        "    def forward(self, image_features, question, labels_idxs=None, training=False):\n",
        "\n",
        "        # image_features -> array with visual features for the specific image\n",
        "        # question -> individual question within the image batch\n",
        "        # labels_idx -> tensor with shape (0, ..., num_labels-1)\n",
        "        # training; boolean to determine the mode (train/evaluation)\n",
        "\n",
        "        # Prepare image inputs\n",
        "        visual_seq_length = image_features.size(0) * image_features.size(1)\n",
        "        visual_token_type_ids = torch.ones((1, visual_seq_length), dtype=torch.long, device=device)\n",
        "        visual_attention_mask = torch.ones((1, visual_seq_length), dtype=torch.float, device=device)\n",
        "\n",
        "        # Tokenize question\n",
        "        tokenized_question = self.tokenizer(question,\n",
        "                                            return_token_type_ids=True,\n",
        "                                            return_attention_mask=True,\n",
        "                                            add_special_tokens=True,\n",
        "                                            return_tensors='pt')\n",
        "\n",
        "        # Input for the VLM model (refer to VisualBert to understand the shapes)\n",
        "        input_dict = {\n",
        "            \"visual_embeds\": image_features.unsqueeze(0),\n",
        "            \"visual_token_type_ids\": visual_token_type_ids,\n",
        "            \"visual_attention_mask\": visual_attention_mask,\n",
        "            \"input_ids\": tokenized_question['input_ids'].to(device),\n",
        "            \"token_type_ids\": tokenized_question['token_type_ids'].to(device),\n",
        "            \"attention_mask\": tokenized_question['attention_mask'].to(device),\n",
        "        }\n",
        "\n",
        "        # Training mode: track gradients\n",
        "        if training:\n",
        "\n",
        "            output = self.vlm(**input_dict, labels=labels_idxs)\n",
        "            logits = output.logits\n",
        "            loss = output.loss\n",
        "\n",
        "            del output\n",
        "\n",
        "        # Evaluation mode: no gradients\n",
        "        else:\n",
        "            with torch.no_grad():\n",
        "                output = self.vlm(**input_dict)\n",
        "                logits = output.logits\n",
        "\n",
        "        # # Check for memory usage\n",
        "        # print_gpu_memory()\n",
        "\n",
        "        return logits, loss"
      ],
      "metadata": {
        "id": "prExKkef7FWm"
      },
      "execution_count": 73,
      "outputs": []
    },
    {
      "cell_type": "markdown",
      "metadata": {
        "id": "Y-E0LJNJRyTG"
      },
      "source": [
        "### Define LLM & Tokenizer"
      ]
    },
    {
      "cell_type": "code",
      "execution_count": 69,
      "metadata": {
        "id": "mNvUgKd7R44i"
      },
      "outputs": [],
      "source": [
        "# Pre-trained base case for VQA provided in documentation\n",
        "# tokenizer = AutoTokenizer.from_pretrained(\"deepset/bert-base-cased-squad2\")\n",
        "# bertModel = BertForQuestionAnswering.from_pretrained(\"deepset/bert-base-cased-squad2\")\n",
        "tokenizer = AutoTokenizer.from_pretrained(\"google-bert/bert-base-uncased\")\n",
        "# Modify the visual embedding config so that size of the features matches\n",
        "configuration = VisualBertConfig.from_pretrained(\"uclanlp/visualbert-vqa\",\n",
        "                                                 visual_embedding_dim=512,\n",
        "                                                 num_labels=answers_ids_tensor.shape[0])\n",
        "visualBert = VisualBertForQuestionAnswering(configuration)"
      ]
    },
    {
      "cell_type": "markdown",
      "metadata": {
        "id": "uzfYKLV5RrVi"
      },
      "source": [
        "## Training Loop"
      ]
    },
    {
      "cell_type": "code",
      "execution_count": 74,
      "metadata": {
        "id": "npW_X4I3c8dI"
      },
      "outputs": [],
      "source": [
        "# Create the VQA Model and pass it to the GPU\n",
        "vqa_model = VQAModel(resnet, visualBert, tokenizer)"
      ]
    },
    {
      "cell_type": "code",
      "execution_count": 75,
      "metadata": {
        "id": "NVeBMAK4dQuQ",
        "outputId": "2306a5c8-6be6-4734-d63b-6c3bfa5375e3",
        "colab": {
          "base_uri": "https://localhost:8080/"
        }
      },
      "outputs": [
        {
          "output_type": "execute_result",
          "data": {
            "text/plain": [
              "VQAModel(\n",
              "  (resnet): ResNet(\n",
              "    (conv1): Conv2d(3, 64, kernel_size=(7, 7), stride=(2, 2), padding=(3, 3), bias=False)\n",
              "    (bn1): BatchNorm2d(64, eps=1e-05, momentum=0.1, affine=True, track_running_stats=True)\n",
              "    (relu): ReLU(inplace=True)\n",
              "    (maxpool): MaxPool2d(kernel_size=3, stride=2, padding=1, dilation=1, ceil_mode=False)\n",
              "    (layer1): Sequential(\n",
              "      (0): BasicBlock(\n",
              "        (conv1): Conv2d(64, 64, kernel_size=(3, 3), stride=(1, 1), padding=(1, 1), bias=False)\n",
              "        (bn1): BatchNorm2d(64, eps=1e-05, momentum=0.1, affine=True, track_running_stats=True)\n",
              "        (relu): ReLU(inplace=True)\n",
              "        (conv2): Conv2d(64, 64, kernel_size=(3, 3), stride=(1, 1), padding=(1, 1), bias=False)\n",
              "        (bn2): BatchNorm2d(64, eps=1e-05, momentum=0.1, affine=True, track_running_stats=True)\n",
              "      )\n",
              "      (1): BasicBlock(\n",
              "        (conv1): Conv2d(64, 64, kernel_size=(3, 3), stride=(1, 1), padding=(1, 1), bias=False)\n",
              "        (bn1): BatchNorm2d(64, eps=1e-05, momentum=0.1, affine=True, track_running_stats=True)\n",
              "        (relu): ReLU(inplace=True)\n",
              "        (conv2): Conv2d(64, 64, kernel_size=(3, 3), stride=(1, 1), padding=(1, 1), bias=False)\n",
              "        (bn2): BatchNorm2d(64, eps=1e-05, momentum=0.1, affine=True, track_running_stats=True)\n",
              "      )\n",
              "    )\n",
              "    (layer2): Sequential(\n",
              "      (0): BasicBlock(\n",
              "        (conv1): Conv2d(64, 128, kernel_size=(3, 3), stride=(2, 2), padding=(1, 1), bias=False)\n",
              "        (bn1): BatchNorm2d(128, eps=1e-05, momentum=0.1, affine=True, track_running_stats=True)\n",
              "        (relu): ReLU(inplace=True)\n",
              "        (conv2): Conv2d(128, 128, kernel_size=(3, 3), stride=(1, 1), padding=(1, 1), bias=False)\n",
              "        (bn2): BatchNorm2d(128, eps=1e-05, momentum=0.1, affine=True, track_running_stats=True)\n",
              "        (downsample): Sequential(\n",
              "          (0): Conv2d(64, 128, kernel_size=(1, 1), stride=(2, 2), bias=False)\n",
              "          (1): BatchNorm2d(128, eps=1e-05, momentum=0.1, affine=True, track_running_stats=True)\n",
              "        )\n",
              "      )\n",
              "      (1): BasicBlock(\n",
              "        (conv1): Conv2d(128, 128, kernel_size=(3, 3), stride=(1, 1), padding=(1, 1), bias=False)\n",
              "        (bn1): BatchNorm2d(128, eps=1e-05, momentum=0.1, affine=True, track_running_stats=True)\n",
              "        (relu): ReLU(inplace=True)\n",
              "        (conv2): Conv2d(128, 128, kernel_size=(3, 3), stride=(1, 1), padding=(1, 1), bias=False)\n",
              "        (bn2): BatchNorm2d(128, eps=1e-05, momentum=0.1, affine=True, track_running_stats=True)\n",
              "      )\n",
              "    )\n",
              "    (layer3): Sequential(\n",
              "      (0): BasicBlock(\n",
              "        (conv1): Conv2d(128, 256, kernel_size=(3, 3), stride=(2, 2), padding=(1, 1), bias=False)\n",
              "        (bn1): BatchNorm2d(256, eps=1e-05, momentum=0.1, affine=True, track_running_stats=True)\n",
              "        (relu): ReLU(inplace=True)\n",
              "        (conv2): Conv2d(256, 256, kernel_size=(3, 3), stride=(1, 1), padding=(1, 1), bias=False)\n",
              "        (bn2): BatchNorm2d(256, eps=1e-05, momentum=0.1, affine=True, track_running_stats=True)\n",
              "        (downsample): Sequential(\n",
              "          (0): Conv2d(128, 256, kernel_size=(1, 1), stride=(2, 2), bias=False)\n",
              "          (1): BatchNorm2d(256, eps=1e-05, momentum=0.1, affine=True, track_running_stats=True)\n",
              "        )\n",
              "      )\n",
              "      (1): BasicBlock(\n",
              "        (conv1): Conv2d(256, 256, kernel_size=(3, 3), stride=(1, 1), padding=(1, 1), bias=False)\n",
              "        (bn1): BatchNorm2d(256, eps=1e-05, momentum=0.1, affine=True, track_running_stats=True)\n",
              "        (relu): ReLU(inplace=True)\n",
              "        (conv2): Conv2d(256, 256, kernel_size=(3, 3), stride=(1, 1), padding=(1, 1), bias=False)\n",
              "        (bn2): BatchNorm2d(256, eps=1e-05, momentum=0.1, affine=True, track_running_stats=True)\n",
              "      )\n",
              "    )\n",
              "    (layer4): Sequential(\n",
              "      (0): BasicBlock(\n",
              "        (conv1): Conv2d(256, 512, kernel_size=(3, 3), stride=(2, 2), padding=(1, 1), bias=False)\n",
              "        (bn1): BatchNorm2d(512, eps=1e-05, momentum=0.1, affine=True, track_running_stats=True)\n",
              "        (relu): ReLU(inplace=True)\n",
              "        (conv2): Conv2d(512, 512, kernel_size=(3, 3), stride=(1, 1), padding=(1, 1), bias=False)\n",
              "        (bn2): BatchNorm2d(512, eps=1e-05, momentum=0.1, affine=True, track_running_stats=True)\n",
              "        (downsample): Sequential(\n",
              "          (0): Conv2d(256, 512, kernel_size=(1, 1), stride=(2, 2), bias=False)\n",
              "          (1): BatchNorm2d(512, eps=1e-05, momentum=0.1, affine=True, track_running_stats=True)\n",
              "        )\n",
              "      )\n",
              "      (1): BasicBlock(\n",
              "        (conv1): Conv2d(512, 512, kernel_size=(3, 3), stride=(1, 1), padding=(1, 1), bias=False)\n",
              "        (bn1): BatchNorm2d(512, eps=1e-05, momentum=0.1, affine=True, track_running_stats=True)\n",
              "        (relu): ReLU(inplace=True)\n",
              "        (conv2): Conv2d(512, 512, kernel_size=(3, 3), stride=(1, 1), padding=(1, 1), bias=False)\n",
              "        (bn2): BatchNorm2d(512, eps=1e-05, momentum=0.1, affine=True, track_running_stats=True)\n",
              "      )\n",
              "    )\n",
              "    (avgpool): Identity()\n",
              "    (fc): Identity()\n",
              "  )\n",
              "  (vlm): VisualBertForQuestionAnswering(\n",
              "    (visual_bert): VisualBertModel(\n",
              "      (embeddings): VisualBertEmbeddings(\n",
              "        (word_embeddings): Embedding(30522, 768, padding_idx=1)\n",
              "        (position_embeddings): Embedding(512, 768)\n",
              "        (token_type_embeddings): Embedding(2, 768)\n",
              "        (LayerNorm): LayerNorm((768,), eps=1e-12, elementwise_affine=True)\n",
              "        (dropout): Dropout(p=0.1, inplace=False)\n",
              "        (visual_token_type_embeddings): Embedding(2, 768)\n",
              "        (visual_position_embeddings): Embedding(512, 768)\n",
              "        (visual_projection): Linear(in_features=512, out_features=768, bias=True)\n",
              "      )\n",
              "      (encoder): VisualBertEncoder(\n",
              "        (layer): ModuleList(\n",
              "          (0-11): 12 x VisualBertLayer(\n",
              "            (attention): VisualBertAttention(\n",
              "              (self): VisualBertSelfAttention(\n",
              "                (query): Linear(in_features=768, out_features=768, bias=True)\n",
              "                (key): Linear(in_features=768, out_features=768, bias=True)\n",
              "                (value): Linear(in_features=768, out_features=768, bias=True)\n",
              "                (dropout): Dropout(p=0.1, inplace=False)\n",
              "              )\n",
              "              (output): VisualBertSelfOutput(\n",
              "                (dense): Linear(in_features=768, out_features=768, bias=True)\n",
              "                (LayerNorm): LayerNorm((768,), eps=1e-12, elementwise_affine=True)\n",
              "                (dropout): Dropout(p=0.1, inplace=False)\n",
              "              )\n",
              "            )\n",
              "            (intermediate): VisualBertIntermediate(\n",
              "              (dense): Linear(in_features=768, out_features=3072, bias=True)\n",
              "              (intermediate_act_fn): GELUActivation()\n",
              "            )\n",
              "            (output): VisualBertOutput(\n",
              "              (dense): Linear(in_features=3072, out_features=768, bias=True)\n",
              "              (LayerNorm): LayerNorm((768,), eps=1e-12, elementwise_affine=True)\n",
              "              (dropout): Dropout(p=0.1, inplace=False)\n",
              "            )\n",
              "          )\n",
              "        )\n",
              "      )\n",
              "      (pooler): VisualBertPooler(\n",
              "        (dense): Linear(in_features=768, out_features=768, bias=True)\n",
              "        (activation): Tanh()\n",
              "      )\n",
              "    )\n",
              "    (dropout): Dropout(p=0.1, inplace=False)\n",
              "    (cls): Linear(in_features=768, out_features=102, bias=True)\n",
              "  )\n",
              ")"
            ]
          },
          "metadata": {},
          "execution_count": 75
        }
      ],
      "source": [
        "device = torch.device(\"cuda\" if torch.cuda.is_available() else \"cpu\")\n",
        "vqa_model.to(device)"
      ]
    },
    {
      "cell_type": "code",
      "execution_count": 56,
      "metadata": {
        "id": "rBFSlcm-dQiS"
      },
      "outputs": [],
      "source": [
        "# Define hyperparameters\n",
        "learning_rate = 1e-4\n",
        "num_epochs = 4"
      ]
    },
    {
      "cell_type": "code",
      "execution_count": 57,
      "metadata": {
        "id": "xrFgqLKddlJk"
      },
      "outputs": [],
      "source": [
        "# Define optimizer\n",
        "optimizer = torch.optim.Adam(filter(lambda p: p.requires_grad, vqa_model.parameters()), lr=learning_rate)"
      ]
    },
    {
      "cell_type": "code",
      "source": [
        "# Extract all image features for the dataloader\n",
        "with torch.no_grad():\n",
        "    image_features = extract_image_features(vqa_model.resnet, pizarro_dataloader)"
      ],
      "metadata": {
        "id": "Gz8cJxSB9NYq"
      },
      "execution_count": 65,
      "outputs": []
    },
    {
      "cell_type": "code",
      "source": [
        "image_features.size()"
      ],
      "metadata": {
        "id": "Dq7tFNabFWxC",
        "outputId": "278de9ea-0f44-448c-f110-98d163a04ac9",
        "colab": {
          "base_uri": "https://localhost:8080/"
        }
      },
      "execution_count": 66,
      "outputs": [
        {
          "output_type": "execute_result",
          "data": {
            "text/plain": [
              "torch.Size([500, 7, 7, 512])"
            ]
          },
          "metadata": {},
          "execution_count": 66
        }
      ]
    },
    {
      "cell_type": "code",
      "source": [
        "# Set the model in training mode\n",
        "vqa_model.train()\n",
        "# Training loop\n",
        "for epoch in range(num_epochs):\n",
        "    total_loss = 0.0\n",
        "    num_batches = 0\n",
        "    text_results = []\n",
        "    for images, masks, questions, answers in tqdm(pizarro_dataloader, desc=f'Epoch {epoch+1}/{num_epochs}', unit='batch'):\n",
        "\n",
        "        # Track batch loss\n",
        "        batch_loss = 0.0\n",
        "\n",
        "        # Transpose questions and answers\n",
        "        questions = np.transpose(questions)\n",
        "        answers = np.transpose(answers)\n",
        "        # Store shape for iteration\n",
        "        num_images, num_questions_per_image = np.shape(questions)\n",
        "\n",
        "        # Iterate over all questions for each image\n",
        "        for image_idx in range(num_images):\n",
        "          for question_idx in range(num_questions_per_image):\n",
        "\n",
        "            # Avoid using previous gradients\n",
        "            optimizer.zero_grad()\n",
        "\n",
        "            print(image_features[image_idx].size(0))\n",
        "            #Forward pass\n",
        "            outputs, loss = vqa_model(image_features[image_idx], questions[image_idx,question_idx], answers_ids_tensor, training=True)\n",
        "\n",
        "            # Backpropagation\n",
        "            loss.backward()\n",
        "            optimizer.step()\n",
        "\n",
        "            batch_loss += loss.item() / (num_images * num_questions_per_image)\n",
        "\n",
        "            # Store the text predicted answers, the ground truth and corresponding question\n",
        "            probabilities = torch.softmax(outputs, dim=-1)\n",
        "            pred_idx = torch.argmax(probabilities, dim=-1)\n",
        "            pred_answer = id2label[pred_idx.item()]\n",
        "\n",
        "            text_results.append({\n",
        "                  \"Image ID\": image_idx,\n",
        "                  \"Question\": questions[image_idx,question_idx],\n",
        "                  \"Ground Truth\": answers[image_idx, question_idx],\n",
        "                  \"Prediction\": pred_answer\n",
        "                  })\n",
        "\n",
        "            # Remove unnecessary tensors from memory\n",
        "            del loss\n",
        "            del outputs\n",
        "\n",
        "        # Print batch loss\n",
        "        print(f\"Batch Loss: {batch_loss}\")\n",
        "\n",
        "        # Accumulate the total loss and num of batches\n",
        "        total_loss += batch_loss\n",
        "        num_batches += 1\n",
        "\n",
        "    # Aaverage training loss for the epoch\n",
        "    avg_loss = total_loss / num_batches\n",
        "    print(f\"Epoch {epoch + 1}, Average Loss: {avg_loss}\")\n",
        "\n",
        "    # Save trained model after each epoch\n",
        "    torch.save(vqa_model.state_dict(), f'trained_vqa_model_epoch{epoch+1}.pth')"
      ],
      "metadata": {
        "id": "HeOUYMA052Cs"
      },
      "execution_count": null,
      "outputs": []
    },
    {
      "cell_type": "code",
      "source": [
        "# predictions = []\n",
        "# for image_idx in range(len(outputs)):\n",
        "#   image_answers = []\n",
        "#   for output in outputs[image_idx]:\n",
        "#       logits = output.logits\n",
        "#       probabilities = torch.softmax(logits, dim=-1)  # Apply softmax along the last dimension\n",
        "#       pred_index = torch.argmax(probabilities, dim=-1)  # Get the index of the maximum probability\n",
        "#       pred_label = id2label[pred_index.item()]\n",
        "#       image_answers.append(pred_label)\n",
        "#   predictions.append(image_answers)\n",
        "# predictions"
      ],
      "metadata": {
        "id": "yT4abmfGZWT2"
      },
      "execution_count": null,
      "outputs": []
    },
    {
      "cell_type": "code",
      "source": [
        "# for param in vqa_model.parameters():\n",
        "#       print(param.grad)"
      ],
      "metadata": {
        "id": "n7HOlCbka4uD"
      },
      "execution_count": null,
      "outputs": []
    }
  ],
  "metadata": {
    "accelerator": "GPU",
    "colab": {
      "gpuType": "T4",
      "provenance": [],
      "include_colab_link": true
    },
    "kernelspec": {
      "display_name": "Python 3",
      "name": "python3"
    },
    "language_info": {
      "name": "python"
    }
  },
  "nbformat": 4,
  "nbformat_minor": 0
}