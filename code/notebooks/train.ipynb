{
  "cells": [
    {
      "cell_type": "markdown",
      "metadata": {
        "id": "view-in-github",
        "colab_type": "text"
      },
      "source": [
        "<a href=\"https://colab.research.google.com/github/juan-villa02/medical_vqa_vlm/blob/main/code/notebooks/train.ipynb\" target=\"_parent\"><img src=\"https://colab.research.google.com/assets/colab-badge.svg\" alt=\"Open In Colab\"/></a>"
      ]
    },
    {
      "cell_type": "markdown",
      "metadata": {
        "id": "9gIbSRmC_Q8o"
      },
      "source": [
        "# VQA Model - BERT + ResNet18"
      ]
    },
    {
      "cell_type": "markdown",
      "metadata": {
        "id": "nnubYJEE_g7f"
      },
      "source": [
        "## Libraries/Dependencies"
      ]
    },
    {
      "cell_type": "code",
      "execution_count": 1,
      "metadata": {
        "id": "JOxuYqd1_aMO"
      },
      "outputs": [],
      "source": [
        "# PyTorch framework\n",
        "import torch\n",
        "import torch.nn as nn\n",
        "import torch.nn.functional as F\n",
        "from torch.nn.utils.rnn import pad_sequence\n",
        "from torch.utils.data import DataLoader, Dataset\n",
        "import torchvision.transforms as transforms\n",
        "import torchvision.models as models\n",
        "import torchvision.utils as utils\n",
        "# Image and mask handling\n",
        "from PIL import Image\n",
        "from skimage import transform\n",
        "import scipy.io as sio\n",
        "# Transformers (Hugginface)\n",
        "from transformers import AutoTokenizer, BertForQuestionAnswering, VisualBertModel, VisualBertForQuestionAnswering, VisualBertConfig\n",
        "# Matplotlib\n",
        "import matplotlib.pyplot as plt\n",
        "# Numpy\n",
        "import numpy as np\n",
        "# Extra dependencies\n",
        "import json\n",
        "import os\n",
        "from tqdm import tqdm\n",
        "import zipfile"
      ]
    },
    {
      "cell_type": "code",
      "execution_count": 2,
      "metadata": {
        "id": "d29Ogg0EBJgx",
        "outputId": "322e11b9-2555-4095-d634-c64cf664ed65",
        "colab": {
          "base_uri": "https://localhost:8080/"
        }
      },
      "outputs": [
        {
          "output_type": "stream",
          "name": "stdout",
          "text": [
            "cuda:0\n"
          ]
        }
      ],
      "source": [
        "# Set training device to GPU if available\n",
        "device = torch.device(\"cuda:0\" if torch.cuda.is_available() else \"cpu\")\n",
        "print(device)"
      ]
    },
    {
      "cell_type": "markdown",
      "metadata": {
        "id": "-5MQ2XccBctw"
      },
      "source": [
        "## Paths & Data Extraction"
      ]
    },
    {
      "cell_type": "code",
      "execution_count": 3,
      "metadata": {
        "id": "4bhmZStTCxv4",
        "outputId": "ff7fb4fc-12cf-4617-c72e-1ca155638951",
        "colab": {
          "base_uri": "https://localhost:8080/"
        }
      },
      "outputs": [
        {
          "output_type": "stream",
          "name": "stdout",
          "text": [
            "Mounted at /content/drive\n"
          ]
        }
      ],
      "source": [
        "from google.colab import drive\n",
        "drive.mount('/content/drive')"
      ]
    },
    {
      "cell_type": "code",
      "execution_count": 4,
      "metadata": {
        "id": "Lhz88OSQBaIZ"
      },
      "outputs": [],
      "source": [
        "path_dir = '.'\n",
        "path_dir = '/content/drive/MyDrive/TFG Juan Villanueva/databases_qa.zip'"
      ]
    },
    {
      "cell_type": "code",
      "execution_count": 5,
      "metadata": {
        "id": "MB-bgRNCoPqN"
      },
      "outputs": [],
      "source": [
        "# Data folder\n",
        "data_folder = './data/'"
      ]
    },
    {
      "cell_type": "code",
      "execution_count": 6,
      "metadata": {
        "id": "-Nuib-S0pXlU"
      },
      "outputs": [],
      "source": [
        "# ISIC_2016 database\n",
        "train_ISIC_path = 'databases_qa/ISIC_2016'"
      ]
    },
    {
      "cell_type": "code",
      "source": [
        "# def filter_json(json_file, images_dir, output_file):\n",
        "#    filtered_data = []\n",
        "\n",
        "#    with open(json_file, 'r') as f:\n",
        "#        data = json.load(f)\n",
        "\n",
        "#        for item in data:\n",
        "#            image_id = item['image_id'] + '.jpg'\n",
        "#            image_path = os.path.join(images_dir, image_id)\n",
        "\n",
        "#            # Check if the image file exists\n",
        "#            if os.path.exists(image_path):\n",
        "#                filtered_data.append(item)\n",
        "\n",
        "#    # Write the filtered data to the output JSON file\n",
        "#    with open(output_file, 'w') as f:\n",
        "#        json.dump(filtered_data, f, indent=4)\n",
        "\n",
        "#    return"
      ],
      "metadata": {
        "id": "OdoT841ba95x"
      },
      "execution_count": 7,
      "outputs": []
    },
    {
      "cell_type": "code",
      "source": [
        "# json_file = '/content/data/databases_qa/ISIC_2016/qa_ISIC.json'\n",
        "# images_dir = '/content/data/databases_qa/ISIC_2016/images/ISBI2016_ISIC_Part1_Test_Data_orig'\n",
        "# output_file = 'qa_filtered_ISIC.json'\n",
        "# filter_json(json_file, images_dir, output_file)"
      ],
      "metadata": {
        "id": "shV8YZa3bA5u"
      },
      "execution_count": 8,
      "outputs": []
    },
    {
      "cell_type": "code",
      "source": [
        "# ISIC_2016 database (images and masks)\n",
        "train_extra_ISIC_path = 'ISBI2016_ISIC_Part3_Training_Data_orig'"
      ],
      "metadata": {
        "id": "ZHU5hHJY-pDw"
      },
      "execution_count": 9,
      "outputs": []
    },
    {
      "cell_type": "code",
      "execution_count": 10,
      "metadata": {
        "id": "gMjnxi-_p38f"
      },
      "outputs": [],
      "source": [
        "# Pizarro database (images)\n",
        "pizarro_path = 'databases_qa/pizarro'"
      ]
    },
    {
      "cell_type": "code",
      "execution_count": 11,
      "metadata": {
        "id": "vcY75F9to4XA"
      },
      "outputs": [],
      "source": [
        "# Function to extract databases from the main zip file\n",
        "def extract_databases(zip_path, extract_path):\n",
        "    with zipfile.ZipFile(zip_path, 'r') as zip_ref:\n",
        "        zip_ref.extractall(extract_path)"
      ]
    },
    {
      "cell_type": "code",
      "execution_count": 12,
      "metadata": {
        "id": "XecsY9GIlCDx"
      },
      "outputs": [],
      "source": [
        "# Extract all databases from the main zip file\n",
        "if path_dir != '.':\n",
        "  extract_databases(path_dir, data_folder)"
      ]
    },
    {
      "cell_type": "code",
      "execution_count": 13,
      "metadata": {
        "id": "IenAqE-1rKgD"
      },
      "outputs": [],
      "source": [
        "# ISIC_2016 images\n",
        "database1_path = os.path.join(data_folder, train_ISIC_path)"
      ]
    },
    {
      "cell_type": "code",
      "execution_count": 14,
      "metadata": {
        "id": "Bfi5boA0s727"
      },
      "outputs": [],
      "source": [
        "# Pizarro images\n",
        "# 500 imágenes; Las 46 primeras son más complejas, en cuanto a diagnóstico. (Entrega 1) El resto están más equilibradas (Entrega 2-5)\n",
        "database2_path = os.path.join(data_folder, pizarro_path)"
      ]
    },
    {
      "cell_type": "markdown",
      "metadata": {
        "id": "SedFsMzrAegB"
      },
      "source": [
        "## VQA Dataset - Images, Masks, & QA"
      ]
    },
    {
      "cell_type": "code",
      "execution_count": 15,
      "metadata": {
        "id": "_AUIrbp_w4CS"
      },
      "outputs": [],
      "source": [
        "# Dataset class to load images and questions\n",
        "class VQADataset(Dataset):\n",
        "    def __init__(self, data_dir, json_file, tokenizer=None, transform=None, extraPath=None):\n",
        "        self.data_dir = data_dir\n",
        "        self.images_dir = os.path.join(self.data_dir, 'images')\n",
        "        self.masks_dir = os.path.join(self.data_dir, 'masks')\n",
        "\n",
        "        # Handle special ISIC data folder\n",
        "        self.extraPath = extraPath\n",
        "        if self.extraPath is not None:\n",
        "            self.images_dir = os.path.join(self.images_dir, self.extraPath)\n",
        "            self.masks_dir = os.path.join(self.masks_dir, self.extraPath)\n",
        "\n",
        "        self.transform = transform\n",
        "        self.tokenizer = tokenizer\n",
        "\n",
        "        with open(json_file, 'r') as f:\n",
        "            self.data = json.load(f)\n",
        "\n",
        "    def __len__(self):\n",
        "        return len(self.data)\n",
        "\n",
        "    def __getitem__(self, idx):\n",
        "\n",
        "        item = self.data[idx]\n",
        "        image_path = os.path.join(self.images_dir, item['image_id'])\n",
        "\n",
        "        # Ensure the image ID ends with \".jpg\"\n",
        "        if not image_path.endswith(\".jpg\"):\n",
        "            image_path += \".jpg\"\n",
        "\n",
        "        # Check if the image is available\n",
        "        try:\n",
        "          image = Image.open(image_path).convert('RGB')\n",
        "\n",
        "          # Case 1: Pizarro dataset\n",
        "          if self.extraPath is None:\n",
        "            mask_id = item['image_id'].split('.')[0]\n",
        "            mask_name = 'L' + mask_id + '.pgm'\n",
        "            mask_path = os.path.join(self.masks_dir, mask_name)\n",
        "            mask = Image.open(mask_path)\n",
        "\n",
        "          # Case 2: ISIC dataset\n",
        "          else:\n",
        "            mask_path = os.path.join(self.masks_dir, item['image_id']) + '_Segmentation.png'\n",
        "            mask = Image.open(mask_path)\n",
        "\n",
        "          if self.transform:\n",
        "              image, mask = self.transform((image, mask))\n",
        "\n",
        "          # Store questions and answers in two different arrays\n",
        "          qa_pairs = item['qa_pairs']\n",
        "          questions = [qa['question'] for qa in qa_pairs]\n",
        "          answers = [qa['answer'] for qa in qa_pairs]\n",
        "\n",
        "        except FileNotFoundError as e:\n",
        "\n",
        "          image = None\n",
        "          mask = None\n",
        "          questions = None\n",
        "          answers = None\n",
        "\n",
        "        return image, mask, questions, answers"
      ]
    },
    {
      "cell_type": "markdown",
      "metadata": {
        "id": "---H6oXn4860"
      },
      "source": [
        "## Load pre-trained ResNet18"
      ]
    },
    {
      "cell_type": "code",
      "execution_count": 16,
      "metadata": {
        "id": "cXzT4ZfT5BTU"
      },
      "outputs": [],
      "source": [
        "# Load ResNet-18 model from .pth file\n",
        "def load_resnet(path, optimizer=None, scheduler=None):\n",
        "    resnet = models.resnet18()\n",
        "    # Remove final fully connected layer and avg pooling (we do not want the model to return labels but features with dimension)\n",
        "    resnet.fc = nn.Identity()\n",
        "    resnet.avgpool = nn.Identity()\n",
        "\n",
        "    # Load the weights\n",
        "    state_dict = torch.load(path, map_location=device)['state_dict']\n",
        "\n",
        "    # Remove unexpected keys if they exist\n",
        "    unexpected_keys = ['fc.weight', 'fc.bias']\n",
        "    for key in unexpected_keys:\n",
        "        if key in state_dict:\n",
        "            del state_dict[key]\n",
        "\n",
        "    # Load the weights\n",
        "    resnet.load_state_dict(state_dict)\n",
        "    resnet.eval()\n",
        "\n",
        "    if optimizer is not None:\n",
        "        optimizer.load_state_dict(torch.load(path)['optimizer'])\n",
        "    if scheduler is not None:\n",
        "        scheduler.load_state_dict(torch.load(path)['scheduler'])\n",
        "\n",
        "    resnet.to(device)\n",
        "\n",
        "    return resnet, optimizer, scheduler"
      ]
    },
    {
      "cell_type": "code",
      "execution_count": 17,
      "metadata": {
        "id": "5rGRJcyj5LKz"
      },
      "outputs": [],
      "source": [
        "model_source_path = '/content/drive/MyDrive/TFG Juan Villanueva/codigo diagnostico/bestdiagNet.pth'"
      ]
    },
    {
      "cell_type": "code",
      "execution_count": 18,
      "metadata": {
        "id": "hm9XDY285UOB"
      },
      "outputs": [],
      "source": [
        "resnet, optimizer, scheduler = load_resnet(model_source_path)"
      ]
    },
    {
      "cell_type": "code",
      "execution_count": 19,
      "metadata": {
        "id": "yCtvmxrn9m2u",
        "outputId": "7022a86b-729b-4770-b271-a7ccbc3b0fa9",
        "colab": {
          "base_uri": "https://localhost:8080/"
        }
      },
      "outputs": [
        {
          "output_type": "execute_result",
          "data": {
            "text/plain": [
              "ResNet(\n",
              "  (conv1): Conv2d(3, 64, kernel_size=(7, 7), stride=(2, 2), padding=(3, 3), bias=False)\n",
              "  (bn1): BatchNorm2d(64, eps=1e-05, momentum=0.1, affine=True, track_running_stats=True)\n",
              "  (relu): ReLU(inplace=True)\n",
              "  (maxpool): MaxPool2d(kernel_size=3, stride=2, padding=1, dilation=1, ceil_mode=False)\n",
              "  (layer1): Sequential(\n",
              "    (0): BasicBlock(\n",
              "      (conv1): Conv2d(64, 64, kernel_size=(3, 3), stride=(1, 1), padding=(1, 1), bias=False)\n",
              "      (bn1): BatchNorm2d(64, eps=1e-05, momentum=0.1, affine=True, track_running_stats=True)\n",
              "      (relu): ReLU(inplace=True)\n",
              "      (conv2): Conv2d(64, 64, kernel_size=(3, 3), stride=(1, 1), padding=(1, 1), bias=False)\n",
              "      (bn2): BatchNorm2d(64, eps=1e-05, momentum=0.1, affine=True, track_running_stats=True)\n",
              "    )\n",
              "    (1): BasicBlock(\n",
              "      (conv1): Conv2d(64, 64, kernel_size=(3, 3), stride=(1, 1), padding=(1, 1), bias=False)\n",
              "      (bn1): BatchNorm2d(64, eps=1e-05, momentum=0.1, affine=True, track_running_stats=True)\n",
              "      (relu): ReLU(inplace=True)\n",
              "      (conv2): Conv2d(64, 64, kernel_size=(3, 3), stride=(1, 1), padding=(1, 1), bias=False)\n",
              "      (bn2): BatchNorm2d(64, eps=1e-05, momentum=0.1, affine=True, track_running_stats=True)\n",
              "    )\n",
              "  )\n",
              "  (layer2): Sequential(\n",
              "    (0): BasicBlock(\n",
              "      (conv1): Conv2d(64, 128, kernel_size=(3, 3), stride=(2, 2), padding=(1, 1), bias=False)\n",
              "      (bn1): BatchNorm2d(128, eps=1e-05, momentum=0.1, affine=True, track_running_stats=True)\n",
              "      (relu): ReLU(inplace=True)\n",
              "      (conv2): Conv2d(128, 128, kernel_size=(3, 3), stride=(1, 1), padding=(1, 1), bias=False)\n",
              "      (bn2): BatchNorm2d(128, eps=1e-05, momentum=0.1, affine=True, track_running_stats=True)\n",
              "      (downsample): Sequential(\n",
              "        (0): Conv2d(64, 128, kernel_size=(1, 1), stride=(2, 2), bias=False)\n",
              "        (1): BatchNorm2d(128, eps=1e-05, momentum=0.1, affine=True, track_running_stats=True)\n",
              "      )\n",
              "    )\n",
              "    (1): BasicBlock(\n",
              "      (conv1): Conv2d(128, 128, kernel_size=(3, 3), stride=(1, 1), padding=(1, 1), bias=False)\n",
              "      (bn1): BatchNorm2d(128, eps=1e-05, momentum=0.1, affine=True, track_running_stats=True)\n",
              "      (relu): ReLU(inplace=True)\n",
              "      (conv2): Conv2d(128, 128, kernel_size=(3, 3), stride=(1, 1), padding=(1, 1), bias=False)\n",
              "      (bn2): BatchNorm2d(128, eps=1e-05, momentum=0.1, affine=True, track_running_stats=True)\n",
              "    )\n",
              "  )\n",
              "  (layer3): Sequential(\n",
              "    (0): BasicBlock(\n",
              "      (conv1): Conv2d(128, 256, kernel_size=(3, 3), stride=(2, 2), padding=(1, 1), bias=False)\n",
              "      (bn1): BatchNorm2d(256, eps=1e-05, momentum=0.1, affine=True, track_running_stats=True)\n",
              "      (relu): ReLU(inplace=True)\n",
              "      (conv2): Conv2d(256, 256, kernel_size=(3, 3), stride=(1, 1), padding=(1, 1), bias=False)\n",
              "      (bn2): BatchNorm2d(256, eps=1e-05, momentum=0.1, affine=True, track_running_stats=True)\n",
              "      (downsample): Sequential(\n",
              "        (0): Conv2d(128, 256, kernel_size=(1, 1), stride=(2, 2), bias=False)\n",
              "        (1): BatchNorm2d(256, eps=1e-05, momentum=0.1, affine=True, track_running_stats=True)\n",
              "      )\n",
              "    )\n",
              "    (1): BasicBlock(\n",
              "      (conv1): Conv2d(256, 256, kernel_size=(3, 3), stride=(1, 1), padding=(1, 1), bias=False)\n",
              "      (bn1): BatchNorm2d(256, eps=1e-05, momentum=0.1, affine=True, track_running_stats=True)\n",
              "      (relu): ReLU(inplace=True)\n",
              "      (conv2): Conv2d(256, 256, kernel_size=(3, 3), stride=(1, 1), padding=(1, 1), bias=False)\n",
              "      (bn2): BatchNorm2d(256, eps=1e-05, momentum=0.1, affine=True, track_running_stats=True)\n",
              "    )\n",
              "  )\n",
              "  (layer4): Sequential(\n",
              "    (0): BasicBlock(\n",
              "      (conv1): Conv2d(256, 512, kernel_size=(3, 3), stride=(2, 2), padding=(1, 1), bias=False)\n",
              "      (bn1): BatchNorm2d(512, eps=1e-05, momentum=0.1, affine=True, track_running_stats=True)\n",
              "      (relu): ReLU(inplace=True)\n",
              "      (conv2): Conv2d(512, 512, kernel_size=(3, 3), stride=(1, 1), padding=(1, 1), bias=False)\n",
              "      (bn2): BatchNorm2d(512, eps=1e-05, momentum=0.1, affine=True, track_running_stats=True)\n",
              "      (downsample): Sequential(\n",
              "        (0): Conv2d(256, 512, kernel_size=(1, 1), stride=(2, 2), bias=False)\n",
              "        (1): BatchNorm2d(512, eps=1e-05, momentum=0.1, affine=True, track_running_stats=True)\n",
              "      )\n",
              "    )\n",
              "    (1): BasicBlock(\n",
              "      (conv1): Conv2d(512, 512, kernel_size=(3, 3), stride=(1, 1), padding=(1, 1), bias=False)\n",
              "      (bn1): BatchNorm2d(512, eps=1e-05, momentum=0.1, affine=True, track_running_stats=True)\n",
              "      (relu): ReLU(inplace=True)\n",
              "      (conv2): Conv2d(512, 512, kernel_size=(3, 3), stride=(1, 1), padding=(1, 1), bias=False)\n",
              "      (bn2): BatchNorm2d(512, eps=1e-05, momentum=0.1, affine=True, track_running_stats=True)\n",
              "    )\n",
              "  )\n",
              "  (avgpool): Identity()\n",
              "  (fc): Identity()\n",
              ")"
            ]
          },
          "metadata": {},
          "execution_count": 19
        }
      ],
      "source": [
        "resnet"
      ]
    },
    {
      "cell_type": "markdown",
      "metadata": {
        "id": "esJtbykJp-f4"
      },
      "source": [
        "## Image Transformations"
      ]
    },
    {
      "cell_type": "code",
      "source": [
        "class CropByMask(object):\n",
        "    \"\"\"Recortamos la imagen usando la máscara de la lesión.\n",
        "\n",
        "    Args:\n",
        "        border (tupla o int): El borde de recorte alrededor de la máscara. Es sabido que el análisis del borde\n",
        "        de la lesión con la piel circudante es importante para los dermatólogos, por lo que puede ser interesante\n",
        "        dejar una guarda.\n",
        "        Si es una tupla, entonces es (bordery,borderx)\n",
        "    \"\"\"\n",
        "\n",
        "    def __init__(self, border):\n",
        "        assert isinstance(border, (int, tuple))\n",
        "        if isinstance(border, int):\n",
        "            self.border = (border,border)\n",
        "        else:\n",
        "            self.border = border\n",
        "\n",
        "    def __call__(self, sample):\n",
        "\n",
        "        image, mask = np.array(sample[0]), np.array(sample[1])\n",
        "\n",
        "        h, w = image.shape[:2]\n",
        "        #Calculamos los índices del bounding box para hacer el cropping\n",
        "        sidx=np.nonzero(mask)\n",
        "        minx=np.maximum(sidx[1].min()-self.border[1],0)\n",
        "        maxx=np.minimum(sidx[1].max()+1+self.border[1],w)\n",
        "        miny=np.maximum(sidx[0].min()-self.border[0],0)\n",
        "        maxy=np.minimum(sidx[0].max()+1+self.border[1],h)\n",
        "        #Recortamos la imagen\n",
        "        image=image[miny:maxy,minx:maxx,...]\n",
        "        mask=mask[miny:maxy,minx:maxx]\n",
        "\n",
        "        return image, mask"
      ],
      "metadata": {
        "id": "h70nisvTKXU3"
      },
      "execution_count": 20,
      "outputs": []
    },
    {
      "cell_type": "code",
      "source": [
        "class Rescale(object):\n",
        "    \"\"\"Rescales the image to a desired size.\n",
        "\n",
        "    Args:\n",
        "        output_size (tuple or int): Desired output size. If tuple, output is the output_size.\n",
        "            If int, the smaller of the image edges is matched to output_size keeping aspect ratio the same.\n",
        "    \"\"\"\n",
        "\n",
        "    def __init__(self, output_size):\n",
        "        assert isinstance(output_size, (int, tuple))\n",
        "        self.output_size = output_size\n",
        "\n",
        "    def __call__(self, sample):\n",
        "\n",
        "        image_np, mask_np = sample[0], sample[1]\n",
        "\n",
        "        # Get the height and width of the image\n",
        "        h, w = image_np.shape[:2]\n",
        "\n",
        "        if isinstance(self.output_size, int):\n",
        "            if h > w:\n",
        "                new_h, new_w = self.output_size * h / w, self.output_size\n",
        "            else:\n",
        "                new_h, new_w = self.output_size, self.output_size * w / h\n",
        "        else:\n",
        "            new_h, new_w = self.output_size\n",
        "\n",
        "        new_h, new_w = int(new_h), int(new_w)\n",
        "\n",
        "        # Resize the image using scikit-image's resize function\n",
        "        resized_image = transform.resize(image_np, (new_h, new_w))\n",
        "        resized_mask = transform.resize(mask_np, (new_h, new_w))\n",
        "\n",
        "        # Convert the resized NumPy array back to a PIL image\n",
        "        resized_image_pil = Image.fromarray((resized_image * 255).astype(np.uint8))\n",
        "        resized_mask_pil = Image.fromarray((resized_mask * 255).astype(np.uint8))\n",
        "\n",
        "        #return resized_image_pil, resized_mask_pil\n",
        "        return resized_image, resized_mask"
      ],
      "metadata": {
        "id": "IaT2mBMRKbkN"
      },
      "execution_count": 21,
      "outputs": []
    },
    {
      "cell_type": "code",
      "source": [
        "class CenterCrop(object):\n",
        "    \"\"\"Crop the central area of the image\n",
        "\n",
        "    Args:\n",
        "        output_size (tupla or int): Crop size. If int, square crop\n",
        "\n",
        "    \"\"\"\n",
        "\n",
        "    def __init__(self, output_size):\n",
        "        assert isinstance(output_size, (int, tuple))\n",
        "        if isinstance(output_size, int):\n",
        "            self.output_size = (output_size, output_size)\n",
        "        else:\n",
        "            assert len(output_size) == 2\n",
        "            self.output_size = output_size\n",
        "\n",
        "    def __call__(self, sample):\n",
        "\n",
        "        image, mask = sample[0], sample[1]\n",
        "\n",
        "        h, w = image.shape[:2]\n",
        "        new_h, new_w = self.output_size\n",
        "        rem_h = h - new_h\n",
        "        rem_w = w - new_w\n",
        "\n",
        "        if h>new_h:\n",
        "            top = int(rem_h/2)\n",
        "        else:\n",
        "            top=0\n",
        "\n",
        "        if w>new_w:\n",
        "            left = int(rem_w/2)\n",
        "        else:\n",
        "            left = 0\n",
        "\n",
        "        image = image[top: top + new_h,\n",
        "                     left: left + new_w]\n",
        "\n",
        "        mask = mask[top: top + new_h,\n",
        "                      left: left + new_w]\n",
        "\n",
        "\n",
        "        return image, mask"
      ],
      "metadata": {
        "id": "ruyaJGNsKgLX"
      },
      "execution_count": 22,
      "outputs": []
    },
    {
      "cell_type": "code",
      "execution_count": 23,
      "metadata": {
        "id": "Km6vWZvXqqBh"
      },
      "outputs": [],
      "source": [
        "class ToTensor(object):\n",
        "    \"\"\"Converts the image ndarray to a tensor.\"\"\"\n",
        "\n",
        "    def __call__(self, sample):\n",
        "\n",
        "        image, mask = sample[0], sample[1]\n",
        "        # Change the axes\n",
        "        # numpy image: H x W x C\n",
        "        # torch image: C x H x W\n",
        "        # image = np.array(image)\n",
        "        image = image.transpose((2, 0, 1))\n",
        "        image = torch.from_numpy(image)\n",
        "\n",
        "        mask = torch.from_numpy(mask)\n",
        "        mask = mask.unsqueeze(0)\n",
        "\n",
        "        return image, mask\n"
      ]
    },
    {
      "cell_type": "code",
      "execution_count": 24,
      "metadata": {
        "id": "KbPIvTG8p9rw"
      },
      "outputs": [],
      "source": [
        "class Normalize(object):\n",
        "    \"\"\"Normalizes the image by subtracting the mean and dividing by the standard deviations.\n",
        "\n",
        "    Args:\n",
        "        mean: The vector containing the means.\n",
        "        std: The vector containing the standard deviations.\n",
        "    \"\"\"\n",
        "\n",
        "    def __init__(self, mean, std):\n",
        "        assert len(mean) == len(std), 'Length of mean and std vectors is not the same'\n",
        "        self.mean = np.array(mean)\n",
        "        self.std = np.array(std)\n",
        "\n",
        "    def __call__(self, sample):\n",
        "\n",
        "        image, mask = sample[0], sample[1]\n",
        "\n",
        "        # c, h, w = image.shape\n",
        "        # assert c==len(self.mean), 'Length of mean and image is not the same'\n",
        "\n",
        "        dtype = image.dtype\n",
        "        mean = torch.as_tensor(self.mean, dtype=dtype, device=image.device)\n",
        "        std = torch.as_tensor(self.std, dtype=dtype, device=image.device)\n",
        "        # Normalize the image\n",
        "        # image = (image - mean[:, None, None]) / std[:, None, None]\n",
        "        image.sub_(mean[:, None, None]).div_(std[:, None, None])\n",
        "\n",
        "        return image, mask"
      ]
    },
    {
      "cell_type": "code",
      "execution_count": 25,
      "metadata": {
        "id": "Lnu68fiWr7Hd"
      },
      "outputs": [],
      "source": [
        "# Train ISIC Dataset------------------------------------------------------------\n",
        "train_dataset_isic = VQADataset(data_dir=database1_path,\n",
        "                           json_file='/content/data/databases_qa/ISIC_2016/qa_filtered_ISIC.json',\n",
        "                           tokenizer=None,\n",
        "                           transform=transforms.Compose([\n",
        "                            CropByMask(15),\n",
        "                            Rescale(224),\n",
        "                            CenterCrop(224),\n",
        "                            ToTensor(),\n",
        "                            Normalize(mean=[0.485, 0.456, 0.406], std=[0.229, 0.224, 0.225])\n",
        "                            ]),\n",
        "                            extraPath=train_extra_ISIC_path)\n",
        "# # Test ISIC Dataset--------------------------------------------------------------\n",
        "# test_dataset_isic = VQADataset(data_dir=database1_test_path,\n",
        "#                            json_file='/content/data/databases_qa/ISIC_2016/qa_ISIC.json',\n",
        "#                            tokenizer=None,\n",
        "#                            transform=transforms.Compose([\n",
        "#                             Rescale((224,224)),\n",
        "#                             ToTensor(),\n",
        "#                             Normalize(mean=[0.485, 0.456, 0.406], std=[0.229, 0.224, 0.225])\n",
        "#                             ]))"
      ]
    },
    {
      "cell_type": "code",
      "execution_count": 26,
      "metadata": {
        "id": "3BQq_UYpfjyg"
      },
      "outputs": [],
      "source": [
        "# Train Pizarro Dataset------------------------------------------------------------\n",
        "train_dataset_pizarro = VQADataset(data_dir=database2_path,\n",
        "                           json_file='/content/data/databases_qa/pizarro/qa_pizarro.json',\n",
        "                           tokenizer=None,\n",
        "                           transform=transforms.Compose([\n",
        "                            CropByMask(15),\n",
        "                            Rescale(224),\n",
        "                            CenterCrop(224),\n",
        "                            ToTensor(),\n",
        "                            Normalize(mean=[0.485, 0.456, 0.406], std=[0.229, 0.224, 0.225])\n",
        "                            ]))"
      ]
    },
    {
      "cell_type": "markdown",
      "source": [
        "## Define the all the possible answers within both datasets"
      ],
      "metadata": {
        "id": "SBodYMxwROs0"
      }
    },
    {
      "cell_type": "code",
      "source": [
        "# Extract all answers from the dataset\n",
        "all_answers = [answer for _, _, _, answers in train_dataset_pizarro for answer in answers]\n",
        "# Obtain unique answer values\n",
        "unique_answers = list(set(all_answers))"
      ],
      "metadata": {
        "id": "MtaTJ0v3RJ0W"
      },
      "execution_count": 27,
      "outputs": []
    },
    {
      "cell_type": "code",
      "source": [
        "unique_answers"
      ],
      "metadata": {
        "id": "fZOPrVjkTVVA",
        "outputId": "a8a2a28a-36bc-46d6-836c-4f9ddba6efa8",
        "colab": {
          "base_uri": "https://localhost:8080/"
        }
      },
      "execution_count": 28,
      "outputs": [
        {
          "output_type": "execute_result",
          "data": {
            "text/plain": [
              "['No chrysalis is observed.',\n",
              " ' chrysalis is observed.',\n",
              " 'Yes, clear and dominant peripheral projections are present.',\n",
              " 'No whitish blue veil is observed.',\n",
              " 'The lesion has been follow-up with previous dermoscopy, due to symptoms.',\n",
              " ' large globules/cobblestone are observed.',\n",
              " 'Yes, subtle chrysalis is observed.',\n",
              " 'The presence of dysplasia is not available.',\n",
              " 'The histology diagnostic indicates lentiginous melanocytic nevus (lmn).',\n",
              " 'Yes, clear and dominant pigmented reticulum is observed.',\n",
              " 'The presence of dysplasia is .',\n",
              " 'The presence of dysplasia is not applicable.',\n",
              " 'Yes, clear peripheral globules are observed.',\n",
              " 'Yes, clear and dominant homogeneous area without vessels is observed.',\n",
              " 'The peripheral globular pattern is regular conventional.',\n",
              " 'The diagnostic impression is spitz/reed nevus.',\n",
              " 'The histology diagnostic indicates spitz nevus (sn).',\n",
              " 'Yes, subtle pigmented reticulum is observed.',\n",
              " 'The peripheral globular pattern is focal bursting.',\n",
              " 'The diagnostic impression is non-atypical mole.',\n",
              " 'Yes, clear homogeneous area with vessels is observed.',\n",
              " 'Yes, clear and dominant peripheral globules are observed.',\n",
              " 'Yes, subtle peripheral projections are present.',\n",
              " 'The general silhouette of the lesion is flat.',\n",
              " 'Yes, clear and dominant small dots/globules are present.',\n",
              " 'Yes, clear and dominant homogeneous area with vessels is observed.',\n",
              " 'Yes, clear whitish blue veil is observed.',\n",
              " 'No peripheral projections are present.',\n",
              " 'No undefined area is observed.',\n",
              " 'Yes, subtle whitish blue veil is observed.',\n",
              " 'Yes, clear homogeneous area without vessels is observed.',\n",
              " 'Yes, subtle homogeneous area with vessels is observed.',\n",
              " 'Yes, clear peripheral projections are present.',\n",
              " 'The histology diagnostic indicates reed nevus (nr).',\n",
              " 'No homogeneous area without vessels is observed.',\n",
              " 'The diagnostic impression is melanoma.',\n",
              " 'No peripheral globules are observed.',\n",
              " 'The global pattern of the lesion is mixed (mix of two of the above).',\n",
              " 'Yes, clear gray regression is observed.',\n",
              " 'The histology diagnostic indicates congenital melanocytic nevus (cmn).',\n",
              " 'The global pattern of the lesion is diffuse reticular.',\n",
              " 'No large globules/cobblestone are observed.',\n",
              " 'The peripheral globular pattern is irregular bursting.',\n",
              " 'The peripheral globular pattern is regular bursting.',\n",
              " 'Yes, clear and dominant large globules/cobblestone are observed.',\n",
              " 'Yes, subtle gray regression is observed.',\n",
              " 'The general silhouette of the lesion is flattened elevated.',\n",
              " 'Yes, clear small dots/globules are present.',\n",
              " 'The peripheral globular pattern is irregular conventional.',\n",
              " 'Yes, subtle peripheral globules are observed.',\n",
              " 'The diagnostic difficulty level is high.',\n",
              " 'The global pattern of the lesion is cobblestone.',\n",
              " ' peripheral globules are observed.',\n",
              " 'Yes, clear chrysalis is observed.',\n",
              " 'Yes, subtle white regression is observed.',\n",
              " 'The global pattern of the lesion is multicomponent (mix of 3 or more above).',\n",
              " 'Yes, clear and dominant negative reticulum is observed.',\n",
              " 'The histology diagnostic indicates melanoma in situ (mis).',\n",
              " 'Yes, clear large globules/cobblestone are observed.',\n",
              " 'The lesion has been follow-up with previous dermoscopy, due to changes.',\n",
              " 'The lesion has been first consultation.',\n",
              " 'Yes, subtle homogeneous area without vessels is observed.',\n",
              " 'Yes, subtle negative reticulum is observed.',\n",
              " 'Yes, clear pigmented reticulum is observed.',\n",
              " 'The lesion is symmetric.',\n",
              " 'The histology diagnostic indicates compound melanocytic nevus (cmn).',\n",
              " 'The global pattern of the lesion is undefined.',\n",
              " 'The diagnostic difficulty level is low.',\n",
              " 'Yes, clear negative reticulum is observed.',\n",
              " 'No pigmented reticulum is observed.',\n",
              " 'The histology diagnostic indicates junctional melanocytic nevus (jmn).',\n",
              " 'Yes, clear undefined area is observed.',\n",
              " 'Yes, clear white regression is observed.',\n",
              " 'The lesion is asymmetric on two axes.',\n",
              " 'Yes, subtle undefined area is observed.',\n",
              " 'The diagnostic impression is exclude melanoma.',\n",
              " 'No small dots/globules are present.',\n",
              " 'Yes, subtle large globules/cobblestone are observed.',\n",
              " 'Yes, clear and dominant undefined area is observed.',\n",
              " 'The histology diagnostic indicates non-atypical stable mole (m).',\n",
              " 'The diagnostic difficulty level is medium.',\n",
              " 'No negative reticulum is observed.',\n",
              " 'Yes, subtle small dots/globules are present.',\n",
              " 'The peripheral globular pattern is .',\n",
              " 'The global pattern of the lesion is homogeneous.',\n",
              " 'The general silhouette of the lesion is exophytic.',\n",
              " 'The diagnostic impression is atypical mole.',\n",
              " 'The peripheral globular pattern is focal conventional.',\n",
              " 'No gray regression is observed.',\n",
              " 'No white regression is observed.',\n",
              " 'The lesion has been follow-up, without previous dermoscopy.',\n",
              " 'The histology diagnostic indicates superficial spreading melanoma (ssm).',\n",
              " 'The global pattern of the lesion is patchy reticular.',\n",
              " 'The lesion is asymmetric on one axis.',\n",
              " 'The histology diagnostic indicates intradermal melanocytic nevus (imn).',\n",
              " 'No homogeneous area with vessels is observed.',\n",
              " 'The lesion is .',\n",
              " 'The peripheral globular pattern is absent.',\n",
              " 'The global pattern of the lesion is globular.',\n",
              " 'The histology diagnostic indicates dysplastic melanocytic nevus (dmn).',\n",
              " 'The presence of dysplasia is severe.',\n",
              " 'The lesion has been not excised.']"
            ]
          },
          "metadata": {},
          "execution_count": 28
        }
      ]
    },
    {
      "cell_type": "code",
      "source": [
        "# Create dictionaries id2label and label2id\n",
        "id2label = {i: label for i, label in enumerate(unique_answers)}\n",
        "label2id = {label: i for i, label in enumerate(unique_answers)}"
      ],
      "metadata": {
        "id": "zB_NjxmSSA2I"
      },
      "execution_count": 29,
      "outputs": []
    },
    {
      "cell_type": "code",
      "source": [
        "id2label"
      ],
      "metadata": {
        "id": "8nTUep5tUe07",
        "outputId": "ccdcadac-44d3-492b-cf9f-91a180af7375",
        "colab": {
          "base_uri": "https://localhost:8080/"
        }
      },
      "execution_count": 30,
      "outputs": [
        {
          "output_type": "execute_result",
          "data": {
            "text/plain": [
              "{0: 'No chrysalis is observed.',\n",
              " 1: ' chrysalis is observed.',\n",
              " 2: 'Yes, clear and dominant peripheral projections are present.',\n",
              " 3: 'No whitish blue veil is observed.',\n",
              " 4: 'The lesion has been follow-up with previous dermoscopy, due to symptoms.',\n",
              " 5: ' large globules/cobblestone are observed.',\n",
              " 6: 'Yes, subtle chrysalis is observed.',\n",
              " 7: 'The presence of dysplasia is not available.',\n",
              " 8: 'The histology diagnostic indicates lentiginous melanocytic nevus (lmn).',\n",
              " 9: 'Yes, clear and dominant pigmented reticulum is observed.',\n",
              " 10: 'The presence of dysplasia is .',\n",
              " 11: 'The presence of dysplasia is not applicable.',\n",
              " 12: 'Yes, clear peripheral globules are observed.',\n",
              " 13: 'Yes, clear and dominant homogeneous area without vessels is observed.',\n",
              " 14: 'The peripheral globular pattern is regular conventional.',\n",
              " 15: 'The diagnostic impression is spitz/reed nevus.',\n",
              " 16: 'The histology diagnostic indicates spitz nevus (sn).',\n",
              " 17: 'Yes, subtle pigmented reticulum is observed.',\n",
              " 18: 'The peripheral globular pattern is focal bursting.',\n",
              " 19: 'The diagnostic impression is non-atypical mole.',\n",
              " 20: 'Yes, clear homogeneous area with vessels is observed.',\n",
              " 21: 'Yes, clear and dominant peripheral globules are observed.',\n",
              " 22: 'Yes, subtle peripheral projections are present.',\n",
              " 23: 'The general silhouette of the lesion is flat.',\n",
              " 24: 'Yes, clear and dominant small dots/globules are present.',\n",
              " 25: 'Yes, clear and dominant homogeneous area with vessels is observed.',\n",
              " 26: 'Yes, clear whitish blue veil is observed.',\n",
              " 27: 'No peripheral projections are present.',\n",
              " 28: 'No undefined area is observed.',\n",
              " 29: 'Yes, subtle whitish blue veil is observed.',\n",
              " 30: 'Yes, clear homogeneous area without vessels is observed.',\n",
              " 31: 'Yes, subtle homogeneous area with vessels is observed.',\n",
              " 32: 'Yes, clear peripheral projections are present.',\n",
              " 33: 'The histology diagnostic indicates reed nevus (nr).',\n",
              " 34: 'No homogeneous area without vessels is observed.',\n",
              " 35: 'The diagnostic impression is melanoma.',\n",
              " 36: 'No peripheral globules are observed.',\n",
              " 37: 'The global pattern of the lesion is mixed (mix of two of the above).',\n",
              " 38: 'Yes, clear gray regression is observed.',\n",
              " 39: 'The histology diagnostic indicates congenital melanocytic nevus (cmn).',\n",
              " 40: 'The global pattern of the lesion is diffuse reticular.',\n",
              " 41: 'No large globules/cobblestone are observed.',\n",
              " 42: 'The peripheral globular pattern is irregular bursting.',\n",
              " 43: 'The peripheral globular pattern is regular bursting.',\n",
              " 44: 'Yes, clear and dominant large globules/cobblestone are observed.',\n",
              " 45: 'Yes, subtle gray regression is observed.',\n",
              " 46: 'The general silhouette of the lesion is flattened elevated.',\n",
              " 47: 'Yes, clear small dots/globules are present.',\n",
              " 48: 'The peripheral globular pattern is irregular conventional.',\n",
              " 49: 'Yes, subtle peripheral globules are observed.',\n",
              " 50: 'The diagnostic difficulty level is high.',\n",
              " 51: 'The global pattern of the lesion is cobblestone.',\n",
              " 52: ' peripheral globules are observed.',\n",
              " 53: 'Yes, clear chrysalis is observed.',\n",
              " 54: 'Yes, subtle white regression is observed.',\n",
              " 55: 'The global pattern of the lesion is multicomponent (mix of 3 or more above).',\n",
              " 56: 'Yes, clear and dominant negative reticulum is observed.',\n",
              " 57: 'The histology diagnostic indicates melanoma in situ (mis).',\n",
              " 58: 'Yes, clear large globules/cobblestone are observed.',\n",
              " 59: 'The lesion has been follow-up with previous dermoscopy, due to changes.',\n",
              " 60: 'The lesion has been first consultation.',\n",
              " 61: 'Yes, subtle homogeneous area without vessels is observed.',\n",
              " 62: 'Yes, subtle negative reticulum is observed.',\n",
              " 63: 'Yes, clear pigmented reticulum is observed.',\n",
              " 64: 'The lesion is symmetric.',\n",
              " 65: 'The histology diagnostic indicates compound melanocytic nevus (cmn).',\n",
              " 66: 'The global pattern of the lesion is undefined.',\n",
              " 67: 'The diagnostic difficulty level is low.',\n",
              " 68: 'Yes, clear negative reticulum is observed.',\n",
              " 69: 'No pigmented reticulum is observed.',\n",
              " 70: 'The histology diagnostic indicates junctional melanocytic nevus (jmn).',\n",
              " 71: 'Yes, clear undefined area is observed.',\n",
              " 72: 'Yes, clear white regression is observed.',\n",
              " 73: 'The lesion is asymmetric on two axes.',\n",
              " 74: 'Yes, subtle undefined area is observed.',\n",
              " 75: 'The diagnostic impression is exclude melanoma.',\n",
              " 76: 'No small dots/globules are present.',\n",
              " 77: 'Yes, subtle large globules/cobblestone are observed.',\n",
              " 78: 'Yes, clear and dominant undefined area is observed.',\n",
              " 79: 'The histology diagnostic indicates non-atypical stable mole (m).',\n",
              " 80: 'The diagnostic difficulty level is medium.',\n",
              " 81: 'No negative reticulum is observed.',\n",
              " 82: 'Yes, subtle small dots/globules are present.',\n",
              " 83: 'The peripheral globular pattern is .',\n",
              " 84: 'The global pattern of the lesion is homogeneous.',\n",
              " 85: 'The general silhouette of the lesion is exophytic.',\n",
              " 86: 'The diagnostic impression is atypical mole.',\n",
              " 87: 'The peripheral globular pattern is focal conventional.',\n",
              " 88: 'No gray regression is observed.',\n",
              " 89: 'No white regression is observed.',\n",
              " 90: 'The lesion has been follow-up, without previous dermoscopy.',\n",
              " 91: 'The histology diagnostic indicates superficial spreading melanoma (ssm).',\n",
              " 92: 'The global pattern of the lesion is patchy reticular.',\n",
              " 93: 'The lesion is asymmetric on one axis.',\n",
              " 94: 'The histology diagnostic indicates intradermal melanocytic nevus (imn).',\n",
              " 95: 'No homogeneous area with vessels is observed.',\n",
              " 96: 'The lesion is .',\n",
              " 97: 'The peripheral globular pattern is absent.',\n",
              " 98: 'The global pattern of the lesion is globular.',\n",
              " 99: 'The histology diagnostic indicates dysplastic melanocytic nevus (dmn).',\n",
              " 100: 'The presence of dysplasia is severe.',\n",
              " 101: 'The lesion has been not excised.'}"
            ]
          },
          "metadata": {},
          "execution_count": 30
        }
      ]
    },
    {
      "cell_type": "code",
      "source": [
        "# Required tensor with the label IDs\n",
        "answers_ids_tensor = torch.arange(len(id2label), dtype=torch.float, device=device)\n",
        "answers_ids_tensor"
      ],
      "metadata": {
        "id": "zIE8BzfqUmmf",
        "outputId": "8873eda2-0f4d-41b3-8fe3-d430bb78a85b",
        "colab": {
          "base_uri": "https://localhost:8080/"
        }
      },
      "execution_count": 31,
      "outputs": [
        {
          "output_type": "execute_result",
          "data": {
            "text/plain": [
              "tensor([  0.,   1.,   2.,   3.,   4.,   5.,   6.,   7.,   8.,   9.,  10.,  11.,\n",
              "         12.,  13.,  14.,  15.,  16.,  17.,  18.,  19.,  20.,  21.,  22.,  23.,\n",
              "         24.,  25.,  26.,  27.,  28.,  29.,  30.,  31.,  32.,  33.,  34.,  35.,\n",
              "         36.,  37.,  38.,  39.,  40.,  41.,  42.,  43.,  44.,  45.,  46.,  47.,\n",
              "         48.,  49.,  50.,  51.,  52.,  53.,  54.,  55.,  56.,  57.,  58.,  59.,\n",
              "         60.,  61.,  62.,  63.,  64.,  65.,  66.,  67.,  68.,  69.,  70.,  71.,\n",
              "         72.,  73.,  74.,  75.,  76.,  77.,  78.,  79.,  80.,  81.,  82.,  83.,\n",
              "         84.,  85.,  86.,  87.,  88.,  89.,  90.,  91.,  92.,  93.,  94.,  95.,\n",
              "         96.,  97.,  98.,  99., 100., 101.], device='cuda:0')"
            ]
          },
          "metadata": {},
          "execution_count": 31
        }
      ]
    },
    {
      "cell_type": "code",
      "execution_count": 32,
      "metadata": {
        "id": "UrNZdQCPl7qt"
      },
      "outputs": [],
      "source": [
        "# Pizarro dataset\n",
        "pizarro_dataloader = DataLoader(train_dataset_pizarro, batch_size=5, shuffle=True)\n",
        "train_isic_dataloader = DataLoader(train_dataset_isic, batch_size=5, shuffle=True)"
      ]
    },
    {
      "cell_type": "code",
      "execution_count": 33,
      "metadata": {
        "id": "2jZsoFg5aoCM"
      },
      "outputs": [],
      "source": [
        "# Auxiliary function to visualize a batch\n",
        "def show_batch(sample_batched):\n",
        "    \"\"\"Show a batch of images.\"\"\"\n",
        "\n",
        "    # Store images, questions and answers\n",
        "    images_batch, masks_batch, questions_batch, answers_batch = \\\n",
        "            sample_batched[0], sample_batched[1], sample_batched[2], sample_batched[3]\n",
        "\n",
        "    # Identify the batch size to define the grid\n",
        "    batch_size = len(images_batch)\n",
        "    im_size = images_batch.size(2)\n",
        "    grid_border_size = 2\n",
        "\n",
        "    # Generate the grid\n",
        "    grid = utils.make_grid(images_batch)\n",
        "\n",
        "    # Convert to numpy and denormalize\n",
        "    grid = grid.numpy().transpose((1, 2, 0))\n",
        "    mean = np.array([0.485, 0.456, 0.406])\n",
        "    std = np.array([0.229, 0.224, 0.225])\n",
        "    grid = std * grid + mean\n",
        "    grid = np.clip(grid, 0, 1)\n",
        "    plt.imshow(grid)\n",
        "    plt.title('Batch from dataloader')\n",
        "    plt.axis('off')\n",
        "    plt.show()"
      ]
    },
    {
      "cell_type": "code",
      "execution_count": 34,
      "metadata": {
        "id": "cV5odxMqlhbb",
        "outputId": "bd26e048-315e-46fa-b3fb-d7a86c94deb2",
        "colab": {
          "base_uri": "https://localhost:8080/",
          "height": 354
        }
      },
      "outputs": [
        {
          "output_type": "stream",
          "name": "stdout",
          "text": [
            "0 [('How is the global pattern?', 'How is the global pattern?', 'How is the global pattern?', 'How is the global pattern?', 'How is the global pattern?'), ('Can you describe the overall pattern?', 'Can you describe the overall pattern?', 'Can you describe the overall pattern?', 'Can you describe the overall pattern?', 'Can you describe the overall pattern?'), ('Describe the pattern observed globally.', 'Describe the pattern observed globally.', 'Describe the pattern observed globally.', 'Describe the pattern observed globally.', 'Describe the pattern observed globally.'), ('What is the pattern like throughout the lesion?', 'What is the pattern like throughout the lesion?', 'What is the pattern like throughout the lesion?', 'What is the pattern like throughout the lesion?', 'What is the pattern like throughout the lesion?'), ('What patterns are present in the entire lesion?', 'What patterns are present in the entire lesion?', 'What patterns are present in the entire lesion?', 'What patterns are present in the entire lesion?', 'What patterns are present in the entire lesion?'), ('Can you identify any pigmented reticulum?', 'Can you identify any pigmented reticulum?', 'Can you identify any pigmented reticulum?', 'Can you identify any pigmented reticulum?', 'Can you identify any pigmented reticulum?'), ('Do you observe pigmented reticulum?', 'Do you observe pigmented reticulum?', 'Do you observe pigmented reticulum?', 'Do you observe pigmented reticulum?', 'Do you observe pigmented reticulum?'), ('Describe the presence of pigmented reticulum.', 'Describe the presence of pigmented reticulum.', 'Describe the presence of pigmented reticulum.', 'Describe the presence of pigmented reticulum.', 'Describe the presence of pigmented reticulum.'), ('Are there any signs of pigmented reticulum?', 'Are there any signs of pigmented reticulum?', 'Are there any signs of pigmented reticulum?', 'Are there any signs of pigmented reticulum?', 'Are there any signs of pigmented reticulum?'), ('What about pigmented reticulum in the lesion?', 'What about pigmented reticulum in the lesion?', 'What about pigmented reticulum in the lesion?', 'What about pigmented reticulum in the lesion?', 'What about pigmented reticulum in the lesion?'), ('Can you identify any negative reticulum?', 'Can you identify any negative reticulum?', 'Can you identify any negative reticulum?', 'Can you identify any negative reticulum?', 'Can you identify any negative reticulum?'), ('Do you observe negative reticulum?', 'Do you observe negative reticulum?', 'Do you observe negative reticulum?', 'Do you observe negative reticulum?', 'Do you observe negative reticulum?'), ('Describe the presence of negative reticulum.', 'Describe the presence of negative reticulum.', 'Describe the presence of negative reticulum.', 'Describe the presence of negative reticulum.', 'Describe the presence of negative reticulum.'), ('Are there any signs of negative reticulum?', 'Are there any signs of negative reticulum?', 'Are there any signs of negative reticulum?', 'Are there any signs of negative reticulum?', 'Are there any signs of negative reticulum?'), ('What about negative reticulum in the lesion?', 'What about negative reticulum in the lesion?', 'What about negative reticulum in the lesion?', 'What about negative reticulum in the lesion?', 'What about negative reticulum in the lesion?'), ('Can you identify any small dots/globules?', 'Can you identify any small dots/globules?', 'Can you identify any small dots/globules?', 'Can you identify any small dots/globules?', 'Can you identify any small dots/globules?'), ('Do you see any small dots/globules?', 'Do you see any small dots/globules?', 'Do you see any small dots/globules?', 'Do you see any small dots/globules?', 'Do you see any small dots/globules?'), ('Describe the presence of small dots/globules.', 'Describe the presence of small dots/globules.', 'Describe the presence of small dots/globules.', 'Describe the presence of small dots/globules.', 'Describe the presence of small dots/globules.'), ('Are there any signs of small dots/globules?', 'Are there any signs of small dots/globules?', 'Are there any signs of small dots/globules?', 'Are there any signs of small dots/globules?', 'Are there any signs of small dots/globules?'), ('What about small dots/globules in the lesion?', 'What about small dots/globules in the lesion?', 'What about small dots/globules in the lesion?', 'What about small dots/globules in the lesion?', 'What about small dots/globules in the lesion?'), ('Can you identify any large globules/cobblestone?', 'Can you identify any large globules/cobblestone?', 'Can you identify any large globules/cobblestone?', 'Can you identify any large globules/cobblestone?', 'Can you identify any large globules/cobblestone?'), ('Do you observe large globules/cobblestone?', 'Do you observe large globules/cobblestone?', 'Do you observe large globules/cobblestone?', 'Do you observe large globules/cobblestone?', 'Do you observe large globules/cobblestone?'), ('Describe the presence of large globules/cobblestone.', 'Describe the presence of large globules/cobblestone.', 'Describe the presence of large globules/cobblestone.', 'Describe the presence of large globules/cobblestone.', 'Describe the presence of large globules/cobblestone.'), ('Are there any signs of large globules/cobblestone?', 'Are there any signs of large globules/cobblestone?', 'Are there any signs of large globules/cobblestone?', 'Are there any signs of large globules/cobblestone?', 'Are there any signs of large globules/cobblestone?'), ('What about large globules/cobblestone in the lesion?', 'What about large globules/cobblestone in the lesion?', 'What about large globules/cobblestone in the lesion?', 'What about large globules/cobblestone in the lesion?', 'What about large globules/cobblestone in the lesion?'), ('Can you identify any peripheral globules?', 'Can you identify any peripheral globules?', 'Can you identify any peripheral globules?', 'Can you identify any peripheral globules?', 'Can you identify any peripheral globules?'), ('Do you observe peripheral globules?', 'Do you observe peripheral globules?', 'Do you observe peripheral globules?', 'Do you observe peripheral globules?', 'Do you observe peripheral globules?'), ('Describe the presence of peripheral globules.', 'Describe the presence of peripheral globules.', 'Describe the presence of peripheral globules.', 'Describe the presence of peripheral globules.', 'Describe the presence of peripheral globules.'), ('Are there any signs of peripheral globules?', 'Are there any signs of peripheral globules?', 'Are there any signs of peripheral globules?', 'Are there any signs of peripheral globules?', 'Are there any signs of peripheral globules?'), ('What about peripheral globules in the lesion?', 'What about peripheral globules in the lesion?', 'What about peripheral globules in the lesion?', 'What about peripheral globules in the lesion?', 'What about peripheral globules in the lesion?'), ('Can you identify any peripheral projections?', 'Can you identify any peripheral projections?', 'Can you identify any peripheral projections?', 'Can you identify any peripheral projections?', 'Can you identify any peripheral projections?'), ('Do you observe peripheral projections?', 'Do you observe peripheral projections?', 'Do you observe peripheral projections?', 'Do you observe peripheral projections?', 'Do you observe peripheral projections?'), ('Describe the presence of peripheral projections.', 'Describe the presence of peripheral projections.', 'Describe the presence of peripheral projections.', 'Describe the presence of peripheral projections.', 'Describe the presence of peripheral projections.'), ('Are there any signs of peripheral projections?', 'Are there any signs of peripheral projections?', 'Are there any signs of peripheral projections?', 'Are there any signs of peripheral projections?', 'Are there any signs of peripheral projections?'), ('What about peripheral projections in the lesion?', 'What about peripheral projections in the lesion?', 'What about peripheral projections in the lesion?', 'What about peripheral projections in the lesion?', 'What about peripheral projections in the lesion?'), ('Can you identify any homogeneous area without vessels?', 'Can you identify any homogeneous area without vessels?', 'Can you identify any homogeneous area without vessels?', 'Can you identify any homogeneous area without vessels?', 'Can you identify any homogeneous area without vessels?'), ('Do you observe homogeneous area without vessels?', 'Do you observe homogeneous area without vessels?', 'Do you observe homogeneous area without vessels?', 'Do you observe homogeneous area without vessels?', 'Do you observe homogeneous area without vessels?'), ('Describe the presence of homogeneous area without vessels.', 'Describe the presence of homogeneous area without vessels.', 'Describe the presence of homogeneous area without vessels.', 'Describe the presence of homogeneous area without vessels.', 'Describe the presence of homogeneous area without vessels.'), ('Are there any signs of homogeneous area without vessels?', 'Are there any signs of homogeneous area without vessels?', 'Are there any signs of homogeneous area without vessels?', 'Are there any signs of homogeneous area without vessels?', 'Are there any signs of homogeneous area without vessels?'), ('What about homogeneous area without vessels in the lesion?', 'What about homogeneous area without vessels in the lesion?', 'What about homogeneous area without vessels in the lesion?', 'What about homogeneous area without vessels in the lesion?', 'What about homogeneous area without vessels in the lesion?'), ('Can you identify any homogeneous area with vessels?', 'Can you identify any homogeneous area with vessels?', 'Can you identify any homogeneous area with vessels?', 'Can you identify any homogeneous area with vessels?', 'Can you identify any homogeneous area with vessels?'), ('Do you observe homogeneous area with vessels?', 'Do you observe homogeneous area with vessels?', 'Do you observe homogeneous area with vessels?', 'Do you observe homogeneous area with vessels?', 'Do you observe homogeneous area with vessels?'), ('Describe the presence of homogeneous area with vessels.', 'Describe the presence of homogeneous area with vessels.', 'Describe the presence of homogeneous area with vessels.', 'Describe the presence of homogeneous area with vessels.', 'Describe the presence of homogeneous area with vessels.'), ('Are there any signs of homogeneous area with vessels?', 'Are there any signs of homogeneous area with vessels?', 'Are there any signs of homogeneous area with vessels?', 'Are there any signs of homogeneous area with vessels?', 'Are there any signs of homogeneous area with vessels?'), ('What about homogeneous area with vessels in the lesion?', 'What about homogeneous area with vessels in the lesion?', 'What about homogeneous area with vessels in the lesion?', 'What about homogeneous area with vessels in the lesion?', 'What about homogeneous area with vessels in the lesion?'), ('Can you identify any undefined area?', 'Can you identify any undefined area?', 'Can you identify any undefined area?', 'Can you identify any undefined area?', 'Can you identify any undefined area?'), ('Do you observe undefined area?', 'Do you observe undefined area?', 'Do you observe undefined area?', 'Do you observe undefined area?', 'Do you observe undefined area?'), ('Describe the presence of undefined area.', 'Describe the presence of undefined area.', 'Describe the presence of undefined area.', 'Describe the presence of undefined area.', 'Describe the presence of undefined area.'), ('Are there any signs of undefined area?', 'Are there any signs of undefined area?', 'Are there any signs of undefined area?', 'Are there any signs of undefined area?', 'Are there any signs of undefined area?'), ('What about undefined area in the lesion?', 'What about undefined area in the lesion?', 'What about undefined area in the lesion?', 'What about undefined area in the lesion?', 'What about undefined area in the lesion?'), ('Can you identify any gray regression?', 'Can you identify any gray regression?', 'Can you identify any gray regression?', 'Can you identify any gray regression?', 'Can you identify any gray regression?'), ('Do you observe gray regression?', 'Do you observe gray regression?', 'Do you observe gray regression?', 'Do you observe gray regression?', 'Do you observe gray regression?'), ('Describe the presence of gray regression.', 'Describe the presence of gray regression.', 'Describe the presence of gray regression.', 'Describe the presence of gray regression.', 'Describe the presence of gray regression.'), ('Are there any signs of gray regression?', 'Are there any signs of gray regression?', 'Are there any signs of gray regression?', 'Are there any signs of gray regression?', 'Are there any signs of gray regression?'), ('What about gray regression in the lesion?', 'What about gray regression in the lesion?', 'What about gray regression in the lesion?', 'What about gray regression in the lesion?', 'What about gray regression in the lesion?'), ('Can you identify any white regression?', 'Can you identify any white regression?', 'Can you identify any white regression?', 'Can you identify any white regression?', 'Can you identify any white regression?'), ('Do you observe white regression?', 'Do you observe white regression?', 'Do you observe white regression?', 'Do you observe white regression?', 'Do you observe white regression?'), ('Describe the presence of white regression.', 'Describe the presence of white regression.', 'Describe the presence of white regression.', 'Describe the presence of white regression.', 'Describe the presence of white regression.'), ('Are there any signs of white regression?', 'Are there any signs of white regression?', 'Are there any signs of white regression?', 'Are there any signs of white regression?', 'Are there any signs of white regression?'), ('What about white regression in the lesion?', 'What about white regression in the lesion?', 'What about white regression in the lesion?', 'What about white regression in the lesion?', 'What about white regression in the lesion?'), ('Can you identify any whitish blue veil?', 'Can you identify any whitish blue veil?', 'Can you identify any whitish blue veil?', 'Can you identify any whitish blue veil?', 'Can you identify any whitish blue veil?'), ('Do you observe whitish blue veil?', 'Do you observe whitish blue veil?', 'Do you observe whitish blue veil?', 'Do you observe whitish blue veil?', 'Do you observe whitish blue veil?'), ('Describe the presence of whitish blue veil.', 'Describe the presence of whitish blue veil.', 'Describe the presence of whitish blue veil.', 'Describe the presence of whitish blue veil.', 'Describe the presence of whitish blue veil.'), ('Are there any signs of whitish blue veil?', 'Are there any signs of whitish blue veil?', 'Are there any signs of whitish blue veil?', 'Are there any signs of whitish blue veil?', 'Are there any signs of whitish blue veil?'), ('What about whitish blue veil in the lesion?', 'What about whitish blue veil in the lesion?', 'What about whitish blue veil in the lesion?', 'What about whitish blue veil in the lesion?', 'What about whitish blue veil in the lesion?'), ('Can you identify any chrysalis?', 'Can you identify any chrysalis?', 'Can you identify any chrysalis?', 'Can you identify any chrysalis?', 'Can you identify any chrysalis?'), ('Do you observe chrysalis?', 'Do you observe chrysalis?', 'Do you observe chrysalis?', 'Do you observe chrysalis?', 'Do you observe chrysalis?'), ('Describe the presence of chrysalis.', 'Describe the presence of chrysalis.', 'Describe the presence of chrysalis.', 'Describe the presence of chrysalis.', 'Describe the presence of chrysalis.'), ('Are there any signs of chrysalis?', 'Are there any signs of chrysalis?', 'Are there any signs of chrysalis?', 'Are there any signs of chrysalis?', 'Are there any signs of chrysalis?'), ('What about chrysalis in the lesion?', 'What about chrysalis in the lesion?', 'What about chrysalis in the lesion?', 'What about chrysalis in the lesion?', 'What about chrysalis in the lesion?'), ('Is the lesion malignant?', 'Is the lesion malignant?', 'Is the lesion malignant?', 'Is the lesion malignant?', 'Is the lesion malignant?'), ('Do you classify the lesion as malignant?', 'Do you classify the lesion as malignant?', 'Do you classify the lesion as malignant?', 'Do you classify the lesion as malignant?', 'Do you classify the lesion as malignant?'), ('What is the classification of the lesion?', 'What is the classification of the lesion?', 'What is the classification of the lesion?', 'What is the classification of the lesion?', 'What is the classification of the lesion?'), ('Is the lesion benign or malignant?', 'Is the lesion benign or malignant?', 'Is the lesion benign or malignant?', 'Is the lesion benign or malignant?', 'Is the lesion benign or malignant?'), ('Can you determine if the lesion is malignant?', 'Can you determine if the lesion is malignant?', 'Can you determine if the lesion is malignant?', 'Can you determine if the lesion is malignant?', 'Can you determine if the lesion is malignant?')]\n"
          ]
        },
        {
          "output_type": "display_data",
          "data": {
            "text/plain": [
              "<Figure size 640x480 with 1 Axes>"
            ],
            "image/png": "[encoded data removed]"
          },
          "metadata": {}
        },
        {
          "output_type": "stream",
          "name": "stdout",
          "text": [
            "1 [('How is the global pattern?', 'How is the global pattern?', 'How is the global pattern?', 'How is the global pattern?', 'How is the global pattern?'), ('Can you describe the overall pattern?', 'Can you describe the overall pattern?', 'Can you describe the overall pattern?', 'Can you describe the overall pattern?', 'Can you describe the overall pattern?'), ('Describe the pattern observed globally.', 'Describe the pattern observed globally.', 'Describe the pattern observed globally.', 'Describe the pattern observed globally.', 'Describe the pattern observed globally.'), ('What is the pattern like throughout the lesion?', 'What is the pattern like throughout the lesion?', 'What is the pattern like throughout the lesion?', 'What is the pattern like throughout the lesion?', 'What is the pattern like throughout the lesion?'), ('What patterns are present in the entire lesion?', 'What patterns are present in the entire lesion?', 'What patterns are present in the entire lesion?', 'What patterns are present in the entire lesion?', 'What patterns are present in the entire lesion?'), ('Can you identify any pigmented reticulum?', 'Can you identify any pigmented reticulum?', 'Can you identify any pigmented reticulum?', 'Can you identify any pigmented reticulum?', 'Can you identify any pigmented reticulum?'), ('Do you observe pigmented reticulum?', 'Do you observe pigmented reticulum?', 'Do you observe pigmented reticulum?', 'Do you observe pigmented reticulum?', 'Do you observe pigmented reticulum?'), ('Describe the presence of pigmented reticulum.', 'Describe the presence of pigmented reticulum.', 'Describe the presence of pigmented reticulum.', 'Describe the presence of pigmented reticulum.', 'Describe the presence of pigmented reticulum.'), ('Are there any signs of pigmented reticulum?', 'Are there any signs of pigmented reticulum?', 'Are there any signs of pigmented reticulum?', 'Are there any signs of pigmented reticulum?', 'Are there any signs of pigmented reticulum?'), ('What about pigmented reticulum in the lesion?', 'What about pigmented reticulum in the lesion?', 'What about pigmented reticulum in the lesion?', 'What about pigmented reticulum in the lesion?', 'What about pigmented reticulum in the lesion?'), ('Can you identify any negative reticulum?', 'Can you identify any negative reticulum?', 'Can you identify any negative reticulum?', 'Can you identify any negative reticulum?', 'Can you identify any negative reticulum?'), ('Do you observe negative reticulum?', 'Do you observe negative reticulum?', 'Do you observe negative reticulum?', 'Do you observe negative reticulum?', 'Do you observe negative reticulum?'), ('Describe the presence of negative reticulum.', 'Describe the presence of negative reticulum.', 'Describe the presence of negative reticulum.', 'Describe the presence of negative reticulum.', 'Describe the presence of negative reticulum.'), ('Are there any signs of negative reticulum?', 'Are there any signs of negative reticulum?', 'Are there any signs of negative reticulum?', 'Are there any signs of negative reticulum?', 'Are there any signs of negative reticulum?'), ('What about negative reticulum in the lesion?', 'What about negative reticulum in the lesion?', 'What about negative reticulum in the lesion?', 'What about negative reticulum in the lesion?', 'What about negative reticulum in the lesion?'), ('Can you identify any small dots/globules?', 'Can you identify any small dots/globules?', 'Can you identify any small dots/globules?', 'Can you identify any small dots/globules?', 'Can you identify any small dots/globules?'), ('Do you see any small dots/globules?', 'Do you see any small dots/globules?', 'Do you see any small dots/globules?', 'Do you see any small dots/globules?', 'Do you see any small dots/globules?'), ('Describe the presence of small dots/globules.', 'Describe the presence of small dots/globules.', 'Describe the presence of small dots/globules.', 'Describe the presence of small dots/globules.', 'Describe the presence of small dots/globules.'), ('Are there any signs of small dots/globules?', 'Are there any signs of small dots/globules?', 'Are there any signs of small dots/globules?', 'Are there any signs of small dots/globules?', 'Are there any signs of small dots/globules?'), ('What about small dots/globules in the lesion?', 'What about small dots/globules in the lesion?', 'What about small dots/globules in the lesion?', 'What about small dots/globules in the lesion?', 'What about small dots/globules in the lesion?'), ('Can you identify any large globules/cobblestone?', 'Can you identify any large globules/cobblestone?', 'Can you identify any large globules/cobblestone?', 'Can you identify any large globules/cobblestone?', 'Can you identify any large globules/cobblestone?'), ('Do you observe large globules/cobblestone?', 'Do you observe large globules/cobblestone?', 'Do you observe large globules/cobblestone?', 'Do you observe large globules/cobblestone?', 'Do you observe large globules/cobblestone?'), ('Describe the presence of large globules/cobblestone.', 'Describe the presence of large globules/cobblestone.', 'Describe the presence of large globules/cobblestone.', 'Describe the presence of large globules/cobblestone.', 'Describe the presence of large globules/cobblestone.'), ('Are there any signs of large globules/cobblestone?', 'Are there any signs of large globules/cobblestone?', 'Are there any signs of large globules/cobblestone?', 'Are there any signs of large globules/cobblestone?', 'Are there any signs of large globules/cobblestone?'), ('What about large globules/cobblestone in the lesion?', 'What about large globules/cobblestone in the lesion?', 'What about large globules/cobblestone in the lesion?', 'What about large globules/cobblestone in the lesion?', 'What about large globules/cobblestone in the lesion?'), ('Can you identify any peripheral globules?', 'Can you identify any peripheral globules?', 'Can you identify any peripheral globules?', 'Can you identify any peripheral globules?', 'Can you identify any peripheral globules?'), ('Do you observe peripheral globules?', 'Do you observe peripheral globules?', 'Do you observe peripheral globules?', 'Do you observe peripheral globules?', 'Do you observe peripheral globules?'), ('Describe the presence of peripheral globules.', 'Describe the presence of peripheral globules.', 'Describe the presence of peripheral globules.', 'Describe the presence of peripheral globules.', 'Describe the presence of peripheral globules.'), ('Are there any signs of peripheral globules?', 'Are there any signs of peripheral globules?', 'Are there any signs of peripheral globules?', 'Are there any signs of peripheral globules?', 'Are there any signs of peripheral globules?'), ('What about peripheral globules in the lesion?', 'What about peripheral globules in the lesion?', 'What about peripheral globules in the lesion?', 'What about peripheral globules in the lesion?', 'What about peripheral globules in the lesion?'), ('Can you identify any peripheral projections?', 'Can you identify any peripheral projections?', 'Can you identify any peripheral projections?', 'Can you identify any peripheral projections?', 'Can you identify any peripheral projections?'), ('Do you observe peripheral projections?', 'Do you observe peripheral projections?', 'Do you observe peripheral projections?', 'Do you observe peripheral projections?', 'Do you observe peripheral projections?'), ('Describe the presence of peripheral projections.', 'Describe the presence of peripheral projections.', 'Describe the presence of peripheral projections.', 'Describe the presence of peripheral projections.', 'Describe the presence of peripheral projections.'), ('Are there any signs of peripheral projections?', 'Are there any signs of peripheral projections?', 'Are there any signs of peripheral projections?', 'Are there any signs of peripheral projections?', 'Are there any signs of peripheral projections?'), ('What about peripheral projections in the lesion?', 'What about peripheral projections in the lesion?', 'What about peripheral projections in the lesion?', 'What about peripheral projections in the lesion?', 'What about peripheral projections in the lesion?'), ('Can you identify any homogeneous area without vessels?', 'Can you identify any homogeneous area without vessels?', 'Can you identify any homogeneous area without vessels?', 'Can you identify any homogeneous area without vessels?', 'Can you identify any homogeneous area without vessels?'), ('Do you observe homogeneous area without vessels?', 'Do you observe homogeneous area without vessels?', 'Do you observe homogeneous area without vessels?', 'Do you observe homogeneous area without vessels?', 'Do you observe homogeneous area without vessels?'), ('Describe the presence of homogeneous area without vessels.', 'Describe the presence of homogeneous area without vessels.', 'Describe the presence of homogeneous area without vessels.', 'Describe the presence of homogeneous area without vessels.', 'Describe the presence of homogeneous area without vessels.'), ('Are there any signs of homogeneous area without vessels?', 'Are there any signs of homogeneous area without vessels?', 'Are there any signs of homogeneous area without vessels?', 'Are there any signs of homogeneous area without vessels?', 'Are there any signs of homogeneous area without vessels?'), ('What about homogeneous area without vessels in the lesion?', 'What about homogeneous area without vessels in the lesion?', 'What about homogeneous area without vessels in the lesion?', 'What about homogeneous area without vessels in the lesion?', 'What about homogeneous area without vessels in the lesion?'), ('Can you identify any homogeneous area with vessels?', 'Can you identify any homogeneous area with vessels?', 'Can you identify any homogeneous area with vessels?', 'Can you identify any homogeneous area with vessels?', 'Can you identify any homogeneous area with vessels?'), ('Do you observe homogeneous area with vessels?', 'Do you observe homogeneous area with vessels?', 'Do you observe homogeneous area with vessels?', 'Do you observe homogeneous area with vessels?', 'Do you observe homogeneous area with vessels?'), ('Describe the presence of homogeneous area with vessels.', 'Describe the presence of homogeneous area with vessels.', 'Describe the presence of homogeneous area with vessels.', 'Describe the presence of homogeneous area with vessels.', 'Describe the presence of homogeneous area with vessels.'), ('Are there any signs of homogeneous area with vessels?', 'Are there any signs of homogeneous area with vessels?', 'Are there any signs of homogeneous area with vessels?', 'Are there any signs of homogeneous area with vessels?', 'Are there any signs of homogeneous area with vessels?'), ('What about homogeneous area with vessels in the lesion?', 'What about homogeneous area with vessels in the lesion?', 'What about homogeneous area with vessels in the lesion?', 'What about homogeneous area with vessels in the lesion?', 'What about homogeneous area with vessels in the lesion?'), ('Can you identify any undefined area?', 'Can you identify any undefined area?', 'Can you identify any undefined area?', 'Can you identify any undefined area?', 'Can you identify any undefined area?'), ('Do you observe undefined area?', 'Do you observe undefined area?', 'Do you observe undefined area?', 'Do you observe undefined area?', 'Do you observe undefined area?'), ('Describe the presence of undefined area.', 'Describe the presence of undefined area.', 'Describe the presence of undefined area.', 'Describe the presence of undefined area.', 'Describe the presence of undefined area.'), ('Are there any signs of undefined area?', 'Are there any signs of undefined area?', 'Are there any signs of undefined area?', 'Are there any signs of undefined area?', 'Are there any signs of undefined area?'), ('What about undefined area in the lesion?', 'What about undefined area in the lesion?', 'What about undefined area in the lesion?', 'What about undefined area in the lesion?', 'What about undefined area in the lesion?'), ('Can you identify any gray regression?', 'Can you identify any gray regression?', 'Can you identify any gray regression?', 'Can you identify any gray regression?', 'Can you identify any gray regression?'), ('Do you observe gray regression?', 'Do you observe gray regression?', 'Do you observe gray regression?', 'Do you observe gray regression?', 'Do you observe gray regression?'), ('Describe the presence of gray regression.', 'Describe the presence of gray regression.', 'Describe the presence of gray regression.', 'Describe the presence of gray regression.', 'Describe the presence of gray regression.'), ('Are there any signs of gray regression?', 'Are there any signs of gray regression?', 'Are there any signs of gray regression?', 'Are there any signs of gray regression?', 'Are there any signs of gray regression?'), ('What about gray regression in the lesion?', 'What about gray regression in the lesion?', 'What about gray regression in the lesion?', 'What about gray regression in the lesion?', 'What about gray regression in the lesion?'), ('Can you identify any white regression?', 'Can you identify any white regression?', 'Can you identify any white regression?', 'Can you identify any white regression?', 'Can you identify any white regression?'), ('Do you observe white regression?', 'Do you observe white regression?', 'Do you observe white regression?', 'Do you observe white regression?', 'Do you observe white regression?'), ('Describe the presence of white regression.', 'Describe the presence of white regression.', 'Describe the presence of white regression.', 'Describe the presence of white regression.', 'Describe the presence of white regression.'), ('Are there any signs of white regression?', 'Are there any signs of white regression?', 'Are there any signs of white regression?', 'Are there any signs of white regression?', 'Are there any signs of white regression?'), ('What about white regression in the lesion?', 'What about white regression in the lesion?', 'What about white regression in the lesion?', 'What about white regression in the lesion?', 'What about white regression in the lesion?'), ('Can you identify any whitish blue veil?', 'Can you identify any whitish blue veil?', 'Can you identify any whitish blue veil?', 'Can you identify any whitish blue veil?', 'Can you identify any whitish blue veil?'), ('Do you observe whitish blue veil?', 'Do you observe whitish blue veil?', 'Do you observe whitish blue veil?', 'Do you observe whitish blue veil?', 'Do you observe whitish blue veil?'), ('Describe the presence of whitish blue veil.', 'Describe the presence of whitish blue veil.', 'Describe the presence of whitish blue veil.', 'Describe the presence of whitish blue veil.', 'Describe the presence of whitish blue veil.'), ('Are there any signs of whitish blue veil?', 'Are there any signs of whitish blue veil?', 'Are there any signs of whitish blue veil?', 'Are there any signs of whitish blue veil?', 'Are there any signs of whitish blue veil?'), ('What about whitish blue veil in the lesion?', 'What about whitish blue veil in the lesion?', 'What about whitish blue veil in the lesion?', 'What about whitish blue veil in the lesion?', 'What about whitish blue veil in the lesion?'), ('Can you identify any chrysalis?', 'Can you identify any chrysalis?', 'Can you identify any chrysalis?', 'Can you identify any chrysalis?', 'Can you identify any chrysalis?'), ('Do you observe chrysalis?', 'Do you observe chrysalis?', 'Do you observe chrysalis?', 'Do you observe chrysalis?', 'Do you observe chrysalis?'), ('Describe the presence of chrysalis.', 'Describe the presence of chrysalis.', 'Describe the presence of chrysalis.', 'Describe the presence of chrysalis.', 'Describe the presence of chrysalis.'), ('Are there any signs of chrysalis?', 'Are there any signs of chrysalis?', 'Are there any signs of chrysalis?', 'Are there any signs of chrysalis?', 'Are there any signs of chrysalis?'), ('What about chrysalis in the lesion?', 'What about chrysalis in the lesion?', 'What about chrysalis in the lesion?', 'What about chrysalis in the lesion?', 'What about chrysalis in the lesion?'), ('Is the lesion malignant?', 'Is the lesion malignant?', 'Is the lesion malignant?', 'Is the lesion malignant?', 'Is the lesion malignant?'), ('Do you classify the lesion as malignant?', 'Do you classify the lesion as malignant?', 'Do you classify the lesion as malignant?', 'Do you classify the lesion as malignant?', 'Do you classify the lesion as malignant?'), ('What is the classification of the lesion?', 'What is the classification of the lesion?', 'What is the classification of the lesion?', 'What is the classification of the lesion?', 'What is the classification of the lesion?'), ('Is the lesion benign or malignant?', 'Is the lesion benign or malignant?', 'Is the lesion benign or malignant?', 'Is the lesion benign or malignant?', 'Is the lesion benign or malignant?'), ('Can you determine if the lesion is malignant?', 'Can you determine if the lesion is malignant?', 'Can you determine if the lesion is malignant?', 'Can you determine if the lesion is malignant?', 'Can you determine if the lesion is malignant?')]\n"
          ]
        },
        {
          "output_type": "display_data",
          "data": {
            "text/plain": [
              "<Figure size 640x480 with 1 Axes>"
            ],
            "image/png": "[encoded data removed]"
          },
          "metadata": {}
        }
      ],
      "source": [
        "# Iterate over the dataloader and visualize batches\n",
        "for i_batch, sample_batched in enumerate(train_isic_dataloader):\n",
        "    print(i_batch, sample_batched[2])\n",
        "    show_batch(sample_batched)\n",
        "\n",
        "    # Show only the data of the 3rd batch and stop.\n",
        "    if i_batch == 1:\n",
        "        break"
      ]
    },
    {
      "cell_type": "markdown",
      "metadata": {
        "id": "uZQYNuFsKI3k"
      },
      "source": [
        "## Image Feature Extraction"
      ]
    },
    {
      "cell_type": "code",
      "source": [
        "for images, masks, questions, answers in pizarro_dataloader:\n",
        "  print(images.size())\n",
        "  break"
      ],
      "metadata": {
        "id": "i-D2ipfKaOL9",
        "outputId": "c2de6919-5b8e-4391-9f1f-bbac57a1aa1a",
        "colab": {
          "base_uri": "https://localhost:8080/"
        }
      },
      "execution_count": 35,
      "outputs": [
        {
          "output_type": "stream",
          "name": "stdout",
          "text": [
            "torch.Size([5, 3, 224, 224])\n"
          ]
        }
      ]
    },
    {
      "cell_type": "code",
      "execution_count": 36,
      "metadata": {
        "id": "XL6ILzWtlPEV"
      },
      "outputs": [],
      "source": [
        "def extract_image_features(model, dataloader):\n",
        "    model.eval()  # Set the model to evaluation mode\n",
        "    num_samples = len(dataloader.dataset)\n",
        "\n",
        "    output_shape = (7,7,512) # Keep dimensionality of outputs (layer 4)\n",
        "\n",
        "    # Calculate the total number of features\n",
        "    num_features = np.prod(output_shape)\n",
        "\n",
        "    features = np.zeros((num_samples, *output_shape), dtype=np.float32)\n",
        "    sample_idx = 0\n",
        "\n",
        "    with torch.no_grad():\n",
        "        for sample in dataloader:\n",
        "            # Get images\n",
        "            inputs = sample[0].to(device).float()\n",
        "\n",
        "            # Forward pass\n",
        "            outputs = model(inputs)\n",
        "\n",
        "            outputs_reshaped = outputs.reshape(outputs.size(0), *output_shape)\n",
        "\n",
        "            # Store features\n",
        "            batch_size = inputs.size(0)\n",
        "            # features[sample_idx:sample_idx + batch_size, :] = outputs_flat.cpu().numpy()\n",
        "            features[sample_idx:sample_idx + batch_size, :] = outputs_reshaped.cpu().numpy()\n",
        "            sample_idx += batch_size\n",
        "\n",
        "    return torch.tensor(features, device=device)"
      ]
    },
    {
      "cell_type": "code",
      "execution_count": 37,
      "metadata": {
        "id": "F9gqOoAOdYQ_"
      },
      "outputs": [],
      "source": [
        "features_pizarro = extract_image_features(resnet, pizarro_dataloader)"
      ]
    },
    {
      "cell_type": "code",
      "execution_count": 38,
      "metadata": {
        "id": "Ey1rr3KGiNYm",
        "outputId": "1b2bcb75-8c65-49ba-d41b-14f07b79ed42",
        "colab": {
          "base_uri": "https://localhost:8080/"
        }
      },
      "outputs": [
        {
          "output_type": "execute_result",
          "data": {
            "text/plain": [
              "torch.Size([500, 7, 7, 512])"
            ]
          },
          "metadata": {},
          "execution_count": 38
        }
      ],
      "source": [
        "features_pizarro.size()"
      ]
    },
    {
      "cell_type": "code",
      "source": [
        "# Function to print GPU memory usage\n",
        "def print_gpu_memory():\n",
        "    print(f\"Memory allocated: {torch.cuda.memory_allocated() / 1024**2:.2f} MB\")\n",
        "    print(f\"Memory reserved: {torch.cuda.memory_reserved() / 1024**2:.2f} MB\")"
      ],
      "metadata": {
        "id": "6EeNiyfjCzIi"
      },
      "execution_count": 39,
      "outputs": []
    },
    {
      "cell_type": "markdown",
      "metadata": {
        "id": "w4HfihfzJ3a6"
      },
      "source": [
        "## VQA Model Creation"
      ]
    },
    {
      "cell_type": "code",
      "source": [
        "class VQAModel(nn.Module):\n",
        "    def __init__(self, resnet, vlm, tokenizer):\n",
        "        super(VQAModel, self).__init__()\n",
        "\n",
        "        # Pre-trained ResNet model\n",
        "        self.resnet = resnet\n",
        "        # Vision Language Model\n",
        "        self.vlm = vlm\n",
        "        # Tokenizer\n",
        "        self.tokenizer = tokenizer\n",
        "        # Freeze parameters of the ResNet model\n",
        "        for param in self.resnet.parameters():\n",
        "            param.requires_grad = False\n",
        "\n",
        "    def forward(self, image_features, question, labels_idxs=None, training=False):\n",
        "\n",
        "        # image_features -> array with visual features for the specific image (7x7x512)\n",
        "        # question -> individual question within the image batch\n",
        "        # labels_idx -> tensor with shape (0, ..., num_labels-1)\n",
        "        # training; boolean to determine the mode (train/evaluation)\n",
        "\n",
        "        # Prepare image inputs -> (batch_size, visual_seq_length, visual_embedding_dim)\n",
        "        flattened_embedding = image_features.view(-1, 512) # (49x512)\n",
        "        visual_embeds = flattened_embedding.unsqueeze(0) # (1x49x512)\n",
        "\n",
        "        # Token type and attention masks -> (batch_size, visual_seq_length)\n",
        "        visual_token_type_ids = torch.ones(visual_embeds.shape[:-1], dtype=torch.long, device=device)\n",
        "        visual_attention_mask = torch.ones(visual_embeds.shape[:-1], dtype=torch.float, device=device)\n",
        "\n",
        "        # Tokenize question\n",
        "        tokenized_question = self.tokenizer(question,\n",
        "                                            return_token_type_ids=True,\n",
        "                                            return_attention_mask=True,\n",
        "                                            add_special_tokens=True,\n",
        "                                            return_tensors='pt')\n",
        "\n",
        "        # Input for the VLM model (refer to VisualBert to understand the shapes)\n",
        "        input_dict = {\n",
        "            \"visual_embeds\": visual_embeds,\n",
        "            \"visual_token_type_ids\": visual_token_type_ids,\n",
        "            \"visual_attention_mask\": visual_attention_mask,\n",
        "            \"input_ids\": tokenized_question['input_ids'].to(device),\n",
        "            \"token_type_ids\": tokenized_question['token_type_ids'].to(device),\n",
        "            \"attention_mask\": tokenized_question['attention_mask'].to(device),\n",
        "        }\n",
        "\n",
        "        # Training mode: track gradients\n",
        "        if training:\n",
        "\n",
        "            output = self.vlm(**input_dict, labels=labels_idxs)\n",
        "            logits = output.logits\n",
        "            loss = output.loss\n",
        "            attentions = output.attentions\n",
        "\n",
        "            del output\n",
        "\n",
        "        # Evaluation mode: no gradients\n",
        "        else:\n",
        "            with torch.no_grad():\n",
        "                output = self.vlm(**input_dict)\n",
        "                logits = output.logits\n",
        "\n",
        "        # # Check for memory usage\n",
        "        # print_gpu_memory()\n",
        "\n",
        "        return logits, loss, attentions"
      ],
      "metadata": {
        "id": "prExKkef7FWm"
      },
      "execution_count": 85,
      "outputs": []
    },
    {
      "cell_type": "markdown",
      "metadata": {
        "id": "Y-E0LJNJRyTG"
      },
      "source": [
        "### Define LLM & Tokenizer"
      ]
    },
    {
      "cell_type": "code",
      "execution_count": 78,
      "metadata": {
        "id": "mNvUgKd7R44i"
      },
      "outputs": [],
      "source": [
        "# Pre-trained base case for VQA provided in documentation\n",
        "# tokenizer = AutoTokenizer.from_pretrained(\"deepset/bert-base-cased-squad2\")\n",
        "# bertModel = BertForQuestionAnswering.from_pretrained(\"deepset/bert-base-cased-squad2\")\n",
        "tokenizer = AutoTokenizer.from_pretrained(\"google-bert/bert-base-uncased\")\n",
        "# Modify the visual embedding config so that size of the features matches\n",
        "configuration = VisualBertConfig.from_pretrained(\"uclanlp/visualbert-vqa\",\n",
        "                                                 visual_embedding_dim=512,\n",
        "                                                 num_labels=answers_ids_tensor.shape[0],\n",
        "                                                 output_attentions=True)\n",
        "visualBert = VisualBertForQuestionAnswering(configuration)"
      ]
    },
    {
      "cell_type": "markdown",
      "metadata": {
        "id": "uzfYKLV5RrVi"
      },
      "source": [
        "## Training Loop"
      ]
    },
    {
      "cell_type": "code",
      "execution_count": 100,
      "metadata": {
        "id": "npW_X4I3c8dI"
      },
      "outputs": [],
      "source": [
        "# Create the VQA Model and pass it to the GPU\n",
        "vqa_model = VQAModel(resnet, visualBert, tokenizer)"
      ]
    },
    {
      "cell_type": "code",
      "execution_count": 101,
      "metadata": {
        "id": "NVeBMAK4dQuQ",
        "outputId": "8acc43fc-ca40-4714-8dd9-cc29df19c804",
        "colab": {
          "base_uri": "https://localhost:8080/"
        }
      },
      "outputs": [
        {
          "output_type": "execute_result",
          "data": {
            "text/plain": [
              "VQAModel(\n",
              "  (resnet): ResNet(\n",
              "    (conv1): Conv2d(3, 64, kernel_size=(7, 7), stride=(2, 2), padding=(3, 3), bias=False)\n",
              "    (bn1): BatchNorm2d(64, eps=1e-05, momentum=0.1, affine=True, track_running_stats=True)\n",
              "    (relu): ReLU(inplace=True)\n",
              "    (maxpool): MaxPool2d(kernel_size=3, stride=2, padding=1, dilation=1, ceil_mode=False)\n",
              "    (layer1): Sequential(\n",
              "      (0): BasicBlock(\n",
              "        (conv1): Conv2d(64, 64, kernel_size=(3, 3), stride=(1, 1), padding=(1, 1), bias=False)\n",
              "        (bn1): BatchNorm2d(64, eps=1e-05, momentum=0.1, affine=True, track_running_stats=True)\n",
              "        (relu): ReLU(inplace=True)\n",
              "        (conv2): Conv2d(64, 64, kernel_size=(3, 3), stride=(1, 1), padding=(1, 1), bias=False)\n",
              "        (bn2): BatchNorm2d(64, eps=1e-05, momentum=0.1, affine=True, track_running_stats=True)\n",
              "      )\n",
              "      (1): BasicBlock(\n",
              "        (conv1): Conv2d(64, 64, kernel_size=(3, 3), stride=(1, 1), padding=(1, 1), bias=False)\n",
              "        (bn1): BatchNorm2d(64, eps=1e-05, momentum=0.1, affine=True, track_running_stats=True)\n",
              "        (relu): ReLU(inplace=True)\n",
              "        (conv2): Conv2d(64, 64, kernel_size=(3, 3), stride=(1, 1), padding=(1, 1), bias=False)\n",
              "        (bn2): BatchNorm2d(64, eps=1e-05, momentum=0.1, affine=True, track_running_stats=True)\n",
              "      )\n",
              "    )\n",
              "    (layer2): Sequential(\n",
              "      (0): BasicBlock(\n",
              "        (conv1): Conv2d(64, 128, kernel_size=(3, 3), stride=(2, 2), padding=(1, 1), bias=False)\n",
              "        (bn1): BatchNorm2d(128, eps=1e-05, momentum=0.1, affine=True, track_running_stats=True)\n",
              "        (relu): ReLU(inplace=True)\n",
              "        (conv2): Conv2d(128, 128, kernel_size=(3, 3), stride=(1, 1), padding=(1, 1), bias=False)\n",
              "        (bn2): BatchNorm2d(128, eps=1e-05, momentum=0.1, affine=True, track_running_stats=True)\n",
              "        (downsample): Sequential(\n",
              "          (0): Conv2d(64, 128, kernel_size=(1, 1), stride=(2, 2), bias=False)\n",
              "          (1): BatchNorm2d(128, eps=1e-05, momentum=0.1, affine=True, track_running_stats=True)\n",
              "        )\n",
              "      )\n",
              "      (1): BasicBlock(\n",
              "        (conv1): Conv2d(128, 128, kernel_size=(3, 3), stride=(1, 1), padding=(1, 1), bias=False)\n",
              "        (bn1): BatchNorm2d(128, eps=1e-05, momentum=0.1, affine=True, track_running_stats=True)\n",
              "        (relu): ReLU(inplace=True)\n",
              "        (conv2): Conv2d(128, 128, kernel_size=(3, 3), stride=(1, 1), padding=(1, 1), bias=False)\n",
              "        (bn2): BatchNorm2d(128, eps=1e-05, momentum=0.1, affine=True, track_running_stats=True)\n",
              "      )\n",
              "    )\n",
              "    (layer3): Sequential(\n",
              "      (0): BasicBlock(\n",
              "        (conv1): Conv2d(128, 256, kernel_size=(3, 3), stride=(2, 2), padding=(1, 1), bias=False)\n",
              "        (bn1): BatchNorm2d(256, eps=1e-05, momentum=0.1, affine=True, track_running_stats=True)\n",
              "        (relu): ReLU(inplace=True)\n",
              "        (conv2): Conv2d(256, 256, kernel_size=(3, 3), stride=(1, 1), padding=(1, 1), bias=False)\n",
              "        (bn2): BatchNorm2d(256, eps=1e-05, momentum=0.1, affine=True, track_running_stats=True)\n",
              "        (downsample): Sequential(\n",
              "          (0): Conv2d(128, 256, kernel_size=(1, 1), stride=(2, 2), bias=False)\n",
              "          (1): BatchNorm2d(256, eps=1e-05, momentum=0.1, affine=True, track_running_stats=True)\n",
              "        )\n",
              "      )\n",
              "      (1): BasicBlock(\n",
              "        (conv1): Conv2d(256, 256, kernel_size=(3, 3), stride=(1, 1), padding=(1, 1), bias=False)\n",
              "        (bn1): BatchNorm2d(256, eps=1e-05, momentum=0.1, affine=True, track_running_stats=True)\n",
              "        (relu): ReLU(inplace=True)\n",
              "        (conv2): Conv2d(256, 256, kernel_size=(3, 3), stride=(1, 1), padding=(1, 1), bias=False)\n",
              "        (bn2): BatchNorm2d(256, eps=1e-05, momentum=0.1, affine=True, track_running_stats=True)\n",
              "      )\n",
              "    )\n",
              "    (layer4): Sequential(\n",
              "      (0): BasicBlock(\n",
              "        (conv1): Conv2d(256, 512, kernel_size=(3, 3), stride=(2, 2), padding=(1, 1), bias=False)\n",
              "        (bn1): BatchNorm2d(512, eps=1e-05, momentum=0.1, affine=True, track_running_stats=True)\n",
              "        (relu): ReLU(inplace=True)\n",
              "        (conv2): Conv2d(512, 512, kernel_size=(3, 3), stride=(1, 1), padding=(1, 1), bias=False)\n",
              "        (bn2): BatchNorm2d(512, eps=1e-05, momentum=0.1, affine=True, track_running_stats=True)\n",
              "        (downsample): Sequential(\n",
              "          (0): Conv2d(256, 512, kernel_size=(1, 1), stride=(2, 2), bias=False)\n",
              "          (1): BatchNorm2d(512, eps=1e-05, momentum=0.1, affine=True, track_running_stats=True)\n",
              "        )\n",
              "      )\n",
              "      (1): BasicBlock(\n",
              "        (conv1): Conv2d(512, 512, kernel_size=(3, 3), stride=(1, 1), padding=(1, 1), bias=False)\n",
              "        (bn1): BatchNorm2d(512, eps=1e-05, momentum=0.1, affine=True, track_running_stats=True)\n",
              "        (relu): ReLU(inplace=True)\n",
              "        (conv2): Conv2d(512, 512, kernel_size=(3, 3), stride=(1, 1), padding=(1, 1), bias=False)\n",
              "        (bn2): BatchNorm2d(512, eps=1e-05, momentum=0.1, affine=True, track_running_stats=True)\n",
              "      )\n",
              "    )\n",
              "    (avgpool): Identity()\n",
              "    (fc): Identity()\n",
              "  )\n",
              "  (vlm): VisualBertForQuestionAnswering(\n",
              "    (visual_bert): VisualBertModel(\n",
              "      (embeddings): VisualBertEmbeddings(\n",
              "        (word_embeddings): Embedding(30522, 768, padding_idx=1)\n",
              "        (position_embeddings): Embedding(512, 768)\n",
              "        (token_type_embeddings): Embedding(2, 768)\n",
              "        (LayerNorm): LayerNorm((768,), eps=1e-12, elementwise_affine=True)\n",
              "        (dropout): Dropout(p=0.1, inplace=False)\n",
              "        (visual_token_type_embeddings): Embedding(2, 768)\n",
              "        (visual_position_embeddings): Embedding(512, 768)\n",
              "        (visual_projection): Linear(in_features=512, out_features=768, bias=True)\n",
              "      )\n",
              "      (encoder): VisualBertEncoder(\n",
              "        (layer): ModuleList(\n",
              "          (0-11): 12 x VisualBertLayer(\n",
              "            (attention): VisualBertAttention(\n",
              "              (self): VisualBertSelfAttention(\n",
              "                (query): Linear(in_features=768, out_features=768, bias=True)\n",
              "                (key): Linear(in_features=768, out_features=768, bias=True)\n",
              "                (value): Linear(in_features=768, out_features=768, bias=True)\n",
              "                (dropout): Dropout(p=0.1, inplace=False)\n",
              "              )\n",
              "              (output): VisualBertSelfOutput(\n",
              "                (dense): Linear(in_features=768, out_features=768, bias=True)\n",
              "                (LayerNorm): LayerNorm((768,), eps=1e-12, elementwise_affine=True)\n",
              "                (dropout): Dropout(p=0.1, inplace=False)\n",
              "              )\n",
              "            )\n",
              "            (intermediate): VisualBertIntermediate(\n",
              "              (dense): Linear(in_features=768, out_features=3072, bias=True)\n",
              "              (intermediate_act_fn): GELUActivation()\n",
              "            )\n",
              "            (output): VisualBertOutput(\n",
              "              (dense): Linear(in_features=3072, out_features=768, bias=True)\n",
              "              (LayerNorm): LayerNorm((768,), eps=1e-12, elementwise_affine=True)\n",
              "              (dropout): Dropout(p=0.1, inplace=False)\n",
              "            )\n",
              "          )\n",
              "        )\n",
              "      )\n",
              "      (pooler): VisualBertPooler(\n",
              "        (dense): Linear(in_features=768, out_features=768, bias=True)\n",
              "        (activation): Tanh()\n",
              "      )\n",
              "    )\n",
              "    (dropout): Dropout(p=0.1, inplace=False)\n",
              "    (cls): Linear(in_features=768, out_features=102, bias=True)\n",
              "  )\n",
              ")"
            ]
          },
          "metadata": {},
          "execution_count": 101
        }
      ],
      "source": [
        "device = torch.device(\"cuda\" if torch.cuda.is_available() else \"cpu\")\n",
        "vqa_model.to(device)"
      ]
    },
    {
      "cell_type": "code",
      "execution_count": 102,
      "metadata": {
        "id": "rBFSlcm-dQiS"
      },
      "outputs": [],
      "source": [
        "# Define hyperparameters\n",
        "learning_rate = 1e-4\n",
        "num_epochs = 4"
      ]
    },
    {
      "cell_type": "code",
      "execution_count": 103,
      "metadata": {
        "id": "xrFgqLKddlJk"
      },
      "outputs": [],
      "source": [
        "# Define optimizer\n",
        "optimizer = torch.optim.Adam(filter(lambda p: p.requires_grad, vqa_model.parameters()), lr=learning_rate)"
      ]
    },
    {
      "cell_type": "code",
      "source": [
        "# Extract all image features for the dataloader\n",
        "with torch.no_grad():\n",
        "    image_features = extract_image_features(vqa_model.resnet, pizarro_dataloader)"
      ],
      "metadata": {
        "id": "Gz8cJxSB9NYq"
      },
      "execution_count": 75,
      "outputs": []
    },
    {
      "cell_type": "code",
      "source": [
        "image_features.size()"
      ],
      "metadata": {
        "id": "Dq7tFNabFWxC",
        "outputId": "f0889b02-f50d-4fa9-d157-0c003b2d835a",
        "colab": {
          "base_uri": "https://localhost:8080/"
        }
      },
      "execution_count": 76,
      "outputs": [
        {
          "output_type": "execute_result",
          "data": {
            "text/plain": [
              "torch.Size([500, 7, 7, 512])"
            ]
          },
          "metadata": {},
          "execution_count": 76
        }
      ]
    },
    {
      "cell_type": "code",
      "source": [
        "# Set the model in training mode\n",
        "vqa_model.train()\n",
        "# Training loop\n",
        "for epoch in range(num_epochs):\n",
        "    total_loss = 0.0\n",
        "    num_batches = 0\n",
        "    text_results = []\n",
        "    for images, masks, questions, answers in tqdm(pizarro_dataloader, desc=f'Epoch {epoch+1}/{num_epochs}', unit='batch'):\n",
        "\n",
        "        # Track batch loss\n",
        "        batch_loss = 0.0\n",
        "\n",
        "        # Transpose questions and answers\n",
        "        questions = np.transpose(questions)\n",
        "        answers = np.transpose(answers)\n",
        "        # Store shape for iteration\n",
        "        num_images, num_questions_per_image = np.shape(questions)\n",
        "\n",
        "        # Iterate over all questions for each image\n",
        "        for image_idx in range(num_images):\n",
        "          for question_idx in range(num_questions_per_image):\n",
        "\n",
        "            # Avoid using previous gradients\n",
        "            optimizer.zero_grad()\n",
        "\n",
        "            #Forward pass\n",
        "            outputs, loss, attentions = vqa_model(image_features[image_idx], questions[image_idx,question_idx], answers_ids_tensor, training=True)\n",
        "\n",
        "            # Backpropagation\n",
        "            loss.backward()\n",
        "            optimizer.step()\n",
        "\n",
        "            batch_loss += loss.item() / (num_images * num_questions_per_image)\n",
        "\n",
        "            # Store the text predicted answers, the ground truth and corresponding question\n",
        "            probabilities = torch.softmax(outputs, dim=-1)\n",
        "            pred_idx = torch.argmax(probabilities, dim=-1)\n",
        "            pred_answer = id2label[pred_idx.item()]\n",
        "\n",
        "            text_results.append({\n",
        "                  \"Image ID\": image_idx,\n",
        "                  \"Question\": questions[image_idx,question_idx],\n",
        "                  \"Ground Truth\": answers[image_idx, question_idx],\n",
        "                  \"Prediction\": pred_answer\n",
        "                  })\n",
        "\n",
        "            # Remove unnecessary tensors from memory\n",
        "            del loss\n",
        "            del outputs\n",
        "\n",
        "        # Print batch loss\n",
        "        print(f\"Batch Loss: {batch_loss}\")\n",
        "\n",
        "        # Accumulate the total loss and num of batches\n",
        "        total_loss += batch_loss\n",
        "        num_batches += 1\n",
        "\n",
        "    # Aaverage training loss for the epoch\n",
        "    avg_loss = total_loss / num_batches\n",
        "    print(f\"Epoch {epoch + 1}, Average Loss: {avg_loss}\")\n",
        "\n",
        "    # Save trained model after each epoch\n",
        "    torch.save(vqa_model.state_dict(), f'trained_vqa_model_epoch{epoch+1}.pth')"
      ],
      "metadata": {
        "id": "HeOUYMA052Cs",
        "outputId": "60e6e4d8-0eef-4e49-db4c-bfa61645c4f4",
        "colab": {
          "base_uri": "https://localhost:8080/"
        }
      },
      "execution_count": null,
      "outputs": [
        {
          "output_type": "stream",
          "name": "stderr",
          "text": [
            "Epoch 1/4:   1%|          | 1/100 [00:38<1:04:17, 38.97s/batch]"
          ]
        },
        {
          "output_type": "stream",
          "name": "stdout",
          "text": [
            "Batch Loss: 44171.17724431821\n"
          ]
        },
        {
          "output_type": "stream",
          "name": "stderr",
          "text": [
            "\rEpoch 1/4:   2%|▏         | 2/100 [01:17<1:03:16, 38.74s/batch]"
          ]
        },
        {
          "output_type": "stream",
          "name": "stdout",
          "text": [
            "Batch Loss: 44108.14845170455\n"
          ]
        },
        {
          "output_type": "stream",
          "name": "stderr",
          "text": [
            "\rEpoch 1/4:   3%|▎         | 3/100 [01:56<1:02:25, 38.62s/batch]"
          ]
        },
        {
          "output_type": "stream",
          "name": "stdout",
          "text": [
            "Batch Loss: 44060.51004261368\n"
          ]
        },
        {
          "output_type": "stream",
          "name": "stderr",
          "text": [
            "\rEpoch 1/4:   4%|▍         | 4/100 [02:35<1:02:14, 38.91s/batch]"
          ]
        },
        {
          "output_type": "stream",
          "name": "stdout",
          "text": [
            "Batch Loss: 44040.727031249946\n"
          ]
        },
        {
          "output_type": "stream",
          "name": "stderr",
          "text": [
            "\rEpoch 1/4:   5%|▌         | 5/100 [03:13<1:01:26, 38.80s/batch]"
          ]
        },
        {
          "output_type": "stream",
          "name": "stdout",
          "text": [
            "Batch Loss: 44034.65231534094\n"
          ]
        },
        {
          "output_type": "stream",
          "name": "stderr",
          "text": [
            "\rEpoch 1/4:   6%|▌         | 6/100 [03:52<1:00:39, 38.72s/batch]"
          ]
        },
        {
          "output_type": "stream",
          "name": "stdout",
          "text": [
            "Batch Loss: 44033.52727272727\n"
          ]
        },
        {
          "output_type": "stream",
          "name": "stderr",
          "text": [
            "\rEpoch 1/4:   7%|▋         | 7/100 [04:31<59:54, 38.65s/batch]  "
          ]
        },
        {
          "output_type": "stream",
          "name": "stdout",
          "text": [
            "Batch Loss: 44032.10073153409\n"
          ]
        },
        {
          "output_type": "stream",
          "name": "stderr",
          "text": [
            "\rEpoch 1/4:   8%|▊         | 8/100 [05:09<59:11, 38.60s/batch]"
          ]
        },
        {
          "output_type": "stream",
          "name": "stdout",
          "text": [
            "Batch Loss: 44031.66097301135\n"
          ]
        },
        {
          "output_type": "stream",
          "name": "stderr",
          "text": [
            "\rEpoch 1/4:   9%|▉         | 9/100 [05:47<58:27, 38.55s/batch]"
          ]
        },
        {
          "output_type": "stream",
          "name": "stdout",
          "text": [
            "Batch Loss: 44031.32995028414\n"
          ]
        },
        {
          "output_type": "stream",
          "name": "stderr",
          "text": [
            "\rEpoch 1/4:  10%|█         | 10/100 [06:26<57:51, 38.57s/batch]"
          ]
        },
        {
          "output_type": "stream",
          "name": "stdout",
          "text": [
            "Batch Loss: 44031.482649147685\n"
          ]
        },
        {
          "output_type": "stream",
          "name": "stderr",
          "text": [
            "\rEpoch 1/4:  11%|█         | 11/100 [07:05<57:16, 38.62s/batch]"
          ]
        },
        {
          "output_type": "stream",
          "name": "stdout",
          "text": [
            "Batch Loss: 44030.87265624994\n"
          ]
        },
        {
          "output_type": "stream",
          "name": "stderr",
          "text": [
            "\rEpoch 1/4:  12%|█▏        | 12/100 [07:44<56:46, 38.71s/batch]"
          ]
        },
        {
          "output_type": "stream",
          "name": "stdout",
          "text": [
            "Batch Loss: 44030.582919034074\n"
          ]
        },
        {
          "output_type": "stream",
          "name": "stderr",
          "text": [
            "\rEpoch 1/4:  13%|█▎        | 13/100 [08:22<56:00, 38.62s/batch]"
          ]
        },
        {
          "output_type": "stream",
          "name": "stdout",
          "text": [
            "Batch Loss: 44029.43470880685\n"
          ]
        },
        {
          "output_type": "stream",
          "name": "stderr",
          "text": [
            "\rEpoch 1/4:  14%|█▍        | 14/100 [09:01<55:15, 38.55s/batch]"
          ]
        },
        {
          "output_type": "stream",
          "name": "stdout",
          "text": [
            "Batch Loss: 44029.9370738637\n"
          ]
        },
        {
          "output_type": "stream",
          "name": "stderr",
          "text": [
            "\rEpoch 1/4:  15%|█▌        | 15/100 [09:42<55:47, 39.39s/batch]"
          ]
        },
        {
          "output_type": "stream",
          "name": "stdout",
          "text": [
            "Batch Loss: 44029.17401988636\n"
          ]
        },
        {
          "output_type": "stream",
          "name": "stderr",
          "text": [
            "\rEpoch 1/4:  16%|█▌        | 16/100 [10:20<54:44, 39.10s/batch]"
          ]
        },
        {
          "output_type": "stream",
          "name": "stdout",
          "text": [
            "Batch Loss: 44028.2779119318\n"
          ]
        },
        {
          "output_type": "stream",
          "name": "stderr",
          "text": [
            "\rEpoch 1/4:  17%|█▋        | 17/100 [10:59<53:45, 38.86s/batch]"
          ]
        },
        {
          "output_type": "stream",
          "name": "stdout",
          "text": [
            "Batch Loss: 44027.74629261363\n"
          ]
        },
        {
          "output_type": "stream",
          "name": "stderr",
          "text": [
            "\rEpoch 1/4:  18%|█▊        | 18/100 [11:37<52:54, 38.71s/batch]"
          ]
        },
        {
          "output_type": "stream",
          "name": "stdout",
          "text": [
            "Batch Loss: 44028.13443892047\n"
          ]
        },
        {
          "output_type": "stream",
          "name": "stderr",
          "text": [
            "\rEpoch 1/4:  19%|█▉        | 19/100 [12:16<52:17, 38.74s/batch]"
          ]
        },
        {
          "output_type": "stream",
          "name": "stdout",
          "text": [
            "Batch Loss: 44027.361654829576\n"
          ]
        },
        {
          "output_type": "stream",
          "name": "stderr",
          "text": [
            "\rEpoch 1/4:  20%|██        | 20/100 [12:54<51:30, 38.64s/batch]"
          ]
        },
        {
          "output_type": "stream",
          "name": "stdout",
          "text": [
            "Batch Loss: 44027.06598721592\n"
          ]
        },
        {
          "output_type": "stream",
          "name": "stderr",
          "text": [
            "\rEpoch 1/4:  21%|██        | 21/100 [13:33<50:45, 38.54s/batch]"
          ]
        },
        {
          "output_type": "stream",
          "name": "stdout",
          "text": [
            "Batch Loss: 44026.67550426139\n"
          ]
        },
        {
          "output_type": "stream",
          "name": "stderr",
          "text": [
            "\rEpoch 1/4:  22%|██▏       | 22/100 [14:11<50:04, 38.52s/batch]"
          ]
        },
        {
          "output_type": "stream",
          "name": "stdout",
          "text": [
            "Batch Loss: 44026.52116477274\n"
          ]
        },
        {
          "output_type": "stream",
          "name": "stderr",
          "text": [
            "\rEpoch 1/4:  23%|██▎       | 23/100 [14:49<49:24, 38.50s/batch]"
          ]
        },
        {
          "output_type": "stream",
          "name": "stdout",
          "text": [
            "Batch Loss: 44026.57914772728\n"
          ]
        },
        {
          "output_type": "stream",
          "name": "stderr",
          "text": [
            "\rEpoch 1/4:  24%|██▍       | 24/100 [15:28<48:40, 38.43s/batch]"
          ]
        },
        {
          "output_type": "stream",
          "name": "stdout",
          "text": [
            "Batch Loss: 44026.62524857953\n"
          ]
        },
        {
          "output_type": "stream",
          "name": "stderr",
          "text": [
            "\rEpoch 1/4:  25%|██▌       | 25/100 [16:06<48:02, 38.43s/batch]"
          ]
        },
        {
          "output_type": "stream",
          "name": "stdout",
          "text": [
            "Batch Loss: 44026.44571732949\n"
          ]
        },
        {
          "output_type": "stream",
          "name": "stderr",
          "text": [
            "\rEpoch 1/4:  26%|██▌       | 26/100 [16:45<47:38, 38.63s/batch]"
          ]
        },
        {
          "output_type": "stream",
          "name": "stdout",
          "text": [
            "Batch Loss: 44026.27149857956\n"
          ]
        },
        {
          "output_type": "stream",
          "name": "stderr",
          "text": [
            "\rEpoch 1/4:  27%|██▋       | 27/100 [17:23<46:51, 38.51s/batch]"
          ]
        },
        {
          "output_type": "stream",
          "name": "stdout",
          "text": [
            "Batch Loss: 44026.257663352306\n"
          ]
        },
        {
          "output_type": "stream",
          "name": "stderr",
          "text": [
            "\rEpoch 1/4:  28%|██▊       | 28/100 [18:02<46:11, 38.50s/batch]"
          ]
        },
        {
          "output_type": "stream",
          "name": "stdout",
          "text": [
            "Batch Loss: 44026.22627130682\n"
          ]
        },
        {
          "output_type": "stream",
          "name": "stderr",
          "text": [
            "\rEpoch 1/4:  29%|██▉       | 29/100 [18:40<45:30, 38.46s/batch]"
          ]
        },
        {
          "output_type": "stream",
          "name": "stdout",
          "text": [
            "Batch Loss: 44026.24654829548\n"
          ]
        },
        {
          "output_type": "stream",
          "name": "stderr",
          "text": [
            "\rEpoch 1/4:  30%|███       | 30/100 [19:19<44:50, 38.43s/batch]"
          ]
        },
        {
          "output_type": "stream",
          "name": "stdout",
          "text": [
            "Batch Loss: 44026.05453125001\n"
          ]
        },
        {
          "output_type": "stream",
          "name": "stderr",
          "text": [
            "\rEpoch 1/4:  31%|███       | 31/100 [19:57<44:13, 38.46s/batch]"
          ]
        },
        {
          "output_type": "stream",
          "name": "stdout",
          "text": [
            "Batch Loss: 44026.13594460226\n"
          ]
        },
        {
          "output_type": "stream",
          "name": "stderr",
          "text": [
            "\rEpoch 1/4:  32%|███▏      | 32/100 [20:36<43:33, 38.43s/batch]"
          ]
        },
        {
          "output_type": "stream",
          "name": "stdout",
          "text": [
            "Batch Loss: 44026.153615056784\n"
          ]
        },
        {
          "output_type": "stream",
          "name": "stderr",
          "text": [
            "\rEpoch 1/4:  33%|███▎      | 33/100 [21:15<43:10, 38.66s/batch]"
          ]
        },
        {
          "output_type": "stream",
          "name": "stdout",
          "text": [
            "Batch Loss: 44026.07509943182\n"
          ]
        },
        {
          "output_type": "stream",
          "name": "stderr",
          "text": [
            "\rEpoch 1/4:  34%|███▍      | 34/100 [21:53<42:27, 38.59s/batch]"
          ]
        },
        {
          "output_type": "stream",
          "name": "stdout",
          "text": [
            "Batch Loss: 44026.06298295449\n"
          ]
        },
        {
          "output_type": "stream",
          "name": "stderr",
          "text": [
            "\rEpoch 1/4:  35%|███▌      | 35/100 [22:32<41:43, 38.52s/batch]"
          ]
        },
        {
          "output_type": "stream",
          "name": "stdout",
          "text": [
            "Batch Loss: 44199.255909090934\n"
          ]
        },
        {
          "output_type": "stream",
          "name": "stderr",
          "text": [
            "\rEpoch 1/4:  36%|███▌      | 36/100 [23:10<41:05, 38.53s/batch]"
          ]
        },
        {
          "output_type": "stream",
          "name": "stdout",
          "text": [
            "Batch Loss: 44026.47301846591\n"
          ]
        },
        {
          "output_type": "stream",
          "name": "stderr",
          "text": [
            "\rEpoch 1/4:  37%|███▋      | 37/100 [23:49<40:30, 38.58s/batch]"
          ]
        },
        {
          "output_type": "stream",
          "name": "stdout",
          "text": [
            "Batch Loss: 44026.05890624998\n"
          ]
        },
        {
          "output_type": "stream",
          "name": "stderr",
          "text": [
            "\rEpoch 1/4:  38%|███▊      | 38/100 [24:27<39:51, 38.58s/batch]"
          ]
        },
        {
          "output_type": "stream",
          "name": "stdout",
          "text": [
            "Batch Loss: 44025.90693181814\n"
          ]
        },
        {
          "output_type": "stream",
          "name": "stderr",
          "text": [
            "\rEpoch 1/4:  39%|███▉      | 39/100 [25:06<39:11, 38.55s/batch]"
          ]
        },
        {
          "output_type": "stream",
          "name": "stdout",
          "text": [
            "Batch Loss: 44028.05885653406\n"
          ]
        },
        {
          "output_type": "stream",
          "name": "stderr",
          "text": [
            "\rEpoch 1/4:  40%|████      | 40/100 [25:45<38:40, 38.68s/batch]"
          ]
        },
        {
          "output_type": "stream",
          "name": "stdout",
          "text": [
            "Batch Loss: 44026.16563920451\n"
          ]
        },
        {
          "output_type": "stream",
          "name": "stderr",
          "text": [
            "\rEpoch 1/4:  41%|████      | 41/100 [26:23<37:59, 38.64s/batch]"
          ]
        },
        {
          "output_type": "stream",
          "name": "stdout",
          "text": [
            "Batch Loss: 44025.95336647728\n"
          ]
        },
        {
          "output_type": "stream",
          "name": "stderr",
          "text": [
            "\rEpoch 1/4:  42%|████▏     | 42/100 [27:02<37:17, 38.58s/batch]"
          ]
        },
        {
          "output_type": "stream",
          "name": "stdout",
          "text": [
            "Batch Loss: 44025.92977272728\n"
          ]
        },
        {
          "output_type": "stream",
          "name": "stderr",
          "text": [
            "\rEpoch 1/4:  43%|████▎     | 43/100 [27:40<36:36, 38.53s/batch]"
          ]
        },
        {
          "output_type": "stream",
          "name": "stdout",
          "text": [
            "Batch Loss: 44025.90051136368\n"
          ]
        },
        {
          "output_type": "stream",
          "name": "stderr",
          "text": [
            "\rEpoch 1/4:  44%|████▍     | 44/100 [28:19<35:59, 38.55s/batch]"
          ]
        },
        {
          "output_type": "stream",
          "name": "stdout",
          "text": [
            "Batch Loss: 44025.812102272714\n"
          ]
        },
        {
          "output_type": "stream",
          "name": "stderr",
          "text": [
            "\rEpoch 1/4:  45%|████▌     | 45/100 [28:58<35:22, 38.59s/batch]"
          ]
        },
        {
          "output_type": "stream",
          "name": "stdout",
          "text": [
            "Batch Loss: 44028.008664772744\n"
          ]
        },
        {
          "output_type": "stream",
          "name": "stderr",
          "text": [
            "\rEpoch 1/4:  46%|████▌     | 46/100 [29:36<34:41, 38.55s/batch]"
          ]
        },
        {
          "output_type": "stream",
          "name": "stdout",
          "text": [
            "Batch Loss: 44026.05664772732\n"
          ]
        },
        {
          "output_type": "stream",
          "name": "stderr",
          "text": [
            "\rEpoch 1/4:  47%|████▋     | 47/100 [30:15<34:04, 38.57s/batch]"
          ]
        },
        {
          "output_type": "stream",
          "name": "stdout",
          "text": [
            "Batch Loss: 44025.93539062499\n"
          ]
        },
        {
          "output_type": "stream",
          "name": "stderr",
          "text": [
            "\rEpoch 1/4:  48%|████▊     | 48/100 [30:54<33:37, 38.80s/batch]"
          ]
        },
        {
          "output_type": "stream",
          "name": "stdout",
          "text": [
            "Batch Loss: 44025.875646306806\n"
          ]
        },
        {
          "output_type": "stream",
          "name": "stderr",
          "text": [
            "\rEpoch 1/4:  49%|████▉     | 49/100 [31:33<32:56, 38.75s/batch]"
          ]
        },
        {
          "output_type": "stream",
          "name": "stdout",
          "text": [
            "Batch Loss: 44025.80014914773\n"
          ]
        },
        {
          "output_type": "stream",
          "name": "stderr",
          "text": [
            "\rEpoch 1/4:  50%|█████     | 50/100 [32:11<32:15, 38.72s/batch]"
          ]
        },
        {
          "output_type": "stream",
          "name": "stdout",
          "text": [
            "Batch Loss: 44025.86726562495\n"
          ]
        },
        {
          "output_type": "stream",
          "name": "stderr",
          "text": [
            "\rEpoch 1/4:  51%|█████     | 51/100 [32:50<31:37, 38.72s/batch]"
          ]
        },
        {
          "output_type": "stream",
          "name": "stdout",
          "text": [
            "Batch Loss: 44025.939062500016\n"
          ]
        },
        {
          "output_type": "stream",
          "name": "stderr",
          "text": [
            "\rEpoch 1/4:  52%|█████▏    | 52/100 [33:29<31:04, 38.84s/batch]"
          ]
        },
        {
          "output_type": "stream",
          "name": "stdout",
          "text": [
            "Batch Loss: 44025.885014204534\n"
          ]
        },
        {
          "output_type": "stream",
          "name": "stderr",
          "text": [
            "\rEpoch 1/4:  53%|█████▎    | 53/100 [34:09<30:34, 39.04s/batch]"
          ]
        },
        {
          "output_type": "stream",
          "name": "stdout",
          "text": [
            "Batch Loss: 44025.80456676132\n"
          ]
        },
        {
          "output_type": "stream",
          "name": "stderr",
          "text": [
            "\rEpoch 1/4:  54%|█████▍    | 54/100 [34:47<29:48, 38.88s/batch]"
          ]
        },
        {
          "output_type": "stream",
          "name": "stdout",
          "text": [
            "Batch Loss: 44025.78911931814\n"
          ]
        },
        {
          "output_type": "stream",
          "name": "stderr",
          "text": [
            "\rEpoch 1/4:  55%|█████▌    | 55/100 [35:26<29:15, 39.01s/batch]"
          ]
        },
        {
          "output_type": "stream",
          "name": "stdout",
          "text": [
            "Batch Loss: 44025.8509232955\n"
          ]
        },
        {
          "output_type": "stream",
          "name": "stderr",
          "text": [
            "\rEpoch 1/4:  56%|█████▌    | 56/100 [36:05<28:31, 38.90s/batch]"
          ]
        },
        {
          "output_type": "stream",
          "name": "stdout",
          "text": [
            "Batch Loss: 44025.8880894886\n"
          ]
        },
        {
          "output_type": "stream",
          "name": "stderr",
          "text": [
            "\rEpoch 1/4:  57%|█████▋    | 57/100 [36:43<27:46, 38.77s/batch]"
          ]
        },
        {
          "output_type": "stream",
          "name": "stdout",
          "text": [
            "Batch Loss: 44025.90212357952\n"
          ]
        },
        {
          "output_type": "stream",
          "name": "stderr",
          "text": [
            "\rEpoch 1/4:  58%|█████▊    | 58/100 [37:22<27:06, 38.72s/batch]"
          ]
        },
        {
          "output_type": "stream",
          "name": "stdout",
          "text": [
            "Batch Loss: 44025.88813920455\n"
          ]
        },
        {
          "output_type": "stream",
          "name": "stderr",
          "text": [
            "\rEpoch 1/4:  59%|█████▉    | 59/100 [38:01<26:27, 38.72s/batch]"
          ]
        },
        {
          "output_type": "stream",
          "name": "stdout",
          "text": [
            "Batch Loss: 44025.88507812496\n"
          ]
        },
        {
          "output_type": "stream",
          "name": "stderr",
          "text": [
            "\rEpoch 1/4:  60%|██████    | 60/100 [38:40<25:50, 38.76s/batch]"
          ]
        },
        {
          "output_type": "stream",
          "name": "stdout",
          "text": [
            "Batch Loss: 44025.81292613638\n"
          ]
        },
        {
          "output_type": "stream",
          "name": "stderr",
          "text": [
            "\rEpoch 1/4:  61%|██████    | 61/100 [39:18<25:11, 38.76s/batch]"
          ]
        },
        {
          "output_type": "stream",
          "name": "stdout",
          "text": [
            "Batch Loss: 44025.79260653407\n"
          ]
        },
        {
          "output_type": "stream",
          "name": "stderr",
          "text": [
            "\rEpoch 1/4:  62%|██████▏   | 62/100 [39:58<24:36, 38.86s/batch]"
          ]
        },
        {
          "output_type": "stream",
          "name": "stdout",
          "text": [
            "Batch Loss: 44025.816874999975\n"
          ]
        },
        {
          "output_type": "stream",
          "name": "stderr",
          "text": [
            "\rEpoch 1/4:  63%|██████▎   | 63/100 [40:36<23:52, 38.73s/batch]"
          ]
        },
        {
          "output_type": "stream",
          "name": "stdout",
          "text": [
            "Batch Loss: 44025.84240767046\n"
          ]
        },
        {
          "output_type": "stream",
          "name": "stderr",
          "text": [
            "\rEpoch 1/4:  64%|██████▍   | 64/100 [41:14<23:11, 38.65s/batch]"
          ]
        },
        {
          "output_type": "stream",
          "name": "stdout",
          "text": [
            "Batch Loss: 44025.76623579546\n"
          ]
        },
        {
          "output_type": "stream",
          "name": "stderr",
          "text": [
            "\rEpoch 1/4:  65%|██████▌   | 65/100 [41:53<22:33, 38.67s/batch]"
          ]
        },
        {
          "output_type": "stream",
          "name": "stdout",
          "text": [
            "Batch Loss: 44025.72677556819\n"
          ]
        },
        {
          "output_type": "stream",
          "name": "stderr",
          "text": [
            "\rEpoch 1/4:  66%|██████▌   | 66/100 [42:32<21:58, 38.79s/batch]"
          ]
        },
        {
          "output_type": "stream",
          "name": "stdout",
          "text": [
            "Batch Loss: 44025.74638494315\n"
          ]
        },
        {
          "output_type": "stream",
          "name": "stderr",
          "text": [
            "\rEpoch 1/4:  67%|██████▋   | 67/100 [43:11<21:20, 38.81s/batch]"
          ]
        },
        {
          "output_type": "stream",
          "name": "stdout",
          "text": [
            "Batch Loss: 44025.747315341\n"
          ]
        },
        {
          "output_type": "stream",
          "name": "stderr",
          "text": [
            "\rEpoch 1/4:  68%|██████▊   | 68/100 [43:50<20:41, 38.80s/batch]"
          ]
        },
        {
          "output_type": "stream",
          "name": "stdout",
          "text": [
            "Batch Loss: 44025.7561150568\n"
          ]
        },
        {
          "output_type": "stream",
          "name": "stderr",
          "text": [
            "\rEpoch 1/4:  69%|██████▉   | 69/100 [44:29<20:06, 38.93s/batch]"
          ]
        },
        {
          "output_type": "stream",
          "name": "stdout",
          "text": [
            "Batch Loss: 44025.810113636326\n"
          ]
        },
        {
          "output_type": "stream",
          "name": "stderr",
          "text": [
            "\rEpoch 1/4:  70%|███████   | 70/100 [45:08<19:23, 38.79s/batch]"
          ]
        },
        {
          "output_type": "stream",
          "name": "stdout",
          "text": [
            "Batch Loss: 44025.680546874995\n"
          ]
        },
        {
          "output_type": "stream",
          "name": "stderr",
          "text": [
            "\rEpoch 1/4:  71%|███████   | 71/100 [45:46<18:44, 38.78s/batch]"
          ]
        },
        {
          "output_type": "stream",
          "name": "stdout",
          "text": [
            "Batch Loss: 44027.770234375\n"
          ]
        },
        {
          "output_type": "stream",
          "name": "stderr",
          "text": [
            "\rEpoch 1/4:  72%|███████▏  | 72/100 [46:25<18:09, 38.91s/batch]"
          ]
        },
        {
          "output_type": "stream",
          "name": "stdout",
          "text": [
            "Batch Loss: 44025.79705965909\n"
          ]
        },
        {
          "output_type": "stream",
          "name": "stderr",
          "text": [
            "\rEpoch 1/4:  73%|███████▎  | 73/100 [47:05<17:34, 39.04s/batch]"
          ]
        },
        {
          "output_type": "stream",
          "name": "stdout",
          "text": [
            "Batch Loss: 44025.731754261345\n"
          ]
        },
        {
          "output_type": "stream",
          "name": "stderr",
          "text": [
            "\rEpoch 1/4:  74%|███████▍  | 74/100 [47:44<16:57, 39.14s/batch]"
          ]
        },
        {
          "output_type": "stream",
          "name": "stdout",
          "text": [
            "Batch Loss: 44025.724105113615\n"
          ]
        },
        {
          "output_type": "stream",
          "name": "stderr",
          "text": [
            "\rEpoch 1/4:  75%|███████▌  | 75/100 [48:24<16:20, 39.21s/batch]"
          ]
        },
        {
          "output_type": "stream",
          "name": "stdout",
          "text": [
            "Batch Loss: 44025.653316761345\n"
          ]
        },
        {
          "output_type": "stream",
          "name": "stderr",
          "text": [
            "\rEpoch 1/4:  76%|███████▌  | 76/100 [49:04<15:47, 39.49s/batch]"
          ]
        },
        {
          "output_type": "stream",
          "name": "stdout",
          "text": [
            "Batch Loss: 44025.711384943155\n"
          ]
        },
        {
          "output_type": "stream",
          "name": "stderr",
          "text": [
            "\rEpoch 1/4:  77%|███████▋  | 77/100 [49:43<15:07, 39.44s/batch]"
          ]
        },
        {
          "output_type": "stream",
          "name": "stdout",
          "text": [
            "Batch Loss: 44025.668281249986\n"
          ]
        },
        {
          "output_type": "stream",
          "name": "stderr",
          "text": [
            "\rEpoch 1/4:  78%|███████▊  | 78/100 [50:22<14:25, 39.32s/batch]"
          ]
        },
        {
          "output_type": "stream",
          "name": "stdout",
          "text": [
            "Batch Loss: 44025.666839488666\n"
          ]
        },
        {
          "output_type": "stream",
          "name": "stderr",
          "text": [
            "\rEpoch 1/4:  79%|███████▉  | 79/100 [51:01<13:44, 39.24s/batch]"
          ]
        },
        {
          "output_type": "stream",
          "name": "stdout",
          "text": [
            "Batch Loss: 44025.61546874996\n"
          ]
        },
        {
          "output_type": "stream",
          "name": "stderr",
          "text": [
            "\rEpoch 1/4:  80%|████████  | 80/100 [51:40<13:02, 39.14s/batch]"
          ]
        },
        {
          "output_type": "stream",
          "name": "stdout",
          "text": [
            "Batch Loss: 44025.7116122159\n"
          ]
        },
        {
          "output_type": "stream",
          "name": "stderr",
          "text": [
            "\rEpoch 1/4:  81%|████████  | 81/100 [52:19<12:20, 38.95s/batch]"
          ]
        },
        {
          "output_type": "stream",
          "name": "stdout",
          "text": [
            "Batch Loss: 44025.64769886361\n"
          ]
        },
        {
          "output_type": "stream",
          "name": "stderr",
          "text": [
            "\rEpoch 1/4:  82%|████████▏ | 82/100 [52:58<11:42, 39.03s/batch]"
          ]
        },
        {
          "output_type": "stream",
          "name": "stdout",
          "text": [
            "Batch Loss: 44025.67681818174\n"
          ]
        },
        {
          "output_type": "stream",
          "name": "stderr",
          "text": [
            "\rEpoch 1/4:  83%|████████▎ | 83/100 [53:37<11:05, 39.16s/batch]"
          ]
        },
        {
          "output_type": "stream",
          "name": "stdout",
          "text": [
            "Batch Loss: 44025.7251207386\n"
          ]
        },
        {
          "output_type": "stream",
          "name": "stderr",
          "text": [
            "\rEpoch 1/4:  84%|████████▍ | 84/100 [54:16<10:23, 38.97s/batch]"
          ]
        },
        {
          "output_type": "stream",
          "name": "stdout",
          "text": [
            "Batch Loss: 44027.484438920445\n"
          ]
        },
        {
          "output_type": "stream",
          "name": "stderr",
          "text": [
            "\rEpoch 1/4:  85%|████████▌ | 85/100 [54:54<09:41, 38.78s/batch]"
          ]
        },
        {
          "output_type": "stream",
          "name": "stdout",
          "text": [
            "Batch Loss: 44025.83434659089\n"
          ]
        },
        {
          "output_type": "stream",
          "name": "stderr",
          "text": [
            "\rEpoch 1/4:  86%|████████▌ | 86/100 [55:32<08:59, 38.55s/batch]"
          ]
        },
        {
          "output_type": "stream",
          "name": "stdout",
          "text": [
            "Batch Loss: 44025.70987215909\n"
          ]
        },
        {
          "output_type": "stream",
          "name": "stderr",
          "text": [
            "\rEpoch 1/4:  87%|████████▋ | 87/100 [56:10<08:19, 38.41s/batch]"
          ]
        },
        {
          "output_type": "stream",
          "name": "stdout",
          "text": [
            "Batch Loss: 44025.68328835232\n"
          ]
        },
        {
          "output_type": "stream",
          "name": "stderr",
          "text": [
            "\rEpoch 1/4:  88%|████████▊ | 88/100 [56:48<07:39, 38.29s/batch]"
          ]
        },
        {
          "output_type": "stream",
          "name": "stdout",
          "text": [
            "Batch Loss: 44025.65409801136\n"
          ]
        },
        {
          "output_type": "stream",
          "name": "stderr",
          "text": [
            "\rEpoch 1/4:  89%|████████▉ | 89/100 [57:26<06:59, 38.12s/batch]"
          ]
        },
        {
          "output_type": "stream",
          "name": "stdout",
          "text": [
            "Batch Loss: 44025.659403409096\n"
          ]
        },
        {
          "output_type": "stream",
          "name": "stderr",
          "text": [
            "\rEpoch 1/4:  90%|█████████ | 90/100 [58:04<06:22, 38.22s/batch]"
          ]
        },
        {
          "output_type": "stream",
          "name": "stdout",
          "text": [
            "Batch Loss: 44025.66472301139\n"
          ]
        },
        {
          "output_type": "stream",
          "name": "stderr",
          "text": [
            "\rEpoch 1/4:  91%|█████████ | 91/100 [58:42<05:43, 38.12s/batch]"
          ]
        },
        {
          "output_type": "stream",
          "name": "stdout",
          "text": [
            "Batch Loss: 44025.626470170486\n"
          ]
        },
        {
          "output_type": "stream",
          "name": "stderr",
          "text": [
            "\rEpoch 1/4:  92%|█████████▏| 92/100 [59:20<05:04, 38.08s/batch]"
          ]
        },
        {
          "output_type": "stream",
          "name": "stdout",
          "text": [
            "Batch Loss: 44025.69154119321\n"
          ]
        },
        {
          "output_type": "stream",
          "name": "stderr",
          "text": [
            "\rEpoch 1/4:  93%|█████████▎| 93/100 [59:58<04:26, 38.05s/batch]"
          ]
        },
        {
          "output_type": "stream",
          "name": "stdout",
          "text": [
            "Batch Loss: 44025.59338778414\n"
          ]
        },
        {
          "output_type": "stream",
          "name": "stderr",
          "text": [
            "\rEpoch 1/4:  94%|█████████▍| 94/100 [1:00:36<03:48, 38.04s/batch]"
          ]
        },
        {
          "output_type": "stream",
          "name": "stdout",
          "text": [
            "Batch Loss: 44025.64416193182\n"
          ]
        },
        {
          "output_type": "stream",
          "name": "stderr",
          "text": [
            "\rEpoch 1/4:  95%|█████████▌| 95/100 [1:01:14<03:10, 38.08s/batch]"
          ]
        },
        {
          "output_type": "stream",
          "name": "stdout",
          "text": [
            "Batch Loss: 44025.62390625001\n"
          ]
        },
        {
          "output_type": "stream",
          "name": "stderr",
          "text": [
            "\rEpoch 1/4:  96%|█████████▌| 96/100 [1:01:53<02:32, 38.08s/batch]"
          ]
        },
        {
          "output_type": "stream",
          "name": "stdout",
          "text": [
            "Batch Loss: 44025.61797585229\n"
          ]
        },
        {
          "output_type": "stream",
          "name": "stderr",
          "text": [
            "\rEpoch 1/4:  97%|█████████▋| 97/100 [1:02:31<01:54, 38.23s/batch]"
          ]
        },
        {
          "output_type": "stream",
          "name": "stdout",
          "text": [
            "Batch Loss: 44025.68458806814\n"
          ]
        },
        {
          "output_type": "stream",
          "name": "stderr",
          "text": [
            "\rEpoch 1/4:  98%|█████████▊| 98/100 [1:03:09<01:16, 38.26s/batch]"
          ]
        },
        {
          "output_type": "stream",
          "name": "stdout",
          "text": [
            "Batch Loss: 44025.69909090909\n"
          ]
        },
        {
          "output_type": "stream",
          "name": "stderr",
          "text": [
            "\rEpoch 1/4:  99%|█████████▉| 99/100 [1:03:48<00:38, 38.35s/batch]"
          ]
        },
        {
          "output_type": "stream",
          "name": "stdout",
          "text": [
            "Batch Loss: 44025.683728693184\n"
          ]
        },
        {
          "output_type": "stream",
          "name": "stderr",
          "text": [
            "Epoch 1/4: 100%|██████████| 100/100 [1:04:26<00:00, 38.67s/batch]"
          ]
        },
        {
          "output_type": "stream",
          "name": "stdout",
          "text": [
            "Batch Loss: 44025.711875\n",
            "Epoch 1, Average Loss: 44031.15991051135\n"
          ]
        },
        {
          "output_type": "stream",
          "name": "stderr",
          "text": [
            "\n",
            "Epoch 2/4:   1%|          | 1/100 [00:38<1:03:47, 38.66s/batch]"
          ]
        },
        {
          "output_type": "stream",
          "name": "stdout",
          "text": [
            "Batch Loss: 44025.59703835222\n"
          ]
        },
        {
          "output_type": "stream",
          "name": "stderr",
          "text": [
            "\rEpoch 2/4:   2%|▏         | 2/100 [01:18<1:03:48, 39.06s/batch]"
          ]
        },
        {
          "output_type": "stream",
          "name": "stdout",
          "text": [
            "Batch Loss: 44025.65438210227\n"
          ]
        },
        {
          "output_type": "stream",
          "name": "stderr",
          "text": [
            "\rEpoch 2/4:   3%|▎         | 3/100 [01:57<1:03:30, 39.28s/batch]"
          ]
        },
        {
          "output_type": "stream",
          "name": "stdout",
          "text": [
            "Batch Loss: 44025.64317471594\n"
          ]
        },
        {
          "output_type": "stream",
          "name": "stderr",
          "text": [
            "\rEpoch 2/4:   4%|▍         | 4/100 [02:36<1:02:38, 39.15s/batch]"
          ]
        },
        {
          "output_type": "stream",
          "name": "stdout",
          "text": [
            "Batch Loss: 44025.659893465876\n"
          ]
        },
        {
          "output_type": "stream",
          "name": "stderr",
          "text": [
            "\rEpoch 2/4:   5%|▌         | 5/100 [03:14<1:01:18, 38.72s/batch]"
          ]
        },
        {
          "output_type": "stream",
          "name": "stdout",
          "text": [
            "Batch Loss: 44025.6290625\n"
          ]
        },
        {
          "output_type": "stream",
          "name": "stderr",
          "text": [
            "\rEpoch 2/4:   6%|▌         | 6/100 [03:52<1:00:17, 38.48s/batch]"
          ]
        },
        {
          "output_type": "stream",
          "name": "stdout",
          "text": [
            "Batch Loss: 44025.63183238637\n"
          ]
        },
        {
          "output_type": "stream",
          "name": "stderr",
          "text": [
            "\rEpoch 2/4:   7%|▋         | 7/100 [04:30<59:24, 38.33s/batch]  "
          ]
        },
        {
          "output_type": "stream",
          "name": "stdout",
          "text": [
            "Batch Loss: 44025.58367187499\n"
          ]
        },
        {
          "output_type": "stream",
          "name": "stderr",
          "text": [
            "\rEpoch 2/4:   8%|▊         | 8/100 [05:08<58:40, 38.27s/batch]"
          ]
        },
        {
          "output_type": "stream",
          "name": "stdout",
          "text": [
            "Batch Loss: 44025.59216619322\n"
          ]
        },
        {
          "output_type": "stream",
          "name": "stderr",
          "text": [
            "\rEpoch 2/4:   9%|▉         | 9/100 [05:46<57:55, 38.19s/batch]"
          ]
        },
        {
          "output_type": "stream",
          "name": "stdout",
          "text": [
            "Batch Loss: 44025.6188991477\n"
          ]
        },
        {
          "output_type": "stream",
          "name": "stderr",
          "text": [
            "\rEpoch 2/4:  10%|█         | 10/100 [06:24<57:15, 38.17s/batch]"
          ]
        },
        {
          "output_type": "stream",
          "name": "stdout",
          "text": [
            "Batch Loss: 44025.59686079541\n"
          ]
        },
        {
          "output_type": "stream",
          "name": "stderr",
          "text": [
            "\rEpoch 2/4:  11%|█         | 11/100 [07:03<56:53, 38.35s/batch]"
          ]
        },
        {
          "output_type": "stream",
          "name": "stdout",
          "text": [
            "Batch Loss: 44025.595738636315\n"
          ]
        },
        {
          "output_type": "stream",
          "name": "stderr",
          "text": [
            "\rEpoch 2/4:  12%|█▏        | 12/100 [07:41<56:04, 38.23s/batch]"
          ]
        },
        {
          "output_type": "stream",
          "name": "stdout",
          "text": [
            "Batch Loss: 44025.6171235795\n"
          ]
        },
        {
          "output_type": "stream",
          "name": "stderr",
          "text": [
            "\rEpoch 2/4:  13%|█▎        | 13/100 [08:19<55:12, 38.08s/batch]"
          ]
        },
        {
          "output_type": "stream",
          "name": "stdout",
          "text": [
            "Batch Loss: 44025.64139204544\n"
          ]
        },
        {
          "output_type": "stream",
          "name": "stderr",
          "text": [
            "\rEpoch 2/4:  14%|█▍        | 14/100 [08:56<54:22, 37.94s/batch]"
          ]
        },
        {
          "output_type": "stream",
          "name": "stdout",
          "text": [
            "Batch Loss: 44025.59856534091\n"
          ]
        },
        {
          "output_type": "stream",
          "name": "stderr",
          "text": [
            "\rEpoch 2/4:  15%|█▌        | 15/100 [09:34<53:42, 37.91s/batch]"
          ]
        },
        {
          "output_type": "stream",
          "name": "stdout",
          "text": [
            "Batch Loss: 44025.59203835227\n"
          ]
        },
        {
          "output_type": "stream",
          "name": "stderr",
          "text": [
            "\rEpoch 2/4:  16%|█▌        | 16/100 [10:12<52:59, 37.85s/batch]"
          ]
        },
        {
          "output_type": "stream",
          "name": "stdout",
          "text": [
            "Batch Loss: 44025.59519886369\n"
          ]
        },
        {
          "output_type": "stream",
          "name": "stderr",
          "text": [
            "\rEpoch 2/4:  17%|█▋        | 17/100 [10:50<52:18, 37.81s/batch]"
          ]
        },
        {
          "output_type": "stream",
          "name": "stdout",
          "text": [
            "Batch Loss: 44025.58408380678\n"
          ]
        },
        {
          "output_type": "stream",
          "name": "stderr",
          "text": [
            "\rEpoch 2/4:  18%|█▊        | 18/100 [11:28<51:56, 38.00s/batch]"
          ]
        },
        {
          "output_type": "stream",
          "name": "stdout",
          "text": [
            "Batch Loss: 44027.223203125046\n"
          ]
        },
        {
          "output_type": "stream",
          "name": "stderr",
          "text": [
            "\rEpoch 2/4:  19%|█▉        | 19/100 [12:06<51:13, 37.95s/batch]"
          ]
        },
        {
          "output_type": "stream",
          "name": "stdout",
          "text": [
            "Batch Loss: 44025.64394886365\n"
          ]
        },
        {
          "output_type": "stream",
          "name": "stderr",
          "text": [
            "\rEpoch 2/4:  20%|██        | 20/100 [12:44<50:36, 37.96s/batch]"
          ]
        },
        {
          "output_type": "stream",
          "name": "stdout",
          "text": [
            "Batch Loss: 44025.60125710227\n"
          ]
        },
        {
          "output_type": "stream",
          "name": "stderr",
          "text": [
            "\rEpoch 2/4:  21%|██        | 21/100 [13:22<49:57, 37.94s/batch]"
          ]
        },
        {
          "output_type": "stream",
          "name": "stdout",
          "text": [
            "Batch Loss: 44025.565127840935\n"
          ]
        },
        {
          "output_type": "stream",
          "name": "stderr",
          "text": [
            "\rEpoch 2/4:  22%|██▏       | 22/100 [14:00<49:18, 37.93s/batch]"
          ]
        },
        {
          "output_type": "stream",
          "name": "stdout",
          "text": [
            "Batch Loss: 44025.56407670463\n"
          ]
        },
        {
          "output_type": "stream",
          "name": "stderr",
          "text": [
            "\rEpoch 2/4:  23%|██▎       | 23/100 [14:38<48:41, 37.94s/batch]"
          ]
        },
        {
          "output_type": "stream",
          "name": "stdout",
          "text": [
            "Batch Loss: 44025.59411931818\n"
          ]
        },
        {
          "output_type": "stream",
          "name": "stderr",
          "text": [
            "\rEpoch 2/4:  24%|██▍       | 24/100 [15:15<48:00, 37.90s/batch]"
          ]
        },
        {
          "output_type": "stream",
          "name": "stdout",
          "text": [
            "Batch Loss: 44025.56794744322\n"
          ]
        },
        {
          "output_type": "stream",
          "name": "stderr",
          "text": [
            "\rEpoch 2/4:  25%|██▌       | 25/100 [15:54<47:36, 38.08s/batch]"
          ]
        },
        {
          "output_type": "stream",
          "name": "stdout",
          "text": [
            "Batch Loss: 44025.59871448867\n"
          ]
        },
        {
          "output_type": "stream",
          "name": "stderr",
          "text": [
            "\rEpoch 2/4:  26%|██▌       | 26/100 [16:32<46:49, 37.97s/batch]"
          ]
        },
        {
          "output_type": "stream",
          "name": "stdout",
          "text": [
            "Batch Loss: 44025.590447443195\n"
          ]
        },
        {
          "output_type": "stream",
          "name": "stderr",
          "text": [
            "\rEpoch 2/4:  27%|██▋       | 27/100 [17:10<46:10, 37.95s/batch]"
          ]
        },
        {
          "output_type": "stream",
          "name": "stdout",
          "text": [
            "Batch Loss: 44025.561221590906\n"
          ]
        },
        {
          "output_type": "stream",
          "name": "stderr",
          "text": [
            "\rEpoch 2/4:  28%|██▊       | 28/100 [17:47<45:29, 37.91s/batch]"
          ]
        },
        {
          "output_type": "stream",
          "name": "stdout",
          "text": [
            "Batch Loss: 44025.58262073866\n"
          ]
        },
        {
          "output_type": "stream",
          "name": "stderr",
          "text": [
            "\rEpoch 2/4:  29%|██▉       | 29/100 [18:25<44:49, 37.88s/batch]"
          ]
        },
        {
          "output_type": "stream",
          "name": "stdout",
          "text": [
            "Batch Loss: 44025.590426136354\n"
          ]
        },
        {
          "output_type": "stream",
          "name": "stderr",
          "text": [
            "\rEpoch 2/4:  30%|███       | 30/100 [19:03<44:05, 37.79s/batch]"
          ]
        },
        {
          "output_type": "stream",
          "name": "stdout",
          "text": [
            "Batch Loss: 44025.54848011366\n"
          ]
        },
        {
          "output_type": "stream",
          "name": "stderr",
          "text": [
            "\rEpoch 2/4:  31%|███       | 31/100 [19:41<43:26, 37.78s/batch]"
          ]
        },
        {
          "output_type": "stream",
          "name": "stdout",
          "text": [
            "Batch Loss: 44025.560213068224\n"
          ]
        },
        {
          "output_type": "stream",
          "name": "stderr",
          "text": [
            "\rEpoch 2/4:  32%|███▏      | 32/100 [20:19<42:59, 37.94s/batch]"
          ]
        },
        {
          "output_type": "stream",
          "name": "stdout",
          "text": [
            "Batch Loss: 44025.59437499998\n"
          ]
        },
        {
          "output_type": "stream",
          "name": "stderr",
          "text": [
            "\rEpoch 2/4:  33%|███▎      | 33/100 [20:57<42:26, 38.01s/batch]"
          ]
        },
        {
          "output_type": "stream",
          "name": "stdout",
          "text": [
            "Batch Loss: 44025.625958806806\n"
          ]
        },
        {
          "output_type": "stream",
          "name": "stderr",
          "text": [
            "\rEpoch 2/4:  34%|███▍      | 34/100 [21:35<41:43, 37.93s/batch]"
          ]
        },
        {
          "output_type": "stream",
          "name": "stdout",
          "text": [
            "Batch Loss: 44027.035056818146\n"
          ]
        },
        {
          "output_type": "stream",
          "name": "stderr",
          "text": [
            "\rEpoch 2/4:  35%|███▌      | 35/100 [22:12<41:01, 37.87s/batch]"
          ]
        },
        {
          "output_type": "stream",
          "name": "stdout",
          "text": [
            "Batch Loss: 44025.70774147729\n"
          ]
        },
        {
          "output_type": "stream",
          "name": "stderr",
          "text": [
            "\rEpoch 2/4:  36%|███▌      | 36/100 [22:50<40:20, 37.83s/batch]"
          ]
        },
        {
          "output_type": "stream",
          "name": "stdout",
          "text": [
            "Batch Loss: 44025.63823153409\n"
          ]
        },
        {
          "output_type": "stream",
          "name": "stderr",
          "text": [
            "\rEpoch 2/4:  37%|███▋      | 37/100 [23:28<39:40, 37.79s/batch]"
          ]
        },
        {
          "output_type": "stream",
          "name": "stdout",
          "text": [
            "Batch Loss: 44025.59733664773\n"
          ]
        },
        {
          "output_type": "stream",
          "name": "stderr",
          "text": [
            "\rEpoch 2/4:  38%|███▊      | 38/100 [24:06<39:00, 37.75s/batch]"
          ]
        },
        {
          "output_type": "stream",
          "name": "stdout",
          "text": [
            "Batch Loss: 44025.5866193182\n"
          ]
        },
        {
          "output_type": "stream",
          "name": "stderr",
          "text": [
            "\rEpoch 2/4:  39%|███▉      | 39/100 [24:44<38:26, 37.81s/batch]"
          ]
        },
        {
          "output_type": "stream",
          "name": "stdout",
          "text": [
            "Batch Loss: 44025.55200994316\n"
          ]
        },
        {
          "output_type": "stream",
          "name": "stderr",
          "text": [
            "\rEpoch 2/4:  40%|████      | 40/100 [25:22<38:02, 38.03s/batch]"
          ]
        },
        {
          "output_type": "stream",
          "name": "stdout",
          "text": [
            "Batch Loss: 44025.5640696023\n"
          ]
        },
        {
          "output_type": "stream",
          "name": "stderr",
          "text": [
            "\rEpoch 2/4:  41%|████      | 41/100 [26:00<37:20, 37.97s/batch]"
          ]
        },
        {
          "output_type": "stream",
          "name": "stdout",
          "text": [
            "Batch Loss: 44025.52995738639\n"
          ]
        },
        {
          "output_type": "stream",
          "name": "stderr",
          "text": [
            "\rEpoch 2/4:  42%|████▏     | 42/100 [26:38<36:39, 37.91s/batch]"
          ]
        },
        {
          "output_type": "stream",
          "name": "stdout",
          "text": [
            "Batch Loss: 44025.5628267045\n"
          ]
        },
        {
          "output_type": "stream",
          "name": "stderr",
          "text": [
            "\rEpoch 2/4:  43%|████▎     | 43/100 [27:15<35:57, 37.85s/batch]"
          ]
        },
        {
          "output_type": "stream",
          "name": "stdout",
          "text": [
            "Batch Loss: 44025.58526988637\n"
          ]
        },
        {
          "output_type": "stream",
          "name": "stderr",
          "text": [
            "\rEpoch 2/4:  44%|████▍     | 44/100 [27:53<35:14, 37.75s/batch]"
          ]
        },
        {
          "output_type": "stream",
          "name": "stdout",
          "text": [
            "Batch Loss: 44025.54629971588\n"
          ]
        },
        {
          "output_type": "stream",
          "name": "stderr",
          "text": [
            "\rEpoch 2/4:  45%|████▌     | 45/100 [28:31<34:35, 37.73s/batch]"
          ]
        },
        {
          "output_type": "stream",
          "name": "stdout",
          "text": [
            "Batch Loss: 44025.61336647728\n"
          ]
        },
        {
          "output_type": "stream",
          "name": "stderr",
          "text": [
            "\rEpoch 2/4:  46%|████▌     | 46/100 [29:08<33:56, 37.71s/batch]"
          ]
        },
        {
          "output_type": "stream",
          "name": "stdout",
          "text": [
            "Batch Loss: 44025.54631392045\n"
          ]
        },
        {
          "output_type": "stream",
          "name": "stderr",
          "text": [
            "\rEpoch 2/4:  47%|████▋     | 47/100 [29:47<33:36, 38.04s/batch]"
          ]
        },
        {
          "output_type": "stream",
          "name": "stdout",
          "text": [
            "Batch Loss: 44025.55155539773\n"
          ]
        },
        {
          "output_type": "stream",
          "name": "stderr",
          "text": [
            "\rEpoch 2/4:  48%|████▊     | 48/100 [30:25<32:51, 37.91s/batch]"
          ]
        },
        {
          "output_type": "stream",
          "name": "stdout",
          "text": [
            "Batch Loss: 44025.59098011365\n"
          ]
        },
        {
          "output_type": "stream",
          "name": "stderr",
          "text": [
            "\rEpoch 2/4:  49%|████▉     | 49/100 [31:02<32:11, 37.88s/batch]"
          ]
        },
        {
          "output_type": "stream",
          "name": "stdout",
          "text": [
            "Batch Loss: 44025.60423295452\n"
          ]
        },
        {
          "output_type": "stream",
          "name": "stderr",
          "text": [
            "\rEpoch 2/4:  50%|█████     | 50/100 [31:40<31:29, 37.80s/batch]"
          ]
        },
        {
          "output_type": "stream",
          "name": "stdout",
          "text": [
            "Batch Loss: 44025.53008522729\n"
          ]
        },
        {
          "output_type": "stream",
          "name": "stderr",
          "text": [
            "\rEpoch 2/4:  51%|█████     | 51/100 [32:18<30:51, 37.79s/batch]"
          ]
        },
        {
          "output_type": "stream",
          "name": "stdout",
          "text": [
            "Batch Loss: 44025.59907670458\n"
          ]
        },
        {
          "output_type": "stream",
          "name": "stderr",
          "text": [
            "\rEpoch 2/4:  52%|█████▏    | 52/100 [32:56<30:12, 37.75s/batch]"
          ]
        },
        {
          "output_type": "stream",
          "name": "stdout",
          "text": [
            "Batch Loss: 44025.581669034094\n"
          ]
        },
        {
          "output_type": "stream",
          "name": "stderr",
          "text": [
            "\rEpoch 2/4:  53%|█████▎    | 53/100 [33:33<29:33, 37.73s/batch]"
          ]
        },
        {
          "output_type": "stream",
          "name": "stdout",
          "text": [
            "Batch Loss: 44025.56770596593\n"
          ]
        },
        {
          "output_type": "stream",
          "name": "stderr",
          "text": [
            "\rEpoch 2/4:  54%|█████▍    | 54/100 [34:12<29:06, 37.96s/batch]"
          ]
        },
        {
          "output_type": "stream",
          "name": "stdout",
          "text": [
            "Batch Loss: 44025.57558948869\n"
          ]
        },
        {
          "output_type": "stream",
          "name": "stderr",
          "text": [
            "\rEpoch 2/4:  55%|█████▌    | 55/100 [34:50<28:33, 38.08s/batch]"
          ]
        },
        {
          "output_type": "stream",
          "name": "stdout",
          "text": [
            "Batch Loss: 44025.533465909124\n"
          ]
        },
        {
          "output_type": "stream",
          "name": "stderr",
          "text": [
            "\rEpoch 2/4:  56%|█████▌    | 56/100 [35:28<27:58, 38.15s/batch]"
          ]
        },
        {
          "output_type": "stream",
          "name": "stdout",
          "text": [
            "Batch Loss: 44025.559517045454\n"
          ]
        },
        {
          "output_type": "stream",
          "name": "stderr",
          "text": [
            "\rEpoch 2/4:  57%|█████▋    | 57/100 [36:06<27:15, 38.03s/batch]"
          ]
        },
        {
          "output_type": "stream",
          "name": "stdout",
          "text": [
            "Batch Loss: 44026.6800426136\n"
          ]
        },
        {
          "output_type": "stream",
          "name": "stderr",
          "text": [
            "\rEpoch 2/4:  58%|█████▊    | 58/100 [36:44<26:41, 38.13s/batch]"
          ]
        },
        {
          "output_type": "stream",
          "name": "stdout",
          "text": [
            "Batch Loss: 44025.78585937502\n"
          ]
        },
        {
          "output_type": "stream",
          "name": "stderr",
          "text": [
            "\rEpoch 2/4:  59%|█████▉    | 59/100 [37:23<26:07, 38.24s/batch]"
          ]
        },
        {
          "output_type": "stream",
          "name": "stdout",
          "text": [
            "Batch Loss: 44025.635056818166\n"
          ]
        },
        {
          "output_type": "stream",
          "name": "stderr",
          "text": [
            "\rEpoch 2/4:  60%|██████    | 60/100 [38:02<25:33, 38.35s/batch]"
          ]
        },
        {
          "output_type": "stream",
          "name": "stdout",
          "text": [
            "Batch Loss: 44025.562656250004\n"
          ]
        },
        {
          "output_type": "stream",
          "name": "stderr",
          "text": [
            "\rEpoch 2/4:  61%|██████    | 61/100 [38:41<25:02, 38.53s/batch]"
          ]
        },
        {
          "output_type": "stream",
          "name": "stdout",
          "text": [
            "Batch Loss: 44025.572372159164\n"
          ]
        },
        {
          "output_type": "stream",
          "name": "stderr",
          "text": [
            "\rEpoch 2/4:  62%|██████▏   | 62/100 [39:19<24:25, 38.57s/batch]"
          ]
        },
        {
          "output_type": "stream",
          "name": "stdout",
          "text": [
            "Batch Loss: 44025.51929687504\n"
          ]
        },
        {
          "output_type": "stream",
          "name": "stderr",
          "text": [
            "\rEpoch 2/4:  63%|██████▎   | 63/100 [39:57<23:42, 38.46s/batch]"
          ]
        },
        {
          "output_type": "stream",
          "name": "stdout",
          "text": [
            "Batch Loss: 44025.54191761364\n"
          ]
        },
        {
          "output_type": "stream",
          "name": "stderr",
          "text": [
            "\rEpoch 2/4:  64%|██████▍   | 64/100 [40:36<23:05, 38.49s/batch]"
          ]
        },
        {
          "output_type": "stream",
          "name": "stdout",
          "text": [
            "Batch Loss: 44026.93838068182\n"
          ]
        },
        {
          "output_type": "stream",
          "name": "stderr",
          "text": [
            "\rEpoch 2/4:  65%|██████▌   | 65/100 [41:15<22:35, 38.73s/batch]"
          ]
        },
        {
          "output_type": "stream",
          "name": "stdout",
          "text": [
            "Batch Loss: 44025.6190696023\n"
          ]
        },
        {
          "output_type": "stream",
          "name": "stderr",
          "text": [
            "\rEpoch 2/4:  66%|██████▌   | 66/100 [41:55<22:03, 38.92s/batch]"
          ]
        },
        {
          "output_type": "stream",
          "name": "stdout",
          "text": [
            "Batch Loss: 44025.59963778411\n"
          ]
        },
        {
          "output_type": "stream",
          "name": "stderr",
          "text": [
            "\rEpoch 2/4:  67%|██████▋   | 67/100 [42:33<21:17, 38.71s/batch]"
          ]
        },
        {
          "output_type": "stream",
          "name": "stdout",
          "text": [
            "Batch Loss: 44025.578224431825\n"
          ]
        },
        {
          "output_type": "stream",
          "name": "stderr",
          "text": [
            "\rEpoch 2/4:  68%|██████▊   | 68/100 [43:12<20:45, 38.92s/batch]"
          ]
        },
        {
          "output_type": "stream",
          "name": "stdout",
          "text": [
            "Batch Loss: 44025.52443892038\n"
          ]
        },
        {
          "output_type": "stream",
          "name": "stderr",
          "text": [
            "\rEpoch 2/4:  69%|██████▉   | 69/100 [43:51<20:01, 38.74s/batch]"
          ]
        },
        {
          "output_type": "stream",
          "name": "stdout",
          "text": [
            "Batch Loss: 44025.54834517039\n"
          ]
        },
        {
          "output_type": "stream",
          "name": "stderr",
          "text": [
            "\rEpoch 2/4:  70%|███████   | 70/100 [44:28<19:14, 38.49s/batch]"
          ]
        },
        {
          "output_type": "stream",
          "name": "stdout",
          "text": [
            "Batch Loss: 44025.5317684659\n"
          ]
        },
        {
          "output_type": "stream",
          "name": "stderr",
          "text": [
            "\rEpoch 2/4:  71%|███████   | 71/100 [45:06<18:29, 38.27s/batch]"
          ]
        },
        {
          "output_type": "stream",
          "name": "stdout",
          "text": [
            "Batch Loss: 44025.521981534104\n"
          ]
        },
        {
          "output_type": "stream",
          "name": "stderr",
          "text": [
            "\rEpoch 2/4:  72%|███████▏  | 72/100 [45:44<17:47, 38.12s/batch]"
          ]
        },
        {
          "output_type": "stream",
          "name": "stdout",
          "text": [
            "Batch Loss: 44025.53321732956\n"
          ]
        },
        {
          "output_type": "stream",
          "name": "stderr",
          "text": [
            "\rEpoch 2/4:  73%|███████▎  | 73/100 [46:22<17:08, 38.08s/batch]"
          ]
        },
        {
          "output_type": "stream",
          "name": "stdout",
          "text": [
            "Batch Loss: 44025.5391477273\n"
          ]
        },
        {
          "output_type": "stream",
          "name": "stderr",
          "text": [
            "\rEpoch 2/4:  74%|███████▍  | 74/100 [47:00<16:29, 38.04s/batch]"
          ]
        },
        {
          "output_type": "stream",
          "name": "stdout",
          "text": [
            "Batch Loss: 44025.53688210226\n"
          ]
        },
        {
          "output_type": "stream",
          "name": "stderr",
          "text": [
            "\rEpoch 2/4:  75%|███████▌  | 75/100 [47:39<15:56, 38.25s/batch]"
          ]
        },
        {
          "output_type": "stream",
          "name": "stdout",
          "text": [
            "Batch Loss: 44025.53994318186\n"
          ]
        },
        {
          "output_type": "stream",
          "name": "stderr",
          "text": [
            "\rEpoch 2/4:  76%|███████▌  | 76/100 [48:17<15:19, 38.31s/batch]"
          ]
        },
        {
          "output_type": "stream",
          "name": "stdout",
          "text": [
            "Batch Loss: 44025.51913352278\n"
          ]
        },
        {
          "output_type": "stream",
          "name": "stderr",
          "text": [
            "\rEpoch 2/4:  77%|███████▋  | 77/100 [48:55<14:40, 38.29s/batch]"
          ]
        },
        {
          "output_type": "stream",
          "name": "stdout",
          "text": [
            "Batch Loss: 44025.58468039775\n"
          ]
        },
        {
          "output_type": "stream",
          "name": "stderr",
          "text": [
            "\rEpoch 2/4:  78%|███████▊  | 78/100 [49:34<14:03, 38.33s/batch]"
          ]
        },
        {
          "output_type": "stream",
          "name": "stdout",
          "text": [
            "Batch Loss: 44025.53035511363\n"
          ]
        },
        {
          "output_type": "stream",
          "name": "stderr",
          "text": [
            "\rEpoch 2/4:  79%|███████▉  | 79/100 [50:13<13:28, 38.52s/batch]"
          ]
        },
        {
          "output_type": "stream",
          "name": "stdout",
          "text": [
            "Batch Loss: 44025.52274147728\n"
          ]
        },
        {
          "output_type": "stream",
          "name": "stderr",
          "text": [
            "\rEpoch 2/4:  80%|████████  | 80/100 [50:51<12:46, 38.33s/batch]"
          ]
        },
        {
          "output_type": "stream",
          "name": "stdout",
          "text": [
            "Batch Loss: 44025.49348011364\n"
          ]
        },
        {
          "output_type": "stream",
          "name": "stderr",
          "text": [
            "\rEpoch 2/4:  81%|████████  | 81/100 [51:29<12:07, 38.31s/batch]"
          ]
        },
        {
          "output_type": "stream",
          "name": "stdout",
          "text": [
            "Batch Loss: 44025.53188210222\n"
          ]
        },
        {
          "output_type": "stream",
          "name": "stderr",
          "text": [
            "\rEpoch 2/4:  82%|████████▏ | 82/100 [52:07<11:28, 38.22s/batch]"
          ]
        },
        {
          "output_type": "stream",
          "name": "stdout",
          "text": [
            "Batch Loss: 44025.5271590909\n"
          ]
        },
        {
          "output_type": "stream",
          "name": "stderr",
          "text": [
            "\rEpoch 2/4:  83%|████████▎ | 83/100 [52:45<10:49, 38.23s/batch]"
          ]
        },
        {
          "output_type": "stream",
          "name": "stdout",
          "text": [
            "Batch Loss: 44025.508458806806\n"
          ]
        },
        {
          "output_type": "stream",
          "name": "stderr",
          "text": [
            "\rEpoch 2/4:  84%|████████▍ | 84/100 [53:23<10:09, 38.10s/batch]"
          ]
        },
        {
          "output_type": "stream",
          "name": "stdout",
          "text": [
            "Batch Loss: 44025.537734375\n"
          ]
        },
        {
          "output_type": "stream",
          "name": "stderr",
          "text": [
            "\rEpoch 2/4:  85%|████████▌ | 85/100 [54:01<09:29, 37.98s/batch]"
          ]
        },
        {
          "output_type": "stream",
          "name": "stdout",
          "text": [
            "Batch Loss: 44025.54595170454\n"
          ]
        },
        {
          "output_type": "stream",
          "name": "stderr",
          "text": [
            "\rEpoch 2/4:  86%|████████▌ | 86/100 [54:38<08:50, 37.87s/batch]"
          ]
        },
        {
          "output_type": "stream",
          "name": "stdout",
          "text": [
            "Batch Loss: 44025.53791903415\n"
          ]
        },
        {
          "output_type": "stream",
          "name": "stderr",
          "text": [
            "\rEpoch 2/4:  87%|████████▋ | 87/100 [55:16<08:11, 37.84s/batch]"
          ]
        },
        {
          "output_type": "stream",
          "name": "stdout",
          "text": [
            "Batch Loss: 44025.5320383523\n"
          ]
        },
        {
          "output_type": "stream",
          "name": "stderr",
          "text": [
            "\rEpoch 2/4:  88%|████████▊ | 88/100 [55:54<07:33, 37.82s/batch]"
          ]
        },
        {
          "output_type": "stream",
          "name": "stdout",
          "text": [
            "Batch Loss: 44025.49579545449\n"
          ]
        },
        {
          "output_type": "stream",
          "name": "stderr",
          "text": [
            "\rEpoch 2/4:  89%|████████▉ | 89/100 [56:32<06:55, 37.78s/batch]"
          ]
        },
        {
          "output_type": "stream",
          "name": "stdout",
          "text": [
            "Batch Loss: 44025.56068892043\n"
          ]
        },
        {
          "output_type": "stream",
          "name": "stderr",
          "text": [
            "\rEpoch 2/4:  90%|█████████ | 90/100 [57:10<06:19, 37.93s/batch]"
          ]
        },
        {
          "output_type": "stream",
          "name": "stdout",
          "text": [
            "Batch Loss: 44025.49952414771\n"
          ]
        },
        {
          "output_type": "stream",
          "name": "stderr",
          "text": [
            "\rEpoch 2/4:  91%|█████████ | 91/100 [57:47<05:40, 37.84s/batch]"
          ]
        },
        {
          "output_type": "stream",
          "name": "stdout",
          "text": [
            "Batch Loss: 44025.50779119321\n"
          ]
        },
        {
          "output_type": "stream",
          "name": "stderr",
          "text": [
            "\rEpoch 2/4:  92%|█████████▏| 92/100 [58:25<05:02, 37.77s/batch]"
          ]
        },
        {
          "output_type": "stream",
          "name": "stdout",
          "text": [
            "Batch Loss: 44025.51350142044\n"
          ]
        },
        {
          "output_type": "stream",
          "name": "stderr",
          "text": [
            "\rEpoch 2/4:  93%|█████████▎| 93/100 [59:03<04:24, 37.72s/batch]"
          ]
        },
        {
          "output_type": "stream",
          "name": "stdout",
          "text": [
            "Batch Loss: 44025.51168323868\n"
          ]
        },
        {
          "output_type": "stream",
          "name": "stderr",
          "text": [
            "\rEpoch 2/4:  94%|█████████▍| 94/100 [59:40<03:46, 37.72s/batch]"
          ]
        },
        {
          "output_type": "stream",
          "name": "stdout",
          "text": [
            "Batch Loss: 44025.519730113665\n"
          ]
        },
        {
          "output_type": "stream",
          "name": "stderr",
          "text": [
            "\rEpoch 2/4:  95%|█████████▌| 95/100 [1:00:18<03:08, 37.73s/batch]"
          ]
        },
        {
          "output_type": "stream",
          "name": "stdout",
          "text": [
            "Batch Loss: 44025.51164062504\n"
          ]
        },
        {
          "output_type": "stream",
          "name": "stderr",
          "text": [
            "\rEpoch 2/4:  96%|█████████▌| 96/100 [1:00:56<02:30, 37.68s/batch]"
          ]
        },
        {
          "output_type": "stream",
          "name": "stdout",
          "text": [
            "Batch Loss: 44025.5258806818\n"
          ]
        },
        {
          "output_type": "stream",
          "name": "stderr",
          "text": [
            "\rEpoch 2/4:  97%|█████████▋| 97/100 [1:01:34<01:53, 37.90s/batch]"
          ]
        },
        {
          "output_type": "stream",
          "name": "stdout",
          "text": [
            "Batch Loss: 44025.501434659105\n"
          ]
        },
        {
          "output_type": "stream",
          "name": "stderr",
          "text": [
            "\rEpoch 2/4:  98%|█████████▊| 98/100 [1:02:12<01:15, 37.82s/batch]"
          ]
        },
        {
          "output_type": "stream",
          "name": "stdout",
          "text": [
            "Batch Loss: 44025.524900568154\n"
          ]
        },
        {
          "output_type": "stream",
          "name": "stderr",
          "text": [
            "\rEpoch 2/4:  99%|█████████▉| 99/100 [1:02:49<00:37, 37.74s/batch]"
          ]
        },
        {
          "output_type": "stream",
          "name": "stdout",
          "text": [
            "Batch Loss: 44025.48831676143\n"
          ]
        },
        {
          "output_type": "stream",
          "name": "stderr",
          "text": [
            "Epoch 2/4: 100%|██████████| 100/100 [1:03:27<00:00, 38.07s/batch]"
          ]
        },
        {
          "output_type": "stream",
          "name": "stdout",
          "text": [
            "Batch Loss: 44025.519928977235\n",
            "Epoch 2, Average Loss: 44025.625628267044\n"
          ]
        },
        {
          "output_type": "stream",
          "name": "stderr",
          "text": [
            "\n",
            "Epoch 3/4:   1%|          | 1/100 [00:37<1:02:29, 37.87s/batch]"
          ]
        },
        {
          "output_type": "stream",
          "name": "stdout",
          "text": [
            "Batch Loss: 44025.50752130687\n"
          ]
        },
        {
          "output_type": "stream",
          "name": "stderr",
          "text": [
            "\rEpoch 3/4:   2%|▏         | 2/100 [01:15<1:01:44, 37.81s/batch]"
          ]
        },
        {
          "output_type": "stream",
          "name": "stdout",
          "text": [
            "Batch Loss: 44025.52700284088\n"
          ]
        },
        {
          "output_type": "stream",
          "name": "stderr",
          "text": [
            "\rEpoch 3/4:   3%|▎         | 3/100 [01:53<1:01:04, 37.78s/batch]"
          ]
        },
        {
          "output_type": "stream",
          "name": "stdout",
          "text": [
            "Batch Loss: 44025.50897727271\n"
          ]
        },
        {
          "output_type": "stream",
          "name": "stderr",
          "text": [
            "\rEpoch 3/4:   4%|▍         | 4/100 [02:31<1:00:24, 37.75s/batch]"
          ]
        },
        {
          "output_type": "stream",
          "name": "stdout",
          "text": [
            "Batch Loss: 44025.49088068185\n"
          ]
        },
        {
          "output_type": "stream",
          "name": "stderr",
          "text": [
            "\rEpoch 3/4:   5%|▌         | 5/100 [03:09<1:00:03, 37.93s/batch]"
          ]
        },
        {
          "output_type": "stream",
          "name": "stdout",
          "text": [
            "Batch Loss: 44025.489282670445\n"
          ]
        },
        {
          "output_type": "stream",
          "name": "stderr",
          "text": [
            "\rEpoch 3/4:   6%|▌         | 6/100 [03:47<59:19, 37.87s/batch]  "
          ]
        },
        {
          "output_type": "stream",
          "name": "stdout",
          "text": [
            "Batch Loss: 44025.540980113656\n"
          ]
        },
        {
          "output_type": "stream",
          "name": "stderr",
          "text": [
            "\rEpoch 3/4:   7%|▋         | 7/100 [04:24<58:37, 37.82s/batch]"
          ]
        },
        {
          "output_type": "stream",
          "name": "stdout",
          "text": [
            "Batch Loss: 44151.83936789778\n"
          ]
        },
        {
          "output_type": "stream",
          "name": "stderr",
          "text": [
            "\rEpoch 3/4:   8%|▊         | 8/100 [05:02<57:56, 37.78s/batch]"
          ]
        },
        {
          "output_type": "stream",
          "name": "stdout",
          "text": [
            "Batch Loss: 44025.47499289782\n"
          ]
        },
        {
          "output_type": "stream",
          "name": "stderr",
          "text": [
            "\rEpoch 3/4:   9%|▉         | 9/100 [05:40<57:14, 37.75s/batch]"
          ]
        },
        {
          "output_type": "stream",
          "name": "stdout",
          "text": [
            "Batch Loss: 44025.471115056826\n"
          ]
        },
        {
          "output_type": "stream",
          "name": "stderr",
          "text": [
            "\rEpoch 3/4:  10%|█         | 10/100 [06:17<56:37, 37.75s/batch]"
          ]
        },
        {
          "output_type": "stream",
          "name": "stdout",
          "text": [
            "Batch Loss: 44025.46303977273\n"
          ]
        },
        {
          "output_type": "stream",
          "name": "stderr",
          "text": [
            "\rEpoch 3/4:  11%|█         | 11/100 [06:55<55:55, 37.70s/batch]"
          ]
        },
        {
          "output_type": "stream",
          "name": "stdout",
          "text": [
            "Batch Loss: 44025.472592329585\n"
          ]
        },
        {
          "output_type": "stream",
          "name": "stderr",
          "text": [
            "\rEpoch 3/4:  12%|█▏        | 12/100 [07:33<55:32, 37.87s/batch]"
          ]
        },
        {
          "output_type": "stream",
          "name": "stdout",
          "text": [
            "Batch Loss: 44025.47249289778\n"
          ]
        },
        {
          "output_type": "stream",
          "name": "stderr",
          "text": [
            "\rEpoch 3/4:  13%|█▎        | 13/100 [08:11<54:50, 37.82s/batch]"
          ]
        },
        {
          "output_type": "stream",
          "name": "stdout",
          "text": [
            "Batch Loss: 44025.47558948863\n"
          ]
        },
        {
          "output_type": "stream",
          "name": "stderr",
          "text": [
            "\rEpoch 3/4:  14%|█▍        | 14/100 [08:49<54:24, 37.96s/batch]"
          ]
        },
        {
          "output_type": "stream",
          "name": "stdout",
          "text": [
            "Batch Loss: 44025.51394176141\n"
          ]
        },
        {
          "output_type": "stream",
          "name": "stderr",
          "text": [
            "\rEpoch 3/4:  15%|█▌        | 15/100 [09:27<53:49, 38.00s/batch]"
          ]
        },
        {
          "output_type": "stream",
          "name": "stdout",
          "text": [
            "Batch Loss: 44025.47996448868\n"
          ]
        },
        {
          "output_type": "stream",
          "name": "stderr",
          "text": [
            "\rEpoch 3/4:  16%|█▌        | 16/100 [10:05<53:03, 37.89s/batch]"
          ]
        },
        {
          "output_type": "stream",
          "name": "stdout",
          "text": [
            "Batch Loss: 44025.49909801135\n"
          ]
        },
        {
          "output_type": "stream",
          "name": "stderr",
          "text": [
            "\rEpoch 3/4:  17%|█▋        | 17/100 [10:43<52:15, 37.78s/batch]"
          ]
        },
        {
          "output_type": "stream",
          "name": "stdout",
          "text": [
            "Batch Loss: 44025.47599431823\n"
          ]
        },
        {
          "output_type": "stream",
          "name": "stderr",
          "text": [
            "\rEpoch 3/4:  18%|█▊        | 18/100 [11:20<51:27, 37.66s/batch]"
          ]
        },
        {
          "output_type": "stream",
          "name": "stdout",
          "text": [
            "Batch Loss: 44025.48588068192\n"
          ]
        },
        {
          "output_type": "stream",
          "name": "stderr",
          "text": [
            "\rEpoch 3/4:  19%|█▉        | 19/100 [11:57<50:48, 37.64s/batch]"
          ]
        },
        {
          "output_type": "stream",
          "name": "stdout",
          "text": [
            "Batch Loss: 44025.47823863636\n"
          ]
        },
        {
          "output_type": "stream",
          "name": "stderr",
          "text": [
            "\rEpoch 3/4:  20%|██        | 20/100 [12:36<50:22, 37.78s/batch]"
          ]
        },
        {
          "output_type": "stream",
          "name": "stdout",
          "text": [
            "Batch Loss: 44025.48044034103\n"
          ]
        },
        {
          "output_type": "stream",
          "name": "stderr",
          "text": [
            "\rEpoch 3/4:  21%|██        | 21/100 [13:13<49:42, 37.76s/batch]"
          ]
        },
        {
          "output_type": "stream",
          "name": "stdout",
          "text": [
            "Batch Loss: 44025.48507102275\n"
          ]
        },
        {
          "output_type": "stream",
          "name": "stderr",
          "text": [
            "\rEpoch 3/4:  22%|██▏       | 22/100 [13:52<49:19, 37.94s/batch]"
          ]
        },
        {
          "output_type": "stream",
          "name": "stdout",
          "text": [
            "Batch Loss: 44025.49109374994\n"
          ]
        },
        {
          "output_type": "stream",
          "name": "stderr",
          "text": [
            "\rEpoch 3/4:  23%|██▎       | 23/100 [14:30<48:52, 38.08s/batch]"
          ]
        },
        {
          "output_type": "stream",
          "name": "stdout",
          "text": [
            "Batch Loss: 44025.47600142047\n"
          ]
        },
        {
          "output_type": "stream",
          "name": "stderr",
          "text": [
            "\rEpoch 3/4:  24%|██▍       | 24/100 [15:08<48:18, 38.14s/batch]"
          ]
        },
        {
          "output_type": "stream",
          "name": "stdout",
          "text": [
            "Batch Loss: 44025.491590909114\n"
          ]
        },
        {
          "output_type": "stream",
          "name": "stderr",
          "text": [
            "\rEpoch 3/4:  25%|██▌       | 25/100 [15:47<47:51, 38.29s/batch]"
          ]
        },
        {
          "output_type": "stream",
          "name": "stdout",
          "text": [
            "Batch Loss: 44025.48218750004\n"
          ]
        },
        {
          "output_type": "stream",
          "name": "stderr",
          "text": [
            "\rEpoch 3/4:  26%|██▌       | 26/100 [16:25<47:09, 38.24s/batch]"
          ]
        },
        {
          "output_type": "stream",
          "name": "stdout",
          "text": [
            "Batch Loss: 44026.23903409087\n"
          ]
        },
        {
          "output_type": "stream",
          "name": "stderr",
          "text": [
            "\rEpoch 3/4:  27%|██▋       | 27/100 [17:04<46:48, 38.48s/batch]"
          ]
        },
        {
          "output_type": "stream",
          "name": "stdout",
          "text": [
            "Batch Loss: 44025.583998579554\n"
          ]
        },
        {
          "output_type": "stream",
          "name": "stderr",
          "text": [
            "\rEpoch 3/4:  28%|██▊       | 28/100 [17:42<45:53, 38.25s/batch]"
          ]
        },
        {
          "output_type": "stream",
          "name": "stdout",
          "text": [
            "Batch Loss: 44025.49656960229\n"
          ]
        },
        {
          "output_type": "stream",
          "name": "stderr",
          "text": [
            "\rEpoch 3/4:  29%|██▉       | 29/100 [18:20<45:05, 38.11s/batch]"
          ]
        },
        {
          "output_type": "stream",
          "name": "stdout",
          "text": [
            "Batch Loss: 44025.47860795455\n"
          ]
        },
        {
          "output_type": "stream",
          "name": "stderr",
          "text": [
            "\rEpoch 3/4:  30%|███       | 30/100 [18:58<44:31, 38.16s/batch]"
          ]
        },
        {
          "output_type": "stream",
          "name": "stdout",
          "text": [
            "Batch Loss: 44025.492386363636\n"
          ]
        },
        {
          "output_type": "stream",
          "name": "stderr",
          "text": [
            "\rEpoch 3/4:  31%|███       | 31/100 [19:36<43:58, 38.24s/batch]"
          ]
        },
        {
          "output_type": "stream",
          "name": "stdout",
          "text": [
            "Batch Loss: 44025.471747159085\n"
          ]
        },
        {
          "output_type": "stream",
          "name": "stderr",
          "text": [
            "\rEpoch 3/4:  32%|███▏      | 32/100 [20:15<43:28, 38.36s/batch]"
          ]
        },
        {
          "output_type": "stream",
          "name": "stdout",
          "text": [
            "Batch Loss: 44026.082223011326\n"
          ]
        },
        {
          "output_type": "stream",
          "name": "stderr",
          "text": [
            "\rEpoch 3/4:  33%|███▎      | 33/100 [20:53<42:48, 38.33s/batch]"
          ]
        },
        {
          "output_type": "stream",
          "name": "stdout",
          "text": [
            "Batch Loss: 44025.500035511344\n"
          ]
        },
        {
          "output_type": "stream",
          "name": "stderr",
          "text": [
            "\rEpoch 3/4:  34%|███▍      | 34/100 [21:32<42:14, 38.40s/batch]"
          ]
        },
        {
          "output_type": "stream",
          "name": "stdout",
          "text": [
            "Batch Loss: 44025.48965909095\n"
          ]
        },
        {
          "output_type": "stream",
          "name": "stderr",
          "text": [
            "\rEpoch 3/4:  35%|███▌      | 35/100 [22:11<41:49, 38.60s/batch]"
          ]
        },
        {
          "output_type": "stream",
          "name": "stdout",
          "text": [
            "Batch Loss: 44025.480987215895\n"
          ]
        },
        {
          "output_type": "stream",
          "name": "stderr",
          "text": [
            "\rEpoch 3/4:  36%|███▌      | 36/100 [22:50<41:10, 38.61s/batch]"
          ]
        },
        {
          "output_type": "stream",
          "name": "stdout",
          "text": [
            "Batch Loss: 44025.467656250024\n"
          ]
        },
        {
          "output_type": "stream",
          "name": "stderr",
          "text": [
            "\rEpoch 3/4:  37%|███▋      | 37/100 [23:28<40:33, 38.62s/batch]"
          ]
        },
        {
          "output_type": "stream",
          "name": "stdout",
          "text": [
            "Batch Loss: 44025.81316761364\n"
          ]
        },
        {
          "output_type": "stream",
          "name": "stderr",
          "text": [
            "\rEpoch 3/4:  38%|███▊      | 38/100 [24:07<39:53, 38.61s/batch]"
          ]
        },
        {
          "output_type": "stream",
          "name": "stdout",
          "text": [
            "Batch Loss: 44025.5134943182\n"
          ]
        },
        {
          "output_type": "stream",
          "name": "stderr",
          "text": [
            "\rEpoch 3/4:  39%|███▉      | 39/100 [24:45<39:15, 38.61s/batch]"
          ]
        },
        {
          "output_type": "stream",
          "name": "stdout",
          "text": [
            "Batch Loss: 44025.46313920454\n"
          ]
        },
        {
          "output_type": "stream",
          "name": "stderr",
          "text": [
            "\rEpoch 3/4:  40%|████      | 40/100 [25:24<38:35, 38.60s/batch]"
          ]
        },
        {
          "output_type": "stream",
          "name": "stdout",
          "text": [
            "Batch Loss: 44025.48781960226\n"
          ]
        },
        {
          "output_type": "stream",
          "name": "stderr",
          "text": [
            "\rEpoch 3/4:  41%|████      | 41/100 [26:02<37:53, 38.53s/batch]"
          ]
        },
        {
          "output_type": "stream",
          "name": "stdout",
          "text": [
            "Batch Loss: 44025.47691051137\n"
          ]
        },
        {
          "output_type": "stream",
          "name": "stderr",
          "text": [
            "\rEpoch 3/4:  42%|████▏     | 42/100 [26:42<37:33, 38.85s/batch]"
          ]
        },
        {
          "output_type": "stream",
          "name": "stdout",
          "text": [
            "Batch Loss: 44025.44835227274\n"
          ]
        },
        {
          "output_type": "stream",
          "name": "stderr",
          "text": [
            "\rEpoch 3/4:  43%|████▎     | 43/100 [27:20<36:49, 38.76s/batch]"
          ]
        },
        {
          "output_type": "stream",
          "name": "stdout",
          "text": [
            "Batch Loss: 44025.49620738634\n"
          ]
        },
        {
          "output_type": "stream",
          "name": "stderr",
          "text": [
            "\rEpoch 3/4:  44%|████▍     | 44/100 [27:59<36:07, 38.71s/batch]"
          ]
        },
        {
          "output_type": "stream",
          "name": "stdout",
          "text": [
            "Batch Loss: 44025.463117897736\n"
          ]
        },
        {
          "output_type": "stream",
          "name": "stderr",
          "text": [
            "\rEpoch 3/4:  45%|████▌     | 45/100 [28:37<35:23, 38.61s/batch]"
          ]
        },
        {
          "output_type": "stream",
          "name": "stdout",
          "text": [
            "Batch Loss: 44025.47903409087\n"
          ]
        },
        {
          "output_type": "stream",
          "name": "stderr",
          "text": [
            "\rEpoch 3/4:  46%|████▌     | 46/100 [29:15<34:35, 38.44s/batch]"
          ]
        },
        {
          "output_type": "stream",
          "name": "stdout",
          "text": [
            "Batch Loss: 44025.48644176135\n"
          ]
        },
        {
          "output_type": "stream",
          "name": "stderr",
          "text": [
            "\rEpoch 3/4:  47%|████▋     | 47/100 [29:54<33:58, 38.46s/batch]"
          ]
        },
        {
          "output_type": "stream",
          "name": "stdout",
          "text": [
            "Batch Loss: 44025.468409090936\n"
          ]
        },
        {
          "output_type": "stream",
          "name": "stderr",
          "text": [
            "\rEpoch 3/4:  48%|████▊     | 48/100 [30:32<33:16, 38.40s/batch]"
          ]
        },
        {
          "output_type": "stream",
          "name": "stdout",
          "text": [
            "Batch Loss: 44025.49285511364\n"
          ]
        },
        {
          "output_type": "stream",
          "name": "stderr",
          "text": [
            "\rEpoch 3/4:  49%|████▉     | 49/100 [31:11<32:38, 38.40s/batch]"
          ]
        },
        {
          "output_type": "stream",
          "name": "stdout",
          "text": [
            "Batch Loss: 44025.47703835233\n"
          ]
        },
        {
          "output_type": "stream",
          "name": "stderr",
          "text": [
            "\rEpoch 3/4:  50%|█████     | 50/100 [31:50<32:09, 38.58s/batch]"
          ]
        },
        {
          "output_type": "stream",
          "name": "stdout",
          "text": [
            "Batch Loss: 44025.471278409044\n"
          ]
        },
        {
          "output_type": "stream",
          "name": "stderr",
          "text": [
            "\rEpoch 3/4:  51%|█████     | 51/100 [32:28<31:25, 38.48s/batch]"
          ]
        },
        {
          "output_type": "stream",
          "name": "stdout",
          "text": [
            "Batch Loss: 44025.49840909093\n"
          ]
        },
        {
          "output_type": "stream",
          "name": "stderr",
          "text": [
            "\rEpoch 3/4:  52%|█████▏    | 52/100 [33:06<30:46, 38.47s/batch]"
          ]
        },
        {
          "output_type": "stream",
          "name": "stdout",
          "text": [
            "Batch Loss: 44025.47503551138\n"
          ]
        },
        {
          "output_type": "stream",
          "name": "stderr",
          "text": [
            "\rEpoch 3/4:  53%|█████▎    | 53/100 [33:46<30:29, 38.92s/batch]"
          ]
        },
        {
          "output_type": "stream",
          "name": "stdout",
          "text": [
            "Batch Loss: 44025.45376420452\n"
          ]
        },
        {
          "output_type": "stream",
          "name": "stderr",
          "text": [
            "\rEpoch 3/4:  54%|█████▍    | 54/100 [34:26<29:57, 39.09s/batch]"
          ]
        },
        {
          "output_type": "stream",
          "name": "stdout",
          "text": [
            "Batch Loss: 44025.49065340907\n"
          ]
        },
        {
          "output_type": "stream",
          "name": "stderr",
          "text": [
            "\rEpoch 3/4:  55%|█████▌    | 55/100 [35:05<29:26, 39.25s/batch]"
          ]
        },
        {
          "output_type": "stream",
          "name": "stdout",
          "text": [
            "Batch Loss: 44025.4796022727\n"
          ]
        },
        {
          "output_type": "stream",
          "name": "stderr",
          "text": [
            "\rEpoch 3/4:  56%|█████▌    | 56/100 [35:45<28:48, 39.29s/batch]"
          ]
        },
        {
          "output_type": "stream",
          "name": "stdout",
          "text": [
            "Batch Loss: 44025.485589488606\n"
          ]
        },
        {
          "output_type": "stream",
          "name": "stderr",
          "text": [
            "\rEpoch 3/4:  57%|█████▋    | 57/100 [36:25<28:16, 39.45s/batch]"
          ]
        },
        {
          "output_type": "stream",
          "name": "stdout",
          "text": [
            "Batch Loss: 44025.471292613634\n"
          ]
        },
        {
          "output_type": "stream",
          "name": "stderr",
          "text": [
            "\rEpoch 3/4:  58%|█████▊    | 58/100 [37:03<27:26, 39.19s/batch]"
          ]
        },
        {
          "output_type": "stream",
          "name": "stdout",
          "text": [
            "Batch Loss: 44025.46058948864\n"
          ]
        },
        {
          "output_type": "stream",
          "name": "stderr",
          "text": [
            "\rEpoch 3/4:  59%|█████▉    | 59/100 [37:42<26:41, 39.05s/batch]"
          ]
        },
        {
          "output_type": "stream",
          "name": "stdout",
          "text": [
            "Batch Loss: 44025.47762784088\n"
          ]
        },
        {
          "output_type": "stream",
          "name": "stderr",
          "text": [
            "\rEpoch 3/4:  60%|██████    | 60/100 [38:21<26:01, 39.04s/batch]"
          ]
        },
        {
          "output_type": "stream",
          "name": "stdout",
          "text": [
            "Batch Loss: 44025.77682528413\n"
          ]
        },
        {
          "output_type": "stream",
          "name": "stderr",
          "text": [
            "\rEpoch 3/4:  61%|██████    | 61/100 [39:00<25:21, 39.01s/batch]"
          ]
        },
        {
          "output_type": "stream",
          "name": "stdout",
          "text": [
            "Batch Loss: 44025.524353693225\n"
          ]
        },
        {
          "output_type": "stream",
          "name": "stderr",
          "text": [
            "\rEpoch 3/4:  62%|██████▏   | 62/100 [39:39<24:42, 39.02s/batch]"
          ]
        },
        {
          "output_type": "stream",
          "name": "stdout",
          "text": [
            "Batch Loss: 44025.47684659093\n"
          ]
        },
        {
          "output_type": "stream",
          "name": "stderr",
          "text": [
            "\rEpoch 3/4:  63%|██████▎   | 63/100 [40:18<24:02, 38.98s/batch]"
          ]
        },
        {
          "output_type": "stream",
          "name": "stdout",
          "text": [
            "Batch Loss: 44026.12388494319\n"
          ]
        },
        {
          "output_type": "stream",
          "name": "stderr",
          "text": [
            "\rEpoch 3/4:  64%|██████▍   | 64/100 [40:56<23:16, 38.79s/batch]"
          ]
        },
        {
          "output_type": "stream",
          "name": "stdout",
          "text": [
            "Batch Loss: 44025.4868536932\n"
          ]
        },
        {
          "output_type": "stream",
          "name": "stderr",
          "text": [
            "\rEpoch 3/4:  65%|██████▌   | 65/100 [41:35<22:41, 38.89s/batch]"
          ]
        },
        {
          "output_type": "stream",
          "name": "stdout",
          "text": [
            "Batch Loss: 44025.48114346595\n"
          ]
        },
        {
          "output_type": "stream",
          "name": "stderr",
          "text": [
            "\rEpoch 3/4:  66%|██████▌   | 66/100 [42:14<22:02, 38.91s/batch]"
          ]
        },
        {
          "output_type": "stream",
          "name": "stdout",
          "text": [
            "Batch Loss: 44025.45931818181\n"
          ]
        },
        {
          "output_type": "stream",
          "name": "stderr",
          "text": [
            "\rEpoch 3/4:  67%|██████▋   | 67/100 [42:53<21:24, 38.93s/batch]"
          ]
        },
        {
          "output_type": "stream",
          "name": "stdout",
          "text": [
            "Batch Loss: 44025.45826704548\n"
          ]
        },
        {
          "output_type": "stream",
          "name": "stderr",
          "text": [
            "\rEpoch 3/4:  68%|██████▊   | 68/100 [43:31<20:34, 38.57s/batch]"
          ]
        },
        {
          "output_type": "stream",
          "name": "stdout",
          "text": [
            "Batch Loss: 44025.45779119318\n"
          ]
        },
        {
          "output_type": "stream",
          "name": "stderr",
          "text": [
            "\rEpoch 3/4:  69%|██████▉   | 69/100 [44:09<19:48, 38.34s/batch]"
          ]
        },
        {
          "output_type": "stream",
          "name": "stdout",
          "text": [
            "Batch Loss: 44025.47434659094\n"
          ]
        },
        {
          "output_type": "stream",
          "name": "stderr",
          "text": [
            "\rEpoch 3/4:  70%|███████   | 70/100 [44:47<19:05, 38.18s/batch]"
          ]
        },
        {
          "output_type": "stream",
          "name": "stdout",
          "text": [
            "Batch Loss: 44025.4534801136\n"
          ]
        },
        {
          "output_type": "stream",
          "name": "stderr",
          "text": [
            "\rEpoch 3/4:  71%|███████   | 71/100 [45:24<18:23, 38.04s/batch]"
          ]
        },
        {
          "output_type": "stream",
          "name": "stdout",
          "text": [
            "Batch Loss: 44025.471953124994\n"
          ]
        },
        {
          "output_type": "stream",
          "name": "stderr",
          "text": [
            "\rEpoch 3/4:  72%|███████▏  | 72/100 [46:02<17:43, 37.98s/batch]"
          ]
        },
        {
          "output_type": "stream",
          "name": "stdout",
          "text": [
            "Batch Loss: 44025.46447443183\n"
          ]
        },
        {
          "output_type": "stream",
          "name": "stderr",
          "text": [
            "\rEpoch 3/4:  73%|███████▎  | 73/100 [46:41<17:11, 38.20s/batch]"
          ]
        },
        {
          "output_type": "stream",
          "name": "stdout",
          "text": [
            "Batch Loss: 44025.47392045459\n"
          ]
        },
        {
          "output_type": "stream",
          "name": "stderr",
          "text": [
            "\rEpoch 3/4:  74%|███████▍  | 74/100 [47:19<16:31, 38.15s/batch]"
          ]
        },
        {
          "output_type": "stream",
          "name": "stdout",
          "text": [
            "Batch Loss: 44025.46446022726\n"
          ]
        },
        {
          "output_type": "stream",
          "name": "stderr",
          "text": [
            "\rEpoch 3/4:  75%|███████▌  | 75/100 [47:57<15:52, 38.11s/batch]"
          ]
        },
        {
          "output_type": "stream",
          "name": "stdout",
          "text": [
            "Batch Loss: 44025.466910511386\n"
          ]
        },
        {
          "output_type": "stream",
          "name": "stderr",
          "text": [
            "\rEpoch 3/4:  76%|███████▌  | 76/100 [48:35<15:12, 38.04s/batch]"
          ]
        },
        {
          "output_type": "stream",
          "name": "stdout",
          "text": [
            "Batch Loss: 44025.44784090912\n"
          ]
        },
        {
          "output_type": "stream",
          "name": "stderr",
          "text": [
            "\rEpoch 3/4:  77%|███████▋  | 77/100 [49:13<14:34, 38.03s/batch]"
          ]
        },
        {
          "output_type": "stream",
          "name": "stdout",
          "text": [
            "Batch Loss: 44025.45833096587\n"
          ]
        },
        {
          "output_type": "stream",
          "name": "stderr",
          "text": [
            "\rEpoch 3/4:  78%|███████▊  | 78/100 [49:51<13:56, 38.02s/batch]"
          ]
        },
        {
          "output_type": "stream",
          "name": "stdout",
          "text": [
            "Batch Loss: 44025.463075284104\n"
          ]
        },
        {
          "output_type": "stream",
          "name": "stderr",
          "text": [
            "\rEpoch 3/4:  79%|███████▉  | 79/100 [50:29<13:18, 38.02s/batch]"
          ]
        },
        {
          "output_type": "stream",
          "name": "stdout",
          "text": [
            "Batch Loss: 44025.45776988638\n"
          ]
        },
        {
          "output_type": "stream",
          "name": "stderr",
          "text": [
            "\rEpoch 3/4:  80%|████████  | 80/100 [51:06<12:38, 37.90s/batch]"
          ]
        },
        {
          "output_type": "stream",
          "name": "stdout",
          "text": [
            "Batch Loss: 44025.44784090908\n"
          ]
        },
        {
          "output_type": "stream",
          "name": "stderr",
          "text": [
            "\rEpoch 3/4:  81%|████████  | 81/100 [51:45<12:03, 38.09s/batch]"
          ]
        },
        {
          "output_type": "stream",
          "name": "stdout",
          "text": [
            "Batch Loss: 44025.464566761395\n"
          ]
        },
        {
          "output_type": "stream",
          "name": "stderr",
          "text": [
            "\rEpoch 3/4:  82%|████████▏ | 82/100 [52:23<11:22, 37.93s/batch]"
          ]
        },
        {
          "output_type": "stream",
          "name": "stdout",
          "text": [
            "Batch Loss: 44025.45623579545\n"
          ]
        },
        {
          "output_type": "stream",
          "name": "stderr",
          "text": [
            "\rEpoch 3/4:  83%|████████▎ | 83/100 [53:00<10:41, 37.76s/batch]"
          ]
        },
        {
          "output_type": "stream",
          "name": "stdout",
          "text": [
            "Batch Loss: 44025.45417613629\n"
          ]
        },
        {
          "output_type": "stream",
          "name": "stderr",
          "text": [
            "\rEpoch 3/4:  84%|████████▍ | 84/100 [53:37<10:02, 37.66s/batch]"
          ]
        },
        {
          "output_type": "stream",
          "name": "stdout",
          "text": [
            "Batch Loss: 44025.45823153406\n"
          ]
        },
        {
          "output_type": "stream",
          "name": "stderr",
          "text": [
            "\rEpoch 3/4:  85%|████████▌ | 85/100 [54:15<09:24, 37.64s/batch]"
          ]
        },
        {
          "output_type": "stream",
          "name": "stdout",
          "text": [
            "Batch Loss: 44025.45500000004\n"
          ]
        },
        {
          "output_type": "stream",
          "name": "stderr",
          "text": [
            "\rEpoch 3/4:  86%|████████▌ | 86/100 [54:53<08:47, 37.68s/batch]"
          ]
        },
        {
          "output_type": "stream",
          "name": "stdout",
          "text": [
            "Batch Loss: 44025.44760653411\n"
          ]
        },
        {
          "output_type": "stream",
          "name": "stderr",
          "text": [
            "\rEpoch 3/4:  87%|████████▋ | 87/100 [55:31<08:11, 37.78s/batch]"
          ]
        },
        {
          "output_type": "stream",
          "name": "stdout",
          "text": [
            "Batch Loss: 44025.45448863636\n"
          ]
        },
        {
          "output_type": "stream",
          "name": "stderr",
          "text": [
            "\rEpoch 3/4:  88%|████████▊ | 88/100 [56:08<07:32, 37.75s/batch]"
          ]
        },
        {
          "output_type": "stream",
          "name": "stdout",
          "text": [
            "Batch Loss: 44025.4574005682\n"
          ]
        },
        {
          "output_type": "stream",
          "name": "stderr",
          "text": [
            "\rEpoch 3/4:  89%|████████▉ | 89/100 [56:47<06:56, 37.89s/batch]"
          ]
        },
        {
          "output_type": "stream",
          "name": "stdout",
          "text": [
            "Batch Loss: 44025.46007102275\n"
          ]
        },
        {
          "output_type": "stream",
          "name": "stderr",
          "text": [
            "\rEpoch 3/4:  90%|█████████ | 90/100 [57:24<06:18, 37.84s/batch]"
          ]
        },
        {
          "output_type": "stream",
          "name": "stdout",
          "text": [
            "Batch Loss: 44025.45469460229\n"
          ]
        },
        {
          "output_type": "stream",
          "name": "stderr",
          "text": [
            "\rEpoch 3/4:  91%|█████████ | 91/100 [58:03<05:42, 38.08s/batch]"
          ]
        },
        {
          "output_type": "stream",
          "name": "stdout",
          "text": [
            "Batch Loss: 44025.443082386366\n"
          ]
        },
        {
          "output_type": "stream",
          "name": "stderr",
          "text": [
            "\rEpoch 3/4:  92%|█████████▏| 92/100 [58:41<05:05, 38.14s/batch]"
          ]
        },
        {
          "output_type": "stream",
          "name": "stdout",
          "text": [
            "Batch Loss: 44025.45026278411\n"
          ]
        },
        {
          "output_type": "stream",
          "name": "stderr",
          "text": [
            "\rEpoch 3/4:  93%|█████████▎| 93/100 [59:19<04:26, 38.13s/batch]"
          ]
        },
        {
          "output_type": "stream",
          "name": "stdout",
          "text": [
            "Batch Loss: 44025.456832386335\n"
          ]
        }
      ]
    },
    {
      "cell_type": "code",
      "source": [
        "attentions[0].size()"
      ],
      "metadata": {
        "colab": {
          "base_uri": "https://localhost:8080/"
        },
        "id": "V398WsJTh_JH",
        "outputId": "28b36d13-73c5-4b48-d422-03c9095b5704"
      },
      "execution_count": 99,
      "outputs": [
        {
          "output_type": "execute_result",
          "data": {
            "text/plain": [
              "torch.Size([1, 12, 58, 58])"
            ]
          },
          "metadata": {},
          "execution_count": 99
        }
      ]
    },
    {
      "cell_type": "code",
      "source": [
        "# predictions = []\n",
        "# for image_idx in range(len(outputs)):\n",
        "#   image_answers = []\n",
        "#   for output in outputs[image_idx]:\n",
        "#       logits = output.logits\n",
        "#       probabilities = torch.softmax(logits, dim=-1)  # Apply softmax along the last dimension\n",
        "#       pred_index = torch.argmax(probabilities, dim=-1)  # Get the index of the maximum probability\n",
        "#       pred_label = id2label[pred_index.item()]\n",
        "#       image_answers.append(pred_label)\n",
        "#   predictions.append(image_answers)\n",
        "# predictions"
      ],
      "metadata": {
        "id": "yT4abmfGZWT2"
      },
      "execution_count": null,
      "outputs": []
    },
    {
      "cell_type": "code",
      "source": [
        "# for param in vqa_model.parameters():\n",
        "#       print(param.grad)"
      ],
      "metadata": {
        "id": "n7HOlCbka4uD"
      },
      "execution_count": null,
      "outputs": []
    }
  ],
  "metadata": {
    "accelerator": "GPU",
    "colab": {
      "gpuType": "T4",
      "provenance": [],
      "include_colab_link": true
    },
    "kernelspec": {
      "display_name": "Python 3",
      "name": "python3"
    },
    "language_info": {
      "name": "python"
    }
  },
  "nbformat": 4,
  "nbformat_minor": 0
}