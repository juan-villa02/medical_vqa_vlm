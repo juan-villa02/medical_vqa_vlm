{
  "cells": [
    {
      "cell_type": "markdown",
      "metadata": {
        "id": "view-in-github",
        "colab_type": "text"
      },
      "source": [
        "<a href=\"https://colab.research.google.com/github/juan-villa02/medical_vqa_vlm/blob/main/code/notebooks/train.ipynb\" target=\"_parent\"><img src=\"https://colab.research.google.com/assets/colab-badge.svg\" alt=\"Open In Colab\"/></a>"
      ]
    },
    {
      "cell_type": "markdown",
      "metadata": {
        "id": "9gIbSRmC_Q8o"
      },
      "source": [
        "# VQA Model - BERT + ResNet18"
      ]
    },
    {
      "cell_type": "markdown",
      "metadata": {
        "id": "nnubYJEE_g7f"
      },
      "source": [
        "## Libraries/Dependencies"
      ]
    },
    {
      "cell_type": "code",
      "execution_count": 1,
      "metadata": {
        "id": "JOxuYqd1_aMO"
      },
      "outputs": [],
      "source": [
        "# PyTorch framework\n",
        "import torch\n",
        "import torch.nn as nn\n",
        "import torch.nn.functional as F\n",
        "from torch.nn.utils.rnn import pad_sequence\n",
        "from torch.utils.data import DataLoader, Dataset\n",
        "import torchvision.transforms as transforms\n",
        "import torchvision.models as models\n",
        "import torchvision.utils as utils\n",
        "# Image handling\n",
        "from PIL import Image\n",
        "from skimage import transform\n",
        "# Transformers (Hugginface)\n",
        "from transformers import AutoTokenizer, BertForQuestionAnswering, VisualBertModel, VisualBertForQuestionAnswering, VisualBertConfig\n",
        "# Matplotlib\n",
        "import matplotlib.pyplot as plt\n",
        "# Numpy\n",
        "import numpy as np\n",
        "# Extra dependencies\n",
        "import json\n",
        "import os\n",
        "from tqdm import tqdm\n",
        "import zipfile"
      ]
    },
    {
      "cell_type": "code",
      "execution_count": 2,
      "metadata": {
        "colab": {
          "base_uri": "https://localhost:8080/"
        },
        "id": "d29Ogg0EBJgx",
        "outputId": "aa006dbb-5681-4d34-b36b-25aaf0a46c0b"
      },
      "outputs": [
        {
          "output_type": "stream",
          "name": "stdout",
          "text": [
            "cuda:0\n"
          ]
        }
      ],
      "source": [
        "# Set training device to GPU if available\n",
        "device = torch.device(\"cuda:0\" if torch.cuda.is_available() else \"cpu\")\n",
        "print(device)"
      ]
    },
    {
      "cell_type": "markdown",
      "metadata": {
        "id": "-5MQ2XccBctw"
      },
      "source": [
        "## Paths & Data Extraction"
      ]
    },
    {
      "cell_type": "code",
      "execution_count": 3,
      "metadata": {
        "colab": {
          "base_uri": "https://localhost:8080/"
        },
        "id": "4bhmZStTCxv4",
        "outputId": "83220910-21b0-4314-dd08-145712dbbe88"
      },
      "outputs": [
        {
          "output_type": "stream",
          "name": "stdout",
          "text": [
            "Mounted at /content/drive\n"
          ]
        }
      ],
      "source": [
        "from google.colab import drive\n",
        "drive.mount('/content/drive')"
      ]
    },
    {
      "cell_type": "code",
      "execution_count": 4,
      "metadata": {
        "id": "Lhz88OSQBaIZ"
      },
      "outputs": [],
      "source": [
        "path_dir = '.'\n",
        "path_dir = '/content/drive/MyDrive/TFG Juan Villanueva/databases_qa.zip'"
      ]
    },
    {
      "cell_type": "code",
      "execution_count": 5,
      "metadata": {
        "id": "MB-bgRNCoPqN"
      },
      "outputs": [],
      "source": [
        "# Data folder\n",
        "data_folder = './data/'"
      ]
    },
    {
      "cell_type": "code",
      "execution_count": 6,
      "metadata": {
        "id": "-Nuib-S0pXlU"
      },
      "outputs": [],
      "source": [
        "# ISIC_2016 database (images)\n",
        "train_ISIC_path = 'databases_qa/ISIC_2016/images/ISBI2016_ISIC_Part3_Training_Data_orig'\n",
        "test_ISIC_path = 'bases de datos/ISIC_2016/images/ISBI2016_ISIC_Part1_Test_Data_orig'"
      ]
    },
    {
      "cell_type": "code",
      "execution_count": 7,
      "metadata": {
        "id": "gMjnxi-_p38f"
      },
      "outputs": [],
      "source": [
        "# Pizarro database (images)\n",
        "pizarro_path = 'databases_qa/pizarro/images'"
      ]
    },
    {
      "cell_type": "code",
      "execution_count": 8,
      "metadata": {
        "id": "vcY75F9to4XA"
      },
      "outputs": [],
      "source": [
        "# Function to extract databases from the main zip file\n",
        "def extract_databases(zip_path, extract_path):\n",
        "    with zipfile.ZipFile(zip_path, 'r') as zip_ref:\n",
        "        zip_ref.extractall(extract_path)"
      ]
    },
    {
      "cell_type": "code",
      "execution_count": 9,
      "metadata": {
        "id": "XecsY9GIlCDx"
      },
      "outputs": [],
      "source": [
        "# Extract all databases from the main zip file\n",
        "if path_dir != '.':\n",
        "  extract_databases(path_dir, data_folder)"
      ]
    },
    {
      "cell_type": "code",
      "execution_count": 10,
      "metadata": {
        "id": "IenAqE-1rKgD"
      },
      "outputs": [],
      "source": [
        "# ISIC_2016 images\n",
        "database1_train_path = os.path.join(data_folder, train_ISIC_path)\n",
        "database1_test_path = os.path.join(data_folder, test_ISIC_path)"
      ]
    },
    {
      "cell_type": "code",
      "execution_count": 11,
      "metadata": {
        "id": "Bfi5boA0s727"
      },
      "outputs": [],
      "source": [
        "# Pizarro images\n",
        "# 500 imágenes; Las 46 primeras son más complejas, en cuanto a diagnóstico. (Entrega 1) El resto están más equilibradas (Entrega 2-5)\n",
        "database2_path = os.path.join(data_folder, pizarro_path)"
      ]
    },
    {
      "cell_type": "markdown",
      "metadata": {
        "id": "SedFsMzrAegB"
      },
      "source": [
        "## VQA Dataset - Images & QA"
      ]
    },
    {
      "cell_type": "code",
      "execution_count": 12,
      "metadata": {
        "id": "_AUIrbp_w4CS"
      },
      "outputs": [],
      "source": [
        "# Dataset class to load images and questions\n",
        "class VQADataset(Dataset):\n",
        "    def __init__(self, data_dir, json_file, tokenizer=None, transform=None):\n",
        "        self.data_dir = data_dir\n",
        "        self.transform = transform\n",
        "        self.tokenizer = tokenizer\n",
        "\n",
        "        with open(json_file, 'r') as f:\n",
        "            self.data = json.load(f)\n",
        "\n",
        "    def __len__(self):\n",
        "        return len(self.data)\n",
        "\n",
        "    def __getitem__(self, idx):\n",
        "        item = self.data[idx]\n",
        "        image_path = os.path.join(self.data_dir, item['image_id'])\n",
        "\n",
        "        # Ensure the image ID ends with \".jpg\"\n",
        "        if not image_path.endswith(\".jpg\"):\n",
        "            image_path += \".jpg\"\n",
        "\n",
        "        image = Image.open(image_path).convert('RGB')\n",
        "\n",
        "        if self.transform:\n",
        "            image = self.transform(image)\n",
        "\n",
        "        # Store questions and answers in two different arrays\n",
        "        qa_pairs = item['qa_pairs']\n",
        "        questions = [qa['question'] for qa in qa_pairs]\n",
        "        answers = [qa['answer'] for qa in qa_pairs]\n",
        "\n",
        "        return image, questions, answers"
      ]
    },
    {
      "cell_type": "code",
      "execution_count": 13,
      "metadata": {
        "id": "eV9ivOizwN-r"
      },
      "outputs": [],
      "source": [
        "pizarroDataset = VQADataset(database2_path,'/content/data/databases_qa/pizarro/qa_pizarro.json')"
      ]
    },
    {
      "cell_type": "code",
      "execution_count": 14,
      "metadata": {
        "colab": {
          "base_uri": "https://localhost:8080/"
        },
        "id": "7b45i5PCxoA5",
        "outputId": "59123c2c-f600-4746-cd1d-8a4c7a4ec340"
      },
      "outputs": [
        {
          "output_type": "execute_result",
          "data": {
            "text/plain": [
              "(<PIL.Image.Image image mode=RGB size=640x480>,\n",
              " ['Can you describe the general silhouette?',\n",
              "  'How would you characterize the overall silhouette?',\n",
              "  'What is the overall shape of the lesion?',\n",
              "  'Describe the silhouette of the lesion.',\n",
              "  'What does the silhouette of the lesion look like?',\n",
              "  'What is the histology diagnostic?',\n",
              "  'Could you provide the histological diagnosis?',\n",
              "  'What does the histology indicate?',\n",
              "  'Describe the histological diagnosis.',\n",
              "  'Based on histology, what is the diagnosis?',\n",
              "  'Can you see any dysplasia?',\n",
              "  'Is there any evidence of dysplasia?',\n",
              "  'Do you observe signs of dysplasia?',\n",
              "  'Describe the presence of dysplasia.',\n",
              "  'Is dysplasia present in the lesion?',\n",
              "  'What is the diagnostic impression?',\n",
              "  'Could you provide your impression of the diagnosis?',\n",
              "  'What impression do you have regarding the diagnosis?',\n",
              "  'Describe your overall diagnosis impression.',\n",
              "  'What are your thoughts on the diagnosis?',\n",
              "  'What is the diagnostic difficulty?',\n",
              "  'How challenging is the diagnosis?',\n",
              "  'Can you assess the difficulty of the diagnosis?',\n",
              "  'Describe the level of difficulty in the diagnosis.',\n",
              "  'How difficult is it to make the diagnosis?',\n",
              "  'Is there any excision?',\n",
              "  'Has the lesion been excised?',\n",
              "  'Was excision performed on the lesion?',\n",
              "  'Describe any excision performed.',\n",
              "  'Was the lesion removed by excision?',\n",
              "  'How is the global pattern?',\n",
              "  'Can you describe the overall pattern?',\n",
              "  'Describe the pattern observed globally.',\n",
              "  'What is the pattern like throughout the lesion?',\n",
              "  'What patterns are present in the entire lesion?',\n",
              "  'How is the peripheral globular pattern?',\n",
              "  'Describe the presence of peripheral globular pattern.',\n",
              "  'Is there any peripheral globular pattern observed?',\n",
              "  'What is the pattern like at the periphery?',\n",
              "  'Are there globular patterns around the edges?',\n",
              "  'Is there any symmetry pattern?',\n",
              "  'How would you describe the symmetry?',\n",
              "  'Describe the symmetry of the lesion.',\n",
              "  'Is the lesion symmetric or asymmetric?',\n",
              "  'Can you assess the symmetry of the lesion?',\n",
              "  'Can you identify any pigmented reticulum?',\n",
              "  'Do you observe pigmented reticulum?',\n",
              "  'Describe the presence of pigmented reticulum.',\n",
              "  'Are there any signs of pigmented reticulum?',\n",
              "  'What about pigmented reticulum in the lesion?',\n",
              "  'Can you identify any negative reticulum?',\n",
              "  'Do you observe negative reticulum?',\n",
              "  'Describe the presence of negative reticulum.',\n",
              "  'Are there any signs of negative reticulum?',\n",
              "  'What about negative reticulum in the lesion?',\n",
              "  'Can you identify any small dots/globules?',\n",
              "  'Do you see any small dots/globules?',\n",
              "  'Describe the presence of small dots/globules.',\n",
              "  'Are there any signs of small dots/globules?',\n",
              "  'What about small dots/globules in the lesion?',\n",
              "  'Can you identify any large globules/cobblestone?',\n",
              "  'Do you observe large globules/cobblestone?',\n",
              "  'Describe the presence of large globules/cobblestone.',\n",
              "  'Are there any signs of large globules/cobblestone?',\n",
              "  'What about large globules/cobblestone in the lesion?',\n",
              "  'Can you identify any peripheral globules?',\n",
              "  'Do you observe peripheral globules?',\n",
              "  'Describe the presence of peripheral globules.',\n",
              "  'Are there any signs of peripheral globules?',\n",
              "  'What about peripheral globules in the lesion?',\n",
              "  'Can you identify any peripheral projections?',\n",
              "  'Do you observe peripheral projections?',\n",
              "  'Describe the presence of peripheral projections.',\n",
              "  'Are there any signs of peripheral projections?',\n",
              "  'What about peripheral projections in the lesion?',\n",
              "  'Can you identify any homogeneous area without vessels?',\n",
              "  'Do you observe homogeneous area without vessels?',\n",
              "  'Describe the presence of homogeneous area without vessels.',\n",
              "  'Are there any signs of homogeneous area without vessels?',\n",
              "  'What about homogeneous area without vessels in the lesion?',\n",
              "  'Can you identify any homogeneous area with vessels?',\n",
              "  'Do you observe homogeneous area with vessels?',\n",
              "  'Describe the presence of homogeneous area with vessels.',\n",
              "  'Are there any signs of homogeneous area with vessels?',\n",
              "  'What about homogeneous area with vessels in the lesion?',\n",
              "  'Can you identify any undefined area?',\n",
              "  'Do you observe undefined area?',\n",
              "  'Describe the presence of undefined area.',\n",
              "  'Are there any signs of undefined area?',\n",
              "  'What about undefined area in the lesion?',\n",
              "  'Can you identify any gray regression?',\n",
              "  'Do you observe gray regression?',\n",
              "  'Describe the presence of gray regression.',\n",
              "  'Are there any signs of gray regression?',\n",
              "  'What about gray regression in the lesion?',\n",
              "  'Can you identify any white regression?',\n",
              "  'Do you observe white regression?',\n",
              "  'Describe the presence of white regression.',\n",
              "  'Are there any signs of white regression?',\n",
              "  'What about white regression in the lesion?',\n",
              "  'Can you identify any whitish blue veil?',\n",
              "  'Do you observe whitish blue veil?',\n",
              "  'Describe the presence of whitish blue veil.',\n",
              "  'Are there any signs of whitish blue veil?',\n",
              "  'What about whitish blue veil in the lesion?',\n",
              "  'Can you identify any chrysalis?',\n",
              "  'Do you observe chrysalis?',\n",
              "  'Describe the presence of chrysalis.',\n",
              "  'Are there any signs of chrysalis?',\n",
              "  'What about chrysalis in the lesion?'],\n",
              " ['The general silhouette of the lesion is flattened elevated.',\n",
              "  'The general silhouette of the lesion is flattened elevated.',\n",
              "  'The general silhouette of the lesion is flattened elevated.',\n",
              "  'The general silhouette of the lesion is flattened elevated.',\n",
              "  'The general silhouette of the lesion is flattened elevated.',\n",
              "  'The histology diagnostic indicates non-atypical stable mole (m).',\n",
              "  'The histology diagnostic indicates non-atypical stable mole (m).',\n",
              "  'The histology diagnostic indicates non-atypical stable mole (m).',\n",
              "  'The histology diagnostic indicates non-atypical stable mole (m).',\n",
              "  'The histology diagnostic indicates non-atypical stable mole (m).',\n",
              "  'The presence of dysplasia is not applicable.',\n",
              "  'The presence of dysplasia is not applicable.',\n",
              "  'The presence of dysplasia is not applicable.',\n",
              "  'The presence of dysplasia is not applicable.',\n",
              "  'The presence of dysplasia is not applicable.',\n",
              "  'The diagnostic impression is atypical mole.',\n",
              "  'The diagnostic impression is atypical mole.',\n",
              "  'The diagnostic impression is atypical mole.',\n",
              "  'The diagnostic impression is atypical mole.',\n",
              "  'The diagnostic impression is atypical mole.',\n",
              "  'The diagnostic difficulty level is low.',\n",
              "  'The diagnostic difficulty level is low.',\n",
              "  'The diagnostic difficulty level is low.',\n",
              "  'The diagnostic difficulty level is low.',\n",
              "  'The diagnostic difficulty level is low.',\n",
              "  'The lesion has been not excised.',\n",
              "  'The lesion has been not excised.',\n",
              "  'The lesion has been not excised.',\n",
              "  'The lesion has been not excised.',\n",
              "  'The lesion has been not excised.',\n",
              "  'The global pattern of the lesion is mixed (mix of two of the above).',\n",
              "  'The global pattern of the lesion is mixed (mix of two of the above).',\n",
              "  'The global pattern of the lesion is mixed (mix of two of the above).',\n",
              "  'The global pattern of the lesion is mixed (mix of two of the above).',\n",
              "  'The global pattern of the lesion is mixed (mix of two of the above).',\n",
              "  'The peripheral globular pattern is absent.',\n",
              "  'The peripheral globular pattern is absent.',\n",
              "  'The peripheral globular pattern is absent.',\n",
              "  'The peripheral globular pattern is absent.',\n",
              "  'The peripheral globular pattern is absent.',\n",
              "  'The lesion is asymmetric on one axis.',\n",
              "  'The lesion is asymmetric on one axis.',\n",
              "  'The lesion is asymmetric on one axis.',\n",
              "  'The lesion is asymmetric on one axis.',\n",
              "  'The lesion is asymmetric on one axis.',\n",
              "  'Yes, clear and dominant pigmented reticulum is observed.',\n",
              "  'Yes, clear and dominant pigmented reticulum is observed.',\n",
              "  'Yes, clear and dominant pigmented reticulum is observed.',\n",
              "  'Yes, clear and dominant pigmented reticulum is observed.',\n",
              "  'Yes, clear and dominant pigmented reticulum is observed.',\n",
              "  'No negative reticulum is observed.',\n",
              "  'No negative reticulum is observed.',\n",
              "  'No negative reticulum is observed.',\n",
              "  'No negative reticulum is observed.',\n",
              "  'No negative reticulum is observed.',\n",
              "  'No small dots/globules are present.',\n",
              "  'No small dots/globules are present.',\n",
              "  'No small dots/globules are present.',\n",
              "  'No small dots/globules are present.',\n",
              "  'No small dots/globules are present.',\n",
              "  'Yes, clear large globules/cobblestone are observed.',\n",
              "  'Yes, clear large globules/cobblestone are observed.',\n",
              "  'Yes, clear large globules/cobblestone are observed.',\n",
              "  'Yes, clear large globules/cobblestone are observed.',\n",
              "  'Yes, clear large globules/cobblestone are observed.',\n",
              "  'Yes, subtle peripheral globules are observed.',\n",
              "  'Yes, subtle peripheral globules are observed.',\n",
              "  'Yes, subtle peripheral globules are observed.',\n",
              "  'Yes, subtle peripheral globules are observed.',\n",
              "  'Yes, subtle peripheral globules are observed.',\n",
              "  'No peripheral projections are present.',\n",
              "  'No peripheral projections are present.',\n",
              "  'No peripheral projections are present.',\n",
              "  'No peripheral projections are present.',\n",
              "  'No peripheral projections are present.',\n",
              "  'No homogeneous area without vessels is observed.',\n",
              "  'No homogeneous area without vessels is observed.',\n",
              "  'No homogeneous area without vessels is observed.',\n",
              "  'No homogeneous area without vessels is observed.',\n",
              "  'No homogeneous area without vessels is observed.',\n",
              "  'No homogeneous area with vessels is observed.',\n",
              "  'No homogeneous area with vessels is observed.',\n",
              "  'No homogeneous area with vessels is observed.',\n",
              "  'No homogeneous area with vessels is observed.',\n",
              "  'No homogeneous area with vessels is observed.',\n",
              "  'No undefined area is observed.',\n",
              "  'No undefined area is observed.',\n",
              "  'No undefined area is observed.',\n",
              "  'No undefined area is observed.',\n",
              "  'No undefined area is observed.',\n",
              "  'No gray regression is observed.',\n",
              "  'No gray regression is observed.',\n",
              "  'No gray regression is observed.',\n",
              "  'No gray regression is observed.',\n",
              "  'No gray regression is observed.',\n",
              "  'No white regression is observed.',\n",
              "  'No white regression is observed.',\n",
              "  'No white regression is observed.',\n",
              "  'No white regression is observed.',\n",
              "  'No white regression is observed.',\n",
              "  'No whitish blue veil is observed.',\n",
              "  'No whitish blue veil is observed.',\n",
              "  'No whitish blue veil is observed.',\n",
              "  'No whitish blue veil is observed.',\n",
              "  'No whitish blue veil is observed.',\n",
              "  'No chrysalis is observed.',\n",
              "  'No chrysalis is observed.',\n",
              "  'No chrysalis is observed.',\n",
              "  'No chrysalis is observed.',\n",
              "  'No chrysalis is observed.'])"
            ]
          },
          "metadata": {},
          "execution_count": 14
        }
      ],
      "source": [
        "pizarroDataset[10]"
      ]
    },
    {
      "cell_type": "markdown",
      "metadata": {
        "id": "---H6oXn4860"
      },
      "source": [
        "## Load pre-trained ResNet18"
      ]
    },
    {
      "cell_type": "code",
      "execution_count": 15,
      "metadata": {
        "id": "cXzT4ZfT5BTU"
      },
      "outputs": [],
      "source": [
        "# Load ResNet-18 model from .pth file\n",
        "def load_resnet(path, optimizer=None, scheduler=None):\n",
        "    resnet = models.resnet18()\n",
        "    # Remove final fully connected layer (we do not want the model to return labels but features)\n",
        "    resnet.fc = nn.Identity()\n",
        "\n",
        "    # Load the weights\n",
        "    state_dict = torch.load(path, map_location=device)['state_dict']\n",
        "\n",
        "    # Remove unexpected keys if they exist\n",
        "    unexpected_keys = ['fc.weight', 'fc.bias']\n",
        "    for key in unexpected_keys:\n",
        "        if key in state_dict:\n",
        "            del state_dict[key]\n",
        "\n",
        "    # Load the weights\n",
        "    resnet.load_state_dict(state_dict)\n",
        "    resnet.eval()\n",
        "\n",
        "    if optimizer is not None:\n",
        "        optimizer.load_state_dict(torch.load(path)['optimizer'])\n",
        "    if scheduler is not None:\n",
        "        scheduler.load_state_dict(torch.load(path)['scheduler'])\n",
        "\n",
        "    resnet.to(device)\n",
        "\n",
        "    return resnet, optimizer, scheduler"
      ]
    },
    {
      "cell_type": "code",
      "execution_count": 16,
      "metadata": {
        "id": "5rGRJcyj5LKz"
      },
      "outputs": [],
      "source": [
        "model_source_path = '/content/drive/MyDrive/TFG Juan Villanueva/codigo diagnostico/bestdiagNet.pth'"
      ]
    },
    {
      "cell_type": "code",
      "execution_count": 17,
      "metadata": {
        "id": "hm9XDY285UOB"
      },
      "outputs": [],
      "source": [
        "resnet, optimizer, scheduler = load_resnet(model_source_path)"
      ]
    },
    {
      "cell_type": "code",
      "execution_count": 18,
      "metadata": {
        "colab": {
          "base_uri": "https://localhost:8080/"
        },
        "id": "yCtvmxrn9m2u",
        "outputId": "cd972467-3cbe-48ca-8a72-926a77906201"
      },
      "outputs": [
        {
          "output_type": "execute_result",
          "data": {
            "text/plain": [
              "ResNet(\n",
              "  (conv1): Conv2d(3, 64, kernel_size=(7, 7), stride=(2, 2), padding=(3, 3), bias=False)\n",
              "  (bn1): BatchNorm2d(64, eps=1e-05, momentum=0.1, affine=True, track_running_stats=True)\n",
              "  (relu): ReLU(inplace=True)\n",
              "  (maxpool): MaxPool2d(kernel_size=3, stride=2, padding=1, dilation=1, ceil_mode=False)\n",
              "  (layer1): Sequential(\n",
              "    (0): BasicBlock(\n",
              "      (conv1): Conv2d(64, 64, kernel_size=(3, 3), stride=(1, 1), padding=(1, 1), bias=False)\n",
              "      (bn1): BatchNorm2d(64, eps=1e-05, momentum=0.1, affine=True, track_running_stats=True)\n",
              "      (relu): ReLU(inplace=True)\n",
              "      (conv2): Conv2d(64, 64, kernel_size=(3, 3), stride=(1, 1), padding=(1, 1), bias=False)\n",
              "      (bn2): BatchNorm2d(64, eps=1e-05, momentum=0.1, affine=True, track_running_stats=True)\n",
              "    )\n",
              "    (1): BasicBlock(\n",
              "      (conv1): Conv2d(64, 64, kernel_size=(3, 3), stride=(1, 1), padding=(1, 1), bias=False)\n",
              "      (bn1): BatchNorm2d(64, eps=1e-05, momentum=0.1, affine=True, track_running_stats=True)\n",
              "      (relu): ReLU(inplace=True)\n",
              "      (conv2): Conv2d(64, 64, kernel_size=(3, 3), stride=(1, 1), padding=(1, 1), bias=False)\n",
              "      (bn2): BatchNorm2d(64, eps=1e-05, momentum=0.1, affine=True, track_running_stats=True)\n",
              "    )\n",
              "  )\n",
              "  (layer2): Sequential(\n",
              "    (0): BasicBlock(\n",
              "      (conv1): Conv2d(64, 128, kernel_size=(3, 3), stride=(2, 2), padding=(1, 1), bias=False)\n",
              "      (bn1): BatchNorm2d(128, eps=1e-05, momentum=0.1, affine=True, track_running_stats=True)\n",
              "      (relu): ReLU(inplace=True)\n",
              "      (conv2): Conv2d(128, 128, kernel_size=(3, 3), stride=(1, 1), padding=(1, 1), bias=False)\n",
              "      (bn2): BatchNorm2d(128, eps=1e-05, momentum=0.1, affine=True, track_running_stats=True)\n",
              "      (downsample): Sequential(\n",
              "        (0): Conv2d(64, 128, kernel_size=(1, 1), stride=(2, 2), bias=False)\n",
              "        (1): BatchNorm2d(128, eps=1e-05, momentum=0.1, affine=True, track_running_stats=True)\n",
              "      )\n",
              "    )\n",
              "    (1): BasicBlock(\n",
              "      (conv1): Conv2d(128, 128, kernel_size=(3, 3), stride=(1, 1), padding=(1, 1), bias=False)\n",
              "      (bn1): BatchNorm2d(128, eps=1e-05, momentum=0.1, affine=True, track_running_stats=True)\n",
              "      (relu): ReLU(inplace=True)\n",
              "      (conv2): Conv2d(128, 128, kernel_size=(3, 3), stride=(1, 1), padding=(1, 1), bias=False)\n",
              "      (bn2): BatchNorm2d(128, eps=1e-05, momentum=0.1, affine=True, track_running_stats=True)\n",
              "    )\n",
              "  )\n",
              "  (layer3): Sequential(\n",
              "    (0): BasicBlock(\n",
              "      (conv1): Conv2d(128, 256, kernel_size=(3, 3), stride=(2, 2), padding=(1, 1), bias=False)\n",
              "      (bn1): BatchNorm2d(256, eps=1e-05, momentum=0.1, affine=True, track_running_stats=True)\n",
              "      (relu): ReLU(inplace=True)\n",
              "      (conv2): Conv2d(256, 256, kernel_size=(3, 3), stride=(1, 1), padding=(1, 1), bias=False)\n",
              "      (bn2): BatchNorm2d(256, eps=1e-05, momentum=0.1, affine=True, track_running_stats=True)\n",
              "      (downsample): Sequential(\n",
              "        (0): Conv2d(128, 256, kernel_size=(1, 1), stride=(2, 2), bias=False)\n",
              "        (1): BatchNorm2d(256, eps=1e-05, momentum=0.1, affine=True, track_running_stats=True)\n",
              "      )\n",
              "    )\n",
              "    (1): BasicBlock(\n",
              "      (conv1): Conv2d(256, 256, kernel_size=(3, 3), stride=(1, 1), padding=(1, 1), bias=False)\n",
              "      (bn1): BatchNorm2d(256, eps=1e-05, momentum=0.1, affine=True, track_running_stats=True)\n",
              "      (relu): ReLU(inplace=True)\n",
              "      (conv2): Conv2d(256, 256, kernel_size=(3, 3), stride=(1, 1), padding=(1, 1), bias=False)\n",
              "      (bn2): BatchNorm2d(256, eps=1e-05, momentum=0.1, affine=True, track_running_stats=True)\n",
              "    )\n",
              "  )\n",
              "  (layer4): Sequential(\n",
              "    (0): BasicBlock(\n",
              "      (conv1): Conv2d(256, 512, kernel_size=(3, 3), stride=(2, 2), padding=(1, 1), bias=False)\n",
              "      (bn1): BatchNorm2d(512, eps=1e-05, momentum=0.1, affine=True, track_running_stats=True)\n",
              "      (relu): ReLU(inplace=True)\n",
              "      (conv2): Conv2d(512, 512, kernel_size=(3, 3), stride=(1, 1), padding=(1, 1), bias=False)\n",
              "      (bn2): BatchNorm2d(512, eps=1e-05, momentum=0.1, affine=True, track_running_stats=True)\n",
              "      (downsample): Sequential(\n",
              "        (0): Conv2d(256, 512, kernel_size=(1, 1), stride=(2, 2), bias=False)\n",
              "        (1): BatchNorm2d(512, eps=1e-05, momentum=0.1, affine=True, track_running_stats=True)\n",
              "      )\n",
              "    )\n",
              "    (1): BasicBlock(\n",
              "      (conv1): Conv2d(512, 512, kernel_size=(3, 3), stride=(1, 1), padding=(1, 1), bias=False)\n",
              "      (bn1): BatchNorm2d(512, eps=1e-05, momentum=0.1, affine=True, track_running_stats=True)\n",
              "      (relu): ReLU(inplace=True)\n",
              "      (conv2): Conv2d(512, 512, kernel_size=(3, 3), stride=(1, 1), padding=(1, 1), bias=False)\n",
              "      (bn2): BatchNorm2d(512, eps=1e-05, momentum=0.1, affine=True, track_running_stats=True)\n",
              "    )\n",
              "  )\n",
              "  (avgpool): AdaptiveAvgPool2d(output_size=(1, 1))\n",
              "  (fc): Identity()\n",
              ")"
            ]
          },
          "metadata": {},
          "execution_count": 18
        }
      ],
      "source": [
        "resnet"
      ]
    },
    {
      "cell_type": "markdown",
      "metadata": {
        "id": "esJtbykJp-f4"
      },
      "source": [
        "## Image Transformations"
      ]
    },
    {
      "cell_type": "code",
      "execution_count": 19,
      "metadata": {
        "id": "KbPIvTG8p9rw"
      },
      "outputs": [],
      "source": [
        "class Normalize(object):\n",
        "    \"\"\"Normalizes the image by subtracting the mean and dividing by the standard deviations.\n",
        "\n",
        "    Args:\n",
        "        mean: The vector containing the means.\n",
        "        std: The vector containing the standard deviations.\n",
        "    \"\"\"\n",
        "\n",
        "    def __init__(self, mean, std):\n",
        "        assert len(mean) == len(std), 'Length of mean and std vectors is not the same'\n",
        "        self.mean = np.array(mean)\n",
        "        self.std = np.array(std)\n",
        "\n",
        "    def __call__(self, image):\n",
        "\n",
        "        image = image.float()  # Convert to float tensor\n",
        "        image = image / 255.0  # Scale pixel values to the range [0, 1]\n",
        "\n",
        "        dtype = image.dtype\n",
        "        mean = torch.as_tensor(self.mean, dtype=dtype, device=image.device)\n",
        "        std = torch.as_tensor(self.std, dtype=dtype, device=image.device)\n",
        "        # Avoid division by nearly zero\n",
        "        std[std < 1e-5] = 1.0\n",
        "        # Normalize the image\n",
        "        image = (image - mean[:, None, None]) / std[:, None, None]\n",
        "\n",
        "        return image"
      ]
    },
    {
      "cell_type": "code",
      "execution_count": 20,
      "metadata": {
        "id": "Km6vWZvXqqBh"
      },
      "outputs": [],
      "source": [
        "class ToTensor(object):\n",
        "    \"\"\"Converts the image ndarray to a tensor.\"\"\"\n",
        "\n",
        "    def __call__(self, image):\n",
        "        # Change the axes\n",
        "        # numpy image: H x W x C\n",
        "        # torch image: C x H x W\n",
        "        image = np.array(image)\n",
        "        image = image.transpose((2, 0, 1))\n",
        "        image = torch.from_numpy(image)\n",
        "\n",
        "        return image\n"
      ]
    },
    {
      "cell_type": "code",
      "execution_count": 21,
      "metadata": {
        "id": "Wutbk8yiqsiR"
      },
      "outputs": [],
      "source": [
        "class Rescale(object):\n",
        "    \"\"\"Rescales the image to a desired size.\n",
        "\n",
        "    Args:\n",
        "        output_size (tuple or int): Desired output size. If tuple, output is the output_size.\n",
        "            If int, the smaller of the image edges is matched to output_size keeping aspect ratio the same.\n",
        "    \"\"\"\n",
        "\n",
        "    def __init__(self, output_size):\n",
        "        assert isinstance(output_size, (int, tuple))\n",
        "        self.output_size = output_size\n",
        "\n",
        "    def __call__(self, image):\n",
        "        # Convert the PIL image to a NumPy array\n",
        "        image_np = np.array(image)\n",
        "\n",
        "        # Get the height and width of the image\n",
        "        h, w = image_np.shape[:2]\n",
        "\n",
        "        if isinstance(self.output_size, int):\n",
        "            if h > w:\n",
        "                new_h, new_w = self.output_size * h / w, self.output_size\n",
        "            else:\n",
        "                new_h, new_w = self.output_size, self.output_size * w / h\n",
        "        else:\n",
        "            new_h, new_w = self.output_size\n",
        "\n",
        "        new_h, new_w = int(new_h), int(new_w)\n",
        "\n",
        "        # Resize the image using scikit-image's resize function\n",
        "        resized_image = transform.resize(image_np, (new_h, new_w))\n",
        "\n",
        "        # Convert the resized NumPy array back to a PIL image\n",
        "        resized_image_pil = Image.fromarray((resized_image * 255).astype(np.uint8))\n",
        "\n",
        "        return resized_image_pil"
      ]
    },
    {
      "cell_type": "markdown",
      "metadata": {
        "id": "jtRQDxjhr7th"
      },
      "source": [
        "## Datasets and Dataloaders"
      ]
    },
    {
      "cell_type": "code",
      "execution_count": 22,
      "metadata": {
        "id": "Lnu68fiWr7Hd"
      },
      "outputs": [],
      "source": [
        "# Train ISIC Dataset------------------------------------------------------------\n",
        "train_dataset_isic = VQADataset(data_dir=database1_train_path,\n",
        "                           json_file='/content/data/databases_qa/ISIC_2016/qa_ISIC.json',\n",
        "                           tokenizer=None,\n",
        "                           transform=transforms.Compose([\n",
        "                            Rescale((224,224)),\n",
        "                            ToTensor(),\n",
        "                            Normalize(mean=[0.485, 0.456, 0.406], std=[0.229, 0.224, 0.225])\n",
        "                            ]))\n",
        "# Test ISIC Dataset--------------------------------------------------------------\n",
        "test_dataset_isic = VQADataset(data_dir=database1_test_path,\n",
        "                           json_file='/content/data/databases_qa/ISIC_2016/qa_ISIC.json',\n",
        "                           tokenizer=None,\n",
        "                           transform=transforms.Compose([\n",
        "                            Rescale((224,224)),\n",
        "                            ToTensor(),\n",
        "                            Normalize(mean=[0.485, 0.456, 0.406], std=[0.229, 0.224, 0.225])\n",
        "                            ]))"
      ]
    },
    {
      "cell_type": "code",
      "execution_count": 23,
      "metadata": {
        "id": "3BQq_UYpfjyg"
      },
      "outputs": [],
      "source": [
        "# Train Pizarro Dataset------------------------------------------------------------\n",
        "train_dataset_pizarro = VQADataset(data_dir=database2_path,\n",
        "                           json_file='/content/data/databases_qa/pizarro/qa_pizarro.json',\n",
        "                           tokenizer=None,\n",
        "                           transform=transforms.Compose([\n",
        "                            Rescale((224,380)),\n",
        "                            ToTensor(),\n",
        "                            Normalize(mean=[0.485, 0.456, 0.406], std=[0.229, 0.224, 0.225])\n",
        "                            ]))"
      ]
    },
    {
      "cell_type": "markdown",
      "source": [
        "## Define the all the possible answers within both datasets"
      ],
      "metadata": {
        "id": "SBodYMxwROs0"
      }
    },
    {
      "cell_type": "code",
      "source": [
        "# Extract all answers from the dataset\n",
        "all_answers = [answer for _, _, answers in train_dataset_pizarro for answer in answers]\n",
        "# Obtain unique answer values\n",
        "unique_answers = list(set(all_answers))"
      ],
      "metadata": {
        "id": "MtaTJ0v3RJ0W"
      },
      "execution_count": 24,
      "outputs": []
    },
    {
      "cell_type": "code",
      "source": [
        "unique_answers"
      ],
      "metadata": {
        "id": "fZOPrVjkTVVA",
        "outputId": "8d534dba-d60c-46f4-edb2-99cc7d407d0d",
        "colab": {
          "base_uri": "https://localhost:8080/"
        }
      },
      "execution_count": 25,
      "outputs": [
        {
          "output_type": "execute_result",
          "data": {
            "text/plain": [
              "['The lesion is asymmetric on two axes.',\n",
              " 'The peripheral globular pattern is .',\n",
              " 'Yes, clear peripheral globules are observed.',\n",
              " 'Yes, clear white regression is observed.',\n",
              " 'Yes, clear and dominant peripheral projections are present.',\n",
              " 'The peripheral globular pattern is focal bursting.',\n",
              " 'No white regression is observed.',\n",
              " 'The diagnostic impression is non-atypical mole.',\n",
              " 'Yes, subtle chrysalis is observed.',\n",
              " 'The diagnostic impression is exclude melanoma.',\n",
              " 'The histology diagnostic indicates superficial spreading melanoma (ssm).',\n",
              " 'The lesion has been follow-up, without previous dermoscopy.',\n",
              " 'No large globules/cobblestone are observed.',\n",
              " 'Yes, subtle peripheral globules are observed.',\n",
              " ' chrysalis is observed.',\n",
              " 'The diagnostic difficulty level is medium.',\n",
              " 'The histology diagnostic indicates compound melanocytic nevus (cmn).',\n",
              " 'The global pattern of the lesion is multicomponent (mix of 3 or more above).',\n",
              " 'The diagnostic impression is melanoma.',\n",
              " 'Yes, clear negative reticulum is observed.',\n",
              " 'The peripheral globular pattern is irregular conventional.',\n",
              " 'The lesion is .',\n",
              " 'Yes, subtle peripheral projections are present.',\n",
              " 'Yes, subtle negative reticulum is observed.',\n",
              " 'The lesion has been follow-up with previous dermoscopy, due to symptoms.',\n",
              " 'No pigmented reticulum is observed.',\n",
              " 'The global pattern of the lesion is patchy reticular.',\n",
              " 'No chrysalis is observed.',\n",
              " 'The general silhouette of the lesion is flat.',\n",
              " 'The peripheral globular pattern is absent.',\n",
              " 'The lesion has been not excised.',\n",
              " 'The peripheral globular pattern is focal conventional.',\n",
              " 'Yes, subtle homogeneous area with vessels is observed.',\n",
              " 'The general silhouette of the lesion is flattened elevated.',\n",
              " 'The presence of dysplasia is severe.',\n",
              " 'The histology diagnostic indicates junctional melanocytic nevus (jmn).',\n",
              " 'The histology diagnostic indicates melanoma in situ (mis).',\n",
              " 'Yes, subtle homogeneous area without vessels is observed.',\n",
              " 'No whitish blue veil is observed.',\n",
              " 'The presence of dysplasia is .',\n",
              " 'Yes, clear and dominant small dots/globules are present.',\n",
              " 'Yes, clear large globules/cobblestone are observed.',\n",
              " 'Yes, clear and dominant large globules/cobblestone are observed.',\n",
              " 'No homogeneous area with vessels is observed.',\n",
              " 'Yes, subtle gray regression is observed.',\n",
              " 'Yes, clear small dots/globules are present.',\n",
              " 'The histology diagnostic indicates non-atypical stable mole (m).',\n",
              " 'The peripheral globular pattern is regular conventional.',\n",
              " 'Yes, clear and dominant homogeneous area with vessels is observed.',\n",
              " 'The global pattern of the lesion is homogeneous.',\n",
              " 'Yes, clear chrysalis is observed.',\n",
              " 'Yes, subtle white regression is observed.',\n",
              " 'The lesion is asymmetric on one axis.',\n",
              " 'The general silhouette of the lesion is exophytic.',\n",
              " 'Yes, subtle pigmented reticulum is observed.',\n",
              " 'Yes, clear and dominant negative reticulum is observed.',\n",
              " 'The histology diagnostic indicates congenital melanocytic nevus (cmn).',\n",
              " 'Yes, clear and dominant homogeneous area without vessels is observed.',\n",
              " 'No homogeneous area without vessels is observed.',\n",
              " 'The diagnostic impression is spitz/reed nevus.',\n",
              " 'The lesion is symmetric.',\n",
              " 'The histology diagnostic indicates dysplastic melanocytic nevus (dmn).',\n",
              " 'No small dots/globules are present.',\n",
              " 'The presence of dysplasia is not applicable.',\n",
              " 'The lesion has been follow-up with previous dermoscopy, due to changes.',\n",
              " 'The diagnostic impression is atypical mole.',\n",
              " 'Yes, clear whitish blue veil is observed.',\n",
              " 'Yes, clear homogeneous area with vessels is observed.',\n",
              " 'The diagnostic difficulty level is low.',\n",
              " 'The presence of dysplasia is not available.',\n",
              " 'Yes, clear pigmented reticulum is observed.',\n",
              " 'Yes, clear peripheral projections are present.',\n",
              " 'The histology diagnostic indicates reed nevus (nr).',\n",
              " 'Yes, subtle whitish blue veil is observed.',\n",
              " 'No undefined area is observed.',\n",
              " 'No gray regression is observed.',\n",
              " 'Yes, subtle small dots/globules are present.',\n",
              " 'Yes, clear and dominant pigmented reticulum is observed.',\n",
              " 'The global pattern of the lesion is diffuse reticular.',\n",
              " 'No peripheral globules are observed.',\n",
              " 'The lesion has been first consultation.',\n",
              " 'Yes, clear and dominant peripheral globules are observed.',\n",
              " 'No negative reticulum is observed.',\n",
              " 'The peripheral globular pattern is regular bursting.',\n",
              " 'The histology diagnostic indicates lentiginous melanocytic nevus (lmn).',\n",
              " ' large globules/cobblestone are observed.',\n",
              " 'Yes, subtle large globules/cobblestone are observed.',\n",
              " 'The global pattern of the lesion is cobblestone.',\n",
              " 'Yes, clear undefined area is observed.',\n",
              " 'The diagnostic difficulty level is high.',\n",
              " 'Yes, clear and dominant undefined area is observed.',\n",
              " 'The histology diagnostic indicates intradermal melanocytic nevus (imn).',\n",
              " 'The global pattern of the lesion is undefined.',\n",
              " 'The histology diagnostic indicates spitz nevus (sn).',\n",
              " 'Yes, clear gray regression is observed.',\n",
              " 'Yes, clear homogeneous area without vessels is observed.',\n",
              " 'Yes, subtle undefined area is observed.',\n",
              " ' peripheral globules are observed.',\n",
              " 'The peripheral globular pattern is irregular bursting.',\n",
              " 'The global pattern of the lesion is globular.',\n",
              " 'The global pattern of the lesion is mixed (mix of two of the above).',\n",
              " 'No peripheral projections are present.']"
            ]
          },
          "metadata": {},
          "execution_count": 25
        }
      ]
    },
    {
      "cell_type": "code",
      "source": [
        "# Create dictionaries id2label and label2id\n",
        "id2label = {i: label for i, label in enumerate(unique_answers)}\n",
        "label2id = {label: i for i, label in enumerate(unique_answers)}"
      ],
      "metadata": {
        "id": "zB_NjxmSSA2I"
      },
      "execution_count": 26,
      "outputs": []
    },
    {
      "cell_type": "code",
      "source": [
        "id2label"
      ],
      "metadata": {
        "id": "8nTUep5tUe07",
        "outputId": "c07f0b5a-d118-4878-991b-ec50fd57408a",
        "colab": {
          "base_uri": "https://localhost:8080/"
        }
      },
      "execution_count": 27,
      "outputs": [
        {
          "output_type": "execute_result",
          "data": {
            "text/plain": [
              "{0: 'The lesion is asymmetric on two axes.',\n",
              " 1: 'The peripheral globular pattern is .',\n",
              " 2: 'Yes, clear peripheral globules are observed.',\n",
              " 3: 'Yes, clear white regression is observed.',\n",
              " 4: 'Yes, clear and dominant peripheral projections are present.',\n",
              " 5: 'The peripheral globular pattern is focal bursting.',\n",
              " 6: 'No white regression is observed.',\n",
              " 7: 'The diagnostic impression is non-atypical mole.',\n",
              " 8: 'Yes, subtle chrysalis is observed.',\n",
              " 9: 'The diagnostic impression is exclude melanoma.',\n",
              " 10: 'The histology diagnostic indicates superficial spreading melanoma (ssm).',\n",
              " 11: 'The lesion has been follow-up, without previous dermoscopy.',\n",
              " 12: 'No large globules/cobblestone are observed.',\n",
              " 13: 'Yes, subtle peripheral globules are observed.',\n",
              " 14: ' chrysalis is observed.',\n",
              " 15: 'The diagnostic difficulty level is medium.',\n",
              " 16: 'The histology diagnostic indicates compound melanocytic nevus (cmn).',\n",
              " 17: 'The global pattern of the lesion is multicomponent (mix of 3 or more above).',\n",
              " 18: 'The diagnostic impression is melanoma.',\n",
              " 19: 'Yes, clear negative reticulum is observed.',\n",
              " 20: 'The peripheral globular pattern is irregular conventional.',\n",
              " 21: 'The lesion is .',\n",
              " 22: 'Yes, subtle peripheral projections are present.',\n",
              " 23: 'Yes, subtle negative reticulum is observed.',\n",
              " 24: 'The lesion has been follow-up with previous dermoscopy, due to symptoms.',\n",
              " 25: 'No pigmented reticulum is observed.',\n",
              " 26: 'The global pattern of the lesion is patchy reticular.',\n",
              " 27: 'No chrysalis is observed.',\n",
              " 28: 'The general silhouette of the lesion is flat.',\n",
              " 29: 'The peripheral globular pattern is absent.',\n",
              " 30: 'The lesion has been not excised.',\n",
              " 31: 'The peripheral globular pattern is focal conventional.',\n",
              " 32: 'Yes, subtle homogeneous area with vessels is observed.',\n",
              " 33: 'The general silhouette of the lesion is flattened elevated.',\n",
              " 34: 'The presence of dysplasia is severe.',\n",
              " 35: 'The histology diagnostic indicates junctional melanocytic nevus (jmn).',\n",
              " 36: 'The histology diagnostic indicates melanoma in situ (mis).',\n",
              " 37: 'Yes, subtle homogeneous area without vessels is observed.',\n",
              " 38: 'No whitish blue veil is observed.',\n",
              " 39: 'The presence of dysplasia is .',\n",
              " 40: 'Yes, clear and dominant small dots/globules are present.',\n",
              " 41: 'Yes, clear large globules/cobblestone are observed.',\n",
              " 42: 'Yes, clear and dominant large globules/cobblestone are observed.',\n",
              " 43: 'No homogeneous area with vessels is observed.',\n",
              " 44: 'Yes, subtle gray regression is observed.',\n",
              " 45: 'Yes, clear small dots/globules are present.',\n",
              " 46: 'The histology diagnostic indicates non-atypical stable mole (m).',\n",
              " 47: 'The peripheral globular pattern is regular conventional.',\n",
              " 48: 'Yes, clear and dominant homogeneous area with vessels is observed.',\n",
              " 49: 'The global pattern of the lesion is homogeneous.',\n",
              " 50: 'Yes, clear chrysalis is observed.',\n",
              " 51: 'Yes, subtle white regression is observed.',\n",
              " 52: 'The lesion is asymmetric on one axis.',\n",
              " 53: 'The general silhouette of the lesion is exophytic.',\n",
              " 54: 'Yes, subtle pigmented reticulum is observed.',\n",
              " 55: 'Yes, clear and dominant negative reticulum is observed.',\n",
              " 56: 'The histology diagnostic indicates congenital melanocytic nevus (cmn).',\n",
              " 57: 'Yes, clear and dominant homogeneous area without vessels is observed.',\n",
              " 58: 'No homogeneous area without vessels is observed.',\n",
              " 59: 'The diagnostic impression is spitz/reed nevus.',\n",
              " 60: 'The lesion is symmetric.',\n",
              " 61: 'The histology diagnostic indicates dysplastic melanocytic nevus (dmn).',\n",
              " 62: 'No small dots/globules are present.',\n",
              " 63: 'The presence of dysplasia is not applicable.',\n",
              " 64: 'The lesion has been follow-up with previous dermoscopy, due to changes.',\n",
              " 65: 'The diagnostic impression is atypical mole.',\n",
              " 66: 'Yes, clear whitish blue veil is observed.',\n",
              " 67: 'Yes, clear homogeneous area with vessels is observed.',\n",
              " 68: 'The diagnostic difficulty level is low.',\n",
              " 69: 'The presence of dysplasia is not available.',\n",
              " 70: 'Yes, clear pigmented reticulum is observed.',\n",
              " 71: 'Yes, clear peripheral projections are present.',\n",
              " 72: 'The histology diagnostic indicates reed nevus (nr).',\n",
              " 73: 'Yes, subtle whitish blue veil is observed.',\n",
              " 74: 'No undefined area is observed.',\n",
              " 75: 'No gray regression is observed.',\n",
              " 76: 'Yes, subtle small dots/globules are present.',\n",
              " 77: 'Yes, clear and dominant pigmented reticulum is observed.',\n",
              " 78: 'The global pattern of the lesion is diffuse reticular.',\n",
              " 79: 'No peripheral globules are observed.',\n",
              " 80: 'The lesion has been first consultation.',\n",
              " 81: 'Yes, clear and dominant peripheral globules are observed.',\n",
              " 82: 'No negative reticulum is observed.',\n",
              " 83: 'The peripheral globular pattern is regular bursting.',\n",
              " 84: 'The histology diagnostic indicates lentiginous melanocytic nevus (lmn).',\n",
              " 85: ' large globules/cobblestone are observed.',\n",
              " 86: 'Yes, subtle large globules/cobblestone are observed.',\n",
              " 87: 'The global pattern of the lesion is cobblestone.',\n",
              " 88: 'Yes, clear undefined area is observed.',\n",
              " 89: 'The diagnostic difficulty level is high.',\n",
              " 90: 'Yes, clear and dominant undefined area is observed.',\n",
              " 91: 'The histology diagnostic indicates intradermal melanocytic nevus (imn).',\n",
              " 92: 'The global pattern of the lesion is undefined.',\n",
              " 93: 'The histology diagnostic indicates spitz nevus (sn).',\n",
              " 94: 'Yes, clear gray regression is observed.',\n",
              " 95: 'Yes, clear homogeneous area without vessels is observed.',\n",
              " 96: 'Yes, subtle undefined area is observed.',\n",
              " 97: ' peripheral globules are observed.',\n",
              " 98: 'The peripheral globular pattern is irregular bursting.',\n",
              " 99: 'The global pattern of the lesion is globular.',\n",
              " 100: 'The global pattern of the lesion is mixed (mix of two of the above).',\n",
              " 101: 'No peripheral projections are present.'}"
            ]
          },
          "metadata": {},
          "execution_count": 27
        }
      ]
    },
    {
      "cell_type": "code",
      "source": [
        "# Required tensor with the label IDs\n",
        "answers_ids_tensor = torch.arange(len(id2label), dtype=torch.float, device=device)\n",
        "answers_ids_tensor"
      ],
      "metadata": {
        "id": "zIE8BzfqUmmf",
        "outputId": "2a719340-4756-4e1f-a5c1-6fb066fbb7af",
        "colab": {
          "base_uri": "https://localhost:8080/"
        }
      },
      "execution_count": 28,
      "outputs": [
        {
          "output_type": "execute_result",
          "data": {
            "text/plain": [
              "tensor([  0.,   1.,   2.,   3.,   4.,   5.,   6.,   7.,   8.,   9.,  10.,  11.,\n",
              "         12.,  13.,  14.,  15.,  16.,  17.,  18.,  19.,  20.,  21.,  22.,  23.,\n",
              "         24.,  25.,  26.,  27.,  28.,  29.,  30.,  31.,  32.,  33.,  34.,  35.,\n",
              "         36.,  37.,  38.,  39.,  40.,  41.,  42.,  43.,  44.,  45.,  46.,  47.,\n",
              "         48.,  49.,  50.,  51.,  52.,  53.,  54.,  55.,  56.,  57.,  58.,  59.,\n",
              "         60.,  61.,  62.,  63.,  64.,  65.,  66.,  67.,  68.,  69.,  70.,  71.,\n",
              "         72.,  73.,  74.,  75.,  76.,  77.,  78.,  79.,  80.,  81.,  82.,  83.,\n",
              "         84.,  85.,  86.,  87.,  88.,  89.,  90.,  91.,  92.,  93.,  94.,  95.,\n",
              "         96.,  97.,  98.,  99., 100., 101.], device='cuda:0')"
            ]
          },
          "metadata": {},
          "execution_count": 28
        }
      ]
    },
    {
      "cell_type": "code",
      "execution_count": 29,
      "metadata": {
        "id": "UrNZdQCPl7qt"
      },
      "outputs": [],
      "source": [
        "# Pizarro dataset\n",
        "pizarro_dataloader = DataLoader(train_dataset_pizarro, batch_size=5, shuffle=True)\n",
        "test_isic_dataloader = DataLoader(test_dataset_isic, batch_size=5, shuffle=True)"
      ]
    },
    {
      "cell_type": "code",
      "execution_count": 30,
      "metadata": {
        "id": "2jZsoFg5aoCM"
      },
      "outputs": [],
      "source": [
        "# Auxiliary function to visualize a batch\n",
        "def show_batch(sample_batched):\n",
        "    \"\"\"Show a batch of images.\"\"\"\n",
        "\n",
        "    # Store images, questions and answers\n",
        "    images_batch, questions_batch, answers_batch = \\\n",
        "            sample_batched[0], sample_batched[1], sample_batched[2]\n",
        "\n",
        "    # Identify the batch size to define the grid\n",
        "    batch_size = len(images_batch)\n",
        "    im_size = images_batch.size(2)\n",
        "    grid_border_size = 2\n",
        "\n",
        "    # Generate the grid\n",
        "    grid = utils.make_grid(images_batch)\n",
        "\n",
        "    # Convert to numpy and denormalize\n",
        "    grid = grid.numpy().transpose((1, 2, 0))\n",
        "    mean = np.array([0.485, 0.456, 0.406])\n",
        "    std = np.array([0.229, 0.224, 0.225])\n",
        "    grid = std * grid + mean\n",
        "    grid = np.clip(grid, 0, 1)\n",
        "    plt.imshow(grid)\n",
        "    plt.title('Batch from dataloader')\n",
        "    plt.axis('off')\n",
        "    plt.show()"
      ]
    },
    {
      "cell_type": "code",
      "execution_count": 31,
      "metadata": {
        "colab": {
          "base_uri": "https://localhost:8080/",
          "height": 273
        },
        "id": "cV5odxMqlhbb",
        "outputId": "858153d4-52a8-4d40-9228-785e5ab241ba"
      },
      "outputs": [
        {
          "output_type": "stream",
          "name": "stdout",
          "text": [
            "0 [('The general silhouette of the lesion is flattened elevated.', 'The general silhouette of the lesion is flat.', 'The general silhouette of the lesion is exophytic.', 'The general silhouette of the lesion is flattened elevated.', 'The general silhouette of the lesion is flat.'), ('The general silhouette of the lesion is flattened elevated.', 'The general silhouette of the lesion is flat.', 'The general silhouette of the lesion is exophytic.', 'The general silhouette of the lesion is flattened elevated.', 'The general silhouette of the lesion is flat.'), ('The general silhouette of the lesion is flattened elevated.', 'The general silhouette of the lesion is flat.', 'The general silhouette of the lesion is exophytic.', 'The general silhouette of the lesion is flattened elevated.', 'The general silhouette of the lesion is flat.'), ('The general silhouette of the lesion is flattened elevated.', 'The general silhouette of the lesion is flat.', 'The general silhouette of the lesion is exophytic.', 'The general silhouette of the lesion is flattened elevated.', 'The general silhouette of the lesion is flat.'), ('The general silhouette of the lesion is flattened elevated.', 'The general silhouette of the lesion is flat.', 'The general silhouette of the lesion is exophytic.', 'The general silhouette of the lesion is flattened elevated.', 'The general silhouette of the lesion is flat.'), ('The histology diagnostic indicates dysplastic melanocytic nevus (dmn).', 'The histology diagnostic indicates non-atypical stable mole (m).', 'The histology diagnostic indicates intradermal melanocytic nevus (imn).', 'The histology diagnostic indicates congenital melanocytic nevus (cmn).', 'The histology diagnostic indicates lentiginous melanocytic nevus (lmn).'), ('The histology diagnostic indicates dysplastic melanocytic nevus (dmn).', 'The histology diagnostic indicates non-atypical stable mole (m).', 'The histology diagnostic indicates intradermal melanocytic nevus (imn).', 'The histology diagnostic indicates congenital melanocytic nevus (cmn).', 'The histology diagnostic indicates lentiginous melanocytic nevus (lmn).'), ('The histology diagnostic indicates dysplastic melanocytic nevus (dmn).', 'The histology diagnostic indicates non-atypical stable mole (m).', 'The histology diagnostic indicates intradermal melanocytic nevus (imn).', 'The histology diagnostic indicates congenital melanocytic nevus (cmn).', 'The histology diagnostic indicates lentiginous melanocytic nevus (lmn).'), ('The histology diagnostic indicates dysplastic melanocytic nevus (dmn).', 'The histology diagnostic indicates non-atypical stable mole (m).', 'The histology diagnostic indicates intradermal melanocytic nevus (imn).', 'The histology diagnostic indicates congenital melanocytic nevus (cmn).', 'The histology diagnostic indicates lentiginous melanocytic nevus (lmn).'), ('The histology diagnostic indicates dysplastic melanocytic nevus (dmn).', 'The histology diagnostic indicates non-atypical stable mole (m).', 'The histology diagnostic indicates intradermal melanocytic nevus (imn).', 'The histology diagnostic indicates congenital melanocytic nevus (cmn).', 'The histology diagnostic indicates lentiginous melanocytic nevus (lmn).'), ('The presence of dysplasia is not available.', 'The presence of dysplasia is not applicable.', 'The presence of dysplasia is not applicable.', 'The presence of dysplasia is not applicable.', 'The presence of dysplasia is not applicable.'), ('The presence of dysplasia is not available.', 'The presence of dysplasia is not applicable.', 'The presence of dysplasia is not applicable.', 'The presence of dysplasia is not applicable.', 'The presence of dysplasia is not applicable.'), ('The presence of dysplasia is not available.', 'The presence of dysplasia is not applicable.', 'The presence of dysplasia is not applicable.', 'The presence of dysplasia is not applicable.', 'The presence of dysplasia is not applicable.'), ('The presence of dysplasia is not available.', 'The presence of dysplasia is not applicable.', 'The presence of dysplasia is not applicable.', 'The presence of dysplasia is not applicable.', 'The presence of dysplasia is not applicable.'), ('The presence of dysplasia is not available.', 'The presence of dysplasia is not applicable.', 'The presence of dysplasia is not applicable.', 'The presence of dysplasia is not applicable.', 'The presence of dysplasia is not applicable.'), ('The diagnostic impression is exclude melanoma.', 'The diagnostic impression is atypical mole.', 'The diagnostic impression is exclude melanoma.', 'The diagnostic impression is atypical mole.', 'The diagnostic impression is exclude melanoma.'), ('The diagnostic impression is exclude melanoma.', 'The diagnostic impression is atypical mole.', 'The diagnostic impression is exclude melanoma.', 'The diagnostic impression is atypical mole.', 'The diagnostic impression is exclude melanoma.'), ('The diagnostic impression is exclude melanoma.', 'The diagnostic impression is atypical mole.', 'The diagnostic impression is exclude melanoma.', 'The diagnostic impression is atypical mole.', 'The diagnostic impression is exclude melanoma.'), ('The diagnostic impression is exclude melanoma.', 'The diagnostic impression is atypical mole.', 'The diagnostic impression is exclude melanoma.', 'The diagnostic impression is atypical mole.', 'The diagnostic impression is exclude melanoma.'), ('The diagnostic impression is exclude melanoma.', 'The diagnostic impression is atypical mole.', 'The diagnostic impression is exclude melanoma.', 'The diagnostic impression is atypical mole.', 'The diagnostic impression is exclude melanoma.'), ('The diagnostic difficulty level is medium.', 'The diagnostic difficulty level is low.', 'The diagnostic difficulty level is high.', 'The diagnostic difficulty level is medium.', 'The diagnostic difficulty level is high.'), ('The diagnostic difficulty level is medium.', 'The diagnostic difficulty level is low.', 'The diagnostic difficulty level is high.', 'The diagnostic difficulty level is medium.', 'The diagnostic difficulty level is high.'), ('The diagnostic difficulty level is medium.', 'The diagnostic difficulty level is low.', 'The diagnostic difficulty level is high.', 'The diagnostic difficulty level is medium.', 'The diagnostic difficulty level is high.'), ('The diagnostic difficulty level is medium.', 'The diagnostic difficulty level is low.', 'The diagnostic difficulty level is high.', 'The diagnostic difficulty level is medium.', 'The diagnostic difficulty level is high.'), ('The diagnostic difficulty level is medium.', 'The diagnostic difficulty level is low.', 'The diagnostic difficulty level is high.', 'The diagnostic difficulty level is medium.', 'The diagnostic difficulty level is high.'), ('The lesion has been first consultation.', 'The lesion has been not excised.', 'The lesion has been first consultation.', 'The lesion has been first consultation.', 'The lesion has been first consultation.'), ('The lesion has been first consultation.', 'The lesion has been not excised.', 'The lesion has been first consultation.', 'The lesion has been first consultation.', 'The lesion has been first consultation.'), ('The lesion has been first consultation.', 'The lesion has been not excised.', 'The lesion has been first consultation.', 'The lesion has been first consultation.', 'The lesion has been first consultation.'), ('The lesion has been first consultation.', 'The lesion has been not excised.', 'The lesion has been first consultation.', 'The lesion has been first consultation.', 'The lesion has been first consultation.'), ('The lesion has been first consultation.', 'The lesion has been not excised.', 'The lesion has been first consultation.', 'The lesion has been first consultation.', 'The lesion has been first consultation.'), ('The global pattern of the lesion is globular.', 'The global pattern of the lesion is mixed (mix of two of the above).', 'The global pattern of the lesion is homogeneous.', 'The global pattern of the lesion is multicomponent (mix of 3 or more above).', 'The global pattern of the lesion is mixed (mix of two of the above).'), ('The global pattern of the lesion is globular.', 'The global pattern of the lesion is mixed (mix of two of the above).', 'The global pattern of the lesion is homogeneous.', 'The global pattern of the lesion is multicomponent (mix of 3 or more above).', 'The global pattern of the lesion is mixed (mix of two of the above).'), ('The global pattern of the lesion is globular.', 'The global pattern of the lesion is mixed (mix of two of the above).', 'The global pattern of the lesion is homogeneous.', 'The global pattern of the lesion is multicomponent (mix of 3 or more above).', 'The global pattern of the lesion is mixed (mix of two of the above).'), ('The global pattern of the lesion is globular.', 'The global pattern of the lesion is mixed (mix of two of the above).', 'The global pattern of the lesion is homogeneous.', 'The global pattern of the lesion is multicomponent (mix of 3 or more above).', 'The global pattern of the lesion is mixed (mix of two of the above).'), ('The global pattern of the lesion is globular.', 'The global pattern of the lesion is mixed (mix of two of the above).', 'The global pattern of the lesion is homogeneous.', 'The global pattern of the lesion is multicomponent (mix of 3 or more above).', 'The global pattern of the lesion is mixed (mix of two of the above).'), ('The peripheral globular pattern is regular conventional.', 'The peripheral globular pattern is absent.', 'The peripheral globular pattern is absent.', 'The peripheral globular pattern is absent.', 'The peripheral globular pattern is absent.'), ('The peripheral globular pattern is regular conventional.', 'The peripheral globular pattern is absent.', 'The peripheral globular pattern is absent.', 'The peripheral globular pattern is absent.', 'The peripheral globular pattern is absent.'), ('The peripheral globular pattern is regular conventional.', 'The peripheral globular pattern is absent.', 'The peripheral globular pattern is absent.', 'The peripheral globular pattern is absent.', 'The peripheral globular pattern is absent.'), ('The peripheral globular pattern is regular conventional.', 'The peripheral globular pattern is absent.', 'The peripheral globular pattern is absent.', 'The peripheral globular pattern is absent.', 'The peripheral globular pattern is absent.'), ('The peripheral globular pattern is regular conventional.', 'The peripheral globular pattern is absent.', 'The peripheral globular pattern is absent.', 'The peripheral globular pattern is absent.', 'The peripheral globular pattern is absent.'), ('The lesion is asymmetric on one axis.', 'The lesion is symmetric.', 'The lesion is symmetric.', 'The lesion is asymmetric on two axes.', 'The lesion is asymmetric on two axes.'), ('The lesion is asymmetric on one axis.', 'The lesion is symmetric.', 'The lesion is symmetric.', 'The lesion is asymmetric on two axes.', 'The lesion is asymmetric on two axes.'), ('The lesion is asymmetric on one axis.', 'The lesion is symmetric.', 'The lesion is symmetric.', 'The lesion is asymmetric on two axes.', 'The lesion is asymmetric on two axes.'), ('The lesion is asymmetric on one axis.', 'The lesion is symmetric.', 'The lesion is symmetric.', 'The lesion is asymmetric on two axes.', 'The lesion is asymmetric on two axes.'), ('The lesion is asymmetric on one axis.', 'The lesion is symmetric.', 'The lesion is symmetric.', 'The lesion is asymmetric on two axes.', 'The lesion is asymmetric on two axes.'), ('No pigmented reticulum is observed.', 'Yes, clear pigmented reticulum is observed.', 'No pigmented reticulum is observed.', 'Yes, clear pigmented reticulum is observed.', 'Yes, clear and dominant pigmented reticulum is observed.'), ('No pigmented reticulum is observed.', 'Yes, clear pigmented reticulum is observed.', 'No pigmented reticulum is observed.', 'Yes, clear pigmented reticulum is observed.', 'Yes, clear and dominant pigmented reticulum is observed.'), ('No pigmented reticulum is observed.', 'Yes, clear pigmented reticulum is observed.', 'No pigmented reticulum is observed.', 'Yes, clear pigmented reticulum is observed.', 'Yes, clear and dominant pigmented reticulum is observed.'), ('No pigmented reticulum is observed.', 'Yes, clear pigmented reticulum is observed.', 'No pigmented reticulum is observed.', 'Yes, clear pigmented reticulum is observed.', 'Yes, clear and dominant pigmented reticulum is observed.'), ('No pigmented reticulum is observed.', 'Yes, clear pigmented reticulum is observed.', 'No pigmented reticulum is observed.', 'Yes, clear pigmented reticulum is observed.', 'Yes, clear and dominant pigmented reticulum is observed.'), ('Yes, subtle negative reticulum is observed.', 'No negative reticulum is observed.', 'No negative reticulum is observed.', 'No negative reticulum is observed.', 'No negative reticulum is observed.'), ('Yes, subtle negative reticulum is observed.', 'No negative reticulum is observed.', 'No negative reticulum is observed.', 'No negative reticulum is observed.', 'No negative reticulum is observed.'), ('Yes, subtle negative reticulum is observed.', 'No negative reticulum is observed.', 'No negative reticulum is observed.', 'No negative reticulum is observed.', 'No negative reticulum is observed.'), ('Yes, subtle negative reticulum is observed.', 'No negative reticulum is observed.', 'No negative reticulum is observed.', 'No negative reticulum is observed.', 'No negative reticulum is observed.'), ('Yes, subtle negative reticulum is observed.', 'No negative reticulum is observed.', 'No negative reticulum is observed.', 'No negative reticulum is observed.', 'No negative reticulum is observed.'), ('Yes, clear small dots/globules are present.', 'Yes, clear and dominant small dots/globules are present.', 'No small dots/globules are present.', 'Yes, subtle small dots/globules are present.', 'Yes, subtle small dots/globules are present.'), ('Yes, clear small dots/globules are present.', 'Yes, clear and dominant small dots/globules are present.', 'No small dots/globules are present.', 'Yes, subtle small dots/globules are present.', 'Yes, subtle small dots/globules are present.'), ('Yes, clear small dots/globules are present.', 'Yes, clear and dominant small dots/globules are present.', 'No small dots/globules are present.', 'Yes, subtle small dots/globules are present.', 'Yes, subtle small dots/globules are present.'), ('Yes, clear small dots/globules are present.', 'Yes, clear and dominant small dots/globules are present.', 'No small dots/globules are present.', 'Yes, subtle small dots/globules are present.', 'Yes, subtle small dots/globules are present.'), ('Yes, clear small dots/globules are present.', 'Yes, clear and dominant small dots/globules are present.', 'No small dots/globules are present.', 'Yes, subtle small dots/globules are present.', 'Yes, subtle small dots/globules are present.'), ('Yes, subtle large globules/cobblestone are observed.', 'No large globules/cobblestone are observed.', 'No large globules/cobblestone are observed.', 'No large globules/cobblestone are observed.', 'No large globules/cobblestone are observed.'), ('Yes, subtle large globules/cobblestone are observed.', 'No large globules/cobblestone are observed.', 'No large globules/cobblestone are observed.', 'No large globules/cobblestone are observed.', 'No large globules/cobblestone are observed.'), ('Yes, subtle large globules/cobblestone are observed.', 'No large globules/cobblestone are observed.', 'No large globules/cobblestone are observed.', 'No large globules/cobblestone are observed.', 'No large globules/cobblestone are observed.'), ('Yes, subtle large globules/cobblestone are observed.', 'No large globules/cobblestone are observed.', 'No large globules/cobblestone are observed.', 'No large globules/cobblestone are observed.', 'No large globules/cobblestone are observed.'), ('Yes, subtle large globules/cobblestone are observed.', 'No large globules/cobblestone are observed.', 'No large globules/cobblestone are observed.', 'No large globules/cobblestone are observed.', 'No large globules/cobblestone are observed.'), ('Yes, clear and dominant peripheral globules are observed.', 'No peripheral globules are observed.', 'No peripheral globules are observed.', 'No peripheral globules are observed.', 'No peripheral globules are observed.'), ('Yes, clear and dominant peripheral globules are observed.', 'No peripheral globules are observed.', 'No peripheral globules are observed.', 'No peripheral globules are observed.', 'No peripheral globules are observed.'), ('Yes, clear and dominant peripheral globules are observed.', 'No peripheral globules are observed.', 'No peripheral globules are observed.', 'No peripheral globules are observed.', 'No peripheral globules are observed.'), ('Yes, clear and dominant peripheral globules are observed.', 'No peripheral globules are observed.', 'No peripheral globules are observed.', 'No peripheral globules are observed.', 'No peripheral globules are observed.'), ('Yes, clear and dominant peripheral globules are observed.', 'No peripheral globules are observed.', 'No peripheral globules are observed.', 'No peripheral globules are observed.', 'No peripheral globules are observed.'), ('No peripheral projections are present.', 'No peripheral projections are present.', 'No peripheral projections are present.', 'No peripheral projections are present.', 'No peripheral projections are present.'), ('No peripheral projections are present.', 'No peripheral projections are present.', 'No peripheral projections are present.', 'No peripheral projections are present.', 'No peripheral projections are present.'), ('No peripheral projections are present.', 'No peripheral projections are present.', 'No peripheral projections are present.', 'No peripheral projections are present.', 'No peripheral projections are present.'), ('No peripheral projections are present.', 'No peripheral projections are present.', 'No peripheral projections are present.', 'No peripheral projections are present.', 'No peripheral projections are present.'), ('No peripheral projections are present.', 'No peripheral projections are present.', 'No peripheral projections are present.', 'No peripheral projections are present.', 'No peripheral projections are present.'), ('Yes, subtle homogeneous area without vessels is observed.', 'No homogeneous area without vessels is observed.', 'No homogeneous area without vessels is observed.', 'Yes, clear homogeneous area without vessels is observed.', 'No homogeneous area without vessels is observed.'), ('Yes, subtle homogeneous area without vessels is observed.', 'No homogeneous area without vessels is observed.', 'No homogeneous area without vessels is observed.', 'Yes, clear homogeneous area without vessels is observed.', 'No homogeneous area without vessels is observed.'), ('Yes, subtle homogeneous area without vessels is observed.', 'No homogeneous area without vessels is observed.', 'No homogeneous area without vessels is observed.', 'Yes, clear homogeneous area without vessels is observed.', 'No homogeneous area without vessels is observed.'), ('Yes, subtle homogeneous area without vessels is observed.', 'No homogeneous area without vessels is observed.', 'No homogeneous area without vessels is observed.', 'Yes, clear homogeneous area without vessels is observed.', 'No homogeneous area without vessels is observed.'), ('Yes, subtle homogeneous area without vessels is observed.', 'No homogeneous area without vessels is observed.', 'No homogeneous area without vessels is observed.', 'Yes, clear homogeneous area without vessels is observed.', 'No homogeneous area without vessels is observed.'), ('No homogeneous area with vessels is observed.', 'No homogeneous area with vessels is observed.', 'Yes, clear and dominant homogeneous area with vessels is observed.', 'No homogeneous area with vessels is observed.', 'No homogeneous area with vessels is observed.'), ('No homogeneous area with vessels is observed.', 'No homogeneous area with vessels is observed.', 'Yes, clear and dominant homogeneous area with vessels is observed.', 'No homogeneous area with vessels is observed.', 'No homogeneous area with vessels is observed.'), ('No homogeneous area with vessels is observed.', 'No homogeneous area with vessels is observed.', 'Yes, clear and dominant homogeneous area with vessels is observed.', 'No homogeneous area with vessels is observed.', 'No homogeneous area with vessels is observed.'), ('No homogeneous area with vessels is observed.', 'No homogeneous area with vessels is observed.', 'Yes, clear and dominant homogeneous area with vessels is observed.', 'No homogeneous area with vessels is observed.', 'No homogeneous area with vessels is observed.'), ('No homogeneous area with vessels is observed.', 'No homogeneous area with vessels is observed.', 'Yes, clear and dominant homogeneous area with vessels is observed.', 'No homogeneous area with vessels is observed.', 'No homogeneous area with vessels is observed.'), ('Yes, clear undefined area is observed.', 'Yes, subtle undefined area is observed.', 'No undefined area is observed.', 'Yes, clear undefined area is observed.', 'No undefined area is observed.'), ('Yes, clear undefined area is observed.', 'Yes, subtle undefined area is observed.', 'No undefined area is observed.', 'Yes, clear undefined area is observed.', 'No undefined area is observed.'), ('Yes, clear undefined area is observed.', 'Yes, subtle undefined area is observed.', 'No undefined area is observed.', 'Yes, clear undefined area is observed.', 'No undefined area is observed.'), ('Yes, clear undefined area is observed.', 'Yes, subtle undefined area is observed.', 'No undefined area is observed.', 'Yes, clear undefined area is observed.', 'No undefined area is observed.'), ('Yes, clear undefined area is observed.', 'Yes, subtle undefined area is observed.', 'No undefined area is observed.', 'Yes, clear undefined area is observed.', 'No undefined area is observed.'), ('No gray regression is observed.', 'No gray regression is observed.', 'No gray regression is observed.', 'Yes, subtle gray regression is observed.', 'Yes, subtle gray regression is observed.'), ('No gray regression is observed.', 'No gray regression is observed.', 'No gray regression is observed.', 'Yes, subtle gray regression is observed.', 'Yes, subtle gray regression is observed.'), ('No gray regression is observed.', 'No gray regression is observed.', 'No gray regression is observed.', 'Yes, subtle gray regression is observed.', 'Yes, subtle gray regression is observed.'), ('No gray regression is observed.', 'No gray regression is observed.', 'No gray regression is observed.', 'Yes, subtle gray regression is observed.', 'Yes, subtle gray regression is observed.'), ('No gray regression is observed.', 'No gray regression is observed.', 'No gray regression is observed.', 'Yes, subtle gray regression is observed.', 'Yes, subtle gray regression is observed.'), ('No white regression is observed.', 'No white regression is observed.', 'No white regression is observed.', 'No white regression is observed.', 'No white regression is observed.'), ('No white regression is observed.', 'No white regression is observed.', 'No white regression is observed.', 'No white regression is observed.', 'No white regression is observed.'), ('No white regression is observed.', 'No white regression is observed.', 'No white regression is observed.', 'No white regression is observed.', 'No white regression is observed.'), ('No white regression is observed.', 'No white regression is observed.', 'No white regression is observed.', 'No white regression is observed.', 'No white regression is observed.'), ('No white regression is observed.', 'No white regression is observed.', 'No white regression is observed.', 'No white regression is observed.', 'No white regression is observed.'), ('No whitish blue veil is observed.', 'No whitish blue veil is observed.', 'No whitish blue veil is observed.', 'Yes, subtle whitish blue veil is observed.', 'Yes, subtle whitish blue veil is observed.'), ('No whitish blue veil is observed.', 'No whitish blue veil is observed.', 'No whitish blue veil is observed.', 'Yes, subtle whitish blue veil is observed.', 'Yes, subtle whitish blue veil is observed.'), ('No whitish blue veil is observed.', 'No whitish blue veil is observed.', 'No whitish blue veil is observed.', 'Yes, subtle whitish blue veil is observed.', 'Yes, subtle whitish blue veil is observed.'), ('No whitish blue veil is observed.', 'No whitish blue veil is observed.', 'No whitish blue veil is observed.', 'Yes, subtle whitish blue veil is observed.', 'Yes, subtle whitish blue veil is observed.'), ('No whitish blue veil is observed.', 'No whitish blue veil is observed.', 'No whitish blue veil is observed.', 'Yes, subtle whitish blue veil is observed.', 'Yes, subtle whitish blue veil is observed.'), ('No chrysalis is observed.', 'No chrysalis is observed.', 'No chrysalis is observed.', 'No chrysalis is observed.', 'No chrysalis is observed.'), ('No chrysalis is observed.', 'No chrysalis is observed.', 'No chrysalis is observed.', 'No chrysalis is observed.', 'No chrysalis is observed.'), ('No chrysalis is observed.', 'No chrysalis is observed.', 'No chrysalis is observed.', 'No chrysalis is observed.', 'No chrysalis is observed.'), ('No chrysalis is observed.', 'No chrysalis is observed.', 'No chrysalis is observed.', 'No chrysalis is observed.', 'No chrysalis is observed.'), ('No chrysalis is observed.', 'No chrysalis is observed.', 'No chrysalis is observed.', 'No chrysalis is observed.', 'No chrysalis is observed.')]\n"
          ]
        },
        {
          "output_type": "display_data",
          "data": {
            "text/plain": [
              "<Figure size 640x480 with 1 Axes>"
            ],
            "image/png": "[encoded data removed]"
          },
          "metadata": {}
        },
        {
          "output_type": "stream",
          "name": "stdout",
          "text": [
            "1 [('The general silhouette of the lesion is flat.', 'The general silhouette of the lesion is flattened elevated.', 'The general silhouette of the lesion is flattened elevated.', 'The general silhouette of the lesion is flat.', 'The general silhouette of the lesion is flat.'), ('The general silhouette of the lesion is flat.', 'The general silhouette of the lesion is flattened elevated.', 'The general silhouette of the lesion is flattened elevated.', 'The general silhouette of the lesion is flat.', 'The general silhouette of the lesion is flat.'), ('The general silhouette of the lesion is flat.', 'The general silhouette of the lesion is flattened elevated.', 'The general silhouette of the lesion is flattened elevated.', 'The general silhouette of the lesion is flat.', 'The general silhouette of the lesion is flat.'), ('The general silhouette of the lesion is flat.', 'The general silhouette of the lesion is flattened elevated.', 'The general silhouette of the lesion is flattened elevated.', 'The general silhouette of the lesion is flat.', 'The general silhouette of the lesion is flat.'), ('The general silhouette of the lesion is flat.', 'The general silhouette of the lesion is flattened elevated.', 'The general silhouette of the lesion is flattened elevated.', 'The general silhouette of the lesion is flat.', 'The general silhouette of the lesion is flat.'), ('The histology diagnostic indicates non-atypical stable mole (m).', 'The histology diagnostic indicates reed nevus (nr).', 'The histology diagnostic indicates superficial spreading melanoma (ssm).', 'The histology diagnostic indicates dysplastic melanocytic nevus (dmn).', 'The histology diagnostic indicates non-atypical stable mole (m).'), ('The histology diagnostic indicates non-atypical stable mole (m).', 'The histology diagnostic indicates reed nevus (nr).', 'The histology diagnostic indicates superficial spreading melanoma (ssm).', 'The histology diagnostic indicates dysplastic melanocytic nevus (dmn).', 'The histology diagnostic indicates non-atypical stable mole (m).'), ('The histology diagnostic indicates non-atypical stable mole (m).', 'The histology diagnostic indicates reed nevus (nr).', 'The histology diagnostic indicates superficial spreading melanoma (ssm).', 'The histology diagnostic indicates dysplastic melanocytic nevus (dmn).', 'The histology diagnostic indicates non-atypical stable mole (m).'), ('The histology diagnostic indicates non-atypical stable mole (m).', 'The histology diagnostic indicates reed nevus (nr).', 'The histology diagnostic indicates superficial spreading melanoma (ssm).', 'The histology diagnostic indicates dysplastic melanocytic nevus (dmn).', 'The histology diagnostic indicates non-atypical stable mole (m).'), ('The histology diagnostic indicates non-atypical stable mole (m).', 'The histology diagnostic indicates reed nevus (nr).', 'The histology diagnostic indicates superficial spreading melanoma (ssm).', 'The histology diagnostic indicates dysplastic melanocytic nevus (dmn).', 'The histology diagnostic indicates non-atypical stable mole (m).'), ('The presence of dysplasia is not applicable.', 'The presence of dysplasia is not applicable.', 'The presence of dysplasia is .', 'The presence of dysplasia is not available.', 'The presence of dysplasia is not applicable.'), ('The presence of dysplasia is not applicable.', 'The presence of dysplasia is not applicable.', 'The presence of dysplasia is .', 'The presence of dysplasia is not available.', 'The presence of dysplasia is not applicable.'), ('The presence of dysplasia is not applicable.', 'The presence of dysplasia is not applicable.', 'The presence of dysplasia is .', 'The presence of dysplasia is not available.', 'The presence of dysplasia is not applicable.'), ('The presence of dysplasia is not applicable.', 'The presence of dysplasia is not applicable.', 'The presence of dysplasia is .', 'The presence of dysplasia is not available.', 'The presence of dysplasia is not applicable.'), ('The presence of dysplasia is not applicable.', 'The presence of dysplasia is not applicable.', 'The presence of dysplasia is .', 'The presence of dysplasia is not available.', 'The presence of dysplasia is not applicable.'), ('The diagnostic impression is non-atypical mole.', 'The diagnostic impression is spitz/reed nevus.', 'The diagnostic impression is melanoma.', 'The diagnostic impression is atypical mole.', 'The diagnostic impression is non-atypical mole.'), ('The diagnostic impression is non-atypical mole.', 'The diagnostic impression is spitz/reed nevus.', 'The diagnostic impression is melanoma.', 'The diagnostic impression is atypical mole.', 'The diagnostic impression is non-atypical mole.'), ('The diagnostic impression is non-atypical mole.', 'The diagnostic impression is spitz/reed nevus.', 'The diagnostic impression is melanoma.', 'The diagnostic impression is atypical mole.', 'The diagnostic impression is non-atypical mole.'), ('The diagnostic impression is non-atypical mole.', 'The diagnostic impression is spitz/reed nevus.', 'The diagnostic impression is melanoma.', 'The diagnostic impression is atypical mole.', 'The diagnostic impression is non-atypical mole.'), ('The diagnostic impression is non-atypical mole.', 'The diagnostic impression is spitz/reed nevus.', 'The diagnostic impression is melanoma.', 'The diagnostic impression is atypical mole.', 'The diagnostic impression is non-atypical mole.'), ('The diagnostic difficulty level is low.', 'The diagnostic difficulty level is low.', 'The diagnostic difficulty level is low.', 'The diagnostic difficulty level is low.', 'The diagnostic difficulty level is low.'), ('The diagnostic difficulty level is low.', 'The diagnostic difficulty level is low.', 'The diagnostic difficulty level is low.', 'The diagnostic difficulty level is low.', 'The diagnostic difficulty level is low.'), ('The diagnostic difficulty level is low.', 'The diagnostic difficulty level is low.', 'The diagnostic difficulty level is low.', 'The diagnostic difficulty level is low.', 'The diagnostic difficulty level is low.'), ('The diagnostic difficulty level is low.', 'The diagnostic difficulty level is low.', 'The diagnostic difficulty level is low.', 'The diagnostic difficulty level is low.', 'The diagnostic difficulty level is low.'), ('The diagnostic difficulty level is low.', 'The diagnostic difficulty level is low.', 'The diagnostic difficulty level is low.', 'The diagnostic difficulty level is low.', 'The diagnostic difficulty level is low.'), ('The lesion has been not excised.', 'The lesion has been first consultation.', 'The lesion has been first consultation.', 'The lesion has been follow-up, without previous dermoscopy.', 'The lesion has been not excised.'), ('The lesion has been not excised.', 'The lesion has been first consultation.', 'The lesion has been first consultation.', 'The lesion has been follow-up, without previous dermoscopy.', 'The lesion has been not excised.'), ('The lesion has been not excised.', 'The lesion has been first consultation.', 'The lesion has been first consultation.', 'The lesion has been follow-up, without previous dermoscopy.', 'The lesion has been not excised.'), ('The lesion has been not excised.', 'The lesion has been first consultation.', 'The lesion has been first consultation.', 'The lesion has been follow-up, without previous dermoscopy.', 'The lesion has been not excised.'), ('The lesion has been not excised.', 'The lesion has been first consultation.', 'The lesion has been first consultation.', 'The lesion has been follow-up, without previous dermoscopy.', 'The lesion has been not excised.'), ('The global pattern of the lesion is homogeneous.', 'The global pattern of the lesion is homogeneous.', 'The global pattern of the lesion is multicomponent (mix of 3 or more above).', 'The global pattern of the lesion is diffuse reticular.', 'The global pattern of the lesion is homogeneous.'), ('The global pattern of the lesion is homogeneous.', 'The global pattern of the lesion is homogeneous.', 'The global pattern of the lesion is multicomponent (mix of 3 or more above).', 'The global pattern of the lesion is diffuse reticular.', 'The global pattern of the lesion is homogeneous.'), ('The global pattern of the lesion is homogeneous.', 'The global pattern of the lesion is homogeneous.', 'The global pattern of the lesion is multicomponent (mix of 3 or more above).', 'The global pattern of the lesion is diffuse reticular.', 'The global pattern of the lesion is homogeneous.'), ('The global pattern of the lesion is homogeneous.', 'The global pattern of the lesion is homogeneous.', 'The global pattern of the lesion is multicomponent (mix of 3 or more above).', 'The global pattern of the lesion is diffuse reticular.', 'The global pattern of the lesion is homogeneous.'), ('The global pattern of the lesion is homogeneous.', 'The global pattern of the lesion is homogeneous.', 'The global pattern of the lesion is multicomponent (mix of 3 or more above).', 'The global pattern of the lesion is diffuse reticular.', 'The global pattern of the lesion is homogeneous.'), ('The peripheral globular pattern is regular conventional.', 'The peripheral globular pattern is regular bursting.', 'The peripheral globular pattern is focal conventional.', 'The peripheral globular pattern is irregular conventional.', 'The peripheral globular pattern is regular conventional.'), ('The peripheral globular pattern is regular conventional.', 'The peripheral globular pattern is regular bursting.', 'The peripheral globular pattern is focal conventional.', 'The peripheral globular pattern is irregular conventional.', 'The peripheral globular pattern is regular conventional.'), ('The peripheral globular pattern is regular conventional.', 'The peripheral globular pattern is regular bursting.', 'The peripheral globular pattern is focal conventional.', 'The peripheral globular pattern is irregular conventional.', 'The peripheral globular pattern is regular conventional.'), ('The peripheral globular pattern is regular conventional.', 'The peripheral globular pattern is regular bursting.', 'The peripheral globular pattern is focal conventional.', 'The peripheral globular pattern is irregular conventional.', 'The peripheral globular pattern is regular conventional.'), ('The peripheral globular pattern is regular conventional.', 'The peripheral globular pattern is regular bursting.', 'The peripheral globular pattern is focal conventional.', 'The peripheral globular pattern is irregular conventional.', 'The peripheral globular pattern is regular conventional.'), ('The lesion is symmetric.', 'The lesion is symmetric.', 'The lesion is asymmetric on two axes.', 'The lesion is asymmetric on two axes.', 'The lesion is symmetric.'), ('The lesion is symmetric.', 'The lesion is symmetric.', 'The lesion is asymmetric on two axes.', 'The lesion is asymmetric on two axes.', 'The lesion is symmetric.'), ('The lesion is symmetric.', 'The lesion is symmetric.', 'The lesion is asymmetric on two axes.', 'The lesion is asymmetric on two axes.', 'The lesion is symmetric.'), ('The lesion is symmetric.', 'The lesion is symmetric.', 'The lesion is asymmetric on two axes.', 'The lesion is asymmetric on two axes.', 'The lesion is symmetric.'), ('The lesion is symmetric.', 'The lesion is symmetric.', 'The lesion is asymmetric on two axes.', 'The lesion is asymmetric on two axes.', 'The lesion is symmetric.'), ('No pigmented reticulum is observed.', 'Yes, subtle pigmented reticulum is observed.', 'Yes, subtle pigmented reticulum is observed.', 'Yes, clear and dominant pigmented reticulum is observed.', 'No pigmented reticulum is observed.'), ('No pigmented reticulum is observed.', 'Yes, subtle pigmented reticulum is observed.', 'Yes, subtle pigmented reticulum is observed.', 'Yes, clear and dominant pigmented reticulum is observed.', 'No pigmented reticulum is observed.'), ('No pigmented reticulum is observed.', 'Yes, subtle pigmented reticulum is observed.', 'Yes, subtle pigmented reticulum is observed.', 'Yes, clear and dominant pigmented reticulum is observed.', 'No pigmented reticulum is observed.'), ('No pigmented reticulum is observed.', 'Yes, subtle pigmented reticulum is observed.', 'Yes, subtle pigmented reticulum is observed.', 'Yes, clear and dominant pigmented reticulum is observed.', 'No pigmented reticulum is observed.'), ('No pigmented reticulum is observed.', 'Yes, subtle pigmented reticulum is observed.', 'Yes, subtle pigmented reticulum is observed.', 'Yes, clear and dominant pigmented reticulum is observed.', 'No pigmented reticulum is observed.'), ('No negative reticulum is observed.', 'No negative reticulum is observed.', 'No negative reticulum is observed.', 'No negative reticulum is observed.', 'No negative reticulum is observed.'), ('No negative reticulum is observed.', 'No negative reticulum is observed.', 'No negative reticulum is observed.', 'No negative reticulum is observed.', 'No negative reticulum is observed.'), ('No negative reticulum is observed.', 'No negative reticulum is observed.', 'No negative reticulum is observed.', 'No negative reticulum is observed.', 'No negative reticulum is observed.'), ('No negative reticulum is observed.', 'No negative reticulum is observed.', 'No negative reticulum is observed.', 'No negative reticulum is observed.', 'No negative reticulum is observed.'), ('No negative reticulum is observed.', 'No negative reticulum is observed.', 'No negative reticulum is observed.', 'No negative reticulum is observed.', 'No negative reticulum is observed.'), ('Yes, subtle small dots/globules are present.', 'No small dots/globules are present.', 'Yes, subtle small dots/globules are present.', 'Yes, subtle small dots/globules are present.', 'Yes, subtle small dots/globules are present.'), ('Yes, subtle small dots/globules are present.', 'No small dots/globules are present.', 'Yes, subtle small dots/globules are present.', 'Yes, subtle small dots/globules are present.', 'Yes, subtle small dots/globules are present.'), ('Yes, subtle small dots/globules are present.', 'No small dots/globules are present.', 'Yes, subtle small dots/globules are present.', 'Yes, subtle small dots/globules are present.', 'Yes, subtle small dots/globules are present.'), ('Yes, subtle small dots/globules are present.', 'No small dots/globules are present.', 'Yes, subtle small dots/globules are present.', 'Yes, subtle small dots/globules are present.', 'Yes, subtle small dots/globules are present.'), ('Yes, subtle small dots/globules are present.', 'No small dots/globules are present.', 'Yes, subtle small dots/globules are present.', 'Yes, subtle small dots/globules are present.', 'Yes, subtle small dots/globules are present.'), ('No large globules/cobblestone are observed.', 'No large globules/cobblestone are observed.', 'No large globules/cobblestone are observed.', 'No large globules/cobblestone are observed.', 'No large globules/cobblestone are observed.'), ('No large globules/cobblestone are observed.', 'No large globules/cobblestone are observed.', 'No large globules/cobblestone are observed.', 'No large globules/cobblestone are observed.', 'No large globules/cobblestone are observed.'), ('No large globules/cobblestone are observed.', 'No large globules/cobblestone are observed.', 'No large globules/cobblestone are observed.', 'No large globules/cobblestone are observed.', 'No large globules/cobblestone are observed.'), ('No large globules/cobblestone are observed.', 'No large globules/cobblestone are observed.', 'No large globules/cobblestone are observed.', 'No large globules/cobblestone are observed.', 'No large globules/cobblestone are observed.'), ('No large globules/cobblestone are observed.', 'No large globules/cobblestone are observed.', 'No large globules/cobblestone are observed.', 'No large globules/cobblestone are observed.', 'No large globules/cobblestone are observed.'), ('Yes, clear peripheral globules are observed.', 'No peripheral globules are observed.', 'Yes, subtle peripheral globules are observed.', 'Yes, clear peripheral globules are observed.', 'Yes, clear peripheral globules are observed.'), ('Yes, clear peripheral globules are observed.', 'No peripheral globules are observed.', 'Yes, subtle peripheral globules are observed.', 'Yes, clear peripheral globules are observed.', 'Yes, clear peripheral globules are observed.'), ('Yes, clear peripheral globules are observed.', 'No peripheral globules are observed.', 'Yes, subtle peripheral globules are observed.', 'Yes, clear peripheral globules are observed.', 'Yes, clear peripheral globules are observed.'), ('Yes, clear peripheral globules are observed.', 'No peripheral globules are observed.', 'Yes, subtle peripheral globules are observed.', 'Yes, clear peripheral globules are observed.', 'Yes, clear peripheral globules are observed.'), ('Yes, clear peripheral globules are observed.', 'No peripheral globules are observed.', 'Yes, subtle peripheral globules are observed.', 'Yes, clear peripheral globules are observed.', 'Yes, clear peripheral globules are observed.'), ('No peripheral projections are present.', 'Yes, clear peripheral projections are present.', 'Yes, subtle peripheral projections are present.', 'No peripheral projections are present.', 'No peripheral projections are present.'), ('No peripheral projections are present.', 'Yes, clear peripheral projections are present.', 'Yes, subtle peripheral projections are present.', 'No peripheral projections are present.', 'No peripheral projections are present.'), ('No peripheral projections are present.', 'Yes, clear peripheral projections are present.', 'Yes, subtle peripheral projections are present.', 'No peripheral projections are present.', 'No peripheral projections are present.'), ('No peripheral projections are present.', 'Yes, clear peripheral projections are present.', 'Yes, subtle peripheral projections are present.', 'No peripheral projections are present.', 'No peripheral projections are present.'), ('No peripheral projections are present.', 'Yes, clear peripheral projections are present.', 'Yes, subtle peripheral projections are present.', 'No peripheral projections are present.', 'No peripheral projections are present.'), ('Yes, clear and dominant homogeneous area without vessels is observed.', 'Yes, clear and dominant homogeneous area without vessels is observed.', 'Yes, clear and dominant homogeneous area without vessels is observed.', 'No homogeneous area without vessels is observed.', 'Yes, clear and dominant homogeneous area without vessels is observed.'), ('Yes, clear and dominant homogeneous area without vessels is observed.', 'Yes, clear and dominant homogeneous area without vessels is observed.', 'Yes, clear and dominant homogeneous area without vessels is observed.', 'No homogeneous area without vessels is observed.', 'Yes, clear and dominant homogeneous area without vessels is observed.'), ('Yes, clear and dominant homogeneous area without vessels is observed.', 'Yes, clear and dominant homogeneous area without vessels is observed.', 'Yes, clear and dominant homogeneous area without vessels is observed.', 'No homogeneous area without vessels is observed.', 'Yes, clear and dominant homogeneous area without vessels is observed.'), ('Yes, clear and dominant homogeneous area without vessels is observed.', 'Yes, clear and dominant homogeneous area without vessels is observed.', 'Yes, clear and dominant homogeneous area without vessels is observed.', 'No homogeneous area without vessels is observed.', 'Yes, clear and dominant homogeneous area without vessels is observed.'), ('Yes, clear and dominant homogeneous area without vessels is observed.', 'Yes, clear and dominant homogeneous area without vessels is observed.', 'Yes, clear and dominant homogeneous area without vessels is observed.', 'No homogeneous area without vessels is observed.', 'Yes, clear and dominant homogeneous area without vessels is observed.'), ('No homogeneous area with vessels is observed.', 'No homogeneous area with vessels is observed.', 'No homogeneous area with vessels is observed.', 'No homogeneous area with vessels is observed.', 'No homogeneous area with vessels is observed.'), ('No homogeneous area with vessels is observed.', 'No homogeneous area with vessels is observed.', 'No homogeneous area with vessels is observed.', 'No homogeneous area with vessels is observed.', 'No homogeneous area with vessels is observed.'), ('No homogeneous area with vessels is observed.', 'No homogeneous area with vessels is observed.', 'No homogeneous area with vessels is observed.', 'No homogeneous area with vessels is observed.', 'No homogeneous area with vessels is observed.'), ('No homogeneous area with vessels is observed.', 'No homogeneous area with vessels is observed.', 'No homogeneous area with vessels is observed.', 'No homogeneous area with vessels is observed.', 'No homogeneous area with vessels is observed.'), ('No homogeneous area with vessels is observed.', 'No homogeneous area with vessels is observed.', 'No homogeneous area with vessels is observed.', 'No homogeneous area with vessels is observed.', 'No homogeneous area with vessels is observed.'), ('No undefined area is observed.', 'Yes, subtle undefined area is observed.', 'Yes, clear undefined area is observed.', 'Yes, subtle undefined area is observed.', 'No undefined area is observed.'), ('No undefined area is observed.', 'Yes, subtle undefined area is observed.', 'Yes, clear undefined area is observed.', 'Yes, subtle undefined area is observed.', 'No undefined area is observed.'), ('No undefined area is observed.', 'Yes, subtle undefined area is observed.', 'Yes, clear undefined area is observed.', 'Yes, subtle undefined area is observed.', 'No undefined area is observed.'), ('No undefined area is observed.', 'Yes, subtle undefined area is observed.', 'Yes, clear undefined area is observed.', 'Yes, subtle undefined area is observed.', 'No undefined area is observed.'), ('No undefined area is observed.', 'Yes, subtle undefined area is observed.', 'Yes, clear undefined area is observed.', 'Yes, subtle undefined area is observed.', 'No undefined area is observed.'), ('No gray regression is observed.', 'No gray regression is observed.', 'No gray regression is observed.', 'Yes, subtle gray regression is observed.', 'No gray regression is observed.'), ('No gray regression is observed.', 'No gray regression is observed.', 'No gray regression is observed.', 'Yes, subtle gray regression is observed.', 'No gray regression is observed.'), ('No gray regression is observed.', 'No gray regression is observed.', 'No gray regression is observed.', 'Yes, subtle gray regression is observed.', 'No gray regression is observed.'), ('No gray regression is observed.', 'No gray regression is observed.', 'No gray regression is observed.', 'Yes, subtle gray regression is observed.', 'No gray regression is observed.'), ('No gray regression is observed.', 'No gray regression is observed.', 'No gray regression is observed.', 'Yes, subtle gray regression is observed.', 'No gray regression is observed.'), ('No white regression is observed.', 'No white regression is observed.', 'No white regression is observed.', 'No white regression is observed.', 'No white regression is observed.'), ('No white regression is observed.', 'No white regression is observed.', 'No white regression is observed.', 'No white regression is observed.', 'No white regression is observed.'), ('No white regression is observed.', 'No white regression is observed.', 'No white regression is observed.', 'No white regression is observed.', 'No white regression is observed.'), ('No white regression is observed.', 'No white regression is observed.', 'No white regression is observed.', 'No white regression is observed.', 'No white regression is observed.'), ('No white regression is observed.', 'No white regression is observed.', 'No white regression is observed.', 'No white regression is observed.', 'No white regression is observed.'), ('No whitish blue veil is observed.', 'Yes, subtle whitish blue veil is observed.', 'Yes, clear whitish blue veil is observed.', 'No whitish blue veil is observed.', 'No whitish blue veil is observed.'), ('No whitish blue veil is observed.', 'Yes, subtle whitish blue veil is observed.', 'Yes, clear whitish blue veil is observed.', 'No whitish blue veil is observed.', 'No whitish blue veil is observed.'), ('No whitish blue veil is observed.', 'Yes, subtle whitish blue veil is observed.', 'Yes, clear whitish blue veil is observed.', 'No whitish blue veil is observed.', 'No whitish blue veil is observed.'), ('No whitish blue veil is observed.', 'Yes, subtle whitish blue veil is observed.', 'Yes, clear whitish blue veil is observed.', 'No whitish blue veil is observed.', 'No whitish blue veil is observed.'), ('No whitish blue veil is observed.', 'Yes, subtle whitish blue veil is observed.', 'Yes, clear whitish blue veil is observed.', 'No whitish blue veil is observed.', 'No whitish blue veil is observed.'), ('No chrysalis is observed.', 'No chrysalis is observed.', 'No chrysalis is observed.', 'No chrysalis is observed.', 'No chrysalis is observed.'), ('No chrysalis is observed.', 'No chrysalis is observed.', 'No chrysalis is observed.', 'No chrysalis is observed.', 'No chrysalis is observed.'), ('No chrysalis is observed.', 'No chrysalis is observed.', 'No chrysalis is observed.', 'No chrysalis is observed.', 'No chrysalis is observed.'), ('No chrysalis is observed.', 'No chrysalis is observed.', 'No chrysalis is observed.', 'No chrysalis is observed.', 'No chrysalis is observed.'), ('No chrysalis is observed.', 'No chrysalis is observed.', 'No chrysalis is observed.', 'No chrysalis is observed.', 'No chrysalis is observed.')]\n"
          ]
        },
        {
          "output_type": "display_data",
          "data": {
            "text/plain": [
              "<Figure size 640x480 with 1 Axes>"
            ],
            "image/png": "[encoded data removed]"
          },
          "metadata": {}
        }
      ],
      "source": [
        "# Iterate over the dataloader and visualize batches\n",
        "for i_batch, sample_batched in enumerate(pizarro_dataloader):\n",
        "    print(i_batch, sample_batched[2])\n",
        "    show_batch(sample_batched)\n",
        "\n",
        "    # Show only the data of the 3rd batch and stop.\n",
        "    if i_batch == 1:\n",
        "        break"
      ]
    },
    {
      "cell_type": "markdown",
      "metadata": {
        "id": "uZQYNuFsKI3k"
      },
      "source": [
        "## Image Feature Extraction"
      ]
    },
    {
      "cell_type": "code",
      "execution_count": 32,
      "metadata": {
        "id": "XL6ILzWtlPEV"
      },
      "outputs": [],
      "source": [
        "def extract_image_features(model, dataloader):\n",
        "    model.eval()  # Set the model to evaluation mode\n",
        "    num_samples = len(dataloader.dataset)\n",
        "\n",
        "    # Get the output shape of the model\n",
        "    with torch.no_grad():\n",
        "        sample_input = next(iter(dataloader))[0].to(next(model.parameters()).device)\n",
        "        output_shape = model(sample_input).shape[1:]\n",
        "\n",
        "    # Calculate the total number of features\n",
        "    num_features = np.prod(output_shape)\n",
        "\n",
        "    features = np.zeros((num_samples, num_features), dtype=np.float32)\n",
        "    sample_idx = 0\n",
        "\n",
        "    with torch.no_grad():\n",
        "        for sample in dataloader:\n",
        "            # Get images\n",
        "            inputs = sample[0].to(device).float()\n",
        "\n",
        "            # Forward pass\n",
        "            outputs = model(inputs)\n",
        "\n",
        "            # Flatten the output tensor\n",
        "            outputs_flat = outputs.view(outputs.size(0), -1)\n",
        "\n",
        "            # Store features\n",
        "            batch_size = inputs.size(0)\n",
        "            features[sample_idx:sample_idx + batch_size, :] = outputs_flat.cpu().numpy()\n",
        "            sample_idx += batch_size\n",
        "\n",
        "    return torch.tensor(features, device=device)"
      ]
    },
    {
      "cell_type": "code",
      "execution_count": 33,
      "metadata": {
        "id": "F9gqOoAOdYQ_"
      },
      "outputs": [],
      "source": [
        "# features_pizarro = extract_image_features(resnet, pizarro_dataloader)"
      ]
    },
    {
      "cell_type": "code",
      "execution_count": 34,
      "metadata": {
        "id": "Ey1rr3KGiNYm"
      },
      "outputs": [],
      "source": [
        "# features_pizarro"
      ]
    },
    {
      "cell_type": "code",
      "source": [
        "# features_pizarro[1].size()"
      ],
      "metadata": {
        "id": "fF81H5Y4VWik"
      },
      "execution_count": 35,
      "outputs": []
    },
    {
      "cell_type": "code",
      "source": [
        "# images, questions, answers = next(iter(pizarro_dataloader))\n",
        "# print(images.size())\n",
        "# print(np.shape(np.transpose(questions)))\n",
        "# print(np.transpose(questions))"
      ],
      "metadata": {
        "id": "yaITjrcgzRE-"
      },
      "execution_count": 36,
      "outputs": []
    },
    {
      "cell_type": "code",
      "source": [
        "# Function to print GPU memory usage\n",
        "def print_gpu_memory():\n",
        "    print(f\"Memory allocated: {torch.cuda.memory_allocated() / 1024**2:.2f} MB\")\n",
        "    print(f\"Memory reserved: {torch.cuda.memory_reserved() / 1024**2:.2f} MB\")"
      ],
      "metadata": {
        "id": "6EeNiyfjCzIi"
      },
      "execution_count": 37,
      "outputs": []
    },
    {
      "cell_type": "markdown",
      "metadata": {
        "id": "w4HfihfzJ3a6"
      },
      "source": [
        "## VQA Model Creation"
      ]
    },
    {
      "cell_type": "code",
      "execution_count": 38,
      "metadata": {
        "id": "huaJqeXCLI6R"
      },
      "outputs": [],
      "source": [
        "# class VQAModel(nn.Module):\n",
        "#     def __init__(self, resnet, vlm, tokenizer):\n",
        "#         super(VQAModel, self).__init__()\n",
        "\n",
        "#         # Pre-trained ResNet model\n",
        "#         self.resnet = resnet\n",
        "#         # Vision Language Model\n",
        "#         self.vlm = vlm\n",
        "#         # Tokenizer\n",
        "#         self.tokenizer = tokenizer\n",
        "#         # Freeze parameters of the ResNet model\n",
        "#         for param in self.resnet.parameters():\n",
        "#             param.requires_grad = False\n",
        "\n",
        "#     def forward(self, images, questions, dataloader, labels_idxs=None, training=False):\n",
        "\n",
        "#         # Transpose questions\n",
        "#         questions = np.transpose(questions)\n",
        "#         # Store shape for iteration\n",
        "#         num_images, num_questions_per_image = np.shape(questions)\n",
        "\n",
        "#         # Extract image features\n",
        "#         with torch.no_grad():\n",
        "#             image_features = extract_image_features(self.resnet, dataloader)\n",
        "\n",
        "#         # Prepare image inputs\n",
        "#         visual_token_type_ids = torch.ones(image_features.shape[:-1], dtype=torch.long, device=device)\n",
        "#         visual_attention_mask = torch.ones(image_features.shape[:-1], dtype=torch.float, device=device)\n",
        "\n",
        "#         # Iterate over all questions for each image\n",
        "#         inputs = []\n",
        "#         for image_idx in range(num_images):\n",
        "#             tokenized_questions = []\n",
        "#             for question_idx in range(num_questions_per_image):\n",
        "#                 # Tokenize question\n",
        "#                 tokenized_question = self.tokenizer(questions[image_idx, question_idx],\n",
        "#                                                     return_token_type_ids=True,\n",
        "#                                                     return_attention_mask=True,\n",
        "#                                                     add_special_tokens=True,\n",
        "#                                                     return_tensors='pt')\n",
        "\n",
        "#                 # Input for the VLM model (refer to VisualBert to understand the shapes)\n",
        "#                 input_dict = {\n",
        "#                     \"visual_embeds\": image_features[image_idx].unsqueeze(0),\n",
        "#                     \"visual_token_type_ids\": visual_token_type_ids.unsqueeze(0),\n",
        "#                     \"visual_attention_mask\": visual_attention_mask.unsqueeze(0),\n",
        "#                     \"input_ids\": tokenized_question['input_ids'].to(device),\n",
        "#                     \"token_type_ids\": tokenized_question['token_type_ids'].to(device),\n",
        "#                     \"attention_mask\": tokenized_question['attention_mask'].to(device),\n",
        "#                 }\n",
        "#                 tokenized_questions.append(input_dict)\n",
        "\n",
        "#             inputs.append(tokenized_questions)\n",
        "\n",
        "#         outputs = []\n",
        "#         for tokenized_questions in inputs:\n",
        "#             answers = []\n",
        "#             for input_dict in tokenized_questions:\n",
        "#                 # Only compute gradients in training\n",
        "#                 if training:\n",
        "#                     output = self.vlm(**input_dict, labels=labels_idxs)\n",
        "#                 else:\n",
        "#                     with torch.no_grad():\n",
        "#                         output = self.vlm(**input_dict)\n",
        "#                 print_gpu_memory()\n",
        "#                 answers.append(output)\n",
        "#             outputs.append(answers)\n",
        "\n",
        "#         return outputs"
      ]
    },
    {
      "cell_type": "code",
      "source": [
        "class VQAModel(nn.Module):\n",
        "    def __init__(self, resnet, vlm, tokenizer):\n",
        "        super(VQAModel, self).__init__()\n",
        "\n",
        "        # Pre-trained ResNet model\n",
        "        self.resnet = resnet\n",
        "        # Vision Language Model\n",
        "        self.vlm = vlm\n",
        "        # Tokenizer\n",
        "        self.tokenizer = tokenizer\n",
        "        # Freeze parameters of the ResNet model\n",
        "        for param in self.resnet.parameters():\n",
        "            param.requires_grad = False\n",
        "\n",
        "    def forward(self, images, questions, dataloader, labels_idxs=None, training=False):\n",
        "\n",
        "        # Transpose questions\n",
        "        questions = np.transpose(questions)\n",
        "        # Store shape for iteration\n",
        "        num_images, num_questions_per_image = np.shape(questions)\n",
        "\n",
        "        # Extract image features\n",
        "        with torch.no_grad():\n",
        "            image_features = extract_image_features(self.resnet, dataloader)\n",
        "\n",
        "        # Prepare image inputs\n",
        "        visual_token_type_ids = torch.ones(image_features.shape[:-1], dtype=torch.long, device=device)\n",
        "        visual_attention_mask = torch.ones(image_features.shape[:-1], dtype=torch.float, device=device)\n",
        "\n",
        "        # Iterate over all questions for each image\n",
        "        inputs = []\n",
        "        for image_idx in range(num_images):\n",
        "            tokenized_questions = []\n",
        "            for question_idx in range(num_questions_per_image):\n",
        "                # Tokenize question\n",
        "                tokenized_question = self.tokenizer(questions[image_idx, question_idx],\n",
        "                                                    return_token_type_ids=True,\n",
        "                                                    return_attention_mask=True,\n",
        "                                                    add_special_tokens=True,\n",
        "                                                    return_tensors='pt')\n",
        "\n",
        "                # Input for the VLM model (refer to VisualBert to understand the shapes)\n",
        "                input_dict = {\n",
        "                    \"visual_embeds\": image_features[image_idx].unsqueeze(0),\n",
        "                    \"visual_token_type_ids\": visual_token_type_ids.unsqueeze(0),\n",
        "                    \"visual_attention_mask\": visual_attention_mask.unsqueeze(0),\n",
        "                    \"input_ids\": tokenized_question['input_ids'].to(device),\n",
        "                    \"token_type_ids\": tokenized_question['token_type_ids'].to(device),\n",
        "                    \"attention_mask\": tokenized_question['attention_mask'].to(device),\n",
        "                }\n",
        "                tokenized_questions.append(input_dict)\n",
        "\n",
        "            inputs.append(tokenized_questions)\n",
        "\n",
        "        outputs = []\n",
        "        batch_loss = 0.0\n",
        "        for tokenized_questions in inputs:\n",
        "            image_loss = 0.0\n",
        "            answers = []\n",
        "            for input_dict in tokenized_questions:\n",
        "                # Only compute gradients in training\n",
        "                if training:\n",
        "                    # Store label indices\n",
        "                    output = self.vlm(**input_dict, labels=labels_idxs)\n",
        "                    logits = output.logits\n",
        "                    probabilities = torch.softmax(logits, dim=-1)\n",
        "                    pred_index = torch.argmax(probabilities, dim=-1)\n",
        "\n",
        "                    # Store loss\n",
        "                    loss = output.loss.item()\n",
        "                    image_loss = image_loss + loss\n",
        "\n",
        "                    # Free memory of large tensors\n",
        "                    del output\n",
        "                    del logits\n",
        "                    del loss\n",
        "                else:\n",
        "                    # Gradients are not stored (no memory issues)\n",
        "                    with torch.no_grad():\n",
        "                        output = self.vlm(**input_dict)\n",
        "                        logits = output.logits\n",
        "                        probabilities = torch.softmax(logits, dim=-1)\n",
        "                        pred_index = torch.argmax(probabilities, dim=-1)\n",
        "\n",
        "                        # Store loss\n",
        "                        loss = output.loss\n",
        "                        image_loss = image_loss + loss\n",
        "                # Track memory use\n",
        "                # print_gpu_memory()\n",
        "                answers.append(pred_index)\n",
        "\n",
        "            outputs.append(answers)\n",
        "            batch_loss = batch_loss + image_loss / len(tokenized_questions)\n",
        "\n",
        "\n",
        "        # Make sure the batch_loss is a leaf tensor\n",
        "        batch_loss_tensor = torch.tensor(batch_loss, requires_grad=True, device=device)\n",
        "\n",
        "        return outputs, batch_loss_tensor"
      ],
      "metadata": {
        "id": "B1Xe0fuYKWbo"
      },
      "execution_count": 68,
      "outputs": []
    },
    {
      "cell_type": "markdown",
      "metadata": {
        "id": "Y-E0LJNJRyTG"
      },
      "source": [
        "### Define LLM & Tokenizer"
      ]
    },
    {
      "cell_type": "code",
      "execution_count": 40,
      "metadata": {
        "id": "mNvUgKd7R44i",
        "outputId": "bf6ad97c-39fc-4870-c955-507e494abaad",
        "colab": {
          "base_uri": "https://localhost:8080/",
          "height": 279,
          "referenced_widgets": [
            "ffd11c9d18c443589c900b6a65111d5b",
            "7b5997ccaf754c26b6f11a6c3597912a",
            "77229e940e19434c9cd5d7e05fee2b66",
            "62560b3205a44c03b9f5e58f955e5aac",
            "95b78f6ab63741f38160d481bae8b93c",
            "4b3bb07e6a9f4faa82857395ccf3061b",
            "1f2a33653ff74d04be147431d60b4875",
            "6939a984f916478c82ebf75092dff775",
            "96890ffe5e3b46e4bdd5e37675c2d4d5",
            "8105a97ee2d44c04a7c3d1ba88c95aa5",
            "0017a71a4e2c4333ad70563fa1cc0dbb",
            "91928bd88ecb4db78cd7b9f0b2da3dab",
            "02726244fe294dfc91705d3aea1ee34a",
            "13b486e7a14645b2a3d95791587f4e15",
            "b505a506665843a7bc2c087661552734",
            "1ef97750fab04d94a5249e3479d3ad25",
            "a35d37510dfe41acb072491585243a10",
            "994ba2fba2b843a2b32b0d5b0e0f91b0",
            "edece5d34cd049589be35e1cad4f0e63",
            "c597cd5309314d11a525d4796e7a1290",
            "ad5b981c5fcd4ac5b402eabdd9274ec2",
            "a62f758c40e647eb930bd718a76cf97e",
            "09825f7abbe6468a8020dd025db4cd24",
            "2243bf610a864fcdb0cc575335b0a3e6",
            "e395a502dbc944cbbff4821c9a971a4c",
            "167fc05249264515b4226a9e32661457",
            "85b45451867845c482fc2ccd3d1bfbb5",
            "387498dcf9df40c3824f5b7b0004f7ec",
            "53e89e422b5b43f39ad6c6aebbe08ec5",
            "c629480050f6438ca3fc1da31f5cedb8",
            "4a770c3ad5884568b12a41979f4f4377",
            "56808b84f21f4740a52c25c1521f930c",
            "2f57b7aa77134ac9b98168368768d6f5",
            "86a5e37b61114efabbca68dfd5a4405d",
            "ce48cb39a91b4dbbac00a55c7cccbd00",
            "ecfda3b2e73241a39cc59546e4ed346c",
            "6ce1b252bec44500b4be7d636be586a9",
            "d6ba776209204f06ac4c03d3575d33f8",
            "f84a68f3e69540a89245c26759292801",
            "554e64fa34814be9bdc9795591f0052c",
            "7e10bc3611ec4d96ab437d254ef43216",
            "4e66a767e6264fcbb988ccf804b36775",
            "5d66bd6948924ac6b21ce6be0363620e",
            "7a8a15c6433b48188dcc5ace4b55a89f",
            "031578ded9c94ea69847a08713e4d47a",
            "29643a1091e246fda43d0506175dcf4b",
            "e145c74114e84d14914c2892db533637",
            "405d85e35a7146a59cac4ab419ecc9d9",
            "88e4c2ab18604e2faf0d801ecb39a805",
            "e5571e02bc28411582144576ed2fd7bf",
            "966b17455b284789912a02e471242875",
            "d3dc4b7fc86a40a3971384c82fbdff3c",
            "f7187300a63c4f00a8c8733f66a0d1a6",
            "5eba0ffa4f46440c830815b42a3fb0af",
            "e680f37ea4b24a6f90a88d978ca6e3a6"
          ]
        }
      },
      "outputs": [
        {
          "output_type": "stream",
          "name": "stderr",
          "text": [
            "/usr/local/lib/python3.10/dist-packages/huggingface_hub/utils/_token.py:88: UserWarning: \n",
            "The secret `HF_TOKEN` does not exist in your Colab secrets.\n",
            "To authenticate with the Hugging Face Hub, create a token in your settings tab (https://huggingface.co/settings/tokens), set it as secret in your Google Colab and restart your session.\n",
            "You will be able to reuse this secret in all of your notebooks.\n",
            "Please note that authentication is recommended but still optional to access public models or datasets.\n",
            "  warnings.warn(\n"
          ]
        },
        {
          "output_type": "display_data",
          "data": {
            "text/plain": [
              "tokenizer_config.json:   0%|          | 0.00/48.0 [00:00<?, ?B/s]"
            ],
            "application/vnd.jupyter.widget-view+json": {
              "version_major": 2,
              "version_minor": 0,
              "model_id": "ffd11c9d18c443589c900b6a65111d5b"
            }
          },
          "metadata": {}
        },
        {
          "output_type": "display_data",
          "data": {
            "text/plain": [
              "config.json:   0%|          | 0.00/570 [00:00<?, ?B/s]"
            ],
            "application/vnd.jupyter.widget-view+json": {
              "version_major": 2,
              "version_minor": 0,
              "model_id": "91928bd88ecb4db78cd7b9f0b2da3dab"
            }
          },
          "metadata": {}
        },
        {
          "output_type": "display_data",
          "data": {
            "text/plain": [
              "vocab.txt:   0%|          | 0.00/232k [00:00<?, ?B/s]"
            ],
            "application/vnd.jupyter.widget-view+json": {
              "version_major": 2,
              "version_minor": 0,
              "model_id": "09825f7abbe6468a8020dd025db4cd24"
            }
          },
          "metadata": {}
        },
        {
          "output_type": "display_data",
          "data": {
            "text/plain": [
              "tokenizer.json:   0%|          | 0.00/466k [00:00<?, ?B/s]"
            ],
            "application/vnd.jupyter.widget-view+json": {
              "version_major": 2,
              "version_minor": 0,
              "model_id": "86a5e37b61114efabbca68dfd5a4405d"
            }
          },
          "metadata": {}
        },
        {
          "output_type": "display_data",
          "data": {
            "text/plain": [
              "config.json:   0%|          | 0.00/153k [00:00<?, ?B/s]"
            ],
            "application/vnd.jupyter.widget-view+json": {
              "version_major": 2,
              "version_minor": 0,
              "model_id": "031578ded9c94ea69847a08713e4d47a"
            }
          },
          "metadata": {}
        }
      ],
      "source": [
        "# Pre-trained base case for VQA provided in documentation\n",
        "# tokenizer = AutoTokenizer.from_pretrained(\"deepset/bert-base-cased-squad2\")\n",
        "# bertModel = BertForQuestionAnswering.from_pretrained(\"deepset/bert-base-cased-squad2\")\n",
        "tokenizer = AutoTokenizer.from_pretrained(\"google-bert/bert-base-uncased\")\n",
        "# Modify the visual embedding config so that size of the features matches\n",
        "configuration = VisualBertConfig.from_pretrained(\"uclanlp/visualbert-vqa\",\n",
        "                                                 visual_embedding_dim=512,\n",
        "                                                 num_labels=answers_ids_tensor.shape[0])\n",
        "visualBert = VisualBertForQuestionAnswering(configuration)"
      ]
    },
    {
      "cell_type": "markdown",
      "metadata": {
        "id": "uzfYKLV5RrVi"
      },
      "source": [
        "## Training Loop"
      ]
    },
    {
      "cell_type": "code",
      "execution_count": 89,
      "metadata": {
        "id": "npW_X4I3c8dI"
      },
      "outputs": [],
      "source": [
        "# Create the VQA Model and pass it to the GPU\n",
        "vqa_model = VQAModel(resnet, visualBert, tokenizer)"
      ]
    },
    {
      "cell_type": "code",
      "execution_count": 90,
      "metadata": {
        "id": "NVeBMAK4dQuQ",
        "outputId": "c38af912-5bfc-4872-8306-60fd25462ccd",
        "colab": {
          "base_uri": "https://localhost:8080/"
        }
      },
      "outputs": [
        {
          "output_type": "execute_result",
          "data": {
            "text/plain": [
              "VQAModel(\n",
              "  (resnet): ResNet(\n",
              "    (conv1): Conv2d(3, 64, kernel_size=(7, 7), stride=(2, 2), padding=(3, 3), bias=False)\n",
              "    (bn1): BatchNorm2d(64, eps=1e-05, momentum=0.1, affine=True, track_running_stats=True)\n",
              "    (relu): ReLU(inplace=True)\n",
              "    (maxpool): MaxPool2d(kernel_size=3, stride=2, padding=1, dilation=1, ceil_mode=False)\n",
              "    (layer1): Sequential(\n",
              "      (0): BasicBlock(\n",
              "        (conv1): Conv2d(64, 64, kernel_size=(3, 3), stride=(1, 1), padding=(1, 1), bias=False)\n",
              "        (bn1): BatchNorm2d(64, eps=1e-05, momentum=0.1, affine=True, track_running_stats=True)\n",
              "        (relu): ReLU(inplace=True)\n",
              "        (conv2): Conv2d(64, 64, kernel_size=(3, 3), stride=(1, 1), padding=(1, 1), bias=False)\n",
              "        (bn2): BatchNorm2d(64, eps=1e-05, momentum=0.1, affine=True, track_running_stats=True)\n",
              "      )\n",
              "      (1): BasicBlock(\n",
              "        (conv1): Conv2d(64, 64, kernel_size=(3, 3), stride=(1, 1), padding=(1, 1), bias=False)\n",
              "        (bn1): BatchNorm2d(64, eps=1e-05, momentum=0.1, affine=True, track_running_stats=True)\n",
              "        (relu): ReLU(inplace=True)\n",
              "        (conv2): Conv2d(64, 64, kernel_size=(3, 3), stride=(1, 1), padding=(1, 1), bias=False)\n",
              "        (bn2): BatchNorm2d(64, eps=1e-05, momentum=0.1, affine=True, track_running_stats=True)\n",
              "      )\n",
              "    )\n",
              "    (layer2): Sequential(\n",
              "      (0): BasicBlock(\n",
              "        (conv1): Conv2d(64, 128, kernel_size=(3, 3), stride=(2, 2), padding=(1, 1), bias=False)\n",
              "        (bn1): BatchNorm2d(128, eps=1e-05, momentum=0.1, affine=True, track_running_stats=True)\n",
              "        (relu): ReLU(inplace=True)\n",
              "        (conv2): Conv2d(128, 128, kernel_size=(3, 3), stride=(1, 1), padding=(1, 1), bias=False)\n",
              "        (bn2): BatchNorm2d(128, eps=1e-05, momentum=0.1, affine=True, track_running_stats=True)\n",
              "        (downsample): Sequential(\n",
              "          (0): Conv2d(64, 128, kernel_size=(1, 1), stride=(2, 2), bias=False)\n",
              "          (1): BatchNorm2d(128, eps=1e-05, momentum=0.1, affine=True, track_running_stats=True)\n",
              "        )\n",
              "      )\n",
              "      (1): BasicBlock(\n",
              "        (conv1): Conv2d(128, 128, kernel_size=(3, 3), stride=(1, 1), padding=(1, 1), bias=False)\n",
              "        (bn1): BatchNorm2d(128, eps=1e-05, momentum=0.1, affine=True, track_running_stats=True)\n",
              "        (relu): ReLU(inplace=True)\n",
              "        (conv2): Conv2d(128, 128, kernel_size=(3, 3), stride=(1, 1), padding=(1, 1), bias=False)\n",
              "        (bn2): BatchNorm2d(128, eps=1e-05, momentum=0.1, affine=True, track_running_stats=True)\n",
              "      )\n",
              "    )\n",
              "    (layer3): Sequential(\n",
              "      (0): BasicBlock(\n",
              "        (conv1): Conv2d(128, 256, kernel_size=(3, 3), stride=(2, 2), padding=(1, 1), bias=False)\n",
              "        (bn1): BatchNorm2d(256, eps=1e-05, momentum=0.1, affine=True, track_running_stats=True)\n",
              "        (relu): ReLU(inplace=True)\n",
              "        (conv2): Conv2d(256, 256, kernel_size=(3, 3), stride=(1, 1), padding=(1, 1), bias=False)\n",
              "        (bn2): BatchNorm2d(256, eps=1e-05, momentum=0.1, affine=True, track_running_stats=True)\n",
              "        (downsample): Sequential(\n",
              "          (0): Conv2d(128, 256, kernel_size=(1, 1), stride=(2, 2), bias=False)\n",
              "          (1): BatchNorm2d(256, eps=1e-05, momentum=0.1, affine=True, track_running_stats=True)\n",
              "        )\n",
              "      )\n",
              "      (1): BasicBlock(\n",
              "        (conv1): Conv2d(256, 256, kernel_size=(3, 3), stride=(1, 1), padding=(1, 1), bias=False)\n",
              "        (bn1): BatchNorm2d(256, eps=1e-05, momentum=0.1, affine=True, track_running_stats=True)\n",
              "        (relu): ReLU(inplace=True)\n",
              "        (conv2): Conv2d(256, 256, kernel_size=(3, 3), stride=(1, 1), padding=(1, 1), bias=False)\n",
              "        (bn2): BatchNorm2d(256, eps=1e-05, momentum=0.1, affine=True, track_running_stats=True)\n",
              "      )\n",
              "    )\n",
              "    (layer4): Sequential(\n",
              "      (0): BasicBlock(\n",
              "        (conv1): Conv2d(256, 512, kernel_size=(3, 3), stride=(2, 2), padding=(1, 1), bias=False)\n",
              "        (bn1): BatchNorm2d(512, eps=1e-05, momentum=0.1, affine=True, track_running_stats=True)\n",
              "        (relu): ReLU(inplace=True)\n",
              "        (conv2): Conv2d(512, 512, kernel_size=(3, 3), stride=(1, 1), padding=(1, 1), bias=False)\n",
              "        (bn2): BatchNorm2d(512, eps=1e-05, momentum=0.1, affine=True, track_running_stats=True)\n",
              "        (downsample): Sequential(\n",
              "          (0): Conv2d(256, 512, kernel_size=(1, 1), stride=(2, 2), bias=False)\n",
              "          (1): BatchNorm2d(512, eps=1e-05, momentum=0.1, affine=True, track_running_stats=True)\n",
              "        )\n",
              "      )\n",
              "      (1): BasicBlock(\n",
              "        (conv1): Conv2d(512, 512, kernel_size=(3, 3), stride=(1, 1), padding=(1, 1), bias=False)\n",
              "        (bn1): BatchNorm2d(512, eps=1e-05, momentum=0.1, affine=True, track_running_stats=True)\n",
              "        (relu): ReLU(inplace=True)\n",
              "        (conv2): Conv2d(512, 512, kernel_size=(3, 3), stride=(1, 1), padding=(1, 1), bias=False)\n",
              "        (bn2): BatchNorm2d(512, eps=1e-05, momentum=0.1, affine=True, track_running_stats=True)\n",
              "      )\n",
              "    )\n",
              "    (avgpool): AdaptiveAvgPool2d(output_size=(1, 1))\n",
              "    (fc): Identity()\n",
              "  )\n",
              "  (vlm): VisualBertForQuestionAnswering(\n",
              "    (visual_bert): VisualBertModel(\n",
              "      (embeddings): VisualBertEmbeddings(\n",
              "        (word_embeddings): Embedding(30522, 768, padding_idx=1)\n",
              "        (position_embeddings): Embedding(512, 768)\n",
              "        (token_type_embeddings): Embedding(2, 768)\n",
              "        (LayerNorm): LayerNorm((768,), eps=1e-12, elementwise_affine=True)\n",
              "        (dropout): Dropout(p=0.1, inplace=False)\n",
              "        (visual_token_type_embeddings): Embedding(2, 768)\n",
              "        (visual_position_embeddings): Embedding(512, 768)\n",
              "        (visual_projection): Linear(in_features=512, out_features=768, bias=True)\n",
              "      )\n",
              "      (encoder): VisualBertEncoder(\n",
              "        (layer): ModuleList(\n",
              "          (0-11): 12 x VisualBertLayer(\n",
              "            (attention): VisualBertAttention(\n",
              "              (self): VisualBertSelfAttention(\n",
              "                (query): Linear(in_features=768, out_features=768, bias=True)\n",
              "                (key): Linear(in_features=768, out_features=768, bias=True)\n",
              "                (value): Linear(in_features=768, out_features=768, bias=True)\n",
              "                (dropout): Dropout(p=0.1, inplace=False)\n",
              "              )\n",
              "              (output): VisualBertSelfOutput(\n",
              "                (dense): Linear(in_features=768, out_features=768, bias=True)\n",
              "                (LayerNorm): LayerNorm((768,), eps=1e-12, elementwise_affine=True)\n",
              "                (dropout): Dropout(p=0.1, inplace=False)\n",
              "              )\n",
              "            )\n",
              "            (intermediate): VisualBertIntermediate(\n",
              "              (dense): Linear(in_features=768, out_features=3072, bias=True)\n",
              "              (intermediate_act_fn): GELUActivation()\n",
              "            )\n",
              "            (output): VisualBertOutput(\n",
              "              (dense): Linear(in_features=3072, out_features=768, bias=True)\n",
              "              (LayerNorm): LayerNorm((768,), eps=1e-12, elementwise_affine=True)\n",
              "              (dropout): Dropout(p=0.1, inplace=False)\n",
              "            )\n",
              "          )\n",
              "        )\n",
              "      )\n",
              "      (pooler): VisualBertPooler(\n",
              "        (dense): Linear(in_features=768, out_features=768, bias=True)\n",
              "        (activation): Tanh()\n",
              "      )\n",
              "    )\n",
              "    (dropout): Dropout(p=0.1, inplace=False)\n",
              "    (cls): Linear(in_features=768, out_features=102, bias=True)\n",
              "  )\n",
              ")"
            ]
          },
          "metadata": {},
          "execution_count": 90
        }
      ],
      "source": [
        "device = torch.device(\"cuda\" if torch.cuda.is_available() else \"cpu\")\n",
        "vqa_model.to(device)"
      ]
    },
    {
      "cell_type": "code",
      "execution_count": 91,
      "metadata": {
        "id": "rBFSlcm-dQiS"
      },
      "outputs": [],
      "source": [
        "# Define hyperparameters\n",
        "learning_rate = 1e-7\n",
        "num_epochs = 4"
      ]
    },
    {
      "cell_type": "code",
      "execution_count": 92,
      "metadata": {
        "id": "xrFgqLKddlJk"
      },
      "outputs": [],
      "source": [
        "# Define optimizer\n",
        "optimizer = torch.optim.AdamW(filter(lambda p: p.requires_grad, vqa_model.parameters()), lr=learning_rate)"
      ]
    },
    {
      "cell_type": "code",
      "source": [
        "# Set the model in training mode\n",
        "vqa_model.train()\n",
        "# Training loop\n",
        "for epoch in range(num_epochs):\n",
        "    total_loss = 0.0\n",
        "    num_batches = 0\n",
        "    for images, questions, answers in tqdm(pizarro_dataloader, desc=f'Epoch {epoch+1}/{num_epochs}', unit='batch'):\n",
        "\n",
        "        optimizer.zero_grad()\n",
        "\n",
        "        # Forward pass\n",
        "        outputs, batch_loss = vqa_model(images, questions, pizarro_dataloader, answers_ids_tensor, training=True)\n",
        "\n",
        "        print()\n",
        "        print(batch_loss)\n",
        "        print(batch_loss.is_leaf)\n",
        "        print(batch_loss.dim() == 0)\n",
        "\n",
        "        # Backpropagation\n",
        "        batch_loss.backward()\n",
        "        # This is to help prevent the \"exploding gradients\" problem.\n",
        "        torch.nn.utils.clip_grad_norm_(vqa_model.parameters(), 1.0)\n",
        "        optimizer.step()\n",
        "\n",
        "        # Print gradients of model parameters\n",
        "        for name, param in vqa_model.named_parameters():\n",
        "            if param.grad is not None:\n",
        "                print(name, param.grad)\n",
        "\n",
        "        # break\n",
        "\n",
        "        # Accumulate the total loss and num of batches\n",
        "        total_loss += batch_loss.item()\n",
        "        num_batches += 1\n",
        "\n",
        "    # Aaverage training loss for the epoch\n",
        "    avg_loss = total_loss / num_batches\n",
        "    print(f\"Epoch {epoch + 1}, Average Loss: {avg_loss}\")\n",
        "\n",
        "    # Save trained model after each epoch\n",
        "    torch.save(vqa_model.state_dict(), f'trained_vqa_model_epoch{epoch+1}.pth')"
      ],
      "metadata": {
        "id": "DlztqtBiqfZB",
        "colab": {
          "base_uri": "https://localhost:8080/"
        },
        "outputId": "67e0ff46-d6c5-4f04-b66a-851c69d9dc3e"
      },
      "execution_count": null,
      "outputs": [
        {
          "output_type": "stream",
          "name": "stderr",
          "text": [
            "Epoch 1/4:   1%|          | 1/100 [00:41<1:08:32, 41.54s/batch]"
          ]
        },
        {
          "output_type": "stream",
          "name": "stdout",
          "text": [
            "\n",
            "tensor(229853.7969, device='cuda:0', requires_grad=True)\n",
            "True\n",
            "True\n"
          ]
        },
        {
          "output_type": "stream",
          "name": "stderr",
          "text": [
            "\rEpoch 1/4:   2%|▏         | 2/100 [01:22<1:07:32, 41.35s/batch]"
          ]
        },
        {
          "output_type": "stream",
          "name": "stdout",
          "text": [
            "\n",
            "tensor(229510.4062, device='cuda:0', requires_grad=True)\n",
            "True\n",
            "True\n"
          ]
        },
        {
          "output_type": "stream",
          "name": "stderr",
          "text": [
            "\rEpoch 1/4:   3%|▎         | 3/100 [02:06<1:08:38, 42.46s/batch]"
          ]
        },
        {
          "output_type": "stream",
          "name": "stdout",
          "text": [
            "\n",
            "tensor(229871.0781, device='cuda:0', requires_grad=True)\n",
            "True\n",
            "True\n"
          ]
        },
        {
          "output_type": "stream",
          "name": "stderr",
          "text": [
            "\rEpoch 1/4:   4%|▍         | 4/100 [02:50<1:08:55, 43.08s/batch]"
          ]
        },
        {
          "output_type": "stream",
          "name": "stdout",
          "text": [
            "\n",
            "tensor(229919.8594, device='cuda:0', requires_grad=True)\n",
            "True\n",
            "True\n"
          ]
        },
        {
          "output_type": "stream",
          "name": "stderr",
          "text": [
            "\rEpoch 1/4:   5%|▌         | 5/100 [03:32<1:07:43, 42.77s/batch]"
          ]
        },
        {
          "output_type": "stream",
          "name": "stdout",
          "text": [
            "\n",
            "tensor(229334.9219, device='cuda:0', requires_grad=True)\n",
            "True\n",
            "True\n"
          ]
        },
        {
          "output_type": "stream",
          "name": "stderr",
          "text": [
            "\rEpoch 1/4:   6%|▌         | 6/100 [04:15<1:07:04, 42.82s/batch]"
          ]
        },
        {
          "output_type": "stream",
          "name": "stdout",
          "text": [
            "\n",
            "tensor(229415.5469, device='cuda:0', requires_grad=True)\n",
            "True\n",
            "True\n"
          ]
        },
        {
          "output_type": "stream",
          "name": "stderr",
          "text": [
            "\rEpoch 1/4:   7%|▋         | 7/100 [04:58<1:06:19, 42.79s/batch]"
          ]
        },
        {
          "output_type": "stream",
          "name": "stdout",
          "text": [
            "\n",
            "tensor(229644.9531, device='cuda:0', requires_grad=True)\n",
            "True\n",
            "True\n"
          ]
        },
        {
          "output_type": "stream",
          "name": "stderr",
          "text": [
            "\rEpoch 1/4:   8%|▊         | 8/100 [05:40<1:05:19, 42.60s/batch]"
          ]
        },
        {
          "output_type": "stream",
          "name": "stdout",
          "text": [
            "\n",
            "tensor(229643.9688, device='cuda:0', requires_grad=True)\n",
            "True\n",
            "True\n"
          ]
        },
        {
          "output_type": "stream",
          "name": "stderr",
          "text": [
            "\rEpoch 1/4:   9%|▉         | 9/100 [06:21<1:03:42, 42.00s/batch]"
          ]
        },
        {
          "output_type": "stream",
          "name": "stdout",
          "text": [
            "\n",
            "tensor(229824.9375, device='cuda:0', requires_grad=True)\n",
            "True\n",
            "True\n"
          ]
        },
        {
          "output_type": "stream",
          "name": "stderr",
          "text": [
            "\rEpoch 1/4:  10%|█         | 10/100 [07:01<1:02:22, 41.59s/batch]"
          ]
        },
        {
          "output_type": "stream",
          "name": "stdout",
          "text": [
            "\n",
            "tensor(229531.1250, device='cuda:0', requires_grad=True)\n",
            "True\n",
            "True\n"
          ]
        },
        {
          "output_type": "stream",
          "name": "stderr",
          "text": [
            "\rEpoch 1/4:  11%|█         | 11/100 [07:43<1:01:48, 41.67s/batch]"
          ]
        },
        {
          "output_type": "stream",
          "name": "stdout",
          "text": [
            "\n",
            "tensor(230056.6406, device='cuda:0', requires_grad=True)\n",
            "True\n",
            "True\n"
          ]
        },
        {
          "output_type": "stream",
          "name": "stderr",
          "text": [
            "\rEpoch 1/4:  12%|█▏        | 12/100 [08:26<1:01:37, 42.02s/batch]"
          ]
        },
        {
          "output_type": "stream",
          "name": "stdout",
          "text": [
            "\n",
            "tensor(229635.7031, device='cuda:0', requires_grad=True)\n",
            "True\n",
            "True\n"
          ]
        },
        {
          "output_type": "stream",
          "name": "stderr",
          "text": [
            "\rEpoch 1/4:  13%|█▎        | 13/100 [09:09<1:01:16, 42.26s/batch]"
          ]
        },
        {
          "output_type": "stream",
          "name": "stdout",
          "text": [
            "\n",
            "tensor(229378.2969, device='cuda:0', requires_grad=True)\n",
            "True\n",
            "True\n"
          ]
        },
        {
          "output_type": "stream",
          "name": "stderr",
          "text": [
            "\rEpoch 1/4:  14%|█▍        | 14/100 [09:51<1:00:21, 42.11s/batch]"
          ]
        },
        {
          "output_type": "stream",
          "name": "stdout",
          "text": [
            "\n",
            "tensor(229722.6406, device='cuda:0', requires_grad=True)\n",
            "True\n",
            "True\n"
          ]
        },
        {
          "output_type": "stream",
          "name": "stderr",
          "text": [
            "\rEpoch 1/4:  15%|█▌        | 15/100 [10:34<1:00:06, 42.42s/batch]"
          ]
        },
        {
          "output_type": "stream",
          "name": "stdout",
          "text": [
            "\n",
            "tensor(229550.6719, device='cuda:0', requires_grad=True)\n",
            "True\n",
            "True\n"
          ]
        },
        {
          "output_type": "stream",
          "name": "stderr",
          "text": [
            "\rEpoch 1/4:  16%|█▌        | 16/100 [11:17<59:40, 42.62s/batch]  "
          ]
        },
        {
          "output_type": "stream",
          "name": "stdout",
          "text": [
            "\n",
            "tensor(229579.5781, device='cuda:0', requires_grad=True)\n",
            "True\n",
            "True\n"
          ]
        },
        {
          "output_type": "stream",
          "name": "stderr",
          "text": [
            "\rEpoch 1/4:  17%|█▋        | 17/100 [11:59<58:52, 42.57s/batch]"
          ]
        },
        {
          "output_type": "stream",
          "name": "stdout",
          "text": [
            "\n",
            "tensor(229645.7812, device='cuda:0', requires_grad=True)\n",
            "True\n",
            "True\n"
          ]
        },
        {
          "output_type": "stream",
          "name": "stderr",
          "text": [
            "\rEpoch 1/4:  18%|█▊        | 18/100 [12:41<57:50, 42.32s/batch]"
          ]
        },
        {
          "output_type": "stream",
          "name": "stdout",
          "text": [
            "\n",
            "tensor(229664.3281, device='cuda:0', requires_grad=True)\n",
            "True\n",
            "True\n"
          ]
        },
        {
          "output_type": "stream",
          "name": "stderr",
          "text": [
            "\rEpoch 1/4:  19%|█▉        | 19/100 [13:25<57:35, 42.66s/batch]"
          ]
        },
        {
          "output_type": "stream",
          "name": "stdout",
          "text": [
            "\n",
            "tensor(229399.9219, device='cuda:0', requires_grad=True)\n",
            "True\n",
            "True\n"
          ]
        },
        {
          "output_type": "stream",
          "name": "stderr",
          "text": [
            "\rEpoch 1/4:  20%|██        | 20/100 [14:08<57:10, 42.88s/batch]"
          ]
        },
        {
          "output_type": "stream",
          "name": "stdout",
          "text": [
            "\n",
            "tensor(229569.2656, device='cuda:0', requires_grad=True)\n",
            "True\n",
            "True\n"
          ]
        },
        {
          "output_type": "stream",
          "name": "stderr",
          "text": [
            "\rEpoch 1/4:  21%|██        | 21/100 [14:50<56:08, 42.64s/batch]"
          ]
        },
        {
          "output_type": "stream",
          "name": "stdout",
          "text": [
            "\n",
            "tensor(229585.8281, device='cuda:0', requires_grad=True)\n",
            "True\n",
            "True\n"
          ]
        },
        {
          "output_type": "stream",
          "name": "stderr",
          "text": [
            "\rEpoch 1/4:  22%|██▏       | 22/100 [15:34<55:45, 42.89s/batch]"
          ]
        },
        {
          "output_type": "stream",
          "name": "stdout",
          "text": [
            "\n",
            "tensor(229700.7031, device='cuda:0', requires_grad=True)\n",
            "True\n",
            "True\n"
          ]
        },
        {
          "output_type": "stream",
          "name": "stderr",
          "text": [
            "\rEpoch 1/4:  23%|██▎       | 23/100 [16:17<55:14, 43.04s/batch]"
          ]
        },
        {
          "output_type": "stream",
          "name": "stdout",
          "text": [
            "\n",
            "tensor(229739.5156, device='cuda:0', requires_grad=True)\n",
            "True\n",
            "True\n"
          ]
        },
        {
          "output_type": "stream",
          "name": "stderr",
          "text": [
            "\rEpoch 1/4:  24%|██▍       | 24/100 [16:59<54:13, 42.82s/batch]"
          ]
        },
        {
          "output_type": "stream",
          "name": "stdout",
          "text": [
            "\n",
            "tensor(229496.9688, device='cuda:0', requires_grad=True)\n",
            "True\n",
            "True\n"
          ]
        },
        {
          "output_type": "stream",
          "name": "stderr",
          "text": [
            "\rEpoch 1/4:  25%|██▌       | 25/100 [17:42<53:19, 42.67s/batch]"
          ]
        },
        {
          "output_type": "stream",
          "name": "stdout",
          "text": [
            "\n",
            "tensor(229971.7188, device='cuda:0', requires_grad=True)\n",
            "True\n",
            "True\n"
          ]
        },
        {
          "output_type": "stream",
          "name": "stderr",
          "text": [
            "\rEpoch 1/4:  26%|██▌       | 26/100 [18:25<52:48, 42.81s/batch]"
          ]
        },
        {
          "output_type": "stream",
          "name": "stdout",
          "text": [
            "\n",
            "tensor(229405.1719, device='cuda:0', requires_grad=True)\n",
            "True\n",
            "True\n"
          ]
        },
        {
          "output_type": "stream",
          "name": "stderr",
          "text": [
            "\rEpoch 1/4:  27%|██▋       | 27/100 [19:07<52:01, 42.76s/batch]"
          ]
        },
        {
          "output_type": "stream",
          "name": "stdout",
          "text": [
            "\n",
            "tensor(229542.8125, device='cuda:0', requires_grad=True)\n",
            "True\n",
            "True\n"
          ]
        },
        {
          "output_type": "stream",
          "name": "stderr",
          "text": [
            "\rEpoch 1/4:  28%|██▊       | 28/100 [19:49<50:48, 42.34s/batch]"
          ]
        },
        {
          "output_type": "stream",
          "name": "stdout",
          "text": [
            "\n",
            "tensor(229557.7344, device='cuda:0', requires_grad=True)\n",
            "True\n",
            "True\n"
          ]
        }
      ]
    },
    {
      "cell_type": "code",
      "source": [
        "# predictions = []\n",
        "# for image_idx in range(len(outputs)):\n",
        "#   image_answers = []\n",
        "#   for output in outputs[image_idx]:\n",
        "#       logits = output.logits\n",
        "#       probabilities = torch.softmax(logits, dim=-1)  # Apply softmax along the last dimension\n",
        "#       pred_index = torch.argmax(probabilities, dim=-1)  # Get the index of the maximum probability\n",
        "#       pred_label = id2label[pred_index.item()]\n",
        "#       image_answers.append(pred_label)\n",
        "#   predictions.append(image_answers)\n",
        "# predictions"
      ],
      "metadata": {
        "id": "yT4abmfGZWT2"
      },
      "execution_count": null,
      "outputs": []
    },
    {
      "cell_type": "code",
      "source": [
        "for param in vqa_model.parameters():\n",
        "      print(param.grad)"
      ],
      "metadata": {
        "id": "n7HOlCbka4uD",
        "colab": {
          "base_uri": "https://localhost:8080/"
        },
        "outputId": "9dc775f4-8bc4-4a77-f895-dead551ea93f"
      },
      "execution_count": 67,
      "outputs": [
        {
          "output_type": "stream",
          "name": "stdout",
          "text": [
            "None\n",
            "None\n",
            "None\n",
            "None\n",
            "None\n",
            "None\n",
            "None\n",
            "None\n",
            "None\n",
            "None\n",
            "None\n",
            "None\n",
            "None\n",
            "None\n",
            "None\n",
            "None\n",
            "None\n",
            "None\n",
            "None\n",
            "None\n",
            "None\n",
            "None\n",
            "None\n",
            "None\n",
            "None\n",
            "None\n",
            "None\n",
            "None\n",
            "None\n",
            "None\n",
            "None\n",
            "None\n",
            "None\n",
            "None\n",
            "None\n",
            "None\n",
            "None\n",
            "None\n",
            "None\n",
            "None\n",
            "None\n",
            "None\n",
            "None\n",
            "None\n",
            "None\n",
            "None\n",
            "None\n",
            "None\n",
            "None\n",
            "None\n",
            "None\n",
            "None\n",
            "None\n",
            "None\n",
            "None\n",
            "None\n",
            "None\n",
            "None\n",
            "None\n",
            "None\n",
            "None\n",
            "None\n",
            "None\n",
            "None\n",
            "None\n",
            "None\n",
            "None\n",
            "None\n",
            "None\n",
            "None\n",
            "None\n",
            "None\n",
            "None\n",
            "None\n",
            "None\n",
            "None\n",
            "None\n",
            "None\n",
            "None\n",
            "None\n",
            "None\n",
            "None\n",
            "None\n",
            "None\n",
            "None\n",
            "None\n",
            "None\n",
            "None\n",
            "None\n",
            "None\n",
            "None\n",
            "None\n",
            "None\n",
            "None\n",
            "None\n",
            "None\n",
            "None\n",
            "None\n",
            "None\n",
            "None\n",
            "None\n",
            "None\n",
            "None\n",
            "None\n",
            "None\n",
            "None\n",
            "None\n",
            "None\n",
            "None\n",
            "None\n",
            "None\n",
            "None\n",
            "None\n",
            "None\n",
            "None\n",
            "None\n",
            "None\n",
            "None\n",
            "None\n",
            "None\n",
            "None\n",
            "None\n",
            "None\n",
            "None\n",
            "None\n",
            "None\n",
            "None\n",
            "None\n",
            "None\n",
            "None\n",
            "None\n",
            "None\n",
            "None\n",
            "None\n",
            "None\n",
            "None\n",
            "None\n",
            "None\n",
            "None\n",
            "None\n",
            "None\n",
            "None\n",
            "None\n",
            "None\n",
            "None\n",
            "None\n",
            "None\n",
            "None\n",
            "None\n",
            "None\n",
            "None\n",
            "None\n",
            "None\n",
            "None\n",
            "None\n",
            "None\n",
            "None\n",
            "None\n",
            "None\n",
            "None\n",
            "None\n",
            "None\n",
            "None\n",
            "None\n",
            "None\n",
            "None\n",
            "None\n",
            "None\n",
            "None\n",
            "None\n",
            "None\n",
            "None\n",
            "None\n",
            "None\n",
            "None\n",
            "None\n",
            "None\n",
            "None\n",
            "None\n",
            "None\n",
            "None\n",
            "None\n",
            "None\n",
            "None\n",
            "None\n",
            "None\n",
            "None\n",
            "None\n",
            "None\n",
            "None\n",
            "None\n",
            "None\n",
            "None\n",
            "None\n",
            "None\n",
            "None\n",
            "None\n",
            "None\n",
            "None\n",
            "None\n",
            "None\n",
            "None\n",
            "None\n",
            "None\n",
            "None\n",
            "None\n",
            "None\n",
            "None\n",
            "None\n",
            "None\n",
            "None\n",
            "None\n",
            "None\n",
            "None\n",
            "None\n",
            "None\n",
            "None\n",
            "None\n",
            "None\n",
            "None\n",
            "None\n",
            "None\n",
            "None\n",
            "None\n",
            "None\n",
            "None\n",
            "None\n",
            "None\n",
            "None\n",
            "None\n",
            "None\n",
            "None\n",
            "None\n",
            "None\n",
            "None\n",
            "None\n",
            "None\n",
            "None\n",
            "None\n",
            "None\n",
            "None\n",
            "None\n",
            "None\n",
            "None\n",
            "None\n",
            "None\n",
            "None\n",
            "None\n",
            "None\n",
            "None\n",
            "None\n",
            "None\n",
            "None\n",
            "None\n",
            "None\n",
            "None\n",
            "None\n",
            "None\n",
            "None\n",
            "None\n",
            "None\n",
            "None\n",
            "None\n",
            "None\n",
            "None\n"
          ]
        }
      ]
    },
    {
      "cell_type": "code",
      "source": [
        "predictions = []\n",
        "for image_idx in range(len(outputs)):\n",
        "  image_answers = []\n",
        "  for output in outputs[image_idx]:\n",
        "      pred_label = id2label[output.item()]\n",
        "      image_answers.append(pred_label)\n",
        "  predictions.append(image_answers)\n",
        "predictions"
      ],
      "metadata": {
        "id": "bnFctXcJN8_A"
      },
      "execution_count": null,
      "outputs": []
    }
  ],
  "metadata": {
    "accelerator": "GPU",
    "colab": {
      "gpuType": "T4",
      "provenance": [],
      "include_colab_link": true
    },
    "kernelspec": {
      "display_name": "Python 3",
      "name": "python3"
    },
    "language_info": {
      "name": "python"
    },
    "widgets": {
      "application/vnd.jupyter.widget-state+json": {
        "ffd11c9d18c443589c900b6a65111d5b": {
          "model_module": "@jupyter-widgets/controls",
          "model_name": "HBoxModel",
          "model_module_version": "1.5.0",
          "state": {
            "_dom_classes": [],
            "_model_module": "@jupyter-widgets/controls",
            "_model_module_version": "1.5.0",
            "_model_name": "HBoxModel",
            "_view_count": null,
            "_view_module": "@jupyter-widgets/controls",
            "_view_module_version": "1.5.0",
            "_view_name": "HBoxView",
            "box_style": "",
            "children": [
              "IPY_MODEL_7b5997ccaf754c26b6f11a6c3597912a",
              "IPY_MODEL_77229e940e19434c9cd5d7e05fee2b66",
              "IPY_MODEL_62560b3205a44c03b9f5e58f955e5aac"
            ],
            "layout": "IPY_MODEL_95b78f6ab63741f38160d481bae8b93c"
          }
        },
        "7b5997ccaf754c26b6f11a6c3597912a": {
          "model_module": "@jupyter-widgets/controls",
          "model_name": "HTMLModel",
          "model_module_version": "1.5.0",
          "state": {
            "_dom_classes": [],
            "_model_module": "@jupyter-widgets/controls",
            "_model_module_version": "1.5.0",
            "_model_name": "HTMLModel",
            "_view_count": null,
            "_view_module": "@jupyter-widgets/controls",
            "_view_module_version": "1.5.0",
            "_view_name": "HTMLView",
            "description": "",
            "description_tooltip": null,
            "layout": "IPY_MODEL_4b3bb07e6a9f4faa82857395ccf3061b",
            "placeholder": "​",
            "style": "IPY_MODEL_1f2a33653ff74d04be147431d60b4875",
            "value": "tokenizer_config.json: 100%"
          }
        },
        "77229e940e19434c9cd5d7e05fee2b66": {
          "model_module": "@jupyter-widgets/controls",
          "model_name": "FloatProgressModel",
          "model_module_version": "1.5.0",
          "state": {
            "_dom_classes": [],
            "_model_module": "@jupyter-widgets/controls",
            "_model_module_version": "1.5.0",
            "_model_name": "FloatProgressModel",
            "_view_count": null,
            "_view_module": "@jupyter-widgets/controls",
            "_view_module_version": "1.5.0",
            "_view_name": "ProgressView",
            "bar_style": "success",
            "description": "",
            "description_tooltip": null,
            "layout": "IPY_MODEL_6939a984f916478c82ebf75092dff775",
            "max": 48,
            "min": 0,
            "orientation": "horizontal",
            "style": "IPY_MODEL_96890ffe5e3b46e4bdd5e37675c2d4d5",
            "value": 48
          }
        },
        "62560b3205a44c03b9f5e58f955e5aac": {
          "model_module": "@jupyter-widgets/controls",
          "model_name": "HTMLModel",
          "model_module_version": "1.5.0",
          "state": {
            "_dom_classes": [],
            "_model_module": "@jupyter-widgets/controls",
            "_model_module_version": "1.5.0",
            "_model_name": "HTMLModel",
            "_view_count": null,
            "_view_module": "@jupyter-widgets/controls",
            "_view_module_version": "1.5.0",
            "_view_name": "HTMLView",
            "description": "",
            "description_tooltip": null,
            "layout": "IPY_MODEL_8105a97ee2d44c04a7c3d1ba88c95aa5",
            "placeholder": "​",
            "style": "IPY_MODEL_0017a71a4e2c4333ad70563fa1cc0dbb",
            "value": " 48.0/48.0 [00:00&lt;00:00, 3.31kB/s]"
          }
        },
        "95b78f6ab63741f38160d481bae8b93c": {
          "model_module": "@jupyter-widgets/base",
          "model_name": "LayoutModel",
          "model_module_version": "1.2.0",
          "state": {
            "_model_module": "@jupyter-widgets/base",
            "_model_module_version": "1.2.0",
            "_model_name": "LayoutModel",
            "_view_count": null,
            "_view_module": "@jupyter-widgets/base",
            "_view_module_version": "1.2.0",
            "_view_name": "LayoutView",
            "align_content": null,
            "align_items": null,
            "align_self": null,
            "border": null,
            "bottom": null,
            "display": null,
            "flex": null,
            "flex_flow": null,
            "grid_area": null,
            "grid_auto_columns": null,
            "grid_auto_flow": null,
            "grid_auto_rows": null,
            "grid_column": null,
            "grid_gap": null,
            "grid_row": null,
            "grid_template_areas": null,
            "grid_template_columns": null,
            "grid_template_rows": null,
            "height": null,
            "justify_content": null,
            "justify_items": null,
            "left": null,
            "margin": null,
            "max_height": null,
            "max_width": null,
            "min_height": null,
            "min_width": null,
            "object_fit": null,
            "object_position": null,
            "order": null,
            "overflow": null,
            "overflow_x": null,
            "overflow_y": null,
            "padding": null,
            "right": null,
            "top": null,
            "visibility": null,
            "width": null
          }
        },
        "4b3bb07e6a9f4faa82857395ccf3061b": {
          "model_module": "@jupyter-widgets/base",
          "model_name": "LayoutModel",
          "model_module_version": "1.2.0",
          "state": {
            "_model_module": "@jupyter-widgets/base",
            "_model_module_version": "1.2.0",
            "_model_name": "LayoutModel",
            "_view_count": null,
            "_view_module": "@jupyter-widgets/base",
            "_view_module_version": "1.2.0",
            "_view_name": "LayoutView",
            "align_content": null,
            "align_items": null,
            "align_self": null,
            "border": null,
            "bottom": null,
            "display": null,
            "flex": null,
            "flex_flow": null,
            "grid_area": null,
            "grid_auto_columns": null,
            "grid_auto_flow": null,
            "grid_auto_rows": null,
            "grid_column": null,
            "grid_gap": null,
            "grid_row": null,
            "grid_template_areas": null,
            "grid_template_columns": null,
            "grid_template_rows": null,
            "height": null,
            "justify_content": null,
            "justify_items": null,
            "left": null,
            "margin": null,
            "max_height": null,
            "max_width": null,
            "min_height": null,
            "min_width": null,
            "object_fit": null,
            "object_position": null,
            "order": null,
            "overflow": null,
            "overflow_x": null,
            "overflow_y": null,
            "padding": null,
            "right": null,
            "top": null,
            "visibility": null,
            "width": null
          }
        },
        "1f2a33653ff74d04be147431d60b4875": {
          "model_module": "@jupyter-widgets/controls",
          "model_name": "DescriptionStyleModel",
          "model_module_version": "1.5.0",
          "state": {
            "_model_module": "@jupyter-widgets/controls",
            "_model_module_version": "1.5.0",
            "_model_name": "DescriptionStyleModel",
            "_view_count": null,
            "_view_module": "@jupyter-widgets/base",
            "_view_module_version": "1.2.0",
            "_view_name": "StyleView",
            "description_width": ""
          }
        },
        "6939a984f916478c82ebf75092dff775": {
          "model_module": "@jupyter-widgets/base",
          "model_name": "LayoutModel",
          "model_module_version": "1.2.0",
          "state": {
            "_model_module": "@jupyter-widgets/base",
            "_model_module_version": "1.2.0",
            "_model_name": "LayoutModel",
            "_view_count": null,
            "_view_module": "@jupyter-widgets/base",
            "_view_module_version": "1.2.0",
            "_view_name": "LayoutView",
            "align_content": null,
            "align_items": null,
            "align_self": null,
            "border": null,
            "bottom": null,
            "display": null,
            "flex": null,
            "flex_flow": null,
            "grid_area": null,
            "grid_auto_columns": null,
            "grid_auto_flow": null,
            "grid_auto_rows": null,
            "grid_column": null,
            "grid_gap": null,
            "grid_row": null,
            "grid_template_areas": null,
            "grid_template_columns": null,
            "grid_template_rows": null,
            "height": null,
            "justify_content": null,
            "justify_items": null,
            "left": null,
            "margin": null,
            "max_height": null,
            "max_width": null,
            "min_height": null,
            "min_width": null,
            "object_fit": null,
            "object_position": null,
            "order": null,
            "overflow": null,
            "overflow_x": null,
            "overflow_y": null,
            "padding": null,
            "right": null,
            "top": null,
            "visibility": null,
            "width": null
          }
        },
        "96890ffe5e3b46e4bdd5e37675c2d4d5": {
          "model_module": "@jupyter-widgets/controls",
          "model_name": "ProgressStyleModel",
          "model_module_version": "1.5.0",
          "state": {
            "_model_module": "@jupyter-widgets/controls",
            "_model_module_version": "1.5.0",
            "_model_name": "ProgressStyleModel",
            "_view_count": null,
            "_view_module": "@jupyter-widgets/base",
            "_view_module_version": "1.2.0",
            "_view_name": "StyleView",
            "bar_color": null,
            "description_width": ""
          }
        },
        "8105a97ee2d44c04a7c3d1ba88c95aa5": {
          "model_module": "@jupyter-widgets/base",
          "model_name": "LayoutModel",
          "model_module_version": "1.2.0",
          "state": {
            "_model_module": "@jupyter-widgets/base",
            "_model_module_version": "1.2.0",
            "_model_name": "LayoutModel",
            "_view_count": null,
            "_view_module": "@jupyter-widgets/base",
            "_view_module_version": "1.2.0",
            "_view_name": "LayoutView",
            "align_content": null,
            "align_items": null,
            "align_self": null,
            "border": null,
            "bottom": null,
            "display": null,
            "flex": null,
            "flex_flow": null,
            "grid_area": null,
            "grid_auto_columns": null,
            "grid_auto_flow": null,
            "grid_auto_rows": null,
            "grid_column": null,
            "grid_gap": null,
            "grid_row": null,
            "grid_template_areas": null,
            "grid_template_columns": null,
            "grid_template_rows": null,
            "height": null,
            "justify_content": null,
            "justify_items": null,
            "left": null,
            "margin": null,
            "max_height": null,
            "max_width": null,
            "min_height": null,
            "min_width": null,
            "object_fit": null,
            "object_position": null,
            "order": null,
            "overflow": null,
            "overflow_x": null,
            "overflow_y": null,
            "padding": null,
            "right": null,
            "top": null,
            "visibility": null,
            "width": null
          }
        },
        "0017a71a4e2c4333ad70563fa1cc0dbb": {
          "model_module": "@jupyter-widgets/controls",
          "model_name": "DescriptionStyleModel",
          "model_module_version": "1.5.0",
          "state": {
            "_model_module": "@jupyter-widgets/controls",
            "_model_module_version": "1.5.0",
            "_model_name": "DescriptionStyleModel",
            "_view_count": null,
            "_view_module": "@jupyter-widgets/base",
            "_view_module_version": "1.2.0",
            "_view_name": "StyleView",
            "description_width": ""
          }
        },
        "91928bd88ecb4db78cd7b9f0b2da3dab": {
          "model_module": "@jupyter-widgets/controls",
          "model_name": "HBoxModel",
          "model_module_version": "1.5.0",
          "state": {
            "_dom_classes": [],
            "_model_module": "@jupyter-widgets/controls",
            "_model_module_version": "1.5.0",
            "_model_name": "HBoxModel",
            "_view_count": null,
            "_view_module": "@jupyter-widgets/controls",
            "_view_module_version": "1.5.0",
            "_view_name": "HBoxView",
            "box_style": "",
            "children": [
              "IPY_MODEL_02726244fe294dfc91705d3aea1ee34a",
              "IPY_MODEL_13b486e7a14645b2a3d95791587f4e15",
              "IPY_MODEL_b505a506665843a7bc2c087661552734"
            ],
            "layout": "IPY_MODEL_1ef97750fab04d94a5249e3479d3ad25"
          }
        },
        "02726244fe294dfc91705d3aea1ee34a": {
          "model_module": "@jupyter-widgets/controls",
          "model_name": "HTMLModel",
          "model_module_version": "1.5.0",
          "state": {
            "_dom_classes": [],
            "_model_module": "@jupyter-widgets/controls",
            "_model_module_version": "1.5.0",
            "_model_name": "HTMLModel",
            "_view_count": null,
            "_view_module": "@jupyter-widgets/controls",
            "_view_module_version": "1.5.0",
            "_view_name": "HTMLView",
            "description": "",
            "description_tooltip": null,
            "layout": "IPY_MODEL_a35d37510dfe41acb072491585243a10",
            "placeholder": "​",
            "style": "IPY_MODEL_994ba2fba2b843a2b32b0d5b0e0f91b0",
            "value": "config.json: 100%"
          }
        },
        "13b486e7a14645b2a3d95791587f4e15": {
          "model_module": "@jupyter-widgets/controls",
          "model_name": "FloatProgressModel",
          "model_module_version": "1.5.0",
          "state": {
            "_dom_classes": [],
            "_model_module": "@jupyter-widgets/controls",
            "_model_module_version": "1.5.0",
            "_model_name": "FloatProgressModel",
            "_view_count": null,
            "_view_module": "@jupyter-widgets/controls",
            "_view_module_version": "1.5.0",
            "_view_name": "ProgressView",
            "bar_style": "success",
            "description": "",
            "description_tooltip": null,
            "layout": "IPY_MODEL_edece5d34cd049589be35e1cad4f0e63",
            "max": 570,
            "min": 0,
            "orientation": "horizontal",
            "style": "IPY_MODEL_c597cd5309314d11a525d4796e7a1290",
            "value": 570
          }
        },
        "b505a506665843a7bc2c087661552734": {
          "model_module": "@jupyter-widgets/controls",
          "model_name": "HTMLModel",
          "model_module_version": "1.5.0",
          "state": {
            "_dom_classes": [],
            "_model_module": "@jupyter-widgets/controls",
            "_model_module_version": "1.5.0",
            "_model_name": "HTMLModel",
            "_view_count": null,
            "_view_module": "@jupyter-widgets/controls",
            "_view_module_version": "1.5.0",
            "_view_name": "HTMLView",
            "description": "",
            "description_tooltip": null,
            "layout": "IPY_MODEL_ad5b981c5fcd4ac5b402eabdd9274ec2",
            "placeholder": "​",
            "style": "IPY_MODEL_a62f758c40e647eb930bd718a76cf97e",
            "value": " 570/570 [00:00&lt;00:00, 48.8kB/s]"
          }
        },
        "1ef97750fab04d94a5249e3479d3ad25": {
          "model_module": "@jupyter-widgets/base",
          "model_name": "LayoutModel",
          "model_module_version": "1.2.0",
          "state": {
            "_model_module": "@jupyter-widgets/base",
            "_model_module_version": "1.2.0",
            "_model_name": "LayoutModel",
            "_view_count": null,
            "_view_module": "@jupyter-widgets/base",
            "_view_module_version": "1.2.0",
            "_view_name": "LayoutView",
            "align_content": null,
            "align_items": null,
            "align_self": null,
            "border": null,
            "bottom": null,
            "display": null,
            "flex": null,
            "flex_flow": null,
            "grid_area": null,
            "grid_auto_columns": null,
            "grid_auto_flow": null,
            "grid_auto_rows": null,
            "grid_column": null,
            "grid_gap": null,
            "grid_row": null,
            "grid_template_areas": null,
            "grid_template_columns": null,
            "grid_template_rows": null,
            "height": null,
            "justify_content": null,
            "justify_items": null,
            "left": null,
            "margin": null,
            "max_height": null,
            "max_width": null,
            "min_height": null,
            "min_width": null,
            "object_fit": null,
            "object_position": null,
            "order": null,
            "overflow": null,
            "overflow_x": null,
            "overflow_y": null,
            "padding": null,
            "right": null,
            "top": null,
            "visibility": null,
            "width": null
          }
        },
        "a35d37510dfe41acb072491585243a10": {
          "model_module": "@jupyter-widgets/base",
          "model_name": "LayoutModel",
          "model_module_version": "1.2.0",
          "state": {
            "_model_module": "@jupyter-widgets/base",
            "_model_module_version": "1.2.0",
            "_model_name": "LayoutModel",
            "_view_count": null,
            "_view_module": "@jupyter-widgets/base",
            "_view_module_version": "1.2.0",
            "_view_name": "LayoutView",
            "align_content": null,
            "align_items": null,
            "align_self": null,
            "border": null,
            "bottom": null,
            "display": null,
            "flex": null,
            "flex_flow": null,
            "grid_area": null,
            "grid_auto_columns": null,
            "grid_auto_flow": null,
            "grid_auto_rows": null,
            "grid_column": null,
            "grid_gap": null,
            "grid_row": null,
            "grid_template_areas": null,
            "grid_template_columns": null,
            "grid_template_rows": null,
            "height": null,
            "justify_content": null,
            "justify_items": null,
            "left": null,
            "margin": null,
            "max_height": null,
            "max_width": null,
            "min_height": null,
            "min_width": null,
            "object_fit": null,
            "object_position": null,
            "order": null,
            "overflow": null,
            "overflow_x": null,
            "overflow_y": null,
            "padding": null,
            "right": null,
            "top": null,
            "visibility": null,
            "width": null
          }
        },
        "994ba2fba2b843a2b32b0d5b0e0f91b0": {
          "model_module": "@jupyter-widgets/controls",
          "model_name": "DescriptionStyleModel",
          "model_module_version": "1.5.0",
          "state": {
            "_model_module": "@jupyter-widgets/controls",
            "_model_module_version": "1.5.0",
            "_model_name": "DescriptionStyleModel",
            "_view_count": null,
            "_view_module": "@jupyter-widgets/base",
            "_view_module_version": "1.2.0",
            "_view_name": "StyleView",
            "description_width": ""
          }
        },
        "edece5d34cd049589be35e1cad4f0e63": {
          "model_module": "@jupyter-widgets/base",
          "model_name": "LayoutModel",
          "model_module_version": "1.2.0",
          "state": {
            "_model_module": "@jupyter-widgets/base",
            "_model_module_version": "1.2.0",
            "_model_name": "LayoutModel",
            "_view_count": null,
            "_view_module": "@jupyter-widgets/base",
            "_view_module_version": "1.2.0",
            "_view_name": "LayoutView",
            "align_content": null,
            "align_items": null,
            "align_self": null,
            "border": null,
            "bottom": null,
            "display": null,
            "flex": null,
            "flex_flow": null,
            "grid_area": null,
            "grid_auto_columns": null,
            "grid_auto_flow": null,
            "grid_auto_rows": null,
            "grid_column": null,
            "grid_gap": null,
            "grid_row": null,
            "grid_template_areas": null,
            "grid_template_columns": null,
            "grid_template_rows": null,
            "height": null,
            "justify_content": null,
            "justify_items": null,
            "left": null,
            "margin": null,
            "max_height": null,
            "max_width": null,
            "min_height": null,
            "min_width": null,
            "object_fit": null,
            "object_position": null,
            "order": null,
            "overflow": null,
            "overflow_x": null,
            "overflow_y": null,
            "padding": null,
            "right": null,
            "top": null,
            "visibility": null,
            "width": null
          }
        },
        "c597cd5309314d11a525d4796e7a1290": {
          "model_module": "@jupyter-widgets/controls",
          "model_name": "ProgressStyleModel",
          "model_module_version": "1.5.0",
          "state": {
            "_model_module": "@jupyter-widgets/controls",
            "_model_module_version": "1.5.0",
            "_model_name": "ProgressStyleModel",
            "_view_count": null,
            "_view_module": "@jupyter-widgets/base",
            "_view_module_version": "1.2.0",
            "_view_name": "StyleView",
            "bar_color": null,
            "description_width": ""
          }
        },
        "ad5b981c5fcd4ac5b402eabdd9274ec2": {
          "model_module": "@jupyter-widgets/base",
          "model_name": "LayoutModel",
          "model_module_version": "1.2.0",
          "state": {
            "_model_module": "@jupyter-widgets/base",
            "_model_module_version": "1.2.0",
            "_model_name": "LayoutModel",
            "_view_count": null,
            "_view_module": "@jupyter-widgets/base",
            "_view_module_version": "1.2.0",
            "_view_name": "LayoutView",
            "align_content": null,
            "align_items": null,
            "align_self": null,
            "border": null,
            "bottom": null,
            "display": null,
            "flex": null,
            "flex_flow": null,
            "grid_area": null,
            "grid_auto_columns": null,
            "grid_auto_flow": null,
            "grid_auto_rows": null,
            "grid_column": null,
            "grid_gap": null,
            "grid_row": null,
            "grid_template_areas": null,
            "grid_template_columns": null,
            "grid_template_rows": null,
            "height": null,
            "justify_content": null,
            "justify_items": null,
            "left": null,
            "margin": null,
            "max_height": null,
            "max_width": null,
            "min_height": null,
            "min_width": null,
            "object_fit": null,
            "object_position": null,
            "order": null,
            "overflow": null,
            "overflow_x": null,
            "overflow_y": null,
            "padding": null,
            "right": null,
            "top": null,
            "visibility": null,
            "width": null
          }
        },
        "a62f758c40e647eb930bd718a76cf97e": {
          "model_module": "@jupyter-widgets/controls",
          "model_name": "DescriptionStyleModel",
          "model_module_version": "1.5.0",
          "state": {
            "_model_module": "@jupyter-widgets/controls",
            "_model_module_version": "1.5.0",
            "_model_name": "DescriptionStyleModel",
            "_view_count": null,
            "_view_module": "@jupyter-widgets/base",
            "_view_module_version": "1.2.0",
            "_view_name": "StyleView",
            "description_width": ""
          }
        },
        "09825f7abbe6468a8020dd025db4cd24": {
          "model_module": "@jupyter-widgets/controls",
          "model_name": "HBoxModel",
          "model_module_version": "1.5.0",
          "state": {
            "_dom_classes": [],
            "_model_module": "@jupyter-widgets/controls",
            "_model_module_version": "1.5.0",
            "_model_name": "HBoxModel",
            "_view_count": null,
            "_view_module": "@jupyter-widgets/controls",
            "_view_module_version": "1.5.0",
            "_view_name": "HBoxView",
            "box_style": "",
            "children": [
              "IPY_MODEL_2243bf610a864fcdb0cc575335b0a3e6",
              "IPY_MODEL_e395a502dbc944cbbff4821c9a971a4c",
              "IPY_MODEL_167fc05249264515b4226a9e32661457"
            ],
            "layout": "IPY_MODEL_85b45451867845c482fc2ccd3d1bfbb5"
          }
        },
        "2243bf610a864fcdb0cc575335b0a3e6": {
          "model_module": "@jupyter-widgets/controls",
          "model_name": "HTMLModel",
          "model_module_version": "1.5.0",
          "state": {
            "_dom_classes": [],
            "_model_module": "@jupyter-widgets/controls",
            "_model_module_version": "1.5.0",
            "_model_name": "HTMLModel",
            "_view_count": null,
            "_view_module": "@jupyter-widgets/controls",
            "_view_module_version": "1.5.0",
            "_view_name": "HTMLView",
            "description": "",
            "description_tooltip": null,
            "layout": "IPY_MODEL_387498dcf9df40c3824f5b7b0004f7ec",
            "placeholder": "​",
            "style": "IPY_MODEL_53e89e422b5b43f39ad6c6aebbe08ec5",
            "value": "vocab.txt: 100%"
          }
        },
        "e395a502dbc944cbbff4821c9a971a4c": {
          "model_module": "@jupyter-widgets/controls",
          "model_name": "FloatProgressModel",
          "model_module_version": "1.5.0",
          "state": {
            "_dom_classes": [],
            "_model_module": "@jupyter-widgets/controls",
            "_model_module_version": "1.5.0",
            "_model_name": "FloatProgressModel",
            "_view_count": null,
            "_view_module": "@jupyter-widgets/controls",
            "_view_module_version": "1.5.0",
            "_view_name": "ProgressView",
            "bar_style": "success",
            "description": "",
            "description_tooltip": null,
            "layout": "IPY_MODEL_c629480050f6438ca3fc1da31f5cedb8",
            "max": 231508,
            "min": 0,
            "orientation": "horizontal",
            "style": "IPY_MODEL_4a770c3ad5884568b12a41979f4f4377",
            "value": 231508
          }
        },
        "167fc05249264515b4226a9e32661457": {
          "model_module": "@jupyter-widgets/controls",
          "model_name": "HTMLModel",
          "model_module_version": "1.5.0",
          "state": {
            "_dom_classes": [],
            "_model_module": "@jupyter-widgets/controls",
            "_model_module_version": "1.5.0",
            "_model_name": "HTMLModel",
            "_view_count": null,
            "_view_module": "@jupyter-widgets/controls",
            "_view_module_version": "1.5.0",
            "_view_name": "HTMLView",
            "description": "",
            "description_tooltip": null,
            "layout": "IPY_MODEL_56808b84f21f4740a52c25c1521f930c",
            "placeholder": "​",
            "style": "IPY_MODEL_2f57b7aa77134ac9b98168368768d6f5",
            "value": " 232k/232k [00:00&lt;00:00, 6.53MB/s]"
          }
        },
        "85b45451867845c482fc2ccd3d1bfbb5": {
          "model_module": "@jupyter-widgets/base",
          "model_name": "LayoutModel",
          "model_module_version": "1.2.0",
          "state": {
            "_model_module": "@jupyter-widgets/base",
            "_model_module_version": "1.2.0",
            "_model_name": "LayoutModel",
            "_view_count": null,
            "_view_module": "@jupyter-widgets/base",
            "_view_module_version": "1.2.0",
            "_view_name": "LayoutView",
            "align_content": null,
            "align_items": null,
            "align_self": null,
            "border": null,
            "bottom": null,
            "display": null,
            "flex": null,
            "flex_flow": null,
            "grid_area": null,
            "grid_auto_columns": null,
            "grid_auto_flow": null,
            "grid_auto_rows": null,
            "grid_column": null,
            "grid_gap": null,
            "grid_row": null,
            "grid_template_areas": null,
            "grid_template_columns": null,
            "grid_template_rows": null,
            "height": null,
            "justify_content": null,
            "justify_items": null,
            "left": null,
            "margin": null,
            "max_height": null,
            "max_width": null,
            "min_height": null,
            "min_width": null,
            "object_fit": null,
            "object_position": null,
            "order": null,
            "overflow": null,
            "overflow_x": null,
            "overflow_y": null,
            "padding": null,
            "right": null,
            "top": null,
            "visibility": null,
            "width": null
          }
        },
        "387498dcf9df40c3824f5b7b0004f7ec": {
          "model_module": "@jupyter-widgets/base",
          "model_name": "LayoutModel",
          "model_module_version": "1.2.0",
          "state": {
            "_model_module": "@jupyter-widgets/base",
            "_model_module_version": "1.2.0",
            "_model_name": "LayoutModel",
            "_view_count": null,
            "_view_module": "@jupyter-widgets/base",
            "_view_module_version": "1.2.0",
            "_view_name": "LayoutView",
            "align_content": null,
            "align_items": null,
            "align_self": null,
            "border": null,
            "bottom": null,
            "display": null,
            "flex": null,
            "flex_flow": null,
            "grid_area": null,
            "grid_auto_columns": null,
            "grid_auto_flow": null,
            "grid_auto_rows": null,
            "grid_column": null,
            "grid_gap": null,
            "grid_row": null,
            "grid_template_areas": null,
            "grid_template_columns": null,
            "grid_template_rows": null,
            "height": null,
            "justify_content": null,
            "justify_items": null,
            "left": null,
            "margin": null,
            "max_height": null,
            "max_width": null,
            "min_height": null,
            "min_width": null,
            "object_fit": null,
            "object_position": null,
            "order": null,
            "overflow": null,
            "overflow_x": null,
            "overflow_y": null,
            "padding": null,
            "right": null,
            "top": null,
            "visibility": null,
            "width": null
          }
        },
        "53e89e422b5b43f39ad6c6aebbe08ec5": {
          "model_module": "@jupyter-widgets/controls",
          "model_name": "DescriptionStyleModel",
          "model_module_version": "1.5.0",
          "state": {
            "_model_module": "@jupyter-widgets/controls",
            "_model_module_version": "1.5.0",
            "_model_name": "DescriptionStyleModel",
            "_view_count": null,
            "_view_module": "@jupyter-widgets/base",
            "_view_module_version": "1.2.0",
            "_view_name": "StyleView",
            "description_width": ""
          }
        },
        "c629480050f6438ca3fc1da31f5cedb8": {
          "model_module": "@jupyter-widgets/base",
          "model_name": "LayoutModel",
          "model_module_version": "1.2.0",
          "state": {
            "_model_module": "@jupyter-widgets/base",
            "_model_module_version": "1.2.0",
            "_model_name": "LayoutModel",
            "_view_count": null,
            "_view_module": "@jupyter-widgets/base",
            "_view_module_version": "1.2.0",
            "_view_name": "LayoutView",
            "align_content": null,
            "align_items": null,
            "align_self": null,
            "border": null,
            "bottom": null,
            "display": null,
            "flex": null,
            "flex_flow": null,
            "grid_area": null,
            "grid_auto_columns": null,
            "grid_auto_flow": null,
            "grid_auto_rows": null,
            "grid_column": null,
            "grid_gap": null,
            "grid_row": null,
            "grid_template_areas": null,
            "grid_template_columns": null,
            "grid_template_rows": null,
            "height": null,
            "justify_content": null,
            "justify_items": null,
            "left": null,
            "margin": null,
            "max_height": null,
            "max_width": null,
            "min_height": null,
            "min_width": null,
            "object_fit": null,
            "object_position": null,
            "order": null,
            "overflow": null,
            "overflow_x": null,
            "overflow_y": null,
            "padding": null,
            "right": null,
            "top": null,
            "visibility": null,
            "width": null
          }
        },
        "4a770c3ad5884568b12a41979f4f4377": {
          "model_module": "@jupyter-widgets/controls",
          "model_name": "ProgressStyleModel",
          "model_module_version": "1.5.0",
          "state": {
            "_model_module": "@jupyter-widgets/controls",
            "_model_module_version": "1.5.0",
            "_model_name": "ProgressStyleModel",
            "_view_count": null,
            "_view_module": "@jupyter-widgets/base",
            "_view_module_version": "1.2.0",
            "_view_name": "StyleView",
            "bar_color": null,
            "description_width": ""
          }
        },
        "56808b84f21f4740a52c25c1521f930c": {
          "model_module": "@jupyter-widgets/base",
          "model_name": "LayoutModel",
          "model_module_version": "1.2.0",
          "state": {
            "_model_module": "@jupyter-widgets/base",
            "_model_module_version": "1.2.0",
            "_model_name": "LayoutModel",
            "_view_count": null,
            "_view_module": "@jupyter-widgets/base",
            "_view_module_version": "1.2.0",
            "_view_name": "LayoutView",
            "align_content": null,
            "align_items": null,
            "align_self": null,
            "border": null,
            "bottom": null,
            "display": null,
            "flex": null,
            "flex_flow": null,
            "grid_area": null,
            "grid_auto_columns": null,
            "grid_auto_flow": null,
            "grid_auto_rows": null,
            "grid_column": null,
            "grid_gap": null,
            "grid_row": null,
            "grid_template_areas": null,
            "grid_template_columns": null,
            "grid_template_rows": null,
            "height": null,
            "justify_content": null,
            "justify_items": null,
            "left": null,
            "margin": null,
            "max_height": null,
            "max_width": null,
            "min_height": null,
            "min_width": null,
            "object_fit": null,
            "object_position": null,
            "order": null,
            "overflow": null,
            "overflow_x": null,
            "overflow_y": null,
            "padding": null,
            "right": null,
            "top": null,
            "visibility": null,
            "width": null
          }
        },
        "2f57b7aa77134ac9b98168368768d6f5": {
          "model_module": "@jupyter-widgets/controls",
          "model_name": "DescriptionStyleModel",
          "model_module_version": "1.5.0",
          "state": {
            "_model_module": "@jupyter-widgets/controls",
            "_model_module_version": "1.5.0",
            "_model_name": "DescriptionStyleModel",
            "_view_count": null,
            "_view_module": "@jupyter-widgets/base",
            "_view_module_version": "1.2.0",
            "_view_name": "StyleView",
            "description_width": ""
          }
        },
        "86a5e37b61114efabbca68dfd5a4405d": {
          "model_module": "@jupyter-widgets/controls",
          "model_name": "HBoxModel",
          "model_module_version": "1.5.0",
          "state": {
            "_dom_classes": [],
            "_model_module": "@jupyter-widgets/controls",
            "_model_module_version": "1.5.0",
            "_model_name": "HBoxModel",
            "_view_count": null,
            "_view_module": "@jupyter-widgets/controls",
            "_view_module_version": "1.5.0",
            "_view_name": "HBoxView",
            "box_style": "",
            "children": [
              "IPY_MODEL_ce48cb39a91b4dbbac00a55c7cccbd00",
              "IPY_MODEL_ecfda3b2e73241a39cc59546e4ed346c",
              "IPY_MODEL_6ce1b252bec44500b4be7d636be586a9"
            ],
            "layout": "IPY_MODEL_d6ba776209204f06ac4c03d3575d33f8"
          }
        },
        "ce48cb39a91b4dbbac00a55c7cccbd00": {
          "model_module": "@jupyter-widgets/controls",
          "model_name": "HTMLModel",
          "model_module_version": "1.5.0",
          "state": {
            "_dom_classes": [],
            "_model_module": "@jupyter-widgets/controls",
            "_model_module_version": "1.5.0",
            "_model_name": "HTMLModel",
            "_view_count": null,
            "_view_module": "@jupyter-widgets/controls",
            "_view_module_version": "1.5.0",
            "_view_name": "HTMLView",
            "description": "",
            "description_tooltip": null,
            "layout": "IPY_MODEL_f84a68f3e69540a89245c26759292801",
            "placeholder": "​",
            "style": "IPY_MODEL_554e64fa34814be9bdc9795591f0052c",
            "value": "tokenizer.json: 100%"
          }
        },
        "ecfda3b2e73241a39cc59546e4ed346c": {
          "model_module": "@jupyter-widgets/controls",
          "model_name": "FloatProgressModel",
          "model_module_version": "1.5.0",
          "state": {
            "_dom_classes": [],
            "_model_module": "@jupyter-widgets/controls",
            "_model_module_version": "1.5.0",
            "_model_name": "FloatProgressModel",
            "_view_count": null,
            "_view_module": "@jupyter-widgets/controls",
            "_view_module_version": "1.5.0",
            "_view_name": "ProgressView",
            "bar_style": "success",
            "description": "",
            "description_tooltip": null,
            "layout": "IPY_MODEL_7e10bc3611ec4d96ab437d254ef43216",
            "max": 466062,
            "min": 0,
            "orientation": "horizontal",
            "style": "IPY_MODEL_4e66a767e6264fcbb988ccf804b36775",
            "value": 466062
          }
        },
        "6ce1b252bec44500b4be7d636be586a9": {
          "model_module": "@jupyter-widgets/controls",
          "model_name": "HTMLModel",
          "model_module_version": "1.5.0",
          "state": {
            "_dom_classes": [],
            "_model_module": "@jupyter-widgets/controls",
            "_model_module_version": "1.5.0",
            "_model_name": "HTMLModel",
            "_view_count": null,
            "_view_module": "@jupyter-widgets/controls",
            "_view_module_version": "1.5.0",
            "_view_name": "HTMLView",
            "description": "",
            "description_tooltip": null,
            "layout": "IPY_MODEL_5d66bd6948924ac6b21ce6be0363620e",
            "placeholder": "​",
            "style": "IPY_MODEL_7a8a15c6433b48188dcc5ace4b55a89f",
            "value": " 466k/466k [00:00&lt;00:00, 6.59MB/s]"
          }
        },
        "d6ba776209204f06ac4c03d3575d33f8": {
          "model_module": "@jupyter-widgets/base",
          "model_name": "LayoutModel",
          "model_module_version": "1.2.0",
          "state": {
            "_model_module": "@jupyter-widgets/base",
            "_model_module_version": "1.2.0",
            "_model_name": "LayoutModel",
            "_view_count": null,
            "_view_module": "@jupyter-widgets/base",
            "_view_module_version": "1.2.0",
            "_view_name": "LayoutView",
            "align_content": null,
            "align_items": null,
            "align_self": null,
            "border": null,
            "bottom": null,
            "display": null,
            "flex": null,
            "flex_flow": null,
            "grid_area": null,
            "grid_auto_columns": null,
            "grid_auto_flow": null,
            "grid_auto_rows": null,
            "grid_column": null,
            "grid_gap": null,
            "grid_row": null,
            "grid_template_areas": null,
            "grid_template_columns": null,
            "grid_template_rows": null,
            "height": null,
            "justify_content": null,
            "justify_items": null,
            "left": null,
            "margin": null,
            "max_height": null,
            "max_width": null,
            "min_height": null,
            "min_width": null,
            "object_fit": null,
            "object_position": null,
            "order": null,
            "overflow": null,
            "overflow_x": null,
            "overflow_y": null,
            "padding": null,
            "right": null,
            "top": null,
            "visibility": null,
            "width": null
          }
        },
        "f84a68f3e69540a89245c26759292801": {
          "model_module": "@jupyter-widgets/base",
          "model_name": "LayoutModel",
          "model_module_version": "1.2.0",
          "state": {
            "_model_module": "@jupyter-widgets/base",
            "_model_module_version": "1.2.0",
            "_model_name": "LayoutModel",
            "_view_count": null,
            "_view_module": "@jupyter-widgets/base",
            "_view_module_version": "1.2.0",
            "_view_name": "LayoutView",
            "align_content": null,
            "align_items": null,
            "align_self": null,
            "border": null,
            "bottom": null,
            "display": null,
            "flex": null,
            "flex_flow": null,
            "grid_area": null,
            "grid_auto_columns": null,
            "grid_auto_flow": null,
            "grid_auto_rows": null,
            "grid_column": null,
            "grid_gap": null,
            "grid_row": null,
            "grid_template_areas": null,
            "grid_template_columns": null,
            "grid_template_rows": null,
            "height": null,
            "justify_content": null,
            "justify_items": null,
            "left": null,
            "margin": null,
            "max_height": null,
            "max_width": null,
            "min_height": null,
            "min_width": null,
            "object_fit": null,
            "object_position": null,
            "order": null,
            "overflow": null,
            "overflow_x": null,
            "overflow_y": null,
            "padding": null,
            "right": null,
            "top": null,
            "visibility": null,
            "width": null
          }
        },
        "554e64fa34814be9bdc9795591f0052c": {
          "model_module": "@jupyter-widgets/controls",
          "model_name": "DescriptionStyleModel",
          "model_module_version": "1.5.0",
          "state": {
            "_model_module": "@jupyter-widgets/controls",
            "_model_module_version": "1.5.0",
            "_model_name": "DescriptionStyleModel",
            "_view_count": null,
            "_view_module": "@jupyter-widgets/base",
            "_view_module_version": "1.2.0",
            "_view_name": "StyleView",
            "description_width": ""
          }
        },
        "7e10bc3611ec4d96ab437d254ef43216": {
          "model_module": "@jupyter-widgets/base",
          "model_name": "LayoutModel",
          "model_module_version": "1.2.0",
          "state": {
            "_model_module": "@jupyter-widgets/base",
            "_model_module_version": "1.2.0",
            "_model_name": "LayoutModel",
            "_view_count": null,
            "_view_module": "@jupyter-widgets/base",
            "_view_module_version": "1.2.0",
            "_view_name": "LayoutView",
            "align_content": null,
            "align_items": null,
            "align_self": null,
            "border": null,
            "bottom": null,
            "display": null,
            "flex": null,
            "flex_flow": null,
            "grid_area": null,
            "grid_auto_columns": null,
            "grid_auto_flow": null,
            "grid_auto_rows": null,
            "grid_column": null,
            "grid_gap": null,
            "grid_row": null,
            "grid_template_areas": null,
            "grid_template_columns": null,
            "grid_template_rows": null,
            "height": null,
            "justify_content": null,
            "justify_items": null,
            "left": null,
            "margin": null,
            "max_height": null,
            "max_width": null,
            "min_height": null,
            "min_width": null,
            "object_fit": null,
            "object_position": null,
            "order": null,
            "overflow": null,
            "overflow_x": null,
            "overflow_y": null,
            "padding": null,
            "right": null,
            "top": null,
            "visibility": null,
            "width": null
          }
        },
        "4e66a767e6264fcbb988ccf804b36775": {
          "model_module": "@jupyter-widgets/controls",
          "model_name": "ProgressStyleModel",
          "model_module_version": "1.5.0",
          "state": {
            "_model_module": "@jupyter-widgets/controls",
            "_model_module_version": "1.5.0",
            "_model_name": "ProgressStyleModel",
            "_view_count": null,
            "_view_module": "@jupyter-widgets/base",
            "_view_module_version": "1.2.0",
            "_view_name": "StyleView",
            "bar_color": null,
            "description_width": ""
          }
        },
        "5d66bd6948924ac6b21ce6be0363620e": {
          "model_module": "@jupyter-widgets/base",
          "model_name": "LayoutModel",
          "model_module_version": "1.2.0",
          "state": {
            "_model_module": "@jupyter-widgets/base",
            "_model_module_version": "1.2.0",
            "_model_name": "LayoutModel",
            "_view_count": null,
            "_view_module": "@jupyter-widgets/base",
            "_view_module_version": "1.2.0",
            "_view_name": "LayoutView",
            "align_content": null,
            "align_items": null,
            "align_self": null,
            "border": null,
            "bottom": null,
            "display": null,
            "flex": null,
            "flex_flow": null,
            "grid_area": null,
            "grid_auto_columns": null,
            "grid_auto_flow": null,
            "grid_auto_rows": null,
            "grid_column": null,
            "grid_gap": null,
            "grid_row": null,
            "grid_template_areas": null,
            "grid_template_columns": null,
            "grid_template_rows": null,
            "height": null,
            "justify_content": null,
            "justify_items": null,
            "left": null,
            "margin": null,
            "max_height": null,
            "max_width": null,
            "min_height": null,
            "min_width": null,
            "object_fit": null,
            "object_position": null,
            "order": null,
            "overflow": null,
            "overflow_x": null,
            "overflow_y": null,
            "padding": null,
            "right": null,
            "top": null,
            "visibility": null,
            "width": null
          }
        },
        "7a8a15c6433b48188dcc5ace4b55a89f": {
          "model_module": "@jupyter-widgets/controls",
          "model_name": "DescriptionStyleModel",
          "model_module_version": "1.5.0",
          "state": {
            "_model_module": "@jupyter-widgets/controls",
            "_model_module_version": "1.5.0",
            "_model_name": "DescriptionStyleModel",
            "_view_count": null,
            "_view_module": "@jupyter-widgets/base",
            "_view_module_version": "1.2.0",
            "_view_name": "StyleView",
            "description_width": ""
          }
        },
        "031578ded9c94ea69847a08713e4d47a": {
          "model_module": "@jupyter-widgets/controls",
          "model_name": "HBoxModel",
          "model_module_version": "1.5.0",
          "state": {
            "_dom_classes": [],
            "_model_module": "@jupyter-widgets/controls",
            "_model_module_version": "1.5.0",
            "_model_name": "HBoxModel",
            "_view_count": null,
            "_view_module": "@jupyter-widgets/controls",
            "_view_module_version": "1.5.0",
            "_view_name": "HBoxView",
            "box_style": "",
            "children": [
              "IPY_MODEL_29643a1091e246fda43d0506175dcf4b",
              "IPY_MODEL_e145c74114e84d14914c2892db533637",
              "IPY_MODEL_405d85e35a7146a59cac4ab419ecc9d9"
            ],
            "layout": "IPY_MODEL_88e4c2ab18604e2faf0d801ecb39a805"
          }
        },
        "29643a1091e246fda43d0506175dcf4b": {
          "model_module": "@jupyter-widgets/controls",
          "model_name": "HTMLModel",
          "model_module_version": "1.5.0",
          "state": {
            "_dom_classes": [],
            "_model_module": "@jupyter-widgets/controls",
            "_model_module_version": "1.5.0",
            "_model_name": "HTMLModel",
            "_view_count": null,
            "_view_module": "@jupyter-widgets/controls",
            "_view_module_version": "1.5.0",
            "_view_name": "HTMLView",
            "description": "",
            "description_tooltip": null,
            "layout": "IPY_MODEL_e5571e02bc28411582144576ed2fd7bf",
            "placeholder": "​",
            "style": "IPY_MODEL_966b17455b284789912a02e471242875",
            "value": "config.json: 100%"
          }
        },
        "e145c74114e84d14914c2892db533637": {
          "model_module": "@jupyter-widgets/controls",
          "model_name": "FloatProgressModel",
          "model_module_version": "1.5.0",
          "state": {
            "_dom_classes": [],
            "_model_module": "@jupyter-widgets/controls",
            "_model_module_version": "1.5.0",
            "_model_name": "FloatProgressModel",
            "_view_count": null,
            "_view_module": "@jupyter-widgets/controls",
            "_view_module_version": "1.5.0",
            "_view_name": "ProgressView",
            "bar_style": "success",
            "description": "",
            "description_tooltip": null,
            "layout": "IPY_MODEL_d3dc4b7fc86a40a3971384c82fbdff3c",
            "max": 152687,
            "min": 0,
            "orientation": "horizontal",
            "style": "IPY_MODEL_f7187300a63c4f00a8c8733f66a0d1a6",
            "value": 152687
          }
        },
        "405d85e35a7146a59cac4ab419ecc9d9": {
          "model_module": "@jupyter-widgets/controls",
          "model_name": "HTMLModel",
          "model_module_version": "1.5.0",
          "state": {
            "_dom_classes": [],
            "_model_module": "@jupyter-widgets/controls",
            "_model_module_version": "1.5.0",
            "_model_name": "HTMLModel",
            "_view_count": null,
            "_view_module": "@jupyter-widgets/controls",
            "_view_module_version": "1.5.0",
            "_view_name": "HTMLView",
            "description": "",
            "description_tooltip": null,
            "layout": "IPY_MODEL_5eba0ffa4f46440c830815b42a3fb0af",
            "placeholder": "​",
            "style": "IPY_MODEL_e680f37ea4b24a6f90a88d978ca6e3a6",
            "value": " 153k/153k [00:00&lt;00:00, 5.04MB/s]"
          }
        },
        "88e4c2ab18604e2faf0d801ecb39a805": {
          "model_module": "@jupyter-widgets/base",
          "model_name": "LayoutModel",
          "model_module_version": "1.2.0",
          "state": {
            "_model_module": "@jupyter-widgets/base",
            "_model_module_version": "1.2.0",
            "_model_name": "LayoutModel",
            "_view_count": null,
            "_view_module": "@jupyter-widgets/base",
            "_view_module_version": "1.2.0",
            "_view_name": "LayoutView",
            "align_content": null,
            "align_items": null,
            "align_self": null,
            "border": null,
            "bottom": null,
            "display": null,
            "flex": null,
            "flex_flow": null,
            "grid_area": null,
            "grid_auto_columns": null,
            "grid_auto_flow": null,
            "grid_auto_rows": null,
            "grid_column": null,
            "grid_gap": null,
            "grid_row": null,
            "grid_template_areas": null,
            "grid_template_columns": null,
            "grid_template_rows": null,
            "height": null,
            "justify_content": null,
            "justify_items": null,
            "left": null,
            "margin": null,
            "max_height": null,
            "max_width": null,
            "min_height": null,
            "min_width": null,
            "object_fit": null,
            "object_position": null,
            "order": null,
            "overflow": null,
            "overflow_x": null,
            "overflow_y": null,
            "padding": null,
            "right": null,
            "top": null,
            "visibility": null,
            "width": null
          }
        },
        "e5571e02bc28411582144576ed2fd7bf": {
          "model_module": "@jupyter-widgets/base",
          "model_name": "LayoutModel",
          "model_module_version": "1.2.0",
          "state": {
            "_model_module": "@jupyter-widgets/base",
            "_model_module_version": "1.2.0",
            "_model_name": "LayoutModel",
            "_view_count": null,
            "_view_module": "@jupyter-widgets/base",
            "_view_module_version": "1.2.0",
            "_view_name": "LayoutView",
            "align_content": null,
            "align_items": null,
            "align_self": null,
            "border": null,
            "bottom": null,
            "display": null,
            "flex": null,
            "flex_flow": null,
            "grid_area": null,
            "grid_auto_columns": null,
            "grid_auto_flow": null,
            "grid_auto_rows": null,
            "grid_column": null,
            "grid_gap": null,
            "grid_row": null,
            "grid_template_areas": null,
            "grid_template_columns": null,
            "grid_template_rows": null,
            "height": null,
            "justify_content": null,
            "justify_items": null,
            "left": null,
            "margin": null,
            "max_height": null,
            "max_width": null,
            "min_height": null,
            "min_width": null,
            "object_fit": null,
            "object_position": null,
            "order": null,
            "overflow": null,
            "overflow_x": null,
            "overflow_y": null,
            "padding": null,
            "right": null,
            "top": null,
            "visibility": null,
            "width": null
          }
        },
        "966b17455b284789912a02e471242875": {
          "model_module": "@jupyter-widgets/controls",
          "model_name": "DescriptionStyleModel",
          "model_module_version": "1.5.0",
          "state": {
            "_model_module": "@jupyter-widgets/controls",
            "_model_module_version": "1.5.0",
            "_model_name": "DescriptionStyleModel",
            "_view_count": null,
            "_view_module": "@jupyter-widgets/base",
            "_view_module_version": "1.2.0",
            "_view_name": "StyleView",
            "description_width": ""
          }
        },
        "d3dc4b7fc86a40a3971384c82fbdff3c": {
          "model_module": "@jupyter-widgets/base",
          "model_name": "LayoutModel",
          "model_module_version": "1.2.0",
          "state": {
            "_model_module": "@jupyter-widgets/base",
            "_model_module_version": "1.2.0",
            "_model_name": "LayoutModel",
            "_view_count": null,
            "_view_module": "@jupyter-widgets/base",
            "_view_module_version": "1.2.0",
            "_view_name": "LayoutView",
            "align_content": null,
            "align_items": null,
            "align_self": null,
            "border": null,
            "bottom": null,
            "display": null,
            "flex": null,
            "flex_flow": null,
            "grid_area": null,
            "grid_auto_columns": null,
            "grid_auto_flow": null,
            "grid_auto_rows": null,
            "grid_column": null,
            "grid_gap": null,
            "grid_row": null,
            "grid_template_areas": null,
            "grid_template_columns": null,
            "grid_template_rows": null,
            "height": null,
            "justify_content": null,
            "justify_items": null,
            "left": null,
            "margin": null,
            "max_height": null,
            "max_width": null,
            "min_height": null,
            "min_width": null,
            "object_fit": null,
            "object_position": null,
            "order": null,
            "overflow": null,
            "overflow_x": null,
            "overflow_y": null,
            "padding": null,
            "right": null,
            "top": null,
            "visibility": null,
            "width": null
          }
        },
        "f7187300a63c4f00a8c8733f66a0d1a6": {
          "model_module": "@jupyter-widgets/controls",
          "model_name": "ProgressStyleModel",
          "model_module_version": "1.5.0",
          "state": {
            "_model_module": "@jupyter-widgets/controls",
            "_model_module_version": "1.5.0",
            "_model_name": "ProgressStyleModel",
            "_view_count": null,
            "_view_module": "@jupyter-widgets/base",
            "_view_module_version": "1.2.0",
            "_view_name": "StyleView",
            "bar_color": null,
            "description_width": ""
          }
        },
        "5eba0ffa4f46440c830815b42a3fb0af": {
          "model_module": "@jupyter-widgets/base",
          "model_name": "LayoutModel",
          "model_module_version": "1.2.0",
          "state": {
            "_model_module": "@jupyter-widgets/base",
            "_model_module_version": "1.2.0",
            "_model_name": "LayoutModel",
            "_view_count": null,
            "_view_module": "@jupyter-widgets/base",
            "_view_module_version": "1.2.0",
            "_view_name": "LayoutView",
            "align_content": null,
            "align_items": null,
            "align_self": null,
            "border": null,
            "bottom": null,
            "display": null,
            "flex": null,
            "flex_flow": null,
            "grid_area": null,
            "grid_auto_columns": null,
            "grid_auto_flow": null,
            "grid_auto_rows": null,
            "grid_column": null,
            "grid_gap": null,
            "grid_row": null,
            "grid_template_areas": null,
            "grid_template_columns": null,
            "grid_template_rows": null,
            "height": null,
            "justify_content": null,
            "justify_items": null,
            "left": null,
            "margin": null,
            "max_height": null,
            "max_width": null,
            "min_height": null,
            "min_width": null,
            "object_fit": null,
            "object_position": null,
            "order": null,
            "overflow": null,
            "overflow_x": null,
            "overflow_y": null,
            "padding": null,
            "right": null,
            "top": null,
            "visibility": null,
            "width": null
          }
        },
        "e680f37ea4b24a6f90a88d978ca6e3a6": {
          "model_module": "@jupyter-widgets/controls",
          "model_name": "DescriptionStyleModel",
          "model_module_version": "1.5.0",
          "state": {
            "_model_module": "@jupyter-widgets/controls",
            "_model_module_version": "1.5.0",
            "_model_name": "DescriptionStyleModel",
            "_view_count": null,
            "_view_module": "@jupyter-widgets/base",
            "_view_module_version": "1.2.0",
            "_view_name": "StyleView",
            "description_width": ""
          }
        }
      }
    }
  },
  "nbformat": 4,
  "nbformat_minor": 0
}